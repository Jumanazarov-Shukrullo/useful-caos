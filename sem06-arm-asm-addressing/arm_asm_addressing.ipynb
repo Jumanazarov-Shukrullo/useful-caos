{
 "cells": [
  {
   "cell_type": "code",
   "execution_count": 6,
   "metadata": {
    "scrolled": false
   },
   "outputs": [
    {
     "data": {
      "application/javascript": [
       "// setup cpp code highlighting\n",
       "IPython.CodeCell.options_default.highlight_modes[\"text/x-c++src\"] = {'reg':[/^%%cpp/]} ;IPython.CodeCell.options_default.highlight_modes[\"text/x-cmake\"] = {'reg':[/^%%cmake/]} ;"
      ],
      "text/plain": [
       "<IPython.core.display.Javascript object>"
      ]
     },
     "metadata": {},
     "output_type": "display_data"
    },
    {
     "data": {
      "text/html": [
       "<!-- YANDEX_METRICA_BEGIN -->\n",
       "    <script type=\"text/javascript\" >\n",
       "       (function(m,e,t,r,i,k,a){m[i]=m[i]||function(){(m[i].a=m[i].a||[]).push(arguments)};\n",
       "       m[i].l=1*new Date();k=e.createElement(t),a=e.getElementsByTagName(t)[0],k.async=1,k.src=r,a.parentNode.insertBefore(k,a)})\n",
       "       (window, document, \"script\", \"https://mc.yandex.ru/metrika/tag.js\", \"ym\");\n",
       "\n",
       "       ym(59260609, \"init\", {\n",
       "            clickmap:true,\n",
       "            trackLinks:true,\n",
       "            accurateTrackBounce:true\n",
       "       });\n",
       "    </script>\n",
       "    <noscript><div><img src=\"https://mc.yandex.ru/watch/59260609\" style=\"position:absolute; left:-9999px;\" alt=\"\" /></div></noscript>\n",
       "    <!-- YANDEX_METRICA_END -->"
      ],
      "text/plain": [
       "<IPython.core.display.HTML object>"
      ]
     },
     "metadata": {},
     "output_type": "display_data"
    },
    {
     "data": {
      "text/html": [
       "В этот ноутбук встроен код Яндекс Метрики для сбора статистики использований. Если вы не хотите, чтобы по вам собиралась статистика, исправьте: yandex_metrica_allowed = False<!-- MAGICS_SETUP_PRINTING_END -->"
      ],
      "text/plain": [
       "<IPython.core.display.HTML object>"
      ]
     },
     "metadata": {},
     "output_type": "display_data"
    }
   ],
   "source": [
    "# look at tools/set_up_magics.ipynb\n",
    "yandex_metrica_allowed = True ; get_ipython().run_cell('# one_liner_str\\n\\nget_ipython().run_cell_magic(\\'javascript\\', \\'\\', \\n    \\'// setup cpp code highlighting\\\\n\\'\\n    \\'IPython.CodeCell.options_default.highlight_modes[\"text/x-c++src\"] = {\\\\\\'reg\\\\\\':[/^%%cpp/]} ;\\'\\n    \\'IPython.CodeCell.options_default.highlight_modes[\"text/x-cmake\"] = {\\\\\\'reg\\\\\\':[/^%%cmake/]} ;\\'\\n)\\n\\n# creating magics\\nfrom IPython.core.magic import register_cell_magic, register_line_magic\\nfrom IPython.display import display, Markdown, HTML\\nimport argparse\\nfrom subprocess import Popen, PIPE\\nimport random\\nimport sys\\nimport os\\nimport re\\nimport signal\\nimport shutil\\nimport shlex\\nimport glob\\nimport time\\n\\n@register_cell_magic\\ndef save_file(args_str, cell, line_comment_start=\"#\"):\\n    parser = argparse.ArgumentParser()\\n    parser.add_argument(\"fname\")\\n    parser.add_argument(\"--ejudge-style\", action=\"store_true\")\\n    args = parser.parse_args(args_str.split())\\n    \\n    cell = cell if cell[-1] == \\'\\\\n\\' or args.no_eof_newline else cell + \"\\\\n\"\\n    cmds = []\\n    with open(args.fname, \"w\") as f:\\n        f.write(line_comment_start + \" %%cpp \" + args_str + \"\\\\n\")\\n        for line in cell.split(\"\\\\n\"):\\n            line_to_write = (line if not args.ejudge_style else line.rstrip()) + \"\\\\n\"\\n            if line.startswith(\"%\"):\\n                run_prefix = \"%run \"\\n                if line.startswith(run_prefix):\\n                    cmds.append(line[len(run_prefix):].strip())\\n                    f.write(line_comment_start + \" \" + line_to_write)\\n                    continue\\n                comment_prefix = \"%\" + line_comment_start\\n                if line.startswith(comment_prefix):\\n                    cmds.append(\\'#\\' + line[len(comment_prefix):].strip())\\n                    f.write(line_comment_start + \" \" + line_to_write)\\n                    continue\\n                raise Exception(\"Unknown %%save_file subcommand: \\'%s\\'\" % line)\\n            else:\\n                f.write(line_to_write)\\n        f.write(\"\" if not args.ejudge_style else line_comment_start + r\" line without \\\\n\")\\n    for cmd in cmds:\\n        if cmd.startswith(\\'#\\'):\\n            display(Markdown(\"\\\\#\\\\#\\\\#\\\\# `%s`\" % cmd[1:]))\\n        else:\\n            display(Markdown(\"Run: `%s`\" % cmd))\\n            get_ipython().system(cmd)\\n\\n@register_cell_magic\\ndef cpp(fname, cell):\\n    save_file(fname, cell, \"//\")\\n    \\n@register_cell_magic\\ndef cmake(fname, cell):\\n    save_file(fname, cell, \"#\")\\n\\n@register_cell_magic\\ndef asm(fname, cell):\\n    save_file(fname, cell, \"//\")\\n    \\n@register_cell_magic\\ndef makefile(fname, cell):\\n    fname = fname or \"makefile\"\\n    assert fname.endswith(\"makefile\")\\n    save_file(fname, cell.replace(\" \" * 4, \"\\\\t\"))\\n        \\n@register_line_magic\\ndef p(line):\\n    line = line.strip() \\n    if line[0] == \\'#\\':\\n        display(Markdown(line[1:].strip()))\\n    else:\\n        try:\\n            expr, comment = line.split(\" #\")\\n            display(Markdown(\"`{} = {}`  # {}\".format(expr.strip(), eval(expr), comment.strip())))\\n        except:\\n            display(Markdown(\"{} = {}\".format(line, eval(line))))\\n    \\n    \\ndef show_log_file(file, return_html_string=False):\\n    obj = file.replace(\\'.\\', \\'_\\').replace(\\'/\\', \\'_\\') + \"_obj\"\\n    html_string = \\'\\'\\'\\n        <!--MD_BEGIN_FILTER-->\\n        <script type=text/javascript>\\n        var entrance___OBJ__ = 0;\\n        var errors___OBJ__ = 0;\\n        function halt__OBJ__(elem, color)\\n        {\\n            elem.setAttribute(\"style\", \"font-size: 14px; background: \" + color + \"; padding: 10px; border: 3px; border-radius: 5px; color: white; \");                    \\n        }\\n        function refresh__OBJ__()\\n        {\\n            entrance___OBJ__ -= 1;\\n            if (entrance___OBJ__ < 0) {\\n                entrance___OBJ__ = 0;\\n            }\\n            var elem = document.getElementById(\"__OBJ__\");\\n            if (elem) {\\n                var xmlhttp=new XMLHttpRequest();\\n                xmlhttp.onreadystatechange=function()\\n                {\\n                    var elem = document.getElementById(\"__OBJ__\");\\n                    console.log(!!elem, xmlhttp.readyState, xmlhttp.status, entrance___OBJ__);\\n                    if (elem && xmlhttp.readyState==4) {\\n                        if (xmlhttp.status==200)\\n                        {\\n                            errors___OBJ__ = 0;\\n                            if (!entrance___OBJ__) {\\n                                if (elem.innerHTML != xmlhttp.responseText) {\\n                                    elem.innerHTML = xmlhttp.responseText;\\n                                }\\n                                if (elem.innerHTML.includes(\"Process finished.\")) {\\n                                    halt__OBJ__(elem, \"#333333\");\\n                                } else {\\n                                    entrance___OBJ__ += 1;\\n                                    console.log(\"req\");\\n                                    window.setTimeout(\"refresh__OBJ__()\", 300); \\n                                }\\n                            }\\n                            return xmlhttp.responseText;\\n                        } else {\\n                            errors___OBJ__ += 1;\\n                            if (!entrance___OBJ__) {\\n                                if (errors___OBJ__ < 6) {\\n                                    entrance___OBJ__ += 1;\\n                                    console.log(\"req\");\\n                                    window.setTimeout(\"refresh__OBJ__()\", 300); \\n                                } else {\\n                                    halt__OBJ__(elem, \"#994444\");\\n                                }\\n                            }\\n                        }\\n                    }\\n                }\\n                xmlhttp.open(\"GET\", \"__FILE__\", true);\\n                xmlhttp.setRequestHeader(\"Cache-Control\", \"no-cache\");\\n                xmlhttp.send();     \\n            }\\n        }\\n        \\n        if (!entrance___OBJ__) {\\n            entrance___OBJ__ += 1;\\n            refresh__OBJ__(); \\n        }\\n        </script>\\n\\n        <p id=\"__OBJ__\" style=\"font-size: 14px; background: #000000; padding: 10px; border: 3px; border-radius: 5px; color: white; \">\\n        </p>\\n        \\n        </font>\\n        <!--MD_END_FILTER-->\\n        <!--MD_FROM_FILE __FILE__.md -->\\n        \\'\\'\\'.replace(\"__OBJ__\", obj).replace(\"__FILE__\", file)\\n    if return_html_string:\\n        return html_string\\n    display(HTML(html_string))\\n\\n    \\nclass TInteractiveLauncher:\\n    tmp_path = \"./interactive_launcher_tmp\"\\n    def __init__(self, cmd):\\n        try:\\n            os.mkdir(TInteractiveLauncher.tmp_path)\\n        except:\\n            pass\\n        name = str(random.randint(0, 1e18))\\n        self.inq_path = os.path.join(TInteractiveLauncher.tmp_path, name + \".inq\")\\n        self.log_path = os.path.join(TInteractiveLauncher.tmp_path, name + \".log\")\\n        \\n        os.mkfifo(self.inq_path)\\n        open(self.log_path, \\'w\\').close()\\n        open(self.log_path + \".md\", \\'w\\').close()\\n\\n        self.pid = os.fork()\\n        if self.pid == -1:\\n            print(\"Error\")\\n        if self.pid == 0:\\n            exe_cands = glob.glob(\"../tools/launcher.py\") + glob.glob(\"../../tools/launcher.py\")\\n            assert(len(exe_cands) == 1)\\n            assert(os.execvp(\"python3\", [\"python3\", exe_cands[0], \"-l\", self.log_path, \"-i\", self.inq_path, \"-c\", cmd]) == 0)\\n        self.inq_f = open(self.inq_path, \"w\")\\n        interactive_launcher_opened_set.add(self.pid)\\n        show_log_file(self.log_path)\\n\\n    def write(self, s):\\n        s = s.encode()\\n        assert len(s) == os.write(self.inq_f.fileno(), s)\\n        \\n    def get_pid(self):\\n        n = 100\\n        for i in range(n):\\n            try:\\n                return int(re.findall(r\"PID = (\\\\d+)\", open(self.log_path).readline())[0])\\n            except:\\n                if i + 1 == n:\\n                    raise\\n                time.sleep(0.1)\\n        \\n    def input_queue_path(self):\\n        return self.inq_path\\n        \\n    def wait_stop(self, timeout):\\n        for i in range(int(timeout * 10)):\\n            wpid, status = os.waitpid(self.pid, os.WNOHANG)\\n            if wpid != 0:\\n                return True\\n            time.sleep(0.1)\\n        return False\\n        \\n    def close(self, timeout=3):\\n        self.inq_f.close()\\n        if not self.wait_stop(timeout):\\n            os.kill(self.get_pid(), signal.SIGKILL)\\n            os.waitpid(self.pid, 0)\\n        os.remove(self.inq_path)\\n        # os.remove(self.log_path)\\n        self.inq_path = None\\n        self.log_path = None \\n        interactive_launcher_opened_set.remove(self.pid)\\n        self.pid = None\\n        \\n    @staticmethod\\n    def terminate_all():\\n        if \"interactive_launcher_opened_set\" not in globals():\\n            globals()[\"interactive_launcher_opened_set\"] = set()\\n        global interactive_launcher_opened_set\\n        for pid in interactive_launcher_opened_set:\\n            print(\"Terminate pid=\" + str(pid), file=sys.stderr)\\n            os.kill(pid, signal.SIGKILL)\\n            os.waitpid(pid, 0)\\n        interactive_launcher_opened_set = set()\\n        if os.path.exists(TInteractiveLauncher.tmp_path):\\n            shutil.rmtree(TInteractiveLauncher.tmp_path)\\n    \\nTInteractiveLauncher.terminate_all()\\n   \\nyandex_metrica_allowed = bool(globals().get(\"yandex_metrica_allowed\", False))\\nif yandex_metrica_allowed:\\n    display(HTML(\\'\\'\\'<!-- YANDEX_METRICA_BEGIN -->\\n    <script type=\"text/javascript\" >\\n       (function(m,e,t,r,i,k,a){m[i]=m[i]||function(){(m[i].a=m[i].a||[]).push(arguments)};\\n       m[i].l=1*new Date();k=e.createElement(t),a=e.getElementsByTagName(t)[0],k.async=1,k.src=r,a.parentNode.insertBefore(k,a)})\\n       (window, document, \"script\", \"https://mc.yandex.ru/metrika/tag.js\", \"ym\");\\n\\n       ym(59260609, \"init\", {\\n            clickmap:true,\\n            trackLinks:true,\\n            accurateTrackBounce:true\\n       });\\n    </script>\\n    <noscript><div><img src=\"https://mc.yandex.ru/watch/59260609\" style=\"position:absolute; left:-9999px;\" alt=\"\" /></div></noscript>\\n    <!-- YANDEX_METRICA_END -->\\'\\'\\'))\\n\\ndef make_oneliner():\\n    html_text = \\'(\"В этот ноутбук встроен код Яндекс Метрики для сбора статистики использований. Если вы не хотите, чтобы по вам собиралась статистика, исправьте: yandex_metrica_allowed = False\" if yandex_metrica_allowed else \"\")\\'\\n    html_text += \\' + \"<\"\"!-- MAGICS_SETUP_PRINTING_END -->\"\\'\\n    return \\'\\'.join([\\n        \\'# look at tools/set_up_magics.ipynb\\\\n\\',\\n        \\'yandex_metrica_allowed = True ; get_ipython().run_cell(%s);\\' % repr(one_liner_str),\\n        \\'display(HTML(%s))\\' % html_text,\\n        \\' #\\'\\'MAGICS_SETUP_END\\'\\n    ])\\n       \\n\\n');display(HTML((\"В этот ноутбук встроен код Яндекс Метрики для сбора статистики использований. Если вы не хотите, чтобы по вам собиралась статистика, исправьте: yandex_metrica_allowed = False\" if yandex_metrica_allowed else \"\") + \"<\"\"!-- MAGICS_SETUP_PRINTING_END -->\")) #MAGICS_SETUP_END"
   ]
  },
  {
   "cell_type": "markdown",
   "metadata": {},
   "source": [
    "# ARM ASM ADDRESSING\n",
    "\n",
    "<table width=100%> <tr>\n",
    "    <th width=20%> <b>Видеозапись семинара &rarr; </b> </th>\n",
    "    <th>\n",
    "    <a href=\"https://www.\">\n",
    "        <img src=\"vide.jpg\" width=\"320\"  height=\"160\" align=\"left\" alt=\"Видео с семинара\"> \n",
    "    </a>\n",
    "    </th>\n",
    "    <th> </th>\n",
    "</tr> </table>\n",
    "\n",
    "[Ридинг Яковлева: Адресация данных в памяти и использование библиотечных функций](https://github.com/victor-yacovlev/mipt-diht-caos/tree/master/practice/arm_globals_plt)\n",
    "\n",
    "Сегодня в программе:\n",
    "* <a href=\"#install_instr\" style=\"color:#856024\"> Установка инструментов </a>\n",
    "* <a href=\"#compile_run\" style=\"color:#856024\"> Компиляция и запуск </a>\n",
    "* <a href=\"#asm\" style=\"color:#856024\"> Ассемблер ARM </a>\n",
    "  * <a href=\"#easy_asm\" style=\"color:#856024\"> Простой способ написать функцию на ассемблере </a>"
   ]
  },
  {
   "cell_type": "code",
   "execution_count": null,
   "metadata": {},
   "outputs": [],
   "source": []
  },
  {
   "cell_type": "code",
   "execution_count": 7,
   "metadata": {},
   "outputs": [],
   "source": [
    "import os\n",
    "\n",
    "linaro_download_dir = os.path.expanduser(\"~/arm/gcc-linaro-7.3.1-2018.05-i686_arm-linux-gnueabi\")\n",
    "\n",
    "gcc_linaro_path = os.path.join(linaro_download_dir, \"bin\")\n",
    "if gcc_linaro_path not in os.environ[\"PATH\"]:\n",
    "    os.environ[\"PATH\"] += \":\" + gcc_linaro_path\n",
    "\n",
    "os.environ[\"QEMU_LD_PREFIX\"] = os.path.join(linaro_download_dir, \"arm-linux-gnueabi/libc\")    "
   ]
  },
  {
   "cell_type": "code",
   "execution_count": null,
   "metadata": {},
   "outputs": [],
   "source": []
  },
  {
   "cell_type": "code",
   "execution_count": 18,
   "metadata": {},
   "outputs": [
    {
     "data": {
      "text/markdown": [
       "Run: `arm-linux-gnueabi-gcc -c -Os -fno-asynchronous-unwind-tables -marm lib.c -o lib.o`"
      ],
      "text/plain": [
       "<IPython.core.display.Markdown object>"
      ]
     },
     "metadata": {},
     "output_type": "display_data"
    },
    {
     "data": {
      "text/markdown": [
       "\\#\\#\\#\\# `run arm-linux-gnueabi-gcc -S -Os -fno-asynchronous-unwind-tables -marm lib.c -o /dev/stdout`"
      ],
      "text/plain": [
       "<IPython.core.display.Markdown object>"
      ]
     },
     "metadata": {},
     "output_type": "display_data"
    },
    {
     "data": {
      "text/markdown": [
       "Run: `arm-linux-gnueabi-objdump -D lib.o | grep '<sum_v>' -A 14`"
      ],
      "text/plain": [
       "<IPython.core.display.Markdown object>"
      ]
     },
     "metadata": {},
     "output_type": "display_data"
    },
    {
     "name": "stdout",
     "output_type": "stream",
     "text": [
      "00000000 <sum_v>:\r\n",
      "   0:\te3a03000 \tmov\tr3, #0\r\n",
      "   4:\te1530002 \tcmp\tr3, r2\r\n",
      "   8:\tba000000 \tblt\t10 <sum_v+0x10>\r\n",
      "   c:\te12fff1e \tbx\tlr\r\n",
      "  10:\te52de004 \tpush\t{lr}\t\t; (str lr, [sp, #-4]!)\r\n",
      "  14:\te790c103 \tldr\tip, [r0, r3, lsl #2]\r\n",
      "  18:\te791e103 \tldr\tlr, [r1, r3, lsl #2]\r\n",
      "  1c:\te08cc00e \tadd\tip, ip, lr\r\n",
      "  20:\te780c103 \tstr\tip, [r0, r3, lsl #2]\r\n",
      "  24:\te2833001 \tadd\tr3, r3, #1\r\n",
      "  28:\te1530002 \tcmp\tr3, r2\r\n",
      "  2c:\tbafffff8 \tblt\t14 <sum_v+0x14>\r\n",
      "  30:\te49df004 \tpop\t{pc}\t\t; (ldr pc, [sp], #4)\r\n",
      "\r\n"
     ]
    }
   ],
   "source": [
    "%%cpp lib.c\n",
    "%run arm-linux-gnueabi-gcc -c -Os -fno-asynchronous-unwind-tables -marm lib.c -o lib.o\n",
    "%// run arm-linux-gnueabi-gcc -S -Os -fno-asynchronous-unwind-tables -marm lib.c -o /dev/stdout\n",
    "%run arm-linux-gnueabi-objdump -D lib.o | grep '<sum_v>' -A 14\n",
    "\n",
    "int sum_v(int* a, int* b, int n) {\n",
    "    for (int i = 0; i < n; ++i) {\n",
    "        a[i] += b[i];\n",
    "    }\n",
    "}"
   ]
  },
  {
   "cell_type": "code",
   "execution_count": 24,
   "metadata": {},
   "outputs": [],
   "source": []
  },
  {
   "cell_type": "code",
   "execution_count": 26,
   "metadata": {},
   "outputs": [
    {
     "data": {
      "text/markdown": [
       "Run: `arm-linux-gnueabi-gcc -marm -fsanitize=address lib.c size.c -o size.exe`"
      ],
      "text/plain": [
       "<IPython.core.display.Markdown object>"
      ]
     },
     "metadata": {},
     "output_type": "display_data"
    },
    {
     "data": {
      "text/markdown": [
       "Run: `qemu-arm ./size.exe`"
      ],
      "text/plain": [
       "<IPython.core.display.Markdown object>"
      ]
     },
     "metadata": {},
     "output_type": "display_data"
    },
    {
     "name": "stdout",
     "output_type": "stream",
     "text": [
      "SUCCESS\r\n"
     ]
    }
   ],
   "source": [
    "%%cpp size.c\n",
    "%run arm-linux-gnueabi-gcc -marm -fsanitize=address lib.c size.c -o size.exe\n",
    "%run qemu-arm ./size.exe\n",
    "\n",
    "#include <stdio.h>\n",
    "#include <assert.h>\n",
    "\n",
    "int sum_v(int* a, int* b, int n);\n",
    "\n",
    "void test() {\n",
    "    {\n",
    "        int a[] = {1, 2, 3};\n",
    "        int b[] = {10, 20, 30};\n",
    "        sum_v(a, b, 3);\n",
    "        assert(a[0] == 11);\n",
    "        assert(a[1] == 22);\n",
    "        assert(a[2] == 33);\n",
    "    }\n",
    "    {\n",
    "        int a[] = {};\n",
    "        int b[] = {};\n",
    "        sum_v(a, b, 0);    \n",
    "    }\n",
    "    printf(\"SUCCESS\\n\");\n",
    "}\n",
    "\n",
    "int main() {\n",
    "    test();\n",
    "}"
   ]
  },
  {
   "cell_type": "markdown",
   "metadata": {},
   "source": [
    "### Вариант 1: причесанный дизассемблер"
   ]
  },
  {
   "cell_type": "code",
   "execution_count": 27,
   "metadata": {},
   "outputs": [
    {
     "data": {
      "text/markdown": [
       "Run: `arm-linux-gnueabi-gcc -marm -fsanitize=address lib.S size.c -o size.exe`"
      ],
      "text/plain": [
       "<IPython.core.display.Markdown object>"
      ]
     },
     "metadata": {},
     "output_type": "display_data"
    },
    {
     "data": {
      "text/markdown": [
       "Run: `qemu-arm ./size.exe`"
      ],
      "text/plain": [
       "<IPython.core.display.Markdown object>"
      ]
     },
     "metadata": {},
     "output_type": "display_data"
    },
    {
     "name": "stdout",
     "output_type": "stream",
     "text": [
      "SUCCESS\r\n"
     ]
    }
   ],
   "source": [
    "%%cpp lib.S\n",
    "%run arm-linux-gnueabi-gcc -marm -fsanitize=address lib.S size.c -o size.exe\n",
    "%run qemu-arm ./size.exe\n",
    "\n",
    ".global sum_v\n",
    "sum_v:\n",
    "    mov r3, #0\n",
    "    cmp r3, r2\n",
    "    blt long_path // if (else block)\n",
    "        bx lr\n",
    "    long_path:    // if (first block)\n",
    "        push {lr}\n",
    "        while_start: // while\n",
    "            ldr ip, [r0, r3, lsl #2] // C-style: ip = *(r0 + (r3 << 2))\n",
    "            ldr lr, [r1, r3, lsl #2]\n",
    "            add ip, ip, lr\n",
    "            str ip, [r0, r3, lsl #2] // C-style: *(r0 + (r3 << 2)) = ip\n",
    "            add r3, r3, #1\n",
    "            cmp r3, r2\n",
    "            blt while_start\n",
    "        pop {pc}"
   ]
  },
  {
   "cell_type": "markdown",
   "metadata": {},
   "source": [
    "### Вариант 2: c нуля, придерживаясь сишной структуры кода"
   ]
  },
  {
   "cell_type": "code",
   "execution_count": 36,
   "metadata": {},
   "outputs": [
    {
     "data": {
      "text/markdown": [
       "Run: `arm-linux-gnueabi-gcc -marm -fsanitize=address lib.S size.c -o size.exe`"
      ],
      "text/plain": [
       "<IPython.core.display.Markdown object>"
      ]
     },
     "metadata": {},
     "output_type": "display_data"
    },
    {
     "data": {
      "text/markdown": [
       "Run: `qemu-arm ./size.exe`"
      ],
      "text/plain": [
       "<IPython.core.display.Markdown object>"
      ]
     },
     "metadata": {},
     "output_type": "display_data"
    },
    {
     "name": "stdout",
     "output_type": "stream",
     "text": [
      "SUCCESS\r\n"
     ]
    }
   ],
   "source": [
    "%%cpp lib.S\n",
    "%run arm-linux-gnueabi-gcc -marm -fsanitize=address lib.S size.c -o size.exe\n",
    "%run qemu-arm ./size.exe\n",
    "\n",
    ".global sum_v\n",
    "sum_v:\n",
    "    // C-style: r0 = a, r1 = b, r3 = n\n",
    "    mov r3, #4 // sizeof(int)\n",
    "    mla r2, r2, r3, r0 // C-style: r3 = (a + n)\n",
    "    while_start: // while\n",
    "        cmp r0, r2\n",
    "        beq while_end\n",
    "            ldr ip, [r0] // C-style: ip = *r0\n",
    "            ldr r3, [r1] // C-style: r3 = *r1\n",
    "            add r3, r3, ip // C-style: r3 += ip\n",
    "            str r3, [r0] // C-style: *r0 = r3\n",
    "            add r0, r0, #4\n",
    "            add r1, r1, #4\n",
    "        b while_start\n",
    "    while_end: // while end\n",
    "    bx lr"
   ]
  },
  {
   "cell_type": "markdown",
   "metadata": {},
   "source": [
    "### Вариант 3: оптимизируем"
   ]
  },
  {
   "cell_type": "code",
   "execution_count": 34,
   "metadata": {},
   "outputs": [
    {
     "data": {
      "text/markdown": [
       "Run: `arm-linux-gnueabi-gcc -marm -fsanitize=address lib.S size.c -o size.exe`"
      ],
      "text/plain": [
       "<IPython.core.display.Markdown object>"
      ]
     },
     "metadata": {},
     "output_type": "display_data"
    },
    {
     "data": {
      "text/markdown": [
       "Run: `qemu-arm ./size.exe`"
      ],
      "text/plain": [
       "<IPython.core.display.Markdown object>"
      ]
     },
     "metadata": {},
     "output_type": "display_data"
    },
    {
     "name": "stdout",
     "output_type": "stream",
     "text": [
      "SUCCESS\r\n"
     ]
    }
   ],
   "source": [
    "%%cpp lib.S\n",
    "%run arm-linux-gnueabi-gcc -marm -fsanitize=address lib.S size.c -o size.exe\n",
    "%run qemu-arm ./size.exe\n",
    "\n",
    ".global sum_v\n",
    "sum_v:\n",
    "    // C-style: r0 = a, r1 = b, r3 = n\n",
    "    mov r3, #4 // sizeof(int)\n",
    "    mla r2, r2, r3, r0 // C-style: r3 = (a + n)\n",
    "    while_start: // while\n",
    "        cmp r0, r2\n",
    "        beq while_end\n",
    "            ldr ip, [r0] // C-style: ip = *r0\n",
    "            ldr r3, [r1], #4 // C-style: r3 = *r1, r1 += 4\n",
    "            add r3, r3, ip // C-style: r3 += ip\n",
    "            str r3, [r0], #4 // C-style: *r0 = r3, r0 += 4\n",
    "        b while_start\n",
    "    while_end: // while end\n",
    "    bx lr"
   ]
  },
  {
   "cell_type": "markdown",
   "metadata": {},
   "source": [
    "### Разные варианты STR, LDR:"
   ]
  },
  {
   "cell_type": "code",
   "execution_count": 58,
   "metadata": {},
   "outputs": [
    {
     "data": {
      "text/markdown": [
       "Run: `arm-linux-gnueabi-gcc -marm program_asm_p.c -o program.exe`"
      ],
      "text/plain": [
       "<IPython.core.display.Markdown object>"
      ]
     },
     "metadata": {},
     "output_type": "display_data"
    },
    {
     "data": {
      "text/markdown": [
       "Run: `qemu-arm ./program.exe ; echo`"
      ],
      "text/plain": [
       "<IPython.core.display.Markdown object>"
      ]
     },
     "metadata": {},
     "output_type": "display_data"
    },
    {
     "name": "stdout",
     "output_type": "stream",
     "text": [
      "SUCCESS\n",
      "\n"
     ]
    }
   ],
   "source": [
    "%%cpp program_asm_p.c\n",
    "%run arm-linux-gnueabi-gcc -marm program_asm_p.c -o program.exe\n",
    "%run qemu-arm ./program.exe ; echo \n",
    "\n",
    "#include <stdio.h>\n",
    "#include <assert.h>\n",
    "\n",
    "int* load_1(int* a, int* b, int n);\n",
    "__asm__ (R\"(\n",
    ".global load_1\n",
    "load_1:\n",
    "    ldr r3, [r0] // r3 = *r1\n",
    "    str r3, [r1] // *b = r3\n",
    "    bx lr\n",
    ")\");\n",
    "\n",
    "int* load_2(int* a, int* b, int n);\n",
    "__asm__ (R\"(\n",
    ".global load_2\n",
    "load_2:\n",
    "    ldr r3, [r0, r2, lsl #2] // r3 = *(r1 + r0 * 4)\n",
    "    str r3, [r1] // *b = r3\n",
    "    bx lr\n",
    ")\");\n",
    "\n",
    "int* load_3(int* a, int* b, int n);\n",
    "__asm__ (R\"(\n",
    ".global load_3\n",
    "load_3:\n",
    "    ldr r3, [r0, r2, lsl #2]! // r1 += r0 * 4; r3 = *r1\n",
    "    str r3, [r1] // *b = r3\n",
    "    bx lr\n",
    ")\");\n",
    "\n",
    "int* load_4(int* a, int* b, int n);\n",
    "__asm__ (R\"(\n",
    ".global load_4\n",
    "load_4:\n",
    "    ldr r3, [r0], r2, lsl #2 // r3 = *r1; r1 += r0 * 4\n",
    "    str r3, [r1] // *b = r3\n",
    "    bx lr\n",
    ")\");\n",
    "\n",
    "\n",
    "int main() {\n",
    "    int a[] = {10, 20, 30};\n",
    "    int res;\n",
    "    \n",
    "    // Просто загрузить\n",
    "    // ldr r3, [r0]\n",
    "    assert(load_1(a, &res, 0) == a);\n",
    "    assert(res == 10);\n",
    "    \n",
    "    // Загрузить по адресу со смещением\n",
    "    // ldr r3, [r0, r2, lsl #2]\n",
    "    assert(load_2(a, &res, 0) == a);\n",
    "    assert(res == 10);\n",
    "    assert(load_2(a, &res, 1) == a);\n",
    "    assert(res == 20);\n",
    "    \n",
    "    // Загрузить по префикс-инкрементнутому адресу\n",
    "    // ldr r3, [r0, r2, lsl #2]!\n",
    "    assert(load_3(a, &res, 0) == a);\n",
    "    assert(res == 10);\n",
    "    assert(load_3(a, &res, 1) == a + 1); // (!)\n",
    "    assert(res == 20);\n",
    "    \n",
    "    // Загрузить по постфикс-инкрементнутому адресу\n",
    "    // ldr r3, [r0], r2, lsl #2\n",
    "    assert(load_4(a, &res, 0) == a);\n",
    "    assert(res == 10);\n",
    "    assert(load_4(a, &res, 1) == a + 1); // (!)\n",
    "    assert(res == 10); // (!)\n",
    "        \n",
    "    printf(\"SUCCESS\\n\");\n",
    "    \n",
    "    return 0;\n",
    "}\n"
   ]
  },
  {
   "cell_type": "code",
   "execution_count": null,
   "metadata": {},
   "outputs": [],
   "source": []
  },
  {
   "cell_type": "code",
   "execution_count": null,
   "metadata": {},
   "outputs": [],
   "source": []
  },
  {
   "cell_type": "code",
   "execution_count": null,
   "metadata": {},
   "outputs": [],
   "source": []
  },
  {
   "cell_type": "code",
   "execution_count": null,
   "metadata": {},
   "outputs": [],
   "source": []
  },
  {
   "cell_type": "code",
   "execution_count": null,
   "metadata": {},
   "outputs": [],
   "source": []
  },
  {
   "cell_type": "code",
   "execution_count": null,
   "metadata": {},
   "outputs": [],
   "source": []
  },
  {
   "cell_type": "code",
   "execution_count": null,
   "metadata": {},
   "outputs": [],
   "source": []
  },
  {
   "cell_type": "code",
   "execution_count": null,
   "metadata": {},
   "outputs": [],
   "source": []
  },
  {
   "cell_type": "code",
   "execution_count": null,
   "metadata": {},
   "outputs": [],
   "source": []
  },
  {
   "cell_type": "code",
   "execution_count": null,
   "metadata": {},
   "outputs": [],
   "source": []
  },
  {
   "cell_type": "code",
   "execution_count": null,
   "metadata": {},
   "outputs": [],
   "source": []
  }
 ],
 "metadata": {
  "kernelspec": {
   "display_name": "Python 3",
   "language": "python",
   "name": "python3"
  },
  "language_info": {
   "codemirror_mode": {
    "name": "ipython",
    "version": 3
   },
   "file_extension": ".py",
   "mimetype": "text/x-python",
   "name": "python",
   "nbconvert_exporter": "python",
   "pygments_lexer": "ipython3",
   "version": "3.8.2"
  }
 },
 "nbformat": 4,
 "nbformat_minor": 2
}
