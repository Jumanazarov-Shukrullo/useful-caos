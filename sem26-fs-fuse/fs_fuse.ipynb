{
 "cells": [
  {
   "cell_type": "code",
   "execution_count": 5,
   "metadata": {
    "scrolled": false
   },
   "outputs": [
    {
     "data": {
      "application/javascript": [
       "// setup cpp code highlighting\n",
       "IPython.CodeCell.options_default.highlight_modes[\"text/x-c++src\"] = {'reg':[/^%%cpp/]} ;IPython.CodeCell.options_default.highlight_modes[\"text/x-cmake\"] = {'reg':[/^%%cmake/]} ;"
      ],
      "text/plain": [
       "<IPython.core.display.Javascript object>"
      ]
     },
     "metadata": {},
     "output_type": "display_data"
    },
    {
     "data": {
      "text/html": [
       "<!-- YANDEX_METRICA_BEGIN -->\n",
       "    <script type=\"text/javascript\" >\n",
       "       (function(m,e,t,r,i,k,a){m[i]=m[i]||function(){(m[i].a=m[i].a||[]).push(arguments)};\n",
       "       m[i].l=1*new Date();k=e.createElement(t),a=e.getElementsByTagName(t)[0],k.async=1,k.src=r,a.parentNode.insertBefore(k,a)})\n",
       "       (window, document, \"script\", \"https://mc.yandex.ru/metrika/tag.js\", \"ym\");\n",
       "\n",
       "       ym(59260609, \"init\", {\n",
       "            clickmap:true,\n",
       "            trackLinks:true,\n",
       "            accurateTrackBounce:true\n",
       "       });\n",
       "    </script>\n",
       "    <noscript><div><img src=\"https://mc.yandex.ru/watch/59260609\" style=\"position:absolute; left:-9999px;\" alt=\"\" /></div></noscript>\n",
       "    <!-- YANDEX_METRICA_END -->"
      ],
      "text/plain": [
       "<IPython.core.display.HTML object>"
      ]
     },
     "metadata": {},
     "output_type": "display_data"
    },
    {
     "data": {
      "text/html": [
       "В этот ноутбук встроен код Яндекс Метрики для сбора статистики использований. Если вы не хотите, чтобы по вам собиралась статистика, исправьте: yandex_metrica_allowed = False<!-- MAGICS_SETUP_PRINTING_END -->"
      ],
      "text/plain": [
       "<IPython.core.display.HTML object>"
      ]
     },
     "metadata": {},
     "output_type": "display_data"
    }
   ],
   "source": [
    "# look at tools/set_up_magics.ipynb\n",
    "yandex_metrica_allowed = True ; get_ipython().run_cell('# one_liner_str\\n\\nget_ipython().run_cell_magic(\\'javascript\\', \\'\\', \\n    \\'// setup cpp code highlighting\\\\n\\'\\n    \\'IPython.CodeCell.options_default.highlight_modes[\"text/x-c++src\"] = {\\\\\\'reg\\\\\\':[/^%%cpp/]} ;\\'\\n    \\'IPython.CodeCell.options_default.highlight_modes[\"text/x-cmake\"] = {\\\\\\'reg\\\\\\':[/^%%cmake/]} ;\\'\\n)\\n\\n# creating magics\\nfrom IPython.core.magic import register_cell_magic, register_line_magic\\nfrom IPython.display import display, Markdown, HTML\\nimport argparse\\nfrom subprocess import Popen, PIPE\\nimport random\\nimport sys\\nimport os\\nimport re\\nimport signal\\nimport shutil\\nimport shlex\\nimport glob\\nimport time\\n\\n@register_cell_magic\\ndef save_file(args_str, cell, line_comment_start=\"#\"):\\n    parser = argparse.ArgumentParser()\\n    parser.add_argument(\"fname\")\\n    parser.add_argument(\"--ejudge-style\", action=\"store_true\")\\n    args = parser.parse_args(args_str.split())\\n    \\n    cell = cell if cell[-1] == \\'\\\\n\\' or args.no_eof_newline else cell + \"\\\\n\"\\n    cmds = []\\n    with open(args.fname, \"w\") as f:\\n        f.write(line_comment_start + \" %%cpp \" + args_str + \"\\\\n\")\\n        for line in cell.split(\"\\\\n\"):\\n            line_to_write = (line if not args.ejudge_style else line.rstrip()) + \"\\\\n\"\\n            if line.startswith(\"%\"):\\n                run_prefix = \"%run \"\\n                if line.startswith(run_prefix):\\n                    cmds.append(line[len(run_prefix):].strip())\\n                    f.write(line_comment_start + \" \" + line_to_write)\\n                    continue\\n                run_prefix = \"%# \"\\n                if line.startswith(run_prefix):\\n                    f.write(line_comment_start + \" \" + line_to_write)\\n                    continue\\n                raise Exception(\"Unknown %%save_file subcommand: \\'%s\\'\" % line)\\n            else:\\n                f.write(line_to_write)\\n        f.write(\"\" if not args.ejudge_style else line_comment_start + r\" line without \\\\n\")\\n    for cmd in cmds:\\n        display(Markdown(\"Run: `%s`\" % cmd))\\n        get_ipython().system(cmd)\\n\\n@register_cell_magic\\ndef cpp(fname, cell):\\n    save_file(fname, cell, \"//\")\\n    \\n@register_cell_magic\\ndef cmake(fname, cell):\\n    save_file(fname, cell, \"#\")\\n\\n@register_cell_magic\\ndef asm(fname, cell):\\n    save_file(fname, cell, \"//\")\\n    \\n@register_cell_magic\\ndef makefile(fname, cell):\\n    assert not fname\\n    save_file(\"makefile\", cell.replace(\" \" * 4, \"\\\\t\"))\\n        \\n@register_line_magic\\ndef p(line):\\n    line = line.strip() \\n    if line[0] == \\'#\\':\\n        display(Markdown(line[1:].strip()))\\n    else:\\n        try:\\n            expr, comment = line.split(\" #\")\\n            display(Markdown(\"`{} = {}`  # {}\".format(expr.strip(), eval(expr), comment.strip())))\\n        except:\\n            display(Markdown(\"{} = {}\".format(line, eval(line))))\\n    \\n    \\ndef show_log_file(file, return_html_string=False):\\n    obj = file.replace(\\'.\\', \\'_\\').replace(\\'/\\', \\'_\\') + \"_obj\"\\n    html_string = \\'\\'\\'\\n        <!--MD_BEGIN_FILTER-->\\n        <script type=text/javascript>\\n        var entrance___OBJ__ = 0;\\n        var errors___OBJ__ = 0;\\n        function halt__OBJ__(elem, color)\\n        {\\n            elem.setAttribute(\"style\", \"font-size: 14px; background: \" + color + \"; padding: 10px; border: 3px; border-radius: 5px; color: white; \");                    \\n        }\\n        function refresh__OBJ__()\\n        {\\n            entrance___OBJ__ -= 1;\\n            if (entrance___OBJ__ < 0) {\\n                entrance___OBJ__ = 0;\\n            }\\n            var elem = document.getElementById(\"__OBJ__\");\\n            if (elem) {\\n                var xmlhttp=new XMLHttpRequest();\\n                xmlhttp.onreadystatechange=function()\\n                {\\n                    var elem = document.getElementById(\"__OBJ__\");\\n                    console.log(!!elem, xmlhttp.readyState, xmlhttp.status, entrance___OBJ__);\\n                    if (elem && xmlhttp.readyState==4) {\\n                        if (xmlhttp.status==200)\\n                        {\\n                            errors___OBJ__ = 0;\\n                            if (!entrance___OBJ__) {\\n                                if (elem.innerHTML != xmlhttp.responseText) {\\n                                    elem.innerHTML = xmlhttp.responseText;\\n                                }\\n                                if (elem.innerHTML.includes(\"Process finished.\")) {\\n                                    halt__OBJ__(elem, \"#333333\");\\n                                } else {\\n                                    entrance___OBJ__ += 1;\\n                                    console.log(\"req\");\\n                                    window.setTimeout(\"refresh__OBJ__()\", 300); \\n                                }\\n                            }\\n                            return xmlhttp.responseText;\\n                        } else {\\n                            errors___OBJ__ += 1;\\n                            if (!entrance___OBJ__) {\\n                                if (errors___OBJ__ < 6) {\\n                                    entrance___OBJ__ += 1;\\n                                    console.log(\"req\");\\n                                    window.setTimeout(\"refresh__OBJ__()\", 300); \\n                                } else {\\n                                    halt__OBJ__(elem, \"#994444\");\\n                                }\\n                            }\\n                        }\\n                    }\\n                }\\n                xmlhttp.open(\"GET\", \"__FILE__\", true);\\n                xmlhttp.setRequestHeader(\"Cache-Control\", \"no-cache\");\\n                xmlhttp.send();     \\n            }\\n        }\\n        \\n        if (!entrance___OBJ__) {\\n            entrance___OBJ__ += 1;\\n            refresh__OBJ__(); \\n        }\\n        </script>\\n\\n        <p id=\"__OBJ__\" style=\"font-size: 14px; background: #000000; padding: 10px; border: 3px; border-radius: 5px; color: white; \">\\n        </p>\\n        \\n        </font>\\n        <!--MD_END_FILTER-->\\n        <!--MD_FROM_FILE __FILE__.md -->\\n        \\'\\'\\'.replace(\"__OBJ__\", obj).replace(\"__FILE__\", file)\\n    if return_html_string:\\n        return html_string\\n    display(HTML(html_string))\\n\\n    \\nclass TInteractiveLauncher:\\n    tmp_path = \"./interactive_launcher_tmp\"\\n    def __init__(self, cmd):\\n        try:\\n            os.mkdir(TInteractiveLauncher.tmp_path)\\n        except:\\n            pass\\n        name = str(random.randint(0, 1e18))\\n        self.inq_path = os.path.join(TInteractiveLauncher.tmp_path, name + \".inq\")\\n        self.log_path = os.path.join(TInteractiveLauncher.tmp_path, name + \".log\")\\n        \\n        os.mkfifo(self.inq_path)\\n        open(self.log_path, \\'w\\').close()\\n        open(self.log_path + \".md\", \\'w\\').close()\\n\\n        self.pid = os.fork()\\n        if self.pid == -1:\\n            print(\"Error\")\\n        if self.pid == 0:\\n            exe_cands = glob.glob(\"../tools/launcher.py\") + glob.glob(\"../../tools/launcher.py\")\\n            assert(len(exe_cands) == 1)\\n            assert(os.execvp(\"python3\", [\"python3\", exe_cands[0], \"-l\", self.log_path, \"-i\", self.inq_path, \"-c\", cmd]) == 0)\\n        self.inq_f = open(self.inq_path, \"w\")\\n        interactive_launcher_opened_set.add(self.pid)\\n        show_log_file(self.log_path)\\n\\n    def write(self, s):\\n        s = s.encode()\\n        assert len(s) == os.write(self.inq_f.fileno(), s)\\n        \\n    def get_pid(self):\\n        n = 100\\n        for i in range(n):\\n            try:\\n                return int(re.findall(r\"PID = (\\\\d+)\", open(self.log_path).readline())[0])\\n            except:\\n                if i + 1 == n:\\n                    raise\\n                time.sleep(0.1)\\n        \\n    def input_queue_path(self):\\n        return self.inq_path\\n        \\n    def wait_stop(self, timeout):\\n        for i in range(int(timeout * 10)):\\n            wpid, status = os.waitpid(self.pid, os.WNOHANG)\\n            if wpid != 0:\\n                return True\\n            time.sleep(0.1)\\n        return False\\n        \\n    def close(self, timeout=3):\\n        self.inq_f.close()\\n        if not self.wait_stop(timeout):\\n            os.kill(self.get_pid(), signal.SIGKILL)\\n            os.waitpid(self.pid, 0)\\n        os.remove(self.inq_path)\\n        # os.remove(self.log_path)\\n        self.inq_path = None\\n        self.log_path = None \\n        interactive_launcher_opened_set.remove(self.pid)\\n        self.pid = None\\n        \\n    @staticmethod\\n    def terminate_all():\\n        if \"interactive_launcher_opened_set\" not in globals():\\n            globals()[\"interactive_launcher_opened_set\"] = set()\\n        global interactive_launcher_opened_set\\n        for pid in interactive_launcher_opened_set:\\n            print(\"Terminate pid=\" + str(pid), file=sys.stderr)\\n            os.kill(pid, signal.SIGKILL)\\n            os.waitpid(pid, 0)\\n        interactive_launcher_opened_set = set()\\n        if os.path.exists(TInteractiveLauncher.tmp_path):\\n            shutil.rmtree(TInteractiveLauncher.tmp_path)\\n    \\nTInteractiveLauncher.terminate_all()\\n   \\nyandex_metrica_allowed = bool(globals().get(\"yandex_metrica_allowed\", False))\\nif yandex_metrica_allowed:\\n    display(HTML(\\'\\'\\'<!-- YANDEX_METRICA_BEGIN -->\\n    <script type=\"text/javascript\" >\\n       (function(m,e,t,r,i,k,a){m[i]=m[i]||function(){(m[i].a=m[i].a||[]).push(arguments)};\\n       m[i].l=1*new Date();k=e.createElement(t),a=e.getElementsByTagName(t)[0],k.async=1,k.src=r,a.parentNode.insertBefore(k,a)})\\n       (window, document, \"script\", \"https://mc.yandex.ru/metrika/tag.js\", \"ym\");\\n\\n       ym(59260609, \"init\", {\\n            clickmap:true,\\n            trackLinks:true,\\n            accurateTrackBounce:true\\n       });\\n    </script>\\n    <noscript><div><img src=\"https://mc.yandex.ru/watch/59260609\" style=\"position:absolute; left:-9999px;\" alt=\"\" /></div></noscript>\\n    <!-- YANDEX_METRICA_END -->\\'\\'\\'))\\n\\ndef make_oneliner():\\n    html_text = \\'(\"В этот ноутбук встроен код Яндекс Метрики для сбора статистики использований. Если вы не хотите, чтобы по вам собиралась статистика, исправьте: yandex_metrica_allowed = False\" if yandex_metrica_allowed else \"\")\\'\\n    html_text += \\' + \"<\"\"!-- MAGICS_SETUP_PRINTING_END -->\"\\'\\n    return \\'\\'.join([\\n        \\'# look at tools/set_up_magics.ipynb\\\\n\\',\\n        \\'yandex_metrica_allowed = True ; get_ipython().run_cell(%s);\\' % repr(one_liner_str),\\n        \\'display(HTML(%s))\\' % html_text,\\n        \\' #\\'\\'MAGICS_SETUP_END\\'\\n    ])\\n       \\n\\n');display(HTML((\"В этот ноутбук встроен код Яндекс Метрики для сбора статистики использований. Если вы не хотите, чтобы по вам собиралась статистика, исправьте: yandex_metrica_allowed = False\" if yandex_metrica_allowed else \"\") + \"<\"\"!-- MAGICS_SETUP_PRINTING_END -->\")) #MAGICS_SETUP_END"
   ]
  },
  {
   "cell_type": "markdown",
   "metadata": {},
   "source": [
    "# Опрос для всех, кто зашел на эту страницу\n",
    "\n",
    "Он не страшный, там всего два обязательных вопроса на выбор одного варианта из трёх. Извиняюсь за размер, но к сожалению студенты склонны игнорировать опросы :| \n",
    "\n",
    "Пытаюсь компенсировать :)\n",
    "\n",
    "<a href=\"https://docs.google.com/forms/d/e/1FAIpQLSdUnBAae8nwdSduZieZv7uatWPOMv9jujCM4meBZcHlTikeXg/viewform?usp=sf_link\"><img src=\"poll.png\" width=\"100%\"  align=\"left\" alt=\"Опрос\"></a>\n",
    "\n"
   ]
  },
  {
   "cell_type": "markdown",
   "metadata": {},
   "source": [
    "# FUSE\n",
    "\n",
    "<table width=100%  > <tr>\n",
    "    <th width=15%> <b>Видео с семинара &rarr; </b> </th>\n",
    "    <th>\n",
    "    <a href=\"https://www.youtube.com/watch?v=__RuADlaK0k&list=PLjzMm8llUm4CL-_HgDrmoSTZBCdUk5HQL&index=5\"><img src=\"video.jpg\" width=\"320\" \n",
    "   height=\"160\" align=\"left\" alt=\"Видео с семинара\"></a>\n",
    "    </th>\n",
    "    <th> </th>\n",
    "</table>\n",
    "\n",
    "Сегодня в программе:\n",
    "* <a href=\"#fs_posix\" style=\"color:#856024\"> Работа с файловой системой POSIX </a>\n",
    "  * <a href=\"#opendir\" style=\"color:#856024\"> Просмотр содержимого директории c фильтрацией по регулярке </a>\n",
    "  * <a href=\"#glob\" style=\"color:#856024\"> glob или история о том, как вы пишете *.cpp в терминале </a>\n",
    "  * <a href=\"#ftw\" style=\"color:#856024\"> Рекурсивный просмотр. Правда с помощью устаревшей функции. </a>\n",
    "  * <a href=\"#fs_stat\" style=\"color:#856024\"> Информация о файловой системе. </a>\n",
    "  \n",
    "* <a href=\"#fusepy\" style=\"color:#856024\"> Примонтируем json как read-only файловую систему. Python + fusepy </a>\n",
    "* <a href=\"#fuse_с\" style=\"color:#856024\"> Файловая система с одним файлом на C </a>\n",
    "\n",
    "\n",
    "https://ru.wikipedia.org/wiki/FUSE_(модуль_ядра)\n",
    "\n",
    "![FUSE](https://upload.wikimedia.org/wikipedia/commons/thumb/0/08/FUSE_structure.svg/490px-FUSE_structure.svg.png)\n",
    "\n",
    "\n",
    "https://habr.com/ru/post/315654/ - на питоне\n",
    "\n",
    "https://engineering.facile.it/blog/eng/write-filesystem-fuse/\n",
    "\n",
    "\n",
    "\n",
    "\n",
    "[Ридинг Яковлева](https://github.com/victor-yacovlev/mipt-diht-caos/tree/master/practice/fuse)\n",
    "  \n",
    "  \n",
    "<a href=\"#hw\" style=\"color:#856024\">Комментарии к ДЗ</a>\n",
    "\n"
   ]
  },
  {
   "cell_type": "markdown",
   "metadata": {},
   "source": [
    "## <a name=\"fs_posix\"></a> Работа с файловой системой в POSIX\n",
    "\n",
    "\n",
    "\n",
    "\n",
    "Заголовочные файлы, в которых есть функции для работы с файловой системой ([wiki-источник](https://en.wikipedia.org/wiki/C_POSIX_library)):\n",
    "\n",
    "| Header file | Description |\n",
    "|-------------|-------------|\n",
    "| `<fcntl.h>` |\tFile opening, locking and other operations |\n",
    "| `<fnmatch.h>` |\tFilename matching |\n",
    "| `<ftw.h>` |\tFile tree traversal |\n",
    "| `<sys/stat.h>` |\tFile information (stat et al.) |\n",
    "| `<sys/statvfs.h>` |\tFile System information |\n",
    "| `<dirent.h>` | Directories opening, traversing |\n",
    "\n",
    "\n",
    "read, write, stat, fstat - это все было раньше\n"
   ]
  },
  {
   "cell_type": "markdown",
   "metadata": {},
   "source": [
    "## <a name=\"opendir\"></a> Просмотр содержимого директории с фильтрацией по регулярке"
   ]
  },
  {
   "cell_type": "code",
   "execution_count": 6,
   "metadata": {
    "scrolled": false
   },
   "outputs": [
    {
     "data": {
      "text/markdown": [
       "Run: `gcc -Wall -Werror -fsanitize=address traverse_dir.c -lpthread -o traverse_dir.exe`"
      ],
      "text/plain": [
       "<IPython.core.display.Markdown object>"
      ]
     },
     "metadata": {},
     "output_type": "display_data"
    },
    {
     "data": {
      "text/markdown": [
       "Run: `./traverse_dir.exe ..`"
      ],
      "text/plain": [
       "<IPython.core.display.Markdown object>"
      ]
     },
     "metadata": {},
     "output_type": "display_data"
    },
    {
     "name": "stdout",
     "output_type": "stream",
     "text": [
      "sem22-dynamic-lib\r\n",
      "sem27-python-bindings\r\n",
      "sem23-extra-net-protocols\r\n",
      "sem28-unix-time\r\n"
     ]
    }
   ],
   "source": [
    "%%cpp traverse_dir.c\n",
    "%run gcc -Wall -Werror -fsanitize=address traverse_dir.c -lpthread -o traverse_dir.exe\n",
    "%run ./traverse_dir.exe ..\n",
    "\n",
    "#include <stdio.h>\n",
    "#include <dirent.h>\n",
    "#include <assert.h>\n",
    "#include <fnmatch.h>\n",
    "\n",
    "int main(int argc, char** argv) {\n",
    "    assert(argc == 2);\n",
    "    const char* dir_path = argv[1];\n",
    "    DIR *pDir = opendir(dir_path);\n",
    "    if (pDir == NULL) {\n",
    "        fprintf(stderr, \"Cannot open directory '%s'\\n\", dir_path);\n",
    "        return 1;\n",
    "    }\n",
    "    int limit = 4;\n",
    "    for (struct dirent *pDirent; (pDirent = readdir(pDir)) != NULL && limit > 0;) {\n",
    "        // + Регулярочки\n",
    "        if (fnmatch(\"sem2*\", pDirent->d_name, 0) == 0) {\n",
    "            printf(\"%s\\n\", pDirent->d_name);\n",
    "            --limit;\n",
    "        }\n",
    "    }\n",
    "\n",
    "    closedir(pDir);\n",
    "    return 0;\n",
    "}"
   ]
  },
  {
   "cell_type": "markdown",
   "metadata": {},
   "source": [
    "## <a name=\"glob\"></a> glob или история о том, как вы пишете *.cpp в терминале\n",
    "\n",
    "Это не совсем про файловую систему, но тем не менее интересно\n",
    "\n",
    "glob хорошо сочетается с exec, пример тут http://man7.org/linux/man-pages/man3/glob.3.html"
   ]
  },
  {
   "cell_type": "code",
   "execution_count": 7,
   "metadata": {},
   "outputs": [
    {
     "data": {
      "text/markdown": [
       "Run: `gcc -Wall -Werror -fsanitize=address traverse_dir.c -lpthread -o traverse_dir.exe`"
      ],
      "text/plain": [
       "<IPython.core.display.Markdown object>"
      ]
     },
     "metadata": {},
     "output_type": "display_data"
    },
    {
     "data": {
      "text/markdown": [
       "Run: `./traverse_dir.exe .. | head -n 5`"
      ],
      "text/plain": [
       "<IPython.core.display.Markdown object>"
      ]
     },
     "metadata": {},
     "output_type": "display_data"
    },
    {
     "name": "stdout",
     "output_type": "stream",
     "text": [
      "fs_stat.c\r\n",
      "traverse_dir.c\r\n",
      "traverse_dir_2.c\r\n",
      "../sem01/heloo.c\r\n",
      "../sem01/lib.c\r\n"
     ]
    }
   ],
   "source": [
    "%%cpp traverse_dir.c\n",
    "%run gcc -Wall -Werror -fsanitize=address traverse_dir.c -lpthread -o traverse_dir.exe\n",
    "%run ./traverse_dir.exe .. | head -n 5\n",
    "\n",
    "#include <stdio.h>\n",
    "#include <assert.h>\n",
    "#include <glob.h>\n",
    "\n",
    "int main() {\n",
    "    glob_t globbuf = {0};\n",
    "    glob(\"*.c\", GLOB_DOOFFS, NULL, &globbuf);\n",
    "    glob(\"../*/*.c\", GLOB_DOOFFS | GLOB_APPEND, NULL, &globbuf);\n",
    "    for (char** path = globbuf.gl_pathv; *path; ++path) {\n",
    "        printf(\"%s\\n\", *path);;\n",
    "    }\n",
    "    globfree(&globbuf);\n",
    "    return 0;\n",
    "}"
   ]
  },
  {
   "cell_type": "code",
   "execution_count": 8,
   "metadata": {},
   "outputs": [
    {
     "data": {
      "text/plain": [
       "['../sem10-file-attributes/stat.c',\n",
       " '../sem04-asm-arm/asm_inline_example.c',\n",
       " '../sem04-asm-arm/hello.c',\n",
       " '../sem04-asm-arm/my_lib_example.c']"
      ]
     },
     "execution_count": 8,
     "metadata": {},
     "output_type": "execute_result"
    }
   ],
   "source": [
    "import glob\n",
    "glob.glob(\"../*/*.c\")[:4]"
   ]
  },
  {
   "cell_type": "markdown",
   "metadata": {},
   "source": [
    "## <a name=\"ftw\"></a> Рекурсивный просмотр. Правда с помощью устаревшей функции."
   ]
  },
  {
   "cell_type": "code",
   "execution_count": 9,
   "metadata": {},
   "outputs": [
    {
     "data": {
      "text/markdown": [
       "Run: `gcc -Wall -Werror -fsanitize=address traverse_dir_2.c -lpthread -o traverse_dir_2.exe`"
      ],
      "text/plain": [
       "<IPython.core.display.Markdown object>"
      ]
     },
     "metadata": {},
     "output_type": "display_data"
    },
    {
     "data": {
      "text/markdown": [
       "Run: `./traverse_dir_2.exe ..`"
      ],
      "text/plain": [
       "<IPython.core.display.Markdown object>"
      ]
     },
     "metadata": {},
     "output_type": "display_data"
    },
    {
     "name": "stdout",
     "output_type": "stream",
     "text": [
      ".. 4096\r\n",
      "../sem10-file-attributes 4096\r\n",
      "../sem10-file-attributes/file-attrib.ipynb 51578\r\n",
      "../sem10-file-attributes/stat.c 517\r\n"
     ]
    }
   ],
   "source": [
    "%%cpp traverse_dir_2.c\n",
    "%run gcc -Wall -Werror -fsanitize=address traverse_dir_2.c -lpthread -o traverse_dir_2.exe\n",
    "%run ./traverse_dir_2.exe ..\n",
    "\n",
    "#include <stdio.h>\n",
    "#include <ftw.h>\n",
    "#include <assert.h>\n",
    "\n",
    "int limit = 4;\n",
    "    \n",
    "int callback(const char* fpath, const struct stat* sb, int typeflag) {\n",
    "    printf(\"%s %ld\\n\", fpath, sb->st_size);\n",
    "    return (--limit == 0);\n",
    "}\n",
    "    \n",
    "int main(int argc, char** argv) {\n",
    "    assert(argc == 2);\n",
    "    const char* dir_path = argv[1];\n",
    "    ftw(dir_path, callback, 0);\n",
    "    return 0;\n",
    "}"
   ]
  },
  {
   "cell_type": "markdown",
   "metadata": {},
   "source": [
    "## <a name=\"fs_stat\"></a> Информация о файловой системе"
   ]
  },
  {
   "cell_type": "code",
   "execution_count": 10,
   "metadata": {},
   "outputs": [
    {
     "data": {
      "text/markdown": [
       "Run: `gcc -Wall -Werror -fsanitize=address fs_stat.c -lpthread -o fs_stat.exe`"
      ],
      "text/plain": [
       "<IPython.core.display.Markdown object>"
      ]
     },
     "metadata": {},
     "output_type": "display_data"
    },
    {
     "data": {
      "text/markdown": [
       "Run: `./fs_stat.exe ..`"
      ],
      "text/plain": [
       "<IPython.core.display.Markdown object>"
      ]
     },
     "metadata": {},
     "output_type": "display_data"
    },
    {
     "name": "stdout",
     "output_type": "stream",
     "text": [
      "Free 1K-blocks 120005048/154880424"
     ]
    },
    {
     "data": {
      "text/markdown": [
       "Run: `./fs_stat.exe /dev`"
      ],
      "text/plain": [
       "<IPython.core.display.Markdown object>"
      ]
     },
     "metadata": {},
     "output_type": "display_data"
    },
    {
     "name": "stdout",
     "output_type": "stream",
     "text": [
      "Free 1K-blocks 3992316/3992316"
     ]
    }
   ],
   "source": [
    "%%cpp fs_stat.c\n",
    "%run gcc -Wall -Werror -fsanitize=address fs_stat.c -lpthread -o fs_stat.exe\n",
    "%run ./fs_stat.exe ..\n",
    "%run ./fs_stat.exe /dev\n",
    "\n",
    "#include <stdio.h>\n",
    "#include <sys/statvfs.h>\n",
    "#include <assert.h>\n",
    "\n",
    "    \n",
    "int main(int argc, char** argv) {\n",
    "    assert(argc == 2);\n",
    "    const char* dir_path = argv[1];\n",
    "    struct statvfs stat;\n",
    "    statvfs(dir_path, &stat);\n",
    "    \n",
    "    printf(\"Free 1K-blocks %lu/%lu\", stat.f_bavail * stat.f_bsize / 1024, stat.f_blocks * stat.f_bsize / 1024);\n",
    "    return 0;\n",
    "}"
   ]
  },
  {
   "cell_type": "code",
   "execution_count": 11,
   "metadata": {},
   "outputs": [
    {
     "name": "stdout",
     "output_type": "stream",
     "text": [
      "Filesystem     1K-blocks     Used Available Use% Mounted on\r\n",
      "udev             3992316        0   3992316   0% /dev\r\n",
      "tmpfs             805924     1584    804340   1% /run\r\n",
      "/dev/sdb3       28705700 22408076   4816408  83% /\r\n",
      "tmpfs            4029604   261500   3768104   7% /dev/shm\r\n",
      "tmpfs               5120        4      5116   1% /run/lock\r\n",
      "tmpfs            4029604        0   4029604   0% /sys/fs/cgroup\r\n",
      "/dev/loop1         96256    96256         0 100% /snap/core/9066\r\n",
      "/dev/loop0         25856    25856         0 100% /snap/heroku/3929\r\n",
      "/dev/loop2         96128    96128         0 100% /snap/core/8935\r\n",
      "/dev/loop3         25856    25856         0 100% /snap/heroku/3907\r\n",
      "/dev/sda2          98304    31569     66735  33% /boot/efi\r\n",
      "/dev/sdb4      154880424 27747388 120005032  19% /home\r\n",
      "tmpfs             805920       80    805840   1% /run/user/1000\r\n"
     ]
    }
   ],
   "source": [
    "!df"
   ]
  },
  {
   "cell_type": "code",
   "execution_count": null,
   "metadata": {},
   "outputs": [],
   "source": []
  },
  {
   "cell_type": "code",
   "execution_count": null,
   "metadata": {},
   "outputs": [],
   "source": []
  },
  {
   "cell_type": "markdown",
   "metadata": {},
   "source": [
    "## <a name=\"fusepy\"></a> Python + fusepy\n",
    "\n",
    "Установк: `pip install --user fusepy`"
   ]
  },
  {
   "cell_type": "code",
   "execution_count": 12,
   "metadata": {},
   "outputs": [
    {
     "name": "stdout",
     "output_type": "stream",
     "text": [
      "Writing fuse_json.py\n"
     ]
    }
   ],
   "source": [
    "%%writefile fuse_json.py\n",
    "from __future__ import print_function\n",
    "\n",
    "import logging\n",
    "import os\n",
    "import json\n",
    "from errno import EIO, ENOENT, EROFS\n",
    "from stat import S_IFDIR, S_IFREG\n",
    "from sys import argv, exit\n",
    "from time import time\n",
    "\n",
    "from fuse import FUSE, FuseOSError, LoggingMixIn, Operations\n",
    "\n",
    "NOW = time()\n",
    "\n",
    "DIR_ATTRS = dict(st_mode=(S_IFDIR | 0o555), st_nlink=2)\n",
    "FILE_ATTRS = dict(st_mode=(S_IFREG | 0o444), st_nlink=1)\n",
    "\n",
    "def find_json_path(j, path):\n",
    "    for part in path.split('/'):\n",
    "        if len(part) > 0:\n",
    "            if part == '__json__':\n",
    "                return json.dumps(j)\n",
    "            if part not in j:\n",
    "                return None\n",
    "            j = j[part]\n",
    "    return j\n",
    "    \n",
    "\n",
    "class FuseOperations(LoggingMixIn, Operations):\n",
    "\n",
    "    def __init__(self, j):\n",
    "        self.j = j\n",
    "        self.fd = 0\n",
    "\n",
    "    def open(self, path, flags):\n",
    "        self.fd += 1\n",
    "        return self.fd\n",
    "\n",
    "    def read(self, path, size, offset, fh):\n",
    "        logging.debug(\"Read %r %r %r\", path, size, offset)\n",
    "        node = find_json_path(self.j, path)\n",
    "        if not isinstance(node, str):\n",
    "            raise FuseOSError(EIO)\n",
    "        return node[offset:offset + size]\n",
    "\n",
    "    def readdir(self, path, fh):\n",
    "        logging.debug(\"Readdir %r %r\", path, fh)\n",
    "        node = find_json_path(self.j, path)\n",
    "        if node is None:\n",
    "            raise FuseOSError(EROFS)\n",
    "        return ['.', '..', '__json__'] + list(node.keys())\n",
    "\n",
    "    def getattr(self, path, fh=None):\n",
    "        node = find_json_path(self.j, path)\n",
    "        if isinstance(node, dict):\n",
    "            return DIR_ATTRS\n",
    "        elif isinstance(node, str):\n",
    "            attrs = dict(FILE_ATTRS)\n",
    "            attrs[\"st_size\"] = len(node)\n",
    "            return attrs\n",
    "        else:\n",
    "            raise FuseOSError(ENOENT)\n",
    "\n",
    "if __name__ == '__main__':\n",
    "    logging.basicConfig(level=logging.INFO)\n",
    "    j = {\n",
    "        'a': 'b',\n",
    "        'c': {\n",
    "            'c1': '234'\n",
    "        }\n",
    "    }\n",
    "    FUSE(FuseOperations(j), \"./fuse_json\", foreground=True)"
   ]
  },
  {
   "cell_type": "code",
   "execution_count": 13,
   "metadata": {
    "scrolled": true
   },
   "outputs": [
    {
     "ename": "KeyboardInterrupt",
     "evalue": "",
     "output_type": "error",
     "traceback": [
      "\u001b[0;31m---------------------------------------------------------------------------\u001b[0m",
      "\u001b[0;31mKeyboardInterrupt\u001b[0m                         Traceback (most recent call last)",
      "\u001b[0;32m<ipython-input-13-fa6417c65cbe>\u001b[0m in \u001b[0;36m<module>\u001b[0;34m\u001b[0m\n\u001b[1;32m      1\u001b[0m \u001b[0mget_ipython\u001b[0m\u001b[0;34m(\u001b[0m\u001b[0;34m)\u001b[0m\u001b[0;34m.\u001b[0m\u001b[0msystem\u001b[0m\u001b[0;34m(\u001b[0m\u001b[0;34m'mkdir fuse_json 2>&1 | grep -v \"File exists\" || true'\u001b[0m\u001b[0;34m)\u001b[0m\u001b[0;34m\u001b[0m\u001b[0;34m\u001b[0m\u001b[0m\n\u001b[0;32m----> 2\u001b[0;31m \u001b[0ma\u001b[0m \u001b[0;34m=\u001b[0m \u001b[0mTInteractiveLauncher\u001b[0m\u001b[0;34m(\u001b[0m\u001b[0;34m\"python2 fuse_json.py example.txt fuse_json 2>&1\"\u001b[0m\u001b[0;34m)\u001b[0m\u001b[0;34m\u001b[0m\u001b[0;34m\u001b[0m\u001b[0m\n\u001b[0m",
      "\u001b[0;32m<ipython-input-5-471907a9d97a>\u001b[0m in \u001b[0;36m__init__\u001b[0;34m(self, cmd)\u001b[0m\n\u001b[1;32m    184\u001b[0m             \u001b[0;32massert\u001b[0m\u001b[0;34m(\u001b[0m\u001b[0mlen\u001b[0m\u001b[0;34m(\u001b[0m\u001b[0mexe_cands\u001b[0m\u001b[0;34m)\u001b[0m \u001b[0;34m==\u001b[0m \u001b[0;36m1\u001b[0m\u001b[0;34m)\u001b[0m\u001b[0;34m\u001b[0m\u001b[0;34m\u001b[0m\u001b[0m\n\u001b[1;32m    185\u001b[0m             \u001b[0;32massert\u001b[0m\u001b[0;34m(\u001b[0m\u001b[0mos\u001b[0m\u001b[0;34m.\u001b[0m\u001b[0mexecvp\u001b[0m\u001b[0;34m(\u001b[0m\u001b[0;34m\"python3\"\u001b[0m\u001b[0;34m,\u001b[0m \u001b[0;34m[\u001b[0m\u001b[0;34m\"python3\"\u001b[0m\u001b[0;34m,\u001b[0m \u001b[0mexe_cands\u001b[0m\u001b[0;34m[\u001b[0m\u001b[0;36m0\u001b[0m\u001b[0;34m]\u001b[0m\u001b[0;34m,\u001b[0m \u001b[0;34m\"-l\"\u001b[0m\u001b[0;34m,\u001b[0m \u001b[0mself\u001b[0m\u001b[0;34m.\u001b[0m\u001b[0mlog_path\u001b[0m\u001b[0;34m,\u001b[0m \u001b[0;34m\"-i\"\u001b[0m\u001b[0;34m,\u001b[0m \u001b[0mself\u001b[0m\u001b[0;34m.\u001b[0m\u001b[0minq_path\u001b[0m\u001b[0;34m,\u001b[0m \u001b[0;34m\"-c\"\u001b[0m\u001b[0;34m,\u001b[0m \u001b[0mcmd\u001b[0m\u001b[0;34m]\u001b[0m\u001b[0;34m)\u001b[0m \u001b[0;34m==\u001b[0m \u001b[0;36m0\u001b[0m\u001b[0;34m)\u001b[0m\u001b[0;34m\u001b[0m\u001b[0;34m\u001b[0m\u001b[0m\n\u001b[0;32m--> 186\u001b[0;31m         \u001b[0mself\u001b[0m\u001b[0;34m.\u001b[0m\u001b[0minq_f\u001b[0m \u001b[0;34m=\u001b[0m \u001b[0mopen\u001b[0m\u001b[0;34m(\u001b[0m\u001b[0mself\u001b[0m\u001b[0;34m.\u001b[0m\u001b[0minq_path\u001b[0m\u001b[0;34m,\u001b[0m \u001b[0;34m\"w\"\u001b[0m\u001b[0;34m)\u001b[0m\u001b[0;34m\u001b[0m\u001b[0;34m\u001b[0m\u001b[0m\n\u001b[0m\u001b[1;32m    187\u001b[0m         \u001b[0minteractive_launcher_opened_set\u001b[0m\u001b[0;34m.\u001b[0m\u001b[0madd\u001b[0m\u001b[0;34m(\u001b[0m\u001b[0mself\u001b[0m\u001b[0;34m.\u001b[0m\u001b[0mpid\u001b[0m\u001b[0;34m)\u001b[0m\u001b[0;34m\u001b[0m\u001b[0;34m\u001b[0m\u001b[0m\n\u001b[1;32m    188\u001b[0m         \u001b[0mshow_log_file\u001b[0m\u001b[0;34m(\u001b[0m\u001b[0mself\u001b[0m\u001b[0;34m.\u001b[0m\u001b[0mlog_path\u001b[0m\u001b[0;34m)\u001b[0m\u001b[0;34m\u001b[0m\u001b[0;34m\u001b[0m\u001b[0m\n",
      "\u001b[0;31mKeyboardInterrupt\u001b[0m: "
     ]
    }
   ],
   "source": [
    "!mkdir fuse_json 2>&1 | grep -v \"File exists\" || true\n",
    "a = TInteractiveLauncher(\"python2 fuse_json.py example.txt fuse_json 2>&1\")"
   ]
  },
  {
   "cell_type": "code",
   "execution_count": null,
   "metadata": {},
   "outputs": [],
   "source": [
    "!ls fuse_json\n",
    "!cat fuse_json/c/__json__"
   ]
  },
  {
   "cell_type": "code",
   "execution_count": null,
   "metadata": {},
   "outputs": [],
   "source": []
  },
  {
   "cell_type": "code",
   "execution_count": 14,
   "metadata": {},
   "outputs": [
    {
     "name": "stdout",
     "output_type": "stream",
     "text": [
      "+ tree fuse_json --noreport\n",
      "fuse_json\n",
      "+ cat fuse_json/__json__ new_line\n",
      "cat: fuse_json/__json__: No such file or directory\n",
      "\n",
      "+ cat fuse_json/a new_line\n",
      "cat: fuse_json/a: No such file or directory\n",
      "\n",
      "+ cat fuse_json/c/__json__ new_line\n",
      "cat: fuse_json/c/__json__: No such file or directory\n",
      "\n"
     ]
    },
    {
     "ename": "CalledProcessError",
     "evalue": "Command 'b'echo -n -e \"\\\\n\" > new_line\\nexec 2>&1 ; set -o xtrace\\n\\ntree fuse_json --noreport \\n\\ncat fuse_json/__json__    new_line\\ncat fuse_json/a           new_line\\ncat fuse_json/c/__json__  new_line\\n'' returned non-zero exit status 1.",
     "output_type": "error",
     "traceback": [
      "\u001b[0;31m---------------------------------------------------------------------------\u001b[0m",
      "\u001b[0;31mCalledProcessError\u001b[0m                        Traceback (most recent call last)",
      "\u001b[0;32m<ipython-input-14-8040573cd978>\u001b[0m in \u001b[0;36m<module>\u001b[0;34m\u001b[0m\n\u001b[0;32m----> 1\u001b[0;31m \u001b[0mget_ipython\u001b[0m\u001b[0;34m(\u001b[0m\u001b[0;34m)\u001b[0m\u001b[0;34m.\u001b[0m\u001b[0mrun_cell_magic\u001b[0m\u001b[0;34m(\u001b[0m\u001b[0;34m'bash'\u001b[0m\u001b[0;34m,\u001b[0m \u001b[0;34m''\u001b[0m\u001b[0;34m,\u001b[0m \u001b[0;34m'echo -n -e \"\\\\n\" > new_line\\nexec 2>&1 ; set -o xtrace\\n\\ntree fuse_json --noreport \\n\\ncat fuse_json/__json__    new_line\\ncat fuse_json/a           new_line\\ncat fuse_json/c/__json__  new_line\\n'\u001b[0m\u001b[0;34m)\u001b[0m\u001b[0;34m\u001b[0m\u001b[0;34m\u001b[0m\u001b[0m\n\u001b[0m",
      "\u001b[0;32m/usr/local/lib/python3.6/dist-packages/IPython/core/interactiveshell.py\u001b[0m in \u001b[0;36mrun_cell_magic\u001b[0;34m(self, magic_name, line, cell)\u001b[0m\n\u001b[1;32m   2321\u001b[0m             \u001b[0mmagic_arg_s\u001b[0m \u001b[0;34m=\u001b[0m \u001b[0mself\u001b[0m\u001b[0;34m.\u001b[0m\u001b[0mvar_expand\u001b[0m\u001b[0;34m(\u001b[0m\u001b[0mline\u001b[0m\u001b[0;34m,\u001b[0m \u001b[0mstack_depth\u001b[0m\u001b[0;34m)\u001b[0m\u001b[0;34m\u001b[0m\u001b[0;34m\u001b[0m\u001b[0m\n\u001b[1;32m   2322\u001b[0m             \u001b[0;32mwith\u001b[0m \u001b[0mself\u001b[0m\u001b[0;34m.\u001b[0m\u001b[0mbuiltin_trap\u001b[0m\u001b[0;34m:\u001b[0m\u001b[0;34m\u001b[0m\u001b[0;34m\u001b[0m\u001b[0m\n\u001b[0;32m-> 2323\u001b[0;31m                 \u001b[0mresult\u001b[0m \u001b[0;34m=\u001b[0m \u001b[0mfn\u001b[0m\u001b[0;34m(\u001b[0m\u001b[0mmagic_arg_s\u001b[0m\u001b[0;34m,\u001b[0m \u001b[0mcell\u001b[0m\u001b[0;34m)\u001b[0m\u001b[0;34m\u001b[0m\u001b[0;34m\u001b[0m\u001b[0m\n\u001b[0m\u001b[1;32m   2324\u001b[0m             \u001b[0;32mreturn\u001b[0m \u001b[0mresult\u001b[0m\u001b[0;34m\u001b[0m\u001b[0;34m\u001b[0m\u001b[0m\n\u001b[1;32m   2325\u001b[0m \u001b[0;34m\u001b[0m\u001b[0m\n",
      "\u001b[0;32m/usr/local/lib/python3.6/dist-packages/IPython/core/magics/script.py\u001b[0m in \u001b[0;36mnamed_script_magic\u001b[0;34m(line, cell)\u001b[0m\n\u001b[1;32m    140\u001b[0m             \u001b[0;32melse\u001b[0m\u001b[0;34m:\u001b[0m\u001b[0;34m\u001b[0m\u001b[0;34m\u001b[0m\u001b[0m\n\u001b[1;32m    141\u001b[0m                 \u001b[0mline\u001b[0m \u001b[0;34m=\u001b[0m \u001b[0mscript\u001b[0m\u001b[0;34m\u001b[0m\u001b[0;34m\u001b[0m\u001b[0m\n\u001b[0;32m--> 142\u001b[0;31m             \u001b[0;32mreturn\u001b[0m \u001b[0mself\u001b[0m\u001b[0;34m.\u001b[0m\u001b[0mshebang\u001b[0m\u001b[0;34m(\u001b[0m\u001b[0mline\u001b[0m\u001b[0;34m,\u001b[0m \u001b[0mcell\u001b[0m\u001b[0;34m)\u001b[0m\u001b[0;34m\u001b[0m\u001b[0;34m\u001b[0m\u001b[0m\n\u001b[0m\u001b[1;32m    143\u001b[0m \u001b[0;34m\u001b[0m\u001b[0m\n\u001b[1;32m    144\u001b[0m         \u001b[0;31m# write a basic docstring:\u001b[0m\u001b[0;34m\u001b[0m\u001b[0;34m\u001b[0m\u001b[0;34m\u001b[0m\u001b[0m\n",
      "\u001b[0;32m<decorator-gen-109>\u001b[0m in \u001b[0;36mshebang\u001b[0;34m(self, line, cell)\u001b[0m\n",
      "\u001b[0;32m/usr/local/lib/python3.6/dist-packages/IPython/core/magic.py\u001b[0m in \u001b[0;36m<lambda>\u001b[0;34m(f, *a, **k)\u001b[0m\n\u001b[1;32m    185\u001b[0m     \u001b[0;31m# but it's overkill for just that one bit of state.\u001b[0m\u001b[0;34m\u001b[0m\u001b[0;34m\u001b[0m\u001b[0;34m\u001b[0m\u001b[0m\n\u001b[1;32m    186\u001b[0m     \u001b[0;32mdef\u001b[0m \u001b[0mmagic_deco\u001b[0m\u001b[0;34m(\u001b[0m\u001b[0marg\u001b[0m\u001b[0;34m)\u001b[0m\u001b[0;34m:\u001b[0m\u001b[0;34m\u001b[0m\u001b[0;34m\u001b[0m\u001b[0m\n\u001b[0;32m--> 187\u001b[0;31m         \u001b[0mcall\u001b[0m \u001b[0;34m=\u001b[0m \u001b[0;32mlambda\u001b[0m \u001b[0mf\u001b[0m\u001b[0;34m,\u001b[0m \u001b[0;34m*\u001b[0m\u001b[0ma\u001b[0m\u001b[0;34m,\u001b[0m \u001b[0;34m**\u001b[0m\u001b[0mk\u001b[0m\u001b[0;34m:\u001b[0m \u001b[0mf\u001b[0m\u001b[0;34m(\u001b[0m\u001b[0;34m*\u001b[0m\u001b[0ma\u001b[0m\u001b[0;34m,\u001b[0m \u001b[0;34m**\u001b[0m\u001b[0mk\u001b[0m\u001b[0;34m)\u001b[0m\u001b[0;34m\u001b[0m\u001b[0;34m\u001b[0m\u001b[0m\n\u001b[0m\u001b[1;32m    188\u001b[0m \u001b[0;34m\u001b[0m\u001b[0m\n\u001b[1;32m    189\u001b[0m         \u001b[0;32mif\u001b[0m \u001b[0mcallable\u001b[0m\u001b[0;34m(\u001b[0m\u001b[0marg\u001b[0m\u001b[0;34m)\u001b[0m\u001b[0;34m:\u001b[0m\u001b[0;34m\u001b[0m\u001b[0;34m\u001b[0m\u001b[0m\n",
      "\u001b[0;32m/usr/local/lib/python3.6/dist-packages/IPython/core/magics/script.py\u001b[0m in \u001b[0;36mshebang\u001b[0;34m(self, line, cell)\u001b[0m\n\u001b[1;32m    243\u001b[0m             \u001b[0msys\u001b[0m\u001b[0;34m.\u001b[0m\u001b[0mstderr\u001b[0m\u001b[0;34m.\u001b[0m\u001b[0mflush\u001b[0m\u001b[0;34m(\u001b[0m\u001b[0;34m)\u001b[0m\u001b[0;34m\u001b[0m\u001b[0;34m\u001b[0m\u001b[0m\n\u001b[1;32m    244\u001b[0m         \u001b[0;32mif\u001b[0m \u001b[0margs\u001b[0m\u001b[0;34m.\u001b[0m\u001b[0mraise_error\u001b[0m \u001b[0;32mand\u001b[0m \u001b[0mp\u001b[0m\u001b[0;34m.\u001b[0m\u001b[0mreturncode\u001b[0m\u001b[0;34m!=\u001b[0m\u001b[0;36m0\u001b[0m\u001b[0;34m:\u001b[0m\u001b[0;34m\u001b[0m\u001b[0;34m\u001b[0m\u001b[0m\n\u001b[0;32m--> 245\u001b[0;31m             \u001b[0;32mraise\u001b[0m \u001b[0mCalledProcessError\u001b[0m\u001b[0;34m(\u001b[0m\u001b[0mp\u001b[0m\u001b[0;34m.\u001b[0m\u001b[0mreturncode\u001b[0m\u001b[0;34m,\u001b[0m \u001b[0mcell\u001b[0m\u001b[0;34m,\u001b[0m \u001b[0moutput\u001b[0m\u001b[0;34m=\u001b[0m\u001b[0mout\u001b[0m\u001b[0;34m,\u001b[0m \u001b[0mstderr\u001b[0m\u001b[0;34m=\u001b[0m\u001b[0merr\u001b[0m\u001b[0;34m)\u001b[0m\u001b[0;34m\u001b[0m\u001b[0;34m\u001b[0m\u001b[0m\n\u001b[0m\u001b[1;32m    246\u001b[0m \u001b[0;34m\u001b[0m\u001b[0m\n\u001b[1;32m    247\u001b[0m     \u001b[0;32mdef\u001b[0m \u001b[0m_run_script\u001b[0m\u001b[0;34m(\u001b[0m\u001b[0mself\u001b[0m\u001b[0;34m,\u001b[0m \u001b[0mp\u001b[0m\u001b[0;34m,\u001b[0m \u001b[0mcell\u001b[0m\u001b[0;34m,\u001b[0m \u001b[0mto_close\u001b[0m\u001b[0;34m)\u001b[0m\u001b[0;34m:\u001b[0m\u001b[0;34m\u001b[0m\u001b[0;34m\u001b[0m\u001b[0m\n",
      "\u001b[0;31mCalledProcessError\u001b[0m: Command 'b'echo -n -e \"\\\\n\" > new_line\\nexec 2>&1 ; set -o xtrace\\n\\ntree fuse_json --noreport \\n\\ncat fuse_json/__json__    new_line\\ncat fuse_json/a           new_line\\ncat fuse_json/c/__json__  new_line\\n'' returned non-zero exit status 1."
     ]
    }
   ],
   "source": [
    "%%bash\n",
    "echo -n -e \"\\n\" > new_line\n",
    "exec 2>&1 ; set -o xtrace\n",
    "\n",
    "tree fuse_json --noreport \n",
    "\n",
    "cat fuse_json/__json__    new_line\n",
    "cat fuse_json/a           new_line\n",
    "cat fuse_json/c/__json__  new_line"
   ]
  },
  {
   "cell_type": "code",
   "execution_count": 12,
   "metadata": {},
   "outputs": [
    {
     "name": "stdout",
     "output_type": "stream",
     "text": [
      "fusermount: entry for /home/dgolear/homework/caos_2019-2020/sem26-fs-fuse/fuse_json not found in /etc/mtab\r\n"
     ]
    },
    {
     "ename": "NameError",
     "evalue": "name 'a' is not defined",
     "output_type": "error",
     "traceback": [
      "\u001b[0;31m---------------------------------------------------------------------------\u001b[0m",
      "\u001b[0;31mNameError\u001b[0m                                 Traceback (most recent call last)",
      "\u001b[0;32m<ipython-input-12-f1ecc830f46d>\u001b[0m in \u001b[0;36m<module>\u001b[0;34m\u001b[0m\n\u001b[1;32m      1\u001b[0m \u001b[0mget_ipython\u001b[0m\u001b[0;34m(\u001b[0m\u001b[0;34m)\u001b[0m\u001b[0;34m.\u001b[0m\u001b[0msystem\u001b[0m\u001b[0;34m(\u001b[0m\u001b[0;34m'fusermount -u fuse_json'\u001b[0m\u001b[0;34m)\u001b[0m\u001b[0;34m\u001b[0m\u001b[0;34m\u001b[0m\u001b[0m\n\u001b[0;32m----> 2\u001b[0;31m \u001b[0ma\u001b[0m\u001b[0;34m.\u001b[0m\u001b[0mclose\u001b[0m\u001b[0;34m(\u001b[0m\u001b[0;34m)\u001b[0m\u001b[0;34m\u001b[0m\u001b[0;34m\u001b[0m\u001b[0m\n\u001b[0m",
      "\u001b[0;31mNameError\u001b[0m: name 'a' is not defined"
     ]
    }
   ],
   "source": [
    "!fusermount -u fuse_json\n",
    "a.close()"
   ]
  },
  {
   "cell_type": "code",
   "execution_count": 13,
   "metadata": {},
   "outputs": [
    {
     "name": "stdout",
     "output_type": "stream",
     "text": [
      "fuse_json\n"
     ]
    }
   ],
   "source": [
    "%%bash\n",
    "tree fuse_json --noreport"
   ]
  },
  {
   "cell_type": "code",
   "execution_count": null,
   "metadata": {},
   "outputs": [],
   "source": []
  },
  {
   "cell_type": "markdown",
   "metadata": {},
   "source": [
    "## <a name=\"fuse_c\"></a> fuse + с\n",
    "\n",
    "Надо поставить `libfuse-dev`. Возможно, для этого нужно подаунгрейдить `libfuse2`.\n",
    "\n",
    "Да, обращаю внимание, что у Яковлева в ридинге используется fuse3. Но что-то его пока не очень тривиально поставить в Ubuntu 16.04 (за час не справился) и мне не хочется ненароком себе что-нибудь сломать в системе :)\n",
    "\n",
    "fuse3 немного отличается по API. В примере я поддержал компилируемость и с fuse2, и с fuse3."
   ]
  },
  {
   "cell_type": "markdown",
   "metadata": {},
   "source": [
    "Для установки на Ubuntu может оказаться полезным [Официальный репозиторий Fuse](https://github.com/libfuse/libfuse).  \n",
    "В нём указаны шаги установки. Правда, может понадобиться поставить ещё [*Ninja*](https://ninja-build.org/) и [*Meson*](https://mesonbuild.com/)."
   ]
  },
  {
   "cell_type": "code",
   "execution_count": null,
   "metadata": {},
   "outputs": [],
   "source": [
    "cmake_minimum_required(VERSION 3.15)\n",
    "project(hw23 CXX)\n",
    "\n",
    "set(CMAKE_CXX_STANDARD 11)\n",
    "set(CMAKE_CXX_FLAGS \"${CMAKE_CXX_FLAGS} -fsanitize=address -fsanitize=leak -g\")\n",
    "set(FUSE_PATH \"downloads/fuse\")\n",
    "\n",
    "add_executable(hw23 1task.cpp)\n",
    "\n",
    "target_include_directories(hw23 PUBLIC ${FUSE_PATH}/include) # -I/usr/include/fuse3\n",
    "target_link_libraries(hw23 ${FUSE_PATH}/build/lib/libfuse3.so) # -lfuse3 -lpthread\n"
   ]
  },
  {
   "cell_type": "markdown",
   "metadata": {},
   "source": [
    "Либо, если следовать скрипту ниже, то может помочь такой CMake"
   ]
  },
  {
   "cell_type": "code",
   "execution_count": null,
   "metadata": {},
   "outputs": [],
   "source": [
    "cmake_minimum_required(VERSION 2.7)\n",
    "\n",
    "find_package(PkgConfig REQUIRED)\n",
    "pkg_check_modules(FUSE REQUIRED fuse3)\n",
    "\n",
    "include_directories(${FUSE_INCLUDE_DIRS})\n",
    "add_executable(main main.c)\n",
    "target_link_libraries(main ${FUSE_LIBRARIES})"
   ]
  },
  {
   "cell_type": "code",
   "execution_count": 4,
   "metadata": {},
   "outputs": [
    {
     "name": "stdout",
     "output_type": "stream",
     "text": [
      "cd ~\r\n",
      "mkdir fuse && cd fuse\r\n",
      "sudo apt-get update -y\r\n",
      "# sudo apt-get upgrade -y\r\n",
      "# sudo apt-get full-upgrade -y\r\n",
      "sudo apt-get install python3-pip -y\r\n",
      "sudo pip3 install meson\r\n",
      "export PATH=$PATH:~/.local/bin\r\n",
      "source ~/.profile\r\n",
      "sudo pip3 install pytest\r\n",
      "sudo apt-get install ninja -y\r\n",
      "sudo apt install pkg-config -y\r\n",
      "wget https://github.com/libfuse/libfuse/releases/download/fuse-3.9.1/fuse-3.9.1.tar.xz\r\n",
      "tar xf fuse-3.9.1.tar.xz\r\n",
      "rm fuse-3.9.1.tar.xz\r\n",
      "cd fuse-3.9.1\r\n",
      "mkdir build && cd build\r\n",
      "meson ..\r\n",
      "meson configure\r\n",
      "meson configure -D disable-mtab=true\r\n",
      "ninja\r\n",
      "sudo python3 -m pytest test/\r\n",
      "sudo ninja install\r\n",
      "sudo chown root:root util/fusermount3\r\n",
      "sudo chmod 4755 util/fusermount3\r\n",
      "python3 -m pytest test/\r\n"
     ]
    }
   ],
   "source": [
    "!cat fuse3.sh"
   ]
  },
  {
   "cell_type": "code",
   "execution_count": null,
   "metadata": {},
   "outputs": [],
   "source": []
  },
  {
   "cell_type": "markdown",
   "metadata": {},
   "source": [
    "Код во многом взят отсюда: https://github.com/fntlnz/fuse-example"
   ]
  },
  {
   "cell_type": "code",
   "execution_count": 14,
   "metadata": {},
   "outputs": [],
   "source": [
    "!mkdir fuse_c_example 2>&1 | grep -v \"File exists\" || true\n",
    "!mkdir fuse_c_example/CMake 2>&1 | grep -v \"File exists\" || true"
   ]
  },
  {
   "cell_type": "code",
   "execution_count": 15,
   "metadata": {},
   "outputs": [],
   "source": [
    "%%cmake fuse_c_example/CMake/FindFUSE.cmake\n",
    "# copied from https://github.com/fntlnz/fuse-example/blob/master/CMake/FindFUSE.cmake\n",
    "# Кстати, вот пример модуля CMake который умеет искать библиотеку\n",
    "\n",
    "IF (FUSE_INCLUDE_DIR)\n",
    "    SET (FUSE_FIND_QUIETLY TRUE)\n",
    "ENDIF (FUSE_INCLUDE_DIR)\n",
    "\n",
    "FIND_PATH (FUSE_INCLUDE_DIR fuse.h /usr/local/include/osxfuse /usr/local/include /usr/include)\n",
    "\n",
    "if (APPLE)\n",
    "    SET(FUSE_NAMES libosxfuse.dylib fuse)\n",
    "else (APPLE)\n",
    "    SET(FUSE_NAMES fuse)\n",
    "endif (APPLE)\n",
    "FIND_LIBRARY(FUSE_LIBRARIES NAMES ${FUSE_NAMES} PATHS /lib64 /lib /usr/lib64 /usr/lib /usr/local/lib64 /usr/local/lib /usr/lib/x86_64-linux-gnu)\n",
    "\n",
    "include (\"FindPackageHandleStandardArgs\")\n",
    "find_package_handle_standard_args (\"FUSE\" DEFAULT_MSG FUSE_INCLUDE_DIR FUSE_LIBRARIES)\n",
    "\n",
    "mark_as_advanced (FUSE_INCLUDE_DIR FUSE_LIBRARIES)"
   ]
  },
  {
   "cell_type": "code",
   "execution_count": 16,
   "metadata": {},
   "outputs": [],
   "source": [
    "%%cmake fuse_c_example/CMakeLists.txt\n",
    "# copied from https://github.com/fntlnz/fuse-example/blob/master/CMakeLists.txt\n",
    "\n",
    "cmake_minimum_required(VERSION 3.0 FATAL_ERROR)\n",
    "\n",
    "set(CMAKE_C_FLAGS \"${CMAKE_C_FLAGS} -D_FILE_OFFSET_BITS=64 -DFUSE2 -g -fsanitize=address\")\n",
    "\n",
    "set(CMAKE_MODULE_PATH \"${CMAKE_CURRENT_SOURCE_DIR}/CMake\" ${CMAKE_MODULE_PATH}) # Говорим, где еще можно искать модули\n",
    "\n",
    "find_package(FUSE REQUIRED)\n",
    "\n",
    "include_directories(${FUSE_INCLUDE_DIR})\n",
    "add_executable(fuse-example main.c)\n",
    "target_link_libraries(fuse-example ${FUSE_LIBRARIES})"
   ]
  },
  {
   "cell_type": "markdown",
   "metadata": {},
   "source": [
    "---"
   ]
  },
  {
   "cell_type": "markdown",
   "metadata": {},
   "source": [
    "Чтобы пользователь мог пользоваться вашим модулем Fuse, нужно добавить основные операции для взаимодействия. Они реализуются в виде колбэков, которые Fuse будет вызывать при выполнении определённого действия пользователем.  \n",
    "В C/C++ это реализуется путём заполнения структурки [fuse_operations](http://libfuse.github.io/doxygen/structfuse__operations.html).  "
   ]
  },
  {
   "cell_type": "markdown",
   "metadata": {},
   "source": [
    "---"
   ]
  },
  {
   "cell_type": "code",
   "execution_count": 21,
   "metadata": {
    "scrolled": false
   },
   "outputs": [
    {
     "data": {
      "text/markdown": [
       "Run: `mkdir fuse_c_example/build 2>&1 | grep -v \"File exists\"`"
      ],
      "text/plain": [
       "<IPython.core.display.Markdown object>"
      ]
     },
     "metadata": {},
     "output_type": "display_data"
    },
    {
     "data": {
      "text/markdown": [
       "Run: `cd fuse_c_example/build && cmake .. > /dev/null && make`"
      ],
      "text/plain": [
       "<IPython.core.display.Markdown object>"
      ]
     },
     "metadata": {},
     "output_type": "display_data"
    },
    {
     "name": "stdout",
     "output_type": "stream",
     "text": [
      "CMake Error at /usr/share/cmake-3.10/Modules/FindPackageHandleStandardArgs.cmake:137 (message):\r\n",
      "  Could NOT find FUSE (missing: FUSE_INCLUDE_DIR FUSE_LIBRARIES)\r\n",
      "Call Stack (most recent call first):\r\n",
      "  /usr/share/cmake-3.10/Modules/FindPackageHandleStandardArgs.cmake:378 (_FPHSA_FAILURE_MESSAGE)\r\n",
      "  CMake/FindFUSE.cmake:19 (find_package_handle_standard_args)\r\n",
      "  CMakeLists.txt:10 (find_package)\r\n",
      "\r\n",
      "\r\n"
     ]
    }
   ],
   "source": [
    "%%cpp fuse_c_example/main.c\n",
    "%run mkdir fuse_c_example/build 2>&1 | grep -v \"File exists\"\n",
    "%run cd fuse_c_example/build && cmake .. > /dev/null && make\n",
    "#include <string.h>\n",
    "#include <errno.h>\n",
    "#include <stddef.h>\n",
    "#include <stdlib.h>\n",
    "#include <stdio.h>\n",
    "#include <unistd.h>\n",
    "\n",
    "#ifdef FUSE2\n",
    "    #define FUSE_USE_VERSION 26\n",
    "#else\n",
    "    #define FUSE_USE_VERSION 30\n",
    "#endif\n",
    "#include <fuse.h>\n",
    "\n",
    "typedef struct { \n",
    "    char* filename;\n",
    "    char* filecontent;\n",
    "    char* log;\n",
    "} my_options_t;\n",
    "my_options_t my_options;\n",
    "\n",
    "\n",
    "void print_cwd() {\n",
    "    if (my_options.log) {\n",
    "        FILE* f = fopen(my_options.log, \"at\");\n",
    "        char buffer[1000];\n",
    "        getcwd(buffer, sizeof(buffer));\n",
    "        fprintf(f, \"Current working dir: %s\\n\", buffer);\n",
    "        fclose(f);\n",
    "    }\n",
    "}\n",
    "\n",
    "// Самый важный колбэк. Вызывается первым при любом другом колбэке. \n",
    "// Заполняет структуру stbuf.\n",
    "int getattr_callback(const char* path, struct stat* stbuf\n",
    "#ifndef FUSE2\n",
    "    , struct fuse_file_info *fi\n",
    "#endif\n",
    ") {\n",
    "#ifndef FUSE2\n",
    "    (void) fi;\n",
    "#endif   \n",
    "    if (strcmp(path, \"/\") == 0) {\n",
    "        // st_mode(тип файла, а также права доступа)\n",
    "        // st_nlink(количество ссылок на файл)\n",
    "        // Интересный факт, что количество ссылок у папки = 2 + n, где n -- количество подпапок.\n",
    "        *stbuf = (struct stat) {.st_nlink = 2, .st_mode = S_IFDIR | 0755};\n",
    "        return 0;\n",
    "    }\n",
    "    if (path[0] == '/' && strcmp(path + 1, my_options.filename) == 0) {\n",
    "        *stbuf = (struct stat) {.st_nlink = 2, .st_mode = S_IFREG | 0777, .st_size = (__off_t)strlen(my_options.filecontent)};\n",
    "        return 0;\n",
    "    }\n",
    "    return -ENOENT; // При ошибке, вместо errno возвращаем (-errno).\n",
    "}\n",
    "\n",
    "// filler(buf, filename, stat, flags) -- заполняет информацию о файле и вставляет её в buf.\n",
    "int readdir_callback(const char* path, void* buf, fuse_fill_dir_t filler, off_t offset, struct fuse_file_info* fi\n",
    "#ifndef FUSE2\n",
    "    , enum fuse_readdir_flags flags\n",
    "#endif\n",
    ") {\n",
    "#ifdef FUSE2\n",
    "    (void) offset; (void) fi;\n",
    "    filler(buf, \".\", NULL, 0);\n",
    "    filler(buf, \"..\", NULL, 0);\n",
    "    filler(buf, my_options.filename, NULL, 0);\n",
    "#else\n",
    "    (void) offset; (void) fi; (void)flags;\n",
    "    filler(buf, \".\", NULL, 0, (enum fuse_fill_dir_flags)0);\n",
    "    filler(buf, \"..\", NULL, 0, (enum fuse_fill_dir_flags)0);\n",
    "    filler(buf, my_options.filename, NULL, 0, (enum fuse_fill_dir_flags)0);\n",
    "#endif   \n",
    "    return 0;\n",
    "}\n",
    "\n",
    "// Вызывается после успешной обработки open.\n",
    "int read_callback(const char* path, char* buf, size_t size, off_t offset, struct fuse_file_info* fi) {\n",
    "    if (strcmp(path, \"/\") == 0) {\n",
    "        return -EISDIR;\n",
    "    }\n",
    "    print_cwd();\n",
    "    // \"/\", \"/my_file\"\n",
    "    size_t len = strlen(my_options.filecontent);\n",
    "    if (offset >= len) {\n",
    "        return 0;\n",
    "    }\n",
    "    size = (offset + size <= len) ? size : (len - offset);\n",
    "    memcpy(buf, my_options.filecontent + offset, size);\n",
    "    return size;\n",
    "}\n",
    "\n",
    "// Структура с колбэками. \n",
    "struct fuse_operations fuse_example_operations = {\n",
    "    .getattr = getattr_callback,\n",
    "    .read = read_callback,\n",
    "    .readdir = readdir_callback,\n",
    "};\n",
    "\n",
    "struct fuse_opt opt_specs[] = {\n",
    "    { \"--file-name %s\", offsetof(my_options_t, filename), 0 },\n",
    "    { \"--file-content %s\", offsetof(my_options_t, filecontent), 0 },\n",
    "    { \"--log %s\", offsetof(my_options_t, log), 0 },\n",
    "    FUSE_OPT_END // Структурка заполненная нулями. В общем такой типичный zero-terminated массив\n",
    "};\n",
    "\n",
    "int main(int argc, char** argv) {\n",
    "    struct fuse_args args = FUSE_ARGS_INIT(argc, argv);\n",
    "    \n",
    "    /*\n",
    "    * Если не хотите создавать структурку с данными, а нужно только распарсить одну строку,\n",
    "    * То можно вторым аргументом передать char*.\n",
    "    * Тогда в opt_specs это можно указать как {\"--src %s\", 0, 0}\n",
    "    */\n",
    "    fuse_opt_parse(&args, &my_options, opt_specs, NULL);\n",
    "    print_cwd();\n",
    "    \n",
    "    int ret = fuse_main(args.argc, args.argv, &fuse_example_operations, NULL);\n",
    "    fuse_opt_free_args(&args);\n",
    "    return ret;\n",
    "}"
   ]
  },
  {
   "cell_type": "markdown",
   "metadata": {},
   "source": [
    "Запустим в синхронном режиме (программа работает, пока `fusermount -u` не будет сделан)"
   ]
  },
  {
   "cell_type": "code",
   "execution_count": 18,
   "metadata": {},
   "outputs": [
    {
     "ename": "KeyboardInterrupt",
     "evalue": "",
     "output_type": "error",
     "traceback": [
      "\u001b[0;31m---------------------------------------------------------------------------\u001b[0m",
      "\u001b[0;31mKeyboardInterrupt\u001b[0m                         Traceback (most recent call last)",
      "\u001b[0;32m<ipython-input-18-4362d234e4cc>\u001b[0m in \u001b[0;36m<module>\u001b[0;34m\u001b[0m\n\u001b[1;32m      1\u001b[0m \u001b[0mget_ipython\u001b[0m\u001b[0;34m(\u001b[0m\u001b[0;34m)\u001b[0m\u001b[0;34m.\u001b[0m\u001b[0msystem\u001b[0m\u001b[0;34m(\u001b[0m\u001b[0;34m'mkdir fuse_c || true'\u001b[0m\u001b[0;34m)\u001b[0m\u001b[0;34m\u001b[0m\u001b[0;34m\u001b[0m\u001b[0m\n\u001b[1;32m      2\u001b[0m \u001b[0mget_ipython\u001b[0m\u001b[0;34m(\u001b[0m\u001b[0;34m)\u001b[0m\u001b[0;34m.\u001b[0m\u001b[0msystem\u001b[0m\u001b[0;34m(\u001b[0m\u001b[0;34m'truncate --size=0 err.txt || true'\u001b[0m\u001b[0;34m)\u001b[0m\u001b[0;34m\u001b[0m\u001b[0;34m\u001b[0m\u001b[0m\n\u001b[0;32m----> 3\u001b[0;31m a = TInteractiveLauncher(\"fuse_c_example/build/fuse-example fuse_c -f \"\n\u001b[0m\u001b[1;32m      4\u001b[0m                          \"--file-name my_file --file-content 'My file content\\n' --log `pwd`/err.txt\")\n",
      "\u001b[0;32m<ipython-input-1-471907a9d97a>\u001b[0m in \u001b[0;36m__init__\u001b[0;34m(self, cmd)\u001b[0m\n\u001b[1;32m    184\u001b[0m             \u001b[0;32massert\u001b[0m\u001b[0;34m(\u001b[0m\u001b[0mlen\u001b[0m\u001b[0;34m(\u001b[0m\u001b[0mexe_cands\u001b[0m\u001b[0;34m)\u001b[0m \u001b[0;34m==\u001b[0m \u001b[0;36m1\u001b[0m\u001b[0;34m)\u001b[0m\u001b[0;34m\u001b[0m\u001b[0;34m\u001b[0m\u001b[0m\n\u001b[1;32m    185\u001b[0m             \u001b[0;32massert\u001b[0m\u001b[0;34m(\u001b[0m\u001b[0mos\u001b[0m\u001b[0;34m.\u001b[0m\u001b[0mexecvp\u001b[0m\u001b[0;34m(\u001b[0m\u001b[0;34m\"python3\"\u001b[0m\u001b[0;34m,\u001b[0m \u001b[0;34m[\u001b[0m\u001b[0;34m\"python3\"\u001b[0m\u001b[0;34m,\u001b[0m \u001b[0mexe_cands\u001b[0m\u001b[0;34m[\u001b[0m\u001b[0;36m0\u001b[0m\u001b[0;34m]\u001b[0m\u001b[0;34m,\u001b[0m \u001b[0;34m\"-l\"\u001b[0m\u001b[0;34m,\u001b[0m \u001b[0mself\u001b[0m\u001b[0;34m.\u001b[0m\u001b[0mlog_path\u001b[0m\u001b[0;34m,\u001b[0m \u001b[0;34m\"-i\"\u001b[0m\u001b[0;34m,\u001b[0m \u001b[0mself\u001b[0m\u001b[0;34m.\u001b[0m\u001b[0minq_path\u001b[0m\u001b[0;34m,\u001b[0m \u001b[0;34m\"-c\"\u001b[0m\u001b[0;34m,\u001b[0m \u001b[0mcmd\u001b[0m\u001b[0;34m]\u001b[0m\u001b[0;34m)\u001b[0m \u001b[0;34m==\u001b[0m \u001b[0;36m0\u001b[0m\u001b[0;34m)\u001b[0m\u001b[0;34m\u001b[0m\u001b[0;34m\u001b[0m\u001b[0m\n\u001b[0;32m--> 186\u001b[0;31m         \u001b[0mself\u001b[0m\u001b[0;34m.\u001b[0m\u001b[0minq_f\u001b[0m \u001b[0;34m=\u001b[0m \u001b[0mopen\u001b[0m\u001b[0;34m(\u001b[0m\u001b[0mself\u001b[0m\u001b[0;34m.\u001b[0m\u001b[0minq_path\u001b[0m\u001b[0;34m,\u001b[0m \u001b[0;34m\"w\"\u001b[0m\u001b[0;34m)\u001b[0m\u001b[0;34m\u001b[0m\u001b[0;34m\u001b[0m\u001b[0m\n\u001b[0m\u001b[1;32m    187\u001b[0m         \u001b[0minteractive_launcher_opened_set\u001b[0m\u001b[0;34m.\u001b[0m\u001b[0madd\u001b[0m\u001b[0;34m(\u001b[0m\u001b[0mself\u001b[0m\u001b[0;34m.\u001b[0m\u001b[0mpid\u001b[0m\u001b[0;34m)\u001b[0m\u001b[0;34m\u001b[0m\u001b[0;34m\u001b[0m\u001b[0m\n\u001b[1;32m    188\u001b[0m         \u001b[0mshow_log_file\u001b[0m\u001b[0;34m(\u001b[0m\u001b[0mself\u001b[0m\u001b[0;34m.\u001b[0m\u001b[0mlog_path\u001b[0m\u001b[0;34m)\u001b[0m\u001b[0;34m\u001b[0m\u001b[0;34m\u001b[0m\u001b[0m\n",
      "\u001b[0;31mKeyboardInterrupt\u001b[0m: "
     ]
    }
   ],
   "source": [
    "!mkdir fuse_c || true\n",
    "!truncate --size=0 err.txt || true\n",
    "a = TInteractiveLauncher(\"fuse_c_example/build/fuse-example fuse_c -f \"\n",
    "                         \"--file-name my_file --file-content 'My file content\\n' --log `pwd`/err.txt\")"
   ]
  },
  {
   "cell_type": "code",
   "execution_count": 216,
   "metadata": {},
   "outputs": [
    {
     "name": "stdout",
     "output_type": "stream",
     "text": [
      "+ tree fuse_c --noreport\n",
      "fuse_c\n",
      "└── my_file\n",
      "+ cat fuse_c/my_file\n",
      "My file content\n"
     ]
    }
   ],
   "source": [
    "%%bash\n",
    "exec 2>&1 ; set -o xtrace\n",
    "\n",
    "tree fuse_c --noreport \n",
    "\n",
    "cat fuse_c/my_file"
   ]
  },
  {
   "cell_type": "code",
   "execution_count": 217,
   "metadata": {},
   "outputs": [],
   "source": [
    "!fusermount -u fuse_c\n",
    "a.close()"
   ]
  },
  {
   "cell_type": "code",
   "execution_count": 222,
   "metadata": {},
   "outputs": [
    {
     "name": "stdout",
     "output_type": "stream",
     "text": [
      "fuse_c\n",
      "Current working dir: /home/pechatnov/vbox/caos_2019-2020/sem26-fs-fuse\n",
      "Current working dir: /home/pechatnov/vbox/caos_2019-2020/sem26-fs-fuse\n"
     ]
    }
   ],
   "source": [
    "%%bash\n",
    "tree fuse_c --noreport\n",
    "cat err.txt"
   ]
  },
  {
   "cell_type": "markdown",
   "metadata": {},
   "source": [
    "А теперь в асинхронном (в режиме демона, в параметрах запуска нет `-f`):"
   ]
  },
  {
   "cell_type": "code",
   "execution_count": 228,
   "metadata": {},
   "outputs": [
    {
     "name": "stdout",
     "output_type": "stream",
     "text": [
      "mkdir: cannot create directory ‘fuse_c’: File exists\r\n"
     ]
    },
    {
     "data": {
      "text/html": [
       "\n",
       "        <!--MD_BEGIN_FILTER-->\n",
       "        <script type=text/javascript>\n",
       "        var entrance___interactive_launcher_tmp_213277631725109524_log_obj = 0;\n",
       "        var errors___interactive_launcher_tmp_213277631725109524_log_obj = 0;\n",
       "        function halt__interactive_launcher_tmp_213277631725109524_log_obj(elem, color)\n",
       "        {\n",
       "            elem.setAttribute(\"style\", \"font-size: 14px; background: \" + color + \"; padding: 10px; border: 3px; border-radius: 5px; color: white; \");                    \n",
       "        }\n",
       "        function refresh__interactive_launcher_tmp_213277631725109524_log_obj()\n",
       "        {\n",
       "            entrance___interactive_launcher_tmp_213277631725109524_log_obj -= 1;\n",
       "            if (entrance___interactive_launcher_tmp_213277631725109524_log_obj < 0) {\n",
       "                entrance___interactive_launcher_tmp_213277631725109524_log_obj = 0;\n",
       "            }\n",
       "            var elem = document.getElementById(\"__interactive_launcher_tmp_213277631725109524_log_obj\");\n",
       "            if (elem) {\n",
       "                var xmlhttp=new XMLHttpRequest();\n",
       "                xmlhttp.onreadystatechange=function()\n",
       "                {\n",
       "                    var elem = document.getElementById(\"__interactive_launcher_tmp_213277631725109524_log_obj\");\n",
       "                    console.log(!!elem, xmlhttp.readyState, xmlhttp.status, entrance___interactive_launcher_tmp_213277631725109524_log_obj);\n",
       "                    if (elem && xmlhttp.readyState==4) {\n",
       "                        if (xmlhttp.status==200)\n",
       "                        {\n",
       "                            errors___interactive_launcher_tmp_213277631725109524_log_obj = 0;\n",
       "                            if (!entrance___interactive_launcher_tmp_213277631725109524_log_obj) {\n",
       "                                if (elem.innerHTML != xmlhttp.responseText) {\n",
       "                                    elem.innerHTML = xmlhttp.responseText;\n",
       "                                }\n",
       "                                if (elem.innerHTML.includes(\"Process finished.\")) {\n",
       "                                    halt__interactive_launcher_tmp_213277631725109524_log_obj(elem, \"#333333\");\n",
       "                                } else {\n",
       "                                    entrance___interactive_launcher_tmp_213277631725109524_log_obj += 1;\n",
       "                                    console.log(\"req\");\n",
       "                                    window.setTimeout(\"refresh__interactive_launcher_tmp_213277631725109524_log_obj()\", 300); \n",
       "                                }\n",
       "                            }\n",
       "                            return xmlhttp.responseText;\n",
       "                        } else {\n",
       "                            errors___interactive_launcher_tmp_213277631725109524_log_obj += 1;\n",
       "                            if (!entrance___interactive_launcher_tmp_213277631725109524_log_obj) {\n",
       "                                if (errors___interactive_launcher_tmp_213277631725109524_log_obj < 6) {\n",
       "                                    entrance___interactive_launcher_tmp_213277631725109524_log_obj += 1;\n",
       "                                    console.log(\"req\");\n",
       "                                    window.setTimeout(\"refresh__interactive_launcher_tmp_213277631725109524_log_obj()\", 300); \n",
       "                                } else {\n",
       "                                    halt__interactive_launcher_tmp_213277631725109524_log_obj(elem, \"#994444\");\n",
       "                                }\n",
       "                            }\n",
       "                        }\n",
       "                    }\n",
       "                }\n",
       "                xmlhttp.open(\"GET\", \"./interactive_launcher_tmp/213277631725109524.log\", true);\n",
       "                xmlhttp.setRequestHeader(\"Cache-Control\", \"no-cache\");\n",
       "                xmlhttp.send();     \n",
       "            }\n",
       "        }\n",
       "        \n",
       "        if (!entrance___interactive_launcher_tmp_213277631725109524_log_obj) {\n",
       "            entrance___interactive_launcher_tmp_213277631725109524_log_obj += 1;\n",
       "            refresh__interactive_launcher_tmp_213277631725109524_log_obj(); \n",
       "        }\n",
       "        </script>\n",
       "\n",
       "        <p id=\"__interactive_launcher_tmp_213277631725109524_log_obj\" style=\"font-size: 14px; background: #000000; padding: 10px; border: 3px; border-radius: 5px; color: white; \">\n",
       "        </p>\n",
       "        \n",
       "        </font>\n",
       "        <!--MD_END_FILTER-->\n",
       "        <!--MD_FROM_FILE ./interactive_launcher_tmp/213277631725109524.log.md -->\n",
       "        "
      ],
      "text/plain": [
       "<IPython.core.display.HTML object>"
      ]
     },
     "metadata": {},
     "output_type": "display_data"
    }
   ],
   "source": [
    "!mkdir fuse_c || true\n",
    "!truncate --size=0 err.txt || true\n",
    "a = TInteractiveLauncher(\"fuse_c_example/build/fuse-example fuse_c \"\n",
    "                         \"--file-name my_file --file-content 'My file content\\n' --log `pwd`/err.txt\")"
   ]
  },
  {
   "cell_type": "code",
   "execution_count": 229,
   "metadata": {},
   "outputs": [
    {
     "name": "stdout",
     "output_type": "stream",
     "text": [
      "+ tree fuse_c --noreport\n",
      "fuse_c\n",
      "└── my_file\n",
      "+ cat fuse_c/my_file\n",
      "My file content\n",
      "+ fusermount -u fuse_c\n"
     ]
    }
   ],
   "source": [
    "%%bash\n",
    "exec 2>&1 ; set -o xtrace\n",
    "\n",
    "tree fuse_c --noreport \n",
    "\n",
    "cat fuse_c/my_file\n",
    "\n",
    "fusermount -u fuse_c"
   ]
  },
  {
   "cell_type": "code",
   "execution_count": 230,
   "metadata": {},
   "outputs": [],
   "source": [
    "a.close()"
   ]
  },
  {
   "cell_type": "code",
   "execution_count": 231,
   "metadata": {},
   "outputs": [
    {
     "name": "stdout",
     "output_type": "stream",
     "text": [
      "fuse_c\n",
      "Current working dir: /home/pechatnov/vbox/caos_2019-2020/sem26-fs-fuse\n",
      "Current working dir: /\n"
     ]
    }
   ],
   "source": [
    "%%bash\n",
    "tree fuse_c --noreport\n",
    "cat err.txt"
   ]
  },
  {
   "cell_type": "markdown",
   "metadata": {},
   "source": [
    "Парам-пам-пам, изменилась текущая директория! Учиытвайте это в ДЗ"
   ]
  },
  {
   "cell_type": "code",
   "execution_count": null,
   "metadata": {},
   "outputs": [],
   "source": []
  },
  {
   "cell_type": "code",
   "execution_count": null,
   "metadata": {},
   "outputs": [],
   "source": []
  },
  {
   "cell_type": "markdown",
   "metadata": {},
   "source": [
    "# <a name=\"hw\"></a> Комментарии к ДЗ\n",
    "\n",
    "* Пример входных данных в первой задаче: \n",
    "\n",
    "```\n",
    "2\n",
    "a.txt 3\n",
    "b.txt 5\n",
    "\n",
    "AaAbBbBb\n",
    "```\n",
    "\n",
    "* В ejudge fuse запускается без опции `-f` поэтому текущая директория будет меняться и относительные пути могут становиться невалидными. Рекомендую: `man 3 realpath`"
   ]
  },
  {
   "cell_type": "markdown",
   "metadata": {},
   "source": [
    "1) В задачах на fuse основная цель -- реализовать 3 метода(read, readdir, getattr).  \n",
    "Для этого может понадобиться сохранить свои данные в какую-то глобальную переменную и доставать их оттуда в вызовах колбэка.  \n",
    "\n",
    "2) В 23-1 Чтобы не усложнять себе жизнь, можно ходить по папкам при каждом вызове.  \n",
    "Тогда задача сводится к поиску конкретного файла в каждой папке из условия и выборе из этих файлов последнего.  \n",
    "Либо, в случае readdir, можно вызвать opendir/readdir/closedir к каждому пути и сформировать словарик из уникальных файлов в папках."
   ]
  }
 ],
 "metadata": {
  "kernelspec": {
   "display_name": "Python 3",
   "language": "python",
   "name": "python3"
  },
  "language_info": {
   "codemirror_mode": {
    "name": "ipython",
    "version": 3
   },
   "file_extension": ".py",
   "mimetype": "text/x-python",
   "name": "python",
   "nbconvert_exporter": "python",
   "pygments_lexer": "ipython3",
   "version": "3.6.9"
  }
 },
 "nbformat": 4,
 "nbformat_minor": 2
}
