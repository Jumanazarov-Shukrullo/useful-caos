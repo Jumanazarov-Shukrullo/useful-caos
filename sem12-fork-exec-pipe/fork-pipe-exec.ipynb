{
 "cells": [
  {
   "cell_type": "code",
   "execution_count": 1,
   "metadata": {},
   "outputs": [
    {
     "data": {
      "application/javascript": [
       "// setup cpp code highlighting\n",
       "IPython.CodeCell.options_default.highlight_modes[\"text/x-c++src\"] = {'reg':[/^%%cpp/]} ;"
      ],
      "text/plain": [
       "<IPython.core.display.Javascript object>"
      ]
     },
     "metadata": {},
     "output_type": "display_data"
    },
    {
     "data": {
      "text/html": [
       "<!-- YANDEX_METRICA_BEGIN -->\n",
       "    <script type=\"text/javascript\" >\n",
       "       (function(m,e,t,r,i,k,a){m[i]=m[i]||function(){(m[i].a=m[i].a||[]).push(arguments)};\n",
       "       m[i].l=1*new Date();k=e.createElement(t),a=e.getElementsByTagName(t)[0],k.async=1,k.src=r,a.parentNode.insertBefore(k,a)})\n",
       "       (window, document, \"script\", \"https://mc.yandex.ru/metrika/tag.js\", \"ym\");\n",
       "\n",
       "       ym(59260609, \"init\", {\n",
       "            clickmap:true,\n",
       "            trackLinks:true,\n",
       "            accurateTrackBounce:true\n",
       "       });\n",
       "    </script>\n",
       "    <noscript><div><img src=\"https://mc.yandex.ru/watch/59260609\" style=\"position:absolute; left:-9999px;\" alt=\"\" /></div></noscript>\n",
       "    <!-- YANDEX_METRICA_END -->"
      ],
      "text/plain": [
       "<IPython.core.display.HTML object>"
      ]
     },
     "metadata": {},
     "output_type": "display_data"
    },
    {
     "data": {
      "text/html": [
       "В этот ноутбук встроен код Яндекс Метрики для сбора статистики использований. Если вы не хотите, чтобы по вам собиралась статистика, исправьте: yandex_metrica_allowed = False<!-- MAGICS_SETUP_PRINTING_END -->"
      ],
      "text/plain": [
       "<IPython.core.display.HTML object>"
      ]
     },
     "metadata": {},
     "output_type": "display_data"
    }
   ],
   "source": [
    "# look at tools/set_up_magics.ipynb\n",
    "yandex_metrica_allowed = True ; get_ipython().run_cell('# one_liner_str\\n\\nget_ipython().run_cell_magic(\\'javascript\\', \\'\\', \\'// setup cpp code highlighting\\\\nIPython.CodeCell.options_default.highlight_modes[\"text/x-c++src\"] = {\\\\\\'reg\\\\\\':[/^%%cpp/]} ;\\')\\n\\n# creating magics\\nfrom IPython.core.magic import register_cell_magic, register_line_magic\\nfrom IPython.display import display, Markdown, HTML\\nimport argparse\\nfrom subprocess import Popen, PIPE\\nimport random\\nimport sys\\nimport os\\nimport re\\nimport signal\\nimport shutil\\nimport shlex\\nimport glob\\n\\n@register_cell_magic\\ndef save_file(args_str, cell, line_comment_start=\"#\"):\\n    parser = argparse.ArgumentParser()\\n    parser.add_argument(\"fname\")\\n    parser.add_argument(\"--ejudge-style\", action=\"store_true\")\\n    args = parser.parse_args(args_str.split())\\n    \\n    cell = cell if cell[-1] == \\'\\\\n\\' or args.no_eof_newline else cell + \"\\\\n\"\\n    cmds = []\\n    with open(args.fname, \"w\") as f:\\n        f.write(line_comment_start + \" %%cpp \" + args_str + \"\\\\n\")\\n        for line in cell.split(\"\\\\n\"):\\n            line_to_write = (line if not args.ejudge_style else line.rstrip()) + \"\\\\n\"\\n            if line.startswith(\"%\"):\\n                run_prefix = \"%run \"\\n                if line.startswith(run_prefix):\\n                    cmds.append(line[len(run_prefix):].strip())\\n                    f.write(line_comment_start + \" \" + line_to_write)\\n                    continue\\n                run_prefix = \"%# \"\\n                if line.startswith(run_prefix):\\n                    f.write(line_comment_start + \" \" + line_to_write)\\n                    continue\\n                raise Exception(\"Unknown %%save_file subcommand: \\'%s\\'\" % line)\\n            else:\\n                f.write(line_to_write)\\n        f.write(\"\" if not args.ejudge_style else line_comment_start + r\" line without \\\\n\")\\n    for cmd in cmds:\\n        display(Markdown(\"Run: `%s`\" % cmd))\\n        get_ipython().system(cmd)\\n\\n@register_cell_magic\\ndef cpp(fname, cell):\\n    save_file(fname, cell, \"//\")\\n\\n@register_cell_magic\\ndef asm(fname, cell):\\n    save_file(fname, cell, \"//\")\\n    \\n@register_cell_magic\\ndef makefile(fname, cell):\\n    assert not fname\\n    save_file(\"makefile\", cell.replace(\" \" * 4, \"\\\\t\"))\\n        \\n@register_line_magic\\ndef p(line):\\n    try:\\n        expr, comment = line.split(\" #\")\\n        display(Markdown(\"`{} = {}`  # {}\".format(expr.strip(), eval(expr), comment.strip())))\\n    except:\\n        display(Markdown(\"{} = {}\".format(line, eval(line))))\\n        \\ndef show_file(file, clear_at_begin=True, return_html_string=False):\\n    if clear_at_begin:\\n        get_ipython().system(\"truncate --size 0 \" + file)\\n    obj = file.replace(\\'.\\', \\'_\\').replace(\\'/\\', \\'_\\') + \"_obj\"\\n    html_string = \\'\\'\\'\\n        <!--MD_BEGIN_FILTER-->\\n        <script type=text/javascript>\\n        var entrance___OBJ__ = 0;\\n        var errors___OBJ__ = 0;\\n        function refresh__OBJ__()\\n        {\\n            entrance___OBJ__ -= 1;\\n            var elem = document.getElementById(\"__OBJ__\");\\n            if (elem) {\\n                var xmlhttp=new XMLHttpRequest();\\n                xmlhttp.onreadystatechange=function()\\n                {\\n                    var elem = document.getElementById(\"__OBJ__\");\\n                    console.log(!!elem, xmlhttp.readyState, xmlhttp.status, entrance___OBJ__);\\n                    if (elem && xmlhttp.readyState==4) {\\n                        if (xmlhttp.status==200)\\n                        {\\n                            errors___OBJ__ = 0;\\n                            if (!entrance___OBJ__) {\\n                                elem.innerText = xmlhttp.responseText;\\n                                entrance___OBJ__ += 1;\\n                                console.log(\"req\");\\n                                window.setTimeout(\"refresh__OBJ__()\", 300); \\n                            }\\n                            return xmlhttp.responseText;\\n                        } else {\\n                            errors___OBJ__ += 1;\\n                            if (errors___OBJ__ < 10 && !entrance___OBJ__) {\\n                                entrance___OBJ__ += 1;\\n                                console.log(\"req\");\\n                                window.setTimeout(\"refresh__OBJ__()\", 300); \\n                            }\\n                        }\\n                    }\\n                }\\n                xmlhttp.open(\"GET\", \"__FILE__\", true);\\n                xmlhttp.setRequestHeader(\"Cache-Control\", \"no-cache\");\\n                xmlhttp.send();     \\n            }\\n        }\\n        \\n        if (!entrance___OBJ__) {\\n            entrance___OBJ__ += 1;\\n            refresh__OBJ__(); \\n        }\\n        </script>\\n        \\n        <font color=\"white\"> <tt>\\n        <p id=\"__OBJ__\" style=\"font-size: 16px; border:3px #333333 solid; background: #333333; border-radius: 10px; padding: 10px;  \"></p>\\n        </tt> </font>\\n        <!--MD_END_FILTER-->\\n        <!--MD_FROM_FILE __FILE__ -->\\n        \\'\\'\\'.replace(\"__OBJ__\", obj).replace(\"__FILE__\", file)\\n    if return_html_string:\\n        return html_string\\n    display(HTML(html_string))\\n    \\nBASH_POPEN_TMP_DIR = \"./bash_popen_tmp\"\\n    \\ndef bash_popen_terminate_all():\\n    for p in globals().get(\"bash_popen_list\", []):\\n        print(\"Terminate pid=\" + str(p.pid), file=sys.stderr)\\n        p.terminate()\\n    globals()[\"bash_popen_list\"] = []\\n    if os.path.exists(BASH_POPEN_TMP_DIR):\\n        shutil.rmtree(BASH_POPEN_TMP_DIR)\\n\\nbash_popen_terminate_all()  \\n\\ndef bash_popen(cmd):\\n    if not os.path.exists(BASH_POPEN_TMP_DIR):\\n        os.mkdir(BASH_POPEN_TMP_DIR)\\n    h = os.path.join(BASH_POPEN_TMP_DIR, str(random.randint(0, 1e18)))\\n    stdout_file = h + \".out.html\"\\n    stderr_file = h + \".err.html\"\\n    run_log_file = h + \".fin.html\"\\n    \\n    stdout = open(stdout_file, \"wb\")\\n    stdout = open(stderr_file, \"wb\")\\n    \\n    html = \"\"\"\\n    <table width=\"100%\">\\n    <colgroup>\\n       <col span=\"1\" style=\"width: 70px;\">\\n       <col span=\"1\">\\n    </colgroup>    \\n    <tbody>\\n      <tr> <td><b>STDOUT</b></td> <td> {stdout} </td> </tr>\\n      <tr> <td><b>STDERR</b></td> <td> {stderr} </td> </tr>\\n      <tr> <td><b>RUN LOG</b></td> <td> {run_log} </td> </tr>\\n    </tbody>\\n    </table>\\n    \"\"\".format(\\n        stdout=show_file(stdout_file, return_html_string=True),\\n        stderr=show_file(stderr_file, return_html_string=True),\\n        run_log=show_file(run_log_file, return_html_string=True),\\n    )\\n    \\n    cmd = \"\"\"\\n        bash -c {cmd} &\\n        pid=$!\\n        echo \"Process started! pid=${{pid}}\" > {run_log_file}\\n        wait ${{pid}}\\n        echo \"Process finished! exit_code=$?\" >> {run_log_file}\\n    \"\"\".format(cmd=shlex.quote(cmd), run_log_file=run_log_file)\\n    # print(cmd)\\n    display(HTML(html))\\n    \\n    p = Popen([\"bash\", \"-c\", cmd], stdin=PIPE, stdout=stdout, stderr=stdout)\\n    \\n    bash_popen_list.append(p)\\n    return p\\n\\n\\n@register_line_magic\\ndef bash_async(line):\\n    bash_popen(line)\\n    \\n    \\ndef show_log_file(file, return_html_string=False):\\n    obj = file.replace(\\'.\\', \\'_\\').replace(\\'/\\', \\'_\\') + \"_obj\"\\n    html_string = \\'\\'\\'\\n        <!--MD_BEGIN_FILTER-->\\n        <script type=text/javascript>\\n        var entrance___OBJ__ = 0;\\n        var errors___OBJ__ = 0;\\n        function halt__OBJ__(elem, color)\\n        {\\n            elem.setAttribute(\"style\", \"font-size: 14px; background: \" + color + \"; padding: 10px; border: 3px; border-radius: 5px; color: white; \");                    \\n        }\\n        function refresh__OBJ__()\\n        {\\n            entrance___OBJ__ -= 1;\\n            if (entrance___OBJ__ < 0) {\\n                entrance___OBJ__ = 0;\\n            }\\n            var elem = document.getElementById(\"__OBJ__\");\\n            if (elem) {\\n                var xmlhttp=new XMLHttpRequest();\\n                xmlhttp.onreadystatechange=function()\\n                {\\n                    var elem = document.getElementById(\"__OBJ__\");\\n                    console.log(!!elem, xmlhttp.readyState, xmlhttp.status, entrance___OBJ__);\\n                    if (elem && xmlhttp.readyState==4) {\\n                        if (xmlhttp.status==200)\\n                        {\\n                            errors___OBJ__ = 0;\\n                            if (!entrance___OBJ__) {\\n                                if (elem.innerHTML != xmlhttp.responseText) {\\n                                    elem.innerHTML = xmlhttp.responseText;\\n                                }\\n                                if (elem.innerHTML.includes(\"Process finished.\")) {\\n                                    halt__OBJ__(elem, \"#333333\");\\n                                } else {\\n                                    entrance___OBJ__ += 1;\\n                                    console.log(\"req\");\\n                                    window.setTimeout(\"refresh__OBJ__()\", 300); \\n                                }\\n                            }\\n                            return xmlhttp.responseText;\\n                        } else {\\n                            errors___OBJ__ += 1;\\n                            if (!entrance___OBJ__) {\\n                                if (errors___OBJ__ < 6) {\\n                                    entrance___OBJ__ += 1;\\n                                    console.log(\"req\");\\n                                    window.setTimeout(\"refresh__OBJ__()\", 300); \\n                                } else {\\n                                    halt__OBJ__(elem, \"#994444\");\\n                                }\\n                            }\\n                        }\\n                    }\\n                }\\n                xmlhttp.open(\"GET\", \"__FILE__\", true);\\n                xmlhttp.setRequestHeader(\"Cache-Control\", \"no-cache\");\\n                xmlhttp.send();     \\n            }\\n        }\\n        \\n        if (!entrance___OBJ__) {\\n            entrance___OBJ__ += 1;\\n            refresh__OBJ__(); \\n        }\\n        </script>\\n\\n        <p id=\"__OBJ__\" style=\"font-size: 14px; background: #000000; padding: 10px; border: 3px; border-radius: 5px; color: white; \">\\n        </p>\\n        \\n        </font>\\n        <!--MD_END_FILTER-->\\n        <!--MD_FROM_FILE __FILE__.md -->\\n        \\'\\'\\'.replace(\"__OBJ__\", obj).replace(\"__FILE__\", file)\\n    if return_html_string:\\n        return html_string\\n    display(HTML(html_string))\\n\\n    \\nclass TInteractiveLauncher:\\n    tmp_path = \"./interactive_launcher_tmp\"\\n    def __init__(self, cmd):\\n        try:\\n            os.mkdir(TInteractiveLauncher.tmp_path)\\n        except:\\n            pass\\n        name = str(random.randint(0, 1e18))\\n        self.inq_path = os.path.join(TInteractiveLauncher.tmp_path, name + \".inq\")\\n        self.log_path = os.path.join(TInteractiveLauncher.tmp_path, name + \".log\")\\n        \\n        os.mkfifo(self.inq_path)\\n        open(self.log_path, \\'w\\').close()\\n        open(self.log_path + \".md\", \\'w\\').close()\\n\\n        self.pid = os.fork()\\n        if self.pid == -1:\\n            print(\"Error\")\\n        if self.pid == 0:\\n            exe_cands = glob.glob(\"../tools/launcher.py\") + glob.glob(\"../../tools/launcher.py\")\\n            assert(len(exe_cands) == 1)\\n            assert(os.execvp(\"python3\", [\"python3\", exe_cands[0], \"-l\", self.log_path, \"-i\", self.inq_path, \"-c\", cmd]) == 0)\\n        self.inq_f = open(self.inq_path, \"w\")\\n        interactive_launcher_opened_set.add(self.pid)\\n        show_log_file(self.log_path)\\n\\n    def write(self, s):\\n        s = s.encode()\\n        assert len(s) == os.write(self.inq_f.fileno(), s)\\n        \\n    def get_pid(self):\\n        n = 100\\n        for i in range(n):\\n            try:\\n                return int(re.findall(r\"PID = (\\\\d+)\", open(self.log_path).readline())[0])\\n            except:\\n                if i + 1 == n:\\n                    raise\\n                time.sleep(0.1)\\n        \\n    def input_queue_path(self):\\n        return self.inq_path\\n        \\n    def close(self):\\n        self.inq_f.close()\\n        os.waitpid(self.pid, 0)\\n        os.remove(self.inq_path)\\n        # os.remove(self.log_path)\\n        self.inq_path = None\\n        self.log_path = None \\n        interactive_launcher_opened_set.remove(self.pid)\\n        self.pid = None\\n        \\n    @staticmethod\\n    def terminate_all():\\n        if \"interactive_launcher_opened_set\" not in globals():\\n            globals()[\"interactive_launcher_opened_set\"] = set()\\n        global interactive_launcher_opened_set\\n        for pid in interactive_launcher_opened_set:\\n            print(\"Terminate pid=\" + str(pid), file=sys.stderr)\\n            os.kill(pid, signal.SIGKILL)\\n            os.waitpid(pid, 0)\\n        interactive_launcher_opened_set = set()\\n        if os.path.exists(TInteractiveLauncher.tmp_path):\\n            shutil.rmtree(TInteractiveLauncher.tmp_path)\\n    \\nTInteractiveLauncher.terminate_all()\\n   \\nyandex_metrica_allowed = bool(globals().get(\"yandex_metrica_allowed\", False))\\nif yandex_metrica_allowed:\\n    display(HTML(\\'\\'\\'<!-- YANDEX_METRICA_BEGIN -->\\n    <script type=\"text/javascript\" >\\n       (function(m,e,t,r,i,k,a){m[i]=m[i]||function(){(m[i].a=m[i].a||[]).push(arguments)};\\n       m[i].l=1*new Date();k=e.createElement(t),a=e.getElementsByTagName(t)[0],k.async=1,k.src=r,a.parentNode.insertBefore(k,a)})\\n       (window, document, \"script\", \"https://mc.yandex.ru/metrika/tag.js\", \"ym\");\\n\\n       ym(59260609, \"init\", {\\n            clickmap:true,\\n            trackLinks:true,\\n            accurateTrackBounce:true\\n       });\\n    </script>\\n    <noscript><div><img src=\"https://mc.yandex.ru/watch/59260609\" style=\"position:absolute; left:-9999px;\" alt=\"\" /></div></noscript>\\n    <!-- YANDEX_METRICA_END -->\\'\\'\\'))\\n\\ndef make_oneliner():\\n    html_text = \\'(\"В этот ноутбук встроен код Яндекс Метрики для сбора статистики использований. Если вы не хотите, чтобы по вам собиралась статистика, исправьте: yandex_metrica_allowed = False\" if yandex_metrica_allowed else \"\")\\'\\n    html_text += \\' + \"<\"\"!-- MAGICS_SETUP_PRINTING_END -->\"\\'\\n    return \\'\\'.join([\\n        \\'# look at tools/set_up_magics.ipynb\\\\n\\',\\n        \\'yandex_metrica_allowed = True ; get_ipython().run_cell(%s);\\' % repr(one_liner_str),\\n        \\'display(HTML(%s))\\' % html_text,\\n        \\' #\\'\\'MAGICS_SETUP_END\\'\\n    ])\\n       \\n\\n');display(HTML((\"В этот ноутбук встроен код Яндекс Метрики для сбора статистики использований. Если вы не хотите, чтобы по вам собиралась статистика, исправьте: yandex_metrica_allowed = False\" if yandex_metrica_allowed else \"\") + \"<\"\"!-- MAGICS_SETUP_PRINTING_END -->\")) #MAGICS_SETUP_END"
   ]
  },
  {
   "cell_type": "markdown",
   "metadata": {},
   "source": [
    "# Сегодня будем изобретать bash\n",
    "Чтобы делать основную магию bash нам понадобятся три вызова\n",
    "* `fork` - (перевод: вилка) позволяет процессу раздвоиться. Это единственный способ создания новых процессов в linux\n",
    "* `exec` - позволяет процессу запустить другую программу в своем теле. То есть остается тот же процесс (тот же pid), те же открытые файлы, еще что-то общее, но исполняется код из указанного исполняемого файла. Прямо начиная с функции _start\n",
    "* `pipe` - позволяет создать трубу(=pipe) - получить пару файловых дескрипторов. В один из них можно что-то писать, при этом оно будет становиться доступным для чтения из другого дескриптора. Можно рассматривать pipe как своеобразный файл-очередь.\n",
    "* `dup2` - позволяет \"скопировать\" файловый дескриптор. То есть получить еще один файловый дескриптор на тот же файл/соединение. Например, так можно скопировать дескриптор файла в 1 файловый дескриптор и потом с помощью функции printf писать в этот файл.\n",
    "\n",
    "* `wait` - прозволяет дождаться дочерних процессов и получить их код возврата. Так же прекращает их жизнь в качестве зомби.\n",
    "\n",
    "Изобретать будет такую магию:\n",
    "* Запуск сторонней программы\n",
    "* `./program arg1 arg2 > out.txt` то есть оператор `>` из bash\n",
    "* `./program1 arg1_1 arg1_2 | ./program2 arg2_1 arg2_2` то есть оператор `|` из bash\n",
    "\n",
    "\n",
    "Про PID 1: [Хабр / systemd десять лет спустя. Историческая и техническая ретроспектива](https://habr.com/ru/post/503816/)\n"
   ]
  },
  {
   "cell_type": "markdown",
   "metadata": {},
   "source": [
    "# fork\n",
    "\n",
    "`man fork`, `man waitpid`"
   ]
  },
  {
   "cell_type": "markdown",
   "metadata": {},
   "source": [
    "Простейший пример: клонируем себя, и в оригинале дожидаемся, пока копия завершится, потом тоже завершаемся."
   ]
  },
  {
   "cell_type": "code",
   "execution_count": 4,
   "metadata": {
    "scrolled": false
   },
   "outputs": [
    {
     "data": {
      "text/markdown": [
       "Run: `gcc simpliest_example.cpp -o simpliest_example.exe`"
      ],
      "text/plain": [
       "<IPython.core.display.Markdown object>"
      ]
     },
     "metadata": {},
     "output_type": "display_data"
    },
    {
     "data": {
      "text/markdown": [
       "Run: `./simpliest_example.exe`"
      ],
      "text/plain": [
       "<IPython.core.display.Markdown object>"
      ]
     },
     "metadata": {},
     "output_type": "display_data"
    },
    {
     "name": "stdout",
     "output_type": "stream",
     "text": [
      "Hello world! fork result (child pid) = 3321, own pid = 3320\r\n",
      "Hello world! fork result (child pid) = 0, own pid = 3321\r\n",
      "Child exited with code 42\r\n"
     ]
    }
   ],
   "source": [
    "%%cpp simpliest_example.cpp\n",
    "%run gcc simpliest_example.cpp -o simpliest_example.exe\n",
    "%run ./simpliest_example.exe\n",
    "\n",
    "#include <stdio.h>\n",
    "#include <stdlib.h>\n",
    "#include <unistd.h>\n",
    "#include <assert.h>\n",
    "#include <sys/wait.h>\n",
    "#include <sched.h>\n",
    "\n",
    "int main() {\n",
    "    pid_t pid = fork();\n",
    "//     if (pid != 0) {\n",
    "//         for (int i = 0; i < 1000000; ++i) {\n",
    "//             sched_yield();\n",
    "//         }\n",
    "//     }\n",
    "    printf(\"Hello world! fork result (child pid) = %d, own pid = %d\\n\", pid, getpid()); // выполнится и в родителе и в ребенке\n",
    "    \n",
    "    if (pid == 0) {\n",
    "        return 42; // если это дочерний процесс, то завершаемся\n",
    "    }\n",
    "    int status;\n",
    "    pid_t w = waitpid(pid, &status, 0); // обязательно нужно дождаться, пока завершится дочерний процесс\n",
    "    if (w == -1) {\n",
    "        perror(\"waitpid\");\n",
    "        exit(-1);\n",
    "    }\n",
    "    assert(WIFEXITED(status));\n",
    "    printf(\"Child exited with code %d\\n\", WEXITSTATUS(status)); // выводим код возврата дочернего процесса\n",
    "    return 0;\n",
    "}"
   ]
  },
  {
   "cell_type": "markdown",
   "metadata": {},
   "source": [
    "## fork-бомба\n",
    "\n",
    "С помощью вызовов форк легко написать программу, процесс которой будет бесконечно порождать свои копии, а копии в свою очередь новые копии. Такой программа при запуске быстро съест все ресурсы системы и может привести к мертвому зависанию. \n",
    "\n",
    "Подробнее на [Википедии](https://ru.wikipedia.org/wiki/Fork-%D0%B1%D0%BE%D0%BC%D0%B1%D0%B0)"
   ]
  },
  {
   "cell_type": "markdown",
   "metadata": {},
   "source": [
    "# fork + exec\n",
    "\n",
    "`man exec`, `man wait4`\n",
    "\n",
    "О том как гуглить непонятные структуры: struct timeval linux "
   ]
  },
  {
   "cell_type": "code",
   "execution_count": 6,
   "metadata": {
    "scrolled": true
   },
   "outputs": [
    {
     "data": {
      "text/markdown": [
       "Run: `gcc fork_exec.cpp -o fork_exec.exe`"
      ],
      "text/plain": [
       "<IPython.core.display.Markdown object>"
      ]
     },
     "metadata": {},
     "output_type": "display_data"
    },
    {
     "data": {
      "text/markdown": [
       "Run: `./fork_exec.exe`"
      ],
      "text/plain": [
       "<IPython.core.display.Markdown object>"
      ]
     },
     "metadata": {},
     "output_type": "display_data"
    },
    {
     "name": "stdout",
     "output_type": "stream",
     "text": [
      "USER       PID %CPU %MEM    VSZ   RSS TTY      STAT START   TIME COMMAND\n",
      "root         1  0.0  0.2  37752  4284 ?        Ss   Feb27   0:12 /lib/systemd/systemd --system --deserialize 21\n",
      "root         2  0.0  0.0      0     0 ?        S    Feb27   0:00 [kthreadd]\n",
      "root         4  0.0  0.0      0     0 ?        I<   Feb27   0:00 [kworker/0:0H]\n",
      "Child exited with code 0 \n",
      "\tUser time 0 sec 3088 usec\n",
      "\tSys time 0 sec 9543 usec\n"
     ]
    }
   ],
   "source": [
    "%%cpp fork_exec.cpp\n",
    "%run gcc fork_exec.cpp -o fork_exec.exe\n",
    "%run ./fork_exec.exe\n",
    "\n",
    "#include <stdio.h>\n",
    "#include <stdlib.h>\n",
    "#include <unistd.h>\n",
    "#include <assert.h>\n",
    "#include <sys/resource.h>\n",
    "#include <sys/types.h>\n",
    "#include <sys/wait.h>\n",
    "\n",
    "\n",
    "int main() {\n",
    "    pid_t pid;\n",
    "    if ((pid = fork()) == 0) {\n",
    "        //execlp(\"ps\", \"ps\", \"aux\", NULL); // also possible variant\n",
    "        //execlp(\"echo\", \"echo\", \"Hello world from linux ECHO program\", NULL);\n",
    "        //execlp(\"sleep\", \"sleep\", \"3\", NULL);\n",
    "        execlp(\"bash\", \"bash\", \"-c\", \"ps aux | head -n 4\", NULL);\n",
    "        assert(0 && \"Unreachable position in code if execlp succeeded\");\n",
    "    }\n",
    "    int status;\n",
    "    struct rusage resource_usage;\n",
    "    pid_t w = wait4(pid, &status, 0, &resource_usage); // обязательно нужно дождаться, пока завершится дочерний процесс\n",
    "    if (w == -1) {\n",
    "        perror(\"waitpid\");\n",
    "        exit(-1);\n",
    "    }\n",
    "    assert(WIFEXITED(status));\n",
    "    printf(\"Child exited with code %d \\n\"\n",
    "           \"\\tUser time %ld sec %ld usec\\n\"\n",
    "           \"\\tSys time %ld sec %ld usec\\n\", \n",
    "           WEXITSTATUS(status), \n",
    "           resource_usage.ru_utime.tv_sec,\n",
    "           resource_usage.ru_utime.tv_usec,\n",
    "           resource_usage.ru_stime.tv_sec,\n",
    "           resource_usage.ru_stime.tv_usec); // выводим код возврата дочернего процесса + еще полезную информацию\n",
    "    \n",
    "    return 0;\n",
    "}"
   ]
  },
  {
   "cell_type": "code",
   "execution_count": null,
   "metadata": {},
   "outputs": [],
   "source": []
  },
  {
   "cell_type": "markdown",
   "metadata": {},
   "source": [
    "# dup2\n",
    "\n",
    "Возможно кто-то из вас видел вызов freopen. Вот это примерно о том же."
   ]
  },
  {
   "cell_type": "code",
   "execution_count": 7,
   "metadata": {
    "scrolled": true
   },
   "outputs": [
    {
     "data": {
      "text/markdown": [
       "Run: `gcc fork_exec_pipe.cpp -o fork_exec_pipe.exe`"
      ],
      "text/plain": [
       "<IPython.core.display.Markdown object>"
      ]
     },
     "metadata": {},
     "output_type": "display_data"
    },
    {
     "data": {
      "text/markdown": [
       "Run: `./fork_exec_pipe.exe`"
      ],
      "text/plain": [
       "<IPython.core.display.Markdown object>"
      ]
     },
     "metadata": {},
     "output_type": "display_data"
    },
    {
     "data": {
      "text/markdown": [
       "Run: `echo \"After program finish\" && cat out.txt`"
      ],
      "text/plain": [
       "<IPython.core.display.Markdown object>"
      ]
     },
     "metadata": {},
     "output_type": "display_data"
    },
    {
     "name": "stdout",
     "output_type": "stream",
     "text": [
      "After program finish\r\n",
      "Redirectred 'Hello world!'"
     ]
    }
   ],
   "source": [
    "%%cpp fork_exec_pipe.cpp\n",
    "%run gcc fork_exec_pipe.cpp -o fork_exec_pipe.exe\n",
    "%run ./fork_exec_pipe.exe\n",
    "%run echo \"After program finish\" && cat out.txt\n",
    "\n",
    "#include <stdio.h>\n",
    "#include <unistd.h>\n",
    "#include <assert.h>\n",
    "#include <fcntl.h>\n",
    "#include <sys/types.h>\n",
    "\n",
    "\n",
    "int main() {\n",
    "    int fd = open(\"out.txt\", O_WRONLY | O_CREAT | O_TRUNC, 0664);\n",
    "    dup2(fd, 1); // redirect stdout to file\n",
    "    close(fd);\n",
    "    printf(\"Redirectred 'Hello world!'\");\n",
    "    return 0;\n",
    "}"
   ]
  },
  {
   "cell_type": "markdown",
   "metadata": {},
   "source": [
    "# fork + exec + dup2\n",
    "Реализуем перенаправление вывода программы в файл. (Оператор `>` из bash)"
   ]
  },
  {
   "cell_type": "code",
   "execution_count": 8,
   "metadata": {},
   "outputs": [
    {
     "data": {
      "text/markdown": [
       "Run: `gcc redirect.cpp -o redirect.exe`"
      ],
      "text/plain": [
       "<IPython.core.display.Markdown object>"
      ]
     },
     "metadata": {},
     "output_type": "display_data"
    },
    {
     "data": {
      "text/markdown": [
       "Run: `./redirect.exe out.txt   ps aux`"
      ],
      "text/plain": [
       "<IPython.core.display.Markdown object>"
      ]
     },
     "metadata": {},
     "output_type": "display_data"
    },
    {
     "data": {
      "text/markdown": [
       "Run: `cat out.txt | head -n 2`"
      ],
      "text/plain": [
       "<IPython.core.display.Markdown object>"
      ]
     },
     "metadata": {},
     "output_type": "display_data"
    },
    {
     "name": "stdout",
     "output_type": "stream",
     "text": [
      "USER       PID %CPU %MEM    VSZ   RSS TTY      STAT START   TIME COMMAND\r\n",
      "root         1  0.0  0.2  37752  4284 ?        Ss   Feb27   0:12 /lib/systemd/systemd --system --deserialize 21\r\n"
     ]
    }
   ],
   "source": [
    "%%cpp redirect.cpp\n",
    "%run gcc redirect.cpp -o redirect.exe\n",
    "%run ./redirect.exe out.txt   ps aux\n",
    "%run cat out.txt | head -n 2\n",
    "\n",
    "#include <stdio.h>\n",
    "#include <stdlib.h>\n",
    "#include <unistd.h>\n",
    "#include <assert.h>\n",
    "#include <fcntl.h>\n",
    "#include <sys/resource.h>\n",
    "#include <sys/types.h>\n",
    "#include <sys/wait.h>\n",
    "\n",
    "\n",
    "int main(int argc, char** argv) {\n",
    "    assert(argc >= 2);\n",
    "    int fd = open(argv[1], O_WRONLY | O_CREAT | O_TRUNC, 0664);\n",
    "    assert(fd >= 0);\n",
    "    dup2(fd, 1);\n",
    "    close(fd);\n",
    "    execvp(argv[2], argv + 2);\n",
    "    assert(0 && \"Unreachable position in code if execlp succeeded\");\n",
    "}"
   ]
  },
  {
   "cell_type": "markdown",
   "metadata": {},
   "source": [
    "# fork + exec + pipe + dup2\n",
    "\n",
    "`man 2 pipe`, `man dup2`\n",
    "\n",
    "Реализуем логику пайпа / оператора `|` из bash: запуск двух программ и перенаправление вывода одной на ввод другой."
   ]
  },
  {
   "cell_type": "code",
   "execution_count": 9,
   "metadata": {},
   "outputs": [
    {
     "data": {
      "text/markdown": [
       "Run: `gcc fork_exec_pipe.cpp -o fork_exec_pipe.exe`"
      ],
      "text/plain": [
       "<IPython.core.display.Markdown object>"
      ]
     },
     "metadata": {},
     "output_type": "display_data"
    },
    {
     "data": {
      "text/markdown": [
       "Run: `./fork_exec_pipe.exe`"
      ],
      "text/plain": [
       "<IPython.core.display.Markdown object>"
      ]
     },
     "metadata": {},
     "output_type": "display_data"
    },
    {
     "name": "stdout",
     "output_type": "stream",
     "text": [
      "USER       PID %CPU %MEM    VSZ   RSS TTY      STAT START   TIME COMMAND\r\n",
      "root         1  0.0  0.2  37752  4284 ?        Ss   Feb27   0:12 /lib/systemd/systemd --system --deserialize 21\r\n",
      "root         2  0.0  0.0      0     0 ?        S    Feb27   0:00 [kthreadd]\r\n",
      "root         4  0.0  0.0      0     0 ?        I<   Feb27   0:00 [kworker/0:0H]\r\n"
     ]
    }
   ],
   "source": [
    "%%cpp fork_exec_pipe.cpp\n",
    "%run gcc fork_exec_pipe.cpp -o fork_exec_pipe.exe\n",
    "%run ./fork_exec_pipe.exe\n",
    "\n",
    "#include <stdio.h>\n",
    "#include <stdlib.h>\n",
    "#include <unistd.h>\n",
    "#include <assert.h>\n",
    "#include <fcntl.h>\n",
    "#include <sys/resource.h>\n",
    "#include <sys/types.h>\n",
    "#include <sys/wait.h>\n",
    "\n",
    "\n",
    "int main() {\n",
    "    int fd[2];\n",
    "    pipe(fd); // fd[0] - in, fd[1] - out (like stdin=0, stdout=1)\n",
    "    pid_t pid_1, pid_2;\n",
    "    if ((pid_1 = fork()) == 0) {\n",
    "        dup2(fd[1], 1);\n",
    "        close(fd[0]);\n",
    "        close(fd[1]);\n",
    "        execlp(\"ps\", \"ps\", \"aux\", NULL);\n",
    "        assert(0 && \"Unreachable position in code if execlp succeeded\");\n",
    "    }\n",
    "    if ((pid_2 = fork()) == 0) {\n",
    "        dup2(fd[0], 0);\n",
    "        close(fd[0]);\n",
    "        close(fd[1]);\n",
    "        execlp(\"head\", \"head\", \"-n\", \"4\", NULL);\n",
    "        assert(0 && \"Unreachable position in code if execlp succeeded\");\n",
    "    }\n",
    "    close(fd[0]);\n",
    "    close(fd[1]);\n",
    "    int status;\n",
    "    assert(waitpid(pid_1, &status, 0) != -1);\n",
    "    assert(waitpid(pid_2, &status, 0) != -1);\n",
    "    return 0;\n",
    "}"
   ]
  },
  {
   "cell_type": "code",
   "execution_count": 10,
   "metadata": {},
   "outputs": [
    {
     "name": "stdout",
     "output_type": "stream",
     "text": [
      "DUP(2)                     Linux Programmer's Manual                    DUP(2)\r\n",
      "\r\n",
      "N\bNA\bAM\bME\bE\r\n",
      "       dup, dup2, dup3 - duplicate a file descriptor\r\n",
      "\r\n",
      "S\bSY\bYN\bNO\bOP\bPS\bSI\bIS\bS\r\n",
      "       #\b#i\bin\bnc\bcl\blu\bud\bde\be <\b<u\bun\bni\bis\bst\btd\bd.\b.h\bh>\b>\r\n",
      "\r\n",
      "       i\bin\bnt\bt d\bdu\bup\bp(\b(i\bin\bnt\bt _\bo_\bl_\bd_\bf_\bd)\b);\b;\r\n",
      "       i\bin\bnt\bt d\bdu\bup\bp2\b2(\b(i\bin\bnt\bt _\bo_\bl_\bd_\bf_\bd,\b, i\bin\bnt\bt _\bn_\be_\bw_\bf_\bd)\b);\b;\r\n",
      "\r\n",
      "       #\b#d\bde\bef\bfi\bin\bne\be _\b_G\bGN\bNU\bU_\b_S\bSO\bOU\bUR\bRC\bCE\bE             /* See feature_test_macros(7) */\r\n",
      "       #\b#i\bin\bnc\bcl\blu\bud\bde\be <\b<f\bfc\bcn\bnt\btl\bl.\b.h\bh>\b>              /* Obtain O_* constant definitions */\r\n",
      "       #\b#i\bin\bnc\bcl\blu\bud\bde\be <\b<u\bun\bni\bis\bst\btd\bd.\b.h\bh>\b>\r\n",
      "\r\n",
      "       i\bin\bnt\bt d\bdu\bup\bp3\b3(\b(i\bin\bnt\bt _\bo_\bl_\bd_\bf_\bd,\b, i\bin\bnt\bt _\bn_\be_\bw_\bf_\bd,\b, i\bin\bnt\bt _\bf_\bl_\ba_\bg_\bs)\b);\b;\r\n",
      "\r\n",
      "D\bDE\bES\bSC\bCR\bRI\bIP\bPT\bTI\bIO\bON\bN\r\n",
      "       The  d\bdu\bup\bp()  system  call  creates  a copy of the file descriptor _\bo_\bl_\bd_\bf_\bd,\r\n",
      "       using the lowest-numbered unused descriptor for the new descriptor.\r\n",
      "\r\n",
      "       After a successful return, the old and new file descriptors may be used\r\n",
      "       interchangeably.   They  refer  to  the same open file description (see\r\n",
      "       o\bop\bpe\ben\bn(2)) and thus share file offset and file status flags; for example,\r\n",
      "       if the file offset is modified by using l\bls\bse\bee\bek\bk(2) on one of the descrip‐\r\n",
      "       tors, the offset is also changed for the other.\r\n",
      "\r\n",
      "       The two descriptors do not share file descriptor flags  (the  close-on-\r\n",
      "       exec  flag).  The close-on-exec flag (F\bFD\bD_\b_C\bCL\bLO\bOE\bEX\bXE\bEC\bC; see f\bfc\bcn\bnt\btl\bl(2)) for the\r\n",
      "       duplicate descriptor is off.\r\n",
      "\r\n",
      "   d\bdu\bup\bp2\b2(\b()\b)\r\n",
      "       The d\bdu\bup\bp2\b2() system call performs the same task as d\bdu\bup\bp(), but instead  of\r\n",
      "       using  the lowest-numbered unused file descriptor, it uses the descrip‐\r\n",
      "       tor number specified in _\bn_\be_\bw_\bf_\bd.  If the descriptor _\bn_\be_\bw_\bf_\bd was  previously\r\n",
      "       open, it is silently closed before being reused.\r\n",
      "\r\n",
      "       The  steps  of  closing  and reusing the file descriptor _\bn_\be_\bw_\bf_\bd are per‐\r\n",
      "       formed _\ba_\bt_\bo_\bm_\bi_\bc_\ba_\bl_\bl_\by.  This is  important,  because  trying  to  implement\r\n",
      "       equivalent  functionality  using c\bcl\blo\bos\bse\be(2) and d\bdu\bup\bp() would be subject to\r\n",
      "       race conditions, whereby _\bn_\be_\bw_\bf_\bd might be reused between the  two  steps.\r\n",
      "       Such  reuse  could  happen because the main program is interrupted by a\r\n",
      "       signal handler that allocates a file descriptor, or because a  parallel\r\n",
      "       thread allocates a file descriptor.\r\n",
      "\r\n",
      "       Note the following points:\r\n",
      "\r\n",
      "       *  If  _\bo_\bl_\bd_\bf_\bd  is  not a valid file descriptor, then the call fails, and\r\n",
      "          _\bn_\be_\bw_\bf_\bd is not closed.\r\n",
      "\r\n",
      "       *  If _\bo_\bl_\bd_\bf_\bd is a valid file descriptor, and _\bn_\be_\bw_\bf_\bd has the same value as\r\n",
      "          _\bo_\bl_\bd_\bf_\bd, then d\bdu\bup\bp2\b2() does nothing, and returns _\bn_\be_\bw_\bf_\bd.\r\n",
      "\r\n",
      "   d\bdu\bup\bp3\b3(\b()\b)\r\n",
      "       d\bdu\bup\bp3\b3() is the same as d\bdu\bup\bp2\b2(), except that:\r\n",
      "\r\n",
      "       *  The  caller  can  force the close-on-exec flag to be set for the new\r\n",
      "          file descriptor by specifying O\bO_\b_C\bCL\bLO\bOE\bEX\bXE\bEC\bC in _\bf_\bl_\ba_\bg_\bs.  See the  descrip‐\r\n",
      "          tion of the same flag in o\bop\bpe\ben\bn(2) for reasons why this may be useful.\r\n",
      "\r\n",
      "       *  If _\bo_\bl_\bd_\bf_\bd equals _\bn_\be_\bw_\bf_\bd, then d\bdu\bup\bp3\b3() fails with the error E\bEI\bIN\bNV\bVA\bAL\bL.\r\n",
      "\r\n",
      "R\bRE\bET\bTU\bUR\bRN\bN V\bVA\bAL\bLU\bUE\bE\r\n",
      "       On success, these system calls return the new descriptor.  On error, -1\r\n",
      "       is returned, and _\be_\br_\br_\bn_\bo is set appropriately.\r\n",
      "\r\n",
      "E\bER\bRR\bRO\bOR\bRS\bS\r\n",
      "       E\bEB\bBA\bAD\bDF\bF  _\bo_\bl_\bd_\bf_\bd isn't an open file descriptor.\r\n",
      "\r\n",
      "       E\bEB\bBA\bAD\bDF\bF  _\bn_\be_\bw_\bf_\bd is out of the allowed range for file descriptors (see  the\r\n",
      "              discussion of R\bRL\bLI\bIM\bMI\bIT\bT_\b_N\bNO\bOF\bFI\bIL\bLE\bE in g\bge\bet\btr\brl\bli\bim\bmi\bit\bt(2)).\r\n",
      "\r\n",
      "       E\bEB\bBU\bUS\bSY\bY  (Linux  only)  This may be returned by d\bdu\bup\bp2\b2() or d\bdu\bup\bp3\b3() during a\r\n",
      "              race condition with o\bop\bpe\ben\bn(2) and d\bdu\bup\bp().\r\n",
      "\r\n",
      "       E\bEI\bIN\bNT\bTR\bR  The d\bdu\bup\bp2\b2() or d\bdu\bup\bp3\b3() call was interrupted by a signal; see  s\bsi\big\bg‐\b‐\r\n",
      "              n\bna\bal\bl(7).\r\n",
      "\r\n",
      "       E\bEI\bIN\bNV\bVA\bAL\bL (d\bdu\bup\bp3\b3()) _\bf_\bl_\ba_\bg_\bs contain an invalid value.\r\n",
      "\r\n",
      "       E\bEI\bIN\bNV\bVA\bAL\bL (d\bdu\bup\bp3\b3()) _\bo_\bl_\bd_\bf_\bd was equal to _\bn_\be_\bw_\bf_\bd.\r\n",
      "\r\n",
      "       E\bEM\bMF\bFI\bIL\bLE\bE The per-process limit on the number of open file descriptors has\r\n",
      "              been reached (see  the  discussion  of  R\bRL\bLI\bIM\bMI\bIT\bT_\b_N\bNO\bOF\bFI\bIL\bLE\bE  in  g\bge\bet\btr\br‐\b‐\r\n",
      "              l\bli\bim\bmi\bit\bt(2)).\r\n",
      "\r\n",
      "V\bVE\bER\bRS\bSI\bIO\bON\bNS\bS\r\n",
      "       d\bdu\bup\bp3\b3() was added to Linux in version 2.6.27; glibc support is available\r\n",
      "       starting with version 2.9.\r\n",
      "\r\n",
      "C\bCO\bON\bNF\bFO\bOR\bRM\bMI\bIN\bNG\bG T\bTO\bO\r\n",
      "       d\bdu\bup\bp(), d\bdu\bup\bp2\b2(): POSIX.1-2001, POSIX.1-2008, SVr4, 4.3BSD.\r\n",
      "\r\n",
      "       d\bdu\bup\bp3\b3() is Linux-specific.\r\n",
      "\r\n",
      "N\bNO\bOT\bTE\bES\bS\r\n",
      "       The error returned  by  d\bdu\bup\bp2\b2()  is  different  from  that  returned  by\r\n",
      "       f\bfc\bcn\bnt\btl\bl(\b(..., F\bF_\b_D\bDU\bUP\bPF\bFD\bD, ...)\b)  when _\bn_\be_\bw_\bf_\bd is out of range.  On some systems,\r\n",
      "       d\bdu\bup\bp2\b2() also sometimes returns E\bEI\bIN\bNV\bVA\bAL\bL like F\bF_\b_D\bDU\bUP\bPF\bFD\bD.\r\n",
      "\r\n",
      "       If _\bn_\be_\bw_\bf_\bd was open, any errors that would have been reported at c\bcl\blo\bos\bse\be(2)\r\n",
      "       time  are lost.  If this is of concern, then—unless the program is sin‐\r\n",
      "       gle-threaded and does not allocate file descriptors in signal handlers—\r\n",
      "       the  correct  approach  is  _\bn_\bo_\bt  to  close _\bn_\be_\bw_\bf_\bd before calling d\bdu\bup\bp2\b2(),\r\n",
      "       because of the race condition described above.  Instead, code something\r\n",
      "       like the following could be used:\r\n",
      "\r\n",
      "           /* Obtain a duplicate of 'newfd' that can subsequently\r\n",
      "              be used to check for close() errors; an EBADF error\r\n",
      "              means that 'newfd' was not open. */\r\n",
      "\r\n",
      "           tmpfd = dup(newfd);\r\n",
      "           if (tmpfd == -1 && errno != EBADF) {\r\n",
      "               /* Handle unexpected dup() error */\r\n",
      "           }\r\n",
      "\r\n",
      "           /* Atomically duplicate 'oldfd' on 'newfd' */\r\n",
      "\r\n",
      "           if (dup2(oldfd, newfd) == -1) {\r\n",
      "               /* Handle dup2() error */\r\n",
      "           }\r\n",
      "\r\n",
      "           /* Now check for close() errors on the file originally\r\n",
      "              referred to by 'newfd' */\r\n",
      "\r\n",
      "           if (tmpfd != -1) {\r\n",
      "               if (close(tmpfd) == -1) {\r\n",
      "                   /* Handle errors from close */\r\n",
      "               }\r\n",
      "           }\r\n",
      "\r\n",
      "S\bSE\bEE\bE A\bAL\bLS\bSO\bO\r\n",
      "       c\bcl\blo\bos\bse\be(2), f\bfc\bcn\bnt\btl\bl(2), o\bop\bpe\ben\bn(2)\r\n",
      "\r\n",
      "C\bCO\bOL\bLO\bOP\bPH\bHO\bON\bN\r\n",
      "       This  page  is  part of release 4.04 of the Linux _\bm_\ba_\bn_\b-_\bp_\ba_\bg_\be_\bs project.  A\r\n",
      "       description of the project, information about reporting bugs,  and  the\r\n",
      "       latest     version     of     this    page,    can    be    found    at\r\n",
      "       http://www.kernel.org/doc/man-pages/.\r\n",
      "\r\n",
      "Linux                             2015-12-28                            DUP(2)\r\n"
     ]
    }
   ],
   "source": [
    "!man dup2"
   ]
  },
  {
   "cell_type": "markdown",
   "metadata": {},
   "source": [
    "# inf09-0\n",
    "\n",
    "Рекомендуется при отладке задачи использовать следующий набор команд:\n",
    "\n",
    "```\n",
    "sudo useradd tmp_user # создаем пользователя\n",
    "sudo passwd tmp_user  # устанавливаем пароль\n",
    "su tmp_user           # логинимся под пользователя в этом окне терминала\n",
    "ulimit -u 100         # ограничиваем число потоков доступное пользователю\n",
    "./inf09_0.exe         # запускаем опасную программу\n",
    "```\n",
    "\n",
    "Чтобы тестировать в рамках отдельного юзера у которого ограничено число потоков, которое он может создать. Таким образом можно предотвратить эффект fork-бомбы."
   ]
  },
  {
   "cell_type": "code",
   "execution_count": 11,
   "metadata": {},
   "outputs": [
    {
     "data": {
      "text/markdown": [
       "Run: `gcc inf09_0.c -o inf09_0.exe`"
      ],
      "text/plain": [
       "<IPython.core.display.Markdown object>"
      ]
     },
     "metadata": {},
     "output_type": "display_data"
    }
   ],
   "source": [
    "%%cpp inf09_0.c --ejudge-style\n",
    "%run gcc inf09_0.c -o inf09_0.exe\n",
    "\n",
    "#include <assert.h>\n",
    "#include <fcntl.h>\n",
    "#include <stdio.h>\n",
    "#include <stdlib.h>\n",
    "#include <sys/resource.h>\n",
    "#include <sys/types.h>\n",
    "#include <sys/wait.h>\n",
    "#include <unistd.h>\n",
    "\n",
    "int main()\n",
    "{\n",
    "    for (int i = 1; 1; ++i) {\n",
    "        int pid = fork();\n",
    "        fflush(stdout);\n",
    "        if (pid < 0) {\n",
    "            printf(\"%d\\n\", i);\n",
    "            return 0;\n",
    "        }\n",
    "        if (pid != 0) {\n",
    "            int status;\n",
    "            assert(waitpid(pid, &status, 0) != -1);\n",
    "            break;\n",
    "        }\n",
    "    }\n",
    "    return 0;\n",
    "}"
   ]
  },
  {
   "cell_type": "code",
   "execution_count": null,
   "metadata": {},
   "outputs": [],
   "source": []
  },
  {
   "cell_type": "markdown",
   "metadata": {},
   "source": [
    "# malloc fork\n",
    "\n",
    "Один из интересных багов, которые случались в Facebook, включал в себя такую интересную комбинацию:\n",
    "\n",
    "Если сделать malloc(1005000000), то что произойдет? Вызов завершиться, память выделится, но не совсем честно: не все страницы созданной виртуальной памяти будут иметь под собой физические страницы. Поэтому можно так \"выделить\" памяти больше, чем есть в системе. И пока мы как-то не проивзаимодействуем с выделенными страницами, они не будут присоединены к физической памяти.\n",
    "\n",
    "А вот если потом сделать fork, то что будет? По идее fork не копирует сразу физические страницы в памяти, а делает их cow (copy on write), так что потребление памяти не должно измениться. \n",
    "\n",
    "Но оказалось, что при вызове fork вся \"выделенная\" память реально выделяется. То есть для этих 1005000000 выделенных байт реально ищутся страницы физической памяти. Поэтому при вызове fork всё взрывалось. \n"
   ]
  },
  {
   "cell_type": "code",
   "execution_count": null,
   "metadata": {},
   "outputs": [],
   "source": []
  }
 ],
 "metadata": {
  "kernelspec": {
   "display_name": "Python 3",
   "language": "python",
   "name": "python3"
  },
  "language_info": {
   "codemirror_mode": {
    "name": "ipython",
    "version": 3
   },
   "file_extension": ".py",
   "mimetype": "text/x-python",
   "name": "python",
   "nbconvert_exporter": "python",
   "pygments_lexer": "ipython3",
   "version": "3.8.2"
  }
 },
 "nbformat": 4,
 "nbformat_minor": 2
}
