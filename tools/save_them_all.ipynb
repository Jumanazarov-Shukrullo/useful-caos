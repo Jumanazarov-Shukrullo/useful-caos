{
 "cells": [
  {
   "cell_type": "markdown",
   "metadata": {},
   "source": [
    "# <a name=\"how\"></a> Как сделать пулл реквест?\n",
    "\n",
    "0. Выбираем, где хотим провести изменения, в форке репозитория (более предпочтительно, но не принципиально) или в самом репозитории (в этом случае нужно запросить у меня доступ).\n",
    "1. Нужно произвести все желаемые изменения в семинарском ноутбуке. И убедиться, что эти изменения сохранены (юпитер у меня иногда тупит, поэтому жму трижды `ctrl-s` с интервалом около секунды).\n",
    "  <br> Постарайтесь ограничиться минимальными изменениями. Так же убедитесь, что у вас актуальная версия репозитория. (Я сам в недавние ноутбуки могу теоретически каждый день коммитить, а мои изменения затирать не надо :) ).\n",
    "2. Далее в этом ноутбуке (он умеет правильно генерировать `.md` файлы):\n",
    "  <br>A.  <a href=\"#what\" style=\"color:#856024\"> Здесь </a> выбираем семинар(ы), к которому сделали правку. `../tools` выбирать не надо.\n",
    "  <br>B.  <a href=\"#github\" style=\"color:#856024\"> Здесь </a> можно написать свой commit message, если есть желание. Можно оставить как есть. В этом репозитории нет культуры хороших сообщений к коммитам :)\n",
    "  <br>C.  Запускаем этот ноутбук, он сгенерит `.md`-шки и закоммитит изменения на гитхаб.\n",
    "3. Если изменение было в форке, то делаем пулл реквест."
   ]
  },
  {
   "cell_type": "markdown",
   "metadata": {},
   "source": [
    "### <a name=\"what\"></a> Выбираем что коммитить"
   ]
  },
  {
   "cell_type": "code",
   "execution_count": 20,
   "metadata": {
    "scrolled": true
   },
   "outputs": [
    {
     "name": "stdout",
     "output_type": "stream",
     "text": [
      "Highlevel dirs: ['../sem08-x86-fpmath-sse']\n"
     ]
    }
   ],
   "source": [
    "import glob\n",
    "import os\n",
    "import subprocess\n",
    "\n",
    "highlevel_dirs = sum([\n",
    "    #[\"../tools\"], \n",
    "    sorted(glob.glob(\"../sem08*\")),\n",
    "    #sorted(glob.glob(\"../sem07*\")),\n",
    "    #sorted(glob.glob(\"../extra*\")),\n",
    "], [])\n",
    "\n",
    "print(\"Highlevel dirs:\", highlevel_dirs)"
   ]
  },
  {
   "cell_type": "code",
   "execution_count": 21,
   "metadata": {},
   "outputs": [],
   "source": [
    "tmp_dir = \"./tmp_dir\"\n",
    "get_ipython().system('rm -r {tmp_dir} ; mkdir {tmp_dir} 2>&1 | grep -v \"File exists\"'.format(tmp_dir=tmp_dir))"
   ]
  },
  {
   "cell_type": "markdown",
   "metadata": {},
   "source": [
    "### Генерируем все .md-шки стандартными средствами\n",
    "\\+ Делаем .md-шки очищенные для вывода. По этим .md-шкам можно будет смотреть реальную историю изменений. И дифф при пулреквестах."
   ]
  },
  {
   "cell_type": "code",
   "execution_count": 22,
   "metadata": {},
   "outputs": [],
   "source": [
    "def execute_all_in_parallel(tasks):\n",
    "    ps = []\n",
    "    for t in tasks:\n",
    "        ps.append(subprocess.Popen([\"bash\", \"-c\", t], stdout=subprocess.PIPE, stderr=subprocess.PIPE))\n",
    "    for p in ps:\n",
    "        out, err = p.communicate()\n",
    "        print(out.decode(), err.decode())"
   ]
  },
  {
   "cell_type": "code",
   "execution_count": 23,
   "metadata": {},
   "outputs": [
    {
     "name": "stdout",
     "output_type": "stream",
     "text": [
      "../sem08-x86-fpmath-sse ['../sem08-x86-fpmath-sse/fpmath_sse.ipynb']\n",
      "jupyter nbconvert ../sem08-x86-fpmath-sse/fpmath_sse.ipynb --to markdown --output README\n",
      "cp ../sem08-x86-fpmath-sse/fpmath_sse.ipynb ./tmp_dir/2826881759286590356_fpmath_sse.ipynb && jupyter nbconvert ./tmp_dir/2826881759286590356_fpmath_sse.ipynb --ClearOutputPreprocessor.enabled=True --inplace && jupyter nbconvert ./tmp_dir/2826881759286590356_fpmath_sse.ipynb --to markdown --output 2826881759286590356_fpmath_sse.ipynb && cp ./tmp_dir/2826881759286590356_fpmath_sse.ipynb.md ../sem08-x86-fpmath-sse/README_no_output.md\n",
      " [NbConvertApp] Converting notebook ../sem08-x86-fpmath-sse/fpmath_sse.ipynb to markdown\n",
      "[NbConvertApp] Writing 28429 bytes to ../sem08-x86-fpmath-sse/README.md\n",
      "\n",
      " [NbConvertApp] Converting notebook ./tmp_dir/2826881759286590356_fpmath_sse.ipynb to notebook\n",
      "[NbConvertApp] Writing 27347 bytes to ./tmp_dir/2826881759286590356_fpmath_sse.ipynb\n",
      "[NbConvertApp] Converting notebook ./tmp_dir/2826881759286590356_fpmath_sse.ipynb to markdown\n",
      "[NbConvertApp] Writing 20966 bytes to ./tmp_dir/2826881759286590356_fpmath_sse.ipynb.md\n",
      "\n"
     ]
    }
   ],
   "source": [
    "from multiprocessing import Pool\n",
    "\n",
    "tasks = []\n",
    "\n",
    "def convert_tasks(n, d):\n",
    "    no_output_file = d + \"_no_output\"\n",
    "    src_copy = str(abs(hash(n))) + '_' + os.path.basename(n)\n",
    "    path = os.path.dirname(n)\n",
    "    return [\n",
    "        \"jupyter nbconvert {} --to markdown --output {}\".format(n, d),\n",
    "        \" && \".join([\n",
    "            \"cp {src} {tmp_dir}/{src_copy}\",\n",
    "            \"jupyter nbconvert {tmp_dir}/{src_copy} --ClearOutputPreprocessor.enabled=True --inplace\",\n",
    "            \"jupyter nbconvert {tmp_dir}/{src_copy} --to markdown --output {src_copy}\",\n",
    "            \"cp {tmp_dir}/{src_copy}.md {path}/{no_output_file}.md\",\n",
    "        ]).format(src=n, no_output_file=no_output_file, dst=d, tmp_dir=tmp_dir, src_copy=src_copy, path=path),\n",
    "    ]\n",
    "    \n",
    "for subdir in highlevel_dirs:\n",
    "    notebooks = glob.glob(subdir + \"/*.ipynb\")\n",
    "    print(subdir, notebooks)\n",
    "    for m in glob.glob(subdir + \"/*.md\"):\n",
    "        os.remove(m)\n",
    "    if len(notebooks) == 1:\n",
    "        tasks.extend(convert_tasks(notebooks[0], \"README\"))\n",
    "    else:\n",
    "        for n in notebooks:\n",
    "            tasks.extend(convert_tasks(n, os.path.basename(n.replace(\".ipynb\", \"\"))))\n",
    "        nmds = [os.path.basename(n).replace(\".ipynb\", \".md\") for n in notebooks]\n",
    "        with open(os.path.join(subdir, \"README.md\"), \"w\") as f:\n",
    "            f.write('\\n'.join(\n",
    "                ['# Ноутбуки семинара'] + \n",
    "                ['* [{nmd}]({nmd})'.format(nmd=nmd) for nmd in nmds] + \n",
    "                ['']\n",
    "            ))\n",
    "\n",
    "print(\"\\n\".join(tasks))\n",
    "\n",
    "execute_all_in_parallel(tasks)"
   ]
  },
  {
   "cell_type": "markdown",
   "metadata": {},
   "source": [
    "### Магические исправления\n",
    "\n",
    "Стандартная конвертилка не учитывает некоторых особенностей маркдауна на гитхабе и некоторых особенностей моих ноутбуков. Поэтому результат надо допилить напильником."
   ]
  },
  {
   "cell_type": "code",
   "execution_count": 24,
   "metadata": {},
   "outputs": [],
   "source": [
    "import re\n",
    "\n",
    "\n",
    "def basic_improve(fname):\n",
    "    with open(fname, \"r\") as f:\n",
    "        r = f.read()\n",
    "    for b in [\"\\x00\", \"\\x1B\", \"\\x08\"]:\n",
    "        r = r.replace(b, \"\")\n",
    "    with open(fname, \"w\") as f:\n",
    "        f.write(r)\n",
    "    return \"dos2unix {}\".format(fname)\n",
    "\n",
    "def improve_md(fname):\n",
    "    with open(fname, \"r\") as f:\n",
    "        r = f.read()\n",
    "    r = r.replace(\"```python\\n%%cpp\", \"```cpp\\n%%cpp\")\n",
    "    r = r.replace(\"```python\\n%%cmake\", \"```cmake\\n%%cmake\")\n",
    "    r = r.replace('\\n', \"SUPER_SLASH\" + \"_N_REPLACER\")\n",
    "    \n",
    "    r = re.sub(r'\\<\\!--MD_BEGIN_FILTER--\\>.*?\\<\\!--MD_END_FILTER--\\>', \"\", r)\n",
    "    \n",
    "    r = r.replace(\"SUPER_SLASH\" + \"_N_REPLACER\", '\\n')\n",
    "    \n",
    "    template = \"#\"\"MAGICS_SETUP_END\"\n",
    "    bpos = r.rfind(template)\n",
    "    if bpos != -1:\n",
    "        r = r[bpos + len(template):]\n",
    "        template = \"```\"\n",
    "        bpos = r.find(template)\n",
    "        assert bpos >= 0\n",
    "        r = r[bpos + len(template):]\n",
    "    \n",
    "    \n",
    "    template = \"<\"\"!-- MAGICS_SETUP_PRINTING_END -->\"\n",
    "    bpos = r.rfind(template)\n",
    "    if bpos != -1:\n",
    "        r = r[bpos + len(template):]\n",
    "    \n",
    "    def file_repl(matchobj, path=os.path.dirname(fname)):\n",
    "        fname = os.path.join(path, matchobj.group(1))\n",
    "        if fname.find(\"__FILE__\") == -1:\n",
    "            with open(fname, \"r\") as f:\n",
    "                return \"\\n<pre>\\n\" + f.read() + \"\\n</pre>\\n\"\n",
    "    \n",
    "    r = r.replace(\"</td>\", \"\")\n",
    "    r = r.replace(\"</tr>\", \"\")\n",
    "    \n",
    "    r = re.sub(r'\\<\\!--MD_FROM_FILE (.*?) --\\>', file_repl, r)\n",
    "    with open(fname, \"w\") as f:\n",
    "        f.write(r)\n",
    "        \n",
    "def improve_file(fname):\n",
    "    if fname.endswith(\".md\"):\n",
    "        improve_md(fname)\n"
   ]
  },
  {
   "cell_type": "code",
   "execution_count": 25,
   "metadata": {},
   "outputs": [
    {
     "name": "stdout",
     "output_type": "stream",
     "text": [
      " dos2unix: converting file ./../sem08-x86-fpmath-sse/fpmath_sse.ipynb to Unix format...\n",
      "\n",
      " dos2unix: converting file ./../sem08-x86-fpmath-sse/README.md to Unix format...\n",
      "\n",
      " dos2unix: converting file ./../sem08-x86-fpmath-sse/README_no_output.md to Unix format...\n",
      "\n"
     ]
    }
   ],
   "source": [
    "tasks = []\n",
    "shell_tasks = []\n",
    "\n",
    "for sfx in [\".ipynb\", \".md\"]:\n",
    "    for hdir in highlevel_dirs:\n",
    "        for fname in glob.glob(\"./{}/*\".format(hdir) + sfx):\n",
    "            shell_tasks.append(basic_improve(fname))\n",
    "            tasks.append(lambda fname=fname: improve_file(fname))\n",
    "            \n",
    "execute_all_in_parallel(shell_tasks)\n",
    "for t in tasks:\n",
    "    t()"
   ]
  },
  {
   "cell_type": "markdown",
   "metadata": {},
   "source": [
    "### Смотрим изменения"
   ]
  },
  {
   "cell_type": "code",
   "execution_count": 26,
   "metadata": {},
   "outputs": [
    {
     "name": "stdout",
     "output_type": "stream",
     "text": [
      "\u001b[1mdiff --git a/sem08-x86-fpmath-sse/README_no_output.md b/sem08-x86-fpmath-sse/README_no_output.md\u001b[m\r\n",
      "\u001b[1mindex d8d923d..6039c03 100644\u001b[m\r\n",
      "\u001b[1m--- a/sem08-x86-fpmath-sse/README_no_output.md\u001b[m\r\n",
      "\u001b[1m+++ b/sem08-x86-fpmath-sse/README_no_output.md\u001b[m\r\n",
      "\u001b[36m@@ -2,16 +2,10 @@\u001b[m\r\n",
      " \u001b[m\r\n",
      " # Вещественная арифметика на x86 и SSE\u001b[m\r\n",
      " \u001b[m\r\n",
      "\u001b[31m-<table width=100%> <tr>\u001b[m\r\n",
      "\u001b[31m-    <th width=20%> <b>Видеозапись семинара &rarr; </b> </th>\u001b[m\r\n",
      "\u001b[31m-    <th>\u001b[m\r\n",
      "\u001b[31m-    <a href=\"https://www.youtube.com/watch?v=i_eeouEiXnI&list=PLjzMm8llUm4AmU6i_hPU0NobgA4VsBowc&index=8\">\u001b[m\r\n",
      "\u001b[31m-        <img src=\"video.jpg\" width=\"320\"  height=\"160\" align=\"left\" alt=\"Видео с семинара\"> \u001b[m\r\n",
      "\u001b[31m-    </a>\u001b[m\r\n",
      "\u001b[31m-    </th>\u001b[m\r\n",
      "\u001b[31m-    <th> </th>\u001b[m\r\n",
      "\u001b[31m- </table>\u001b[m\r\n",
      " \u001b[m\r\n",
      "\u001b[32m+\u001b[m\u001b[32m<p><a href=\"https://www.youtube.com/watch?v=obufMgdWPKI&list=PLjzMm8llUm4AmU6i_hPU0NobgA4VsBowc&index=9\" target=\"_blank\">\u001b[m\r\n",
      "\u001b[32m+\u001b[m\u001b[32m    <h3>Видеозапись семинара</h3>\u001b[m\r\n",
      "\u001b[32m+\u001b[m\u001b[32m</a></p>\u001b[m\r\n",
      " \u001b[m\r\n",
      " [Ридинг Яковлева](https://github.com/victor-yacovlev/mipt-diht-caos/tree/master/practice/asm/x86_fpmath) \u001b[m\r\n",
      " \u001b[m\r\n"
     ]
    }
   ],
   "source": [
    "for subdir in highlevel_dirs:\n",
    "    get_ipython().system(\"git diff {}/*_no_output*\".format(subdir))"
   ]
  },
  {
   "cell_type": "markdown",
   "metadata": {},
   "source": [
    "### <a name=\"github\"></a> Коммитим на github"
   ]
  },
  {
   "cell_type": "code",
   "execution_count": 27,
   "metadata": {
    "scrolled": false
   },
   "outputs": [
    {
     "name": "stdout",
     "output_type": "stream",
     "text": [
      "> git add --ignore-errors  ../sem08-x86-fpmath-sse/*.ipynb\n",
      "> git add --ignore-errors  ../sem08-x86-fpmath-sse/*.md\n",
      "> git add --ignore-errors  ../sem08-x86-fpmath-sse/*.c\n",
      "> git add --ignore-errors  ../sem08-x86-fpmath-sse/*.cpp\n",
      "fatal: pathspec '../sem08-x86-fpmath-sse/*.cpp' did not match any files\n",
      "> git add --ignore-errors -f  -f ../sem08-x86-fpmath-sse/bash_popen_tmp/*.html\n",
      "warning: could not open directory 'sem08-x86-fpmath-sse/bash_popen_tmp/': No such file or directory\n",
      "fatal: pathspec '../sem08-x86-fpmath-sse/bash_popen_tmp/*.html' did not match any files\n",
      "> git add --ignore-errors -f  -f ../sem08-x86-fpmath-sse/interactive_launcher_tmp/*.log\n",
      "warning: could not open directory 'sem08-x86-fpmath-sse/interactive_launcher_tmp/': No such file or directory\n",
      "fatal: pathspec '../sem08-x86-fpmath-sse/interactive_launcher_tmp/*.log' did not match any files\n",
      "> git add -u ../sem08-x86-fpmath-sse\n",
      "> git commit -m 'yet another update'\n",
      "[master bb56e2a] yet another update\n",
      " 3 files changed, 9 insertions(+), 27 deletions(-)\n",
      "> git push origin master\n",
      "Enumerating objects: 11, done.\n",
      "Counting objects: 100% (11/11), done.\n",
      "Delta compression using up to 4 threads\n",
      "Compressing objects: 100% (6/6), done.\n",
      "Writing objects: 100% (6/6), 746 bytes | 746.00 KiB/s, done.\n",
      "Total 6 (delta 5), reused 0 (delta 0)\n",
      "remote: Resolving deltas: 100% (5/5), completed with 5 local objects.\u001b[K\n",
      "To github.com:yuri-pechatnov/caos.git\n",
      "   a7ca2f8..bb56e2a  master -> master\n"
     ]
    }
   ],
   "source": [
    "cmds = []\n",
    "add_cmd = \"git add --ignore-errors \"\n",
    "add_cmd_f = \"git add --ignore-errors -f \"\n",
    "for subdir in highlevel_dirs:\n",
    "    for sfx in [\".ipynb\", \".md\", \".c\", \".cpp\"]:\n",
    "        cmds.append(add_cmd + \" {}/*{}\".format(subdir, sfx))\n",
    "    cmds.append(add_cmd_f + \" -f {}/bash_popen_tmp/*.html\".format(subdir))\n",
    "    cmds.append(add_cmd_f + \" -f {}/interactive_launcher_tmp/*.log\".format(subdir))\n",
    "    cmds.append(\"git add -u {}\".format(subdir))\n",
    "    \n",
    "def execute_cmd(cmd):\n",
    "    print(\">\", cmd)\n",
    "    get_ipython().system(cmd)\n",
    "    \n",
    "for cmd in cmds:\n",
    "    execute_cmd(cmd)\n",
    "# execute_cmd(\"git add -u\")\n",
    "execute_cmd(\"git commit -m 'yet another update'\")\n",
    "execute_cmd(\"git push origin master\")"
   ]
  },
  {
   "cell_type": "code",
   "execution_count": null,
   "metadata": {},
   "outputs": [],
   "source": []
  },
  {
   "cell_type": "code",
   "execution_count": 28,
   "metadata": {},
   "outputs": [
    {
     "name": "stdout",
     "output_type": "stream",
     "text": [
      "On branch master\n",
      "Your branch is up to date with 'origin/master'.\n",
      "\n",
      "Changes not staged for commit:\n",
      "  (use \"git add/rm <file>...\" to update what will be committed)\n",
      "  (use \"git restore <file>...\" to discard changes in working directory)\n",
      "\t\u001b[31mmodified:   ../caos_2019-2020/sem04-asm-arm/arm.ipynb\u001b[m\n",
      "\t\u001b[31mmodified:   ../caos_2019-2020/sem05-asm-arm-addressing/adressing.ipynb\u001b[m\n",
      "\t\u001b[31mmodified:   ../sem01-intro-linux/intro_linux.ipynb\u001b[m\n",
      "\t\u001b[31mmodified:   ../sem02-instruments-compilation/instruments_compilation.ipynb\u001b[m\n",
      "\t\u001b[31mmodified:   ../sem02-instruments-compilation/macro_example_0.c\u001b[m\n",
      "\t\u001b[31mmodified:   ../sem05-arm-asm/arm_asm.ipynb\u001b[m\n",
      "\t\u001b[31mmodified:   ../sem05-arm-asm/lib.c\u001b[m\n",
      "\t\u001b[31mmodified:   ../sem07-x86-asm/asm_x86-64.ipynb\u001b[m\n",
      "\t\u001b[31mmodified:   ../sem07-x86-asm/intel_example.c\u001b[m\n",
      "\t\u001b[31mdeleted:    interactive_launcher_tmp/325927153848681636.log\u001b[m\n",
      "\t\u001b[31mdeleted:    interactive_launcher_tmp/355906436253704745.log\u001b[m\n",
      "\t\u001b[31mdeleted:    interactive_launcher_tmp/372627075579716753.log\u001b[m\n",
      "\t\u001b[31mdeleted:    interactive_launcher_tmp/621662941835523211.log\u001b[m\n",
      "\t\u001b[31mmodified:   save_them_all.ipynb\u001b[m\n",
      "\t\u001b[31mmodified:   set_up_magics.ipynb\u001b[m\n",
      "\n",
      "Untracked files:\n",
      "  (use \"git add <file>...\" to include in what will be committed)\n",
      "\t\u001b[31m../extra-c-basics/001.expected\u001b[m\n",
      "\t\u001b[31m../extra-c-basics/001.in\u001b[m\n",
      "\t\u001b[31m../extra-c-basics/001.out\u001b[m\n",
      "\t\u001b[31m../extra-c-basics/out\u001b[m\n",
      "\t\u001b[31m../extra-c-basics/test.h\u001b[m\n",
      "\t\u001b[31m../extra-c-basics/test.sh\u001b[m\n",
      "\t\u001b[31m../sem01-intro-linux/2\u001b[m\n",
      "\t\u001b[31m../sem01-intro-linux/a.sh\u001b[m\n",
      "\t\u001b[31m../sem01-intro-linux/a.txt\u001b[m\n",
      "\t\u001b[31m../sem01-intro-linux/b.txt\u001b[m\n",
      "\t\u001b[31m../sem01-intro-linux/err\u001b[m\n",
      "\t\u001b[31m../sem01-intro-linux/err.txt\u001b[m\n",
      "\t\u001b[31m../sem01-intro-linux/file.txt\u001b[m\n",
      "\t\u001b[31m../sem01-intro-linux/file2.txt\u001b[m\n",
      "\t\u001b[31m../sem01-intro-linux/interactive_launcher_tmp/104342371564797143.log.md\u001b[m\n",
      "\t\u001b[31m../sem01-intro-linux/interactive_launcher_tmp/134856167677051543.log.md\u001b[m\n",
      "\t\u001b[31m../sem01-intro-linux/interactive_launcher_tmp/159458045408584490.log.md\u001b[m\n",
      "\t\u001b[31m../sem01-intro-linux/interactive_launcher_tmp/160806476576838908.log.md\u001b[m\n",
      "\t\u001b[31m../sem01-intro-linux/interactive_launcher_tmp/237887356681257319.log.md\u001b[m\n",
      "\t\u001b[31m../sem01-intro-linux/interactive_launcher_tmp/272097196292346552.log.md\u001b[m\n",
      "\t\u001b[31m../sem01-intro-linux/interactive_launcher_tmp/291478633046804378.log.md\u001b[m\n",
      "\t\u001b[31m../sem01-intro-linux/interactive_launcher_tmp/299779856288802977.log.md\u001b[m\n",
      "\t\u001b[31m../sem01-intro-linux/interactive_launcher_tmp/308063480967833729.log.md\u001b[m\n",
      "\t\u001b[31m../sem01-intro-linux/interactive_launcher_tmp/33203167529660997.log.md\u001b[m\n",
      "\t\u001b[31m../sem01-intro-linux/interactive_launcher_tmp/357027856339287279.log.md\u001b[m\n",
      "\t\u001b[31m../sem01-intro-linux/interactive_launcher_tmp/357412744100799582.log.md\u001b[m\n",
      "\t\u001b[31m../sem01-intro-linux/interactive_launcher_tmp/363736236628022803.log.md\u001b[m\n",
      "\t\u001b[31m../sem01-intro-linux/interactive_launcher_tmp/368536380590515236.log.md\u001b[m\n",
      "\t\u001b[31m../sem01-intro-linux/interactive_launcher_tmp/38653968711948138.log.md\u001b[m\n",
      "\t\u001b[31m../sem01-intro-linux/interactive_launcher_tmp/390229348646733600.log.md\u001b[m\n",
      "\t\u001b[31m../sem01-intro-linux/interactive_launcher_tmp/44638202710957050.log.md\u001b[m\n",
      "\t\u001b[31m../sem01-intro-linux/interactive_launcher_tmp/488615332501153522.log.md\u001b[m\n",
      "\t\u001b[31m../sem01-intro-linux/interactive_launcher_tmp/547003026116871195.log.md\u001b[m\n",
      "\t\u001b[31m../sem01-intro-linux/interactive_launcher_tmp/551941962051262166.log.md\u001b[m\n",
      "\t\u001b[31m../sem01-intro-linux/interactive_launcher_tmp/577835561503179454.log.md\u001b[m\n",
      "\t\u001b[31m../sem01-intro-linux/interactive_launcher_tmp/580865104873188457.log.md\u001b[m\n",
      "\t\u001b[31m../sem01-intro-linux/interactive_launcher_tmp/58318340108386158.log.md\u001b[m\n",
      "\t\u001b[31m../sem01-intro-linux/interactive_launcher_tmp/60572178042054264.log.md\u001b[m\n",
      "\t\u001b[31m../sem01-intro-linux/interactive_launcher_tmp/659941140088179386.log.md\u001b[m\n",
      "\t\u001b[31m../sem01-intro-linux/interactive_launcher_tmp/718444346696566167.log.md\u001b[m\n",
      "\t\u001b[31m../sem01-intro-linux/interactive_launcher_tmp/731534507899320722.log.md\u001b[m\n",
      "\t\u001b[31m../sem01-intro-linux/interactive_launcher_tmp/761344427069245362.log.md\u001b[m\n",
      "\t\u001b[31m../sem01-intro-linux/interactive_launcher_tmp/777467580737092300.log.md\u001b[m\n",
      "\t\u001b[31m../sem01-intro-linux/interactive_launcher_tmp/799265701962172890.log.md\u001b[m\n",
      "\t\u001b[31m../sem01-intro-linux/interactive_launcher_tmp/887167192337308461.log.md\u001b[m\n",
      "\t\u001b[31m../sem01-intro-linux/interactive_launcher_tmp/906648630641962511.log.md\u001b[m\n",
      "\t\u001b[31m../sem01-intro-linux/interactive_launcher_tmp/928497432930519081.log.md\u001b[m\n",
      "\t\u001b[31m../sem01-intro-linux/interactive_launcher_tmp/93290423175998573.log.md\u001b[m\n",
      "\t\u001b[31m../sem01-intro-linux/interactive_launcher_tmp/965132557118189549.log.md\u001b[m\n",
      "\t\u001b[31m../sem01-intro-linux/out\u001b[m\n",
      "\t\u001b[31m../sem01-intro-linux/out.txt\u001b[m\n",
      "\t\u001b[31m../sem02-instruments-compilation/a.out\u001b[m\n",
      "\t\u001b[31m../sem02-instruments-compilation/a.txt\u001b[m\n",
      "\t\u001b[31m../sem02-instruments-compilation/g.h\u001b[m\n",
      "\t\u001b[31m../sem02-instruments-compilation/lib.\u001b[m\n",
      "\t\u001b[31m../sem02-instruments-compilation/lib.a\u001b[m\n",
      "\t\u001b[31m../sem02-instruments-compilation/out\u001b[m\n",
      "\t\u001b[31m../sem02-instruments-compilation/preprocessing_max.h\u001b[m\n",
      "\t\u001b[31m../sem03-cmake-python-bindings/._poll.png\u001b[m\n",
      "\t\u001b[31m../sem03-cmake-python-bindings/api_module_example.py\u001b[m\n",
      "\t\u001b[31m../sem03-cmake-python-bindings/c_api_module_2_example.py\u001b[m\n",
      "\t\u001b[31m../sem03-cmake-python-bindings/c_api_own_type_module_example.py\u001b[m\n",
      "\t\u001b[31m../sem03-cmake-python-bindings/count_1e8_cython.py\u001b[m\n",
      "\t\u001b[31m../sem03-cmake-python-bindings/count_1e8_native.py\u001b[m\n",
      "\t\u001b[31m../sem03-cmake-python-bindings/ctypes_example.py\u001b[m\n",
      "\t\u001b[31m../sem03-cmake-python-bindings/cython_setup.py\u001b[m\n",
      "\t\u001b[31m../sem03-cmake-python-bindings/make_example/\u001b[m\n",
      "\t\u001b[31m../sem03-cmake-python-bindings/pairs.h\u001b[m\n",
      "\t\u001b[31m../sem03-cmake-python-bindings/pairs.pxd\u001b[m\n",
      "\t\u001b[31m../sem03-cmake-python-bindings/pairs.pyx\u001b[m\n",
      "\t\u001b[31m../sem03-cmake-python-bindings/pybind_setup.py\u001b[m\n",
      "\t\u001b[31m../sem03-cmake-python-bindings/python_cmake_example/\u001b[m\n",
      "\t\u001b[31m../sem03-cmake-python-bindings/simple_cmake_example/\u001b[m\n",
      "\t\u001b[31m../sem03-cmake-python-bindings/test_pairs.py\u001b[m\n",
      "\t\u001b[31m../sem03-cmake-python-bindings/test_pybind_pairs.py\u001b[m\n",
      "\t\u001b[31m../sem04-int-float/code_sample\u001b[m\n",
      "\t\u001b[31m../sem04-int-float/run_ub.py\u001b[m\n",
      "\t\u001b[31m../sem04-int-float/stand.h\u001b[m\n",
      "\t\u001b[31m../sem04-int-float/text\u001b[m\n",
      "\t\u001b[31m../sem05-arm-asm/code_sample\u001b[m\n",
      "\t\u001b[31m../sem05-arm-asm/run_ub.py\u001b[m\n",
      "\t\u001b[31m../sem05-arm-asm/stand.h\u001b[m\n",
      "\t\u001b[31m../sem06-arm-asm-addressing/structs_in_memory_common.h\u001b[m\n",
      "\t\u001b[31m../sem07-x86-asm/asm_filter_useless\u001b[m\n",
      "\t\u001b[31m../sem07-x86-asm/example.c\u001b[m\n",
      "\t\u001b[31m../sem07-x86-asm/print.c\u001b[m\n",
      "\t\u001b[31m../sem08-x86-fpmath-sse/asm_filter_useless\u001b[m\n",
      "\t\u001b[31ma.py\u001b[m\n",
      "\t\u001b[31minteractive_launcher_tmp/214843656435050573.log\u001b[m\n",
      "\t\u001b[31minteractive_launcher_tmp/214843656435050573.log.md\u001b[m\n",
      "\t\u001b[31minteractive_launcher_tmp/483965652334385005.log\u001b[m\n",
      "\t\u001b[31minteractive_launcher_tmp/483965652334385005.log.md\u001b[m\n",
      "\t\u001b[31minteractive_launcher_tmp/564738347608472818.log\u001b[m\n",
      "\t\u001b[31minteractive_launcher_tmp/564738347608472818.log.md\u001b[m\n",
      "\t\u001b[31minteractive_launcher_tmp/832756156005154650.log\u001b[m\n",
      "\t\u001b[31minteractive_launcher_tmp/832756156005154650.log.md\u001b[m\n",
      "\t\u001b[31mlauncher.py\u001b[m\n",
      "\t\u001b[31mtmp_dir/\u001b[m\n",
      "\n",
      "no changes added to commit (use \"git add\" and/or \"git commit -a\")\n",
      "Everything up-to-date\n"
     ]
    }
   ],
   "source": [
    "!git add ../README.md\n",
    "!git commit -m \"Update readme\"\n",
    "!git push origin master"
   ]
  },
  {
   "cell_type": "code",
   "execution_count": null,
   "metadata": {},
   "outputs": [],
   "source": []
  },
  {
   "cell_type": "code",
   "execution_count": null,
   "metadata": {},
   "outputs": [],
   "source": []
  },
  {
   "cell_type": "code",
   "execution_count": null,
   "metadata": {},
   "outputs": [],
   "source": []
  },
  {
   "cell_type": "code",
   "execution_count": null,
   "metadata": {},
   "outputs": [],
   "source": []
  },
  {
   "cell_type": "code",
   "execution_count": null,
   "metadata": {},
   "outputs": [],
   "source": []
  }
 ],
 "metadata": {
  "kernelspec": {
   "display_name": "Python 3",
   "language": "python",
   "name": "python3"
  },
  "language_info": {
   "codemirror_mode": {
    "name": "ipython",
    "version": 3
   },
   "file_extension": ".py",
   "mimetype": "text/x-python",
   "name": "python",
   "nbconvert_exporter": "python",
   "pygments_lexer": "ipython3",
   "version": "3.8.5"
  }
 },
 "nbformat": 4,
 "nbformat_minor": 2
}
