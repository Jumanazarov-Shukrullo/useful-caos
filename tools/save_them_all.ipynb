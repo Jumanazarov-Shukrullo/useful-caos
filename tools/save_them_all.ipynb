{
 "cells": [
  {
   "cell_type": "markdown",
   "metadata": {},
   "source": [
    "# <a name=\"how\"></a> Как сделать пулл реквест?\n",
    "\n",
    "0. Выбираем, где хотим провести изменения, в форке репозитория (более предпочтительно, но не принципиально) или в самом репозитории (в этом случае нужно запросить у меня доступ).\n",
    "1. Нужно произвести все желаемые изменения в семинарском ноутбуке. И убедиться, что эти изменения сохранены (юпитер у меня иногда тупит, поэтому жму трижды `ctrl-s` с интервалом около секунды).\n",
    "  <br> Постарайтесь ограничиться минимальными изменениями. Так же убедитесь, что у вас актуальная версия репозитория. (Я сам в недавние ноутбуки могу теоретически каждый день коммитить, а мои изменения затирать не надо :) ).\n",
    "2. Далее в этом ноутбуке (он умеет правильно генерировать `.md` файлы):\n",
    "  <br>A.  <a href=\"#what\" style=\"color:#856024\"> Здесь </a> выбираем семинар(ы), к которому сделали правку. `../tools` выбирать не надо.\n",
    "  <br>B.  <a href=\"#github\" style=\"color:#856024\"> Здесь </a> можно написать свой commit message, если есть желание. Можно оставить как есть. В этом репозитории нет культуры хороших сообщений к коммитам :)\n",
    "  <br>C.  Запускаем этот ноутбук, он сгенерит `.md`-шки и закоммитит изменения на гитхаб.\n",
    "3. Если изменение было в форке, то делаем пулл реквест."
   ]
  },
  {
   "cell_type": "markdown",
   "metadata": {},
   "source": [
    "### <a name=\"what\"></a> Выбираем что коммитить"
   ]
  },
  {
   "cell_type": "code",
   "execution_count": 1,
   "metadata": {
    "scrolled": true
   },
   "outputs": [
    {
     "name": "stdout",
     "output_type": "stream",
     "text": [
      "Highlevel dirs: ['../sem03-cmake-python-bindings']\n"
     ]
    }
   ],
   "source": [
    "import glob\n",
    "import os\n",
    "import subprocess\n",
    "\n",
    "highlevel_dirs = sum([\n",
    "    #[\"../tools\"], \n",
    "    sorted(glob.glob(\"../sem03*\")),\n",
    "    #sorted(glob.glob(\"../extra*\")),\n",
    "], [])\n",
    "\n",
    "print(\"Highlevel dirs:\", highlevel_dirs)"
   ]
  },
  {
   "cell_type": "code",
   "execution_count": 2,
   "metadata": {},
   "outputs": [],
   "source": [
    "tmp_dir = \"./tmp_dir\"\n",
    "get_ipython().system('rm -r {tmp_dir} ; mkdir {tmp_dir} 2>&1 | grep -v \"File exists\"'.format(tmp_dir=tmp_dir))"
   ]
  },
  {
   "cell_type": "markdown",
   "metadata": {},
   "source": [
    "### Генерируем все .md-шки стандартными средствами\n",
    "\\+ Делаем .md-шки очищенные для вывода. По этим .md-шкам можно будет смотреть реальную историю изменений. И дифф при пулреквестах."
   ]
  },
  {
   "cell_type": "code",
   "execution_count": 3,
   "metadata": {},
   "outputs": [],
   "source": [
    "def execute_all_in_parallel(tasks):\n",
    "    ps = []\n",
    "    for t in tasks:\n",
    "        ps.append(subprocess.Popen([\"bash\", \"-c\", t], stdout=subprocess.PIPE, stderr=subprocess.PIPE))\n",
    "    for p in ps:\n",
    "        out, err = p.communicate()\n",
    "        print(out.decode(), err.decode())"
   ]
  },
  {
   "cell_type": "code",
   "execution_count": 4,
   "metadata": {},
   "outputs": [
    {
     "name": "stdout",
     "output_type": "stream",
     "text": [
      "../sem03-cmake-python-bindings ['../sem03-cmake-python-bindings/bindings.ipynb']\n",
      "jupyter nbconvert ../sem03-cmake-python-bindings/bindings.ipynb --to markdown --output README\n",
      "cp ../sem03-cmake-python-bindings/bindings.ipynb ./tmp_dir/2378846515383418137_bindings.ipynb && jupyter nbconvert ./tmp_dir/2378846515383418137_bindings.ipynb --ClearOutputPreprocessor.enabled=True --inplace && jupyter nbconvert ./tmp_dir/2378846515383418137_bindings.ipynb --to markdown --output 2378846515383418137_bindings.ipynb && cp ./tmp_dir/2378846515383418137_bindings.ipynb.md ../sem03-cmake-python-bindings/README_no_output.md\n",
      " [NbConvertApp] Converting notebook ../sem03-cmake-python-bindings/bindings.ipynb to markdown\n",
      "[NbConvertApp] Writing 45540 bytes to ../sem03-cmake-python-bindings/README.md\n",
      "\n",
      " [NbConvertApp] Converting notebook ./tmp_dir/2378846515383418137_bindings.ipynb to notebook\n",
      "[NbConvertApp] Writing 49100 bytes to ./tmp_dir/2378846515383418137_bindings.ipynb\n",
      "[NbConvertApp] Converting notebook ./tmp_dir/2378846515383418137_bindings.ipynb to markdown\n",
      "[NbConvertApp] Writing 34965 bytes to ./tmp_dir/2378846515383418137_bindings.ipynb.md\n",
      "\n"
     ]
    }
   ],
   "source": [
    "from multiprocessing import Pool\n",
    "\n",
    "tasks = []\n",
    "\n",
    "def convert_tasks(n, d):\n",
    "    no_output_file = d + \"_no_output\"\n",
    "    src_copy = str(abs(hash(n))) + '_' + os.path.basename(n)\n",
    "    path = os.path.dirname(n)\n",
    "    return [\n",
    "        \"jupyter nbconvert {} --to markdown --output {}\".format(n, d),\n",
    "        \" && \".join([\n",
    "            \"cp {src} {tmp_dir}/{src_copy}\",\n",
    "            \"jupyter nbconvert {tmp_dir}/{src_copy} --ClearOutputPreprocessor.enabled=True --inplace\",\n",
    "            \"jupyter nbconvert {tmp_dir}/{src_copy} --to markdown --output {src_copy}\",\n",
    "            \"cp {tmp_dir}/{src_copy}.md {path}/{no_output_file}.md\",\n",
    "        ]).format(src=n, no_output_file=no_output_file, dst=d, tmp_dir=tmp_dir, src_copy=src_copy, path=path),\n",
    "    ]\n",
    "    \n",
    "for subdir in highlevel_dirs:\n",
    "    notebooks = glob.glob(subdir + \"/*.ipynb\")\n",
    "    print(subdir, notebooks)\n",
    "    for m in glob.glob(subdir + \"/*.md\"):\n",
    "        os.remove(m)\n",
    "    if len(notebooks) == 1:\n",
    "        tasks.extend(convert_tasks(notebooks[0], \"README\"))\n",
    "    else:\n",
    "        for n in notebooks:\n",
    "            tasks.extend(convert_tasks(n, os.path.basename(n.replace(\".ipynb\", \"\"))))\n",
    "        nmds = [os.path.basename(n).replace(\".ipynb\", \".md\") for n in notebooks]\n",
    "        with open(os.path.join(subdir, \"README.md\"), \"w\") as f:\n",
    "            f.write('\\n'.join(\n",
    "                ['# Ноутбуки семинара'] + \n",
    "                ['* [{nmd}]({nmd})'.format(nmd=nmd) for nmd in nmds] + \n",
    "                ['']\n",
    "            ))\n",
    "\n",
    "print(\"\\n\".join(tasks))\n",
    "\n",
    "execute_all_in_parallel(tasks)"
   ]
  },
  {
   "cell_type": "markdown",
   "metadata": {},
   "source": [
    "### Магические исправления\n",
    "\n",
    "Стандартная конвертилка не учитывает некоторых особенностей маркдауна на гитхабе и некоторых особенностей моих ноутбуков. Поэтому результат надо допилить напильником."
   ]
  },
  {
   "cell_type": "code",
   "execution_count": 5,
   "metadata": {},
   "outputs": [],
   "source": [
    "import re\n",
    "\n",
    "\n",
    "def basic_improve(fname):\n",
    "    with open(fname, \"r\") as f:\n",
    "        r = f.read()\n",
    "    for b in [\"\\x00\", \"\\x1B\", \"\\x08\"]:\n",
    "        r = r.replace(b, \"\")\n",
    "    with open(fname, \"w\") as f:\n",
    "        f.write(r)\n",
    "    return \"dos2unix {}\".format(fname)\n",
    "\n",
    "def improve_md(fname):\n",
    "    with open(fname, \"r\") as f:\n",
    "        r = f.read()\n",
    "    r = r.replace(\"```python\\n%%cpp\", \"```cpp\\n%%cpp\")\n",
    "    r = r.replace(\"```python\\n%%cmake\", \"```cmake\\n%%cmake\")\n",
    "    r = r.replace('\\n', \"SUPER_SLASH\" + \"_N_REPLACER\")\n",
    "    \n",
    "    r = re.sub(r'\\<\\!--MD_BEGIN_FILTER--\\>.*?\\<\\!--MD_END_FILTER--\\>', \"\", r)\n",
    "    \n",
    "    r = r.replace(\"SUPER_SLASH\" + \"_N_REPLACER\", '\\n')\n",
    "    \n",
    "    template = \"#\"\"MAGICS_SETUP_END\"\n",
    "    bpos = r.rfind(template)\n",
    "    if bpos != -1:\n",
    "        r = r[bpos + len(template):]\n",
    "        template = \"```\"\n",
    "        bpos = r.find(template)\n",
    "        assert bpos >= 0\n",
    "        r = r[bpos + len(template):]\n",
    "    \n",
    "    \n",
    "    template = \"<\"\"!-- MAGICS_SETUP_PRINTING_END -->\"\n",
    "    bpos = r.rfind(template)\n",
    "    if bpos != -1:\n",
    "        r = r[bpos + len(template):]\n",
    "    \n",
    "    def file_repl(matchobj, path=os.path.dirname(fname)):\n",
    "        fname = os.path.join(path, matchobj.group(1))\n",
    "        if fname.find(\"__FILE__\") == -1:\n",
    "            with open(fname, \"r\") as f:\n",
    "                return \"\\n<pre>\\n\" + f.read() + \"\\n</pre>\\n\"\n",
    "    \n",
    "    r = r.replace(\"</td>\", \"\")\n",
    "    r = r.replace(\"</tr>\", \"\")\n",
    "    \n",
    "    r = re.sub(r'\\<\\!--MD_FROM_FILE (.*?) --\\>', file_repl, r)\n",
    "    with open(fname, \"w\") as f:\n",
    "        f.write(r)\n",
    "        \n",
    "def improve_file(fname):\n",
    "    if fname.endswith(\".md\"):\n",
    "        improve_md(fname)\n"
   ]
  },
  {
   "cell_type": "code",
   "execution_count": 6,
   "metadata": {},
   "outputs": [
    {
     "name": "stdout",
     "output_type": "stream",
     "text": [
      " dos2unix: converting file ./../sem03-cmake-python-bindings/bindings.ipynb to Unix format...\n",
      "\n",
      " dos2unix: converting file ./../sem03-cmake-python-bindings/README.md to Unix format...\n",
      "\n",
      " dos2unix: converting file ./../sem03-cmake-python-bindings/README_no_output.md to Unix format...\n",
      "\n"
     ]
    }
   ],
   "source": [
    "tasks = []\n",
    "shell_tasks = []\n",
    "\n",
    "\n",
    "for sfx in [\".ipynb\", \".md\"]:\n",
    "    for hdir in highlevel_dirs:\n",
    "        for fname in glob.glob(\"./{}/*\".format(hdir) + sfx):\n",
    "            shell_tasks.append(basic_improve(fname))\n",
    "            tasks.append(lambda fname=fname: improve_file(fname))\n",
    "            \n",
    "execute_all_in_parallel(shell_tasks)\n",
    "for t in tasks:\n",
    "    t()"
   ]
  },
  {
   "cell_type": "markdown",
   "metadata": {},
   "source": [
    "### Смотрим изменения"
   ]
  },
  {
   "cell_type": "code",
   "execution_count": 7,
   "metadata": {},
   "outputs": [],
   "source": [
    "for subdir in highlevel_dirs:\n",
    "    get_ipython().system(\"git diff {}/*_no_output*\".format(subdir))"
   ]
  },
  {
   "cell_type": "markdown",
   "metadata": {},
   "source": [
    "### <a name=\"github\"></a> Коммитим на github"
   ]
  },
  {
   "cell_type": "code",
   "execution_count": 8,
   "metadata": {
    "scrolled": false
   },
   "outputs": [
    {
     "name": "stdout",
     "output_type": "stream",
     "text": [
      "> git add --ignore-errors  ../sem03-cmake-python-bindings/*.ipynb\n",
      "> git add --ignore-errors  ../sem03-cmake-python-bindings/*.md\n",
      "> git add --ignore-errors  ../sem03-cmake-python-bindings/*.c\n",
      "> git add --ignore-errors  ../sem03-cmake-python-bindings/*.cpp\n",
      "> git add --ignore-errors -f  -f ../sem03-cmake-python-bindings/bash_popen_tmp/*.html\n",
      "warning: could not open directory 'sem03-cmake-python-bindings/bash_popen_tmp/': No such file or directory\n",
      "fatal: pathspec '../sem03-cmake-python-bindings/bash_popen_tmp/*.html' did not match any files\n",
      "> git add --ignore-errors -f  -f ../sem03-cmake-python-bindings/interactive_launcher_tmp/*.log\n",
      "warning: could not open directory 'sem03-cmake-python-bindings/interactive_launcher_tmp/': No such file or directory\n",
      "fatal: pathspec '../sem03-cmake-python-bindings/interactive_launcher_tmp/*.log' did not match any files\n",
      "> git add -u ../sem03-cmake-python-bindings\n",
      "> git commit -m 'yet another update'\n",
      "[master 5251720] yet another update\n",
      " 9 files changed, 9113 insertions(+)\n",
      " create mode 100644 sem03-cmake-python-bindings/README.md\n",
      " create mode 100644 sem03-cmake-python-bindings/README_no_output.md\n",
      " create mode 100644 sem03-cmake-python-bindings/bindings.ipynb\n",
      " create mode 100644 sem03-cmake-python-bindings/c_api_module.c\n",
      " create mode 100644 sem03-cmake-python-bindings/c_api_module_2.c\n",
      " create mode 100644 sem03-cmake-python-bindings/ctypes_lib.c\n",
      " create mode 100644 sem03-cmake-python-bindings/pairs.cpp\n",
      " create mode 100644 sem03-cmake-python-bindings/pairs_pybind.cpp\n",
      " create mode 100644 sem03-cmake-python-bindings/use_interpreter.c\n",
      "> git push origin master\n",
      "Enumerating objects: 9, done.\n",
      "Counting objects: 100% (9/9), done.\n",
      "Delta compression using up to 4 threads\n",
      "Compressing objects: 100% (8/8), done.\n",
      "Writing objects: 100% (8/8), 23.59 KiB | 561.00 KiB/s, done.\n",
      "Total 8 (delta 5), reused 0 (delta 0)\n",
      "remote: Resolving deltas: 100% (5/5), completed with 1 local object.\u001b[K\n",
      "To github.com:yuri-pechatnov/caos.git\n",
      "   66637a8..5251720  master -> master\n"
     ]
    }
   ],
   "source": [
    "cmds = []\n",
    "add_cmd = \"git add --ignore-errors \"\n",
    "add_cmd_f = \"git add --ignore-errors -f \"\n",
    "for subdir in highlevel_dirs:\n",
    "    for sfx in [\".ipynb\", \".md\", \".c\", \".cpp\"]:\n",
    "        cmds.append(add_cmd + \" {}/*{}\".format(subdir, sfx))\n",
    "    cmds.append(add_cmd_f + \" -f {}/bash_popen_tmp/*.html\".format(subdir))\n",
    "    cmds.append(add_cmd_f + \" -f {}/interactive_launcher_tmp/*.log\".format(subdir))\n",
    "    cmds.append(\"git add -u {}\".format(subdir))\n",
    "    \n",
    "def execute_cmd(cmd):\n",
    "    print(\">\", cmd)\n",
    "    get_ipython().system(cmd)\n",
    "    \n",
    "for cmd in cmds:\n",
    "    execute_cmd(cmd)\n",
    "# execute_cmd(\"git add -u\")\n",
    "execute_cmd(\"git commit -m 'yet another update'\")\n",
    "execute_cmd(\"git push origin master\")"
   ]
  },
  {
   "cell_type": "code",
   "execution_count": null,
   "metadata": {},
   "outputs": [],
   "source": []
  },
  {
   "cell_type": "code",
   "execution_count": 9,
   "metadata": {},
   "outputs": [
    {
     "name": "stdout",
     "output_type": "stream",
     "text": [
      "On branch master\n",
      "Your branch is up to date with 'origin/master'.\n",
      "\n",
      "Changes not staged for commit:\n",
      "  (use \"git add <file>...\" to update what will be committed)\n",
      "  (use \"git restore <file>...\" to discard changes in working directory)\n",
      "\t\u001b[31mmodified:   ../sem01-intro-linux/interactive_launcher_tmp/104342371564797143.log\u001b[m\n",
      "\t\u001b[31mmodified:   save_them_all.ipynb\u001b[m\n",
      "\n",
      "Untracked files:\n",
      "  (use \"git add <file>...\" to include in what will be committed)\n",
      "\t\u001b[31m../extra-c-basics/001.in\u001b[m\n",
      "\t\u001b[31m../sem01-intro-linux/2\u001b[m\n",
      "\t\u001b[31m../sem01-intro-linux/a.sh\u001b[m\n",
      "\t\u001b[31m../sem01-intro-linux/a.txt\u001b[m\n",
      "\t\u001b[31m../sem01-intro-linux/b.txt\u001b[m\n",
      "\t\u001b[31m../sem01-intro-linux/err\u001b[m\n",
      "\t\u001b[31m../sem01-intro-linux/err.txt\u001b[m\n",
      "\t\u001b[31m../sem01-intro-linux/file.txt\u001b[m\n",
      "\t\u001b[31m../sem01-intro-linux/file2.txt\u001b[m\n",
      "\t\u001b[31m../sem01-intro-linux/interactive_launcher_tmp/104342371564797143.log.md\u001b[m\n",
      "\t\u001b[31m../sem01-intro-linux/interactive_launcher_tmp/134856167677051543.log.md\u001b[m\n",
      "\t\u001b[31m../sem01-intro-linux/interactive_launcher_tmp/159458045408584490.log.md\u001b[m\n",
      "\t\u001b[31m../sem01-intro-linux/interactive_launcher_tmp/160806476576838908.log.md\u001b[m\n",
      "\t\u001b[31m../sem01-intro-linux/interactive_launcher_tmp/237887356681257319.log.md\u001b[m\n",
      "\t\u001b[31m../sem01-intro-linux/interactive_launcher_tmp/272097196292346552.log.md\u001b[m\n",
      "\t\u001b[31m../sem01-intro-linux/interactive_launcher_tmp/291478633046804378.log.md\u001b[m\n",
      "\t\u001b[31m../sem01-intro-linux/interactive_launcher_tmp/299779856288802977.log.md\u001b[m\n",
      "\t\u001b[31m../sem01-intro-linux/interactive_launcher_tmp/308063480967833729.log.md\u001b[m\n",
      "\t\u001b[31m../sem01-intro-linux/interactive_launcher_tmp/33203167529660997.log.md\u001b[m\n",
      "\t\u001b[31m../sem01-intro-linux/interactive_launcher_tmp/357027856339287279.log.md\u001b[m\n",
      "\t\u001b[31m../sem01-intro-linux/interactive_launcher_tmp/357412744100799582.log.md\u001b[m\n",
      "\t\u001b[31m../sem01-intro-linux/interactive_launcher_tmp/363736236628022803.log.md\u001b[m\n",
      "\t\u001b[31m../sem01-intro-linux/interactive_launcher_tmp/368536380590515236.log.md\u001b[m\n",
      "\t\u001b[31m../sem01-intro-linux/interactive_launcher_tmp/38653968711948138.log.md\u001b[m\n",
      "\t\u001b[31m../sem01-intro-linux/interactive_launcher_tmp/390229348646733600.log.md\u001b[m\n",
      "\t\u001b[31m../sem01-intro-linux/interactive_launcher_tmp/44638202710957050.log.md\u001b[m\n",
      "\t\u001b[31m../sem01-intro-linux/interactive_launcher_tmp/488615332501153522.log.md\u001b[m\n",
      "\t\u001b[31m../sem01-intro-linux/interactive_launcher_tmp/547003026116871195.log.md\u001b[m\n",
      "\t\u001b[31m../sem01-intro-linux/interactive_launcher_tmp/551941962051262166.log.md\u001b[m\n",
      "\t\u001b[31m../sem01-intro-linux/interactive_launcher_tmp/577835561503179454.log.md\u001b[m\n",
      "\t\u001b[31m../sem01-intro-linux/interactive_launcher_tmp/580865104873188457.log.md\u001b[m\n",
      "\t\u001b[31m../sem01-intro-linux/interactive_launcher_tmp/58318340108386158.log.md\u001b[m\n",
      "\t\u001b[31m../sem01-intro-linux/interactive_launcher_tmp/60572178042054264.log.md\u001b[m\n",
      "\t\u001b[31m../sem01-intro-linux/interactive_launcher_tmp/659941140088179386.log.md\u001b[m\n",
      "\t\u001b[31m../sem01-intro-linux/interactive_launcher_tmp/718444346696566167.log.md\u001b[m\n",
      "\t\u001b[31m../sem01-intro-linux/interactive_launcher_tmp/731534507899320722.log.md\u001b[m\n",
      "\t\u001b[31m../sem01-intro-linux/interactive_launcher_tmp/761344427069245362.log.md\u001b[m\n",
      "\t\u001b[31m../sem01-intro-linux/interactive_launcher_tmp/777467580737092300.log.md\u001b[m\n",
      "\t\u001b[31m../sem01-intro-linux/interactive_launcher_tmp/799265701962172890.log.md\u001b[m\n",
      "\t\u001b[31m../sem01-intro-linux/interactive_launcher_tmp/887167192337308461.log.md\u001b[m\n",
      "\t\u001b[31m../sem01-intro-linux/interactive_launcher_tmp/906648630641962511.log.md\u001b[m\n",
      "\t\u001b[31m../sem01-intro-linux/interactive_launcher_tmp/928497432930519081.log.md\u001b[m\n",
      "\t\u001b[31m../sem01-intro-linux/interactive_launcher_tmp/93290423175998573.log.md\u001b[m\n",
      "\t\u001b[31m../sem01-intro-linux/interactive_launcher_tmp/965132557118189549.log.md\u001b[m\n",
      "\t\u001b[31m../sem01-intro-linux/out\u001b[m\n",
      "\t\u001b[31m../sem01-intro-linux/out.txt\u001b[m\n",
      "\t\u001b[31m../sem02-instruments-compilation/a.out\u001b[m\n",
      "\t\u001b[31m../sem02-instruments-compilation/a.txt\u001b[m\n",
      "\t\u001b[31m../sem02-instruments-compilation/g.h\u001b[m\n",
      "\t\u001b[31m../sem02-instruments-compilation/lib.\u001b[m\n",
      "\t\u001b[31m../sem02-instruments-compilation/lib.a\u001b[m\n",
      "\t\u001b[31m../sem02-instruments-compilation/out\u001b[m\n",
      "\t\u001b[31m../sem02-instruments-compilation/preprocessing_max.h\u001b[m\n",
      "\t\u001b[31ma.py\u001b[m\n",
      "\t\u001b[31minteractive_launcher_tmp/110047129715984560.log.md\u001b[m\n",
      "\t\u001b[31minteractive_launcher_tmp/243546179874885578.log.md\u001b[m\n",
      "\t\u001b[31minteractive_launcher_tmp/910964812581195986.log.md\u001b[m\n",
      "\t\u001b[31minteractive_launcher_tmp/933917889050860419.log.md\u001b[m\n",
      "\t\u001b[31mlauncher.py\u001b[m\n",
      "\t\u001b[31mtmp_dir/\u001b[m\n",
      "\n",
      "no changes added to commit (use \"git add\" and/or \"git commit -a\")\n",
      "Everything up-to-date\n"
     ]
    }
   ],
   "source": [
    "!git add ../README.md\n",
    "!git commit -m \"Update readme\"\n",
    "!git push origin master"
   ]
  },
  {
   "cell_type": "code",
   "execution_count": null,
   "metadata": {},
   "outputs": [],
   "source": []
  },
  {
   "cell_type": "code",
   "execution_count": null,
   "metadata": {},
   "outputs": [],
   "source": []
  },
  {
   "cell_type": "code",
   "execution_count": null,
   "metadata": {},
   "outputs": [],
   "source": []
  },
  {
   "cell_type": "code",
   "execution_count": null,
   "metadata": {},
   "outputs": [],
   "source": []
  },
  {
   "cell_type": "code",
   "execution_count": null,
   "metadata": {},
   "outputs": [],
   "source": []
  }
 ],
 "metadata": {
  "kernelspec": {
   "display_name": "Python 3",
   "language": "python",
   "name": "python3"
  },
  "language_info": {
   "codemirror_mode": {
    "name": "ipython",
    "version": 3
   },
   "file_extension": ".py",
   "mimetype": "text/x-python",
   "name": "python",
   "nbconvert_exporter": "python",
   "pygments_lexer": "ipython3",
   "version": "3.8.2"
  }
 },
 "nbformat": 4,
 "nbformat_minor": 2
}
