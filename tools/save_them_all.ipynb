{
 "cells": [
  {
   "cell_type": "markdown",
   "metadata": {},
   "source": [
    "# <a name=\"how\"></a> Как сделать пулл реквест?\n",
    "\n",
    "0. Выбираем, где хотим провести изменения, в форке репозитория (более предпочтительно, но не принципиально) или в самом репозитории (в этом случае нужно запросить у меня доступ).\n",
    "1. Нужно произвести все желаемые изменения в семинарском ноутбуке. И убедиться, что эти изменения сохранены (юпитер у меня иногда тупит, поэтому жму трижды `ctrl-s` с интервалом около секунды).\n",
    "  <br> Постарайтесь ограничиться минимальными изменениями. Так же убедитесь, что у вас актуальная версия репозитория. (Я сам в недавние ноутбуки могу теоретически каждый день коммитить, а мои изменения затирать не надо :) ).\n",
    "2. Далее в этом ноутбуке (он умеет правильно генерировать `.md` файлы):\n",
    "  <br>A.  <a href=\"#what\" style=\"color:#856024\"> Здесь </a> выбираем семинар(ы), к которому сделали правку. `../tools` выбирать не надо.\n",
    "  <br>B.  <a href=\"#github\" style=\"color:#856024\"> Здесь </a> можно написать свой commit message, если есть желание. Можно оставить как есть. В этом репозитории нет культуры хороших сообщений к коммитам :)\n",
    "  <br>C.  Запускаем этот ноутбук, он сгенерит `.md`-шки и закоммитит изменения на гитхаб.\n",
    "3. Если изменение было в форке, то делаем пулл реквест."
   ]
  },
  {
   "cell_type": "markdown",
   "metadata": {},
   "source": [
    "### <a name=\"what\"></a> Выбираем что коммитить"
   ]
  },
  {
   "cell_type": "code",
   "execution_count": 79,
   "metadata": {
    "scrolled": true
   },
   "outputs": [
    {
     "name": "stdout",
     "output_type": "stream",
     "text": [
      "Highlevel dirs: ['../tools', '../sem01-intro-linux']\n"
     ]
    }
   ],
   "source": [
    "import glob\n",
    "import os\n",
    "import subprocess\n",
    "\n",
    "highlevel_dirs = sum([\n",
    "    [\"../tools\"], \n",
    "    #sorted(glob.glob(\"../sem26*\")),\n",
    "    sorted(glob.glob(\"../sem01*\")),\n",
    "], [])\n",
    "\n",
    "print(\"Highlevel dirs:\", highlevel_dirs)"
   ]
  },
  {
   "cell_type": "code",
   "execution_count": 80,
   "metadata": {},
   "outputs": [],
   "source": [
    "tmp_dir = \"./tmp_dir\"\n",
    "get_ipython().system('rm -r {tmp_dir} ; mkdir {tmp_dir} 2>&1 | grep -v \"File exists\"'.format(tmp_dir=tmp_dir))"
   ]
  },
  {
   "cell_type": "markdown",
   "metadata": {},
   "source": [
    "### Генерируем все .md-шки стандартными средствами\n",
    "\\+ Делаем .md-шки очищенные для вывода. По этим .md-шкам можно будет смотреть реальную историю изменений. И дифф при пулреквестах."
   ]
  },
  {
   "cell_type": "code",
   "execution_count": 81,
   "metadata": {},
   "outputs": [],
   "source": [
    "def execute_all_in_parallel(tasks):\n",
    "    ps = []\n",
    "    for t in tasks:\n",
    "        ps.append(subprocess.Popen([\"bash\", \"-c\", t], stdout=subprocess.PIPE, stderr=subprocess.PIPE))\n",
    "    for p in ps:\n",
    "        out, err = p.communicate()\n",
    "        print(out.decode(), err.decode())"
   ]
  },
  {
   "cell_type": "code",
   "execution_count": 82,
   "metadata": {},
   "outputs": [
    {
     "name": "stdout",
     "output_type": "stream",
     "text": [
      "../tools ['../tools/set_up_magics.ipynb', '../tools/save_them_all.ipynb', '../tools/stand.ipynb', '../tools/set_up_magics_dev.ipynb']\n",
      "../sem01-intro-linux ['../sem01-intro-linux/intro_linux.ipynb']\n",
      "jupyter nbconvert ../tools/set_up_magics.ipynb --to markdown --output set_up_magics\n",
      "cp ../tools/set_up_magics.ipynb ./tmp_dir/2194680534572888862_set_up_magics.ipynb && jupyter nbconvert ./tmp_dir/2194680534572888862_set_up_magics.ipynb --ClearOutputPreprocessor.enabled=True --inplace && jupyter nbconvert ./tmp_dir/2194680534572888862_set_up_magics.ipynb --to markdown --output 2194680534572888862_set_up_magics.ipynb && cp ./tmp_dir/2194680534572888862_set_up_magics.ipynb.md ../tools/set_up_magics_no_output.md\n",
      "jupyter nbconvert ../tools/save_them_all.ipynb --to markdown --output save_them_all\n",
      "cp ../tools/save_them_all.ipynb ./tmp_dir/7083710874915117445_save_them_all.ipynb && jupyter nbconvert ./tmp_dir/7083710874915117445_save_them_all.ipynb --ClearOutputPreprocessor.enabled=True --inplace && jupyter nbconvert ./tmp_dir/7083710874915117445_save_them_all.ipynb --to markdown --output 7083710874915117445_save_them_all.ipynb && cp ./tmp_dir/7083710874915117445_save_them_all.ipynb.md ../tools/save_them_all_no_output.md\n",
      "jupyter nbconvert ../tools/stand.ipynb --to markdown --output stand\n",
      "cp ../tools/stand.ipynb ./tmp_dir/8379913619729260699_stand.ipynb && jupyter nbconvert ./tmp_dir/8379913619729260699_stand.ipynb --ClearOutputPreprocessor.enabled=True --inplace && jupyter nbconvert ./tmp_dir/8379913619729260699_stand.ipynb --to markdown --output 8379913619729260699_stand.ipynb && cp ./tmp_dir/8379913619729260699_stand.ipynb.md ../tools/stand_no_output.md\n",
      "jupyter nbconvert ../tools/set_up_magics_dev.ipynb --to markdown --output set_up_magics_dev\n",
      "cp ../tools/set_up_magics_dev.ipynb ./tmp_dir/7869291486245681920_set_up_magics_dev.ipynb && jupyter nbconvert ./tmp_dir/7869291486245681920_set_up_magics_dev.ipynb --ClearOutputPreprocessor.enabled=True --inplace && jupyter nbconvert ./tmp_dir/7869291486245681920_set_up_magics_dev.ipynb --to markdown --output 7869291486245681920_set_up_magics_dev.ipynb && cp ./tmp_dir/7869291486245681920_set_up_magics_dev.ipynb.md ../tools/set_up_magics_dev_no_output.md\n",
      "jupyter nbconvert ../sem01-intro-linux/intro_linux.ipynb --to markdown --output README\n",
      "cp ../sem01-intro-linux/intro_linux.ipynb ./tmp_dir/7792754777867098616_intro_linux.ipynb && jupyter nbconvert ./tmp_dir/7792754777867098616_intro_linux.ipynb --ClearOutputPreprocessor.enabled=True --inplace && jupyter nbconvert ./tmp_dir/7792754777867098616_intro_linux.ipynb --to markdown --output 7792754777867098616_intro_linux.ipynb && cp ./tmp_dir/7792754777867098616_intro_linux.ipynb.md ../sem01-intro-linux/README_no_output.md\n",
      " [NbConvertApp] Converting notebook ../tools/set_up_magics.ipynb to markdown\n",
      "[NbConvertApp] Writing 41350 bytes to ../tools/set_up_magics.md\n",
      "\n",
      " [NbConvertApp] Converting notebook ./tmp_dir/2194680534572888862_set_up_magics.ipynb to notebook\n",
      "[NbConvertApp] Writing 21785 bytes to ./tmp_dir/2194680534572888862_set_up_magics.ipynb\n",
      "[NbConvertApp] Converting notebook ./tmp_dir/2194680534572888862_set_up_magics.ipynb to markdown\n",
      "[NbConvertApp] Writing 15390 bytes to ./tmp_dir/2194680534572888862_set_up_magics.ipynb.md\n",
      "\n",
      " [NbConvertApp] Converting notebook ../tools/save_them_all.ipynb to markdown\n",
      "[NbConvertApp] Writing 28573 bytes to ../tools/save_them_all.md\n",
      "\n",
      " [NbConvertApp] Converting notebook ./tmp_dir/7083710874915117445_save_them_all.ipynb to notebook\n",
      "[NbConvertApp] Writing 10403 bytes to ./tmp_dir/7083710874915117445_save_them_all.ipynb\n",
      "[NbConvertApp] Converting notebook ./tmp_dir/7083710874915117445_save_them_all.ipynb to markdown\n",
      "[NbConvertApp] Writing 6740 bytes to ./tmp_dir/7083710874915117445_save_them_all.ipynb.md\n",
      "\n",
      " [NbConvertApp] Converting notebook ../tools/stand.ipynb to markdown\n",
      "[NbConvertApp] Writing 306 bytes to ../tools/stand.md\n",
      "\n",
      " [NbConvertApp] Converting notebook ./tmp_dir/8379913619729260699_stand.ipynb to notebook\n",
      "[NbConvertApp] Writing 1074 bytes to ./tmp_dir/8379913619729260699_stand.ipynb\n",
      "[NbConvertApp] Converting notebook ./tmp_dir/8379913619729260699_stand.ipynb to markdown\n",
      "[NbConvertApp] Writing 306 bytes to ./tmp_dir/8379913619729260699_stand.ipynb.md\n",
      "\n",
      " [NbConvertApp] Converting notebook ../tools/set_up_magics_dev.ipynb to markdown\n",
      "[NbConvertApp] Writing 32 bytes to ../tools/set_up_magics_dev.md\n",
      "\n",
      " [NbConvertApp] Converting notebook ./tmp_dir/7869291486245681920_set_up_magics_dev.ipynb to notebook\n",
      "[NbConvertApp] Writing 669 bytes to ./tmp_dir/7869291486245681920_set_up_magics_dev.ipynb\n",
      "[NbConvertApp] Converting notebook ./tmp_dir/7869291486245681920_set_up_magics_dev.ipynb to markdown\n",
      "[NbConvertApp] Writing 32 bytes to ./tmp_dir/7869291486245681920_set_up_magics_dev.ipynb.md\n",
      "\n",
      " [NbConvertApp] Converting notebook ../sem01-intro-linux/intro_linux.ipynb to markdown\n",
      "[NbConvertApp] Writing 23663 bytes to ../sem01-intro-linux/README.md\n",
      "\n",
      " [NbConvertApp] Converting notebook ./tmp_dir/7792754777867098616_intro_linux.ipynb to notebook\n",
      "[NbConvertApp] Writing 26719 bytes to ./tmp_dir/7792754777867098616_intro_linux.ipynb\n",
      "[NbConvertApp] Converting notebook ./tmp_dir/7792754777867098616_intro_linux.ipynb to markdown\n",
      "[NbConvertApp] Writing 21096 bytes to ./tmp_dir/7792754777867098616_intro_linux.ipynb.md\n",
      "\n"
     ]
    }
   ],
   "source": [
    "from multiprocessing import Pool\n",
    "\n",
    "tasks = []\n",
    "\n",
    "def convert_tasks(n, d):\n",
    "    no_output_file = d + \"_no_output\"\n",
    "    src_copy = str(abs(hash(n))) + '_' + os.path.basename(n)\n",
    "    path = os.path.dirname(n)\n",
    "    return [\n",
    "        \"jupyter nbconvert {} --to markdown --output {}\".format(n, d),\n",
    "        \" && \".join([\n",
    "            \"cp {src} {tmp_dir}/{src_copy}\",\n",
    "            \"jupyter nbconvert {tmp_dir}/{src_copy} --ClearOutputPreprocessor.enabled=True --inplace\",\n",
    "            \"jupyter nbconvert {tmp_dir}/{src_copy} --to markdown --output {src_copy}\",\n",
    "            \"cp {tmp_dir}/{src_copy}.md {path}/{no_output_file}.md\",\n",
    "        ]).format(src=n, no_output_file=no_output_file, dst=d, tmp_dir=tmp_dir, src_copy=src_copy, path=path),\n",
    "    ]\n",
    "    \n",
    "for subdir in highlevel_dirs:\n",
    "    notebooks = glob.glob(subdir + \"/*.ipynb\")\n",
    "    print(subdir, notebooks)\n",
    "    for m in glob.glob(subdir + \"/*.md\"):\n",
    "        os.remove(m)\n",
    "    if len(notebooks) == 1:\n",
    "        tasks.extend(convert_tasks(notebooks[0], \"README\"))\n",
    "    else:\n",
    "        for n in notebooks:\n",
    "            tasks.extend(convert_tasks(n, os.path.basename(n.replace(\".ipynb\", \"\"))))\n",
    "        nmds = [os.path.basename(n).replace(\".ipynb\", \".md\") for n in notebooks]\n",
    "        with open(os.path.join(subdir, \"README.md\"), \"w\") as f:\n",
    "            f.write('\\n'.join(\n",
    "                ['# Ноутбуки семинара'] + \n",
    "                ['* [{nmd}]({nmd})'.format(nmd=nmd) for nmd in nmds] + \n",
    "                ['']\n",
    "            ))\n",
    "\n",
    "print(\"\\n\".join(tasks))\n",
    "\n",
    "execute_all_in_parallel(tasks)"
   ]
  },
  {
   "cell_type": "markdown",
   "metadata": {},
   "source": [
    "### Магические исправления\n",
    "\n",
    "Стандартная конвертилка не учитывает некоторых особенностей маркдауна на гитхабе и некоторых особенностей моих ноутбуков. Поэтому результат надо допилить напильником."
   ]
  },
  {
   "cell_type": "code",
   "execution_count": 83,
   "metadata": {},
   "outputs": [],
   "source": [
    "import re\n",
    "\n",
    "\n",
    "def basic_improve(fname):\n",
    "    with open(fname, \"r\") as f:\n",
    "        r = f.read()\n",
    "    for b in [\"\\x00\", \"\\x1B\", \"\\x08\"]:\n",
    "        r = r.replace(b, \"\")\n",
    "    with open(fname, \"w\") as f:\n",
    "        f.write(r)\n",
    "    return \"dos2unix {}\".format(fname)\n",
    "\n",
    "def improve_md(fname):\n",
    "    with open(fname, \"r\") as f:\n",
    "        r = f.read()\n",
    "    r = r.replace(\"```python\\n%%cpp\", \"```cpp\\n%%cpp\")\n",
    "    r = r.replace(\"```python\\n%%cmake\", \"```cmake\\n%%cmake\")\n",
    "    r = r.replace('\\n', \"SUPER_SLASH\" + \"_N_REPLACER\")\n",
    "    \n",
    "    r = re.sub(r'\\<\\!--MD_BEGIN_FILTER--\\>.*?\\<\\!--MD_END_FILTER--\\>', \"\", r)\n",
    "    \n",
    "    r = r.replace(\"SUPER_SLASH\" + \"_N_REPLACER\", '\\n')\n",
    "    \n",
    "    template = \"#\"\"MAGICS_SETUP_END\"\n",
    "    bpos = r.rfind(template)\n",
    "    if bpos != -1:\n",
    "        r = r[bpos + len(template):]\n",
    "        template = \"```\"\n",
    "        bpos = r.find(template)\n",
    "        assert bpos >= 0\n",
    "        r = r[bpos + len(template):]\n",
    "    \n",
    "    \n",
    "    template = \"<\"\"!-- MAGICS_SETUP_PRINTING_END -->\"\n",
    "    bpos = r.rfind(template)\n",
    "    if bpos != -1:\n",
    "        r = r[bpos + len(template):]\n",
    "    \n",
    "    def file_repl(matchobj, path=os.path.dirname(fname)):\n",
    "        fname = os.path.join(path, matchobj.group(1))\n",
    "        if fname.find(\"__FILE__\") == -1:\n",
    "            with open(fname, \"r\") as f:\n",
    "                return \"\\n```\\n\" + f.read() + \"\\n```\\n\"\n",
    "    \n",
    "    r = r.replace(\"</td>\", \"\")\n",
    "    r = r.replace(\"</tr>\", \"\")\n",
    "    \n",
    "    r = re.sub(r'\\<\\!--MD_FROM_FILE (.*?) --\\>', file_repl, r)\n",
    "    with open(fname, \"w\") as f:\n",
    "        f.write(r)\n",
    "        \n",
    "def improve_file(fname):\n",
    "    if fname.endswith(\".md\"):\n",
    "        improve_md(fname)\n"
   ]
  },
  {
   "cell_type": "code",
   "execution_count": 84,
   "metadata": {},
   "outputs": [
    {
     "name": "stdout",
     "output_type": "stream",
     "text": [
      " dos2unix: converting file ./../tools/set_up_magics.ipynb to Unix format...\n",
      "\n",
      " dos2unix: converting file ./../tools/save_them_all.ipynb to Unix format...\n",
      "\n",
      " dos2unix: converting file ./../tools/stand.ipynb to Unix format...\n",
      "\n",
      " dos2unix: converting file ./../tools/set_up_magics_dev.ipynb to Unix format...\n",
      "\n",
      " dos2unix: converting file ./../sem01-intro-linux/intro_linux.ipynb to Unix format...\n",
      "\n",
      " dos2unix: converting file ./../tools/save_them_all.md to Unix format...\n",
      "\n",
      " dos2unix: converting file ./../tools/save_them_all_no_output.md to Unix format...\n",
      "\n",
      " dos2unix: converting file ./../tools/set_up_magics_dev_no_output.md to Unix format...\n",
      "\n",
      " dos2unix: converting file ./../tools/stand_no_output.md to Unix format...\n",
      "\n",
      " dos2unix: converting file ./../tools/README.md to Unix format...\n",
      "\n",
      " dos2unix: converting file ./../tools/set_up_magics_dev.md to Unix format...\n",
      "\n",
      " dos2unix: converting file ./../tools/stand.md to Unix format...\n",
      "\n",
      " dos2unix: converting file ./../tools/set_up_magics_no_output.md to Unix format...\n",
      "\n",
      " dos2unix: converting file ./../tools/set_up_magics.md to Unix format...\n",
      "\n",
      " dos2unix: converting file ./../sem01-intro-linux/README.md to Unix format...\n",
      "\n",
      " dos2unix: converting file ./../sem01-intro-linux/README_no_output.md to Unix format...\n",
      "\n"
     ]
    }
   ],
   "source": [
    "tasks = []\n",
    "shell_tasks = []\n",
    "\n",
    "\n",
    "for sfx in [\".ipynb\", \".md\"]:\n",
    "    for hdir in highlevel_dirs:\n",
    "        for fname in glob.glob(\"./{}/*\".format(hdir) + sfx):\n",
    "            shell_tasks.append(basic_improve(fname))\n",
    "            tasks.append(lambda fname=fname: improve_file(fname))\n",
    "            \n",
    "execute_all_in_parallel(shell_tasks)\n",
    "for t in tasks:\n",
    "    t()"
   ]
  },
  {
   "cell_type": "markdown",
   "metadata": {},
   "source": [
    "### Смотрим изменения"
   ]
  },
  {
   "cell_type": "code",
   "execution_count": 85,
   "metadata": {},
   "outputs": [],
   "source": [
    "for subdir in highlevel_dirs:\n",
    "    get_ipython().system(\"git diff {}/*_no_output*\".format(subdir))"
   ]
  },
  {
   "cell_type": "markdown",
   "metadata": {},
   "source": [
    "### <a name=\"github\"></a> Коммитим на github"
   ]
  },
  {
   "cell_type": "code",
   "execution_count": 86,
   "metadata": {
    "scrolled": false
   },
   "outputs": [
    {
     "name": "stdout",
     "output_type": "stream",
     "text": [
      "> git add --ignore-errors  ../tools/*.ipynb\n",
      "> git add --ignore-errors  ../tools/*.md\n",
      "> git add --ignore-errors  ../tools/*.c\n",
      "fatal: pathspec '../tools/*.c' did not match any files\n",
      "> git add --ignore-errors  ../tools/*.cpp\n",
      "> git add --ignore-errors -f  -f ../tools/bash_popen_tmp/*.html\n",
      "> git add --ignore-errors -f  -f ../tools/interactive_launcher_tmp/*.log\n",
      "> git add -u ../tools\n",
      "> git add --ignore-errors  ../sem01-intro-linux/*.ipynb\n",
      "> git add --ignore-errors  ../sem01-intro-linux/*.md\n",
      "> git add --ignore-errors  ../sem01-intro-linux/*.c\n",
      "> git add --ignore-errors  ../sem01-intro-linux/*.cpp\n",
      "> git add --ignore-errors -f  -f ../sem01-intro-linux/bash_popen_tmp/*.html\n",
      "warning: could not open directory 'sem01-intro-linux/bash_popen_tmp/': No such file or directory\n",
      "fatal: pathspec '../sem01-intro-linux/bash_popen_tmp/*.html' did not match any files\n",
      "> git add --ignore-errors -f  -f ../sem01-intro-linux/interactive_launcher_tmp/*.log\n",
      "warning: could not open directory 'sem01-intro-linux/interactive_launcher_tmp/': No such file or directory\n",
      "fatal: pathspec '../sem01-intro-linux/interactive_launcher_tmp/*.log' did not match any files\n",
      "> git add -u ../sem01-intro-linux\n",
      "> git commit -m 'yet another update'\n",
      "[master 97d564c] yet another update\n",
      " 1 file changed, 4 insertions(+), 4 deletions(-)\n",
      "> git push origin master\n",
      "Enumerating objects: 7, done.\n",
      "Counting objects: 100% (7/7), done.\n",
      "Delta compression using up to 4 threads\n",
      "Compressing objects: 100% (4/4), done.\n",
      "Writing objects: 100% (4/4), 388 bytes | 388.00 KiB/s, done.\n",
      "Total 4 (delta 3), reused 0 (delta 0)\n",
      "remote: Resolving deltas: 100% (3/3), completed with 3 local objects.\u001b[K\n",
      "To github.com:yuri-pechatnov/caos.git\n",
      "   db5b0f8..97d564c  master -> master\n"
     ]
    }
   ],
   "source": [
    "cmds = []\n",
    "add_cmd = \"git add --ignore-errors \"\n",
    "add_cmd_f = \"git add --ignore-errors -f \"\n",
    "for subdir in highlevel_dirs:\n",
    "    for sfx in [\".ipynb\", \".md\", \".c\", \".cpp\"]:\n",
    "        cmds.append(add_cmd + \" {}/*{}\".format(subdir, sfx))\n",
    "    cmds.append(add_cmd_f + \" -f {}/bash_popen_tmp/*.html\".format(subdir))\n",
    "    cmds.append(add_cmd_f + \" -f {}/interactive_launcher_tmp/*.log\".format(subdir))\n",
    "    cmds.append(\"git add -u {}\".format(subdir))\n",
    "    \n",
    "def execute_cmd(cmd):\n",
    "    print(\">\", cmd)\n",
    "    get_ipython().system(cmd)\n",
    "    \n",
    "for cmd in cmds:\n",
    "    execute_cmd(cmd)\n",
    "# execute_cmd(\"git add -u\")\n",
    "execute_cmd(\"git commit -m 'yet another update'\")\n",
    "execute_cmd(\"git push origin master\")"
   ]
  },
  {
   "cell_type": "code",
   "execution_count": null,
   "metadata": {},
   "outputs": [],
   "source": []
  },
  {
   "cell_type": "code",
   "execution_count": 78,
   "metadata": {},
   "outputs": [
    {
     "name": "stdout",
     "output_type": "stream",
     "text": [
      "On branch master\n",
      "Your branch is up to date with 'origin/master'.\n",
      "\n",
      "Untracked files:\n",
      "  (use \"git add <file>...\" to include in what will be committed)\n",
      "\t\u001b[31m../sem01-intro-linux/a.sh\u001b[m\n",
      "\t\u001b[31m../sem01-intro-linux/a.txt\u001b[m\n",
      "\t\u001b[31m../sem01-intro-linux/b.txt\u001b[m\n",
      "\t\u001b[31m../sem01-intro-linux/file.txt\u001b[m\n",
      "\t\u001b[31m\"../sem01-intro-linux/\\320\\256\"\u001b[m\n",
      "\t\u001b[31ma.py\u001b[m\n",
      "\t\u001b[31minteractive_launcher_tmp/273640832397559891.log.md\u001b[m\n",
      "\t\u001b[31minteractive_launcher_tmp/500586586475036043.log.md\u001b[m\n",
      "\t\u001b[31minteractive_launcher_tmp/582664403697483710.log.md\u001b[m\n",
      "\t\u001b[31minteractive_launcher_tmp/798219650792581873.log.md\u001b[m\n",
      "\t\u001b[31minteractive_launcher_tmp/80017535187456483.log.md\u001b[m\n",
      "\t\u001b[31minteractive_launcher_tmp/842224820982307068.log.md\u001b[m\n",
      "\t\u001b[31minteractive_launcher_tmp/930644569964515880.log.md\u001b[m\n",
      "\t\u001b[31minteractive_launcher_tmp/967003732458006687.log.md\u001b[m\n",
      "\t\u001b[31mlauncher.py\u001b[m\n",
      "\t\u001b[31mtmp_dir/\u001b[m\n",
      "\n",
      "nothing added to commit but untracked files present (use \"git add\" to track)\n",
      "Everything up-to-date\n"
     ]
    }
   ],
   "source": [
    "!git add ../README.md\n",
    "!git commit -m \"Update readme\"\n",
    "!git push origin master"
   ]
  },
  {
   "cell_type": "code",
   "execution_count": null,
   "metadata": {},
   "outputs": [],
   "source": []
  }
 ],
 "metadata": {
  "kernelspec": {
   "display_name": "Python 3",
   "language": "python",
   "name": "python3"
  },
  "language_info": {
   "codemirror_mode": {
    "name": "ipython",
    "version": 3
   },
   "file_extension": ".py",
   "mimetype": "text/x-python",
   "name": "python",
   "nbconvert_exporter": "python",
   "pygments_lexer": "ipython3",
   "version": "3.8.2"
  }
 },
 "nbformat": 4,
 "nbformat_minor": 2
}
