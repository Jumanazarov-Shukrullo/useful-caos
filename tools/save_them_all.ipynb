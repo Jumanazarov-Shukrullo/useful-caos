{
 "cells": [
  {
   "cell_type": "markdown",
   "metadata": {},
   "source": [
    "# <a name=\"how\"></a> Как сделать пулл реквест?\n",
    "\n",
    "0. Выбираем, где хотим провести изменения, в форке репозитория (более предпочтительно, но не принципиально) или в самом репозитории (в этом случае нужно запросить у меня доступ).\n",
    "1. Нужно произвести все желаемые изменения в семинарском ноутбуке. И убедиться, что эти изменения сохранены (юпитер у меня иногда тупит, поэтому жму трижды `ctrl-s` с интервалом около секунды).\n",
    "  <br> Постарайтесь ограничиться минимальными изменениями. Так же убедитесь, что у вас актуальная версия репозитория. (Я сам в недавние ноутбуки могу теоретически каждый день коммитить, а мои изменения затирать не надо :) ).\n",
    "2. Далее в этом ноутбуке (он умеет правильно генерировать `.md` файлы):\n",
    "  <br>A.  <a href=\"#what\" style=\"color:#856024\"> Здесь </a> выбираем семинар(ы), к которому сделали правку. `../tools` выбирать не надо.\n",
    "  <br>B.  <a href=\"#github\" style=\"color:#856024\"> Здесь </a> можно написать свой commit message, если есть желание. Можно оставить как есть. В этом репозитории нет культуры хороших сообщений к коммитам :)\n",
    "  <br>C.  Запускаем этот ноутбук, он сгенерит `.md`-шки и закоммитит изменения на гитхаб.\n",
    "3. Если изменение было в форке, то делаем пулл реквест."
   ]
  },
  {
   "cell_type": "markdown",
   "metadata": {},
   "source": [
    "### <a name=\"what\"></a> Выбираем что коммитить"
   ]
  },
  {
   "cell_type": "code",
   "execution_count": 1,
   "metadata": {
    "scrolled": true
   },
   "outputs": [
    {
     "name": "stdout",
     "output_type": "stream",
     "text": [
      "Highlevel dirs: ['../tools', '../sem28-unix-time']\n"
     ]
    }
   ],
   "source": [
    "import glob\n",
    "import os\n",
    "import subprocess\n",
    "\n",
    "highlevel_dirs = sum([\n",
    "    [\"../tools\"], \n",
    "    #sorted(glob.glob(\"../sem24*\")),\n",
    "    sorted(glob.glob(\"../sem28*\")),\n",
    "], [])\n",
    "\n",
    "print(\"Highlevel dirs:\", highlevel_dirs)"
   ]
  },
  {
   "cell_type": "code",
   "execution_count": null,
   "metadata": {},
   "outputs": [],
   "source": []
  },
  {
   "cell_type": "code",
   "execution_count": 9,
   "metadata": {},
   "outputs": [
    {
     "name": "stdout",
     "output_type": "stream",
     "text": [
      "../tools ['../tools/set_up_magics.ipynb', '../tools/save_them_all.ipynb', '../tools/stand.ipynb', '../tools/set_up_magics_dev.ipynb']\n",
      "[NbConvertApp] Converting notebook ../tools/set_up_magics.ipynb to markdown\n",
      "[NbConvertApp] Writing 41310 bytes to ../tools/set_up_magics.md\n",
      "[NbConvertApp] Converting notebook ../tools/save_them_all.ipynb to markdown\n",
      "[NbConvertApp] Writing 11686 bytes to ../tools/save_them_all.md\n",
      "[NbConvertApp] Converting notebook ../tools/stand.ipynb to markdown\n",
      "[NbConvertApp] Writing 308 bytes to ../tools/stand.md\n",
      "[NbConvertApp] Converting notebook ../tools/set_up_magics_dev.ipynb to markdown\n",
      "[NbConvertApp] Writing 32 bytes to ../tools/set_up_magics_dev.md\n",
      "../sem28-unix-time ['../sem28-unix-time/time.ipynb']\n",
      "[NbConvertApp] Converting notebook ../sem28-unix-time/time.ipynb to markdown\n",
      "[NbConvertApp] Writing 32539 bytes to ../sem28-unix-time/README.md\n"
     ]
    }
   ],
   "source": [
    "\n",
    "def convert(n, d):\n",
    "    get_ipython().system(\"jupyter nbconvert {} --to markdown --output {}\".format(n, d))\n",
    "\n",
    "for subdir in highlevel_dirs:\n",
    "    notebooks = glob.glob(subdir + \"/*.ipynb\")\n",
    "    print(subdir, notebooks)\n",
    "    for m in glob.glob(subdir + \"/*.md\"):\n",
    "        os.remove(m)\n",
    "    if len(notebooks) == 1:\n",
    "        convert(notebooks[0], \"README\")\n",
    "    else:\n",
    "        for n in notebooks:\n",
    "            convert(n, os.path.basename(n.replace(\".ipynb\", \"\")))\n",
    "        nmds = [os.path.basename(n).replace(\".ipynb\", \".md\") for n in notebooks]\n",
    "        with open(os.path.join(subdir, \"README.md\"), \"w\") as f:\n",
    "            f.write('\\n'.join(\n",
    "                ['# Ноутбуки семинара'] + \n",
    "                ['* [{nmd}]({nmd})'.format(nmd=nmd) for nmd in nmds] + \n",
    "                ['']\n",
    "            ))\n",
    "        "
   ]
  },
  {
   "cell_type": "code",
   "execution_count": null,
   "metadata": {},
   "outputs": [],
   "source": []
  },
  {
   "cell_type": "code",
   "execution_count": 10,
   "metadata": {},
   "outputs": [],
   "source": [
    "import re\n",
    "\n",
    "def basic_improve(fname):\n",
    "    with open(fname, \"r\") as f:\n",
    "        r = f.read()\n",
    "    for b in [\"\\x00\", \"\\x1B\", \"\\x08\"]:\n",
    "        r = r.replace(b, \"\")\n",
    "    with open(fname, \"w\") as f:\n",
    "        f.write(r)\n",
    "    get_ipython().system(\"dos2unix {}\".format(fname))\n",
    "\n",
    "def improve_md(fname):\n",
    "    with open(fname, \"r\") as f:\n",
    "        r = f.read()\n",
    "    r = r.replace(\"```python\\n%%cpp\", \"```cpp\\n%%cpp\")\n",
    "    r = r.replace(\"```python\\n%%cmake\", \"```cmake\\n%%cmake\")\n",
    "    r = r.replace('\\n', \"SUPER_SLASH\" + \"_N_REPLACER\")\n",
    "    \n",
    "    r = re.sub(r'\\<\\!--MD_BEGIN_FILTER--\\>.*?\\<\\!--MD_END_FILTER--\\>', \"\", r)\n",
    "    #r = re.sub(r'(\\#SET_UP_MAGIC_BEGIN.*?\\#SET_UP_MAGIC_END)', \"<too much code>\", r)\n",
    "    r = re.sub(r'\\<\\!\\-\\-\\ YANDEX_METRICA_BEGIN\\ \\-\\-\\>.*\\<\\!\\-\\-\\ YANDEX_METRICA_END\\ \\-\\-\\>', '', r)\n",
    "    \n",
    "    r = r.replace(\"<IPython.core.display.Javascript object>\", '')\n",
    "    r = r.replace(\"SUPER_SLASH\" + \"_N_REPLACER\", '\\n')\n",
    "    \n",
    "    template = \"#\"\"MAGICS_SETUP_END\"\n",
    "    bpos = r.rfind(template)\n",
    "    if bpos != -1:\n",
    "        r = r[bpos + len(template):]\n",
    "        template = \"```\"\n",
    "        bpos = r.find(template)\n",
    "        assert bpos >= 0\n",
    "        r = r[bpos + len(template):]\n",
    "    \n",
    "    \n",
    "    template = \"<\"\"!-- MAGICS_SETUP_PRINTING_END -->\"\n",
    "    bpos = r.rfind(template)\n",
    "    if bpos != -1:\n",
    "        r = r[bpos + len(template):]\n",
    "    \n",
    "    def file_repl(matchobj, path=os.path.dirname(fname)):\n",
    "        fname = os.path.join(path, matchobj.group(1))\n",
    "        if fname.find(\"__FILE__\") == -1:\n",
    "            with open(fname, \"r\") as f:\n",
    "                return \"\\n```\\n\" + f.read() + \"\\n```\\n\"\n",
    "    \n",
    "    r = r.replace(\"</td>\", \"\")\n",
    "    r = r.replace(\"</tr>\", \"\")\n",
    "    \n",
    "    r = re.sub(r'\\<\\!--MD_FROM_FILE (.*?) --\\>', file_repl, r)\n",
    "    with open(fname, \"w\") as f:\n",
    "        f.write(r)\n",
    "        \n",
    "def improve_file(fname):\n",
    "    basic_improve(fname)\n",
    "    if fname.endswith(\".md\"):\n",
    "        improve_md(fname)\n"
   ]
  },
  {
   "cell_type": "code",
   "execution_count": 11,
   "metadata": {},
   "outputs": [
    {
     "name": "stdout",
     "output_type": "stream",
     "text": [
      "dos2unix: converting file ./../tools/set_up_magics.ipynb to Unix format...\n",
      "dos2unix: converting file ./../tools/save_them_all.ipynb to Unix format...\n",
      "dos2unix: converting file ./../tools/stand.ipynb to Unix format...\n",
      "dos2unix: converting file ./../tools/set_up_magics_dev.ipynb to Unix format...\n",
      "dos2unix: converting file ./../sem28-unix-time/time.ipynb to Unix format...\n",
      "dos2unix: converting file ./../tools/save_them_all.md to Unix format...\n",
      "dos2unix: converting file ./../tools/README.md to Unix format...\n",
      "dos2unix: converting file ./../tools/set_up_magics_dev.md to Unix format...\n",
      "dos2unix: converting file ./../tools/stand.md to Unix format...\n",
      "dos2unix: converting file ./../tools/set_up_magics.md to Unix format...\n",
      "dos2unix: converting file ./../sem28-unix-time/README.md to Unix format...\n"
     ]
    }
   ],
   "source": [
    "for sfx in [\".ipynb\", \".md\"]:\n",
    "    for hdir in highlevel_dirs:\n",
    "        for fname in glob.glob(\"./{}/*\".format(hdir) + sfx):\n",
    "            improve_file(fname)"
   ]
  },
  {
   "cell_type": "markdown",
   "metadata": {},
   "source": [
    "### <a name=\"github\"></a> Коммитим на github"
   ]
  },
  {
   "cell_type": "code",
   "execution_count": null,
   "metadata": {},
   "outputs": [],
   "source": []
  },
  {
   "cell_type": "code",
   "execution_count": 15,
   "metadata": {
    "scrolled": false
   },
   "outputs": [
    {
     "name": "stdout",
     "output_type": "stream",
     "text": [
      "> git add --ignore-errors  ../tools/*.ipynb\n",
      "> git add --ignore-errors  ../tools/*.md\n",
      "> git add --ignore-errors  ../tools/*.c\n",
      "fatal: pathspec '../tools/*.c' did not match any files\n",
      "> git add --ignore-errors  ../tools/*.cpp\n",
      "> git add --ignore-errors -f  -f ../tools/bash_popen_tmp/*.html\n",
      "> git add --ignore-errors -f  -f ../tools/interactive_launcher_tmp/*.log\n",
      "> git add --ignore-errors  ../sem28-unix-time/*.ipynb\n",
      "> git add --ignore-errors  ../sem28-unix-time/*.md\n",
      "> git add --ignore-errors  ../sem28-unix-time/*.c\n",
      "> git add --ignore-errors  ../sem28-unix-time/*.cpp\n",
      "> git add --ignore-errors -f  -f ../sem28-unix-time/bash_popen_tmp/*.html\n",
      "warning: could not open directory 'sem28-unix-time/bash_popen_tmp/': No such file or directory\n",
      "fatal: pathspec '../sem28-unix-time/bash_popen_tmp/*.html' did not match any files\n",
      "> git add --ignore-errors -f  -f ../sem28-unix-time/interactive_launcher_tmp/*.log\n",
      "warning: could not open directory 'sem28-unix-time/interactive_launcher_tmp/': No such file or directory\n",
      "fatal: pathspec '../sem28-unix-time/interactive_launcher_tmp/*.log' did not match any files\n",
      "> git commit -m 'yet another update'\n",
      "[master 6afdfb3] yet another update\n",
      " 14 files changed, 571 insertions(+), 205 deletions(-)\n",
      " create mode 100644 tools/interactive_launcher_tmp/341853987367548759.log\n",
      " create mode 100644 tools/interactive_launcher_tmp/937518918408435731.log\n",
      " create mode 100644 tools/interactive_launcher_tmp/978838368375159155.log\n",
      " create mode 100644 tools/interactive_launcher_tmp/981384515921563800.log\n",
      " create mode 100644 tools/stand.ipynb\n",
      " create mode 100644 tools/stand.md\n",
      "> git push origin master\n",
      "Enumerating objects: 31, done.\n",
      "Counting objects: 100% (31/31), done.\n",
      "Delta compression using up to 4 threads\n",
      "Compressing objects: 100% (19/19), done.\n",
      "Writing objects: 100% (19/19), 10.66 KiB | 1.78 MiB/s, done.\n",
      "Total 19 (delta 13), reused 0 (delta 0)\n",
      "remote: Resolving deltas: 100% (13/13), completed with 9 local objects.\u001b[K\n",
      "To github.com:yuri-pechatnov/caos_2019-2020.git\n",
      "   9780b15..6afdfb3  master -> master\n"
     ]
    }
   ],
   "source": [
    "cmds = []\n",
    "add_cmd = \"git add --ignore-errors \"\n",
    "add_cmd_f = \"git add --ignore-errors -f \"\n",
    "for subdir in highlevel_dirs:\n",
    "    for sfx in [\".ipynb\", \".md\", \".c\", \".cpp\"]:\n",
    "        cmds.append(add_cmd + \" {}/*{}\".format(subdir, sfx))\n",
    "    cmds.append(add_cmd_f + \" -f {}/bash_popen_tmp/*.html\".format(subdir))\n",
    "    cmds.append(add_cmd_f + \" -f {}/interactive_launcher_tmp/*.log\".format(subdir))\n",
    "    \n",
    "def execute_cmd(cmd):\n",
    "    print(\">\", cmd)\n",
    "    get_ipython().system(cmd)\n",
    "    \n",
    "for cmd in cmds:\n",
    "    execute_cmd(cmd)\n",
    "# execute_cmd(\"git add -u\")\n",
    "execute_cmd(\"git commit -m 'yet another update'\")\n",
    "execute_cmd(\"git push origin master\")"
   ]
  },
  {
   "cell_type": "code",
   "execution_count": null,
   "metadata": {},
   "outputs": [],
   "source": []
  },
  {
   "cell_type": "code",
   "execution_count": null,
   "metadata": {},
   "outputs": [],
   "source": []
  },
  {
   "cell_type": "code",
   "execution_count": null,
   "metadata": {},
   "outputs": [],
   "source": []
  }
 ],
 "metadata": {
  "kernelspec": {
   "display_name": "Python 3",
   "language": "python",
   "name": "python3"
  },
  "language_info": {
   "codemirror_mode": {
    "name": "ipython",
    "version": 3
   },
   "file_extension": ".py",
   "mimetype": "text/x-python",
   "name": "python",
   "nbconvert_exporter": "python",
   "pygments_lexer": "ipython3",
   "version": "3.8.2"
  }
 },
 "nbformat": 4,
 "nbformat_minor": 2
}
