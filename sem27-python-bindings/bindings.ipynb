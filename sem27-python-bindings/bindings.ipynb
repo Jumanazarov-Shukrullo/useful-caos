{
 "cells": [
  {
   "cell_type": "code",
   "execution_count": 1,
   "metadata": {
    "scrolled": false
   },
   "outputs": [
    {
     "data": {
      "application/javascript": [
       "// setup cpp code highlighting\n",
       "IPython.CodeCell.options_default.highlight_modes[\"text/x-c++src\"] = {'reg':[/^%%cpp/]} ;IPython.CodeCell.options_default.highlight_modes[\"text/x-cmake\"] = {'reg':[/^%%cmake/]} ;"
      ],
      "text/plain": [
       "<IPython.core.display.Javascript object>"
      ]
     },
     "metadata": {},
     "output_type": "display_data"
    },
    {
     "data": {
      "text/html": [
       "<!-- YANDEX_METRICA_BEGIN -->\n",
       "    <script type=\"text/javascript\" >\n",
       "       (function(m,e,t,r,i,k,a){m[i]=m[i]||function(){(m[i].a=m[i].a||[]).push(arguments)};\n",
       "       m[i].l=1*new Date();k=e.createElement(t),a=e.getElementsByTagName(t)[0],k.async=1,k.src=r,a.parentNode.insertBefore(k,a)})\n",
       "       (window, document, \"script\", \"https://mc.yandex.ru/metrika/tag.js\", \"ym\");\n",
       "\n",
       "       ym(59260609, \"init\", {\n",
       "            clickmap:true,\n",
       "            trackLinks:true,\n",
       "            accurateTrackBounce:true\n",
       "       });\n",
       "    </script>\n",
       "    <noscript><div><img src=\"https://mc.yandex.ru/watch/59260609\" style=\"position:absolute; left:-9999px;\" alt=\"\" /></div></noscript>\n",
       "    <!-- YANDEX_METRICA_END -->"
      ],
      "text/plain": [
       "<IPython.core.display.HTML object>"
      ]
     },
     "metadata": {},
     "output_type": "display_data"
    },
    {
     "data": {
      "text/html": [
       "В этот ноутбук встроен код Яндекс Метрики для сбора статистики использований. Если вы не хотите, чтобы по вам собиралась статистика, исправьте: yandex_metrica_allowed = False<!-- MAGICS_SETUP_PRINTING_END -->"
      ],
      "text/plain": [
       "<IPython.core.display.HTML object>"
      ]
     },
     "metadata": {},
     "output_type": "display_data"
    }
   ],
   "source": [
    "# look at tools/set_up_magics.ipynb\n",
    "yandex_metrica_allowed = True ; get_ipython().run_cell('# one_liner_str\\n\\nget_ipython().run_cell_magic(\\'javascript\\', \\'\\', \\n    \\'// setup cpp code highlighting\\\\n\\'\\n    \\'IPython.CodeCell.options_default.highlight_modes[\"text/x-c++src\"] = {\\\\\\'reg\\\\\\':[/^%%cpp/]} ;\\'\\n    \\'IPython.CodeCell.options_default.highlight_modes[\"text/x-cmake\"] = {\\\\\\'reg\\\\\\':[/^%%cmake/]} ;\\'\\n)\\n\\n# creating magics\\nfrom IPython.core.magic import register_cell_magic, register_line_magic\\nfrom IPython.display import display, Markdown, HTML\\nimport argparse\\nfrom subprocess import Popen, PIPE\\nimport random\\nimport sys\\nimport os\\nimport re\\nimport signal\\nimport shutil\\nimport shlex\\nimport glob\\nimport time\\n\\n@register_cell_magic\\ndef save_file(args_str, cell, line_comment_start=\"#\"):\\n    parser = argparse.ArgumentParser()\\n    parser.add_argument(\"fname\")\\n    parser.add_argument(\"--ejudge-style\", action=\"store_true\")\\n    args = parser.parse_args(args_str.split())\\n    \\n    cell = cell if cell[-1] == \\'\\\\n\\' or args.no_eof_newline else cell + \"\\\\n\"\\n    cmds = []\\n    with open(args.fname, \"w\") as f:\\n        f.write(line_comment_start + \" %%cpp \" + args_str + \"\\\\n\")\\n        for line in cell.split(\"\\\\n\"):\\n            line_to_write = (line if not args.ejudge_style else line.rstrip()) + \"\\\\n\"\\n            if line.startswith(\"%\"):\\n                run_prefix = \"%run \"\\n                if line.startswith(run_prefix):\\n                    cmds.append(line[len(run_prefix):].strip())\\n                    f.write(line_comment_start + \" \" + line_to_write)\\n                    continue\\n                if line.startswith(\"%\" + line_comment_start + \" \"):\\n                    f.write(line_comment_start + \" \" + line_to_write)\\n                    continue\\n                raise Exception(\"Unknown %%save_file subcommand: \\'%s\\'\" % line)\\n            else:\\n                f.write(line_to_write)\\n        f.write(\"\" if not args.ejudge_style else line_comment_start + r\" line without \\\\n\")\\n    for cmd in cmds:\\n        display(Markdown(\"Run: `%s`\" % cmd))\\n        get_ipython().system(cmd)\\n\\n@register_cell_magic\\ndef cpp(fname, cell):\\n    save_file(fname, cell, \"//\")\\n    \\n@register_cell_magic\\ndef cmake(fname, cell):\\n    save_file(fname, cell, \"#\")\\n\\n@register_cell_magic\\ndef asm(fname, cell):\\n    save_file(fname, cell, \"//\")\\n    \\n@register_cell_magic\\ndef makefile(fname, cell):\\n    assert not fname\\n    save_file(\"makefile\", cell.replace(\" \" * 4, \"\\\\t\"))\\n        \\n@register_line_magic\\ndef p(line):\\n    line = line.strip() \\n    if line[0] == \\'#\\':\\n        display(Markdown(line[1:].strip()))\\n    else:\\n        try:\\n            expr, comment = line.split(\" #\")\\n            display(Markdown(\"`{} = {}`  # {}\".format(expr.strip(), eval(expr), comment.strip())))\\n        except:\\n            display(Markdown(\"{} = {}\".format(line, eval(line))))\\n    \\n    \\ndef show_log_file(file, return_html_string=False):\\n    obj = file.replace(\\'.\\', \\'_\\').replace(\\'/\\', \\'_\\') + \"_obj\"\\n    html_string = \\'\\'\\'\\n        <!--MD_BEGIN_FILTER-->\\n        <script type=text/javascript>\\n        var entrance___OBJ__ = 0;\\n        var errors___OBJ__ = 0;\\n        function halt__OBJ__(elem, color)\\n        {\\n            elem.setAttribute(\"style\", \"font-size: 14px; background: \" + color + \"; padding: 10px; border: 3px; border-radius: 5px; color: white; \");                    \\n        }\\n        function refresh__OBJ__()\\n        {\\n            entrance___OBJ__ -= 1;\\n            if (entrance___OBJ__ < 0) {\\n                entrance___OBJ__ = 0;\\n            }\\n            var elem = document.getElementById(\"__OBJ__\");\\n            if (elem) {\\n                var xmlhttp=new XMLHttpRequest();\\n                xmlhttp.onreadystatechange=function()\\n                {\\n                    var elem = document.getElementById(\"__OBJ__\");\\n                    console.log(!!elem, xmlhttp.readyState, xmlhttp.status, entrance___OBJ__);\\n                    if (elem && xmlhttp.readyState==4) {\\n                        if (xmlhttp.status==200)\\n                        {\\n                            errors___OBJ__ = 0;\\n                            if (!entrance___OBJ__) {\\n                                if (elem.innerHTML != xmlhttp.responseText) {\\n                                    elem.innerHTML = xmlhttp.responseText;\\n                                }\\n                                if (elem.innerHTML.includes(\"Process finished.\")) {\\n                                    halt__OBJ__(elem, \"#333333\");\\n                                } else {\\n                                    entrance___OBJ__ += 1;\\n                                    console.log(\"req\");\\n                                    window.setTimeout(\"refresh__OBJ__()\", 300); \\n                                }\\n                            }\\n                            return xmlhttp.responseText;\\n                        } else {\\n                            errors___OBJ__ += 1;\\n                            if (!entrance___OBJ__) {\\n                                if (errors___OBJ__ < 6) {\\n                                    entrance___OBJ__ += 1;\\n                                    console.log(\"req\");\\n                                    window.setTimeout(\"refresh__OBJ__()\", 300); \\n                                } else {\\n                                    halt__OBJ__(elem, \"#994444\");\\n                                }\\n                            }\\n                        }\\n                    }\\n                }\\n                xmlhttp.open(\"GET\", \"__FILE__\", true);\\n                xmlhttp.setRequestHeader(\"Cache-Control\", \"no-cache\");\\n                xmlhttp.send();     \\n            }\\n        }\\n        \\n        if (!entrance___OBJ__) {\\n            entrance___OBJ__ += 1;\\n            refresh__OBJ__(); \\n        }\\n        </script>\\n\\n        <p id=\"__OBJ__\" style=\"font-size: 14px; background: #000000; padding: 10px; border: 3px; border-radius: 5px; color: white; \">\\n        </p>\\n        \\n        </font>\\n        <!--MD_END_FILTER-->\\n        <!--MD_FROM_FILE __FILE__.md -->\\n        \\'\\'\\'.replace(\"__OBJ__\", obj).replace(\"__FILE__\", file)\\n    if return_html_string:\\n        return html_string\\n    display(HTML(html_string))\\n\\n    \\nclass TInteractiveLauncher:\\n    tmp_path = \"./interactive_launcher_tmp\"\\n    def __init__(self, cmd):\\n        try:\\n            os.mkdir(TInteractiveLauncher.tmp_path)\\n        except:\\n            pass\\n        name = str(random.randint(0, 1e18))\\n        self.inq_path = os.path.join(TInteractiveLauncher.tmp_path, name + \".inq\")\\n        self.log_path = os.path.join(TInteractiveLauncher.tmp_path, name + \".log\")\\n        \\n        os.mkfifo(self.inq_path)\\n        open(self.log_path, \\'w\\').close()\\n        open(self.log_path + \".md\", \\'w\\').close()\\n\\n        self.pid = os.fork()\\n        if self.pid == -1:\\n            print(\"Error\")\\n        if self.pid == 0:\\n            exe_cands = glob.glob(\"../tools/launcher.py\") + glob.glob(\"../../tools/launcher.py\")\\n            assert(len(exe_cands) == 1)\\n            assert(os.execvp(\"python3\", [\"python3\", exe_cands[0], \"-l\", self.log_path, \"-i\", self.inq_path, \"-c\", cmd]) == 0)\\n        self.inq_f = open(self.inq_path, \"w\")\\n        interactive_launcher_opened_set.add(self.pid)\\n        show_log_file(self.log_path)\\n\\n    def write(self, s):\\n        s = s.encode()\\n        assert len(s) == os.write(self.inq_f.fileno(), s)\\n        \\n    def get_pid(self):\\n        n = 100\\n        for i in range(n):\\n            try:\\n                return int(re.findall(r\"PID = (\\\\d+)\", open(self.log_path).readline())[0])\\n            except:\\n                if i + 1 == n:\\n                    raise\\n                time.sleep(0.1)\\n        \\n    def input_queue_path(self):\\n        return self.inq_path\\n        \\n    def wait_stop(self, timeout):\\n        for i in range(int(timeout * 10)):\\n            wpid, status = os.waitpid(self.pid, os.WNOHANG)\\n            if wpid != 0:\\n                return True\\n            time.sleep(0.1)\\n        return False\\n        \\n    def close(self, timeout=3):\\n        self.inq_f.close()\\n        if not self.wait_stop(timeout):\\n            os.kill(self.get_pid(), signal.SIGKILL)\\n            os.waitpid(self.pid, 0)\\n        os.remove(self.inq_path)\\n        # os.remove(self.log_path)\\n        self.inq_path = None\\n        self.log_path = None \\n        interactive_launcher_opened_set.remove(self.pid)\\n        self.pid = None\\n        \\n    @staticmethod\\n    def terminate_all():\\n        if \"interactive_launcher_opened_set\" not in globals():\\n            globals()[\"interactive_launcher_opened_set\"] = set()\\n        global interactive_launcher_opened_set\\n        for pid in interactive_launcher_opened_set:\\n            print(\"Terminate pid=\" + str(pid), file=sys.stderr)\\n            os.kill(pid, signal.SIGKILL)\\n            os.waitpid(pid, 0)\\n        interactive_launcher_opened_set = set()\\n        if os.path.exists(TInteractiveLauncher.tmp_path):\\n            shutil.rmtree(TInteractiveLauncher.tmp_path)\\n    \\nTInteractiveLauncher.terminate_all()\\n   \\nyandex_metrica_allowed = bool(globals().get(\"yandex_metrica_allowed\", False))\\nif yandex_metrica_allowed:\\n    display(HTML(\\'\\'\\'<!-- YANDEX_METRICA_BEGIN -->\\n    <script type=\"text/javascript\" >\\n       (function(m,e,t,r,i,k,a){m[i]=m[i]||function(){(m[i].a=m[i].a||[]).push(arguments)};\\n       m[i].l=1*new Date();k=e.createElement(t),a=e.getElementsByTagName(t)[0],k.async=1,k.src=r,a.parentNode.insertBefore(k,a)})\\n       (window, document, \"script\", \"https://mc.yandex.ru/metrika/tag.js\", \"ym\");\\n\\n       ym(59260609, \"init\", {\\n            clickmap:true,\\n            trackLinks:true,\\n            accurateTrackBounce:true\\n       });\\n    </script>\\n    <noscript><div><img src=\"https://mc.yandex.ru/watch/59260609\" style=\"position:absolute; left:-9999px;\" alt=\"\" /></div></noscript>\\n    <!-- YANDEX_METRICA_END -->\\'\\'\\'))\\n\\ndef make_oneliner():\\n    html_text = \\'(\"В этот ноутбук встроен код Яндекс Метрики для сбора статистики использований. Если вы не хотите, чтобы по вам собиралась статистика, исправьте: yandex_metrica_allowed = False\" if yandex_metrica_allowed else \"\")\\'\\n    html_text += \\' + \"<\"\"!-- MAGICS_SETUP_PRINTING_END -->\"\\'\\n    return \\'\\'.join([\\n        \\'# look at tools/set_up_magics.ipynb\\\\n\\',\\n        \\'yandex_metrica_allowed = True ; get_ipython().run_cell(%s);\\' % repr(one_liner_str),\\n        \\'display(HTML(%s))\\' % html_text,\\n        \\' #\\'\\'MAGICS_SETUP_END\\'\\n    ])\\n       \\n\\n');display(HTML((\"В этот ноутбук встроен код Яндекс Метрики для сбора статистики использований. Если вы не хотите, чтобы по вам собиралась статистика, исправьте: yandex_metrica_allowed = False\" if yandex_metrica_allowed else \"\") + \"<\"\"!-- MAGICS_SETUP_PRINTING_END -->\")) #MAGICS_SETUP_END"
   ]
  },
  {
   "cell_type": "markdown",
   "metadata": {},
   "source": [
    "# Опрос для всех, кто зашел на эту страницу\n",
    "\n",
    "Он не страшный, там всего два обязательных вопроса на выбор одного варианта из трёх. Извиняюсь за размер, но к сожалению студенты склонны игнорировать опросы :| \n",
    "\n",
    "Пытаюсь компенсировать :)\n",
    "\n",
    "<a href=\"https://docs.google.com/forms/d/e/1FAIpQLSdUnBAae8nwdSduZieZv7uatWPOMv9jujCM4meBZcHlTikeXg/viewform?usp=sf_link\"><img src=\"poll.png\" width=\"100%\"  align=\"left\" alt=\"Опрос\"></a>\n",
    "\n"
   ]
  },
  {
   "cell_type": "markdown",
   "metadata": {},
   "source": [
    "# Python bindings\n",
    "\n",
    "<table width=100%  > <tr>\n",
    "    <th width=15%> <b>Видео с семинара &rarr; </b> </th>\n",
    "    <th>\n",
    "    <a href=\"https://www.youtube.com/watch?v=DludPAH7Pbo&list=PLjzMm8llUm4CL-_HgDrmoSTZBCdUk5HQL&index=6\"><img src=\"video.jpg\" width=\"320\" \n",
    "   height=\"160\" align=\"left\" alt=\"Видео с семинара\"></a>\n",
    "    </th>\n",
    "    <th> </th>\n",
    "</tr> </table>\n",
    "\n",
    "Сегодня в программе:\n",
    "* Пишем модули для python (<a href=\"#why\" style=\"color:#856024\">а зачем это нужно?</a>):\n",
    "  * <a href=\"#api\" style=\"color:#856024\"> Используя Python/C API </a>\n",
    "  <br> Документация по api: https://docs.python.org/3/c-api/index.html\n",
    "  * <a href=\"#ctypes\" style=\"color:#856024\"> Используя ctypes </a>\n",
    "  * <a href=\"#cython\" style=\"color:#856024\"> Используя Cython </a>\n",
    "  * <a href=\"#pybind\" style=\"color:#856024\"> Используя Pybind </a>\n",
    "* <a href=\"#use_interpreter\" style=\"color:#856024\"> Исползуем интерпретатор Python из C </a>\n",
    " \n",
    "[CPython на wiki](https://ru.wikipedia.org/wiki/CPython) (Не путать с Cython!)\n",
    "\n",
    "\n",
    "[GIL](https://habr.com/ru/post/84629/) - почему многопоточность в pyhton это не многопоточность.\n",
    "\n",
    "[Ссылки в python и соглашения об инкременте/декременте их счетчиков](https://pythonextensionpatterns.readthedocs.io/en/latest/refcount.html#python-terminology)\n",
    "\n",
    "[Ридинг Яковлева](https://github.com/victor-yacovlev/mipt-diht-caos/tree/master/practice/python) (Он появился)\n",
    "\n",
    "TODO: очень жестко по объему материала получилось, про Cython не стоило рассказывать, наверное.\n",
    "  \n",
    "<a href=\"#hw\" style=\"color:#856024\">Комментарии к ДЗ</a>\n",
    "\n"
   ]
  },
  {
   "cell_type": "markdown",
   "metadata": {},
   "source": [
    "## <a name=\"why\"></a>  Мотивашка\n",
    "\n",
    "Python сейчас довольно распространенный язык, широко применяемый в машинном обучении, аналитике, во всех местах, где нужно писать скрипты, которые не пишутся очевидным образом на bash...\n",
    "\n",
    "Зачем вообще может понадобиться писать модули для Python на других языках?\n",
    "1. Желание/необходимость переиспользовать библиотеку написанную на другом языке. Не будете же вы писать алгоритм, например, приведения матрицы к нормальной Жордановой форме, на всех исопльзуемых в проекте языках?\n",
    "2. Скорость. Если у вас есть код на питоне, то очевидный способ его ускорить - переписать все или критичную часть на более низкоуровневом языке. Переписать большой проект за один подход крайне сложно, поэтому даже в этом случае удобно сначала переписывать отдельные модули.\n",
    "3. Многопоточность. Если вы хотите эффективно распараллелить некоторый объем CPU работы, то в питоне из-за GIL вы это сделать не сможете. Так что придется писать модуль.\n",
    "4. Необходимость совершить низкоуровневые действия, которые нельзя сделать из Python. Например, как-то хитро поделать системные вызовы."
   ]
  },
  {
   "cell_type": "markdown",
   "metadata": {},
   "source": [
    "## Немного про None и nullptr"
   ]
  },
  {
   "cell_type": "code",
   "execution_count": 2,
   "metadata": {},
   "outputs": [],
   "source": [
    "def f():\n",
    "    pass\n",
    "    # что вернет функция f?"
   ]
  },
  {
   "cell_type": "code",
   "execution_count": 3,
   "metadata": {},
   "outputs": [
    {
     "data": {
      "text/plain": [
       "NoneType"
      ]
     },
     "execution_count": 3,
     "metadata": {},
     "output_type": "execute_result"
    }
   ],
   "source": [
    "type(f()) # она вернет None"
   ]
  },
  {
   "cell_type": "markdown",
   "metadata": {},
   "source": [
    "`None` это специальное значение в python. Оно возвращается функциями, которые `void` в терминах C. Оно используется как отсутствие значения в методе `.get` у `dict`:"
   ]
  },
  {
   "cell_type": "code",
   "execution_count": 4,
   "metadata": {},
   "outputs": [
    {
     "data": {
      "text/plain": [
       "NoneType"
      ]
     },
     "execution_count": 4,
     "metadata": {},
     "output_type": "execute_result"
    }
   ],
   "source": [
    "type({\"a\": 1}.get('b'))"
   ]
  },
  {
   "cell_type": "markdown",
   "metadata": {},
   "source": [
    "В общем используется так же, как часто используется `NULL`/`nullptr` в С/С++.\n",
    "\n",
    "Но при этом в Python API `None` это не `NULL`. `None` это специальный синглтон-объект который используется в качестве особого значения. (В реализации красно-черного дерева иногда выделяют специальную вершину nil, тут примерно так же)."
   ]
  },
  {
   "cell_type": "markdown",
   "metadata": {},
   "source": [
    "## <a name=\"api\"></a> Python/C API\n",
    "\n",
    "Пожалуй, это способ писать самые эффективные биндинги, так как этот способ самый низкоуровневый. Пишем функции для питона на C используя существующее python/c api.\n",
    "\n",
    "Возможно у меня неправильный питон, но с адрес-санитайзером он у меня не дружит, всегда есть множественные утечки памяти. С clang вообще завести не получилось в ряде случаев. Когда получилось завести, отключаю обнаружение утечек.\n",
    "\n",
    "https://habr.com/ru/post/469043/"
   ]
  },
  {
   "cell_type": "code",
   "execution_count": 5,
   "metadata": {},
   "outputs": [
    {
     "data": {
      "text/markdown": [
       "Run: `gcc -Wall c_api_module.c $(python3-config --includes --ldflags) -shared -fPIC -fsanitize=address -o c_api_module.so`"
      ],
      "text/plain": [
       "<IPython.core.display.Markdown object>"
      ]
     },
     "metadata": {},
     "output_type": "display_data"
    }
   ],
   "source": [
    "%%cpp c_api_module.c\n",
    "%// Собираем модуль - динамическую библиотеку. Включаем нужные пути для инклюдов и динамические библиотеки\n",
    "%run gcc -Wall c_api_module.c $(python3-config --includes --ldflags) -shared -fPIC -fsanitize=address -o c_api_module.so\n",
    "#include <Python.h>\n",
    "\n",
    "// Парсинг позиционных аргументов в лоб\n",
    "static PyObject* func_1(PyObject* self, PyObject* args) {\n",
    "    if (PyTuple_Size(args) != 2) {\n",
    "        PyErr_SetString(PyExc_TypeError, \"func_ret_str args error\"); // выставляем ошибку\n",
    "        return NULL; // возвращаем NULL - признак ошибки\n",
    "    }\n",
    "    long int val_i; char *val_s;\n",
    "    // l - long int, s - char*\n",
    "    if (!PyArg_ParseTuple(args, \"ls\", &val_i, &val_s)) {\n",
    "        return NULL;\n",
    "    }\n",
    "    printf(\"func1: int - %ld, string - %s\\n\", val_i, val_s);\n",
    "    return Py_BuildValue(\"is\", val_i, val_s);\n",
    "}\n",
    "\n",
    "// Умный парсинг args и kwargs\n",
    "static PyObject* func_2(PyObject* self, PyObject* args, PyObject* kwargs) {\n",
    "    static const char* kwlist[] = {\"val_i\", \"val_s\", NULL};\n",
    "    long int val_i = 0; char* val_s = \"\"; size_t val_s_len = 0;\n",
    "    // до | обязательные аргументы, l - long int, z# - char* + size_t\n",
    "    if (!PyArg_ParseTupleAndKeywords(args, kwargs, \"l|z#\", (char**)kwlist, &val_i, &val_s, &val_s_len)) {\n",
    "        return NULL; // ошибка уже выставлена функцией PyArg_ParseTupleAndKeywords\n",
    "    }\n",
    "    printf(\"func2: int - %ld, string - %s, string_len = %zu\\n\", val_i, val_s, val_s_len);\n",
    "    return Py_BuildValue(\"is\", val_i, val_s);\n",
    "}\n",
    "\n",
    "// Список функций модуля\n",
    "static PyMethodDef methods[] = {\n",
    "    {\"func_1\", func_1, METH_VARARGS, \"help func_1\"},\n",
    "    // METH_KEYWORDS - принимает еще и именованные аргументы\n",
    "    {\"func_2\", (PyCFunction)func_2, METH_VARARGS | METH_KEYWORDS, \"help func_2\"},\n",
    "    {NULL, NULL, 0, NULL}\n",
    "};\n",
    "\n",
    "// Описание модуля\n",
    "static struct PyModuleDef module = {\n",
    "    PyModuleDef_HEAD_INIT, \"c_api_module\", \"Test module\", -1, methods\n",
    "};\n",
    "\n",
    "// Инициализация модуля\n",
    "PyMODINIT_FUNC PyInit_c_api_module(void) {\n",
    "    PyObject* mod = PyModule_Create(&module);\n",
    "    return mod;\n",
    "}"
   ]
  },
  {
   "cell_type": "markdown",
   "metadata": {},
   "source": [
    "Теперь заиспользуем библиотеку. Обратите внимание, что я для этого запускаю отдельный интерпретатор питона, а не делаю это просто в ячейке ноутбука.\n",
    "\n",
    "Это из-за того, что если модуль с именем `c_api_module` был импортирован, то пусть он даже изменится - повторно его импортировать не получится. Можно каждый раз загружать его под новым именем, но это не очень удобно.\n",
    "\n",
    "Когда будете делать домашку, учитывайте эту особенность."
   ]
  },
  {
   "cell_type": "code",
   "execution_count": 7,
   "metadata": {},
   "outputs": [
    {
     "data": {
      "text/markdown": [
       "Run: `LD_PRELOAD=$(gcc -print-file-name=libasan.so) ASAN_OPTIONS=detect_leaks=0 python3 api_module_example.py | cat`"
      ],
      "text/plain": [
       "<IPython.core.display.Markdown object>"
      ]
     },
     "metadata": {},
     "output_type": "display_data"
    },
    {
     "name": "stdout",
     "output_type": "stream",
     "text": [
      "api_module_example.py:11: DeprecationWarning: PY_SSIZE_T_CLEAN will be required for '#' formats\r\n",
      "  print(c_api_module.func_2(val_s=\"42\", val_i=10))\r\n",
      "api_module_example.py:12: DeprecationWarning: PY_SSIZE_T_CLEAN will be required for '#' formats\r\n",
      "  print(c_api_module.func_2(10, val_s=\"42\"))\r\n",
      "Help on module c_api_module:\r\n",
      "\r\n",
      "NAME\r\n",
      "    c_api_module - Test module\r\n",
      "\r\n",
      "FUNCTIONS\r\n",
      "    func_1(...)\r\n",
      "        help func_1\r\n",
      "    \r\n",
      "    func_2(...)\r\n",
      "        help func_2\r\n",
      "\r\n",
      "FILE\r\n",
      "    /home/pechatnov/vbox/caos_2019-2020/sem27-python-bindings/c_api_module.so\r\n",
      "\r\n",
      "\r\n",
      "None\r\n",
      "(10, '12343')\r\n",
      "(10, '')\r\n",
      "(10, '42')\r\n",
      "(10, '42')\r\n",
      "func1: int - 10, string - 12343\r\n",
      "func2: int - 10, string - , string_len = 0\r\n",
      "func2: int - 10, string - 42, string_len = 2\r\n",
      "func2: int - 10, string - 42, string_len = 2\r\n"
     ]
    }
   ],
   "source": [
    "%%save_file api_module_example.py\n",
    "%# Переменные окружения устанавливаются для корректной работы санитайзера\n",
    "%run LD_PRELOAD=$(gcc -print-file-name=libasan.so) ASAN_OPTIONS=detect_leaks=0 python3 api_module_example.py | cat\n",
    "import c_api_module\n",
    "\n",
    "print(help(c_api_module))\n",
    "\n",
    "print(c_api_module.func_1(10, \"12343\"))\n",
    "\n",
    "print(c_api_module.func_2(10))\n",
    "print(c_api_module.func_2(val_s=\"42\", val_i=10))\n",
    "print(c_api_module.func_2(10, val_s=\"42\"))"
   ]
  },
  {
   "cell_type": "code",
   "execution_count": 8,
   "metadata": {},
   "outputs": [
    {
     "name": "stdout",
     "output_type": "stream",
     "text": [
      "/usr/bin/../lib/gcc/x86_64-linux-gnu/9/libasan.so\r\n"
     ]
    }
   ],
   "source": [
    "!echo $(clang -print-file-name=libasan.so)"
   ]
  },
  {
   "cell_type": "code",
   "execution_count": 9,
   "metadata": {
    "scrolled": true
   },
   "outputs": [
    {
     "name": "stdout",
     "output_type": "stream",
     "text": [
      "ls: cannot access '/usr/bin/../lib/gcc/x86_64-linux-gnu/7.4.0/lib*so': No such file or directory\r\n"
     ]
    }
   ],
   "source": [
    "!ls /usr/bin/../lib/gcc/x86_64-linux-gnu/7.4.0/lib*so"
   ]
  },
  {
   "cell_type": "markdown",
   "metadata": {},
   "source": [
    "Пример работы с более сложным типом - словариком. Без санитайзера на этот раз, чтобы хоть где-то были команды компиляции и запуска не усложненные костылями для запуска саниайзера."
   ]
  },
  {
   "cell_type": "code",
   "execution_count": 11,
   "metadata": {},
   "outputs": [
    {
     "data": {
      "text/markdown": [
       "Run: `clang -Wall c_api_module_2.c $(python3-config --includes --ldflags) -shared -fPIC -o c_api_module_2.so`"
      ],
      "text/plain": [
       "<IPython.core.display.Markdown object>"
      ]
     },
     "metadata": {},
     "output_type": "display_data"
    }
   ],
   "source": [
    "%%cpp c_api_module_2.c\n",
    "%run clang -Wall c_api_module_2.c $(python3-config --includes --ldflags) -shared -fPIC -o c_api_module_2.so\n",
    "#include <Python.h>\n",
    "\n",
    "static PyObject* print_dict(PyObject* self, PyObject* args, PyObject* kwargs) {\n",
    "    static const char* kwlist[] = {\"d\", NULL};\n",
    "    PyObject* d;\n",
    "    if (!PyArg_ParseTupleAndKeywords(args, kwargs, \"O\", (char**)kwlist, &d)) {\n",
    "        return NULL;\n",
    "    }\n",
    "    Py_ssize_t ppos = 0;\n",
    "    PyObject* pkey; PyObject* pvalue;\n",
    "    while (PyDict_Next(d, &ppos, &pkey, &pvalue)) {\n",
    "        const char* key = PyUnicode_AsUTF8(pkey);\n",
    "        if (!key) return NULL;\n",
    "        char value_storage[20];\n",
    "        const char* value = value_storage; \n",
    "        if (PyLong_Check(pvalue)) {\n",
    "            sprintf(value_storage, \"%lld\", PyLong_AsLongLong(pvalue));\n",
    "        } else {\n",
    "            value = PyUnicode_AsUTF8(pvalue);\n",
    "            if (!value) return NULL;\n",
    "        }\n",
    "        \n",
    "        printf(\"%s -> %s\\n\", key, value);\n",
    "    }\n",
    "    printf(\"\\n\");\n",
    "    fflush(stdout);\n",
    "\n",
    "    Py_RETURN_NONE;\n",
    "}\n",
    "\n",
    "// Список функций модуля\n",
    "static PyMethodDef methods[] = {\n",
    "    {\"print_dict\", (PyCFunction)print_dict, METH_VARARGS | METH_KEYWORDS, \"print_dict\"},\n",
    "    {NULL, NULL, 0, NULL}\n",
    "};\n",
    "\n",
    "// Описание модуля\n",
    "static struct PyModuleDef module = {\n",
    "    PyModuleDef_HEAD_INIT, \"c_api_module_2\", \"Test module\", -1, methods\n",
    "};\n",
    "\n",
    "// Инициализация модуля\n",
    "PyMODINIT_FUNC PyInit_c_api_module_2(void) {\n",
    "    PyObject* mod = PyModule_Create(&module);\n",
    "    return mod;\n",
    "}"
   ]
  },
  {
   "cell_type": "code",
   "execution_count": 12,
   "metadata": {},
   "outputs": [
    {
     "data": {
      "text/markdown": [
       "Run: `python3 c_api_module_2_example.py`"
      ],
      "text/plain": [
       "<IPython.core.display.Markdown object>"
      ]
     },
     "metadata": {},
     "output_type": "display_data"
    },
    {
     "name": "stdout",
     "output_type": "stream",
     "text": [
      "key1 -> value1\r\n",
      "\r\n",
      "key1 -> value1\r\n",
      "key2 -> 42\r\n",
      "\r\n"
     ]
    }
   ],
   "source": [
    "%%save_file c_api_module_2_example.py\n",
    "%run python3 c_api_module_2_example.py\n",
    "import c_api_module_2\n",
    "\n",
    "c_api_module_2.print_dict({\"key1\": \"value1\"})\n",
    "c_api_module_2.print_dict({\n",
    "    \"key1\": \"value1\",\n",
    "    \"key2\": 42,\n",
    "})"
   ]
  },
  {
   "cell_type": "code",
   "execution_count": null,
   "metadata": {},
   "outputs": [],
   "source": []
  },
  {
   "cell_type": "markdown",
   "metadata": {},
   "source": [
    "## <a name=\"ctypes\"></a> ctypes\n",
    "\n",
    "Способ взаимодействовать с уже существующей скомпилированной библиотекой.\n",
    "\n",
    "Очень просто в очень простых случаях. И не очень в сложных\n",
    "\n",
    "https://habr.com/ru/post/466499/"
   ]
  },
  {
   "cell_type": "code",
   "execution_count": 13,
   "metadata": {},
   "outputs": [
    {
     "data": {
      "text/markdown": [
       "Run: `gcc -Wall ctypes_lib.c -shared -fPIC -fsanitize=address -o ctypes_lib.so`"
      ],
      "text/plain": [
       "<IPython.core.display.Markdown object>"
      ]
     },
     "metadata": {},
     "output_type": "display_data"
    }
   ],
   "source": [
    "%%cpp ctypes_lib.c\n",
    "%// Делаем самую обычную динамическую библиотеку\n",
    "%run gcc -Wall ctypes_lib.c -shared -fPIC -fsanitize=address -o ctypes_lib.so\n",
    "\n",
    "float sum_ab(int a, float b) {\n",
    "    return a + b;\n",
    "}"
   ]
  },
  {
   "cell_type": "code",
   "execution_count": 14,
   "metadata": {},
   "outputs": [
    {
     "data": {
      "text/markdown": [
       "Run: `LD_PRELOAD=$(gcc -print-file-name=libasan.so) ASAN_OPTIONS=detect_leaks=0 python3 ctypes_example.py`"
      ],
      "text/plain": [
       "<IPython.core.display.Markdown object>"
      ]
     },
     "metadata": {},
     "output_type": "display_data"
    },
    {
     "name": "stdout",
     "output_type": "stream",
     "text": [
      "31.5\r\n"
     ]
    }
   ],
   "source": [
    "%%save_file ctypes_example.py\n",
    "%run LD_PRELOAD=$(gcc -print-file-name=libasan.so) ASAN_OPTIONS=detect_leaks=0 python3 ctypes_example.py\n",
    "\n",
    "import ctypes \n",
    "\n",
    "ctypes_lib = ctypes.CDLL('./ctypes_lib.so')\n",
    "\n",
    "sum_ab = ctypes_lib.sum_ab\n",
    "\n",
    "sum_ab.restype = ctypes.c_float\n",
    "sum_ab.argtypes = [ctypes.c_int, ctypes.c_float, ]\n",
    "\n",
    "print(sum_ab(30, 1.5))"
   ]
  },
  {
   "cell_type": "code",
   "execution_count": null,
   "metadata": {},
   "outputs": [],
   "source": []
  },
  {
   "cell_type": "code",
   "execution_count": null,
   "metadata": {},
   "outputs": [],
   "source": []
  },
  {
   "cell_type": "markdown",
   "metadata": {},
   "source": [
    "## <a name=\"cython\"></a> Cython\n",
    "\n",
    "[Cython на wiki](https://ru.wikipedia.org/wiki/Cython)\n",
    "\n",
    "Высокоуровневый способ связывать код на С/С++ и Python. Связка идет через промежуточный код на промежуточном языке.\n",
    "\n",
    "По задумке (в моем понимании), cython можно использовать для написания обвязки к существующей С++ библиотеке для ее переиспользования в Python.\n",
    "\n",
    "Но если честно, то и чистый С++ код приходится немного адаптировать под Python. Так как там есть тонкости в пробросе исключений и еще какие-то.\n",
    "\n",
    "Получается довольно много избыточного кода и файлов.\n",
    "\n",
    "Но помимо биндингов cython можно использовать просто для ускорения python кода. Переименовываем .py в .pyx и, магия, добавилась статическая типизация, все начало работать быстрее.\n",
    "\n",
    "`pip3 install --user cython`"
   ]
  },
  {
   "cell_type": "markdown",
   "metadata": {},
   "source": [
    "Исходный код на C. Необязательно весь в хедере, просто так проще в этом примере, а то и так файлов много будет :)"
   ]
  },
  {
   "cell_type": "code",
   "execution_count": 15,
   "metadata": {},
   "outputs": [],
   "source": [
    "%%cpp pairs.h\n",
    "#pragma once\n",
    "#include <vector>\n",
    "#include <algorithm>\n",
    "\n",
    "struct TPairs {\n",
    "    std::vector<std::pair<int, float>> Vector;\n",
    "};\n",
    "\n",
    "inline void SortPairs(TPairs& pairs) {\n",
    "    std::sort(pairs.Vector.begin(), pairs.Vector.end());\n",
    "}\n",
    "\n",
    "inline void AppendPairs(TPairs& pairs, const TPairs& other) {\n",
    "    pairs.Vector.insert(pairs.Vector.end(), other.Vector.begin(), other.Vector.end());\n",
    "}"
   ]
  },
  {
   "cell_type": "markdown",
   "metadata": {},
   "source": [
    "cython'овский хедер. В нем описывается вся провязка с C/С++, а так же объявляются классы в которых будут поля - С'шные структуры и функции, в которых можно будет использовать локальные С'шные переменные.\n",
    "\n",
    "Этот файлик автоматически \"инклюдится\" в соответствующий .pyx"
   ]
  },
  {
   "cell_type": "code",
   "execution_count": 16,
   "metadata": {},
   "outputs": [],
   "source": [
    "%%save_file pairs.pxd\n",
    "from libcpp.vector cimport vector\n",
    "from libcpp.pair cimport pair\n",
    "\n",
    "# \"Импорты\" функций из С/С++\n",
    "cdef extern from \"pairs.h\" nogil:\n",
    "    cdef cppclass TPairs:\n",
    "        TPairs()\n",
    "        vector[pair[int, float]] Vector\n",
    "    void SortPairs(TPairs& pairs)\n",
    "    void AppendPairs(TPairs& pairs, const TPairs& other)\n",
    "\n",
    "# Объявляем класс с С++ полем\n",
    "cdef class Pairs:\n",
    "    cdef TPairs pairs"
   ]
  },
  {
   "cell_type": "markdown",
   "metadata": {},
   "source": [
    ".pyx файл, в нём уже практически чистый питон, только слегка расширенный. Есть интересные ключевые слова cimport, cdef, касты объектов к плюсовым типам, но в остальном - обычный питон."
   ]
  },
  {
   "cell_type": "code",
   "execution_count": 17,
   "metadata": {},
   "outputs": [],
   "source": [
    "%%save_file pairs.pyx\n",
    "# distutils: language=c++ \n",
    "# ^^^ - обязательный комментарий\n",
    "from libcpp.vector cimport vector\n",
    "from libcpp.pair cimport pair\n",
    "\n",
    "cdef class Pairs:\n",
    "    def __init__(self, pairs_list=[]):\n",
    "        for val_i, val_f in pairs_list:\n",
    "            self.pairs.Vector.push_back(pair[int, float](val_i, val_f))\n",
    "            \n",
    "    def sorted(self):\n",
    "        sorted_pairs = Pairs()\n",
    "        sorted_pairs.pairs = self.pairs\n",
    "        SortPairs(sorted_pairs.pairs)\n",
    "        return sorted_pairs\n",
    "    \n",
    "    def __add__(self, other):\n",
    "        assert isinstance(other, Pairs)\n",
    "        sum_pairs = Pairs()\n",
    "        sum_pairs.pairs = (<Pairs>self).pairs\n",
    "        AppendPairs(sum_pairs.pairs, (<Pairs>other).pairs)\n",
    "        return sum_pairs\n",
    "    \n",
    "    def __repr__(self):\n",
    "        return repr(self.pairs.Vector)\n",
    "\n",
    "# это к примеру о том, что .pyx быстрее работает, чем .py\n",
    "def count_1e8():\n",
    "    for i in range(int(1e8)):\n",
    "        pass"
   ]
  },
  {
   "cell_type": "markdown",
   "metadata": {},
   "source": [
    "Скомпилируем теперь это в модуль:"
   ]
  },
  {
   "cell_type": "code",
   "execution_count": 19,
   "metadata": {},
   "outputs": [
    {
     "data": {
      "text/markdown": [
       "Run: `python3 ./cython_setup.py build_ext --inplace`"
      ],
      "text/plain": [
       "<IPython.core.display.Markdown object>"
      ]
     },
     "metadata": {},
     "output_type": "display_data"
    },
    {
     "name": "stdout",
     "output_type": "stream",
     "text": [
      "running build_ext\n",
      "cythoning pairs.pyx to pairs.cpp\n",
      "/home/pechatnov/.local/lib/python3.8/site-packages/Cython/Compiler/Main.py:369: FutureWarning: Cython directive 'language_level' not set, using 2 for now (Py2). This will change in a later release! File: /home/pechatnov/vbox/caos_2019-2020/sem27-python-bindings/pairs.pxd\n",
      "  tree = Parsing.p_module(s, pxd, full_module_name)\n",
      "building 'pairs' extension\n",
      "creating build\n",
      "creating build/temp.linux-x86_64-3.8\n",
      "x86_64-linux-gnu-gcc -pthread -Wno-unused-result -Wsign-compare -DNDEBUG -g -fwrapv -O2 -Wall -g -fstack-protector-strong -Wformat -Werror=format-security -g -fwrapv -O2 -g -fstack-protector-strong -Wformat -Werror=format-security -Wdate-time -D_FORTIFY_SOURCE=2 -fPIC -I/usr/include/python3.8 -c pairs.cpp -o build/temp.linux-x86_64-3.8/pairs.o -std=c++17 -Wall\n",
      "x86_64-linux-gnu-g++ -pthread -shared -Wl,-O1 -Wl,-Bsymbolic-functions -Wl,-Bsymbolic-functions -Wl,-z,relro -g -fwrapv -O2 -Wl,-Bsymbolic-functions -Wl,-z,relro -g -fwrapv -O2 -g -fstack-protector-strong -Wformat -Werror=format-security -Wdate-time -D_FORTIFY_SOURCE=2 build/temp.linux-x86_64-3.8/pairs.o -o /home/pechatnov/vbox/caos_2019-2020/sem27-python-bindings/pairs.cpython-38-x86_64-linux-gnu.so\n"
     ]
    }
   ],
   "source": [
    "%%save_file cython_setup.py\n",
    "%run python3 ./cython_setup.py build_ext --inplace \n",
    "\n",
    "from distutils.core import setup, Extension\n",
    "from Cython.Distutils import build_ext\n",
    "\n",
    "setup(\n",
    "    ext_modules=[\n",
    "        Extension(\n",
    "            \"pairs\",\n",
    "            sources=[\"pairs.pyx\"],\n",
    "            language=\"c++\",\n",
    "            extra_compile_args=[\"-std=c++17\", \"-Wall\"]\n",
    "        ),\n",
    "    ], \n",
    "    cmdclass={\n",
    "        'build_ext': build_ext\n",
    "    }\n",
    ")"
   ]
  },
  {
   "cell_type": "markdown",
   "metadata": {},
   "source": [
    "И заиспользуем:"
   ]
  },
  {
   "cell_type": "code",
   "execution_count": 20,
   "metadata": {},
   "outputs": [
    {
     "data": {
      "text/markdown": [
       "Run: `python3 ./test_pairs.py`"
      ],
      "text/plain": [
       "<IPython.core.display.Markdown object>"
      ]
     },
     "metadata": {},
     "output_type": "display_data"
    },
    {
     "name": "stdout",
     "output_type": "stream",
     "text": [
      "[(1, 2.0)]\r\n",
      "[(1, 2.0), (2, -1.0), (3, 10.0), (4, -10.0)]\r\n"
     ]
    }
   ],
   "source": [
    "%%save_file test_pairs.py\n",
    "%run python3 ./test_pairs.py\n",
    "\n",
    "from pairs import Pairs\n",
    "\n",
    "print(Pairs([(1, 2)]))\n",
    "print((Pairs([(1, 2), (3, 10)]) + Pairs([(2, -1), (4, -10)])).sorted())"
   ]
  },
  {
   "cell_type": "markdown",
   "metadata": {},
   "source": [
    "**Про то, что .pyx быстрее, чем .py**"
   ]
  },
  {
   "cell_type": "code",
   "execution_count": 21,
   "metadata": {},
   "outputs": [
    {
     "data": {
      "text/markdown": [
       "Run: `time python3 ./count_1e8_native.py`"
      ],
      "text/plain": [
       "<IPython.core.display.Markdown object>"
      ]
     },
     "metadata": {},
     "output_type": "display_data"
    },
    {
     "name": "stdout",
     "output_type": "stream",
     "text": [
      "2.82user 0.01system 0:02.88elapsed 98%CPU (0avgtext+0avgdata 8632maxresident)k\r\n",
      "0inputs+0outputs (0major+828minor)pagefaults 0swaps\r\n"
     ]
    }
   ],
   "source": [
    "%%save_file count_1e8_native.py\n",
    "%run time python3 ./count_1e8_native.py\n",
    "\n",
    "def count_1e8():\n",
    "    for i in range(int(1e8)):\n",
    "        pass\n",
    "    \n",
    "count_1e8()"
   ]
  },
  {
   "cell_type": "code",
   "execution_count": 22,
   "metadata": {},
   "outputs": [
    {
     "data": {
      "text/markdown": [
       "Run: `time python3 ./count_1e8_cython.py`"
      ],
      "text/plain": [
       "<IPython.core.display.Markdown object>"
      ]
     },
     "metadata": {},
     "output_type": "display_data"
    },
    {
     "name": "stdout",
     "output_type": "stream",
     "text": [
      "2.13user 0.00system 0:02.13elapsed 99%CPU (0avgtext+0avgdata 9972maxresident)k\r\n",
      "0inputs+0outputs (0major+883minor)pagefaults 0swaps\r\n"
     ]
    }
   ],
   "source": [
    "%%save_file count_1e8_cython.py\n",
    "%run time python3 ./count_1e8_cython.py\n",
    "\n",
    "from pairs import count_1e8\n",
    "\n",
    "count_1e8()"
   ]
  },
  {
   "cell_type": "code",
   "execution_count": null,
   "metadata": {},
   "outputs": [],
   "source": []
  },
  {
   "cell_type": "markdown",
   "metadata": {},
   "source": [
    "## <a name=\"pybind\"></a> Pybind\n",
    "\n",
    "Только С++\n",
    "\n",
    "Лаконично по сравнению с cython, при этом так же есть неявный кастинг питонячих типов и типов из stl.\n",
    "\n",
    "По ощущениям долго собирается, видимо количество используемого метапрограммирования сказывается\n",
    "\n",
    "https://habr.com/ru/post/468099/\n",
    "\n",
    "`pip3 install --user pybind11`\n"
   ]
  },
  {
   "cell_type": "code",
   "execution_count": 23,
   "metadata": {},
   "outputs": [],
   "source": [
    "%%cpp pairs_pybind.cpp\n",
    "\n",
    "#include <vector>\n",
    "#include <algorithm>\n",
    "#include <sstream>\n",
    "#include <pybind11/pybind11.h>\n",
    "#include <pybind11/stl.h> // неявные преобразования python-объектов и стандартных C++ классов\n",
    "\n",
    "struct TPairs {\n",
    "    std::vector<std::pair<int, float>> Vector;\n",
    "};\n",
    "\n",
    "inline void SortPairs(TPairs& pairs) {\n",
    "    std::sort(pairs.Vector.begin(), pairs.Vector.end());\n",
    "}\n",
    "\n",
    "inline void AppendPairs(TPairs& pairs, const TPairs& other) {\n",
    "    pairs.Vector.insert(pairs.Vector.end(), other.Vector.begin(), other.Vector.end());\n",
    "}\n",
    "\n",
    "// -------------------\n",
    "\n",
    "namespace py = pybind11;\n",
    "\n",
    "PYBIND11_MODULE(pairs_pybind, m) {\n",
    "    py::class_<TPairs>(m, \"Pairs\")\n",
    "        // конструктор\n",
    "        .def(py::init<std::vector<std::pair<int, float>>>(), \n",
    "             \"Class constructor\", py::arg(\"vector\") = std::vector<std::pair<int, float>>{}) \n",
    "        // методы\n",
    "        .def(\"sorted\", [](TPairs pairs) { SortPairs(pairs); return pairs; })\n",
    "        .def(\"__add__\", [](TPairs a, const TPairs& b) { AppendPairs(a, b); return a; })\n",
    "        .def(\"__repr__\", [](const TPairs& p) { \n",
    "            std::stringstream ss;\n",
    "            ss << \"[\";\n",
    "            for (auto pair : p.Vector) { ss << \"(\" << pair.first << \",\" << pair.second << \"),\"; }\n",
    "            ss << \"]\";\n",
    "            return ss.str(); \n",
    "        })\n",
    "        .def_readwrite(\"Vector\", &TPairs::Vector) // Поле структурки как read-write property (с автоматическими конверсиями)\n",
    "    ; \n",
    "};"
   ]
  },
  {
   "cell_type": "markdown",
   "metadata": {},
   "source": [
    "Скомпилируем теперь это в модуль:"
   ]
  },
  {
   "cell_type": "code",
   "execution_count": 24,
   "metadata": {
    "scrolled": true
   },
   "outputs": [
    {
     "data": {
      "text/markdown": [
       "Run: `python3 ./pybind_setup.py build_ext --inplace`"
      ],
      "text/plain": [
       "<IPython.core.display.Markdown object>"
      ]
     },
     "metadata": {},
     "output_type": "display_data"
    },
    {
     "name": "stdout",
     "output_type": "stream",
     "text": [
      "running build_ext\n",
      "building 'pairs_pybind' extension\n",
      "x86_64-linux-gnu-gcc -pthread -Wno-unused-result -Wsign-compare -DNDEBUG -g -fwrapv -O2 -Wall -g -fstack-protector-strong -Wformat -Werror=format-security -g -fwrapv -O2 -g -fstack-protector-strong -Wformat -Werror=format-security -Wdate-time -D_FORTIFY_SOURCE=2 -fPIC -I/home/pechatnov/.local/lib/python3.8/site-packages/pybind11/include -I/usr/include/python3.8 -c pairs_pybind.cpp -o build/temp.linux-x86_64-3.8/pairs_pybind.o -std=c++11\n",
      "x86_64-linux-gnu-g++ -pthread -shared -Wl,-O1 -Wl,-Bsymbolic-functions -Wl,-Bsymbolic-functions -Wl,-z,relro -g -fwrapv -O2 -Wl,-Bsymbolic-functions -Wl,-z,relro -g -fwrapv -O2 -g -fstack-protector-strong -Wformat -Werror=format-security -Wdate-time -D_FORTIFY_SOURCE=2 build/temp.linux-x86_64-3.8/pairs_pybind.o -o /home/pechatnov/vbox/caos_2019-2020/sem27-python-bindings/pairs_pybind.cpython-38-x86_64-linux-gnu.so\n"
     ]
    }
   ],
   "source": [
    "%%save_file pybind_setup.py\n",
    "%run python3 ./pybind_setup.py build_ext --inplace \n",
    "\n",
    "import pybind11\n",
    "from distutils.core import setup, Extension\n",
    "\n",
    "setup(\n",
    "    ext_modules=[\n",
    "        Extension(\n",
    "            'pairs_pybind',                         # Имя библиотеки собранной pybind11\n",
    "            ['pairs_pybind.cpp'],                   # Тестовый файлик который компилируем\n",
    "            include_dirs=[pybind11.get_include()],  # Добавляем инклюды pybind11\n",
    "            language='c++',                         # Указываем язык\n",
    "            extra_compile_args=['-std=c++11'],      # Флаг с++11\n",
    "        ),\n",
    "    ],\n",
    "    requires=['pybind11']\n",
    ")"
   ]
  },
  {
   "cell_type": "markdown",
   "metadata": {},
   "source": [
    "И заиспользуем:"
   ]
  },
  {
   "cell_type": "code",
   "execution_count": 25,
   "metadata": {},
   "outputs": [
    {
     "data": {
      "text/markdown": [
       "Run: `python3 ./test_pybind_pairs.py`"
      ],
      "text/plain": [
       "<IPython.core.display.Markdown object>"
      ]
     },
     "metadata": {},
     "output_type": "display_data"
    },
    {
     "name": "stdout",
     "output_type": "stream",
     "text": [
      "[]\r\n",
      "[]\r\n",
      "[(1, 2.0)]\r\n",
      "[(1,2),]\r\n",
      "[(1,2),(2,1),]\r\n",
      "[(1,2),(2,-1),(3,10),(4,-10),]\r\n"
     ]
    }
   ],
   "source": [
    "%%save_file test_pybind_pairs.py\n",
    "%run python3 ./test_pybind_pairs.py\n",
    "\n",
    "from pairs_pybind import Pairs\n",
    "\n",
    "print(Pairs())\n",
    "print(Pairs().Vector)\n",
    "print(Pairs([(1, 2)]).Vector)\n",
    "print(Pairs(vector=[(1, 2)]))\n",
    "print(Pairs([(1, 2), (2, 1)]).sorted())\n",
    "print((Pairs([(1, 2), (3, 10)]) + Pairs([(2, -1), (4, -10)])).sorted())"
   ]
  },
  {
   "cell_type": "code",
   "execution_count": null,
   "metadata": {},
   "outputs": [],
   "source": []
  },
  {
   "cell_type": "markdown",
   "metadata": {},
   "source": [
    "## <a name=\"use_interpreter\"></a> Используем интерпретатор Python из C\n",
    "\n",
    "https://habr.com/ru/post/466181/\n",
    "\n",
    "\n",
    "Если вам понадобилось встраивать себе интерпретатор питона, то скорее всего в вашей жизни что-то пошло не так.\n",
    "\n",
    "Но если прям пришлось, то всё-таки:"
   ]
  },
  {
   "cell_type": "code",
   "execution_count": 26,
   "metadata": {},
   "outputs": [
    {
     "name": "stdout",
     "output_type": "stream",
     "text": [
      "eval вычисляет выражение в строке и возвращает его значение: 2\n",
      "exec выполняет код, возвращает всегда None: None\n"
     ]
    }
   ],
   "source": [
    "# Сначала немного про exec и eval\n",
    "print(\"eval вычисляет выражение в строке и возвращает его значение:\", eval(\"1 + 1\"))\n",
    "print(\"exec выполняет код, возвращает всегда None:\", exec(\"1 + 1\"))"
   ]
  },
  {
   "cell_type": "code",
   "execution_count": 27,
   "metadata": {},
   "outputs": [
    {
     "name": "stdout",
     "output_type": "stream",
     "text": [
      "PRINT 2\n",
      "Побочные эффекты могут быть как в случае eval: None\n",
      "PRINT 4\n",
      "                          так и в случае exec: None\n"
     ]
    }
   ],
   "source": [
    "print(\"Побочные эффекты могут быть как в случае eval:\", eval(\"print('PRINT', 1 + 1)\"))\n",
    "print(\"                          так и в случае exec:\", exec(\"print('PRINT', 2 + 2)\"))"
   ]
  },
  {
   "cell_type": "code",
   "execution_count": 28,
   "metadata": {},
   "outputs": [
    {
     "name": "stdout",
     "output_type": "stream",
     "text": [
      "Это не выражение у которого можно вычислить значение: invalid syntax (<string>, line 1)\n",
      "Но то, что вполне можно выполнить, exec справляется: None\n",
      "Переменные выставленные внутри exec видны снаружи: 100500\n"
     ]
    }
   ],
   "source": [
    "try: \n",
    "    print(eval(\"a = 1\")) # \n",
    "except Exception as e: \n",
    "    print(\"Это не выражение у которого можно вычислить значение:\", e)\n",
    "print(\"Но то, что вполне можно выполнить, exec справляется:\", exec(\"b = 100500\"))\n",
    "print(\"Переменные выставленные внутри exec видны снаружи:\", b)"
   ]
  },
  {
   "cell_type": "code",
   "execution_count": 29,
   "metadata": {},
   "outputs": [
    {
     "data": {
      "text/plain": [
       "100500"
      ]
     },
     "execution_count": 29,
     "metadata": {},
     "output_type": "execute_result"
    }
   ],
   "source": [
    "# А еще можно явно указывать, какие locals и globals будут внутри exec/eval\n",
    "#    expression globals         locals        \n",
    "eval(\"A1 + B2\", {\"A1\": 100000}, {\"B2\": 500})"
   ]
  },
  {
   "cell_type": "code",
   "execution_count": 30,
   "metadata": {},
   "outputs": [
    {
     "data": {
      "text/plain": [
       "{'D': 1000, 'A': 1050}"
      ]
     },
     "execution_count": 30,
     "metadata": {},
     "output_type": "execute_result"
    }
   ],
   "source": [
    "custom_locals = {\"D\": 1000}\n",
    "exec(\"A = D + 50\", {}, custom_locals)\n",
    "custom_locals"
   ]
  },
  {
   "cell_type": "markdown",
   "metadata": {},
   "source": [
    "И, наконец, код про встраивание python:"
   ]
  },
  {
   "cell_type": "code",
   "execution_count": 52,
   "metadata": {},
   "outputs": [
    {
     "name": "stdout",
     "output_type": "stream",
     "text": [
      "Python 3.8.2\r\n"
     ]
    }
   ],
   "source": [
    "!python3 -V"
   ]
  },
  {
   "cell_type": "code",
   "execution_count": 53,
   "metadata": {},
   "outputs": [
    {
     "data": {
      "text/markdown": [
       "Run: `clang -Wall use_interpreter.c $(python3-config --includes --ldflags) -lpython3.8 -fsanitize=address -o use_interpreter.exe`"
      ],
      "text/plain": [
       "<IPython.core.display.Markdown object>"
      ]
     },
     "metadata": {},
     "output_type": "display_data"
    },
    {
     "data": {
      "text/markdown": [
       "Run: `ASAN_OPTIONS=detect_leaks=0 ./use_interpreter.exe`"
      ],
      "text/plain": [
       "<IPython.core.display.Markdown object>"
      ]
     },
     "metadata": {},
     "output_type": "display_data"
    },
    {
     "name": "stdout",
     "output_type": "stream",
     "text": [
      "42\n",
      "1\n",
      "None\n",
      "None\n",
      "None\n",
      "420\n",
      "None\n",
      "None\n",
      "i = 0, i = 1, i = 2, \n",
      "None\n",
      "  File \"<string>\", line 1\n",
      "    &\n",
      "    ^\n",
      "SyntaxError: unexpected EOF while parsing\n"
     ]
    }
   ],
   "source": [
    "%%cpp use_interpreter.c\n",
    "%run clang -Wall use_interpreter.c $(python3-config --includes --ldflags) -lpython3.8 -fsanitize=address -o use_interpreter.exe\n",
    "%run ASAN_OPTIONS=detect_leaks=0 ./use_interpreter.exe\n",
    "#include <Python.h>\n",
    "\n",
    "#define EXEC_PREFIX \"$ \"\n",
    "\n",
    "int main() {\n",
    "    Py_Initialize();\n",
    "    PyObject* locals = PyDict_New();\n",
    "    // Для PyEval_GetBuiltins не нужно делать Py_DECREF, так как возвращается borrowed reference: https://docs.python.org/3/c-api/reflection.html\n",
    "    // Подробнее про подсчет ссылок: https://pythonextensionpatterns.readthedocs.io/en/latest/refcount.html#new-references\n",
    "    PyObject* globals = PyDict_Copy(PyEval_GetBuiltins()); // Нам же нужно, чтобы функция print сразу была определена?\n",
    "\n",
    "    typedef struct { int is_exec_cmd; const char* line; } cmd_t;\n",
    "    #define EVAL(cmd) {0, cmd}\n",
    "    #define EXEC(cmd) {1, cmd}\n",
    "\n",
    "    const cmd_t cmds[] = {\n",
    "        EVAL(\"40 + 2\"),\n",
    "        EVAL(\"print(1)\"),\n",
    "        EXEC(\"a = 40 + 2\"),\n",
    "        EXEC(\"b = 5 + 5\"),\n",
    "        EXEC(\"print(a * b)\"),\n",
    "        EXEC(\"a + b\"),\n",
    "        EXEC(\n",
    "            \"for i in range(3):\"                    \"\\n\"\n",
    "            \"    print('i = %d' % i, end=', ')\"     \"\\n\"\n",
    "            \"print()\"                               \"\\n\"\n",
    "        ),\n",
    "        EVAL(\"&\"),\n",
    "    };\n",
    "    \n",
    "    for (const cmd_t* cmd = cmds; cmd != cmds + sizeof(cmds) / sizeof(cmd_t); ++cmd) {\n",
    "        PyObject* result = cmd->is_exec_cmd ? \n",
    "            PyRun_String(cmd->line, Py_file_input, globals, locals) : // exec\n",
    "            PyRun_String(cmd->line, Py_eval_input, globals, locals);  // eval\n",
    "        if (result) {\n",
    "            PyObject_Print(result, stdout, 0); printf(\"\\n\"); // печать python-объекта (print(obj))\n",
    "            Py_DECREF(result);\n",
    "        } else {\n",
    "            // Не забываем, что python-функции возвращают None если нормально завершаются без return и исключений\n",
    "            // При этом None это специальный синглтон. То есть != NULL. \n",
    "            // А вот если функция вернула NULL, то это значит, что кинуто исключение\n",
    "            PyErr_PrintEx(0); // печать исключения\n",
    "            PyErr_Clear();\n",
    "        }\n",
    "        \n",
    "    }\n",
    "    Py_DECREF(locals);\n",
    "    Py_DECREF(globals);\n",
    "    Py_Finalize();\n",
    "}"
   ]
  },
  {
   "cell_type": "code",
   "execution_count": null,
   "metadata": {},
   "outputs": [],
   "source": []
  },
  {
   "cell_type": "code",
   "execution_count": null,
   "metadata": {},
   "outputs": [],
   "source": []
  },
  {
   "cell_type": "markdown",
   "metadata": {},
   "source": [
    "# <a name=\"hw\"></a> Комментарии к ДЗ\n",
    "\n",
    "* Python 3.x, то есть документацию по python/c api стоит смотреть для этой версии\n",
    "* Если вы чувствуете в себе на это силы, то следите за ссылками, делайте Py_DECREF когда необходимо, и не делайте когда не надо :)\n",
    "* В задаче про перемножение матриц считайте все в double. При возвращении в питон отдавайте питонячий float."
   ]
  },
  {
   "cell_type": "code",
   "execution_count": null,
   "metadata": {},
   "outputs": [],
   "source": []
  },
  {
   "cell_type": "code",
   "execution_count": null,
   "metadata": {},
   "outputs": [],
   "source": []
  }
 ],
 "metadata": {
  "kernelspec": {
   "display_name": "Python 3",
   "language": "python",
   "name": "python3"
  },
  "language_info": {
   "codemirror_mode": {
    "name": "ipython",
    "version": 3
   },
   "file_extension": ".py",
   "mimetype": "text/x-python",
   "name": "python",
   "nbconvert_exporter": "python",
   "pygments_lexer": "ipython3",
   "version": "3.8.2"
  }
 },
 "nbformat": 4,
 "nbformat_minor": 2
}
