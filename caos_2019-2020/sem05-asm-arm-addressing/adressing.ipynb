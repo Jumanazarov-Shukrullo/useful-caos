{
 "cells": [
  {
   "cell_type": "code",
   "execution_count": 2,
   "metadata": {},
   "outputs": [
    {
     "data": {
      "application/javascript": [
       "// setup cpp code highlighting\n",
       "IPython.CodeCell.options_default.highlight_modes[\"text/x-c++src\"] = {'reg':[/^%%cpp/]} ;"
      ],
      "text/plain": [
       "<IPython.core.display.Javascript object>"
      ]
     },
     "metadata": {},
     "output_type": "display_data"
    },
    {
     "data": {
      "text/html": [
       "<!-- YANDEX_METRICA_BEGIN -->\n",
       "    <script type=\"text/javascript\" >\n",
       "       (function(m,e,t,r,i,k,a){m[i]=m[i]||function(){(m[i].a=m[i].a||[]).push(arguments)};\n",
       "       m[i].l=1*new Date();k=e.createElement(t),a=e.getElementsByTagName(t)[0],k.async=1,k.src=r,a.parentNode.insertBefore(k,a)})\n",
       "       (window, document, \"script\", \"https://mc.yandex.ru/metrika/tag.js\", \"ym\");\n",
       "\n",
       "       ym(59260609, \"init\", {\n",
       "            clickmap:true,\n",
       "            trackLinks:true,\n",
       "            accurateTrackBounce:true\n",
       "       });\n",
       "    </script>\n",
       "    <noscript><div><img src=\"https://mc.yandex.ru/watch/59260609\" style=\"position:absolute; left:-9999px;\" alt=\"\" /></div></noscript>\n",
       "    <!-- YANDEX_METRICA_END -->"
      ],
      "text/plain": [
       "<IPython.core.display.HTML object>"
      ]
     },
     "metadata": {},
     "output_type": "display_data"
    },
    {
     "data": {
      "text/html": [
       "В этот ноутбук встроен код Яндекс Метрики для сбора статистики использований. Если вы не хотите, чтобы по вам собиралась статистика, исправьте: yandex_metrica_allowed = False<!-- MAGICS_SETUP_PRINTING_END -->"
      ],
      "text/plain": [
       "<IPython.core.display.HTML object>"
      ]
     },
     "metadata": {},
     "output_type": "display_data"
    }
   ],
   "source": [
    "# look at tools/set_up_magics.ipynb\n",
    "yandex_metrica_allowed = True ; get_ipython().run_cell('# one_liner_str\\n\\nget_ipython().run_cell_magic(\\'javascript\\', \\'\\', \\'// setup cpp code highlighting\\\\nIPython.CodeCell.options_default.highlight_modes[\"text/x-c++src\"] = {\\\\\\'reg\\\\\\':[/^%%cpp/]} ;\\')\\n\\n# creating magics\\nfrom IPython.core.magic import register_cell_magic, register_line_magic\\nfrom IPython.display import display, Markdown, HTML\\nimport argparse\\nfrom subprocess import Popen, PIPE\\nimport random\\nimport sys\\nimport os\\nimport re\\nimport signal\\nimport shutil\\nimport shlex\\nimport glob\\n\\n@register_cell_magic\\ndef save_file(args_str, cell, line_comment_start=\"#\"):\\n    parser = argparse.ArgumentParser()\\n    parser.add_argument(\"fname\")\\n    parser.add_argument(\"--ejudge-style\", action=\"store_true\")\\n    args = parser.parse_args(args_str.split())\\n    \\n    cell = cell if cell[-1] == \\'\\\\n\\' or args.no_eof_newline else cell + \"\\\\n\"\\n    cmds = []\\n    with open(args.fname, \"w\") as f:\\n        f.write(line_comment_start + \" %%cpp \" + args_str + \"\\\\n\")\\n        for line in cell.split(\"\\\\n\"):\\n            line_to_write = (line if not args.ejudge_style else line.rstrip()) + \"\\\\n\"\\n            if line.startswith(\"%\"):\\n                run_prefix = \"%run \"\\n                if line.startswith(run_prefix):\\n                    cmds.append(line[len(run_prefix):].strip())\\n                    f.write(line_comment_start + \" \" + line_to_write)\\n                    continue\\n                run_prefix = \"%# \"\\n                if line.startswith(run_prefix):\\n                    f.write(line_comment_start + \" \" + line_to_write)\\n                    continue\\n                raise Exception(\"Unknown %%save_file subcommand: \\'%s\\'\" % line)\\n            else:\\n                f.write(line_to_write)\\n        f.write(\"\" if not args.ejudge_style else line_comment_start + r\" line without \\\\n\")\\n    for cmd in cmds:\\n        display(Markdown(\"Run: `%s`\" % cmd))\\n        get_ipython().system(cmd)\\n\\n@register_cell_magic\\ndef cpp(fname, cell):\\n    save_file(fname, cell, \"//\")\\n\\n@register_cell_magic\\ndef asm(fname, cell):\\n    save_file(fname, cell, \"//\")\\n    \\n@register_cell_magic\\ndef makefile(fname, cell):\\n    assert not fname\\n    save_file(\"makefile\", cell.replace(\" \" * 4, \"\\\\t\"))\\n        \\n@register_line_magic\\ndef p(line):\\n    try:\\n        expr, comment = line.split(\" #\")\\n        display(Markdown(\"`{} = {}`  # {}\".format(expr.strip(), eval(expr), comment.strip())))\\n    except:\\n        display(Markdown(\"{} = {}\".format(line, eval(line))))\\n        \\ndef show_file(file, clear_at_begin=True, return_html_string=False):\\n    if clear_at_begin:\\n        get_ipython().system(\"truncate --size 0 \" + file)\\n    obj = file.replace(\\'.\\', \\'_\\').replace(\\'/\\', \\'_\\') + \"_obj\"\\n    html_string = \\'\\'\\'\\n        <!--MD_BEGIN_FILTER-->\\n        <script type=text/javascript>\\n        var entrance___OBJ__ = 0;\\n        var errors___OBJ__ = 0;\\n        function refresh__OBJ__()\\n        {\\n            entrance___OBJ__ -= 1;\\n            var elem = document.getElementById(\"__OBJ__\");\\n            if (elem) {\\n                var xmlhttp=new XMLHttpRequest();\\n                xmlhttp.onreadystatechange=function()\\n                {\\n                    var elem = document.getElementById(\"__OBJ__\");\\n                    console.log(!!elem, xmlhttp.readyState, xmlhttp.status, entrance___OBJ__);\\n                    if (elem && xmlhttp.readyState==4) {\\n                        if (xmlhttp.status==200)\\n                        {\\n                            errors___OBJ__ = 0;\\n                            if (!entrance___OBJ__) {\\n                                elem.innerText = xmlhttp.responseText;\\n                                entrance___OBJ__ += 1;\\n                                console.log(\"req\");\\n                                window.setTimeout(\"refresh__OBJ__()\", 300); \\n                            }\\n                            return xmlhttp.responseText;\\n                        } else {\\n                            errors___OBJ__ += 1;\\n                            if (errors___OBJ__ < 10 && !entrance___OBJ__) {\\n                                entrance___OBJ__ += 1;\\n                                console.log(\"req\");\\n                                window.setTimeout(\"refresh__OBJ__()\", 300); \\n                            }\\n                        }\\n                    }\\n                }\\n                xmlhttp.open(\"GET\", \"__FILE__\", true);\\n                xmlhttp.setRequestHeader(\"Cache-Control\", \"no-cache\");\\n                xmlhttp.send();     \\n            }\\n        }\\n        \\n        if (!entrance___OBJ__) {\\n            entrance___OBJ__ += 1;\\n            refresh__OBJ__(); \\n        }\\n        </script>\\n        \\n        <font color=\"white\"> <tt>\\n        <p id=\"__OBJ__\" style=\"font-size: 16px; border:3px #333333 solid; background: #333333; border-radius: 10px; padding: 10px;  \"></p>\\n        </tt> </font>\\n        <!--MD_END_FILTER-->\\n        <!--MD_FROM_FILE __FILE__ -->\\n        \\'\\'\\'.replace(\"__OBJ__\", obj).replace(\"__FILE__\", file)\\n    if return_html_string:\\n        return html_string\\n    display(HTML(html_string))\\n    \\nBASH_POPEN_TMP_DIR = \"./bash_popen_tmp\"\\n    \\ndef bash_popen_terminate_all():\\n    for p in globals().get(\"bash_popen_list\", []):\\n        print(\"Terminate pid=\" + str(p.pid), file=sys.stderr)\\n        p.terminate()\\n    globals()[\"bash_popen_list\"] = []\\n    if os.path.exists(BASH_POPEN_TMP_DIR):\\n        shutil.rmtree(BASH_POPEN_TMP_DIR)\\n\\nbash_popen_terminate_all()  \\n\\ndef bash_popen(cmd):\\n    if not os.path.exists(BASH_POPEN_TMP_DIR):\\n        os.mkdir(BASH_POPEN_TMP_DIR)\\n    h = os.path.join(BASH_POPEN_TMP_DIR, str(random.randint(0, 1e18)))\\n    stdout_file = h + \".out.html\"\\n    stderr_file = h + \".err.html\"\\n    run_log_file = h + \".fin.html\"\\n    \\n    stdout = open(stdout_file, \"wb\")\\n    stdout = open(stderr_file, \"wb\")\\n    \\n    html = \"\"\"\\n    <table width=\"100%\">\\n    <colgroup>\\n       <col span=\"1\" style=\"width: 70px;\">\\n       <col span=\"1\">\\n    </colgroup>    \\n    <tbody>\\n      <tr> <td><b>STDOUT</b></td> <td> {stdout} </td> </tr>\\n      <tr> <td><b>STDERR</b></td> <td> {stderr} </td> </tr>\\n      <tr> <td><b>RUN LOG</b></td> <td> {run_log} </td> </tr>\\n    </tbody>\\n    </table>\\n    \"\"\".format(\\n        stdout=show_file(stdout_file, return_html_string=True),\\n        stderr=show_file(stderr_file, return_html_string=True),\\n        run_log=show_file(run_log_file, return_html_string=True),\\n    )\\n    \\n    cmd = \"\"\"\\n        bash -c {cmd} &\\n        pid=$!\\n        echo \"Process started! pid=${{pid}}\" > {run_log_file}\\n        wait ${{pid}}\\n        echo \"Process finished! exit_code=$?\" >> {run_log_file}\\n    \"\"\".format(cmd=shlex.quote(cmd), run_log_file=run_log_file)\\n    # print(cmd)\\n    display(HTML(html))\\n    \\n    p = Popen([\"bash\", \"-c\", cmd], stdin=PIPE, stdout=stdout, stderr=stdout)\\n    \\n    bash_popen_list.append(p)\\n    return p\\n\\n\\n@register_line_magic\\ndef bash_async(line):\\n    bash_popen(line)\\n    \\n    \\ndef show_log_file(file, return_html_string=False):\\n    obj = file.replace(\\'.\\', \\'_\\').replace(\\'/\\', \\'_\\') + \"_obj\"\\n    html_string = \\'\\'\\'\\n        <!--MD_BEGIN_FILTER-->\\n        <script type=text/javascript>\\n        var entrance___OBJ__ = 0;\\n        var errors___OBJ__ = 0;\\n        function halt__OBJ__(elem, color)\\n        {\\n            elem.setAttribute(\"style\", \"font-size: 14px; background: \" + color + \"; padding: 10px; border: 3px; border-radius: 5px; color: white; \");                    \\n        }\\n        function refresh__OBJ__()\\n        {\\n            entrance___OBJ__ -= 1;\\n            if (entrance___OBJ__ < 0) {\\n                entrance___OBJ__ = 0;\\n            }\\n            var elem = document.getElementById(\"__OBJ__\");\\n            if (elem) {\\n                var xmlhttp=new XMLHttpRequest();\\n                xmlhttp.onreadystatechange=function()\\n                {\\n                    var elem = document.getElementById(\"__OBJ__\");\\n                    console.log(!!elem, xmlhttp.readyState, xmlhttp.status, entrance___OBJ__);\\n                    if (elem && xmlhttp.readyState==4) {\\n                        if (xmlhttp.status==200)\\n                        {\\n                            errors___OBJ__ = 0;\\n                            if (!entrance___OBJ__) {\\n                                if (elem.innerHTML != xmlhttp.responseText) {\\n                                    elem.innerHTML = xmlhttp.responseText;\\n                                }\\n                                if (elem.innerHTML.includes(\"Process finished.\")) {\\n                                    halt__OBJ__(elem, \"#333333\");\\n                                } else {\\n                                    entrance___OBJ__ += 1;\\n                                    console.log(\"req\");\\n                                    window.setTimeout(\"refresh__OBJ__()\", 300); \\n                                }\\n                            }\\n                            return xmlhttp.responseText;\\n                        } else {\\n                            errors___OBJ__ += 1;\\n                            if (!entrance___OBJ__) {\\n                                if (errors___OBJ__ < 6) {\\n                                    entrance___OBJ__ += 1;\\n                                    console.log(\"req\");\\n                                    window.setTimeout(\"refresh__OBJ__()\", 300); \\n                                } else {\\n                                    halt__OBJ__(elem, \"#994444\");\\n                                }\\n                            }\\n                        }\\n                    }\\n                }\\n                xmlhttp.open(\"GET\", \"__FILE__\", true);\\n                xmlhttp.setRequestHeader(\"Cache-Control\", \"no-cache\");\\n                xmlhttp.send();     \\n            }\\n        }\\n        \\n        if (!entrance___OBJ__) {\\n            entrance___OBJ__ += 1;\\n            refresh__OBJ__(); \\n        }\\n        </script>\\n\\n        <p id=\"__OBJ__\" style=\"font-size: 14px; background: #000000; padding: 10px; border: 3px; border-radius: 5px; color: white; \">\\n        </p>\\n        \\n        </font>\\n        <!--MD_END_FILTER-->\\n        <!--MD_FROM_FILE __FILE__.md -->\\n        \\'\\'\\'.replace(\"__OBJ__\", obj).replace(\"__FILE__\", file)\\n    if return_html_string:\\n        return html_string\\n    display(HTML(html_string))\\n\\n    \\nclass TInteractiveLauncher:\\n    tmp_path = \"./interactive_launcher_tmp\"\\n    def __init__(self, cmd):\\n        try:\\n            os.mkdir(TInteractiveLauncher.tmp_path)\\n        except:\\n            pass\\n        name = str(random.randint(0, 1e18))\\n        self.inq_path = os.path.join(TInteractiveLauncher.tmp_path, name + \".inq\")\\n        self.log_path = os.path.join(TInteractiveLauncher.tmp_path, name + \".log\")\\n        \\n        os.mkfifo(self.inq_path)\\n        open(self.log_path, \\'w\\').close()\\n        open(self.log_path + \".md\", \\'w\\').close()\\n\\n        self.pid = os.fork()\\n        if self.pid == -1:\\n            print(\"Error\")\\n        if self.pid == 0:\\n            exe_cands = glob.glob(\"../tools/launcher.py\") + glob.glob(\"../../tools/launcher.py\")\\n            assert(len(exe_cands) == 1)\\n            assert(os.execvp(\"python3\", [\"python3\", exe_cands[0], \"-l\", self.log_path, \"-i\", self.inq_path, \"-c\", cmd]) == 0)\\n        self.inq_f = open(self.inq_path, \"w\")\\n        interactive_launcher_opened_set.add(self.pid)\\n        show_log_file(self.log_path)\\n\\n    def write(self, s):\\n        s = s.encode()\\n        assert len(s) == os.write(self.inq_f.fileno(), s)\\n        \\n    def get_pid(self):\\n        n = 100\\n        for i in range(n):\\n            try:\\n                return int(re.findall(r\"PID = (\\\\d+)\", open(self.log_path).readline())[0])\\n            except:\\n                if i + 1 == n:\\n                    raise\\n                time.sleep(0.1)\\n        \\n    def input_queue_path(self):\\n        return self.inq_path\\n        \\n    def close(self):\\n        self.inq_f.close()\\n        os.waitpid(self.pid, 0)\\n        os.remove(self.inq_path)\\n        # os.remove(self.log_path)\\n        self.inq_path = None\\n        self.log_path = None \\n        interactive_launcher_opened_set.remove(self.pid)\\n        self.pid = None\\n        \\n    @staticmethod\\n    def terminate_all():\\n        if \"interactive_launcher_opened_set\" not in globals():\\n            globals()[\"interactive_launcher_opened_set\"] = set()\\n        global interactive_launcher_opened_set\\n        for pid in interactive_launcher_opened_set:\\n            print(\"Terminate pid=\" + str(pid), file=sys.stderr)\\n            os.kill(pid, signal.SIGKILL)\\n            os.waitpid(pid, 0)\\n        interactive_launcher_opened_set = set()\\n        if os.path.exists(TInteractiveLauncher.tmp_path):\\n            shutil.rmtree(TInteractiveLauncher.tmp_path)\\n    \\nTInteractiveLauncher.terminate_all()\\n   \\nyandex_metrica_allowed = bool(globals().get(\"yandex_metrica_allowed\", False))\\nif yandex_metrica_allowed:\\n    display(HTML(\\'\\'\\'<!-- YANDEX_METRICA_BEGIN -->\\n    <script type=\"text/javascript\" >\\n       (function(m,e,t,r,i,k,a){m[i]=m[i]||function(){(m[i].a=m[i].a||[]).push(arguments)};\\n       m[i].l=1*new Date();k=e.createElement(t),a=e.getElementsByTagName(t)[0],k.async=1,k.src=r,a.parentNode.insertBefore(k,a)})\\n       (window, document, \"script\", \"https://mc.yandex.ru/metrika/tag.js\", \"ym\");\\n\\n       ym(59260609, \"init\", {\\n            clickmap:true,\\n            trackLinks:true,\\n            accurateTrackBounce:true\\n       });\\n    </script>\\n    <noscript><div><img src=\"https://mc.yandex.ru/watch/59260609\" style=\"position:absolute; left:-9999px;\" alt=\"\" /></div></noscript>\\n    <!-- YANDEX_METRICA_END -->\\'\\'\\'))\\n\\ndef make_oneliner():\\n    html_text = \\'(\"В этот ноутбук встроен код Яндекс Метрики для сбора статистики использований. Если вы не хотите, чтобы по вам собиралась статистика, исправьте: yandex_metrica_allowed = False\" if yandex_metrica_allowed else \"\")\\'\\n    html_text += \\' + \"<\"\"!-- MAGICS_SETUP_PRINTING_END -->\"\\'\\n    return \\'\\'.join([\\n        \\'# look at tools/set_up_magics.ipynb\\\\n\\',\\n        \\'yandex_metrica_allowed = True ; get_ipython().run_cell(%s);\\' % repr(one_liner_str),\\n        \\'display(HTML(%s))\\' % html_text,\\n        \\' #\\'\\'MAGICS_SETUP_END\\'\\n    ])\\n       \\n\\n');display(HTML((\"В этот ноутбук встроен код Яндекс Метрики для сбора статистики использований. Если вы не хотите, чтобы по вам собиралась статистика, исправьте: yandex_metrica_allowed = False\" if yandex_metrica_allowed else \"\") + \"<\"\"!-- MAGICS_SETUP_PRINTING_END -->\")) #MAGICS_SETUP_END"
   ]
  },
  {
   "cell_type": "markdown",
   "metadata": {},
   "source": [
    "# Адресация памяти в ассемблере\n",
    "\n",
    "[Ридинг от Яковлева](https://github.com/victor-yacovlev/mipt-diht-caos/tree/master/practice/asm/arm_load_store)\n",
    "\n",
    "Добавление от меня:\n",
    "\n",
    "1. `str r0, [r1, #4]! (C-style: *(r1 += 4) = r0)` - то же самое, что и `str r0, [r1, #4] (C-style: *(r1 + 4) = r0)`, но в `r1`, будет сохранено `r1 + #4` после выполнения команды. Другими словами префиксный инкремент на 4.\n",
    "1. `ldr r0, [r1], #4` - то же самое, что и `ldr r0, [r1] (C-style: r0 = *r1)` с последующим `add r1, r1, #4 (C-style: r1 += 4)`. Другими словами постфиксный инкремент."
   ]
  },
  {
   "cell_type": "code",
   "execution_count": 4,
   "metadata": {},
   "outputs": [],
   "source": [
    "# Add path to compilers to PATH\n",
    "import os\n",
    "os.environ[\"PATH\"] = os.environ[\"PATH\"] + \":\" + \\\n",
    "    \"/home/pechatnov/Downloads/gcc-linaro-7.3.1-2018.05-i686_arm-linux-gnueabi/bin/\"\n"
   ]
  },
  {
   "cell_type": "markdown",
   "metadata": {},
   "source": [
    "# Пример работы с массивом из ассемблера"
   ]
  },
  {
   "cell_type": "code",
   "execution_count": 3,
   "metadata": {},
   "outputs": [
    {
     "data": {
      "text/markdown": [
       "Run: `arm-linux-gnueabi-gcc -marm is_sorted.c -o is_sorted.exe`"
      ],
      "text/plain": [
       "<IPython.core.display.Markdown object>"
      ]
     },
     "metadata": {},
     "output_type": "display_data"
    },
    {
     "data": {
      "text/markdown": [
       "Run: `qemu-arm -L ~/Downloads/sysroot-glibc-linaro-2.25-2018.05-arm-linux-gnueabi ./is_sorted.exe`"
      ],
      "text/plain": [
       "<IPython.core.display.Markdown object>"
      ]
     },
     "metadata": {},
     "output_type": "display_data"
    },
    {
     "name": "stdout",
     "output_type": "stream",
     "text": [
      "is_sorted({}) = 1 ?= 1\r\n",
      "is_sorted({10}) = 1 ?= 1\r\n",
      "is_sorted({10, 20}) = 1 ?= 1\r\n",
      "is_sorted({10, 20, 30}) = 1 ?= 1\r\n",
      "is_sorted({30, 30, 30}) = 1 ?= 1\r\n",
      "is_sorted({20, 10}) = 0 ?= 0\r\n",
      "is_sorted({10, 30, 20}) = 0 ?= 0\r\n"
     ]
    }
   ],
   "source": [
    "%%cpp is_sorted.c\n",
    "%run arm-linux-gnueabi-gcc -marm is_sorted.c -o is_sorted.exe\n",
    "%run qemu-arm -L ~/Downloads/sysroot-glibc-linaro-2.25-2018.05-arm-linux-gnueabi ./is_sorted.exe\n",
    "\n",
    "#include <stdio.h>\n",
    "#include <assert.h>\n",
    "\n",
    "int is_sorted(int n, unsigned int* x);\n",
    "__asm__ (R\"(\n",
    ".global is_sorted\n",
    "is_sorted:\n",
    "    // r0 - n, r1 - x\n",
    "    cmp r0, #1\n",
    "    bls is_sorted_true\n",
    "    sub r0, r0, #1\n",
    "    add r1, r1, #4\n",
    "    ldr r2, [r1, #-4]\n",
    "    ldr r3, [r1]\n",
    "    cmp r2, r3\n",
    "    bhi is_sorted_false\n",
    "    b is_sorted\n",
    "is_sorted_false:\n",
    "    mov r0, #0\n",
    "    bx lr\n",
    "is_sorted_true:\n",
    "    mov r0, #1\n",
    "    bx  lr\n",
    ")\");\n",
    "\n",
    "#define check(result, ...) {\\\n",
    "    unsigned int a[] = {__VA_ARGS__}; \\\n",
    "    int r = is_sorted(sizeof(a) / sizeof(int), a); \\\n",
    "    printf(\"is_sorted({\" #__VA_ARGS__ \"}) = %d ?= %d\\n\", r, result);\\\n",
    "    assert(r == result); \\\n",
    "}\n",
    "\n",
    "#define check_sorted(...) check(1, __VA_ARGS__)\n",
    "#define check_not_sorted(...) check(0, __VA_ARGS__)\n",
    "\n",
    "\n",
    "int test() {\n",
    "    check_sorted();\n",
    "    check_sorted(10);\n",
    "    check_sorted(10, 20);\n",
    "    check_sorted(10, 20, 30);\n",
    "    check_sorted(30, 30, 30);\n",
    "    check_not_sorted(20, 10);\n",
    "    check_not_sorted(10, 30, 20);\n",
    "}\n",
    "\n",
    "int main() {\n",
    "    test();\n",
    "    return 0;\n",
    "}"
   ]
  },
  {
   "cell_type": "markdown",
   "metadata": {},
   "source": [
    "# Пример приема более, чем 4 аргументов в функции\n",
    "\n",
    "ip = r12. Почему он тут портится? У меня нет ответа `¯\\_(ツ)_/¯ `"
   ]
  },
  {
   "cell_type": "code",
   "execution_count": 4,
   "metadata": {},
   "outputs": [
    {
     "data": {
      "text/markdown": [
       "Run: `arm-linux-gnueabi-gcc -marm more_than_4.c -O2 -S -o more_than_4.s`"
      ],
      "text/plain": [
       "<IPython.core.display.Markdown object>"
      ]
     },
     "metadata": {},
     "output_type": "display_data"
    },
    {
     "data": {
      "text/markdown": [
       "Run: `cat more_than_4.s | grep -v \"^\\\\s*\\\\.\" | grep -v \"^\\\\s*@\"`"
      ],
      "text/plain": [
       "<IPython.core.display.Markdown object>"
      ]
     },
     "metadata": {},
     "output_type": "display_data"
    },
    {
     "name": "stdout",
     "output_type": "stream",
     "text": [
      "mega_sum:\r\n",
      "\tadd\tr1, r0, r1\r\n",
      "\tldr\tip, [sp]\r\n",
      "\tadd\tr1, r1, r2\r\n",
      "\tldr\tr0, [sp, #4]\r\n",
      "\tadd\tr1, r1, r3\r\n",
      "\tadd\tr1, r1, ip\r\n",
      "\tadd\tr0, r1, r0\r\n",
      "\tbx\tlr\r\n"
     ]
    }
   ],
   "source": [
    "%%cpp more_than_4.c\n",
    "%run arm-linux-gnueabi-gcc -marm more_than_4.c -O2 -S -o more_than_4.s\n",
    "%run cat more_than_4.s | grep -v \"^\\\\s*\\\\.\" | grep -v \"^\\\\s*@\"\n",
    "\n",
    "int mega_sum(int a1, int a2, int a3, int a4, int a5, int a6) {\n",
    "    return a1 + a2 + a3 + a4 + a5 + a6;\n",
    "}"
   ]
  },
  {
   "cell_type": "markdown",
   "metadata": {},
   "source": [
    "# Пример чтения структуры из ассемблера"
   ]
  },
  {
   "cell_type": "code",
   "execution_count": 5,
   "metadata": {
    "scrolled": false
   },
   "outputs": [
    {
     "data": {
      "text/markdown": [
       "Run: `arm-linux-gnueabi-gcc -marm cut_struct.c -o cut_struct.exe`"
      ],
      "text/plain": [
       "<IPython.core.display.Markdown object>"
      ]
     },
     "metadata": {},
     "output_type": "display_data"
    },
    {
     "data": {
      "text/markdown": [
       "Run: `qemu-arm -L ~/Downloads/sysroot-glibc-linaro-2.25-2018.05-arm-linux-gnueabi ./cut_struct.exe`"
      ],
      "text/plain": [
       "<IPython.core.display.Markdown object>"
      ]
     },
     "metadata": {},
     "output_type": "display_data"
    },
    {
     "name": "stdout",
     "output_type": "stream",
     "text": [
      "Got c=123, i=100500, s=15000, c2=67"
     ]
    }
   ],
   "source": [
    "%%cpp cut_struct.c\n",
    "%run arm-linux-gnueabi-gcc -marm cut_struct.c -o cut_struct.exe\n",
    "%run qemu-arm -L ~/Downloads/sysroot-glibc-linaro-2.25-2018.05-arm-linux-gnueabi ./cut_struct.exe\n",
    "\n",
    "#include <stdio.h>\n",
    "#include <assert.h>\n",
    "\n",
    "struct Obj {\n",
    "    char c;\n",
    "    int i;\n",
    "    short s;\n",
    "    char c2;\n",
    "} __attribute__((packed));\n",
    "\n",
    "int cut_struct(struct Obj* obj, char* c, int* i, short* s, char* c2);\n",
    "__asm__ (R\"(\n",
    ".global cut_struct\n",
    "cut_struct:\n",
    "    push {r4, r5} // notice that we decrease sp by pushing\n",
    "    ldr r4, [sp, #8] // get last arg from stack (in fact we use initial value of sp)\n",
    "    // r0 - obj, r1 - c, r2 - i, r3 - s, r4 - c2\n",
    "    ldrb r5, [r0, #0]\n",
    "    strb r5, [r1]\n",
    "    ldr r5, [r0, #1]\n",
    "    str r5, [r2]\n",
    "    ldrh r5, [r0, #5]\n",
    "    strh r5, [r3]\n",
    "    ldrb r5, [r0, #7]\n",
    "    strb r5, [r4]\n",
    "    pop {r4, r5}\n",
    "    bx  lr\n",
    ")\");\n",
    "\n",
    "int test() {\n",
    "    // designated initializers: https://en.cppreference.com/w/c/language/struct_initialization\n",
    "    struct Obj obj = {.c = 123, .i = 100500, .s = 15000, .c2 = 67};\n",
    "    char c = 0; int i = 0; short s = 0; char c2 = 0; // bad codestyle\n",
    "    cut_struct(&obj, &c, &i, &s, &c2);\n",
    "    fprintf(stderr, \"Got c=%d, i=%d, s=%d, c2=%d\", (int)c, (int)i, (int)s, (int)c2);\n",
    "    assert(c == obj.c && i == obj.i && s == obj.s && c2 == obj.c2);\n",
    "}\n",
    "\n",
    "int main() {\n",
    "    test();\n",
    "    return 0;\n",
    "}"
   ]
  },
  {
   "cell_type": "markdown",
   "metadata": {},
   "source": [
    "# Дизассемблируем и смотрим на то, как код и данные размещаются в памяти"
   ]
  },
  {
   "cell_type": "code",
   "execution_count": 6,
   "metadata": {},
   "outputs": [
    {
     "data": {
      "text/markdown": [
       "Run: `arm-linux-gnueabi-gcc -marm layout_example.c -c -o layout_example.o`"
      ],
      "text/plain": [
       "<IPython.core.display.Markdown object>"
      ]
     },
     "metadata": {},
     "output_type": "display_data"
    }
   ],
   "source": [
    "%%cpp layout_example.c\n",
    "%run arm-linux-gnueabi-gcc -marm layout_example.c -c -o layout_example.o\n",
    "\n",
    "__asm__ (R\"(\n",
    ".global cut_struct\n",
    "cut_struct:\n",
    "    push {r4, r5} // notice that we decrease sp by pushing\n",
    "    ldr r4, [sp, #8] // get last arg from stack (in fact we use initial value of sp)\n",
    "    // r0 - obj, r1 - c, r2 - i, r3 - s, r4 - c2\n",
    "    ldrb r5, [r0, #0]\n",
    "    strb r5, [r1]\n",
    "    ldr r5, [r0, #1]\n",
    "    str r5, [r2]\n",
    "    ldrh r5, [r0, #5]\n",
    "    strh r5, [r3]\n",
    "    ldrb r5, [r0, #7]\n",
    "    strb r5, [r4]\n",
    "    pop {r4, r5}\n",
    "    push {r1-r12} // still one instruction\n",
    "    pop {r1-r12}\n",
    "    bx  lr\n",
    "  \n",
    "s1_ptr:\n",
    "    .word s1\n",
    "s2_ptr:\n",
    "    .word s2\n",
    "s1:\n",
    "    .ascii \"%d\\n\\0\" // 4 bytes\n",
    "s2:\n",
    "    .ascii \"%d%d\\0\" // 5 bytes\n",
    "d1:\n",
    "    .word 1234 // no padding\n",
    ")\");"
   ]
  },
  {
   "cell_type": "code",
   "execution_count": 7,
   "metadata": {},
   "outputs": [
    {
     "name": "stdout",
     "output_type": "stream",
     "text": [
      "00000000 <cut_struct>:\r\n",
      "   0:\te92d0030 \tpush\t{r4, r5}\r\n",
      "   4:\te59d4008 \tldr\tr4, [sp, #8]\r\n",
      "   8:\te5d05000 \tldrb\tr5, [r0]\r\n",
      "   c:\te5c15000 \tstrb\tr5, [r1]\r\n",
      "  10:\te5905001 \tldr\tr5, [r0, #1]\r\n",
      "  14:\te5825000 \tstr\tr5, [r2]\r\n",
      "  18:\te1d050b5 \tldrh\tr5, [r0, #5]\r\n",
      "  1c:\te1c350b0 \tstrh\tr5, [r3]\r\n",
      "  20:\te5d05007 \tldrb\tr5, [r0, #7]\r\n",
      "  24:\te5c45000 \tstrb\tr5, [r4]\r\n",
      "  28:\te8bd0030 \tpop\t{r4, r5}\r\n",
      "  2c:\te92d1ffe \tpush\t{r1, r2, r3, r4, r5, r6, r7, r8, r9, sl, fp, ip}\r\n",
      "  30:\te8bd1ffe \tpop\t{r1, r2, r3, r4, r5, r6, r7, r8, r9, sl, fp, ip}\r\n",
      "  34:\te12fff1e \tbx\tlr\r\n",
      "\r\n",
      "00000038 <s1_ptr>:\r\n",
      "  38:\t00000040 \tandeq\tr0, r0, r0, asr #32\r\n",
      "\r\n",
      "0000003c <s2_ptr>:\r\n",
      "  3c:\t00000044 \tandeq\tr0, r0, r4, asr #32\r\n",
      "\r\n",
      "00000040 <s1>:\r\n",
      "  40:\t000a6425 \tandeq\tr6, sl, r5, lsr #8\r\n",
      "\r\n",
      "00000044 <s2>:\r\n",
      "  44:\t64256425 \tstrtvs\tr6, [r5], #-1061\t; 0xfffffbdb\r\n",
      "\t...\r\n",
      "\r\n",
      "00000049 <d1>:\r\n",
      "  49:\t000004d2 \tldrdeq\tr0, [r0], -r2\r\n",
      "  4d:\tAddress 0x000000000000004d is out of bounds.\r\n",
      "\r\n",
      "\r\n",
      "Disassembly of section .comment:\r\n",
      "\r\n"
     ]
    }
   ],
   "source": [
    "!arm-linux-gnueabi-objdump -D layout_example.o 2>&1 | grep cut_struct\\> -A 35\n"
   ]
  },
  {
   "cell_type": "code",
   "execution_count": null,
   "metadata": {},
   "outputs": [],
   "source": []
  },
  {
   "cell_type": "markdown",
   "metadata": {},
   "source": [
    "Можно сравнить с дизассемблером"
   ]
  },
  {
   "cell_type": "code",
   "execution_count": 8,
   "metadata": {},
   "outputs": [
    {
     "data": {
      "text/markdown": [
       "Run: `arm-linux-gnueabi-gcc -marm cut_struct_disasm.c -O2 -S -o cut_struct_disasm.s`"
      ],
      "text/plain": [
       "<IPython.core.display.Markdown object>"
      ]
     },
     "metadata": {},
     "output_type": "display_data"
    },
    {
     "data": {
      "text/markdown": [
       "Run: `cat cut_struct_disasm.s | grep -v \"^\\\\s*\\\\.\" | grep -v \"^\\\\s*@\"`"
      ],
      "text/plain": [
       "<IPython.core.display.Markdown object>"
      ]
     },
     "metadata": {},
     "output_type": "display_data"
    },
    {
     "name": "stdout",
     "output_type": "stream",
     "text": [
      "cut_struct:\r\n",
      "\tmov\tip, r0\r\n",
      "\tpush\t{r4, lr}\r\n",
      "\tldrb\tr4, [ip]\t@ zero_extendqisi2\r\n",
      "\tmov\tr0, lr\r\n",
      "\tldr\tlr, [sp, #8]\r\n",
      "\tstrb\tr4, [r1]\r\n",
      "\tldr\tr1, [ip, #1]\t@ unaligned\r\n",
      "\tstr\tr1, [r2]\r\n",
      "\tldrsh\tr2, [ip, #5]\t@ unaligned\r\n",
      "\tstrh\tr2, [r3]\t@ movhi\r\n",
      "\tldrb\tr3, [ip, #7]\t@ zero_extendqisi2\r\n",
      "\tstrb\tr3, [lr]\r\n",
      "\tpop\t{r4, pc}\r\n"
     ]
    }
   ],
   "source": [
    "%%cpp cut_struct_disasm.c\n",
    "%run arm-linux-gnueabi-gcc -marm cut_struct_disasm.c -O2 -S -o cut_struct_disasm.s\n",
    "%run cat cut_struct_disasm.s | grep -v \"^\\\\s*\\\\.\" | grep -v \"^\\\\s*@\"\n",
    "\n",
    "struct Obj {\n",
    "    char c;\n",
    "    int i;\n",
    "    short s;\n",
    "    char c2;\n",
    "} __attribute__((packed));\n",
    "\n",
    "int cut_struct(struct Obj* obj, char* c, int* i, short* s, char* c2) {\n",
    "    *c = obj->c;\n",
    "    *i = obj->i;\n",
    "    *s = obj->s;\n",
    "    *c2 = obj->c2;\n",
    "}"
   ]
  },
  {
   "cell_type": "markdown",
   "metadata": {},
   "source": [
    "# Размещение структур в памяти\n",
    "\n",
    "Не все всегда расположено очевидным образом: для более эффективного выполнения программы бывает выгодно выровненное расположение объектов в памяти, например считывать ui64 из памяти выгоднее, если адрес делится на 8.\n",
    "\n",
    "Примерные правила:\n",
    "* выравнивание (то, на что адрес должен делиться) равно размеру для простых арифметических типов (указатели тоже здесь)\n",
    "* в union берется максимум для выравнивания (и максимум из размеров округенный вверх, чтобы делиться на выравнивание)\n",
    "* в struct члены располагаются в том порядке, в котором указаны. Выравнивание структуры - максимум выравниваний. Каждый член располагается так, чтобы удовлетворять собственному выравниванию. Итоговый размер структуры делится на выравнивание структуры. С учетом этого размер струкуры минимизируется.\n",
    "\n",
    "Для экспериментов можно использовать `sizeof()` и `_Alignof()`, чтобы получить размер и выравнивание."
   ]
  },
  {
   "cell_type": "code",
   "execution_count": 6,
   "metadata": {
    "scrolled": true
   },
   "outputs": [
    {
     "data": {
      "text/markdown": [
       "Run: `arm-linux-gnueabi-gcc -marm structs_in_memory.c -o structs_in_memory.exe`"
      ],
      "text/plain": [
       "<IPython.core.display.Markdown object>"
      ]
     },
     "metadata": {},
     "output_type": "display_data"
    },
    {
     "data": {
      "text/markdown": [
       "Run: `qemu-arm -L ~/Downloads/sysroot-glibc-linaro-2.25-2018.05-arm-linux-gnueabi ./structs_in_memory.exe`"
      ],
      "text/plain": [
       "<IPython.core.display.Markdown object>"
      ]
     },
     "metadata": {},
     "output_type": "display_data"
    },
    {
     "name": "stdout",
     "output_type": "stream",
     "text": [
      "sizeof(char) = 1\r\n",
      "_Alignof(char) = 1\r\n",
      "_Alignof(_Atomic short) = 2\r\n",
      "sizeof(short) = 2\r\n",
      "_Alignof(short) = 2\r\n",
      "sizeof(int) = 4\r\n",
      "_Alignof(int) = 4\r\n",
      "sizeof(long long) = 8\r\n",
      "_Alignof(long long) = 8\r\n",
      "sizeof(double) = 8\r\n",
      "_Alignof(double) = 8\r\n",
      "sizeof(Obj1_t) = 12\r\n",
      "_Alignof(Obj1_t) = 4\r\n",
      "Shift of .c in Obj1_t: 0\r\n",
      "Shift of .i in Obj1_t: 4\r\n",
      "Shift of .c2 in Obj1_t: 8\r\n",
      "sizeof(Obj2_t) = 6\r\n",
      "_Alignof(Obj2_t) = 1\r\n",
      "Shift of .c in Obj2_t: 0\r\n",
      "Shift of .i in Obj2_t: 1\r\n",
      "Shift of .c2 in Obj2_t: 5\r\n",
      "sizeof(Obj3_t) = 16\r\n",
      "_Alignof(Obj3_t) = 8\r\n",
      "Shift of .u64 in Obj3_t: 8\r\n",
      "Shift of .c8 in Obj3_t: 0\r\n",
      "sizeof(Obj4_t) = 3\r\n",
      "_Alignof(Obj4_t) = 1\r\n",
      "sizeof(ObjS8A8) = 8\r\n",
      "_Alignof(ObjS8A8) = 8\r\n",
      "sizeof(ObjS8A4) = 8\r\n",
      "_Alignof(ObjS8A4) = 4\r\n",
      "sizeof(Obj5_t) = 16\r\n",
      "_Alignof(Obj5_t) = 8\r\n",
      "sizeof(Obj6_t) = 12\r\n",
      "_Alignof(Obj6_t) = 4\r\n",
      "sizeof(Obj7_t) = 16\r\n",
      "_Alignof(Obj7_t) = 8\r\n"
     ]
    }
   ],
   "source": [
    "%%cpp structs_in_memory.c\n",
    "%run arm-linux-gnueabi-gcc -marm structs_in_memory.c -o structs_in_memory.exe\n",
    "%run qemu-arm -L ~/Downloads/sysroot-glibc-linaro-2.25-2018.05-arm-linux-gnueabi ./structs_in_memory.exe\n",
    "\n",
    "#include <stdio.h>\n",
    "#include <stdint.h>\n",
    "#include <assert.h>\n",
    "\n",
    "#define print_int(x) printf(#x \" = %d\\n\", (int)x)\n",
    "\n",
    "#define print_offset(type, field) {\\\n",
    "    type o; \\\n",
    "    printf(\"Shift of .\" #field \" in \" #type \": %d\\n\", (int)((void*)&o.field - (void*)&o)); \\\n",
    "}\n",
    "\n",
    "int main() {\n",
    "    print_int(sizeof(char));\n",
    "    print_int(_Alignof(char));\n",
    "    print_int(sizeof(short));\n",
    "    print_int(_Alignof(short));\n",
    "    print_int(sizeof(int));\n",
    "    print_int(_Alignof(int));\n",
    "    print_int(sizeof(long long));\n",
    "    print_int(_Alignof(long long));\n",
    "    print_int(sizeof(double));\n",
    "    print_int(_Alignof(double));\n",
    "\n",
    "    typedef struct { // максимальное выравнивание у инта, значит выравнивание структуры 4\n",
    "        char c;      // 0 байт\n",
    "        int i;       // 4-7 байты\n",
    "        char c2;     // 8 байт\n",
    "    } Obj1_t;        // 9-11 - padding байты, чтобы размер делился на выравнивание\n",
    "    print_int(sizeof(Obj1_t));\n",
    "    print_int(_Alignof(Obj1_t));\n",
    "    print_offset(Obj1_t, c);\n",
    "    print_offset(Obj1_t, i);\n",
    "    print_offset(Obj1_t, c2);\n",
    "    \n",
    "    typedef struct { // тут все правила про выравнивание не применимы, так как указан аттрибут упаковки\n",
    "        char c;\n",
    "        int i;\n",
    "        char c2;\n",
    "    } __attribute__((packed)) Obj2_t;\n",
    "    print_int(sizeof(Obj2_t));\n",
    "    print_int(_Alignof(Obj2_t));\n",
    "    print_offset(Obj2_t, c);\n",
    "    print_offset(Obj2_t, i);\n",
    "    print_offset(Obj2_t, c2);\n",
    "    \n",
    "    typedef struct {  // максимальное выравнивание члена - 8, так что и у всей структуры такое же\n",
    "        char c8;      // 0 байт \n",
    "        uint64_t u64; // 8-15 байты\n",
    "    } Obj3_t;         // всего 16 байт, выравнивание 8\n",
    "    print_int(sizeof(Obj3_t));\n",
    "    print_int(_Alignof(Obj3_t));\n",
    "    print_offset(Obj3_t, u64);\n",
    "    print_offset(Obj3_t, c8);\n",
    "    \n",
    "    typedef struct {\n",
    "        char c8;\n",
    "        char c8_1;\n",
    "        char c8_2;\n",
    "    } Obj4_t;\n",
    "    print_int(sizeof(Obj4_t));\n",
    "    print_int(_Alignof(Obj4_t));\n",
    "    \n",
    "    typedef struct {     // тут пример двух структур равного размера, но с разным выравниванием\n",
    "        long long a;\n",
    "    } ObjS8A8;\n",
    "    print_int(sizeof(ObjS8A8));\n",
    "    print_int(_Alignof(ObjS8A8));\n",
    "    typedef struct {\n",
    "        int a;\n",
    "        int b;\n",
    "    } ObjS8A4;\n",
    "    print_int(sizeof(ObjS8A4));\n",
    "    print_int(_Alignof(ObjS8A4));\n",
    "    \n",
    "    typedef struct {    // и вот тут разное выравнивание ObjS8A8 и ObjS8A4 себя покажет\n",
    "        ObjS8A8 o;\n",
    "        char c;\n",
    "    } Obj5_t;\n",
    "    print_int(sizeof(Obj5_t)); // обратите внимание на разницу с Obj6_t!\n",
    "    print_int(_Alignof(Obj5_t));\n",
    "    \n",
    "    typedef struct {\n",
    "        ObjS8A4 o;\n",
    "        char c;\n",
    "    } Obj6_t;\n",
    "    print_int(sizeof(Obj6_t));\n",
    "    print_int(_Alignof(Obj6_t));\n",
    "    \n",
    "    typedef union {\n",
    "        unsigned long long u;\n",
    "        int i[3];\n",
    "    } Obj7_t;\n",
    "    print_int(sizeof(Obj7_t));\n",
    "    print_int(_Alignof(Obj7_t));\n",
    "    \n",
    "    return 0;\n",
    "}"
   ]
  },
  {
   "cell_type": "markdown",
   "metadata": {},
   "source": [
    "Попробовать _Atomic + `__packed__`"
   ]
  },
  {
   "cell_type": "markdown",
   "metadata": {},
   "source": [
    "# Вызов функций"
   ]
  },
  {
   "cell_type": "code",
   "execution_count": 10,
   "metadata": {
    "scrolled": true
   },
   "outputs": [
    {
     "data": {
      "text/markdown": [
       "Run: `arm-linux-gnueabi-gcc -marm call.c -O2 -S -o call.s`"
      ],
      "text/plain": [
       "<IPython.core.display.Markdown object>"
      ]
     },
     "metadata": {},
     "output_type": "display_data"
    },
    {
     "data": {
      "text/markdown": [
       "Run: `cat call.s | grep -v \"^\\\\s*\\\\.\" | grep -v \"^\\\\s*@\"`"
      ],
      "text/plain": [
       "<IPython.core.display.Markdown object>"
      ]
     },
     "metadata": {},
     "output_type": "display_data"
    },
    {
     "name": "stdout",
     "output_type": "stream",
     "text": [
      "print_a:\r\n",
      "\tmovw\tr3, #:lower16:stdout\r\n",
      "\tpush\t{r4, lr}\r\n",
      "\tmovt\tr3, #:upper16:stdout\r\n",
      "\tldr\tr1, [r3]\r\n",
      "\tbl\tfputc\r\n",
      "\tmov\tr0, #1\r\n",
      "\tpop\t{r4, pc}\r\n"
     ]
    }
   ],
   "source": [
    "%%cpp call.c\n",
    "%run arm-linux-gnueabi-gcc -marm call.c -O2 -S -o call.s\n",
    "%run cat call.s | grep -v \"^\\\\s*\\\\.\" | grep -v \"^\\\\s*@\"\n",
    "\n",
    "#include <stdio.h>\n",
    "\n",
    "int print_a(char a) {\n",
    "    fputc(a, stdout);\n",
    "    return 1;\n",
    "}"
   ]
  },
  {
   "cell_type": "markdown",
   "metadata": {},
   "source": [
    "https://stackoverflow.com/questions/17214962/what-is-the-difference-between-label-equals-sign-and-label-brackets-in-ar\n",
    "\n",
    "https://stackoverflow.com/questions/14046686/why-use-ldr-over-mov-or-vice-versa-in-arm-assembly"
   ]
  },
  {
   "cell_type": "code",
   "execution_count": 11,
   "metadata": {
    "scrolled": true
   },
   "outputs": [
    {
     "data": {
      "text/markdown": [
       "Run: `arm-linux-gnueabi-gcc -marm test_call.c -O2 -o test_call.exe`"
      ],
      "text/plain": [
       "<IPython.core.display.Markdown object>"
      ]
     },
     "metadata": {},
     "output_type": "display_data"
    },
    {
     "data": {
      "text/markdown": [
       "Run: `qemu-arm -L ~/Downloads/sysroot-glibc-linaro-2.25-2018.05-arm-linux-gnueabi ./test_call.exe`"
      ],
      "text/plain": [
       "<IPython.core.display.Markdown object>"
      ]
     },
     "metadata": {},
     "output_type": "display_data"
    },
    {
     "name": "stdout",
     "output_type": "stream",
     "text": [
      "?"
     ]
    }
   ],
   "source": [
    "%%cpp test_call.c\n",
    "%run arm-linux-gnueabi-gcc -marm test_call.c -O2 -o test_call.exe\n",
    "%run qemu-arm -L ~/Downloads/sysroot-glibc-linaro-2.25-2018.05-arm-linux-gnueabi ./test_call.exe\n",
    "\n",
    "#include <stdio.h>\n",
    "\n",
    "int print_a(char a);\n",
    "__asm__(R\"(\n",
    "print_a:\n",
    "    push {lr}\n",
    "    ldr r3, =stdout\n",
    "    ldr r1, [r3]\n",
    "    bl fputc\n",
    "    mov r0, #1\n",
    "    pop {pc}\n",
    ")\");\n",
    "\n",
    "int main() {\n",
    "    print_a('?');\n",
    "}"
   ]
  },
  {
   "cell_type": "markdown",
   "metadata": {},
   "source": [
    "### Форматированный вывод"
   ]
  },
  {
   "cell_type": "code",
   "execution_count": 12,
   "metadata": {
    "scrolled": true
   },
   "outputs": [
    {
     "data": {
      "text/markdown": [
       "Run: `arm-linux-gnueabi-gcc -marm call.c -O2 -S -o call.s`"
      ],
      "text/plain": [
       "<IPython.core.display.Markdown object>"
      ]
     },
     "metadata": {},
     "output_type": "display_data"
    },
    {
     "data": {
      "text/markdown": [
       "Run: `cat call.s`"
      ],
      "text/plain": [
       "<IPython.core.display.Markdown object>"
      ]
     },
     "metadata": {},
     "output_type": "display_data"
    },
    {
     "name": "stdout",
     "output_type": "stream",
     "text": [
      "\t.arch armv7-a\r\n",
      "\t.eabi_attribute 20, 1\r\n",
      "\t.eabi_attribute 21, 1\r\n",
      "\t.eabi_attribute 23, 3\r\n",
      "\t.eabi_attribute 24, 1\r\n",
      "\t.eabi_attribute 25, 1\r\n",
      "\t.eabi_attribute 26, 2\r\n",
      "\t.eabi_attribute 30, 2\r\n",
      "\t.eabi_attribute 34, 1\r\n",
      "\t.eabi_attribute 18, 4\r\n",
      "\t.file\t\"call.c\"\r\n",
      "\t.text\r\n",
      "\t.align\t2\r\n",
      "\t.global\tprint_a\r\n",
      "\t.syntax unified\r\n",
      "\t.arm\r\n",
      "\t.fpu softvfp\r\n",
      "\t.type\tprint_a, %function\r\n",
      "print_a:\r\n",
      "\t@ args = 0, pretend = 0, frame = 0\r\n",
      "\t@ frame_needed = 0, uses_anonymous_args = 0\r\n",
      "\tmovw\tr3, #:lower16:stdout\r\n",
      "\tmovw\tr1, #:lower16:.LC0\r\n",
      "\tmovt\tr3, #:upper16:stdout\r\n",
      "\tmov\tr2, r0\r\n",
      "\tpush\t{r4, lr}\r\n",
      "\tmovt\tr1, #:upper16:.LC0\r\n",
      "\tldr\tr0, [r3]\r\n",
      "\tbl\tfprintf\r\n",
      "\tmov\tr0, #42\r\n",
      "\tpop\t{r4, pc}\r\n",
      "\t.size\tprint_a, .-print_a\r\n",
      "\t.section\t.rodata.str1.4,\"aMS\",%progbits,1\r\n",
      "\t.align\t2\r\n",
      ".LC0:\r\n",
      "\t.ascii\t\"%d\\012\\000\"\r\n",
      "\t.ident\t\"GCC: (Linaro GCC 7.3-2018.05) 7.3.1 20180425 [linaro-7.3-2018.05 revision d29120a424ecfbc167ef90065c0eeb7f91977701]\"\r\n",
      "\t.section\t.note.GNU-stack,\"\",%progbits\r\n"
     ]
    }
   ],
   "source": [
    "%%cpp call.c\n",
    "%run arm-linux-gnueabi-gcc -marm call.c -O2 -S -o call.s\n",
    "%run cat call.s\n",
    "\n",
    "#include <stdio.h>\n",
    "\n",
    "int print_a(int a) {\n",
    "    fprintf(stdout, \"%d\\n\", a);\n",
    "    return 42;\n",
    "}"
   ]
  },
  {
   "cell_type": "code",
   "execution_count": 13,
   "metadata": {},
   "outputs": [
    {
     "data": {
      "text/markdown": [
       "Run: `arm-linux-gnueabi-gcc -marm test_call.c -O2 -o test_call.exe`"
      ],
      "text/plain": [
       "<IPython.core.display.Markdown object>"
      ]
     },
     "metadata": {},
     "output_type": "display_data"
    },
    {
     "data": {
      "text/markdown": [
       "Run: `qemu-arm -L ~/Downloads/sysroot-glibc-linaro-2.25-2018.05-arm-linux-gnueabi ./test_call.exe`"
      ],
      "text/plain": [
       "<IPython.core.display.Markdown object>"
      ]
     },
     "metadata": {},
     "output_type": "display_data"
    },
    {
     "name": "stdout",
     "output_type": "stream",
     "text": [
      "100500\r\n"
     ]
    }
   ],
   "source": [
    "%%cpp test_call.c\n",
    "%run arm-linux-gnueabi-gcc -marm test_call.c -O2 -o test_call.exe\n",
    "%run qemu-arm -L ~/Downloads/sysroot-glibc-linaro-2.25-2018.05-arm-linux-gnueabi ./test_call.exe\n",
    "\n",
    "#include <stdio.h>\n",
    "\n",
    "int print_a(int a);\n",
    "__asm__(R\"(\n",
    "    .text\n",
    "    .global print_a\n",
    "print_a:\n",
    "    mov r2, r0\n",
    "        \n",
    "    ldr r0, =stdout\n",
    "    ldr r0, [r0]\n",
    "    ldr r1, =.format_string\n",
    "    \n",
    "    push {lr}\n",
    "    bl fprintf\n",
    "    mov r0, #42\n",
    "    pop {pc}\n",
    ".format_string:\n",
    "    .ascii \"%d\\n\"\n",
    "    .ascii \"\\0\"\n",
    ")\");\n",
    "\n",
    "int main() {\n",
    "    print_a(100500);\n",
    "}"
   ]
  },
  {
   "cell_type": "code",
   "execution_count": null,
   "metadata": {},
   "outputs": [],
   "source": []
  },
  {
   "cell_type": "markdown",
   "metadata": {},
   "source": [
    "### Форматированное чтение"
   ]
  },
  {
   "cell_type": "code",
   "execution_count": 14,
   "metadata": {
    "scrolled": true
   },
   "outputs": [
    {
     "data": {
      "text/markdown": [
       "Run: `arm-linux-gnueabi-gcc -marm call.c -O2 -S -o call.s`"
      ],
      "text/plain": [
       "<IPython.core.display.Markdown object>"
      ]
     },
     "metadata": {},
     "output_type": "display_data"
    },
    {
     "data": {
      "text/markdown": [
       "Run: `cat call.s`"
      ],
      "text/plain": [
       "<IPython.core.display.Markdown object>"
      ]
     },
     "metadata": {},
     "output_type": "display_data"
    },
    {
     "name": "stdout",
     "output_type": "stream",
     "text": [
      "\t.arch armv7-a\r\n",
      "\t.eabi_attribute 20, 1\r\n",
      "\t.eabi_attribute 21, 1\r\n",
      "\t.eabi_attribute 23, 3\r\n",
      "\t.eabi_attribute 24, 1\r\n",
      "\t.eabi_attribute 25, 1\r\n",
      "\t.eabi_attribute 26, 2\r\n",
      "\t.eabi_attribute 30, 2\r\n",
      "\t.eabi_attribute 34, 1\r\n",
      "\t.eabi_attribute 18, 4\r\n",
      "\t.file\t\"call.c\"\r\n",
      "\t.text\r\n",
      "\t.align\t2\r\n",
      "\t.global\tscan_a\r\n",
      "\t.syntax unified\r\n",
      "\t.arm\r\n",
      "\t.fpu softvfp\r\n",
      "\t.type\tscan_a, %function\r\n",
      "scan_a:\r\n",
      "\t@ args = 0, pretend = 0, frame = 0\r\n",
      "\t@ frame_needed = 0, uses_anonymous_args = 0\r\n",
      "\tmovw\tr3, #:lower16:stdin\r\n",
      "\tmovw\tr1, #:lower16:.LC0\r\n",
      "\tmovt\tr3, #:upper16:stdin\r\n",
      "\tmov\tr2, r0\r\n",
      "\tpush\t{r4, lr}\r\n",
      "\tmovt\tr1, #:upper16:.LC0\r\n",
      "\tldr\tr0, [r3]\r\n",
      "\tbl\t__isoc99_fscanf\r\n",
      "\tmov\tr0, #42\r\n",
      "\tpop\t{r4, pc}\r\n",
      "\t.size\tscan_a, .-scan_a\r\n",
      "\t.section\t.rodata.str1.4,\"aMS\",%progbits,1\r\n",
      "\t.align\t2\r\n",
      ".LC0:\r\n",
      "\t.ascii\t\"%d\\000\"\r\n",
      "\t.ident\t\"GCC: (Linaro GCC 7.3-2018.05) 7.3.1 20180425 [linaro-7.3-2018.05 revision d29120a424ecfbc167ef90065c0eeb7f91977701]\"\r\n",
      "\t.section\t.note.GNU-stack,\"\",%progbits\r\n"
     ]
    }
   ],
   "source": [
    "%%cpp call.c\n",
    "%run arm-linux-gnueabi-gcc -marm call.c -O2 -S -o call.s\n",
    "%run cat call.s\n",
    "\n",
    "#include <stdio.h>\n",
    "\n",
    "int scan_a(int* a) {\n",
    "    fscanf(stdin, \"%d\", a);\n",
    "    return 42;\n",
    "}"
   ]
  },
  {
   "cell_type": "code",
   "execution_count": 15,
   "metadata": {},
   "outputs": [
    {
     "data": {
      "text/markdown": [
       "Run: `arm-linux-gnueabi-gcc -marm test_call.c -O2 -o test_call.exe`"
      ],
      "text/plain": [
       "<IPython.core.display.Markdown object>"
      ]
     },
     "metadata": {},
     "output_type": "display_data"
    },
    {
     "data": {
      "text/markdown": [
       "Run: `echo \"123 124 125\" | qemu-arm -L ~/Downloads/sysroot-glibc-linaro-2.25-2018.05-arm-linux-gnueabi ./test_call.exe`"
      ],
      "text/plain": [
       "<IPython.core.display.Markdown object>"
      ]
     },
     "metadata": {},
     "output_type": "display_data"
    },
    {
     "name": "stdout",
     "output_type": "stream",
     "text": [
      "a = 125\r\n"
     ]
    }
   ],
   "source": [
    "%%cpp test_call.c\n",
    "%run arm-linux-gnueabi-gcc -marm test_call.c -O2 -o test_call.exe\n",
    "%run echo \"123 124 125\" | qemu-arm -L ~/Downloads/sysroot-glibc-linaro-2.25-2018.05-arm-linux-gnueabi ./test_call.exe\n",
    "\n",
    "#include <stdio.h>\n",
    "\n",
    "int scan_a(int* a);\n",
    "__asm__(R\"(\n",
    "    .text\n",
    "    .global scan_a\n",
    "scan_a:\n",
    "    mov r2, r0\n",
    "    mov r3, r0\n",
    "    ldr r0, =stdin\n",
    "    ldr r0, [r0]\n",
    "    ldr r1, =.format_string\n",
    "    push {lr}\n",
    "    push {r2}\n",
    "    bl __isoc99_fscanf\n",
    "    pop {r2}\n",
    "    mov r0, #42\n",
    "    pop {pc}\n",
    ".format_string:\n",
    "    .ascii \"%d %d %d\\0\"\n",
    ")\");\n",
    "\n",
    "int main() {\n",
    "    int a = 100500;\n",
    "    scan_a(&a);\n",
    "    printf(\"a = %d\\n\", a);\n",
    "}"
   ]
  },
  {
   "cell_type": "code",
   "execution_count": 16,
   "metadata": {},
   "outputs": [
    {
     "name": "stdout",
     "output_type": "stream",
     "text": [
      "0001047c <scan_a>:\n",
      "   1047c:\te1a02000 \tmov\tr2, r0\n",
      "   10480:\te1a03000 \tmov\tr3, r0\n",
      "   10484:\te59f0028 \tldr\tr0, [pc, #40]\t; 104b4 <.format_string+0xc>\n",
      "   10488:\te5900000 \tldr\tr0, [r0]\n",
      "   1048c:\te59f1024 \tldr\tr1, [pc, #36]\t; 104b8 <.format_string+0x10>\n",
      "   10490:\te52de004 \tpush\t{lr}\t\t; (str lr, [sp, #-4]!)\n",
      "   10494:\te52d2004 \tpush\t{r2}\t\t; (str r2, [sp, #-4]!)\n",
      "   10498:\tebffffad \tbl\t10354 <__isoc99_fscanf@plt>\n",
      "   1049c:\te49d2004 \tpop\t{r2}\t\t; (ldr r2, [sp], #4)\n",
      "   104a0:\te3a0002a \tmov\tr0, #42\t; 0x2a\n",
      "   104a4:\te49df004 \tpop\t{pc}\t\t; (ldr pc, [sp], #4)\n",
      "\n",
      "000104a8 <.format_string>:\n",
      "   104a8:\t25206425 \tstrcs\tr6, [r0, #-1061]!\t; 0xfffffbdb\n",
      "   104ac:\t64252064 \tstrtvs\tr2, [r5], #-100\t; 0xffffff9c\n",
      "   104b0:\t00000000 \tandeq\tr0, r0, r0\n",
      "   104b4:\t00021030 \tandeq\tr1, r2, r0, lsr r0\n",
      "   104b8:\t000104a8 \tandeq\tr0, r1, r8, lsr #9\n",
      "\n",
      "000104bc <__libc_csu_init>:\n"
     ]
    }
   ],
   "source": [
    "!arm-linux-gnueabi-objdump -D test_call.exe 2>&1 | grep 0001047c -A 20"
   ]
  },
  {
   "cell_type": "code",
   "execution_count": 17,
   "metadata": {},
   "outputs": [
    {
     "data": {
      "text/markdown": [
       "Run: `arm-linux-gnueabi-gcc -marm test_call.c -O2 -o test_call.exe`"
      ],
      "text/plain": [
       "<IPython.core.display.Markdown object>"
      ]
     },
     "metadata": {},
     "output_type": "display_data"
    },
    {
     "name": "stdout",
     "output_type": "stream",
     "text": [
      "/tmp/ccLQuae7.s: Assembler messages:\r\n",
      "/tmp/ccLQuae7.s:19: Error: immediate expression requires a # prefix -- `mov r0,=EOF'\r\n"
     ]
    },
    {
     "data": {
      "text/markdown": [
       "Run: `echo \"123 124 125\" | qemu-arm -L ~/Downloads/sysroot-glibc-linaro-2.25-2018.05-arm-linux-gnueabi ./test_call.exe`"
      ],
      "text/plain": [
       "<IPython.core.display.Markdown object>"
      ]
     },
     "metadata": {},
     "output_type": "display_data"
    },
    {
     "name": "stdout",
     "output_type": "stream",
     "text": [
      "a = 125\r\n"
     ]
    }
   ],
   "source": [
    "%%cpp test_call.c\n",
    "%run arm-linux-gnueabi-gcc -marm test_call.c -O2 -o test_call.exe\n",
    "%run echo \"123 124 125\" | qemu-arm -L ~/Downloads/sysroot-glibc-linaro-2.25-2018.05-arm-linux-gnueabi ./test_call.exe\n",
    "\n",
    "#include <stdio.h>\n",
    "\n",
    "int ret_eof();\n",
    "__asm__(R\"(\n",
    "#include <stdio.h>\n",
    "    .text\n",
    "    .global ret_eof\n",
    "ret_eof:\n",
    "    mov r0, =EOF\n",
    "    bx lr\n",
    ")\");\n",
    "\n",
    "int main() {\n",
    "    printf(\"%d\\n\", ret_eof());\n",
    "}"
   ]
  },
  {
   "cell_type": "markdown",
   "metadata": {},
   "source": [
    "# Решение одной домашней задачи"
   ]
  },
  {
   "cell_type": "code",
   "execution_count": 18,
   "metadata": {},
   "outputs": [
    {
     "data": {
      "text/markdown": [
       "Run: `arm-linux-gnueabi-gcc -marm sol.S -O2 -o sol.exe`"
      ],
      "text/plain": [
       "<IPython.core.display.Markdown object>"
      ]
     },
     "metadata": {},
     "output_type": "display_data"
    },
    {
     "data": {
      "text/markdown": [
       "Run: `echo \"123 124 125\" | qemu-arm -L ~/Downloads/sysroot-glibc-linaro-2.25-2018.05-arm-linux-gnueabi ./sol.exe`"
      ],
      "text/plain": [
       "<IPython.core.display.Markdown object>"
      ]
     },
     "metadata": {},
     "output_type": "display_data"
    },
    {
     "name": "stdout",
     "output_type": "stream",
     "text": [
      "123124125"
     ]
    }
   ],
   "source": [
    "%%asm sol.S\n",
    "%run arm-linux-gnueabi-gcc -marm sol.S -O2 -o sol.exe\n",
    "%run echo \"123 124 125\" | qemu-arm -L ~/Downloads/sysroot-glibc-linaro-2.25-2018.05-arm-linux-gnueabi ./sol.exe\n",
    "\n",
    ".global main\n",
    "main:\n",
    "    push {lr}\n",
    "\n",
    "cin_symb:\n",
    "    ldr r0, =stdin\n",
    "    ldr r0, [r0]\n",
    "    bl fgetc\n",
    "\n",
    "    cmp r0, #0\n",
    "    blt out\n",
    "\n",
    "    cmp r0, #'0'\n",
    "    ble cin_symb\n",
    "\n",
    "    cmp r0, #'9'\n",
    "    bge cin_symb\n",
    "\n",
    "    ldr r1, =stdout\n",
    "    ldr r1, [r1]\n",
    "    bl fputc\n",
    "    b cin_symb\n",
    "out:\n",
    "    pop {pc}"
   ]
  },
  {
   "cell_type": "code",
   "execution_count": null,
   "metadata": {},
   "outputs": [],
   "source": []
  },
  {
   "cell_type": "code",
   "execution_count": null,
   "metadata": {},
   "outputs": [],
   "source": []
  }
 ],
 "metadata": {
  "kernelspec": {
   "display_name": "Python 3",
   "language": "python",
   "name": "python3"
  },
  "language_info": {
   "codemirror_mode": {
    "name": "ipython",
    "version": 3
   },
   "file_extension": ".py",
   "mimetype": "text/x-python",
   "name": "python",
   "nbconvert_exporter": "python",
   "pygments_lexer": "ipython3",
   "version": "3.5.2"
  }
 },
 "nbformat": 4,
 "nbformat_minor": 2
}
