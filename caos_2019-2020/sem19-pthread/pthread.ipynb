{
 "cells": [
  {
   "cell_type": "code",
   "execution_count": 1,
   "metadata": {},
   "outputs": [
    {
     "data": {
      "application/javascript": [
       "// setup cpp code highlighting\n",
       "IPython.CodeCell.options_default.highlight_modes[\"text/x-c++src\"] = {'reg':[/^%%cpp/]} ;"
      ],
      "text/plain": [
       "<IPython.core.display.Javascript object>"
      ]
     },
     "metadata": {},
     "output_type": "display_data"
    },
    {
     "data": {
      "text/html": [
       "<!-- YANDEX_METRICA_BEGIN -->\n",
       "    <script type=\"text/javascript\" >\n",
       "       (function(m,e,t,r,i,k,a){m[i]=m[i]||function(){(m[i].a=m[i].a||[]).push(arguments)};\n",
       "       m[i].l=1*new Date();k=e.createElement(t),a=e.getElementsByTagName(t)[0],k.async=1,k.src=r,a.parentNode.insertBefore(k,a)})\n",
       "       (window, document, \"script\", \"https://mc.yandex.ru/metrika/tag.js\", \"ym\");\n",
       "\n",
       "       ym(59260609, \"init\", {\n",
       "            clickmap:true,\n",
       "            trackLinks:true,\n",
       "            accurateTrackBounce:true\n",
       "       });\n",
       "    </script>\n",
       "    <noscript><div><img src=\"https://mc.yandex.ru/watch/59260609\" style=\"position:absolute; left:-9999px;\" alt=\"\" /></div></noscript>\n",
       "    <!-- YANDEX_METRICA_END -->"
      ],
      "text/plain": [
       "<IPython.core.display.HTML object>"
      ]
     },
     "metadata": {},
     "output_type": "display_data"
    },
    {
     "data": {
      "text/html": [
       "В этот ноутбук встроен код Яндекс Метрики для сбора статистики использований. Если вы не хотите, чтобы по вам собиралась статистика, исправьте: yandex_metrica_allowed = False<!-- MAGICS_SETUP_PRINTING_END -->"
      ],
      "text/plain": [
       "<IPython.core.display.HTML object>"
      ]
     },
     "metadata": {},
     "output_type": "display_data"
    }
   ],
   "source": [
    "# look at tools/set_up_magics.ipynb\n",
    "yandex_metrica_allowed = True ; get_ipython().run_cell('# one_liner_str\\n\\nget_ipython().run_cell_magic(\\'javascript\\', \\'\\', \\'// setup cpp code highlighting\\\\nIPython.CodeCell.options_default.highlight_modes[\"text/x-c++src\"] = {\\\\\\'reg\\\\\\':[/^%%cpp/]} ;\\')\\n\\n# creating magics\\nfrom IPython.core.magic import register_cell_magic, register_line_magic\\nfrom IPython.display import display, Markdown, HTML\\nimport argparse\\nfrom subprocess import Popen, PIPE\\nimport random\\nimport sys\\nimport os\\nimport re\\nimport signal\\nimport shutil\\nimport shlex\\nimport glob\\n\\n@register_cell_magic\\ndef save_file(args_str, cell, line_comment_start=\"#\"):\\n    parser = argparse.ArgumentParser()\\n    parser.add_argument(\"fname\")\\n    parser.add_argument(\"--ejudge-style\", action=\"store_true\")\\n    args = parser.parse_args(args_str.split())\\n    \\n    cell = cell if cell[-1] == \\'\\\\n\\' or args.no_eof_newline else cell + \"\\\\n\"\\n    cmds = []\\n    with open(args.fname, \"w\") as f:\\n        f.write(line_comment_start + \" %%cpp \" + args_str + \"\\\\n\")\\n        for line in cell.split(\"\\\\n\"):\\n            line_to_write = (line if not args.ejudge_style else line.rstrip()) + \"\\\\n\"\\n            if line.startswith(\"%\"):\\n                run_prefix = \"%run \"\\n                if line.startswith(run_prefix):\\n                    cmds.append(line[len(run_prefix):].strip())\\n                    f.write(line_comment_start + \" \" + line_to_write)\\n                    continue\\n                run_prefix = \"%# \"\\n                if line.startswith(run_prefix):\\n                    f.write(line_comment_start + \" \" + line_to_write)\\n                    continue\\n                raise Exception(\"Unknown %%save_file subcommand: \\'%s\\'\" % line)\\n            else:\\n                f.write(line_to_write)\\n        f.write(\"\" if not args.ejudge_style else line_comment_start + r\" line without \\\\n\")\\n    for cmd in cmds:\\n        display(Markdown(\"Run: `%s`\" % cmd))\\n        get_ipython().system(cmd)\\n\\n@register_cell_magic\\ndef cpp(fname, cell):\\n    save_file(fname, cell, \"//\")\\n\\n@register_cell_magic\\ndef asm(fname, cell):\\n    save_file(fname, cell, \"//\")\\n    \\n@register_cell_magic\\ndef makefile(fname, cell):\\n    assert not fname\\n    save_file(\"makefile\", cell.replace(\" \" * 4, \"\\\\t\"))\\n        \\n@register_line_magic\\ndef p(line):\\n    try:\\n        expr, comment = line.split(\" #\")\\n        display(Markdown(\"`{} = {}`  # {}\".format(expr.strip(), eval(expr), comment.strip())))\\n    except:\\n        display(Markdown(\"{} = {}\".format(line, eval(line))))\\n        \\ndef show_file(file, clear_at_begin=True, return_html_string=False):\\n    if clear_at_begin:\\n        get_ipython().system(\"truncate --size 0 \" + file)\\n    obj = file.replace(\\'.\\', \\'_\\').replace(\\'/\\', \\'_\\') + \"_obj\"\\n    html_string = \\'\\'\\'\\n        <!--MD_BEGIN_FILTER-->\\n        <script type=text/javascript>\\n        var entrance___OBJ__ = 0;\\n        var errors___OBJ__ = 0;\\n        function refresh__OBJ__()\\n        {\\n            entrance___OBJ__ -= 1;\\n            var elem = document.getElementById(\"__OBJ__\");\\n            if (elem) {\\n                var xmlhttp=new XMLHttpRequest();\\n                xmlhttp.onreadystatechange=function()\\n                {\\n                    var elem = document.getElementById(\"__OBJ__\");\\n                    console.log(!!elem, xmlhttp.readyState, xmlhttp.status, entrance___OBJ__);\\n                    if (elem && xmlhttp.readyState==4) {\\n                        if (xmlhttp.status==200)\\n                        {\\n                            errors___OBJ__ = 0;\\n                            if (!entrance___OBJ__) {\\n                                elem.innerText = xmlhttp.responseText;\\n                                entrance___OBJ__ += 1;\\n                                console.log(\"req\");\\n                                window.setTimeout(\"refresh__OBJ__()\", 300); \\n                            }\\n                            return xmlhttp.responseText;\\n                        } else {\\n                            errors___OBJ__ += 1;\\n                            if (errors___OBJ__ < 10 && !entrance___OBJ__) {\\n                                entrance___OBJ__ += 1;\\n                                console.log(\"req\");\\n                                window.setTimeout(\"refresh__OBJ__()\", 300); \\n                            }\\n                        }\\n                    }\\n                }\\n                xmlhttp.open(\"GET\", \"__FILE__\", true);\\n                xmlhttp.setRequestHeader(\"Cache-Control\", \"no-cache\");\\n                xmlhttp.send();     \\n            }\\n        }\\n        \\n        if (!entrance___OBJ__) {\\n            entrance___OBJ__ += 1;\\n            refresh__OBJ__(); \\n        }\\n        </script>\\n        \\n        <font color=\"white\"> <tt>\\n        <p id=\"__OBJ__\" style=\"font-size: 16px; border:3px #333333 solid; background: #333333; border-radius: 10px; padding: 10px;  \"></p>\\n        </tt> </font>\\n        <!--MD_END_FILTER-->\\n        <!--MD_FROM_FILE __FILE__ -->\\n        \\'\\'\\'.replace(\"__OBJ__\", obj).replace(\"__FILE__\", file)\\n    if return_html_string:\\n        return html_string\\n    display(HTML(html_string))\\n    \\nBASH_POPEN_TMP_DIR = \"./bash_popen_tmp\"\\n    \\ndef bash_popen_terminate_all():\\n    for p in globals().get(\"bash_popen_list\", []):\\n        print(\"Terminate pid=\" + str(p.pid), file=sys.stderr)\\n        p.terminate()\\n    globals()[\"bash_popen_list\"] = []\\n    if os.path.exists(BASH_POPEN_TMP_DIR):\\n        shutil.rmtree(BASH_POPEN_TMP_DIR)\\n\\nbash_popen_terminate_all()  \\n\\ndef bash_popen(cmd):\\n    if not os.path.exists(BASH_POPEN_TMP_DIR):\\n        os.mkdir(BASH_POPEN_TMP_DIR)\\n    h = os.path.join(BASH_POPEN_TMP_DIR, str(random.randint(0, 1e18)))\\n    stdout_file = h + \".out.html\"\\n    stderr_file = h + \".err.html\"\\n    run_log_file = h + \".fin.html\"\\n    \\n    stdout = open(stdout_file, \"wb\")\\n    stdout = open(stderr_file, \"wb\")\\n    \\n    html = \"\"\"\\n    <table width=\"100%\">\\n    <colgroup>\\n       <col span=\"1\" style=\"width: 70px;\">\\n       <col span=\"1\">\\n    </colgroup>    \\n    <tbody>\\n      <tr> <td><b>STDOUT</b></td> <td> {stdout} </td> </tr>\\n      <tr> <td><b>STDERR</b></td> <td> {stderr} </td> </tr>\\n      <tr> <td><b>RUN LOG</b></td> <td> {run_log} </td> </tr>\\n    </tbody>\\n    </table>\\n    \"\"\".format(\\n        stdout=show_file(stdout_file, return_html_string=True),\\n        stderr=show_file(stderr_file, return_html_string=True),\\n        run_log=show_file(run_log_file, return_html_string=True),\\n    )\\n    \\n    cmd = \"\"\"\\n        bash -c {cmd} &\\n        pid=$!\\n        echo \"Process started! pid=${{pid}}\" > {run_log_file}\\n        wait ${{pid}}\\n        echo \"Process finished! exit_code=$?\" >> {run_log_file}\\n    \"\"\".format(cmd=shlex.quote(cmd), run_log_file=run_log_file)\\n    # print(cmd)\\n    display(HTML(html))\\n    \\n    p = Popen([\"bash\", \"-c\", cmd], stdin=PIPE, stdout=stdout, stderr=stdout)\\n    \\n    bash_popen_list.append(p)\\n    return p\\n\\n\\n@register_line_magic\\ndef bash_async(line):\\n    bash_popen(line)\\n    \\n    \\ndef show_log_file(file, return_html_string=False):\\n    obj = file.replace(\\'.\\', \\'_\\').replace(\\'/\\', \\'_\\') + \"_obj\"\\n    html_string = \\'\\'\\'\\n        <!--MD_BEGIN_FILTER-->\\n        <script type=text/javascript>\\n        var entrance___OBJ__ = 0;\\n        var errors___OBJ__ = 0;\\n        function halt__OBJ__(elem, color)\\n        {\\n            elem.setAttribute(\"style\", \"font-size: 14px; background: \" + color + \"; padding: 10px; border: 3px; border-radius: 5px; color: white; \");                    \\n        }\\n        function refresh__OBJ__()\\n        {\\n            entrance___OBJ__ -= 1;\\n            if (entrance___OBJ__ < 0) {\\n                entrance___OBJ__ = 0;\\n            }\\n            var elem = document.getElementById(\"__OBJ__\");\\n            if (elem) {\\n                var xmlhttp=new XMLHttpRequest();\\n                xmlhttp.onreadystatechange=function()\\n                {\\n                    var elem = document.getElementById(\"__OBJ__\");\\n                    console.log(!!elem, xmlhttp.readyState, xmlhttp.status, entrance___OBJ__);\\n                    if (elem && xmlhttp.readyState==4) {\\n                        if (xmlhttp.status==200)\\n                        {\\n                            errors___OBJ__ = 0;\\n                            if (!entrance___OBJ__) {\\n                                if (elem.innerHTML != xmlhttp.responseText) {\\n                                    elem.innerHTML = xmlhttp.responseText;\\n                                }\\n                                if (elem.innerHTML.includes(\"Process finished.\")) {\\n                                    halt__OBJ__(elem, \"#333333\");\\n                                } else {\\n                                    entrance___OBJ__ += 1;\\n                                    console.log(\"req\");\\n                                    window.setTimeout(\"refresh__OBJ__()\", 300); \\n                                }\\n                            }\\n                            return xmlhttp.responseText;\\n                        } else {\\n                            errors___OBJ__ += 1;\\n                            if (!entrance___OBJ__) {\\n                                if (errors___OBJ__ < 6) {\\n                                    entrance___OBJ__ += 1;\\n                                    console.log(\"req\");\\n                                    window.setTimeout(\"refresh__OBJ__()\", 300); \\n                                } else {\\n                                    halt__OBJ__(elem, \"#994444\");\\n                                }\\n                            }\\n                        }\\n                    }\\n                }\\n                xmlhttp.open(\"GET\", \"__FILE__\", true);\\n                xmlhttp.setRequestHeader(\"Cache-Control\", \"no-cache\");\\n                xmlhttp.send();     \\n            }\\n        }\\n        \\n        if (!entrance___OBJ__) {\\n            entrance___OBJ__ += 1;\\n            refresh__OBJ__(); \\n        }\\n        </script>\\n\\n        <p id=\"__OBJ__\" style=\"font-size: 14px; background: #000000; padding: 10px; border: 3px; border-radius: 5px; color: white; \">\\n        </p>\\n        \\n        </font>\\n        <!--MD_END_FILTER-->\\n        <!--MD_FROM_FILE __FILE__.md -->\\n        \\'\\'\\'.replace(\"__OBJ__\", obj).replace(\"__FILE__\", file)\\n    if return_html_string:\\n        return html_string\\n    display(HTML(html_string))\\n\\n    \\nclass TInteractiveLauncher:\\n    tmp_path = \"./interactive_launcher_tmp\"\\n    def __init__(self, cmd):\\n        try:\\n            os.mkdir(TInteractiveLauncher.tmp_path)\\n        except:\\n            pass\\n        name = str(random.randint(0, 1e18))\\n        self.inq_path = os.path.join(TInteractiveLauncher.tmp_path, name + \".inq\")\\n        self.log_path = os.path.join(TInteractiveLauncher.tmp_path, name + \".log\")\\n        \\n        os.mkfifo(self.inq_path)\\n        open(self.log_path, \\'w\\').close()\\n        open(self.log_path + \".md\", \\'w\\').close()\\n\\n        self.pid = os.fork()\\n        if self.pid == -1:\\n            print(\"Error\")\\n        if self.pid == 0:\\n            exe_cands = glob.glob(\"../tools/launcher.py\") + glob.glob(\"../../tools/launcher.py\")\\n            assert(len(exe_cands) == 1)\\n            assert(os.execvp(\"python3\", [\"python3\", exe_cands[0], \"-l\", self.log_path, \"-i\", self.inq_path, \"-c\", cmd]) == 0)\\n        self.inq_f = open(self.inq_path, \"w\")\\n        interactive_launcher_opened_set.add(self.pid)\\n        show_log_file(self.log_path)\\n\\n    def write(self, s):\\n        s = s.encode()\\n        assert len(s) == os.write(self.inq_f.fileno(), s)\\n        \\n    def get_pid(self):\\n        n = 100\\n        for i in range(n):\\n            try:\\n                return int(re.findall(r\"PID = (\\\\d+)\", open(self.log_path).readline())[0])\\n            except:\\n                if i + 1 == n:\\n                    raise\\n                time.sleep(0.1)\\n        \\n    def input_queue_path(self):\\n        return self.inq_path\\n        \\n    def close(self):\\n        self.inq_f.close()\\n        os.waitpid(self.pid, 0)\\n        os.remove(self.inq_path)\\n        # os.remove(self.log_path)\\n        self.inq_path = None\\n        self.log_path = None \\n        interactive_launcher_opened_set.remove(self.pid)\\n        self.pid = None\\n        \\n    @staticmethod\\n    def terminate_all():\\n        if \"interactive_launcher_opened_set\" not in globals():\\n            globals()[\"interactive_launcher_opened_set\"] = set()\\n        global interactive_launcher_opened_set\\n        for pid in interactive_launcher_opened_set:\\n            print(\"Terminate pid=\" + str(pid), file=sys.stderr)\\n            os.kill(pid, signal.SIGKILL)\\n            os.waitpid(pid, 0)\\n        interactive_launcher_opened_set = set()\\n        if os.path.exists(TInteractiveLauncher.tmp_path):\\n            shutil.rmtree(TInteractiveLauncher.tmp_path)\\n    \\nTInteractiveLauncher.terminate_all()\\n   \\nyandex_metrica_allowed = bool(globals().get(\"yandex_metrica_allowed\", False))\\nif yandex_metrica_allowed:\\n    display(HTML(\\'\\'\\'<!-- YANDEX_METRICA_BEGIN -->\\n    <script type=\"text/javascript\" >\\n       (function(m,e,t,r,i,k,a){m[i]=m[i]||function(){(m[i].a=m[i].a||[]).push(arguments)};\\n       m[i].l=1*new Date();k=e.createElement(t),a=e.getElementsByTagName(t)[0],k.async=1,k.src=r,a.parentNode.insertBefore(k,a)})\\n       (window, document, \"script\", \"https://mc.yandex.ru/metrika/tag.js\", \"ym\");\\n\\n       ym(59260609, \"init\", {\\n            clickmap:true,\\n            trackLinks:true,\\n            accurateTrackBounce:true\\n       });\\n    </script>\\n    <noscript><div><img src=\"https://mc.yandex.ru/watch/59260609\" style=\"position:absolute; left:-9999px;\" alt=\"\" /></div></noscript>\\n    <!-- YANDEX_METRICA_END -->\\'\\'\\'))\\n\\ndef make_oneliner():\\n    html_text = \\'(\"В этот ноутбук встроен код Яндекс Метрики для сбора статистики использований. Если вы не хотите, чтобы по вам собиралась статистика, исправьте: yandex_metrica_allowed = False\" if yandex_metrica_allowed else \"\")\\'\\n    html_text += \\' + \"<\"\"!-- MAGICS_SETUP_PRINTING_END -->\"\\'\\n    return \\'\\'.join([\\n        \\'# look at tools/set_up_magics.ipynb\\\\n\\',\\n        \\'yandex_metrica_allowed = True ; get_ipython().run_cell(%s);\\' % repr(one_liner_str),\\n        \\'display(HTML(%s))\\' % html_text,\\n        \\' #\\'\\'MAGICS_SETUP_END\\'\\n    ])\\n       \\n\\n');display(HTML((\"В этот ноутбук встроен код Яндекс Метрики для сбора статистики использований. Если вы не хотите, чтобы по вам собиралась статистика, исправьте: yandex_metrica_allowed = False\" if yandex_metrica_allowed else \"\") + \"<\"\"!-- MAGICS_SETUP_PRINTING_END -->\")) #MAGICS_SETUP_END"
   ]
  },
  {
   "cell_type": "markdown",
   "metadata": {},
   "source": [
    "# Потоки и их использование\n",
    "\n",
    "<br>\n",
    "<div style=\"text-align: right\"> Спасибо <a href=\"https://github.com/Disadvantaged\">Голяр Димитрису</a> за участие в написании текста </div>\n",
    "<br>\n",
    "\n",
    "\n",
    "Сегодня в программе:\n",
    "* <a href=\"#ptread_create\" style=\"color:#856024\">Создание и join потоков</a>\n",
    "* <a href=\"#pthread_result\" style=\"color:#856024\">Аргументы и возвращаемое значение потока</a>\n",
    "* <a href=\"#pthread_cancel\" style=\"color:#856024\">Прерывание/отмена/cancel потока</a>\n",
    "* <a href=\"#pthread_attr\" style=\"color:#856024\">Атрибуты потока</a>\n",
    "* <a href=\"#coro\" style=\"color:#856024\">Корутины</a>\n",
    "\n",
    "\n",
    "<a href=\"#hw\" style=\"color:#856024\">Комментарии к ДЗ</a>\n",
    "\n",
    "[Ридинг Яковлева](https://github.com/victor-yacovlev/mipt-diht-caos/tree/master/practice/pthread)\n",
    "\n",
    "\n",
    "Атрибуты процесса (полнота списков не гарантируется):\n",
    "* Виртуальное адресное пространство и данные в этой витруальной памяти\n",
    "* Файловые дескрипторы, блокировки файлов\n",
    "* PID\n",
    "* argc, argv\n",
    "* ulimit\n",
    "\n",
    "Атрибуты потока:\n",
    "* Маски сигналов (Маска сигналов наследует маску потока-родителя, изменения будут сохраняться только внутри потока)\n",
    "* Состояние процесса R, S, T, Z\n",
    "* Состояние регистров (какая ф-я сейчас выполняется) (состояние стека скорее входит в состояние вииртуального адресного пространства)\n",
    "* TID\n",
    "\n",
    "https://unix.stackexchange.com/questions/47595/linux-max-threads-count - про максимальное количество процессов и потоков в системе."
   ]
  },
  {
   "cell_type": "code",
   "execution_count": null,
   "metadata": {},
   "outputs": [],
   "source": []
  },
  {
   "cell_type": "markdown",
   "metadata": {},
   "source": [
    "# <a name=\"pthread_create\"></a> Создание и join потока"
   ]
  },
  {
   "cell_type": "code",
   "execution_count": 197,
   "metadata": {},
   "outputs": [
    {
     "data": {
      "text/markdown": [
       "Run: `gcc -fsanitize=thread pthread_create.c -lpthread -o pthread_create.exe`"
      ],
      "text/plain": [
       "<IPython.core.display.Markdown object>"
      ]
     },
     "metadata": {},
     "output_type": "display_data"
    },
    {
     "data": {
      "text/markdown": [
       "Run: `./pthread_create.exe`"
      ],
      "text/plain": [
       "<IPython.core.display.Markdown object>"
      ]
     },
     "metadata": {},
     "output_type": "display_data"
    },
    {
     "name": "stdout",
     "output_type": "stream",
     "text": [
      "23:00:02.131 pthread_create.c:37 [tid=7019]: Main func started\r\n",
      "23:00:02.158 pthread_create.c:39 [tid=7019]: Thread creating\r\n",
      "23:00:02.163 pthread_create.c:30 [tid=7021]:   Thread func started\r\n",
      "23:00:02.164 pthread_create.c:31 [tid=7021]:   Thread func finished\r\n",
      "23:00:02.164 pthread_create.c:43 [tid=7019]: Thread joined\r\n",
      "23:00:02.164 pthread_create.c:44 [tid=7019]: Main func finished\r\n"
     ]
    }
   ],
   "source": [
    "%%cpp pthread_create.c\n",
    "%run gcc -fsanitize=thread pthread_create.c -lpthread -o pthread_create.exe\n",
    "%run ./pthread_create.exe\n",
    "\n",
    "#include <stdio.h>\n",
    "#include <stdlib.h>\n",
    "#include <unistd.h>\n",
    "#include <sys/types.h>\n",
    "#include <sys/syscall.h>\n",
    "#include <sys/time.h>\n",
    "#include <pthread.h>\n",
    "\n",
    "const char* log_prefix(const char* file, int line) {\n",
    "    struct timeval tp; gettimeofday(&tp, NULL); struct tm ltime; localtime_r(&tp.tv_sec, &ltime);\n",
    "    static __thread char prefix[100]; \n",
    "    size_t time_len = strftime(prefix, sizeof(prefix), \"%H:%M:%S\", &ltime);\n",
    "    sprintf(prefix + time_len, \".%03ld %s:%d [tid=%ld]\", tp.tv_usec / 1000, file, line, syscall(__NR_gettid));\n",
    "    return prefix;\n",
    "}\n",
    "\n",
    "#define log_printf_impl(fmt, ...) { time_t t = time(0); dprintf(2, \"%s: \" fmt \"%s\", log_prefix(__FILE__, __LINE__), __VA_ARGS__); }\n",
    "#define log_printf(...) log_printf_impl(__VA_ARGS__, \"\")\n",
    "\n",
    "// thread-aware assert\n",
    "#define ta_assert(stmt) if (stmt) {} else { log_printf(\"'\" #stmt \"' failed\"); exit(EXIT_FAILURE); }\n",
    "\n",
    "// Возвращаемое значение потока (~код возврата процесса) -- любое машинное слово.\n",
    "static void* thread_func(void* arg) \n",
    "{\n",
    "    log_printf(\"  Thread func started\\n\");\n",
    "    log_printf(\"  Thread func finished\\n\");\n",
    "    return NULL;\n",
    "}\n",
    "\n",
    "int main()\n",
    "{\n",
    "    log_printf(\"Main func started\\n\");\n",
    "    pthread_t thread;\n",
    "    log_printf(\"Thread creating\\n\");\n",
    "    ta_assert(pthread_create(&thread, NULL, thread_func, 0) == 0); // В какой-то момент будет создан поток и в нем вызвана функция\n",
    "    // Начиная отсюда неизвестно в каком порядке выполняются инструкции основного и дочернего потока\n",
    "    ta_assert(pthread_join(thread, NULL) == 0); // -- аналог waitpid. Второй аргумент -- указатель в который запишется возвращаемое значение\n",
    "    log_printf(\"Thread joined\\n\");\n",
    "    log_printf(\"Main func finished\\n\");\n",
    "    return 0;\n",
    "}"
   ]
  },
  {
   "cell_type": "code",
   "execution_count": null,
   "metadata": {},
   "outputs": [],
   "source": []
  },
  {
   "cell_type": "markdown",
   "metadata": {},
   "source": [
    "# <a name=\"pthread_result\"></a> Смотрим на возвращаемое потоком значение."
   ]
  },
  {
   "cell_type": "code",
   "execution_count": 9,
   "metadata": {},
   "outputs": [
    {
     "data": {
      "text/markdown": [
       "Run: `clang -fsanitize=memory pthread_create.c -lpthread -o pthread_create.exe`"
      ],
      "text/plain": [
       "<IPython.core.display.Markdown object>"
      ]
     },
     "metadata": {},
     "output_type": "display_data"
    },
    {
     "data": {
      "text/markdown": [
       "Run: `./pthread_create.exe`"
      ],
      "text/plain": [
       "<IPython.core.display.Markdown object>"
      ]
     },
     "metadata": {},
     "output_type": "display_data"
    },
    {
     "name": "stdout",
     "output_type": "stream",
     "text": [
      "12:56:35.280 pthread_create.c:50 [tid=22203]: Main func started\r\n",
      "12:56:35.281 pthread_create.c:54 [tid=22203]: Thread creating, args are: a=35 b=7\r\n",
      "12:56:35.281 pthread_create.c:40 [tid=22204]:   Thread func started\r\n",
      "12:56:35.281 pthread_create.c:44 [tid=22204]:   Thread func finished\r\n",
      "12:56:35.281 pthread_create.c:63 [tid=22203]: Thread joined. Result: c=42\r\n",
      "12:56:35.281 pthread_create.c:66 [tid=22203]: Main func finished\r\n"
     ]
    }
   ],
   "source": [
    "%%cpp pthread_create.c\n",
    "%run clang -fsanitize=memory pthread_create.c -lpthread -o pthread_create.exe\n",
    "%run ./pthread_create.exe\n",
    "\n",
    "#include <stdio.h>\n",
    "#include <stdlib.h>\n",
    "#include <unistd.h>\n",
    "#include <sys/types.h>\n",
    "#include <sys/syscall.h>\n",
    "#include <sys/time.h>\n",
    "#include <pthread.h>\n",
    "\n",
    "const char* log_prefix(const char* file, int line) {\n",
    "    struct timeval tp; gettimeofday(&tp, NULL); struct tm ltime; localtime_r(&tp.tv_sec, &ltime);\n",
    "    static __thread char prefix[100]; \n",
    "    size_t time_len = strftime(prefix, sizeof(prefix), \"%H:%M:%S\", &ltime);\n",
    "    sprintf(prefix + time_len, \".%03ld %s:%d [tid=%ld]\", tp.tv_usec / 1000, file, line, syscall(__NR_gettid));\n",
    "    return prefix;\n",
    "}\n",
    "\n",
    "#define log_printf_impl(fmt, ...) { time_t t = time(0); dprintf(2, \"%s: \" fmt \"%s\", log_prefix(__FILE__, __LINE__), __VA_ARGS__); }\n",
    "#define log_printf(...) log_printf_impl(__VA_ARGS__, \"\")\n",
    "\n",
    "// thread-aware assert\n",
    "#define ta_assert(stmt) if (stmt) {} else { log_printf(\"'\" #stmt \"' failed\"); exit(EXIT_FAILURE); }\n",
    "\n",
    "\n",
    "typedef struct {\n",
    "    int a;\n",
    "    int b;\n",
    "} thread_task_args_t;\n",
    "\n",
    "// На самом деле проще записать результат в структуру аргументов\n",
    "typedef struct {\n",
    "    int c;\n",
    "} thread_task_result_t;\n",
    "\n",
    "static thread_task_result_t* thread_func(const thread_task_args_t *arg)\n",
    "{\n",
    "    log_printf(\"  Thread func started\\n\");\n",
    "    thread_task_result_t* result = \n",
    "        (thread_task_result_t*)malloc(sizeof(thread_task_result_t));\n",
    "    result->c = arg->a + arg->b;\n",
    "    log_printf(\"  Thread func finished\\n\");\n",
    "    return result;\n",
    "}\n",
    "\n",
    "int main()\n",
    "{\n",
    "    log_printf(\"Main func started\\n\");\n",
    "    pthread_t thread;\n",
    "    \n",
    "    thread_task_args_t args = {.a = 35, .b = 7};\n",
    "    log_printf(\"Thread creating, args are: a=%d b=%d\\n\", args.a, args.b);\n",
    "    ta_assert(pthread_create(\n",
    "        &thread, NULL, \n",
    "        (void* (*)(void*))thread_func, // Важно понимать, что тут происходит\n",
    "        (void*)&args\n",
    "    ) == 0);\n",
    "    \n",
    "    thread_task_result_t* result;\n",
    "    ta_assert(pthread_join(thread, (void**)&result) == 0);\n",
    "    log_printf(\"Thread joined. Result: c=%d\\n\", result->c);\n",
    "    free(result);\n",
    "    \n",
    "    log_printf(\"Main func finished\\n\");\n",
    "    return 0;\n",
    "}"
   ]
  },
  {
   "cell_type": "markdown",
   "metadata": {},
   "source": [
    "# <a name=\"pthread_cancel\"></a> Прерывание потока\n",
    "\n",
    "Пусть это возможно сделать, но с этим нужно быть очень осторожным, особенно если поток, который вы прерываете владеет какими-либо ресурсами"
   ]
  },
  {
   "cell_type": "code",
   "execution_count": 195,
   "metadata": {},
   "outputs": [
    {
     "data": {
      "text/markdown": [
       "Run: `gcc -fsanitize=thread pthread_cancel.c -lpthread -o pthread_cancel.exe`"
      ],
      "text/plain": [
       "<IPython.core.display.Markdown object>"
      ]
     },
     "metadata": {},
     "output_type": "display_data"
    },
    {
     "data": {
      "text/markdown": [
       "Run: `./pthread_cancel.exe`"
      ],
      "text/plain": [
       "<IPython.core.display.Markdown object>"
      ]
     },
     "metadata": {},
     "output_type": "display_data"
    },
    {
     "name": "stdout",
     "output_type": "stream",
     "text": [
      "22:59:33.672 pthread_cancel.c:38 [tid=6996]: Main func started\n",
      "22:59:33.682 pthread_cancel.c:40 [tid=6996]: Thread creating\n",
      "22:59:33.716 pthread_cancel.c:29 [tid=6998]:   Thread func started\n",
      "22:59:34.716 pthread_cancel.c:43 [tid=6996]: Thread canceling\n",
      "22:59:34.718 pthread_cancel.c:46 [tid=6996]: Thread joined\n",
      "22:59:34.718 pthread_cancel.c:47 [tid=6996]: Main func finished\n"
     ]
    }
   ],
   "source": [
    "%%cpp pthread_cancel.c\n",
    "%run gcc -fsanitize=thread pthread_cancel.c -lpthread -o pthread_cancel.exe\n",
    "%run ./pthread_cancel.exe\n",
    "\n",
    "#include <stdio.h>\n",
    "#include <stdlib.h>\n",
    "#include <unistd.h>\n",
    "#include <sys/types.h>\n",
    "#include <sys/syscall.h>\n",
    "#include <sys/time.h>\n",
    "#include <pthread.h>\n",
    "\n",
    "const char* log_prefix(const char* file, int line) {\n",
    "    struct timeval tp; gettimeofday(&tp, NULL); struct tm ltime; localtime_r(&tp.tv_sec, &ltime);\n",
    "    static __thread char prefix[100]; \n",
    "    size_t time_len = strftime(prefix, sizeof(prefix), \"%H:%M:%S\", &ltime);\n",
    "    sprintf(prefix + time_len, \".%03ld %s:%d [tid=%ld]\", tp.tv_usec / 1000, file, line, syscall(__NR_gettid));\n",
    "    return prefix;\n",
    "}\n",
    "\n",
    "#define log_printf_impl(fmt, ...) { time_t t = time(0); dprintf(2, \"%s: \" fmt \"%s\", log_prefix(__FILE__, __LINE__), __VA_ARGS__); }\n",
    "#define log_printf(...) log_printf_impl(__VA_ARGS__, \"\")\n",
    "\n",
    "// thread-aware assert\n",
    "#define ta_assert(stmt) if (stmt) {} else { log_printf(\"'\" #stmt \"' failed\"); exit(EXIT_FAILURE); }\n",
    "\n",
    "static void* thread_func(void* arg)\n",
    "{\n",
    "    log_printf(\"  Thread func started\\n\");\n",
    "    // В системных функциях разбросаны Cancellation points, в которых может быть прерван поток.\n",
    "    sleep(2);\n",
    "    log_printf(\"  Thread func finished\\n\"); // not printed because thread canceled\n",
    "    return NULL;\n",
    "}\n",
    "\n",
    "int main()\n",
    "{\n",
    "    log_printf(\"Main func started\\n\");\n",
    "    pthread_t thread;\n",
    "    log_printf(\"Thread creating\\n\");\n",
    "    ta_assert(pthread_create(&thread, NULL, thread_func, 0) == 0);\n",
    "    sleep(1);\n",
    "    log_printf(\"Thread canceling\\n\");\n",
    "    ta_assert(pthread_cancel(thread) == 0); // принимает id потока и прерывает его.\n",
    "    ta_assert(pthread_join(thread, NULL) == 0); // Если не сделать join, то останется зомби-поток.\n",
    "    log_printf(\"Thread joined\\n\");\n",
    "    log_printf(\"Main func finished\\n\");\n",
    "    return 0;\n",
    "}"
   ]
  },
  {
   "cell_type": "markdown",
   "metadata": {},
   "source": [
    "По умолчанию pthread_cancel может прерывать поток, только в cancelation points (то есть в функциях, в реализациях которых есть проверка на это). \n",
    "\n",
    "Поэтому, если эти функции не вызывать, то поток не сможет быть прерван.\n",
    "\n",
    "Но можно воспользоваться `pthread_setcanceltype(PTHREAD_CANCEL_ASYNCHRONOUS, NULL);`. Тогда поток может быть прерван на уровне планировщика. (То есть поток скорее всего доработает текущий выделенный квант времени, но на следующий квант уже не запустится)"
   ]
  },
  {
   "cell_type": "code",
   "execution_count": 194,
   "metadata": {},
   "outputs": [
    {
     "data": {
      "text/markdown": [
       "Run: `gcc -fsanitize=thread pthread_cancel_fail.c -lpthread -o pthread_cancel_fail.exe`"
      ],
      "text/plain": [
       "<IPython.core.display.Markdown object>"
      ]
     },
     "metadata": {},
     "output_type": "display_data"
    },
    {
     "data": {
      "text/markdown": [
       "Run: `timeout 3 ./pthread_cancel_fail.exe  # will fail (cancelation at cancelation points)`"
      ],
      "text/plain": [
       "<IPython.core.display.Markdown object>"
      ]
     },
     "metadata": {},
     "output_type": "display_data"
    },
    {
     "name": "stdout",
     "output_type": "stream",
     "text": [
      "22:59:09.845 pthread_cancel_fail.c:44 [tid=6975]: Main func started\n",
      "22:59:09.866 pthread_cancel_fail.c:46 [tid=6975]: Thread creating\n",
      "22:59:10.300 pthread_cancel_fail.c:32 [tid=6977]:   Thread func started\n",
      "22:59:11.316 pthread_cancel_fail.c:49 [tid=6975]: Thread canceling\n",
      "22:59:11.317 pthread_cancel_fail.c:51 [tid=6975]: Thread joining\n"
     ]
    },
    {
     "data": {
      "text/markdown": [
       "Run: `gcc -fsanitize=thread  -DASYNC_CANCEL pthread_cancel_fail.c -lpthread -o pthread_cancel_fail.exe`"
      ],
      "text/plain": [
       "<IPython.core.display.Markdown object>"
      ]
     },
     "metadata": {},
     "output_type": "display_data"
    },
    {
     "data": {
      "text/markdown": [
       "Run: `timeout 3 ./pthread_cancel_fail.exe  # ok, async cancelation`"
      ],
      "text/plain": [
       "<IPython.core.display.Markdown object>"
      ]
     },
     "metadata": {},
     "output_type": "display_data"
    },
    {
     "name": "stdout",
     "output_type": "stream",
     "text": [
      "22:59:14.397 pthread_cancel_fail.c:44 [tid=6986]: Main func started\n",
      "22:59:14.400 pthread_cancel_fail.c:46 [tid=6986]: Thread creating\n",
      "22:59:14.406 pthread_cancel_fail.c:32 [tid=6988]:   Thread func started\n",
      "22:59:15.417 pthread_cancel_fail.c:49 [tid=6986]: Thread canceling\n",
      "22:59:15.418 pthread_cancel_fail.c:51 [tid=6986]: Thread joining\n",
      "22:59:15.418 pthread_cancel_fail.c:53 [tid=6986]: Thread joined\n",
      "22:59:15.421 pthread_cancel_fail.c:54 [tid=6986]: Main func finished\n"
     ]
    }
   ],
   "source": [
    "%%cpp pthread_cancel_fail.c\n",
    "%run gcc -fsanitize=thread pthread_cancel_fail.c -lpthread -o pthread_cancel_fail.exe\n",
    "%run timeout 3 ./pthread_cancel_fail.exe  # will fail (cancelation at cancelation points)\n",
    "%run gcc -fsanitize=thread  -DASYNC_CANCEL pthread_cancel_fail.c -lpthread -o pthread_cancel_fail.exe\n",
    "%run timeout 3 ./pthread_cancel_fail.exe  # ok, async cancelation\n",
    "\n",
    "#include <stdio.h>\n",
    "#include <stdlib.h>\n",
    "#include <unistd.h>\n",
    "#include <sys/types.h>\n",
    "#include <sys/syscall.h>\n",
    "#include <sys/time.h>\n",
    "#include <pthread.h>\n",
    "\n",
    "const char* log_prefix(const char* file, int line) {\n",
    "    struct timeval tp; gettimeofday(&tp, NULL); struct tm ltime; localtime_r(&tp.tv_sec, &ltime);\n",
    "    static __thread char prefix[100]; \n",
    "    size_t time_len = strftime(prefix, sizeof(prefix), \"%H:%M:%S\", &ltime);\n",
    "    sprintf(prefix + time_len, \".%03ld %s:%d [tid=%ld]\", tp.tv_usec / 1000, file, line, syscall(__NR_gettid));\n",
    "    return prefix;\n",
    "}\n",
    "\n",
    "#define log_printf_impl(fmt, ...) { time_t t = time(0); dprintf(2, \"%s: \" fmt \"%s\", log_prefix(__FILE__, __LINE__), __VA_ARGS__); }\n",
    "#define log_printf(...) log_printf_impl(__VA_ARGS__, \"\")\n",
    "\n",
    "// thread-aware assert\n",
    "#define ta_assert(stmt) if (stmt) {} else { log_printf(\"'\" #stmt \"' failed\"); exit(EXIT_FAILURE); }\n",
    "\n",
    "static void *\n",
    "thread_func(void *arg)\n",
    "{\n",
    "    log_printf(\"  Thread func started\\n\");\n",
    "    #ifdef ASYNC_CANCEL\n",
    "    ta_assert(pthread_setcanceltype(PTHREAD_CANCEL_ASYNCHRONOUS, NULL) == 0); // Включаем более жесткий способ остановки потока\n",
    "    #endif\n",
    "    // Без опции ASYNC_CANCEL поток не может быть остановлен во время своей работы.\n",
    "    while (1); // зависаем тут. В процессе явно не будет cancelation points\n",
    "    log_printf(\"  Thread func finished\\n\"); \n",
    "    return NULL;\n",
    "}\n",
    "\n",
    "int main()\n",
    "{\n",
    "    log_printf(\"Main func started\\n\");\n",
    "    pthread_t thread;\n",
    "    log_printf(\"Thread creating\\n\");\n",
    "    ta_assert(pthread_create(&thread, NULL, thread_func, 0) == 0);\n",
    "    sleep(1);\n",
    "    log_printf(\"Thread canceling\\n\");\n",
    "    ta_assert(pthread_cancel(thread) == 0);\n",
    "    log_printf(\"Thread joining\\n\");\n",
    "    ta_assert(pthread_join(thread, NULL) == 0);\n",
    "    log_printf(\"Thread joined\\n\");\n",
    "    log_printf(\"Main func finished\\n\");\n",
    "    return 0;\n",
    "}"
   ]
  },
  {
   "cell_type": "code",
   "execution_count": null,
   "metadata": {},
   "outputs": [],
   "source": []
  },
  {
   "cell_type": "markdown",
   "metadata": {},
   "source": [
    "## А можно ли приджойнить основной поток?"
   ]
  },
  {
   "cell_type": "code",
   "execution_count": 193,
   "metadata": {},
   "outputs": [
    {
     "data": {
      "text/markdown": [
       "Run: `gcc join_main_thread.c -lpthread -o join_main_thread.exe`"
      ],
      "text/plain": [
       "<IPython.core.display.Markdown object>"
      ]
     },
     "metadata": {},
     "output_type": "display_data"
    },
    {
     "data": {
      "text/markdown": [
       "Run: `timeout 3 ./join_main_thread.exe ; echo \"Exit code: $?\"`"
      ],
      "text/plain": [
       "<IPython.core.display.Markdown object>"
      ]
     },
     "metadata": {},
     "output_type": "display_data"
    },
    {
     "name": "stdout",
     "output_type": "stream",
     "text": [
      "22:58:43.802 join_main_thread.c:46 [tid=6952]: Main func started\r\n",
      "22:58:43.806 join_main_thread.c:50 [tid=6952]: Thread creating\r\n",
      "22:58:43.806 join_main_thread.c:33 [tid=6953]:   Thread func started\r\n",
      "22:58:43.806 join_main_thread.c:35 [tid=6953]:   Main thread joining\r\n",
      "22:58:43.806 join_main_thread.c:37 [tid=6953]:   Main thread joined\r\n",
      "22:58:43.806 join_main_thread.c:39 [tid=6953]:   Thread func finished\r\n",
      "Exit code: 42\r\n"
     ]
    },
    {
     "data": {
      "text/markdown": [
       "Run: `gcc -fsanitize=thread join_main_thread.c -lpthread -o join_main_thread.exe`"
      ],
      "text/plain": [
       "<IPython.core.display.Markdown object>"
      ]
     },
     "metadata": {},
     "output_type": "display_data"
    },
    {
     "data": {
      "text/markdown": [
       "Run: `timeout 3 ./join_main_thread.exe ; echo \"Exit code: $?\"`"
      ],
      "text/plain": [
       "<IPython.core.display.Markdown object>"
      ]
     },
     "metadata": {},
     "output_type": "display_data"
    },
    {
     "name": "stdout",
     "output_type": "stream",
     "text": [
      "22:58:45.154 join_main_thread.c:46 [tid=6962]: Main func started\r\n",
      "22:58:45.154 join_main_thread.c:50 [tid=6962]: Thread creating\r\n",
      "22:58:45.179 join_main_thread.c:33 [tid=6964]:   Thread func started\r\n",
      "22:58:45.179 join_main_thread.c:35 [tid=6964]:   Main thread joining\r\n",
      "FATAL: ThreadSanitizer CHECK failed: ../../../../src/libsanitizer/tsan/tsan_rtl_thread.cc:302 \"((tid)) < ((kMaxTid))\" (0xffffffffffffffff, 0x1fc0)\r\n",
      "    #0 <null> <null> (libtsan.so.0+0x838bf)\r\n",
      "    #1 <null> <null> (libtsan.so.0+0x9f539)\r\n",
      "    #2 <null> <null> (libtsan.so.0+0x87acd)\r\n",
      "    #3 <null> <null> (libtsan.so.0+0x4cc06)\r\n",
      "    #4 <null> <null> (join_main_thread.exe+0x400e34)\r\n",
      "    #5 <null> <null> (libtsan.so.0+0x2970d)\r\n",
      "    #6 <null> <null> (libpthread.so.0+0x76b9)\r\n",
      "    #7 <null> <null> (libc.so.6+0x10741c)\r\n",
      "\r\n",
      "Exit code: 66\r\n"
     ]
    }
   ],
   "source": [
    "%%cpp join_main_thread.c\n",
    "%run gcc join_main_thread.c -lpthread -o join_main_thread.exe\n",
    "%run timeout 3 ./join_main_thread.exe ; echo \"Exit code: $?\"\n",
    "%run gcc -fsanitize=thread join_main_thread.c -lpthread -o join_main_thread.exe\n",
    "%run timeout 3 ./join_main_thread.exe ; echo \"Exit code: $?\"\n",
    "\n",
    "#include <stdio.h>\n",
    "#include <stdlib.h>\n",
    "#include <unistd.h>\n",
    "#include <sys/types.h>\n",
    "#include <sys/syscall.h>\n",
    "#include <sys/time.h>\n",
    "#include <pthread.h>\n",
    "\n",
    "const char* log_prefix(const char* file, int line) {\n",
    "    struct timeval tp; gettimeofday(&tp, NULL); struct tm ltime; localtime_r(&tp.tv_sec, &ltime);\n",
    "    static __thread char prefix[100]; \n",
    "    size_t time_len = strftime(prefix, sizeof(prefix), \"%H:%M:%S\", &ltime);\n",
    "    sprintf(prefix + time_len, \".%03ld %s:%d [tid=%ld]\", tp.tv_usec / 1000, file, line, syscall(__NR_gettid));\n",
    "    return prefix;\n",
    "}\n",
    "\n",
    "#define log_printf_impl(fmt, ...) { time_t t = time(0); dprintf(2, \"%s: \" fmt \"%s\", log_prefix(__FILE__, __LINE__), __VA_ARGS__); }\n",
    "#define log_printf(...) log_printf_impl(__VA_ARGS__, \"\")\n",
    "\n",
    "// thread-aware assert\n",
    "#define ta_assert(stmt) if (stmt) {} else { log_printf(\"'\" #stmt \"' failed\"); exit(EXIT_FAILURE); }\n",
    "\n",
    "pthread_t main_thread;\n",
    "\n",
    "static void* thread_func(void* arg)\n",
    "{\n",
    "    log_printf(\"  Thread func started\\n\");\n",
    "  \n",
    "    log_printf(\"  Main thread joining\\n\");\n",
    "    ta_assert(pthread_join(main_thread, NULL) == 0);\n",
    "    log_printf(\"  Main thread joined\\n\");\n",
    "\n",
    "    log_printf(\"  Thread func finished\\n\");\n",
    "\n",
    "    _exit(42);\n",
    "}\n",
    "\n",
    "int main()\n",
    "{\n",
    "    log_printf(\"Main func started\\n\");\n",
    "    main_thread = pthread_self();\n",
    "    \n",
    "    pthread_t thread;\n",
    "    log_printf(\"Thread creating\\n\");\n",
    "    ta_assert(pthread_create(&thread, NULL, thread_func, 0) == 0);\n",
    "    \n",
    "    pthread_exit(NULL);\n",
    "}"
   ]
  },
  {
   "cell_type": "markdown",
   "metadata": {},
   "source": [
    "Без санитайзера можно, с санитайзером - нет. Не знаю есть ли тут какое-то принципиальное нарушение, но не надо так делать)"
   ]
  },
  {
   "cell_type": "code",
   "execution_count": null,
   "metadata": {},
   "outputs": [],
   "source": []
  },
  {
   "cell_type": "markdown",
   "metadata": {},
   "source": [
    "# <a name=\"pthread_attr\"></a> Атрибуты потока\n",
    "\n",
    "* Размер стека\n",
    "* Местоположение стека\n",
    "* Размер защитной области после стека. Вот тут можно прокомментировать: это область ниже стека, которая является дырой в виртуальном адресном пространстве программы. То есть при попытке обращения к этой области произойдет segfault. Для чего необходима защитная область? Чтобы при переполнении стека получать segfault, а не неотлавливаемый проезд по памяти.\n",
    "\n",
    "\n",
    "В следующем примере создадим поток двумя способами. С параметрами по умолчанию и указав минимальный размер стека. И посмотрим на потребления памяти. \n",
    "\n",
    "(Да, потреблениЯ. Там все не так просто, как кажется на первый взгляд :). Загляните в `/proc/<pid>/status`)"
   ]
  },
  {
   "cell_type": "code",
   "execution_count": 189,
   "metadata": {},
   "outputs": [
    {
     "data": {
      "text/markdown": [
       "Run: `gcc -fsanitize=thread pthread_stack_size.c -lpthread -o pthread_stack_size.exe`"
      ],
      "text/plain": [
       "<IPython.core.display.Markdown object>"
      ]
     },
     "metadata": {},
     "output_type": "display_data"
    },
    {
     "data": {
      "text/markdown": [
       "Run: `./pthread_stack_size.exe`"
      ],
      "text/plain": [
       "<IPython.core.display.Markdown object>"
      ]
     },
     "metadata": {},
     "output_type": "display_data"
    },
    {
     "name": "stdout",
     "output_type": "stream",
     "text": [
      "22:56:49.532 pthread_stack_size.c:86 [tid=6855]: Main func started. Initial RSS = 12584kb, initial VM usage = 37580989492kb\n",
      "22:56:49.534 pthread_stack_size.c:93 [tid=6855]: Thread creating\n",
      "22:56:49.546 pthread_stack_size.c:75 [tid=6861]:   Thread func started\n",
      "22:56:50.547 pthread_stack_size.c:99 [tid=6855]: Thread working. RSS = 14272kb, delta RSS = 1688kb\n",
      "22:56:50.696 pthread_stack_size.c:101 [tid=6855]: Thread working. VM size = 37581000420kb, VM delta size = 10928kb (!)\n",
      "22:56:51.547 pthread_stack_size.c:77 [tid=6861]:   Thread func finished\n",
      "22:56:51.548 pthread_stack_size.c:104 [tid=6855]: Thread joined\n",
      "22:56:51.549 pthread_stack_size.c:105 [tid=6855]: Main func finished\n"
     ]
    },
    {
     "data": {
      "text/markdown": [
       "Run: `gcc -fsanitize=thread -DMY_STACK_SIZE=16384 pthread_stack_size.c -lpthread -o pthread_stack_size.exe`"
      ],
      "text/plain": [
       "<IPython.core.display.Markdown object>"
      ]
     },
     "metadata": {},
     "output_type": "display_data"
    },
    {
     "data": {
      "text/markdown": [
       "Run: `./pthread_stack_size.exe`"
      ],
      "text/plain": [
       "<IPython.core.display.Markdown object>"
      ]
     },
     "metadata": {},
     "output_type": "display_data"
    },
    {
     "name": "stdout",
     "output_type": "stream",
     "text": [
      "22:56:54.562 pthread_stack_size.c:86 [tid=6875]: Main func started. Initial RSS = 12564kb, initial VM usage = 37580989492kb\n",
      "22:56:54.562 pthread_stack_size.c:93 [tid=6875]: Thread creating\n",
      "22:56:54.606 pthread_stack_size.c:75 [tid=6881]:   Thread func started\n",
      "22:56:55.606 pthread_stack_size.c:99 [tid=6875]: Thread working. RSS = 14192kb, delta RSS = 1628kb\n",
      "22:56:55.714 pthread_stack_size.c:101 [tid=6875]: Thread working. VM size = 37580992612kb, VM delta size = 3120kb (!)\n",
      "22:56:56.606 pthread_stack_size.c:77 [tid=6881]:   Thread func finished\n",
      "22:56:56.607 pthread_stack_size.c:104 [tid=6875]: Thread joined\n",
      "22:56:56.607 pthread_stack_size.c:105 [tid=6875]: Main func finished\n"
     ]
    },
    {
     "data": {
      "text/markdown": [
       "Run: `# Во второй раз (VM delta size) не 16кб потому что имеются накладные расходы.`"
      ],
      "text/plain": [
       "<IPython.core.display.Markdown object>"
      ]
     },
     "metadata": {},
     "output_type": "display_data"
    }
   ],
   "source": [
    "%%cpp pthread_stack_size.c\n",
    "%run gcc -fsanitize=thread pthread_stack_size.c -lpthread -o pthread_stack_size.exe\n",
    "%run ./pthread_stack_size.exe \n",
    "%run gcc -fsanitize=thread -DMY_STACK_SIZE=16384 pthread_stack_size.c -lpthread -o pthread_stack_size.exe\n",
    "%run ./pthread_stack_size.exe \n",
    "%run # Во второй раз (VM delta size) не 16кб потому что имеются накладные расходы.\n",
    "\n",
    "#include <stdio.h>\n",
    "#include <stdlib.h>\n",
    "#include <unistd.h>\n",
    "#include <sys/types.h>\n",
    "#include <sys/resource.h>\n",
    "#include <sys/syscall.h>\n",
    "#include <sys/time.h>\n",
    "#include <pthread.h>\n",
    "\n",
    "const char* log_prefix(const char* file, int line) {\n",
    "    struct timeval tp; gettimeofday(&tp, NULL); struct tm ltime; localtime_r(&tp.tv_sec, &ltime);\n",
    "    static __thread char prefix[100]; \n",
    "    size_t time_len = strftime(prefix, sizeof(prefix), \"%H:%M:%S\", &ltime);\n",
    "    sprintf(prefix + time_len, \".%03ld %s:%d [tid=%ld]\", tp.tv_usec / 1000, file, line, syscall(__NR_gettid));\n",
    "    return prefix;\n",
    "}\n",
    "\n",
    "#define log_printf_impl(fmt, ...) { time_t t = time(0); dprintf(2, \"%s: \" fmt \"%s\", log_prefix(__FILE__, __LINE__), __VA_ARGS__); }\n",
    "#define log_printf(...) log_printf_impl(__VA_ARGS__, \"\")\n",
    "\n",
    "// thread-aware assert\n",
    "#define ta_assert(stmt) if (stmt) {} else { log_printf(\"'\" #stmt \"' failed\"); exit(EXIT_FAILURE); }\n",
    "\n",
    "long int get_maxrss() {\n",
    "    struct rusage usage;\n",
    "    ta_assert(getrusage(RUSAGE_SELF, &usage) == 0);\n",
    "    return usage.ru_maxrss;\n",
    "}\n",
    "\n",
    "const char* run_and_get_output(const char* bash_cmd) {\n",
    "    int fds[2];\n",
    "    pipe(fds);\n",
    "    int pid = fork();\n",
    "    if (pid == 0) {\n",
    "        dup2(fds[1], 1);\n",
    "        close(fds[0]); close(fds[1]);\n",
    "        execlp(\"bash\", \"bash\", \"-c\", bash_cmd, NULL);\n",
    "        ta_assert(0 && \"unreachable\");\n",
    "    }\n",
    "    close(fds[1]);\n",
    "    static __thread char buffer[100];\n",
    "    int size = 0, rd = 0;\n",
    "    while ((rd = read(fds[0], buffer, sizeof(buffer) - size)) != 0) {\n",
    "        if (rd > 0) {\n",
    "            size += rd;\n",
    "        }\n",
    "    }\n",
    "    buffer[size] = 0;\n",
    "    return buffer;\n",
    "}\n",
    "\n",
    "long int get_vm_usage() {  \n",
    "    char cmd1[10000];\n",
    "    sprintf(cmd1, \"cat /proc/%d/status | grep VmData\", getpid());\n",
    "    const char* vm_usage_s = run_and_get_output(cmd1);\n",
    "    long int vm_usage;\n",
    "    sscanf(vm_usage_s, \"VmData: %ld kB\", &vm_usage);\n",
    "    return vm_usage;\n",
    "}\n",
    "\n",
    "static void *\n",
    "thread_func(void *arg)\n",
    "{\n",
    "//     int a[800000];\n",
    "//     for (int i = 0; i < sizeof(a) / sizeof(int); ++i) {\n",
    "//         a[i] = i;\n",
    "//     }   \n",
    "    log_printf(\"  Thread func started\\n\");\n",
    "    sleep(2);\n",
    "    log_printf(\"  Thread func finished\\n\"); \n",
    "    return NULL;\n",
    "}\n",
    "\n",
    "int main()\n",
    "{\n",
    "    long int initial_rss = get_maxrss();\n",
    "    long int initial_vm_size = get_vm_usage();\n",
    "    log_printf(\"Main func started. Initial RSS = %ldkb, initial VM usage = %ldkb\\n\", \n",
    "               initial_rss, initial_vm_size);\n",
    "    pthread_t thread;\n",
    "    pthread_attr_t thread_attr; \n",
    "    ta_assert(pthread_attr_init(&thread_attr) == 0); // Атрибуты нужно инициализировать\n",
    "    #ifdef MY_STACK_SIZE\n",
    "    ta_assert(pthread_attr_setstacksize(&thread_attr, MY_STACK_SIZE) == 0); // В структуру сохраняем размер стека\n",
    "    #endif\n",
    "    log_printf(\"Thread creating\\n\");\n",
    "    ta_assert(pthread_create(&thread, &thread_attr, thread_func, 0) == 0);\n",
    "    ta_assert(pthread_attr_destroy(&thread_attr) == 0); // И уничтожить\n",
    "    sleep(1);\n",
    "    \n",
    "    log_printf(\"Thread working. RSS = %ldkb, delta RSS = %ldkb\\n\", \n",
    "               get_maxrss(), get_maxrss() - initial_rss);\n",
    "    log_printf(\"Thread working. VM size = %ldkb, VM delta size = %ldkb (!)\\n\", \n",
    "               get_vm_usage(), get_vm_usage() - initial_vm_size); \n",
    "    \n",
    "    ta_assert(pthread_join(thread, NULL) == 0);\n",
    "    log_printf(\"Thread joined\\n\");\n",
    "    log_printf(\"Main func finished\\n\");\n",
    "    return 0;\n",
    "}"
   ]
  },
  {
   "cell_type": "code",
   "execution_count": null,
   "metadata": {},
   "outputs": [],
   "source": []
  },
  {
   "cell_type": "code",
   "execution_count": null,
   "metadata": {},
   "outputs": [],
   "source": []
  },
  {
   "cell_type": "code",
   "execution_count": null,
   "metadata": {},
   "outputs": [],
   "source": []
  },
  {
   "cell_type": "markdown",
   "metadata": {},
   "source": [
    "# <a name=\"coro\"></a> Coroutines\n",
    "\n",
    "Корутины -- это потоки внутри одного юзерспейса. То есть, это потоки внутри потока.\n",
    "Для этого используется программный (реализованный в коде пользователя), а не системный scheduler.\n",
    "\n",
    "Файберы (=корутины, =потоки в юзерспейсе):\n",
    "<br>`+` Известно, когда может быть вызвано переключение контекста. Файберы работающие внутри одного потока могут не пользоваться межпоточной синхронизацией при общении друг с другом.\n",
    "<br>`+` Низкие затраты на переключение контекста. Это очень эффективно, если есть много потоков перекладывающих друг другу данные.\n",
    "<br>`+` ...\n",
    "<br>`-` Привязанность к фреймворку. Нельзя использовать блокирующие вызовы не через этот фреймворк.\n",
    "<br>`-` Нельзя подключиться к процессу с помощью gdb и посмотреть на все потоки. \n",
    "<br>`-` ..."
   ]
  },
  {
   "cell_type": "code",
   "execution_count": 120,
   "metadata": {},
   "outputs": [
    {
     "name": "stdout",
     "output_type": "stream",
     "text": [
      "Cloning into 'libtask'...\n",
      "remote: Enumerating objects: 143, done.\u001b[K\n",
      "remote: Total 143 (delta 0), reused 0 (delta 0), pack-reused 143\u001b[K\n",
      "Receiving objects: 100% (143/143), 43.33 KiB | 0 bytes/s, done.\n",
      "Resolving deltas: 100% (90/90), done.\n",
      "Checking connectivity... done.\n",
      "gcc -c asm.S\n",
      "gcc -Wall -Wextra -c -I. -ggdb channel.c\n",
      "gcc -Wall -Wextra -c -I. -ggdb context.c\n",
      "gcc -Wall -Wextra -c -I. -ggdb fd.c\n",
      "gcc -Wall -Wextra -c -I. -ggdb net.c\n",
      "gcc -Wall -Wextra -c -I. -ggdb print.c\n",
      "gcc -Wall -Wextra -c -I. -ggdb qlock.c\n",
      "gcc -Wall -Wextra -c -I. -ggdb rendez.c\n",
      "gcc -Wall -Wextra -c -I. -ggdb task.c\n",
      "gcc -Wall -Wextra -c -I. -ggdb ip.c\n",
      "ar rvc libtask.a asm.o channel.o context.o fd.o net.o print.o qlock.o rendez.o task.o ip.o \n",
      "a - asm.o\n",
      "a - channel.o\n",
      "a - context.o\n",
      "a - fd.o\n",
      "a - net.o\n",
      "a - print.o\n",
      "a - qlock.o\n",
      "a - rendez.o\n",
      "a - task.o\n",
      "a - ip.o\n",
      "gcc -Wall -Wextra -c -I. -ggdb echo.c\n",
      "gcc -o echo echo.o libtask.a\n",
      "gcc -Wall -Wextra -c -I. -ggdb httpload.c\n",
      "gcc -o httpload httpload.o libtask.a\n",
      "gcc -Wall -Wextra -c -I. -ggdb primes.c\n",
      "gcc -o primes primes.o libtask.a\n",
      "gcc -Wall -Wextra -c -I. -ggdb tcpload.c\n",
      "gcc -o tcpload tcpload.o libtask.a\n",
      "gcc -Wall -Wextra -c -I. -ggdb tcpproxy.c\n",
      "gcc -o tcpproxy tcpproxy.o libtask.a \n",
      "gcc -Wall -Wextra -c -I. -ggdb testdelay.c\n",
      "gcc -o testdelay testdelay.o libtask.a\n"
     ]
    }
   ],
   "source": [
    "!rm -rf ./libtask\n",
    "!git clone git@github.com:0intro/libtask.git\n",
    "!cd libtask && make "
   ]
  },
  {
   "cell_type": "code",
   "execution_count": 133,
   "metadata": {},
   "outputs": [
    {
     "data": {
      "text/markdown": [
       "Run: `gcc -I ./libtask coro.cpp ./libtask/libtask.a -lpthread -o coro.exe`"
      ],
      "text/plain": [
       "<IPython.core.display.Markdown object>"
      ]
     },
     "metadata": {},
     "output_type": "display_data"
    },
    {
     "data": {
      "text/markdown": [
       "Run: `./coro.exe 300 100 200 1000`"
      ],
      "text/plain": [
       "<IPython.core.display.Markdown object>"
      ]
     },
     "metadata": {},
     "output_type": "display_data"
    },
    {
     "name": "stdout",
     "output_type": "stream",
     "text": [
      "00:32:26.848 [tid=3565]: Schedule 300ms task\n",
      "00:32:26.849 [tid=3565]: Schedule 100ms task\n",
      "00:32:26.849 [tid=3565]: Schedule 200ms task\n",
      "00:32:26.849 [tid=3565]: Schedule 1000ms task\n",
      "00:32:26.849 [tid=3565]: Some task is finished\n",
      "00:32:26.950 [tid=3565]: Task 100ms is launched\n",
      "00:32:26.950 [tid=3565]: Some task is finished\n",
      "00:32:27.049 [tid=3565]: Task 200ms is launched\n",
      "00:32:27.050 [tid=3565]: Some task is finished\n",
      "00:32:27.149 [tid=3565]: Task 300ms is launched\n",
      "00:32:27.150 [tid=3565]: Some task is finished\n",
      "00:32:27.849 [tid=3565]: Task 1000ms is launched\n"
     ]
    }
   ],
   "source": [
    "%%cpp coro.cpp\n",
    "%run gcc -I ./libtask coro.cpp ./libtask/libtask.a -lpthread -o coro.exe\n",
    "%run ./coro.exe 300 100 200 1000\n",
    "\n",
    "#include <stdio.h>\n",
    "#include <stdlib.h>\n",
    "#include <unistd.h>\n",
    "#include <sys/types.h>\n",
    "#include <sys/syscall.h>\n",
    "#include <sys/time.h>\n",
    "#include <pthread.h>\n",
    "#include <string.h>\n",
    "#include <errno.h>\n",
    "#include <task.h>\n",
    "\n",
    "\n",
    "const char* log_prefix() {\n",
    "    struct timeval tp; gettimeofday(&tp, NULL);\n",
    "    static __thread char prefix[100];\n",
    "    size_t time_len = strftime(prefix, sizeof(prefix), \"%H:%M:%S\", localtime(&tp.tv_sec));\n",
    "    sprintf(prefix + time_len, \".%03ld [tid=%ld]\", tp.tv_usec / 1000, syscall(__NR_gettid));\n",
    "    return prefix;\n",
    "}\n",
    "\n",
    "#define log_printf_impl(fmt, ...) { time_t t = time(0); dprintf(2, \"%s: \" fmt \"%s\", log_prefix(), __VA_ARGS__); }\n",
    "#define log_printf(...) log_printf_impl(__VA_ARGS__, \"\")\n",
    "\n",
    "// thread-aware assert\n",
    "#define ta_assert(stmt) if (stmt) {} else { log_printf(\"'\" #stmt \"' failed\"); exit(EXIT_FAILURE); }\n",
    "\n",
    "\n",
    "const int STACK_SIZE = 32768;\n",
    "\n",
    "Channel *c;\n",
    "\n",
    "void delaytask(void *v)\n",
    "{\n",
    "    int ms = *(int*)(void*)&v;\n",
    "    taskdelay(ms);\n",
    "    log_printf(\"Task %dms is launched\\n\", ms);\n",
    "    chansendul(c, 0);\n",
    "}\n",
    "\n",
    "void taskmain(int argc, char **argv)\n",
    "{    \n",
    "    c = chancreate(sizeof(unsigned long), 0);\n",
    "\n",
    "    for(int i = 1; i < argc; i++){\n",
    "        int ms = atoi(argv[i]);\n",
    "        log_printf(\"Schedule %dms task\\n\", ms);\n",
    "        taskcreate(delaytask, *(void**)&ms, STACK_SIZE);\n",
    "    }\n",
    "    \n",
    "    int a = 1;\n",
    "    // a == 1\n",
    "\n",
    "    for(int i = 1; i < argc; i++){\n",
    "        log_printf(\"Some task is finished\\n\");\n",
    "        chanrecvul(c);\n",
    "    }\n",
    "    taskexitall(0);\n",
    "}"
   ]
  },
  {
   "cell_type": "code",
   "execution_count": null,
   "metadata": {},
   "outputs": [],
   "source": []
  },
  {
   "cell_type": "markdown",
   "metadata": {},
   "source": [
    "# <a name=\"hw\"></a> Комментарии к ДЗ\n",
    "\n",
    "* "
   ]
  },
  {
   "cell_type": "code",
   "execution_count": null,
   "metadata": {},
   "outputs": [],
   "source": []
  },
  {
   "cell_type": "code",
   "execution_count": null,
   "metadata": {},
   "outputs": [],
   "source": []
  },
  {
   "cell_type": "code",
   "execution_count": null,
   "metadata": {},
   "outputs": [],
   "source": []
  },
  {
   "cell_type": "code",
   "execution_count": null,
   "metadata": {},
   "outputs": [],
   "source": []
  }
 ],
 "metadata": {
  "kernelspec": {
   "display_name": "Python 3",
   "language": "python",
   "name": "python3"
  },
  "language_info": {
   "codemirror_mode": {
    "name": "ipython",
    "version": 3
   },
   "file_extension": ".py",
   "mimetype": "text/x-python",
   "name": "python",
   "nbconvert_exporter": "python",
   "pygments_lexer": "ipython3",
   "version": "3.5.2"
  }
 },
 "nbformat": 4,
 "nbformat_minor": 2
}
