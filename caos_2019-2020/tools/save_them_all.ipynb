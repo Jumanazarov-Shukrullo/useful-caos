{
 "cells": [
  {
   "cell_type": "markdown",
   "metadata": {},
   "source": [
    "# <a name=\"how\"></a> Как сделать пулл реквест?\n",
    "\n",
    "0. Выбираем, где хотим провести изменения, в форке репозитория (более предпочтительно, но не принципиально) или в самом репозитории (в этом случае нужно запросить у меня доступ).\n",
    "1. Нужно произвести все желаемые изменения в семинарском ноутбуке. И убедиться, что эти изменения сохранены (юпитер у меня иногда тупит, поэтому жму трижды `ctrl-s` с интервалом около секунды).\n",
    "  <br> Постарайтесь ограничиться минимальными изменениями. Так же убедитесь, что у вас актуальная версия репозитория. (Я сам в недавние ноутбуки могу теоретически каждый день коммитить, а мои изменения затирать не надо :) ).\n",
    "2. Далее в этом ноутбуке (он умеет правильно генерировать `.md` файлы):\n",
    "  <br>A.  <a href=\"#what\" style=\"color:#856024\"> Здесь </a> выбираем семинар(ы), к которому сделали правку. `../tools` выбирать не надо.\n",
    "  <br>B.  <a href=\"#github\" style=\"color:#856024\"> Здесь </a> можно написать свой commit message, если есть желание. Можно оставить как есть. В этом репозитории нет культуры хороших сообщений к коммитам :)\n",
    "  <br>C.  Запускаем этот ноутбук, он сгенерит `.md`-шки и закоммитит изменения на гитхаб.\n",
    "3. Если изменение было в форке, то делаем пулл реквест."
   ]
  },
  {
   "cell_type": "markdown",
   "metadata": {},
   "source": [
    "### <a name=\"what\"></a> Выбираем что коммитить"
   ]
  },
  {
   "cell_type": "code",
   "execution_count": 12,
   "metadata": {
    "scrolled": true
   },
   "outputs": [
    {
     "ename": "SyntaxError",
     "evalue": "invalid character in identifier (<ipython-input-12-f9dbabd7c183>, line 7)",
     "output_type": "error",
     "traceback": [
      "\u001b[0;36m  File \u001b[0;32m\"<ipython-input-12-f9dbabd7c183>\"\u001b[0;36m, line \u001b[0;32m7\u001b[0m\n\u001b[0;31m    №sorted(glob.glob(\"../sem26*\")),\u001b[0m\n\u001b[0m          ^\u001b[0m\n\u001b[0;31mSyntaxError\u001b[0m\u001b[0;31m:\u001b[0m invalid character in identifier\n"
     ]
    }
   ],
   "source": [
    "import glob\n",
    "import os\n",
    "import subprocess\n",
    "\n",
    "highlevel_dirs = sum([\n",
    "    #[\"../tools\"], \n",
    "    #sorted(glob.glob(\"../sem26*\")),\n",
    "    sorted(glob.glob(\"../sem17*\")),\n",
    "], [])\n",
    "\n",
    "print(\"Highlevel dirs:\", highlevel_dirs)"
   ]
  },
  {
   "cell_type": "code",
   "execution_count": 5,
   "metadata": {},
   "outputs": [],
   "source": [
    "tmp_dir = \"./tmp_dir\"\n",
    "get_ipython().system('rm -r {tmp_dir} ; mkdir {tmp_dir} 2>&1 | grep -v \"File exists\"'.format(tmp_dir=tmp_dir))"
   ]
  },
  {
   "cell_type": "markdown",
   "metadata": {},
   "source": [
    "### Генерируем все .md-шки стандартными средствами\n",
    "\\+ Делаем .md-шки очищенные для вывода. По этим .md-шкам можно будет смотреть реальную историю изменений. И дифф при пулреквестах."
   ]
  },
  {
   "cell_type": "code",
   "execution_count": 6,
   "metadata": {},
   "outputs": [
    {
     "name": "stdout",
     "output_type": "stream",
     "text": [
      "../sem26-fs-fuse ['../sem26-fs-fuse/fs_fuse.ipynb']\n",
      "../sem27-python-bindings ['../sem27-python-bindings/bindings.ipynb']\n",
      "jupyter nbconvert ../sem26-fs-fuse/fs_fuse.ipynb --to markdown --output README\n",
      "cp ../sem26-fs-fuse/fs_fuse.ipynb ./tmp_dir/1677796532700934744_fs_fuse.ipynb && jupyter nbconvert ./tmp_dir/1677796532700934744_fs_fuse.ipynb --ClearOutputPreprocessor.enabled=True --inplace && jupyter nbconvert ./tmp_dir/1677796532700934744_fs_fuse.ipynb --to markdown --output 1677796532700934744_fs_fuse.ipynb && cp ./tmp_dir/1677796532700934744_fs_fuse.ipynb.md ../sem26-fs-fuse/README_no_output.md\n",
      "jupyter nbconvert ../sem27-python-bindings/bindings.ipynb --to markdown --output README\n",
      "cp ../sem27-python-bindings/bindings.ipynb ./tmp_dir/1633925075381849959_bindings.ipynb && jupyter nbconvert ./tmp_dir/1633925075381849959_bindings.ipynb --ClearOutputPreprocessor.enabled=True --inplace && jupyter nbconvert ./tmp_dir/1633925075381849959_bindings.ipynb --to markdown --output 1633925075381849959_bindings.ipynb && cp ./tmp_dir/1633925075381849959_bindings.ipynb.md ../sem27-python-bindings/README_no_output.md\n",
      " [NbConvertApp] Converting notebook ../sem26-fs-fuse/fs_fuse.ipynb to markdown\n",
      "[NbConvertApp] Writing 43992 bytes to ../sem26-fs-fuse/README.md\n",
      "\n",
      " [NbConvertApp] Converting notebook ./tmp_dir/1677796532700934744_fs_fuse.ipynb to notebook\n",
      "[NbConvertApp] Writing 39042 bytes to ./tmp_dir/1677796532700934744_fs_fuse.ipynb\n",
      "[NbConvertApp] Converting notebook ./tmp_dir/1677796532700934744_fs_fuse.ipynb to markdown\n",
      "[NbConvertApp] Writing 28445 bytes to ./tmp_dir/1677796532700934744_fs_fuse.ipynb.md\n",
      "\n",
      " [NbConvertApp] Converting notebook ../sem27-python-bindings/bindings.ipynb to markdown\n",
      "[NbConvertApp] Writing 38278 bytes to ../sem27-python-bindings/README.md\n",
      "\n",
      " [NbConvertApp] Converting notebook ./tmp_dir/1633925075381849959_bindings.ipynb to notebook\n",
      "[NbConvertApp] Writing 42981 bytes to ./tmp_dir/1633925075381849959_bindings.ipynb\n",
      "[NbConvertApp] Converting notebook ./tmp_dir/1633925075381849959_bindings.ipynb to markdown\n",
      "[NbConvertApp] Writing 31699 bytes to ./tmp_dir/1633925075381849959_bindings.ipynb.md\n",
      "\n"
     ]
    }
   ],
   "source": [
    "from multiprocessing import Pool\n",
    "\n",
    "tasks = []\n",
    "\n",
    "def convert_tasks(n, d):\n",
    "    no_output_file = d + \"_no_output\"\n",
    "    src_copy = str(abs(hash(n))) + '_' + os.path.basename(n)\n",
    "    path = os.path.dirname(n)\n",
    "    return [\n",
    "        \"jupyter nbconvert {} --to markdown --output {}\".format(n, d),\n",
    "        \" && \".join([\n",
    "            \"cp {src} {tmp_dir}/{src_copy}\",\n",
    "            \"jupyter nbconvert {tmp_dir}/{src_copy} --ClearOutputPreprocessor.enabled=True --inplace\",\n",
    "            \"jupyter nbconvert {tmp_dir}/{src_copy} --to markdown --output {src_copy}\",\n",
    "            \"cp {tmp_dir}/{src_copy}.md {path}/{no_output_file}.md\",\n",
    "        ]).format(src=n, no_output_file=no_output_file, dst=d, tmp_dir=tmp_dir, src_copy=src_copy, path=path),\n",
    "    ]\n",
    "    \n",
    "for subdir in highlevel_dirs:\n",
    "    notebooks = glob.glob(subdir + \"/*.ipynb\")\n",
    "    print(subdir, notebooks)\n",
    "    for m in glob.glob(subdir + \"/*.md\"):\n",
    "        os.remove(m)\n",
    "    if len(notebooks) == 1:\n",
    "        tasks.extend(convert_tasks(notebooks[0], \"README\"))\n",
    "    else:\n",
    "        for n in notebooks:\n",
    "            tasks.extend(convert_tasks(n, os.path.basename(n.replace(\".ipynb\", \"\"))))\n",
    "        nmds = [os.path.basename(n).replace(\".ipynb\", \".md\") for n in notebooks]\n",
    "        with open(os.path.join(subdir, \"README.md\"), \"w\") as f:\n",
    "            f.write('\\n'.join(\n",
    "                ['# Ноутбуки семинара'] + \n",
    "                ['* [{nmd}]({nmd})'.format(nmd=nmd) for nmd in nmds] + \n",
    "                ['']\n",
    "            ))\n",
    "\n",
    "print(\"\\n\".join(tasks))\n",
    "\n",
    "def execute_all_in_parallel(tasks):\n",
    "    ps = []\n",
    "    for t in tasks:\n",
    "        ps.append(subprocess.Popen([\"bash\", \"-c\", t], stdout=subprocess.PIPE, stderr=subprocess.PIPE))\n",
    "    for p in ps:\n",
    "        out, err = p.communicate()\n",
    "        print(out.decode(), err.decode())\n",
    "\n",
    "execute_all_in_parallel(tasks)"
   ]
  },
  {
   "cell_type": "markdown",
   "metadata": {},
   "source": [
    "### Магические исправления\n",
    "\n",
    "Стандартная конвертилка не учитывает некоторых особенностей маркдауна на гитхабе и некоторых особенностей моих ноутбуков. Поэтому результат надо допилить напильником."
   ]
  },
  {
   "cell_type": "code",
   "execution_count": 7,
   "metadata": {},
   "outputs": [],
   "source": [
    "import re\n",
    "\n",
    "\n",
    "def basic_improve(fname):\n",
    "    with open(fname, \"r\") as f:\n",
    "        r = f.read()\n",
    "    for b in [\"\\x00\", \"\\x1B\", \"\\x08\"]:\n",
    "        r = r.replace(b, \"\")\n",
    "    with open(fname, \"w\") as f:\n",
    "        f.write(r)\n",
    "    return \"dos2unix {}\".format(fname)\n",
    "\n",
    "def improve_md(fname):\n",
    "    with open(fname, \"r\") as f:\n",
    "        r = f.read()\n",
    "    r = r.replace(\"```python\\n%%cpp\", \"```cpp\\n%%cpp\")\n",
    "    r = r.replace(\"```python\\n%%cmake\", \"```cmake\\n%%cmake\")\n",
    "    r = r.replace('\\n', \"SUPER_SLASH\" + \"_N_REPLACER\")\n",
    "    \n",
    "    r = re.sub(r'\\<\\!--MD_BEGIN_FILTER--\\>.*?\\<\\!--MD_END_FILTER--\\>', \"\", r)\n",
    "    #r = re.sub(r'(\\#SET_UP_MAGIC_BEGIN.*?\\#SET_UP_MAGIC_END)', \"<too much code>\", r)\n",
    "    r = re.sub(r'\\<\\!\\-\\-\\ YANDEX_METRICA_BEGIN\\ \\-\\-\\>.*\\<\\!\\-\\-\\ YANDEX_METRICA_END\\ \\-\\-\\>', '', r)\n",
    "    \n",
    "    r = r.replace(\"<IPython.core.display.Javascript object>\", '')\n",
    "    r = r.replace(\"SUPER_SLASH\" + \"_N_REPLACER\", '\\n')\n",
    "    \n",
    "    template = \"#\"\"MAGICS_SETUP_END\"\n",
    "    bpos = r.rfind(template)\n",
    "    if bpos != -1:\n",
    "        r = r[bpos + len(template):]\n",
    "        template = \"```\"\n",
    "        bpos = r.find(template)\n",
    "        assert bpos >= 0\n",
    "        r = r[bpos + len(template):]\n",
    "    \n",
    "    \n",
    "    template = \"<\"\"!-- MAGICS_SETUP_PRINTING_END -->\"\n",
    "    bpos = r.rfind(template)\n",
    "    if bpos != -1:\n",
    "        r = r[bpos + len(template):]\n",
    "    \n",
    "    def file_repl(matchobj, path=os.path.dirname(fname)):\n",
    "        fname = os.path.join(path, matchobj.group(1))\n",
    "        if fname.find(\"__FILE__\") == -1:\n",
    "            with open(fname, \"r\") as f:\n",
    "                return \"\\n```\\n\" + f.read() + \"\\n```\\n\"\n",
    "    \n",
    "    r = r.replace(\"</td>\", \"\")\n",
    "    r = r.replace(\"</tr>\", \"\")\n",
    "    \n",
    "    r = re.sub(r'\\<\\!--MD_FROM_FILE (.*?) --\\>', file_repl, r)\n",
    "    with open(fname, \"w\") as f:\n",
    "        f.write(r)\n",
    "        \n",
    "def improve_file(fname):\n",
    "    if fname.endswith(\".md\"):\n",
    "        improve_md(fname)\n"
   ]
  },
  {
   "cell_type": "code",
   "execution_count": 8,
   "metadata": {},
   "outputs": [
    {
     "name": "stdout",
     "output_type": "stream",
     "text": [
      " dos2unix: converting file ./../sem26-fs-fuse/fs_fuse.ipynb to Unix format...\n",
      "\n",
      " dos2unix: converting file ./../sem27-python-bindings/bindings.ipynb to Unix format...\n",
      "\n",
      " dos2unix: converting file ./../sem26-fs-fuse/README.md to Unix format...\n",
      "\n",
      " dos2unix: converting file ./../sem26-fs-fuse/README_no_output.md to Unix format...\n",
      "\n",
      " dos2unix: converting file ./../sem27-python-bindings/README.md to Unix format...\n",
      "\n",
      " dos2unix: converting file ./../sem27-python-bindings/README_no_output.md to Unix format...\n",
      "\n"
     ]
    }
   ],
   "source": [
    "tasks = []\n",
    "shell_tasks = []\n",
    "\n",
    "\n",
    "for sfx in [\".ipynb\", \".md\"]:\n",
    "    for hdir in highlevel_dirs:\n",
    "        for fname in glob.glob(\"./{}/*\".format(hdir) + sfx):\n",
    "            shell_tasks.append(basic_improve(fname))\n",
    "            tasks.append(lambda fname=fname: improve_file(fname))\n",
    "            \n",
    "execute_all_in_parallel(shell_tasks)\n",
    "for t in tasks:\n",
    "    t()"
   ]
  },
  {
   "cell_type": "markdown",
   "metadata": {},
   "source": [
    "### Смотрим изменения"
   ]
  },
  {
   "cell_type": "code",
   "execution_count": 9,
   "metadata": {},
   "outputs": [
    {
     "name": "stdout",
     "output_type": "stream",
     "text": [
      "\u001b[1mdiff --git a/sem26-fs-fuse/README_no_output.md b/sem26-fs-fuse/README_no_output.md\u001b[m\n",
      "\u001b[1mindex eb07774..f7d11e0 100644\u001b[m\n",
      "\u001b[1m--- a/sem26-fs-fuse/README_no_output.md\u001b[m\n",
      "\u001b[1m+++ b/sem26-fs-fuse/README_no_output.md\u001b[m\n",
      "\u001b[36m@@ -192,10 +192,13 @@\u001b[m \u001b[mint main(int argc, char** argv) {\u001b[m\n",
      " \u001b[m\n",
      " ```\u001b[m\n",
      " \u001b[m\n",
      "\u001b[32m+\u001b[m\u001b[32m# FUSE\u001b[m\n",
      " \u001b[m\n",
      "\u001b[31m-```python\u001b[m\n",
      "\u001b[32m+\u001b[m\u001b[32mВажные опции\u001b[m\n",
      "\u001b[32m+\u001b[m\u001b[32m* `-f` - запуск в синхронном режиме (без этой опции будет создан демон, а сама программа почти сразу завершится)\u001b[m\n",
      "\u001b[32m+\u001b[m\u001b[32m* `-s` - запуск в однопоточном режиме.\u001b[m\n",
      " \u001b[m\n",
      "\u001b[31m-```\u001b[m\n",
      "\u001b[32m+\u001b[m\u001b[32mВ этом месте что-нибудь про демонизацию стоит расскзать, наверное.\u001b[m\n",
      " \u001b[m\n",
      " ## <a name=\"fusepy\"></a> Python + fusepy\u001b[m\n",
      " \u001b[m\n",
      "\u001b[1mdiff --git a/sem27-python-bindings/README_no_output.md b/sem27-python-bindings/README_no_output.md\u001b[m\n",
      "\u001b[1mindex 7cd90ce..34ef1b8 100644\u001b[m\n",
      "\u001b[1m--- a/sem27-python-bindings/README_no_output.md\u001b[m\n",
      "\u001b[1m+++ b/sem27-python-bindings/README_no_output.md\u001b[m\n",
      "\u001b[36m@@ -207,7 +207,7 @@\u001b[m \u001b[mstatic PyObject* print_dict(PyObject* self, PyObject* args, PyObject* kwargs) {\u001b[m\n",
      "     printf(\"\\n\");\u001b[m\n",
      "     fflush(stdout);\u001b[m\n",
      " \u001b[m\n",
      "\u001b[31m-    Py_RETURN_NONE;\u001b[m\n",
      "\u001b[32m+\u001b[m\u001b[32m    Py_RETURN_NONE; // Инкрементит счетчик ссылок None и возвращает его\u001b[m\n",
      " }\u001b[m\n",
      " \u001b[m\n",
      " // Список функций модуля\u001b[m\n"
     ]
    }
   ],
   "source": [
    "for subdir in highlevel_dirs:\n",
    "    get_ipython().system(\"git diff {}/*_no_output*\".format(subdir))"
   ]
  },
  {
   "cell_type": "markdown",
   "metadata": {},
   "source": [
    "### <a name=\"github\"></a> Коммитим на github"
   ]
  },
  {
   "cell_type": "code",
   "execution_count": 11,
   "metadata": {
    "scrolled": false
   },
   "outputs": [
    {
     "name": "stdout",
     "output_type": "stream",
     "text": [
      "> git add --ignore-errors  ../sem26-fs-fuse/*.ipynb\n",
      "> git add --ignore-errors  ../sem26-fs-fuse/*.md\n",
      "> git add --ignore-errors  ../sem26-fs-fuse/*.c\n",
      "> git add --ignore-errors  ../sem26-fs-fuse/*.cpp\n",
      "> git add --ignore-errors -f  -f ../sem26-fs-fuse/bash_popen_tmp/*.html\n",
      "warning: could not open directory 'sem26-fs-fuse/bash_popen_tmp/': No such file or directory\n",
      "fatal: pathspec '../sem26-fs-fuse/bash_popen_tmp/*.html' did not match any files\n",
      "> git add --ignore-errors -f  -f ../sem26-fs-fuse/interactive_launcher_tmp/*.log\n",
      "> git add -u ../sem26-fs-fuse\n",
      "> git add --ignore-errors  ../sem27-python-bindings/*.ipynb\n",
      "> git add --ignore-errors  ../sem27-python-bindings/*.md\n",
      "> git add --ignore-errors  ../sem27-python-bindings/*.c\n",
      "> git add --ignore-errors  ../sem27-python-bindings/*.cpp\n",
      "> git add --ignore-errors -f  -f ../sem27-python-bindings/bash_popen_tmp/*.html\n",
      "warning: could not open directory 'sem27-python-bindings/bash_popen_tmp/': No such file or directory\n",
      "fatal: pathspec '../sem27-python-bindings/bash_popen_tmp/*.html' did not match any files\n",
      "> git add --ignore-errors -f  -f ../sem27-python-bindings/interactive_launcher_tmp/*.log\n",
      "warning: could not open directory 'sem27-python-bindings/interactive_launcher_tmp/': No such file or directory\n",
      "fatal: pathspec '../sem27-python-bindings/interactive_launcher_tmp/*.log' did not match any files\n",
      "> git add -u ../sem27-python-bindings\n",
      "> git commit -m 'yet another update'\n",
      "On branch master\n",
      "Your branch is up to date with 'origin/master'.\n",
      "\n",
      "Changes not staged for commit:\n",
      "  (use \"git add <file>...\" to update what will be committed)\n",
      "  (use \"git restore <file>...\" to discard changes in working directory)\n",
      "\t\u001b[31mmodified:   ../sem17-sockets-tcp-udp/sockets-tcp-udp.ipynb\u001b[m\n",
      "\t\u001b[31mmodified:   save_them_all.ipynb\u001b[m\n",
      "\n",
      "Untracked files:\n",
      "  (use \"git add <file>...\" to include in what will be committed)\n",
      "\t\u001b[31m../sem14-fifo-proc/interactive_launcher_tmp/127766679693617464.log.md\u001b[m\n",
      "\t\u001b[31m../sem14-fifo-proc/interactive_launcher_tmp/130144623552729609.log.md\u001b[m\n",
      "\t\u001b[31m../sem14-fifo-proc/interactive_launcher_tmp/131874295726709881.log.md\u001b[m\n",
      "\t\u001b[31m../sem14-fifo-proc/interactive_launcher_tmp/354080172890454133.log.md\u001b[m\n",
      "\t\u001b[31m../sem14-fifo-proc/interactive_launcher_tmp/401914075815381515.log.md\u001b[m\n",
      "\t\u001b[31m../sem14-fifo-proc/interactive_launcher_tmp/52428862673654368.log.md\u001b[m\n",
      "\t\u001b[31m../sem24-http-libcurl-cmake/curl_cmake_example/\u001b[m\n",
      "\t\u001b[31m../sem24-http-libcurl-cmake/interactive_launcher_tmp/278908528095121695.log.md\u001b[m\n",
      "\t\u001b[31m../sem24-http-libcurl-cmake/interactive_launcher_tmp/279871983378398179.log.md\u001b[m\n",
      "\t\u001b[31m../sem24-http-libcurl-cmake/interactive_launcher_tmp/625914360777685168.log.md\u001b[m\n",
      "\t\u001b[31m../sem24-http-libcurl-cmake/interactive_launcher_tmp/825717250500169114.log.md\u001b[m\n",
      "\t\u001b[31m../sem24-http-libcurl-cmake/simple_cmake_example/CMakeLists.txt\u001b[m\n",
      "\t\u001b[31m../sem24-http-libcurl-cmake/webdav_dir/\u001b[m\n",
      "\t\u001b[31m../sem26-fs-fuse/err.txt\u001b[m\n",
      "\t\u001b[31m../sem26-fs-fuse/fuse_c_example/CMake/\u001b[m\n",
      "\t\u001b[31m../sem26-fs-fuse/fuse_c_example/CMakeLists.txt\u001b[m\n",
      "\t\u001b[31m../sem26-fs-fuse/fuse_c_example/build/CMakeCache.txt\u001b[m\n",
      "\t\u001b[31m../sem26-fs-fuse/fuse_c_example/build/CMakeFiles/3.16.3/CMakeCCompiler.cmake\u001b[m\n",
      "\t\u001b[31m../sem26-fs-fuse/fuse_c_example/build/CMakeFiles/3.16.3/CMakeCXXCompiler.cmake\u001b[m\n",
      "\t\u001b[31m../sem26-fs-fuse/fuse_c_example/build/CMakeFiles/3.16.3/CMakeDetermineCompilerABI_C.bin\u001b[m\n",
      "\t\u001b[31m../sem26-fs-fuse/fuse_c_example/build/CMakeFiles/3.16.3/CMakeDetermineCompilerABI_CXX.bin\u001b[m\n",
      "\t\u001b[31m../sem26-fs-fuse/fuse_c_example/build/CMakeFiles/3.16.3/CMakeSystem.cmake\u001b[m\n",
      "\t\u001b[31m../sem26-fs-fuse/fuse_c_example/build/CMakeFiles/3.16.3/CompilerIdC/\u001b[m\n",
      "\t\u001b[31m../sem26-fs-fuse/fuse_c_example/build/CMakeFiles/3.16.3/CompilerIdCXX/a.out\u001b[m\n",
      "\t\u001b[31m../sem26-fs-fuse/fuse_c_example/build/CMakeFiles/CMakeDirectoryInformation.cmake\u001b[m\n",
      "\t\u001b[31m../sem26-fs-fuse/fuse_c_example/build/CMakeFiles/CMakeOutput.log\u001b[m\n",
      "\t\u001b[31m../sem26-fs-fuse/fuse_c_example/build/CMakeFiles/Makefile.cmake\u001b[m\n",
      "\t\u001b[31m../sem26-fs-fuse/fuse_c_example/build/CMakeFiles/Makefile2\u001b[m\n",
      "\t\u001b[31m../sem26-fs-fuse/fuse_c_example/build/CMakeFiles/TargetDirectories.txt\u001b[m\n",
      "\t\u001b[31m../sem26-fs-fuse/fuse_c_example/build/CMakeFiles/cmake.check_cache\u001b[m\n",
      "\t\u001b[31m../sem26-fs-fuse/fuse_c_example/build/CMakeFiles/fuse-example.dir/\u001b[m\n",
      "\t\u001b[31m../sem26-fs-fuse/fuse_c_example/build/CMakeFiles/progress.marks\u001b[m\n",
      "\t\u001b[31m../sem26-fs-fuse/fuse_c_example/build/Makefile\u001b[m\n",
      "\t\u001b[31m../sem26-fs-fuse/fuse_c_example/build/cmake_install.cmake\u001b[m\n",
      "\t\u001b[31m../sem26-fs-fuse/fuse_c_example/build/fuse-example\u001b[m\n",
      "\t\u001b[31m../sem26-fs-fuse/fuse_json.py\u001b[m\n",
      "\t\u001b[31m../sem26-fs-fuse/interactive_launcher_tmp/286997408202756564.log.md\u001b[m\n",
      "\t\u001b[31m../sem26-fs-fuse/interactive_launcher_tmp/470231275623214705.log.md\u001b[m\n",
      "\t\u001b[31m../sem26-fs-fuse/interactive_launcher_tmp/576155038309430211.log.md\u001b[m\n",
      "\t\u001b[31m../sem26-fs-fuse/interactive_launcher_tmp/634529996390274655.log.md\u001b[m\n",
      "\t\u001b[31m../sem26-fs-fuse/interactive_launcher_tmp/74592816055267592.log.md\u001b[m\n",
      "\t\u001b[31m../sem26-fs-fuse/interactive_launcher_tmp/758593138878100872.log.md\u001b[m\n",
      "\t\u001b[31m../sem26-fs-fuse/interactive_launcher_tmp/861048178809047391.log.md\u001b[m\n",
      "\t\u001b[31m../sem26-fs-fuse/new_line\u001b[m\n",
      "\t\u001b[31m../sem26-fs-fuse/with_fuse_1.cmake\u001b[m\n",
      "\t\u001b[31m../sem26-fs-fuse/with_fuse_2.cmake\u001b[m\n",
      "\t\u001b[31m../sem27-python-bindings/api_module_example.py\u001b[m\n",
      "\t\u001b[31m../sem27-python-bindings/c_api_module_2_example.py\u001b[m\n",
      "\t\u001b[31m../sem27-python-bindings/count_1e8_cython.py\u001b[m\n",
      "\t\u001b[31m../sem27-python-bindings/count_1e8_native.py\u001b[m\n",
      "\t\u001b[31m../sem27-python-bindings/ctypes_example.py\u001b[m\n",
      "\t\u001b[31m../sem27-python-bindings/cython_setup.py\u001b[m\n",
      "\t\u001b[31m../sem27-python-bindings/pairs.h\u001b[m\n",
      "\t\u001b[31m../sem27-python-bindings/pairs.pxd\u001b[m\n",
      "\t\u001b[31m../sem27-python-bindings/pairs.pyx\u001b[m\n",
      "\t\u001b[31m../sem27-python-bindings/pybind_setup.py\u001b[m\n",
      "\t\u001b[31m../sem27-python-bindings/test_pairs.py\u001b[m\n",
      "\t\u001b[31m../sem27-python-bindings/test_pybind_pairs.py\u001b[m\n",
      "\t\u001b[31ma.py\u001b[m\n",
      "\t\u001b[31minteractive_launcher_tmp/341853987367548759.log.md\u001b[m\n",
      "\t\u001b[31minteractive_launcher_tmp/937518918408435731.log.md\u001b[m\n",
      "\t\u001b[31minteractive_launcher_tmp/978838368375159155.log.md\u001b[m\n",
      "\t\u001b[31minteractive_launcher_tmp/981384515921563800.log.md\u001b[m\n",
      "\t\u001b[31mlauncher.py\u001b[m\n",
      "\t\u001b[31mtmp_dir/\u001b[m\n",
      "\n",
      "no changes added to commit (use \"git add\" and/or \"git commit -a\")\n",
      "> git push origin master\n",
      "Everything up-to-date\n"
     ]
    }
   ],
   "source": [
    "cmds = []\n",
    "add_cmd = \"git add --ignore-errors \"\n",
    "add_cmd_f = \"git add --ignore-errors -f \"\n",
    "for subdir in highlevel_dirs:\n",
    "    for sfx in [\".ipynb\", \".md\", \".c\", \".cpp\"]:\n",
    "        cmds.append(add_cmd + \" {}/*{}\".format(subdir, sfx))\n",
    "    cmds.append(add_cmd_f + \" -f {}/bash_popen_tmp/*.html\".format(subdir))\n",
    "    cmds.append(add_cmd_f + \" -f {}/interactive_launcher_tmp/*.log\".format(subdir))\n",
    "    cmds.append(\"git add -u {}\".format(subdir))\n",
    "    \n",
    "def execute_cmd(cmd):\n",
    "    print(\">\", cmd)\n",
    "    get_ipython().system(cmd)\n",
    "    \n",
    "for cmd in cmds:\n",
    "    execute_cmd(cmd)\n",
    "# execute_cmd(\"git add -u\")\n",
    "execute_cmd(\"git commit -m 'yet another update'\")\n",
    "execute_cmd(\"git push origin master\")"
   ]
  },
  {
   "cell_type": "code",
   "execution_count": null,
   "metadata": {},
   "outputs": [],
   "source": []
  },
  {
   "cell_type": "code",
   "execution_count": null,
   "metadata": {},
   "outputs": [],
   "source": []
  },
  {
   "cell_type": "code",
   "execution_count": null,
   "metadata": {},
   "outputs": [],
   "source": []
  }
 ],
 "metadata": {
  "kernelspec": {
   "display_name": "Python 3",
   "language": "python",
   "name": "python3"
  },
  "language_info": {
   "codemirror_mode": {
    "name": "ipython",
    "version": 3
   },
   "file_extension": ".py",
   "mimetype": "text/x-python",
   "name": "python",
   "nbconvert_exporter": "python",
   "pygments_lexer": "ipython3",
   "version": "3.8.2"
  }
 },
 "nbformat": 4,
 "nbformat_minor": 2
}
