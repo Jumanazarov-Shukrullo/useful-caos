{
 "cells": [
  {
   "cell_type": "code",
   "execution_count": 1,
   "metadata": {},
   "outputs": [
    {
     "data": {
      "application/javascript": [
       "// setup cpp code highlighting\n",
       "IPython.CodeCell.options_default.highlight_modes[\"text/x-c++src\"] = {'reg':[/^%%cpp/]} ;"
      ],
      "text/plain": [
       "<IPython.core.display.Javascript object>"
      ]
     },
     "metadata": {},
     "output_type": "display_data"
    },
    {
     "data": {
      "text/html": [
       "<!-- YANDEX_METRICA_BEGIN -->\n",
       "    <script type=\"text/javascript\" >\n",
       "       (function(m,e,t,r,i,k,a){m[i]=m[i]||function(){(m[i].a=m[i].a||[]).push(arguments)};\n",
       "       m[i].l=1*new Date();k=e.createElement(t),a=e.getElementsByTagName(t)[0],k.async=1,k.src=r,a.parentNode.insertBefore(k,a)})\n",
       "       (window, document, \"script\", \"https://mc.yandex.ru/metrika/tag.js\", \"ym\");\n",
       "\n",
       "       ym(59260609, \"init\", {\n",
       "            clickmap:true,\n",
       "            trackLinks:true,\n",
       "            accurateTrackBounce:true\n",
       "       });\n",
       "    </script>\n",
       "    <noscript><div><img src=\"https://mc.yandex.ru/watch/59260609\" style=\"position:absolute; left:-9999px;\" alt=\"\" /></div></noscript>\n",
       "    <!-- YANDEX_METRICA_END -->"
      ],
      "text/plain": [
       "<IPython.core.display.HTML object>"
      ]
     },
     "metadata": {},
     "output_type": "display_data"
    },
    {
     "data": {
      "text/html": [
       "В этот ноутбук встроен код Яндекс Метрики для сбора статистики использований. Если вы не хотите, чтобы по вам собиралась статистика, исправьте: yandex_metrica_allowed = False<!-- MAGICS_SETUP_PRINTING_END -->"
      ],
      "text/plain": [
       "<IPython.core.display.HTML object>"
      ]
     },
     "metadata": {},
     "output_type": "display_data"
    }
   ],
   "source": [
    "# look at tools/set_up_magics.ipynb\n",
    "yandex_metrica_allowed = True ; get_ipython().run_cell('# one_liner_str\\n\\nget_ipython().run_cell_magic(\\'javascript\\', \\'\\', \\'// setup cpp code highlighting\\\\nIPython.CodeCell.options_default.highlight_modes[\"text/x-c++src\"] = {\\\\\\'reg\\\\\\':[/^%%cpp/]} ;\\')\\n\\n# creating magics\\nfrom IPython.core.magic import register_cell_magic, register_line_magic\\nfrom IPython.display import display, Markdown, HTML\\nimport argparse\\nfrom subprocess import Popen, PIPE\\nimport random\\nimport sys\\nimport os\\nimport re\\nimport signal\\nimport shutil\\nimport shlex\\nimport glob\\n\\n@register_cell_magic\\ndef save_file(args_str, cell, line_comment_start=\"#\"):\\n    parser = argparse.ArgumentParser()\\n    parser.add_argument(\"fname\")\\n    parser.add_argument(\"--ejudge-style\", action=\"store_true\")\\n    args = parser.parse_args(args_str.split())\\n    \\n    cell = cell if cell[-1] == \\'\\\\n\\' or args.no_eof_newline else cell + \"\\\\n\"\\n    cmds = []\\n    with open(args.fname, \"w\") as f:\\n        f.write(line_comment_start + \" %%cpp \" + args_str + \"\\\\n\")\\n        for line in cell.split(\"\\\\n\"):\\n            line_to_write = (line if not args.ejudge_style else line.rstrip()) + \"\\\\n\"\\n            if line.startswith(\"%\"):\\n                run_prefix = \"%run \"\\n                if line.startswith(run_prefix):\\n                    cmds.append(line[len(run_prefix):].strip())\\n                    f.write(line_comment_start + \" \" + line_to_write)\\n                    continue\\n                run_prefix = \"%# \"\\n                if line.startswith(run_prefix):\\n                    f.write(line_comment_start + \" \" + line_to_write)\\n                    continue\\n                raise Exception(\"Unknown %%save_file subcommand: \\'%s\\'\" % line)\\n            else:\\n                f.write(line_to_write)\\n        f.write(\"\" if not args.ejudge_style else line_comment_start + r\" line without \\\\n\")\\n    for cmd in cmds:\\n        display(Markdown(\"Run: `%s`\" % cmd))\\n        get_ipython().system(cmd)\\n\\n@register_cell_magic\\ndef cpp(fname, cell):\\n    save_file(fname, cell, \"//\")\\n\\n@register_cell_magic\\ndef asm(fname, cell):\\n    save_file(fname, cell, \"//\")\\n    \\n@register_cell_magic\\ndef makefile(fname, cell):\\n    assert not fname\\n    save_file(\"makefile\", cell.replace(\" \" * 4, \"\\\\t\"))\\n        \\n@register_line_magic\\ndef p(line):\\n    try:\\n        expr, comment = line.split(\" #\")\\n        display(Markdown(\"`{} = {}`  # {}\".format(expr.strip(), eval(expr), comment.strip())))\\n    except:\\n        display(Markdown(\"{} = {}\".format(line, eval(line))))\\n        \\ndef show_file(file, clear_at_begin=True, return_html_string=False):\\n    if clear_at_begin:\\n        get_ipython().system(\"truncate --size 0 \" + file)\\n    obj = file.replace(\\'.\\', \\'_\\').replace(\\'/\\', \\'_\\') + \"_obj\"\\n    html_string = \\'\\'\\'\\n        <!--MD_BEGIN_FILTER-->\\n        <script type=text/javascript>\\n        var entrance___OBJ__ = 0;\\n        var errors___OBJ__ = 0;\\n        function refresh__OBJ__()\\n        {\\n            entrance___OBJ__ -= 1;\\n            var elem = document.getElementById(\"__OBJ__\");\\n            if (elem) {\\n                var xmlhttp=new XMLHttpRequest();\\n                xmlhttp.onreadystatechange=function()\\n                {\\n                    var elem = document.getElementById(\"__OBJ__\");\\n                    console.log(!!elem, xmlhttp.readyState, xmlhttp.status, entrance___OBJ__);\\n                    if (elem && xmlhttp.readyState==4) {\\n                        if (xmlhttp.status==200)\\n                        {\\n                            errors___OBJ__ = 0;\\n                            if (!entrance___OBJ__) {\\n                                elem.innerText = xmlhttp.responseText;\\n                                entrance___OBJ__ += 1;\\n                                console.log(\"req\");\\n                                window.setTimeout(\"refresh__OBJ__()\", 300); \\n                            }\\n                            return xmlhttp.responseText;\\n                        } else {\\n                            errors___OBJ__ += 1;\\n                            if (errors___OBJ__ < 10 && !entrance___OBJ__) {\\n                                entrance___OBJ__ += 1;\\n                                console.log(\"req\");\\n                                window.setTimeout(\"refresh__OBJ__()\", 300); \\n                            }\\n                        }\\n                    }\\n                }\\n                xmlhttp.open(\"GET\", \"__FILE__\", true);\\n                xmlhttp.setRequestHeader(\"Cache-Control\", \"no-cache\");\\n                xmlhttp.send();     \\n            }\\n        }\\n        \\n        if (!entrance___OBJ__) {\\n            entrance___OBJ__ += 1;\\n            refresh__OBJ__(); \\n        }\\n        </script>\\n        \\n        <font color=\"white\"> <tt>\\n        <p id=\"__OBJ__\" style=\"font-size: 16px; border:3px #333333 solid; background: #333333; border-radius: 10px; padding: 10px;  \"></p>\\n        </tt> </font>\\n        <!--MD_END_FILTER-->\\n        <!--MD_FROM_FILE __FILE__ -->\\n        \\'\\'\\'.replace(\"__OBJ__\", obj).replace(\"__FILE__\", file)\\n    if return_html_string:\\n        return html_string\\n    display(HTML(html_string))\\n    \\nBASH_POPEN_TMP_DIR = \"./bash_popen_tmp\"\\n    \\ndef bash_popen_terminate_all():\\n    for p in globals().get(\"bash_popen_list\", []):\\n        print(\"Terminate pid=\" + str(p.pid), file=sys.stderr)\\n        p.terminate()\\n    globals()[\"bash_popen_list\"] = []\\n    if os.path.exists(BASH_POPEN_TMP_DIR):\\n        shutil.rmtree(BASH_POPEN_TMP_DIR)\\n\\nbash_popen_terminate_all()  \\n\\ndef bash_popen(cmd):\\n    if not os.path.exists(BASH_POPEN_TMP_DIR):\\n        os.mkdir(BASH_POPEN_TMP_DIR)\\n    h = os.path.join(BASH_POPEN_TMP_DIR, str(random.randint(0, 1e18)))\\n    stdout_file = h + \".out.html\"\\n    stderr_file = h + \".err.html\"\\n    run_log_file = h + \".fin.html\"\\n    \\n    stdout = open(stdout_file, \"wb\")\\n    stdout = open(stderr_file, \"wb\")\\n    \\n    html = \"\"\"\\n    <table width=\"100%\">\\n    <colgroup>\\n       <col span=\"1\" style=\"width: 70px;\">\\n       <col span=\"1\">\\n    </colgroup>    \\n    <tbody>\\n      <tr> <td><b>STDOUT</b></td> <td> {stdout} </td> </tr>\\n      <tr> <td><b>STDERR</b></td> <td> {stderr} </td> </tr>\\n      <tr> <td><b>RUN LOG</b></td> <td> {run_log} </td> </tr>\\n    </tbody>\\n    </table>\\n    \"\"\".format(\\n        stdout=show_file(stdout_file, return_html_string=True),\\n        stderr=show_file(stderr_file, return_html_string=True),\\n        run_log=show_file(run_log_file, return_html_string=True),\\n    )\\n    \\n    cmd = \"\"\"\\n        bash -c {cmd} &\\n        pid=$!\\n        echo \"Process started! pid=${{pid}}\" > {run_log_file}\\n        wait ${{pid}}\\n        echo \"Process finished! exit_code=$?\" >> {run_log_file}\\n    \"\"\".format(cmd=shlex.quote(cmd), run_log_file=run_log_file)\\n    # print(cmd)\\n    display(HTML(html))\\n    \\n    p = Popen([\"bash\", \"-c\", cmd], stdin=PIPE, stdout=stdout, stderr=stdout)\\n    \\n    bash_popen_list.append(p)\\n    return p\\n\\n\\n@register_line_magic\\ndef bash_async(line):\\n    bash_popen(line)\\n    \\n    \\ndef show_log_file(file, return_html_string=False):\\n    obj = file.replace(\\'.\\', \\'_\\').replace(\\'/\\', \\'_\\') + \"_obj\"\\n    html_string = \\'\\'\\'\\n        <!--MD_BEGIN_FILTER-->\\n        <script type=text/javascript>\\n        var entrance___OBJ__ = 0;\\n        var errors___OBJ__ = 0;\\n        function halt__OBJ__(elem, color)\\n        {\\n            elem.setAttribute(\"style\", \"font-size: 14px; background: \" + color + \"; padding: 10px; border: 3px; border-radius: 5px; color: white; \");                    \\n        }\\n        function refresh__OBJ__()\\n        {\\n            entrance___OBJ__ -= 1;\\n            if (entrance___OBJ__ < 0) {\\n                entrance___OBJ__ = 0;\\n            }\\n            var elem = document.getElementById(\"__OBJ__\");\\n            if (elem) {\\n                var xmlhttp=new XMLHttpRequest();\\n                xmlhttp.onreadystatechange=function()\\n                {\\n                    var elem = document.getElementById(\"__OBJ__\");\\n                    console.log(!!elem, xmlhttp.readyState, xmlhttp.status, entrance___OBJ__);\\n                    if (elem && xmlhttp.readyState==4) {\\n                        if (xmlhttp.status==200)\\n                        {\\n                            errors___OBJ__ = 0;\\n                            if (!entrance___OBJ__) {\\n                                if (elem.innerHTML != xmlhttp.responseText) {\\n                                    elem.innerHTML = xmlhttp.responseText;\\n                                }\\n                                if (elem.innerHTML.includes(\"Process finished.\")) {\\n                                    halt__OBJ__(elem, \"#333333\");\\n                                } else {\\n                                    entrance___OBJ__ += 1;\\n                                    console.log(\"req\");\\n                                    window.setTimeout(\"refresh__OBJ__()\", 300); \\n                                }\\n                            }\\n                            return xmlhttp.responseText;\\n                        } else {\\n                            errors___OBJ__ += 1;\\n                            if (!entrance___OBJ__) {\\n                                if (errors___OBJ__ < 6) {\\n                                    entrance___OBJ__ += 1;\\n                                    console.log(\"req\");\\n                                    window.setTimeout(\"refresh__OBJ__()\", 300); \\n                                } else {\\n                                    halt__OBJ__(elem, \"#994444\");\\n                                }\\n                            }\\n                        }\\n                    }\\n                }\\n                xmlhttp.open(\"GET\", \"__FILE__\", true);\\n                xmlhttp.setRequestHeader(\"Cache-Control\", \"no-cache\");\\n                xmlhttp.send();     \\n            }\\n        }\\n        \\n        if (!entrance___OBJ__) {\\n            entrance___OBJ__ += 1;\\n            refresh__OBJ__(); \\n        }\\n        </script>\\n\\n        <p id=\"__OBJ__\" style=\"font-size: 14px; background: #000000; padding: 10px; border: 3px; border-radius: 5px; color: white; \">\\n        </p>\\n        \\n        </font>\\n        <!--MD_END_FILTER-->\\n        <!--MD_FROM_FILE __FILE__.md -->\\n        \\'\\'\\'.replace(\"__OBJ__\", obj).replace(\"__FILE__\", file)\\n    if return_html_string:\\n        return html_string\\n    display(HTML(html_string))\\n\\n    \\nclass TInteractiveLauncher:\\n    tmp_path = \"./interactive_launcher_tmp\"\\n    def __init__(self, cmd):\\n        try:\\n            os.mkdir(TInteractiveLauncher.tmp_path)\\n        except:\\n            pass\\n        name = str(random.randint(0, 1e18))\\n        self.inq_path = os.path.join(TInteractiveLauncher.tmp_path, name + \".inq\")\\n        self.log_path = os.path.join(TInteractiveLauncher.tmp_path, name + \".log\")\\n        \\n        os.mkfifo(self.inq_path)\\n        open(self.log_path, \\'w\\').close()\\n        open(self.log_path + \".md\", \\'w\\').close()\\n\\n        self.pid = os.fork()\\n        if self.pid == -1:\\n            print(\"Error\")\\n        if self.pid == 0:\\n            exe_cands = glob.glob(\"../tools/launcher.py\") + glob.glob(\"../../tools/launcher.py\")\\n            assert(len(exe_cands) == 1)\\n            assert(os.execvp(\"python3\", [\"python3\", exe_cands[0], \"-l\", self.log_path, \"-i\", self.inq_path, \"-c\", cmd]) == 0)\\n        self.inq_f = open(self.inq_path, \"w\")\\n        interactive_launcher_opened_set.add(self.pid)\\n        show_log_file(self.log_path)\\n\\n    def write(self, s):\\n        s = s.encode()\\n        assert len(s) == os.write(self.inq_f.fileno(), s)\\n        \\n    def get_pid(self):\\n        n = 100\\n        for i in range(n):\\n            try:\\n                return int(re.findall(r\"PID = (\\\\d+)\", open(self.log_path).readline())[0])\\n            except:\\n                if i + 1 == n:\\n                    raise\\n                time.sleep(0.1)\\n        \\n    def input_queue_path(self):\\n        return self.inq_path\\n        \\n    def close(self):\\n        self.inq_f.close()\\n        os.waitpid(self.pid, 0)\\n        os.remove(self.inq_path)\\n        # os.remove(self.log_path)\\n        self.inq_path = None\\n        self.log_path = None \\n        interactive_launcher_opened_set.remove(self.pid)\\n        self.pid = None\\n        \\n    @staticmethod\\n    def terminate_all():\\n        if \"interactive_launcher_opened_set\" not in globals():\\n            globals()[\"interactive_launcher_opened_set\"] = set()\\n        global interactive_launcher_opened_set\\n        for pid in interactive_launcher_opened_set:\\n            print(\"Terminate pid=\" + str(pid), file=sys.stderr)\\n            os.kill(pid, signal.SIGKILL)\\n            os.waitpid(pid, 0)\\n        interactive_launcher_opened_set = set()\\n        if os.path.exists(TInteractiveLauncher.tmp_path):\\n            shutil.rmtree(TInteractiveLauncher.tmp_path)\\n    \\nTInteractiveLauncher.terminate_all()\\n   \\nyandex_metrica_allowed = bool(globals().get(\"yandex_metrica_allowed\", False))\\nif yandex_metrica_allowed:\\n    display(HTML(\\'\\'\\'<!-- YANDEX_METRICA_BEGIN -->\\n    <script type=\"text/javascript\" >\\n       (function(m,e,t,r,i,k,a){m[i]=m[i]||function(){(m[i].a=m[i].a||[]).push(arguments)};\\n       m[i].l=1*new Date();k=e.createElement(t),a=e.getElementsByTagName(t)[0],k.async=1,k.src=r,a.parentNode.insertBefore(k,a)})\\n       (window, document, \"script\", \"https://mc.yandex.ru/metrika/tag.js\", \"ym\");\\n\\n       ym(59260609, \"init\", {\\n            clickmap:true,\\n            trackLinks:true,\\n            accurateTrackBounce:true\\n       });\\n    </script>\\n    <noscript><div><img src=\"https://mc.yandex.ru/watch/59260609\" style=\"position:absolute; left:-9999px;\" alt=\"\" /></div></noscript>\\n    <!-- YANDEX_METRICA_END -->\\'\\'\\'))\\n\\ndef make_oneliner():\\n    html_text = \\'(\"В этот ноутбук встроен код Яндекс Метрики для сбора статистики использований. Если вы не хотите, чтобы по вам собиралась статистика, исправьте: yandex_metrica_allowed = False\" if yandex_metrica_allowed else \"\")\\'\\n    html_text += \\' + \"<\"\"!-- MAGICS_SETUP_PRINTING_END -->\"\\'\\n    return \\'\\'.join([\\n        \\'# look at tools/set_up_magics.ipynb\\\\n\\',\\n        \\'yandex_metrica_allowed = True ; get_ipython().run_cell(%s);\\' % repr(one_liner_str),\\n        \\'display(HTML(%s))\\' % html_text,\\n        \\' #\\'\\'MAGICS_SETUP_END\\'\\n    ])\\n       \\n\\n');display(HTML((\"В этот ноутбук встроен код Яндекс Метрики для сбора статистики использований. Если вы не хотите, чтобы по вам собиралась статистика, исправьте: yandex_metrica_allowed = False\" if yandex_metrica_allowed else \"\") + \"<\"\"!-- MAGICS_SETUP_PRINTING_END -->\")) #MAGICS_SETUP_END"
   ]
  },
  {
   "cell_type": "markdown",
   "metadata": {},
   "source": [
    "# Низкоуровневый ввод-вывод"
   ]
  },
  {
   "cell_type": "markdown",
   "metadata": {},
   "source": [
    "## Linux"
   ]
  },
  {
   "cell_type": "markdown",
   "metadata": {},
   "source": [
    "Здесь полезно рассматривать процесс как объект в операционной системе. Помимо основного пользовательского потока выполнения у процесса-объекта есть множество атрибутов.\n",
    "\n",
    "Советую прочитать [статью на хабре](https://habr.com/ru/post/423049/#definition), вроде там все очень неплохо написано.\n",
    "\n",
    "Сегодня нас будут интересовать файловые дескрипторы. Каждому открытому файлу и соединению соответствует число (int). Это число используется как идентификатор в функциях, работающих с файлами/соединениями.\n",
    "\n",
    "\n",
    "* 0 - stdin - стандартный поток ввода\n",
    "* 1 - stdout - стандартный поток вывода\n",
    "* 2 - stderr - стандартный поток ошибок\n",
    "\n",
    "Примеры использования в bash:\n",
    "\n",
    "* `grep String < file.txt` <-> `grep String 0< file.txt`\n",
    "* `mkdir a_dir 2> /dev/null`\n",
    "* `./some_program < in.txt 1> out.txt` <-> `./some_program < in.txt > out.txt` \n",
    "\n"
   ]
  },
  {
   "cell_type": "code",
   "execution_count": 2,
   "metadata": {},
   "outputs": [
    {
     "data": {
      "text/markdown": [
       "Run: `gcc linux_example.c -o linux_example.exe`"
      ],
      "text/plain": [
       "<IPython.core.display.Markdown object>"
      ]
     },
     "metadata": {},
     "output_type": "display_data"
    },
    {
     "data": {
      "text/markdown": [
       "Run: `echo \"Hello students!\" > linux_example_input_001.txt`"
      ],
      "text/plain": [
       "<IPython.core.display.Markdown object>"
      ]
     },
     "metadata": {},
     "output_type": "display_data"
    },
    {
     "data": {
      "text/markdown": [
       "Run: `./linux_example.exe linux_example_input_001.txt`"
      ],
      "text/plain": [
       "<IPython.core.display.Markdown object>"
      ]
     },
     "metadata": {},
     "output_type": "display_data"
    },
    {
     "name": "stdout",
     "output_type": "stream",
     "text": [
      "Linux by write\n",
      "\u0000Bytes read: 16\n",
      "'''Hello students!\n",
      "'''\n"
     ]
    }
   ],
   "source": [
    "%%cpp linux_example.c\n",
    "%run gcc linux_example.c -o linux_example.exe\n",
    "%run echo \"Hello students!\" > linux_example_input_001.txt\n",
    "%run ./linux_example.exe linux_example_input_001.txt\n",
    "\n",
    "#include <sys/types.h>\n",
    "#include <sys/stat.h>\n",
    "#include <fcntl.h>\n",
    "#include <unistd.h>\n",
    "#include <stdio.h>\n",
    "\n",
    "int main(int argc, char *argv[])\n",
    "{\n",
    "    // printf(\"Linux by printf\"); // where it will be printed?\n",
    "    char linux_str[] = \"Linux by write\\n\";\n",
    "    write(1, linux_str, sizeof(linux_str)); // 1 - изначально открытый файловый дескриптор соответствующий stdout\n",
    "                                            // linux_str - указатель на начало данных, \n",
    "                                            // sizeof(linux_str) - размер данных, которые хотим записать\n",
    "                                            // ВАЖНО, что write может записать не все данные \n",
    "                                            //        и тогда его надо перезапустить\n",
    "                                            //        но в данном примере этого нет\n",
    "                                            // Подробнее в `man 2 write`\n",
    "    if (argc < 2) {\n",
    "        printf(\"Need at least 2 arguments\\n\");\n",
    "        return 1;\n",
    "    }\n",
    "    int fd = open(argv[1], O_RDONLY); // открываем файл и получаем связанный файловый дескриптор\n",
    "                                      // O_RDONLY - флаг о том, что открываем в read-only режиме\n",
    "                                      // подробнее в `man 2 open`\n",
    "    if (fd < 0) {\n",
    "        perror(\"Can't open file\"); // Выводит указанную строку в stderr \n",
    "                                   // + добавляет сообщение и последней произошедшей ошибке \n",
    "                                   // ошибка хранится в errno\n",
    "        return -1;\n",
    "    }\n",
    "    \n",
    "    char buffer[4096];\n",
    "    int bytes_read = read(fd, buffer, sizeof(buffer)); // fd - файловый дескриптор выше открытого файла\n",
    "                                                       // 2 и 3 аргументы как во write\n",
    "                                                       // Так же как и write может прочитать МЕНЬШЕ\n",
    "                                                       //   чем запрошено в 3м аргументе\n",
    "                                                       //   это может быть связано как с концом файла\n",
    "                                                       //   так и с каким-то более приоритетным событием\n",
    "    if (bytes_read < 0) {\n",
    "        perror(\"Error reading file\");\n",
    "        close(fd); // закрываем файл связанный с файловым дескриптором. Ну или не файл. \n",
    "                   // Стандартные дескрипторы 0, 1, 2 тоже можно так закрывать\n",
    "        return -1;\n",
    "    }\n",
    "    char buffer2[4096];\n",
    "    // формирование строки с текстом\n",
    "    int written_bytes = snprintf(buffer2, sizeof(buffer2), \"Bytes read: %d\\n'''%s'''\\n\", bytes_read, buffer);\n",
    "    write(1, buffer2, written_bytes);\n",
    "    close(fd);\n",
    "    return 0;\n",
    "}"
   ]
  },
  {
   "cell_type": "markdown",
   "metadata": {},
   "source": [
    "### Экзотический пример-игрушка"
   ]
  },
  {
   "cell_type": "code",
   "execution_count": 3,
   "metadata": {},
   "outputs": [
    {
     "data": {
      "text/markdown": [
       "Run: `gcc strange_example.c -o strange_example.exe`"
      ],
      "text/plain": [
       "<IPython.core.display.Markdown object>"
      ]
     },
     "metadata": {},
     "output_type": "display_data"
    },
    {
     "data": {
      "text/markdown": [
       "Run: `echo \"Hello world!\" > a.txt`"
      ],
      "text/plain": [
       "<IPython.core.display.Markdown object>"
      ]
     },
     "metadata": {},
     "output_type": "display_data"
    },
    {
     "data": {
      "text/markdown": [
       "Run: `./strange_example.exe 5< a.txt > strange_example.out`"
      ],
      "text/plain": [
       "<IPython.core.display.Markdown object>"
      ]
     },
     "metadata": {},
     "output_type": "display_data"
    },
    {
     "data": {
      "text/markdown": [
       "Run: `cat strange_example.out`"
      ],
      "text/plain": [
       "<IPython.core.display.Markdown object>"
      ]
     },
     "metadata": {},
     "output_type": "display_data"
    },
    {
     "name": "stdout",
     "output_type": "stream",
     "text": [
      "Hello world!\r\n"
     ]
    }
   ],
   "source": [
    "%%cpp strange_example.c\n",
    "%run gcc strange_example.c -o strange_example.exe\n",
    "%run echo \"Hello world!\" > a.txt\n",
    "%run ./strange_example.exe 5< a.txt > strange_example.out\n",
    "%run cat strange_example.out\n",
    "\n",
    "#include <unistd.h>\n",
    "#include <stdio.h>\n",
    "\n",
    "int main(int argc, char *argv[])\n",
    "{ \n",
    "    char buffer[4096];\n",
    "    int bytes_read = read(5, buffer, sizeof(buffer)); \n",
    "    if (bytes_read < 0) {\n",
    "        perror(\"Error reading file\");\n",
    "        return -1;\n",
    "    }\n",
    "    int written_bytes = write(1, buffer, bytes_read);\n",
    "    if (written_bytes < 0) {\n",
    "        perror(\"Error writing file\");\n",
    "        return -1;\n",
    "    }\n",
    "    return 0;\n",
    "}"
   ]
  },
  {
   "cell_type": "markdown",
   "metadata": {},
   "source": [
    "### Retry of read"
   ]
  },
  {
   "cell_type": "code",
   "execution_count": 4,
   "metadata": {},
   "outputs": [
    {
     "data": {
      "text/markdown": [
       "Run: `gcc retry_example.c -o retry_example.exe`"
      ],
      "text/plain": [
       "<IPython.core.display.Markdown object>"
      ]
     },
     "metadata": {},
     "output_type": "display_data"
    },
    {
     "data": {
      "text/markdown": [
       "Run: `echo \"Hello world!\" > a.txt`"
      ],
      "text/plain": [
       "<IPython.core.display.Markdown object>"
      ]
     },
     "metadata": {},
     "output_type": "display_data"
    },
    {
     "data": {
      "text/markdown": [
       "Run: `./retry_example.exe < a.txt`"
      ],
      "text/plain": [
       "<IPython.core.display.Markdown object>"
      ]
     },
     "metadata": {},
     "output_type": "display_data"
    },
    {
     "name": "stdout",
     "output_type": "stream",
     "text": [
      "Hello world!\r\n"
     ]
    }
   ],
   "source": [
    "%%cpp retry_example.c\n",
    "%run gcc retry_example.c -o retry_example.exe\n",
    "%run echo \"Hello world!\" > a.txt\n",
    "%run ./retry_example.exe < a.txt \n",
    "\n",
    "#include <unistd.h>\n",
    "#include <stdio.h>\n",
    "#include <errno.h>\n",
    "\n",
    "\n",
    "int read_retry(int fd, char* data, int size) {\n",
    "    char* cdata = data;\n",
    "    while (1) {\n",
    "        int read_bytes = read(fd, cdata, size);\n",
    "        if (read_bytes == 0) {\n",
    "            return cdata - data;\n",
    "        }\n",
    "        if (read_bytes < 0) {\n",
    "            if (errno == EAGAIN || errno == EINTR) {\n",
    "                continue;\n",
    "            } else {\n",
    "                return -1;\n",
    "            }\n",
    "        }\n",
    "        cdata += read_bytes;\n",
    "        size -= read_bytes;\n",
    "        if (size == 0) {\n",
    "            return cdata - data;\n",
    "        }\n",
    "    }\n",
    "}\n",
    "\n",
    "\n",
    "int main(int argc, char *argv[])\n",
    "{ \n",
    "    char buffer[4096];\n",
    "    int bytes_read = read_retry(0, buffer, sizeof(buffer)); \n",
    "    if (bytes_read < 0) {\n",
    "        perror(\"Error reading file\");\n",
    "        return -1;\n",
    "    }\n",
    "    int written_bytes = write(1, buffer, bytes_read);\n",
    "    if (written_bytes < 0) {\n",
    "        perror(\"Error writing file\");\n",
    "        return -1;\n",
    "    }\n",
    "    return 0;\n",
    "}"
   ]
  },
  {
   "cell_type": "code",
   "execution_count": null,
   "metadata": {},
   "outputs": [],
   "source": []
  },
  {
   "cell_type": "code",
   "execution_count": null,
   "metadata": {},
   "outputs": [],
   "source": []
  },
  {
   "cell_type": "markdown",
   "metadata": {},
   "source": [
    "При открытии файла с флагом создания (O_WRONLY | O_CREAT) важно адекватно проставлять маску прав доступа. Давайте с ней разберемся.\n",
    "\n",
    "Заметка о правописании: **Attribute, но атрибут**"
   ]
  },
  {
   "cell_type": "code",
   "execution_count": 5,
   "metadata": {},
   "outputs": [
    {
     "data": {
      "text/markdown": [
       "`os.stat(\"a.txt\") = os.stat_result(st_mode=33204, st_ino=1344254, st_dev=2049, st_nlink=1, st_uid=1000, st_gid=1000, st_size=15, st_atime=1583774203, st_mtime=1583774208, st_ctime=1583774208)`  # Атрибуты файла `a.txt`"
      ],
      "text/plain": [
       "<IPython.core.display.Markdown object>"
      ]
     },
     "metadata": {},
     "output_type": "display_data"
    },
    {
     "data": {
      "text/markdown": [
       "`oct(os.stat(\"a.txt\").st_mode) = 0o100664`  # Интересны последние три восьмеричные цифры. 664 - это обычные атрибуты прав"
      ],
      "text/plain": [
       "<IPython.core.display.Markdown object>"
      ]
     },
     "metadata": {},
     "output_type": "display_data"
    },
    {
     "data": {
      "text/markdown": [
       "`oct(os.stat(\"./linux_example.exe\").st_mode) = 0o100775`  # Аттрибуты прав исполняемого файла"
      ],
      "text/plain": [
       "<IPython.core.display.Markdown object>"
      ]
     },
     "metadata": {},
     "output_type": "display_data"
    },
    {
     "data": {
      "text/markdown": [
       "`oct(os.stat(\"b_dir\").st_mode) = 0o40775`  # Забавный факт, но все могут \"исполнять директорию\". [Более подробно на stackoverflow](https://unix.stackexchange.com/questions/21251/execute-vs-read-bit-how-do-directory-permissions-in-linux-work)"
      ],
      "text/plain": [
       "<IPython.core.display.Markdown object>"
      ]
     },
     "metadata": {},
     "output_type": "display_data"
    }
   ],
   "source": [
    "!echo \"Hello jupyter!\" > a.txt  # создаем файлик с обычными \"настройками\"\n",
    "!mkdir b_dir 2> /dev/null\n",
    "\n",
    "import os  # В модуле os есть почти в чистом виде почти все системные вызовы: write, read, open...\n",
    "from IPython.display import display\n",
    "\n",
    "%p os.stat(\"a.txt\") # Атрибуты файла `a.txt`\n",
    "%p oct(os.stat(\"a.txt\").st_mode)  # Интересны последние три восьмеричные цифры. 664 - это обычные атрибуты прав\n",
    "\n",
    "%p oct(os.stat(\"./linux_example.exe\").st_mode)  # Аттрибуты прав исполняемого файла\n",
    "\n",
    "%p oct(os.stat(\"b_dir\").st_mode)  # Забавный факт, но все могут \"исполнять директорию\". [Более подробно на stackoverflow](https://unix.stackexchange.com/questions/21251/execute-vs-read-bit-how-do-directory-permissions-in-linux-work)\n"
   ]
  },
  {
   "cell_type": "code",
   "execution_count": 6,
   "metadata": {},
   "outputs": [
    {
     "name": "stdout",
     "output_type": "stream",
     "text": [
      "total 296\r\n",
      "drwxrwxr-x  5 pechatnov pechatnov   4096 Mar  9 20:16 .\r\n",
      "drwxrwxr-x 25 pechatnov pechatnov   4096 Mar  9 13:36 ..\r\n",
      "-rw-rw-r--  1 pechatnov pechatnov     15 Mar  9 20:16 a.txt\r\n",
      "drwxrwxr-x  2 pechatnov pechatnov   4096 Oct 28 20:45 b\r\n",
      "drwxrwxr-x  2 pechatnov pechatnov   4096 Oct 28 20:46 b_dir\r\n",
      "-rw-rw-r--  1 pechatnov pechatnov      5 Oct 30 11:34 b.txt\r\n",
      "drwxrwxr-x  2 pechatnov pechatnov   4096 Oct 28 21:58 .ipynb_checkpoints\r\n",
      "-rw-rw-r--  1 pechatnov pechatnov   3480 Mar  9 20:16 linux_example.c\r\n",
      "-rwxrwxr-x  1 pechatnov pechatnov   8976 Mar  9 20:16 linux_example.exe\r\n",
      "-rw-rw-r--  1 pechatnov pechatnov     16 Mar  9 20:16 linux_example_input_001.txt\r\n",
      "-rw-rw-r--  1 pechatnov pechatnov    853 Nov  6 10:55 linux_file_hello_world.c\r\n",
      "-rwxrwxr-x  1 pechatnov pechatnov   8888 Nov  6 10:55 linux_file_hello_world.exe\r\n",
      "-rw-rw-r--  1 pechatnov pechatnov     13 Nov  6 10:55 linux_file_hello_world.out\r\n",
      "-rw-rw-r--  1 pechatnov pechatnov  34041 Feb  2 23:56 low-level-io.ipynb\r\n",
      "-rw-rw-r--  1 pechatnov pechatnov   1317 Oct 30 11:34 lseek_example.c\r\n",
      "-rwxrwxr-x  1 pechatnov pechatnov   9032 Oct 30 11:34 lseek_example.exe\r\n",
      "-rw-rw-r--  1 pechatnov pechatnov  20307 Feb  2 23:56 README.md\r\n",
      "-rw-rw-r--  1 pechatnov pechatnov   1105 Mar  9 20:16 retry_example.c\r\n",
      "-rwxrwxr-x  1 pechatnov pechatnov   8872 Mar  9 20:16 retry_example.exe\r\n",
      "-rw-rw-r--  1 pechatnov pechatnov      3 Nov  6 10:04 sdfr.txt\r\n",
      "-rw-rw-r--  1 pechatnov pechatnov    616 Mar  9 20:16 strange_example.c\r\n",
      "-rwxrwxr-x  1 pechatnov pechatnov   8776 Mar  9 20:16 strange_example.exe\r\n",
      "-rw-rw-r--  1 pechatnov pechatnov     16 Oct 30 09:21 strange_example.in\r\n",
      "-rw-rw-r--  1 pechatnov pechatnov     13 Mar  9 20:16 strange_example.out\r\n",
      "-rw-rw-r--  1 pechatnov pechatnov   1458 Oct 30 10:15 winapi_example.c\r\n",
      "-rwxrwxr-x  1 pechatnov pechatnov 104184 Oct 30 10:15 winapi_example.exe\r\n",
      "-rw-rw-r--  1 pechatnov pechatnov     16 Oct 30 10:15 winapi_example_input_001.txt\r\n"
     ]
    }
   ],
   "source": [
    "!ls -la"
   ]
  },
  {
   "cell_type": "code",
   "execution_count": 11,
   "metadata": {
    "scrolled": true
   },
   "outputs": [
    {
     "data": {
      "text/markdown": [
       "Run: `gcc linux_file_hello_world.c -o linux_file_hello_world.exe`"
      ],
      "text/plain": [
       "<IPython.core.display.Markdown object>"
      ]
     },
     "metadata": {},
     "output_type": "display_data"
    },
    {
     "data": {
      "text/markdown": [
       "Run: `./linux_file_hello_world.exe`"
      ],
      "text/plain": [
       "<IPython.core.display.Markdown object>"
      ]
     },
     "metadata": {},
     "output_type": "display_data"
    },
    {
     "name": "stdout",
     "output_type": "stream",
     "text": [
      "Bytes written: 13 (expected 13)\r\n"
     ]
    },
    {
     "data": {
      "text/markdown": [
       "Run: `cat linux_file_hello_world.out`"
      ],
      "text/plain": [
       "<IPython.core.display.Markdown object>"
      ]
     },
     "metadata": {},
     "output_type": "display_data"
    },
    {
     "name": "stdout",
     "output_type": "stream",
     "text": [
      "Hello world!\u0000"
     ]
    }
   ],
   "source": [
    "%%cpp linux_file_hello_world.c\n",
    "%run gcc linux_file_hello_world.c -o linux_file_hello_world.exe\n",
    "%run ./linux_file_hello_world.exe\n",
    "%run cat linux_file_hello_world.out\n",
    "\n",
    "#include <sys/types.h>\n",
    "#include <sys/stat.h>\n",
    "#include <fcntl.h>\n",
    "#include <unistd.h>\n",
    "#include <stdio.h>\n",
    "\n",
    "int main(int argc, char *argv[])\n",
    "{   \n",
    "    int fd = open(\"linux_file_hello_world.out\", O_WRONLY | O_CREAT, S_IRUSR | S_IWUSR | S_IRGRP | S_IWGRP | S_IROTH); \n",
    "    // S_IRUSR | S_IWUSR | S_IRGRP | S_IWGRP | S_IROTH == 0664\n",
    "    // попробуйте не указывать 0664   \n",
    "    // (ошибка такая же как в printf(\"%d\");)\n",
    "    // для справки `man 2 open`\n",
    "     \n",
    "    if (fd < 0) {\n",
    "        perror(\"Can't open file\");\n",
    "        return -1;\n",
    "    }\n",
    "    char buffer[] = \"Hello world!\";\n",
    "    int bytes_written = write(fd, buffer, sizeof(buffer));\n",
    "    if (bytes_written < 0) {\n",
    "        perror(\"Error writing file\");\n",
    "        close(fd);\n",
    "        return -1;\n",
    "    }\n",
    "    printf(\"Bytes written: %d (expected %d)\\n\", bytes_written, (int)sizeof(buffer));\n",
    "    close(fd);\n",
    "    return 0;\n",
    "}"
   ]
  },
  {
   "cell_type": "code",
   "execution_count": 12,
   "metadata": {},
   "outputs": [
    {
     "data": {
      "text/plain": [
       "'0o100664'"
      ]
     },
     "execution_count": 12,
     "metadata": {},
     "output_type": "execute_result"
    }
   ],
   "source": [
    "oct(os.stat(\"linux_file_hello_world.out\").st_mode)"
   ]
  },
  {
   "cell_type": "code",
   "execution_count": null,
   "metadata": {},
   "outputs": [],
   "source": []
  },
  {
   "cell_type": "markdown",
   "metadata": {},
   "source": [
    "## lseek - чтение с произвольной позиции в файле\n",
    "\n",
    "Смотрит на второй символ в файле, читает его, интерпретирует как цифру и увеличивает эту цифру на 1."
   ]
  },
  {
   "cell_type": "code",
   "execution_count": 17,
   "metadata": {},
   "outputs": [
    {
     "data": {
      "text/markdown": [
       "Run: `gcc lseek_example.c -o lseek_example.exe`"
      ],
      "text/plain": [
       "<IPython.core.display.Markdown object>"
      ]
     },
     "metadata": {},
     "output_type": "display_data"
    },
    {
     "data": {
      "text/markdown": [
       "Run: `./lseek_example.exe b.txt`"
      ],
      "text/plain": [
       "<IPython.core.display.Markdown object>"
      ]
     },
     "metadata": {},
     "output_type": "display_data"
    },
    {
     "name": "stdout",
     "output_type": "stream",
     "text": [
      "File size: 5\r\n"
     ]
    },
    {
     "data": {
      "text/markdown": [
       "Run: `cat b.txt`"
      ],
      "text/plain": [
       "<IPython.core.display.Markdown object>"
      ]
     },
     "metadata": {},
     "output_type": "display_data"
    },
    {
     "name": "stdout",
     "output_type": "stream",
     "text": [
      "H0llo"
     ]
    }
   ],
   "source": [
    "%%cpp lseek_example.c\n",
    "%run gcc lseek_example.c -o lseek_example.exe\n",
    "%run ./lseek_example.exe b.txt\n",
    "%run cat b.txt\n",
    "\n",
    "#include <sys/types.h>\n",
    "#include <sys/stat.h>\n",
    "#include <fcntl.h>\n",
    "#include <unistd.h>\n",
    "#include <stdio.h>\n",
    "#include <assert.h>\n",
    "\n",
    "int main(int argc, char *argv[])\n",
    "{   \n",
    "    assert(argc >= 2);\n",
    "    // O_RDWR - открытие файла на чтение и запись одновременно\n",
    "    int fd = open(argv[1], O_RDWR | O_CREAT, S_IRUSR | S_IWUSR | S_IRGRP | S_IWGRP | S_IROTH); \n",
    "    \n",
    "    // Перемещаемся на конец файла, получаем позицию конца файла - это размер файла\n",
    "    int size = lseek(fd, 0, SEEK_END);\n",
    "    \n",
    "    printf(\"File size: %d\\n\", size);\n",
    "    \n",
    "    // если размер меньше 2, то дописываем цифры\n",
    "    if (size < 2) {\n",
    "        const char s[] = \"10\";\n",
    "        lseek(fd, 0, SEEK_SET);\n",
    "        write(fd, s, sizeof(s) - 1);\n",
    "        printf(\"Written bytes: %d\\n\", (int)sizeof(s) - 1);    \n",
    "        size = lseek(fd, 0, SEEK_END);\n",
    "        printf(\"File size: %d\\n\", size);\n",
    "    }\n",
    "    \n",
    "    // читаем символ со 2й позиции\n",
    "    lseek(fd, 1, SEEK_SET);\n",
    "    char c;\n",
    "    read(fd, &c, 1);\n",
    "    c = (c < '0' || c > '9') ? '0' : ((c - '0') + 1) % 10 + '0';\n",
    "    \n",
    "    // записываем символ в 2ю позицию\n",
    "    lseek(fd, 1, SEEK_SET);\n",
    "    write(fd, &c, 1);\n",
    "    \n",
    "    close(fd);\n",
    "    return 0;\n",
    "}"
   ]
  },
  {
   "cell_type": "markdown",
   "metadata": {},
   "source": [
    "# Windows\n",
    "\n",
    "* Вместо файловых дескрипторов - HANDLE (вроде это просто void*)\n",
    "* Много алиасов для типов вроде HANDLE, DWORD, BOOL, LPTSTR, LPWSTR\n",
    "* Очень много аргументов у всех функций\n",
    "* Плохая документация, гуглится все плохо\n",
    "* Надо установить `wine` и `mingw-w64`"
   ]
  },
  {
   "cell_type": "code",
   "execution_count": 18,
   "metadata": {},
   "outputs": [
    {
     "data": {
      "text/markdown": [
       "Run: `i686-w64-mingw32-gcc winapi_example.c -o winapi_example.exe`"
      ],
      "text/plain": [
       "<IPython.core.display.Markdown object>"
      ]
     },
     "metadata": {},
     "output_type": "display_data"
    },
    {
     "data": {
      "text/markdown": [
       "Run: `echo \"Hello students!\" > winapi_example_input_001.txt`"
      ],
      "text/plain": [
       "<IPython.core.display.Markdown object>"
      ]
     },
     "metadata": {},
     "output_type": "display_data"
    },
    {
     "data": {
      "text/markdown": [
       "Run: `wine winapi_example.exe winapi_example_input_001.txt`"
      ],
      "text/plain": [
       "<IPython.core.display.Markdown object>"
      ]
     },
     "metadata": {},
     "output_type": "display_data"
    },
    {
     "name": "stdout",
     "output_type": "stream",
     "text": [
      "\u001b[?1h\u001b=Defined WIN32\r",
      "\r\n",
      "Bytes read: 16\r",
      "\r\n",
      "'''Hello students!\r",
      "\r\n",
      "'''\r",
      "\r\n"
     ]
    }
   ],
   "source": [
    "%%cpp winapi_example.c\n",
    "%run i686-w64-mingw32-gcc winapi_example.c -o winapi_example.exe\n",
    "%run echo \"Hello students!\" > winapi_example_input_001.txt\n",
    "%run wine winapi_example.exe winapi_example_input_001.txt\n",
    "\n",
    "#include <windows.h>\n",
    "#include <stdio.h>\n",
    "\n",
    "int main(int argc, char *argv[])\n",
    "{\n",
    "#ifdef WIN32\n",
    "    printf(\"Defined WIN32\\n\");\n",
    "#else\n",
    "    printf(\"Not WIN32\\n\");\n",
    "#endif\n",
    "    if (argc < 2) {\n",
    "        printf(\"Need at least 2 arguments\\n\");\n",
    "        return 1;\n",
    "    }\n",
    "    HANDLE fileHandle = CreateFileA(\n",
    "        argv[1], GENERIC_READ, FILE_SHARE_READ, NULL,\n",
    "        OPEN_EXISTING, FILE_ATTRIBUTE_NORMAL, NULL);\n",
    "    if (fileHandle == INVALID_HANDLE_VALUE) {\n",
    "        char errorBuffer[1024];\n",
    "        if (!FormatMessage(FORMAT_MESSAGE_FROM_SYSTEM | FORMAT_MESSAGE_IGNORE_INSERTS,\n",
    "                           NULL, GetLastError(),\n",
    "                           MAKELANGID(LANG_NEUTRAL, SUBLANG_DEFAULT),\n",
    "                           errorBuffer, sizeof(errorBuffer), NULL))\n",
    "        {\n",
    "            printf(\"Format message failed with 0x%x\\n\", GetLastError());\n",
    "            return -1;\n",
    "        }\n",
    "        printf(\"Can't open file: %s\\n\", errorBuffer);\n",
    "        return -1;\n",
    "    }\n",
    "    \n",
    "    char buffer[4096];\n",
    "    memset(buffer, 0, sizeof(buffer));\n",
    "    DWORD bytes_read;\n",
    "    BOOL success;\n",
    "    success = ReadFile(fileHandle, buffer, sizeof(buffer),\n",
    "                       &bytes_read, NULL);\n",
    "    if (!success) {\n",
    "        perror(\"Error reading file\"); // Это ошибка, perror смотрит в errno, а не в GetLastError()\n",
    "        CloseHandle(fileHandle);\n",
    "        return -1;\n",
    "    }\n",
    "    printf(\"Bytes read: %d\\n'''%s'''\\n\", bytes_read, buffer);\n",
    "    CloseHandle(fileHandle);\n",
    "    return 0;\n",
    "}"
   ]
  },
  {
   "cell_type": "code",
   "execution_count": null,
   "metadata": {},
   "outputs": [],
   "source": []
  },
  {
   "cell_type": "code",
   "execution_count": 3,
   "metadata": {},
   "outputs": [
    {
     "data": {
      "text/html": [
       "<iframe width=\"560\" height=\"315\" src=\"https://sekundomer.net/onlinetimer/\" frameborder=\"0\" allowfullscreen></iframe>"
      ],
      "text/plain": [
       "<IPython.core.display.HTML object>"
      ]
     },
     "metadata": {},
     "output_type": "display_data"
    }
   ],
   "source": [
    "from IPython.display import HTML, display\n",
    "display(HTML('<iframe width=\"560\" height=\"315\" src=\"https://sekundomer.net/onlinetimer/\" frameborder=\"0\" allowfullscreen></iframe>'))"
   ]
  },
  {
   "cell_type": "markdown",
   "metadata": {},
   "source": [
    "## Микротест:\n",
    "1. вариант\n",
    "  1. Определение файлового дескриптора. Стандартные дескрипторы открытые при старте программы.\n",
    "  1. Каких гарантий не дают функции read и write? Кто виноват и что с этим приходится делать?\n",
    "  1. Аргументы и возвращаемое значение функции lseek\n",
    "  1. С какими правами стоит создавать обычный файл? (3й аргумент open)\n",
    "1. вариант\n",
    "  1. Аргументы и возвращаемое значение функции read. Обработка ошибок функции\n",
    "  1. У вас есть файловый дескриптор открытого файла. Как узнать размер этого файла?\n",
    "  1. Аргументы и возвращаемое значение вызова open. Особенность передачи аргументов в функцию\n",
    "  1. Как вывести форматированную строку printf(\"S=%d, F=%f\", 42, 1.23) в файловый дескриптор?\n"
   ]
  },
  {
   "cell_type": "code",
   "execution_count": null,
   "metadata": {},
   "outputs": [],
   "source": []
  }
 ],
 "metadata": {
  "kernelspec": {
   "display_name": "Python 3",
   "language": "python",
   "name": "python3"
  },
  "language_info": {
   "codemirror_mode": {
    "name": "ipython",
    "version": 3
   },
   "file_extension": ".py",
   "mimetype": "text/x-python",
   "name": "python",
   "nbconvert_exporter": "python",
   "pygments_lexer": "ipython3",
   "version": "3.5.2"
  }
 },
 "nbformat": 4,
 "nbformat_minor": 2
}
