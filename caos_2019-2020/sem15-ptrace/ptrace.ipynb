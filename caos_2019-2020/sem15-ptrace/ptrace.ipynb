{
 "cells": [
  {
   "cell_type": "code",
   "execution_count": 1,
   "metadata": {},
   "outputs": [
    {
     "data": {
      "application/javascript": [
       "// setup cpp code highlighting\n",
       "IPython.CodeCell.options_default.highlight_modes[\"text/x-c++src\"] = {'reg':[/^%%cpp/]} ;"
      ],
      "text/plain": [
       "<IPython.core.display.Javascript object>"
      ]
     },
     "metadata": {},
     "output_type": "display_data"
    },
    {
     "data": {
      "text/html": [
       "<!-- YANDEX_METRICA_BEGIN -->\n",
       "    <script type=\"text/javascript\" >\n",
       "       (function(m,e,t,r,i,k,a){m[i]=m[i]||function(){(m[i].a=m[i].a||[]).push(arguments)};\n",
       "       m[i].l=1*new Date();k=e.createElement(t),a=e.getElementsByTagName(t)[0],k.async=1,k.src=r,a.parentNode.insertBefore(k,a)})\n",
       "       (window, document, \"script\", \"https://mc.yandex.ru/metrika/tag.js\", \"ym\");\n",
       "\n",
       "       ym(59260609, \"init\", {\n",
       "            clickmap:true,\n",
       "            trackLinks:true,\n",
       "            accurateTrackBounce:true\n",
       "       });\n",
       "    </script>\n",
       "    <noscript><div><img src=\"https://mc.yandex.ru/watch/59260609\" style=\"position:absolute; left:-9999px;\" alt=\"\" /></div></noscript>\n",
       "    <!-- YANDEX_METRICA_END -->"
      ],
      "text/plain": [
       "<IPython.core.display.HTML object>"
      ]
     },
     "metadata": {},
     "output_type": "display_data"
    },
    {
     "data": {
      "text/html": [
       "В этот ноутбук встроен код Яндекс Метрики для сбора статистики использований. Если вы не хотите, чтобы по вам собиралась статистика, исправьте: yandex_metrica_allowed = False<!-- MAGICS_SETUP_PRINTING_END -->"
      ],
      "text/plain": [
       "<IPython.core.display.HTML object>"
      ]
     },
     "metadata": {},
     "output_type": "display_data"
    }
   ],
   "source": [
    "# look at tools/set_up_magics.ipynb\n",
    "yandex_metrica_allowed = True ; get_ipython().run_cell('# one_liner_str\\n\\nget_ipython().run_cell_magic(\\'javascript\\', \\'\\', \\'// setup cpp code highlighting\\\\nIPython.CodeCell.options_default.highlight_modes[\"text/x-c++src\"] = {\\\\\\'reg\\\\\\':[/^%%cpp/]} ;\\')\\n\\n# creating magics\\nfrom IPython.core.magic import register_cell_magic, register_line_magic\\nfrom IPython.display import display, Markdown, HTML\\nimport argparse\\nfrom subprocess import Popen, PIPE\\nimport random\\nimport sys\\nimport os\\nimport re\\nimport signal\\nimport shutil\\nimport shlex\\nimport glob\\n\\n@register_cell_magic\\ndef save_file(args_str, cell, line_comment_start=\"#\"):\\n    parser = argparse.ArgumentParser()\\n    parser.add_argument(\"fname\")\\n    parser.add_argument(\"--ejudge-style\", action=\"store_true\")\\n    args = parser.parse_args(args_str.split())\\n    \\n    cell = cell if cell[-1] == \\'\\\\n\\' or args.no_eof_newline else cell + \"\\\\n\"\\n    cmds = []\\n    with open(args.fname, \"w\") as f:\\n        f.write(line_comment_start + \" %%cpp \" + args_str + \"\\\\n\")\\n        for line in cell.split(\"\\\\n\"):\\n            line_to_write = (line if not args.ejudge_style else line.rstrip()) + \"\\\\n\"\\n            if line.startswith(\"%\"):\\n                run_prefix = \"%run \"\\n                if line.startswith(run_prefix):\\n                    cmds.append(line[len(run_prefix):].strip())\\n                    f.write(line_comment_start + \" \" + line_to_write)\\n                    continue\\n                run_prefix = \"%# \"\\n                if line.startswith(run_prefix):\\n                    f.write(line_comment_start + \" \" + line_to_write)\\n                    continue\\n                raise Exception(\"Unknown %%save_file subcommand: \\'%s\\'\" % line)\\n            else:\\n                f.write(line_to_write)\\n        f.write(\"\" if not args.ejudge_style else line_comment_start + r\" line without \\\\n\")\\n    for cmd in cmds:\\n        display(Markdown(\"Run: `%s`\" % cmd))\\n        get_ipython().system(cmd)\\n\\n@register_cell_magic\\ndef cpp(fname, cell):\\n    save_file(fname, cell, \"//\")\\n\\n@register_cell_magic\\ndef asm(fname, cell):\\n    save_file(fname, cell, \"//\")\\n    \\n@register_cell_magic\\ndef makefile(fname, cell):\\n    assert not fname\\n    save_file(\"makefile\", cell.replace(\" \" * 4, \"\\\\t\"))\\n        \\n@register_line_magic\\ndef p(line):\\n    try:\\n        expr, comment = line.split(\" #\")\\n        display(Markdown(\"`{} = {}`  # {}\".format(expr.strip(), eval(expr), comment.strip())))\\n    except:\\n        display(Markdown(\"{} = {}\".format(line, eval(line))))\\n        \\ndef show_file(file, clear_at_begin=True, return_html_string=False):\\n    if clear_at_begin:\\n        get_ipython().system(\"truncate --size 0 \" + file)\\n    obj = file.replace(\\'.\\', \\'_\\').replace(\\'/\\', \\'_\\') + \"_obj\"\\n    html_string = \\'\\'\\'\\n        <!--MD_BEGIN_FILTER-->\\n        <script type=text/javascript>\\n        var entrance___OBJ__ = 0;\\n        var errors___OBJ__ = 0;\\n        function refresh__OBJ__()\\n        {\\n            entrance___OBJ__ -= 1;\\n            var elem = document.getElementById(\"__OBJ__\");\\n            if (elem) {\\n                var xmlhttp=new XMLHttpRequest();\\n                xmlhttp.onreadystatechange=function()\\n                {\\n                    var elem = document.getElementById(\"__OBJ__\");\\n                    console.log(!!elem, xmlhttp.readyState, xmlhttp.status, entrance___OBJ__);\\n                    if (elem && xmlhttp.readyState==4) {\\n                        if (xmlhttp.status==200)\\n                        {\\n                            errors___OBJ__ = 0;\\n                            if (!entrance___OBJ__) {\\n                                elem.innerText = xmlhttp.responseText;\\n                                entrance___OBJ__ += 1;\\n                                console.log(\"req\");\\n                                window.setTimeout(\"refresh__OBJ__()\", 300); \\n                            }\\n                            return xmlhttp.responseText;\\n                        } else {\\n                            errors___OBJ__ += 1;\\n                            if (errors___OBJ__ < 10 && !entrance___OBJ__) {\\n                                entrance___OBJ__ += 1;\\n                                console.log(\"req\");\\n                                window.setTimeout(\"refresh__OBJ__()\", 300); \\n                            }\\n                        }\\n                    }\\n                }\\n                xmlhttp.open(\"GET\", \"__FILE__\", true);\\n                xmlhttp.setRequestHeader(\"Cache-Control\", \"no-cache\");\\n                xmlhttp.send();     \\n            }\\n        }\\n        \\n        if (!entrance___OBJ__) {\\n            entrance___OBJ__ += 1;\\n            refresh__OBJ__(); \\n        }\\n        </script>\\n        \\n        <font color=\"white\"> <tt>\\n        <p id=\"__OBJ__\" style=\"font-size: 16px; border:3px #333333 solid; background: #333333; border-radius: 10px; padding: 10px;  \"></p>\\n        </tt> </font>\\n        <!--MD_END_FILTER-->\\n        <!--MD_FROM_FILE __FILE__ -->\\n        \\'\\'\\'.replace(\"__OBJ__\", obj).replace(\"__FILE__\", file)\\n    if return_html_string:\\n        return html_string\\n    display(HTML(html_string))\\n    \\nBASH_POPEN_TMP_DIR = \"./bash_popen_tmp\"\\n    \\ndef bash_popen_terminate_all():\\n    for p in globals().get(\"bash_popen_list\", []):\\n        print(\"Terminate pid=\" + str(p.pid), file=sys.stderr)\\n        p.terminate()\\n    globals()[\"bash_popen_list\"] = []\\n    if os.path.exists(BASH_POPEN_TMP_DIR):\\n        shutil.rmtree(BASH_POPEN_TMP_DIR)\\n\\nbash_popen_terminate_all()  \\n\\ndef bash_popen(cmd):\\n    if not os.path.exists(BASH_POPEN_TMP_DIR):\\n        os.mkdir(BASH_POPEN_TMP_DIR)\\n    h = os.path.join(BASH_POPEN_TMP_DIR, str(random.randint(0, 1e18)))\\n    stdout_file = h + \".out.html\"\\n    stderr_file = h + \".err.html\"\\n    run_log_file = h + \".fin.html\"\\n    \\n    stdout = open(stdout_file, \"wb\")\\n    stdout = open(stderr_file, \"wb\")\\n    \\n    html = \"\"\"\\n    <table width=\"100%\">\\n    <colgroup>\\n       <col span=\"1\" style=\"width: 70px;\">\\n       <col span=\"1\">\\n    </colgroup>    \\n    <tbody>\\n      <tr> <td><b>STDOUT</b></td> <td> {stdout} </td> </tr>\\n      <tr> <td><b>STDERR</b></td> <td> {stderr} </td> </tr>\\n      <tr> <td><b>RUN LOG</b></td> <td> {run_log} </td> </tr>\\n    </tbody>\\n    </table>\\n    \"\"\".format(\\n        stdout=show_file(stdout_file, return_html_string=True),\\n        stderr=show_file(stderr_file, return_html_string=True),\\n        run_log=show_file(run_log_file, return_html_string=True),\\n    )\\n    \\n    cmd = \"\"\"\\n        bash -c {cmd} &\\n        pid=$!\\n        echo \"Process started! pid=${{pid}}\" > {run_log_file}\\n        wait ${{pid}}\\n        echo \"Process finished! exit_code=$?\" >> {run_log_file}\\n    \"\"\".format(cmd=shlex.quote(cmd), run_log_file=run_log_file)\\n    # print(cmd)\\n    display(HTML(html))\\n    \\n    p = Popen([\"bash\", \"-c\", cmd], stdin=PIPE, stdout=stdout, stderr=stdout)\\n    \\n    bash_popen_list.append(p)\\n    return p\\n\\n\\n@register_line_magic\\ndef bash_async(line):\\n    bash_popen(line)\\n    \\n    \\ndef show_log_file(file, return_html_string=False):\\n    obj = file.replace(\\'.\\', \\'_\\').replace(\\'/\\', \\'_\\') + \"_obj\"\\n    html_string = \\'\\'\\'\\n        <!--MD_BEGIN_FILTER-->\\n        <script type=text/javascript>\\n        var entrance___OBJ__ = 0;\\n        var errors___OBJ__ = 0;\\n        function halt__OBJ__(elem, color)\\n        {\\n            elem.setAttribute(\"style\", \"font-size: 14px; background: \" + color + \"; padding: 10px; border: 3px; border-radius: 5px; color: white; \");                    \\n        }\\n        function refresh__OBJ__()\\n        {\\n            entrance___OBJ__ -= 1;\\n            if (entrance___OBJ__ < 0) {\\n                entrance___OBJ__ = 0;\\n            }\\n            var elem = document.getElementById(\"__OBJ__\");\\n            if (elem) {\\n                var xmlhttp=new XMLHttpRequest();\\n                xmlhttp.onreadystatechange=function()\\n                {\\n                    var elem = document.getElementById(\"__OBJ__\");\\n                    console.log(!!elem, xmlhttp.readyState, xmlhttp.status, entrance___OBJ__);\\n                    if (elem && xmlhttp.readyState==4) {\\n                        if (xmlhttp.status==200)\\n                        {\\n                            errors___OBJ__ = 0;\\n                            if (!entrance___OBJ__) {\\n                                if (elem.innerHTML != xmlhttp.responseText) {\\n                                    elem.innerHTML = xmlhttp.responseText;\\n                                }\\n                                if (elem.innerHTML.includes(\"Process finished.\")) {\\n                                    halt__OBJ__(elem, \"#333333\");\\n                                } else {\\n                                    entrance___OBJ__ += 1;\\n                                    console.log(\"req\");\\n                                    window.setTimeout(\"refresh__OBJ__()\", 300); \\n                                }\\n                            }\\n                            return xmlhttp.responseText;\\n                        } else {\\n                            errors___OBJ__ += 1;\\n                            if (!entrance___OBJ__) {\\n                                if (errors___OBJ__ < 6) {\\n                                    entrance___OBJ__ += 1;\\n                                    console.log(\"req\");\\n                                    window.setTimeout(\"refresh__OBJ__()\", 300); \\n                                } else {\\n                                    halt__OBJ__(elem, \"#994444\");\\n                                }\\n                            }\\n                        }\\n                    }\\n                }\\n                xmlhttp.open(\"GET\", \"__FILE__\", true);\\n                xmlhttp.setRequestHeader(\"Cache-Control\", \"no-cache\");\\n                xmlhttp.send();     \\n            }\\n        }\\n        \\n        if (!entrance___OBJ__) {\\n            entrance___OBJ__ += 1;\\n            refresh__OBJ__(); \\n        }\\n        </script>\\n\\n        <p id=\"__OBJ__\" style=\"font-size: 14px; background: #000000; padding: 10px; border: 3px; border-radius: 5px; color: white; \">\\n        </p>\\n        \\n        </font>\\n        <!--MD_END_FILTER-->\\n        <!--MD_FROM_FILE __FILE__.md -->\\n        \\'\\'\\'.replace(\"__OBJ__\", obj).replace(\"__FILE__\", file)\\n    if return_html_string:\\n        return html_string\\n    display(HTML(html_string))\\n\\n    \\nclass TInteractiveLauncher:\\n    tmp_path = \"./interactive_launcher_tmp\"\\n    def __init__(self, cmd):\\n        try:\\n            os.mkdir(TInteractiveLauncher.tmp_path)\\n        except:\\n            pass\\n        name = str(random.randint(0, 1e18))\\n        self.inq_path = os.path.join(TInteractiveLauncher.tmp_path, name + \".inq\")\\n        self.log_path = os.path.join(TInteractiveLauncher.tmp_path, name + \".log\")\\n        \\n        os.mkfifo(self.inq_path)\\n        open(self.log_path, \\'w\\').close()\\n        open(self.log_path + \".md\", \\'w\\').close()\\n\\n        self.pid = os.fork()\\n        if self.pid == -1:\\n            print(\"Error\")\\n        if self.pid == 0:\\n            exe_cands = glob.glob(\"../tools/launcher.py\") + glob.glob(\"../../tools/launcher.py\")\\n            assert(len(exe_cands) == 1)\\n            assert(os.execvp(\"python3\", [\"python3\", exe_cands[0], \"-l\", self.log_path, \"-i\", self.inq_path, \"-c\", cmd]) == 0)\\n        self.inq_f = open(self.inq_path, \"w\")\\n        interactive_launcher_opened_set.add(self.pid)\\n        show_log_file(self.log_path)\\n\\n    def write(self, s):\\n        s = s.encode()\\n        assert len(s) == os.write(self.inq_f.fileno(), s)\\n        \\n    def get_pid(self):\\n        n = 100\\n        for i in range(n):\\n            try:\\n                return int(re.findall(r\"PID = (\\\\d+)\", open(self.log_path).readline())[0])\\n            except:\\n                if i + 1 == n:\\n                    raise\\n                time.sleep(0.1)\\n        \\n    def input_queue_path(self):\\n        return self.inq_path\\n        \\n    def close(self):\\n        self.inq_f.close()\\n        os.waitpid(self.pid, 0)\\n        os.remove(self.inq_path)\\n        # os.remove(self.log_path)\\n        self.inq_path = None\\n        self.log_path = None \\n        interactive_launcher_opened_set.remove(self.pid)\\n        self.pid = None\\n        \\n    @staticmethod\\n    def terminate_all():\\n        if \"interactive_launcher_opened_set\" not in globals():\\n            globals()[\"interactive_launcher_opened_set\"] = set()\\n        global interactive_launcher_opened_set\\n        for pid in interactive_launcher_opened_set:\\n            print(\"Terminate pid=\" + str(pid), file=sys.stderr)\\n            os.kill(pid, signal.SIGKILL)\\n            os.waitpid(pid, 0)\\n        interactive_launcher_opened_set = set()\\n        if os.path.exists(TInteractiveLauncher.tmp_path):\\n            shutil.rmtree(TInteractiveLauncher.tmp_path)\\n    \\nTInteractiveLauncher.terminate_all()\\n   \\nyandex_metrica_allowed = bool(globals().get(\"yandex_metrica_allowed\", False))\\nif yandex_metrica_allowed:\\n    display(HTML(\\'\\'\\'<!-- YANDEX_METRICA_BEGIN -->\\n    <script type=\"text/javascript\" >\\n       (function(m,e,t,r,i,k,a){m[i]=m[i]||function(){(m[i].a=m[i].a||[]).push(arguments)};\\n       m[i].l=1*new Date();k=e.createElement(t),a=e.getElementsByTagName(t)[0],k.async=1,k.src=r,a.parentNode.insertBefore(k,a)})\\n       (window, document, \"script\", \"https://mc.yandex.ru/metrika/tag.js\", \"ym\");\\n\\n       ym(59260609, \"init\", {\\n            clickmap:true,\\n            trackLinks:true,\\n            accurateTrackBounce:true\\n       });\\n    </script>\\n    <noscript><div><img src=\"https://mc.yandex.ru/watch/59260609\" style=\"position:absolute; left:-9999px;\" alt=\"\" /></div></noscript>\\n    <!-- YANDEX_METRICA_END -->\\'\\'\\'))\\n\\ndef make_oneliner():\\n    html_text = \\'(\"В этот ноутбук встроен код Яндекс Метрики для сбора статистики использований. Если вы не хотите, чтобы по вам собиралась статистика, исправьте: yandex_metrica_allowed = False\" if yandex_metrica_allowed else \"\")\\'\\n    html_text += \\' + \"<\"\"!-- MAGICS_SETUP_PRINTING_END -->\"\\'\\n    return \\'\\'.join([\\n        \\'# look at tools/set_up_magics.ipynb\\\\n\\',\\n        \\'yandex_metrica_allowed = True ; get_ipython().run_cell(%s);\\' % repr(one_liner_str),\\n        \\'display(HTML(%s))\\' % html_text,\\n        \\' #\\'\\'MAGICS_SETUP_END\\'\\n    ])\\n       \\n\\n');display(HTML((\"В этот ноутбук встроен код Яндекс Метрики для сбора статистики использований. Если вы не хотите, чтобы по вам собиралась статистика, исправьте: yandex_metrica_allowed = False\" if yandex_metrica_allowed else \"\") + \"<\"\"!-- MAGICS_SETUP_PRINTING_END -->\")) #MAGICS_SETUP_END"
   ]
  },
  {
   "cell_type": "markdown",
   "metadata": {},
   "source": [
    "# PTRACE\n",
    "\n",
    "Документация https://www.opennet.ru/base/dev/ptrace_guide.txt.html\n",
    "\n",
    "Пример от Яковлева https://github.com/victor-yacovlev/mipt-diht-caos/tree/master/practice/exec-rlimit-ptrace"
   ]
  },
  {
   "cell_type": "code",
   "execution_count": 2,
   "metadata": {},
   "outputs": [
    {
     "data": {
      "text/markdown": [
       "Run: `gcc premoderate.c -o premoderate.exe`"
      ],
      "text/plain": [
       "<IPython.core.display.Markdown object>"
      ]
     },
     "metadata": {},
     "output_type": "display_data"
    }
   ],
   "source": [
    "%%cpp premoderate.c\n",
    "%run gcc premoderate.c -o premoderate.exe\n",
    "\n",
    "#include <sys/types.h>\n",
    "#include <sys/stat.h>\n",
    "#include <sys/ptrace.h>\n",
    "#include <sys/wait.h>\n",
    "#include <sys/user.h>\n",
    "#include <unistd.h>\n",
    "#include <stdlib.h>\n",
    "#include <stdio.h>\n",
    "#include <fcntl.h>\n",
    "#include <stdbool.h>\n",
    "#include <asm/unistd.h>\n",
    "#include <signal.h>\n",
    "#include <string.h>\n",
    "#include <errno.h>\n",
    "\n",
    "#define safe_ptrace(...) { int __ret = ptrace(__VA_ARGS__); if (__ret == -1) { \\\n",
    "    char buf[10000]; sprintf(buf, \"ptrace failed, line=%d\", __LINE__); perror(buf); abort(); }}\n",
    "\n",
    "\n",
    "static void\n",
    "premoderate_write_syscall(pid_t pid, struct user_regs_struct state)\n",
    "{\n",
    "    size_t orig_buf = state.rsi;   // ecx for i386\n",
    "    size_t size = state.rdx;       // rdx for i386\n",
    "    char *buffer = calloc(size + sizeof(long), sizeof(*buffer));\n",
    "    int val = 0;\n",
    "    for (size_t i = 0; i < size; ++i) {\n",
    "        buffer[i] = ptrace(PTRACE_PEEKDATA, pid, orig_buf + i, NULL);\n",
    "    }\n",
    "    char *bad_word;\n",
    "    if (bad_word = strstr(buffer, \"3\")) {\n",
    "         size_t offset = bad_word - buffer; \n",
    "         buffer[offset] = '5';                      \n",
    "         size_t target_address = orig_buf + offset;\n",
    "         long val;\n",
    "         memcpy(&val, buffer + offset, sizeof(val));\n",
    "         safe_ptrace(PTRACE_POKEDATA, pid, target_address, val);\n",
    "    }\n",
    "    free(buffer);\n",
    "}\n",
    "\n",
    "int main(int argc, char *argv[])\n",
    "{\n",
    "    pid_t pid = fork();\n",
    "    if (-1 == pid) { perror(\"fork\"); exit(1); }\n",
    "    if (0 == pid) {\n",
    "        safe_ptrace(PTRACE_TRACEME, 0, NULL, NULL);\n",
    "        execvp(argv[1], argv + 1);\n",
    "        perror(\"exec\");\n",
    "        exit(2);\n",
    "    }  \n",
    "    int wstatus = 0;\n",
    "    struct user_regs_struct state;\n",
    "    bool stop = false;\n",
    "    while (!stop) {\n",
    "        ptrace(PTRACE_SYSCALL, pid, NULL, NULL);\n",
    "        waitpid(pid, &wstatus, 0);\n",
    "        stop = WIFEXITED(wstatus);\n",
    "        if (WIFSTOPPED(wstatus)) {\n",
    "            ptrace(PTRACE_GETREGS, pid, 0, &state);\n",
    "            if (__NR_write == state.orig_rax) {  // orig_eax for i386\n",
    "                premoderate_write_syscall(pid, state);\n",
    "            }              \n",
    "        }\n",
    "    }  \n",
    "}"
   ]
  },
  {
   "cell_type": "code",
   "execution_count": 3,
   "metadata": {},
   "outputs": [
    {
     "name": "stdout",
     "output_type": "stream",
     "text": [
      "Vasya got 5 in math\r\n"
     ]
    }
   ],
   "source": [
    "!./premoderate.exe echo \"Vasya got 3 in math\""
   ]
  },
  {
   "cell_type": "code",
   "execution_count": null,
   "metadata": {},
   "outputs": [],
   "source": []
  },
  {
   "cell_type": "markdown",
   "metadata": {},
   "source": [
    "# Пример от меня, который может пригодиться при тестировании программ на надежность IO"
   ]
  },
  {
   "cell_type": "code",
   "execution_count": 4,
   "metadata": {},
   "outputs": [
    {
     "data": {
      "text/markdown": [
       "Run: `gcc run_with_unreliable_io.c -o run_with_unreliable_io.exe`"
      ],
      "text/plain": [
       "<IPython.core.display.Markdown object>"
      ]
     },
     "metadata": {},
     "output_type": "display_data"
    }
   ],
   "source": [
    "%%cpp run_with_unreliable_io.c\n",
    "%run gcc run_with_unreliable_io.c -o run_with_unreliable_io.exe\n",
    "\n",
    "#include <sys/types.h>\n",
    "#include <sys/stat.h>\n",
    "#include <sys/ptrace.h>\n",
    "#include <sys/wait.h>\n",
    "#include <sys/user.h>\n",
    "#include <unistd.h>\n",
    "#include <stdlib.h>\n",
    "#include <stdio.h>\n",
    "#include <fcntl.h>\n",
    "#include <stdbool.h>\n",
    "#include <asm/unistd.h>\n",
    "#include <signal.h>\n",
    "#include <string.h>\n",
    "#include <errno.h>\n",
    "#include <time.h>\n",
    "\n",
    "\n",
    "#define safe_ptrace(...) { int __ret = ptrace(__VA_ARGS__); if (__ret == -1) { \\\n",
    "    char buf[10000]; sprintf(buf, \"ptrace failed, line=%d\", __LINE__); perror(buf); abort(); }}\n",
    "\n",
    "int main(int argc, char *argv[])\n",
    "{\n",
    "    pid_t pid = fork();\n",
    "    if (-1 == pid) { perror(\"fork\"); exit(1); }\n",
    "    if (0 == pid) {\n",
    "        safe_ptrace(PTRACE_TRACEME, 0, NULL, NULL);\n",
    "        execvp(argv[2], argv + 2);\n",
    "        perror(\"exec\");\n",
    "        exit(2);\n",
    "    }  \n",
    "    srand(time(NULL));\n",
    "    int enable_retryable_errors;\n",
    "    sscanf(argv[1], \"%d\", &enable_retryable_errors);\n",
    "    \n",
    "    int wstatus = 0;\n",
    "    waitpid(pid, &wstatus, 0);\n",
    "    struct user_regs_struct state;\n",
    "    bool stop = false;\n",
    "    int reads_count = 0;\n",
    "    while (!stop) {\n",
    "        ptrace(PTRACE_SYSCALL, pid, NULL, NULL);\n",
    "        waitpid(pid, &wstatus, 0);\n",
    "        stop = WIFEXITED(wstatus);\n",
    "        if (WIFSTOPPED(wstatus)) {\n",
    "            if (ptrace(PTRACE_GETREGS, pid, 0, &state) == -1) return 0;\n",
    "            if (state.rdi != 2 && (__NR_write == state.orig_rax || __NR_read == state.orig_rax)) {  // orig_eax for i386\n",
    "                if (__NR_read == state.orig_rax) {\n",
    "                    ++reads_count;\n",
    "                    if (reads_count <= 2) continue;\n",
    "                }\n",
    "                if (rand() % 3 != 0) {\n",
    "                    unsigned long long old_rdx = state.rdx;\n",
    "                    if (state.rdx > 1 && rand() % 2 == 0) {\n",
    "                        state.rdx = 1 + rand() % ((state.rdx + 4) / 5);\n",
    "                        ptrace(PTRACE_SETREGS, pid, 0, &state);\n",
    "                    } \n",
    "                    ptrace(PTRACE_SINGLESTEP, pid, 0, 0);\n",
    "                    waitpid(pid, &wstatus, 0);\n",
    "                    ptrace(PTRACE_GETREGS, pid, 0, &state); // Вот тут был баг на семинаре (не было этой строчки), я терял возвращенное в eax значение\n",
    "                    // возвращаем как было, чтобы логика самой программы не поменялась\n",
    "                    state.rdx = old_rdx;\n",
    "                    ptrace(PTRACE_SETREGS, pid, 0, &state); \n",
    "                } else if (enable_retryable_errors) {\n",
    "                    unsigned long long old_rdx = state.rdx;\n",
    "                    unsigned long long old_rdi = state.rdi;\n",
    "                    state.rdx = 0;\n",
    "                    state.rdi = 100500; // not existing file descriptor\n",
    "                    ptrace(PTRACE_SETREGS, pid, 0, &state);\n",
    "                    safe_ptrace(PTRACE_SINGLESTEP, pid, 0, 0);\n",
    "                    waitpid(pid, &wstatus, 0); // важно! делать wait\n",
    "                    state.rax = -EINTR;\n",
    "                    state.rdx = old_rdx;\n",
    "                    state.rdi = old_rdi;\n",
    "                    ptrace(PTRACE_SETREGS, pid, 0, &state); \n",
    "                }\n",
    "            }              \n",
    "        }\n",
    "    }  \n",
    "}"
   ]
  },
  {
   "cell_type": "code",
   "execution_count": 5,
   "metadata": {},
   "outputs": [
    {
     "name": "stdout",
     "output_type": "stream",
     "text": [
      "Reliable print: Hello from C!\r\n",
      "Written 30 bytes by printf. errno=0, err=Success\r\n",
      "Hewrite: Success\r\n",
      "Written 2 bytes by write. errno=0, err=Success\r\n"
     ]
    }
   ],
   "source": [
    "!./run_with_unreliable_io.exe 0 ./unreliable_write.exe"
   ]
  },
  {
   "cell_type": "code",
   "execution_count": 8,
   "metadata": {},
   "outputs": [
    {
     "name": "stdout",
     "output_type": "stream",
     "text": [
      "Vasya got 3 in math\n",
      "Vaecho: write error\n"
     ]
    }
   ],
   "source": [
    "!./run_with_unreliable_io.exe 0 echo \"Vasya got 3 in math\"\n",
    "!./run_with_unreliable_io.exe 1 echo \"Vasya got 3 in math\""
   ]
  },
  {
   "cell_type": "code",
   "execution_count": null,
   "metadata": {},
   "outputs": [],
   "source": []
  },
  {
   "cell_type": "code",
   "execution_count": 9,
   "metadata": {},
   "outputs": [
    {
     "data": {
      "text/markdown": [
       "Run: `gcc unreliable_write.cpp -o unreliable_write.exe`"
      ],
      "text/plain": [
       "<IPython.core.display.Markdown object>"
      ]
     },
     "metadata": {},
     "output_type": "display_data"
    },
    {
     "data": {
      "text/markdown": [
       "Run: `./unreliable_write.exe`"
      ],
      "text/plain": [
       "<IPython.core.display.Markdown object>"
      ]
     },
     "metadata": {},
     "output_type": "display_data"
    },
    {
     "name": "stdout",
     "output_type": "stream",
     "text": [
      "Reliable print: Hello from C!\r\n",
      "Written 30 bytes by printf. errno=0, err=Success\r\n",
      "Hello from C!\r\n",
      "\u0000write: Success\r\n",
      "Written 15 bytes by write. errno=0, err=Success\r\n"
     ]
    },
    {
     "data": {
      "text/markdown": [
       "Run: `./run_with_unreliable_io.exe 0 ./unreliable_write.exe`"
      ],
      "text/plain": [
       "<IPython.core.display.Markdown object>"
      ]
     },
     "metadata": {},
     "output_type": "display_data"
    },
    {
     "name": "stdout",
     "output_type": "stream",
     "text": [
      "Reliable print: Hello from C!\r\n",
      "Written 30 bytes by printf. errno=0, err=Success\r\n",
      "Hello from C!\r\n",
      "\u0000write: Success\r\n",
      "Written 15 bytes by write. errno=0, err=Success\r\n"
     ]
    },
    {
     "data": {
      "text/markdown": [
       "Run: `./run_with_unreliable_io.exe 1 ./unreliable_write.exe`"
      ],
      "text/plain": [
       "<IPython.core.display.Markdown object>"
      ]
     },
     "metadata": {},
     "output_type": "display_data"
    },
    {
     "name": "stdout",
     "output_type": "stream",
     "text": [
      "Written -1 bytes by printf. errno=4, err=Interrupted system call\r\n",
      "Hello from C!\r\n",
      "\u0000write: Interrupted system call\r\n",
      "Written 15 bytes by write. errno=4, err=Interrupted system call\r\n"
     ]
    }
   ],
   "source": [
    "%%cpp unreliable_write.cpp\n",
    "%run gcc unreliable_write.cpp -o unreliable_write.exe\n",
    "%run ./unreliable_write.exe\n",
    "%run ./run_with_unreliable_io.exe 0 ./unreliable_write.exe\n",
    "%run ./run_with_unreliable_io.exe 1 ./unreliable_write.exe\n",
    "\n",
    "#include <unistd.h>\n",
    "#include <stdio.h>\n",
    "#include <errno.h>\n",
    "#include <string.h>\n",
    "\n",
    "int main() {\n",
    "    const char str[] = \"Hello from C!\\n\";\n",
    "    int written_p = printf(\"Reliable print: %s\", str); fflush(stdout);\n",
    "    fprintf(stderr, \"Written %d bytes by printf. errno=%d, err=%s\\n\", written_p, errno, strerror(errno)); fflush(stderr);\n",
    "  \n",
    "    int written_w = write(1, str, sizeof(str));\n",
    "    perror(\"write\");\n",
    "    fprintf(stderr, \"Written %d bytes by write. errno=%d, err=%s\\n\", written_w, errno, strerror(errno)); fflush(stderr);\n",
    "    \n",
    "    return 0;\n",
    "}"
   ]
  },
  {
   "cell_type": "code",
   "execution_count": null,
   "metadata": {},
   "outputs": [],
   "source": []
  },
  {
   "cell_type": "code",
   "execution_count": null,
   "metadata": {},
   "outputs": [],
   "source": []
  },
  {
   "cell_type": "markdown",
   "metadata": {},
   "source": [
    "# Просто страшный код\n",
    "\n",
    "Найдите ошибку и не повторяйте"
   ]
  },
  {
   "cell_type": "code",
   "execution_count": 24,
   "metadata": {},
   "outputs": [
    {
     "data": {
      "text/markdown": [
       "Run: `gcc tmp.c -o tmp.exe`"
      ],
      "text/plain": [
       "<IPython.core.display.Markdown object>"
      ]
     },
     "metadata": {},
     "output_type": "display_data"
    }
   ],
   "source": [
    "%%cpp tmp.c --ejudge-style\n",
    "%run gcc tmp.c -o tmp.exe\n",
    "\n",
    "#include <stdio.h>\n",
    "#include <stdlib.h>\n",
    "#include <sys/wait.h>\n",
    "#include <unistd.h>\n",
    "\n",
    "int main()\n",
    "{\n",
    "    // setvbuf(stdin, NULL, _IONBF, 0); // а с этим может работать\n",
    "    pid_t pid;\n",
    "    int result = 0;\n",
    "    while (1) {\n",
    "        pid = fork();\n",
    "        if (pid == 0) {\n",
    "            char buffer[4097];\n",
    "            int length = scanf(\"%s\", buffer);\n",
    "            return (length == EOF) ? 0 : 1;\n",
    "        } else {\n",
    "            int status;\n",
    "            waitpid(pid, &status, 0);\n",
    "            if (status == 0) {\n",
    "                break;\n",
    "            }\n",
    "            result += WEXITSTATUS(status);\n",
    "        }\n",
    "    }\n",
    "    printf(\"%d\\n\", result);\n",
    "    return 0;\n",
    "}"
   ]
  },
  {
   "cell_type": "code",
   "execution_count": 16,
   "metadata": {},
   "outputs": [
    {
     "name": "stdout",
     "output_type": "stream",
     "text": [
      "1\n",
      "1\n"
     ]
    }
   ],
   "source": [
    "!echo \"asdf srfr\" | ./tmp.exe\n",
    "!echo \"asdf   srfr \\n sdfvf\" | ./tmp.exe"
   ]
  },
  {
   "cell_type": "code",
   "execution_count": 23,
   "metadata": {},
   "outputs": [
    {
     "name": "stdout",
     "output_type": "stream",
     "text": [
      "2\n",
      "3\n"
     ]
    }
   ],
   "source": [
    "# в принципе даже с ненадежным io работает (если setvbuf раскомментирован)\n",
    "!echo \"asdf srfr\" | ./run_with_unreliable_io.exe 0 ./tmp.exe\n",
    "!echo \"asdf   srfr \\n sdfvf\" | ./run_with_unreliable_io.exe 0 ./tmp.exe"
   ]
  },
  {
   "cell_type": "code",
   "execution_count": null,
   "metadata": {},
   "outputs": [],
   "source": []
  }
 ],
 "metadata": {
  "kernelspec": {
   "display_name": "Python 3",
   "language": "python",
   "name": "python3"
  },
  "language_info": {
   "codemirror_mode": {
    "name": "ipython",
    "version": 3
   },
   "file_extension": ".py",
   "mimetype": "text/x-python",
   "name": "python",
   "nbconvert_exporter": "python",
   "pygments_lexer": "ipython3",
   "version": "3.5.2"
  }
 },
 "nbformat": 4,
 "nbformat_minor": 2
}
