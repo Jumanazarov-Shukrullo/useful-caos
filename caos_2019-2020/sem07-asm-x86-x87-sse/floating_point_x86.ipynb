{
 "cells": [
  {
   "cell_type": "code",
   "execution_count": 1,
   "metadata": {},
   "outputs": [
    {
     "data": {
      "application/javascript": [
       "// setup cpp code highlighting\n",
       "IPython.CodeCell.options_default.highlight_modes[\"text/x-c++src\"] = {'reg':[/^%%cpp/]} ;"
      ],
      "text/plain": [
       "<IPython.core.display.Javascript object>"
      ]
     },
     "metadata": {},
     "output_type": "display_data"
    },
    {
     "data": {
      "text/html": [
       "<!-- YANDEX_METRICA_BEGIN -->\n",
       "    <script type=\"text/javascript\" >\n",
       "       (function(m,e,t,r,i,k,a){m[i]=m[i]||function(){(m[i].a=m[i].a||[]).push(arguments)};\n",
       "       m[i].l=1*new Date();k=e.createElement(t),a=e.getElementsByTagName(t)[0],k.async=1,k.src=r,a.parentNode.insertBefore(k,a)})\n",
       "       (window, document, \"script\", \"https://mc.yandex.ru/metrika/tag.js\", \"ym\");\n",
       "\n",
       "       ym(59260609, \"init\", {\n",
       "            clickmap:true,\n",
       "            trackLinks:true,\n",
       "            accurateTrackBounce:true\n",
       "       });\n",
       "    </script>\n",
       "    <noscript><div><img src=\"https://mc.yandex.ru/watch/59260609\" style=\"position:absolute; left:-9999px;\" alt=\"\" /></div></noscript>\n",
       "    <!-- YANDEX_METRICA_END -->"
      ],
      "text/plain": [
       "<IPython.core.display.HTML object>"
      ]
     },
     "metadata": {},
     "output_type": "display_data"
    },
    {
     "data": {
      "text/html": [
       "В этот ноутбук встроен код Яндекс Метрики для сбора статистики использований. Если вы не хотите, чтобы по вам собиралась статистика, исправьте: yandex_metrica_allowed = False<!-- MAGICS_SETUP_PRINTING_END -->"
      ],
      "text/plain": [
       "<IPython.core.display.HTML object>"
      ]
     },
     "metadata": {},
     "output_type": "display_data"
    }
   ],
   "source": [
    "# look at tools/set_up_magics.ipynb\n",
    "yandex_metrica_allowed = True ; get_ipython().run_cell('# one_liner_str\\n\\nget_ipython().run_cell_magic(\\'javascript\\', \\'\\', \\'// setup cpp code highlighting\\\\nIPython.CodeCell.options_default.highlight_modes[\"text/x-c++src\"] = {\\\\\\'reg\\\\\\':[/^%%cpp/]} ;\\')\\n\\n# creating magics\\nfrom IPython.core.magic import register_cell_magic, register_line_magic\\nfrom IPython.display import display, Markdown, HTML\\nimport argparse\\nfrom subprocess import Popen, PIPE\\nimport random\\nimport sys\\nimport os\\nimport re\\nimport signal\\nimport shutil\\nimport shlex\\nimport glob\\n\\n@register_cell_magic\\ndef save_file(args_str, cell, line_comment_start=\"#\"):\\n    parser = argparse.ArgumentParser()\\n    parser.add_argument(\"fname\")\\n    parser.add_argument(\"--ejudge-style\", action=\"store_true\")\\n    args = parser.parse_args(args_str.split())\\n    \\n    cell = cell if cell[-1] == \\'\\\\n\\' or args.no_eof_newline else cell + \"\\\\n\"\\n    cmds = []\\n    with open(args.fname, \"w\") as f:\\n        f.write(line_comment_start + \" %%cpp \" + args_str + \"\\\\n\")\\n        for line in cell.split(\"\\\\n\"):\\n            line_to_write = (line if not args.ejudge_style else line.rstrip()) + \"\\\\n\"\\n            if line.startswith(\"%\"):\\n                run_prefix = \"%run \"\\n                if line.startswith(run_prefix):\\n                    cmds.append(line[len(run_prefix):].strip())\\n                    f.write(line_comment_start + \" \" + line_to_write)\\n                    continue\\n                run_prefix = \"%# \"\\n                if line.startswith(run_prefix):\\n                    f.write(line_comment_start + \" \" + line_to_write)\\n                    continue\\n                raise Exception(\"Unknown %%save_file subcommand: \\'%s\\'\" % line)\\n            else:\\n                f.write(line_to_write)\\n        f.write(\"\" if not args.ejudge_style else line_comment_start + r\" line without \\\\n\")\\n    for cmd in cmds:\\n        display(Markdown(\"Run: `%s`\" % cmd))\\n        get_ipython().system(cmd)\\n\\n@register_cell_magic\\ndef cpp(fname, cell):\\n    save_file(fname, cell, \"//\")\\n\\n@register_cell_magic\\ndef asm(fname, cell):\\n    save_file(fname, cell, \"//\")\\n    \\n@register_cell_magic\\ndef makefile(fname, cell):\\n    assert not fname\\n    save_file(\"makefile\", cell.replace(\" \" * 4, \"\\\\t\"))\\n        \\n@register_line_magic\\ndef p(line):\\n    try:\\n        expr, comment = line.split(\" #\")\\n        display(Markdown(\"`{} = {}`  # {}\".format(expr.strip(), eval(expr), comment.strip())))\\n    except:\\n        display(Markdown(\"{} = {}\".format(line, eval(line))))\\n        \\ndef show_file(file, clear_at_begin=True, return_html_string=False):\\n    if clear_at_begin:\\n        get_ipython().system(\"truncate --size 0 \" + file)\\n    obj = file.replace(\\'.\\', \\'_\\').replace(\\'/\\', \\'_\\') + \"_obj\"\\n    html_string = \\'\\'\\'\\n        <!--MD_BEGIN_FILTER-->\\n        <script type=text/javascript>\\n        var entrance___OBJ__ = 0;\\n        var errors___OBJ__ = 0;\\n        function refresh__OBJ__()\\n        {\\n            entrance___OBJ__ -= 1;\\n            var elem = document.getElementById(\"__OBJ__\");\\n            if (elem) {\\n                var xmlhttp=new XMLHttpRequest();\\n                xmlhttp.onreadystatechange=function()\\n                {\\n                    var elem = document.getElementById(\"__OBJ__\");\\n                    console.log(!!elem, xmlhttp.readyState, xmlhttp.status, entrance___OBJ__);\\n                    if (elem && xmlhttp.readyState==4) {\\n                        if (xmlhttp.status==200)\\n                        {\\n                            errors___OBJ__ = 0;\\n                            if (!entrance___OBJ__) {\\n                                elem.innerText = xmlhttp.responseText;\\n                                entrance___OBJ__ += 1;\\n                                console.log(\"req\");\\n                                window.setTimeout(\"refresh__OBJ__()\", 300); \\n                            }\\n                            return xmlhttp.responseText;\\n                        } else {\\n                            errors___OBJ__ += 1;\\n                            if (errors___OBJ__ < 10 && !entrance___OBJ__) {\\n                                entrance___OBJ__ += 1;\\n                                console.log(\"req\");\\n                                window.setTimeout(\"refresh__OBJ__()\", 300); \\n                            }\\n                        }\\n                    }\\n                }\\n                xmlhttp.open(\"GET\", \"__FILE__\", true);\\n                xmlhttp.setRequestHeader(\"Cache-Control\", \"no-cache\");\\n                xmlhttp.send();     \\n            }\\n        }\\n        \\n        if (!entrance___OBJ__) {\\n            entrance___OBJ__ += 1;\\n            refresh__OBJ__(); \\n        }\\n        </script>\\n        \\n        <font color=\"white\"> <tt>\\n        <p id=\"__OBJ__\" style=\"font-size: 16px; border:3px #333333 solid; background: #333333; border-radius: 10px; padding: 10px;  \"></p>\\n        </tt> </font>\\n        <!--MD_END_FILTER-->\\n        <!--MD_FROM_FILE __FILE__ -->\\n        \\'\\'\\'.replace(\"__OBJ__\", obj).replace(\"__FILE__\", file)\\n    if return_html_string:\\n        return html_string\\n    display(HTML(html_string))\\n    \\nBASH_POPEN_TMP_DIR = \"./bash_popen_tmp\"\\n    \\ndef bash_popen_terminate_all():\\n    for p in globals().get(\"bash_popen_list\", []):\\n        print(\"Terminate pid=\" + str(p.pid), file=sys.stderr)\\n        p.terminate()\\n    globals()[\"bash_popen_list\"] = []\\n    if os.path.exists(BASH_POPEN_TMP_DIR):\\n        shutil.rmtree(BASH_POPEN_TMP_DIR)\\n\\nbash_popen_terminate_all()  \\n\\ndef bash_popen(cmd):\\n    if not os.path.exists(BASH_POPEN_TMP_DIR):\\n        os.mkdir(BASH_POPEN_TMP_DIR)\\n    h = os.path.join(BASH_POPEN_TMP_DIR, str(random.randint(0, 1e18)))\\n    stdout_file = h + \".out.html\"\\n    stderr_file = h + \".err.html\"\\n    run_log_file = h + \".fin.html\"\\n    \\n    stdout = open(stdout_file, \"wb\")\\n    stdout = open(stderr_file, \"wb\")\\n    \\n    html = \"\"\"\\n    <table width=\"100%\">\\n    <colgroup>\\n       <col span=\"1\" style=\"width: 70px;\">\\n       <col span=\"1\">\\n    </colgroup>    \\n    <tbody>\\n      <tr> <td><b>STDOUT</b></td> <td> {stdout} </td> </tr>\\n      <tr> <td><b>STDERR</b></td> <td> {stderr} </td> </tr>\\n      <tr> <td><b>RUN LOG</b></td> <td> {run_log} </td> </tr>\\n    </tbody>\\n    </table>\\n    \"\"\".format(\\n        stdout=show_file(stdout_file, return_html_string=True),\\n        stderr=show_file(stderr_file, return_html_string=True),\\n        run_log=show_file(run_log_file, return_html_string=True),\\n    )\\n    \\n    cmd = \"\"\"\\n        bash -c {cmd} &\\n        pid=$!\\n        echo \"Process started! pid=${{pid}}\" > {run_log_file}\\n        wait ${{pid}}\\n        echo \"Process finished! exit_code=$?\" >> {run_log_file}\\n    \"\"\".format(cmd=shlex.quote(cmd), run_log_file=run_log_file)\\n    # print(cmd)\\n    display(HTML(html))\\n    \\n    p = Popen([\"bash\", \"-c\", cmd], stdin=PIPE, stdout=stdout, stderr=stdout)\\n    \\n    bash_popen_list.append(p)\\n    return p\\n\\n\\n@register_line_magic\\ndef bash_async(line):\\n    bash_popen(line)\\n    \\n    \\ndef show_log_file(file, return_html_string=False):\\n    obj = file.replace(\\'.\\', \\'_\\').replace(\\'/\\', \\'_\\') + \"_obj\"\\n    html_string = \\'\\'\\'\\n        <!--MD_BEGIN_FILTER-->\\n        <script type=text/javascript>\\n        var entrance___OBJ__ = 0;\\n        var errors___OBJ__ = 0;\\n        function halt__OBJ__(elem, color)\\n        {\\n            elem.setAttribute(\"style\", \"font-size: 14px; background: \" + color + \"; padding: 10px; border: 3px; border-radius: 5px; color: white; \");                    \\n        }\\n        function refresh__OBJ__()\\n        {\\n            entrance___OBJ__ -= 1;\\n            if (entrance___OBJ__ < 0) {\\n                entrance___OBJ__ = 0;\\n            }\\n            var elem = document.getElementById(\"__OBJ__\");\\n            if (elem) {\\n                var xmlhttp=new XMLHttpRequest();\\n                xmlhttp.onreadystatechange=function()\\n                {\\n                    var elem = document.getElementById(\"__OBJ__\");\\n                    console.log(!!elem, xmlhttp.readyState, xmlhttp.status, entrance___OBJ__);\\n                    if (elem && xmlhttp.readyState==4) {\\n                        if (xmlhttp.status==200)\\n                        {\\n                            errors___OBJ__ = 0;\\n                            if (!entrance___OBJ__) {\\n                                if (elem.innerHTML != xmlhttp.responseText) {\\n                                    elem.innerHTML = xmlhttp.responseText;\\n                                }\\n                                if (elem.innerHTML.includes(\"Process finished.\")) {\\n                                    halt__OBJ__(elem, \"#333333\");\\n                                } else {\\n                                    entrance___OBJ__ += 1;\\n                                    console.log(\"req\");\\n                                    window.setTimeout(\"refresh__OBJ__()\", 300); \\n                                }\\n                            }\\n                            return xmlhttp.responseText;\\n                        } else {\\n                            errors___OBJ__ += 1;\\n                            if (!entrance___OBJ__) {\\n                                if (errors___OBJ__ < 6) {\\n                                    entrance___OBJ__ += 1;\\n                                    console.log(\"req\");\\n                                    window.setTimeout(\"refresh__OBJ__()\", 300); \\n                                } else {\\n                                    halt__OBJ__(elem, \"#994444\");\\n                                }\\n                            }\\n                        }\\n                    }\\n                }\\n                xmlhttp.open(\"GET\", \"__FILE__\", true);\\n                xmlhttp.setRequestHeader(\"Cache-Control\", \"no-cache\");\\n                xmlhttp.send();     \\n            }\\n        }\\n        \\n        if (!entrance___OBJ__) {\\n            entrance___OBJ__ += 1;\\n            refresh__OBJ__(); \\n        }\\n        </script>\\n\\n        <p id=\"__OBJ__\" style=\"font-size: 14px; background: #000000; padding: 10px; border: 3px; border-radius: 5px; color: white; \">\\n        </p>\\n        \\n        </font>\\n        <!--MD_END_FILTER-->\\n        <!--MD_FROM_FILE __FILE__.md -->\\n        \\'\\'\\'.replace(\"__OBJ__\", obj).replace(\"__FILE__\", file)\\n    if return_html_string:\\n        return html_string\\n    display(HTML(html_string))\\n\\n    \\nclass TInteractiveLauncher:\\n    tmp_path = \"./interactive_launcher_tmp\"\\n    def __init__(self, cmd):\\n        try:\\n            os.mkdir(TInteractiveLauncher.tmp_path)\\n        except:\\n            pass\\n        name = str(random.randint(0, 1e18))\\n        self.inq_path = os.path.join(TInteractiveLauncher.tmp_path, name + \".inq\")\\n        self.log_path = os.path.join(TInteractiveLauncher.tmp_path, name + \".log\")\\n        \\n        os.mkfifo(self.inq_path)\\n        open(self.log_path, \\'w\\').close()\\n        open(self.log_path + \".md\", \\'w\\').close()\\n\\n        self.pid = os.fork()\\n        if self.pid == -1:\\n            print(\"Error\")\\n        if self.pid == 0:\\n            exe_cands = glob.glob(\"../tools/launcher.py\") + glob.glob(\"../../tools/launcher.py\")\\n            assert(len(exe_cands) == 1)\\n            assert(os.execvp(\"python3\", [\"python3\", exe_cands[0], \"-l\", self.log_path, \"-i\", self.inq_path, \"-c\", cmd]) == 0)\\n        self.inq_f = open(self.inq_path, \"w\")\\n        interactive_launcher_opened_set.add(self.pid)\\n        show_log_file(self.log_path)\\n\\n    def write(self, s):\\n        s = s.encode()\\n        assert len(s) == os.write(self.inq_f.fileno(), s)\\n        \\n    def get_pid(self):\\n        n = 100\\n        for i in range(n):\\n            try:\\n                return int(re.findall(r\"PID = (\\\\d+)\", open(self.log_path).readline())[0])\\n            except:\\n                if i + 1 == n:\\n                    raise\\n                time.sleep(0.1)\\n        \\n    def input_queue_path(self):\\n        return self.inq_path\\n        \\n    def close(self):\\n        self.inq_f.close()\\n        os.waitpid(self.pid, 0)\\n        os.remove(self.inq_path)\\n        # os.remove(self.log_path)\\n        self.inq_path = None\\n        self.log_path = None \\n        interactive_launcher_opened_set.remove(self.pid)\\n        self.pid = None\\n        \\n    @staticmethod\\n    def terminate_all():\\n        if \"interactive_launcher_opened_set\" not in globals():\\n            globals()[\"interactive_launcher_opened_set\"] = set()\\n        global interactive_launcher_opened_set\\n        for pid in interactive_launcher_opened_set:\\n            print(\"Terminate pid=\" + str(pid), file=sys.stderr)\\n            os.kill(pid, signal.SIGKILL)\\n            os.waitpid(pid, 0)\\n        interactive_launcher_opened_set = set()\\n        if os.path.exists(TInteractiveLauncher.tmp_path):\\n            shutil.rmtree(TInteractiveLauncher.tmp_path)\\n    \\nTInteractiveLauncher.terminate_all()\\n   \\nyandex_metrica_allowed = bool(globals().get(\"yandex_metrica_allowed\", False))\\nif yandex_metrica_allowed:\\n    display(HTML(\\'\\'\\'<!-- YANDEX_METRICA_BEGIN -->\\n    <script type=\"text/javascript\" >\\n       (function(m,e,t,r,i,k,a){m[i]=m[i]||function(){(m[i].a=m[i].a||[]).push(arguments)};\\n       m[i].l=1*new Date();k=e.createElement(t),a=e.getElementsByTagName(t)[0],k.async=1,k.src=r,a.parentNode.insertBefore(k,a)})\\n       (window, document, \"script\", \"https://mc.yandex.ru/metrika/tag.js\", \"ym\");\\n\\n       ym(59260609, \"init\", {\\n            clickmap:true,\\n            trackLinks:true,\\n            accurateTrackBounce:true\\n       });\\n    </script>\\n    <noscript><div><img src=\"https://mc.yandex.ru/watch/59260609\" style=\"position:absolute; left:-9999px;\" alt=\"\" /></div></noscript>\\n    <!-- YANDEX_METRICA_END -->\\'\\'\\'))\\n\\ndef make_oneliner():\\n    html_text = \\'(\"В этот ноутбук встроен код Яндекс Метрики для сбора статистики использований. Если вы не хотите, чтобы по вам собиралась статистика, исправьте: yandex_metrica_allowed = False\" if yandex_metrica_allowed else \"\")\\'\\n    html_text += \\' + \"<\"\"!-- MAGICS_SETUP_PRINTING_END -->\"\\'\\n    return \\'\\'.join([\\n        \\'# look at tools/set_up_magics.ipynb\\\\n\\',\\n        \\'yandex_metrica_allowed = True ; get_ipython().run_cell(%s);\\' % repr(one_liner_str),\\n        \\'display(HTML(%s))\\' % html_text,\\n        \\' #\\'\\'MAGICS_SETUP_END\\'\\n    ])\\n       \\n\\n');display(HTML((\"В этот ноутбук встроен код Яндекс Метрики для сбора статистики использований. Если вы не хотите, чтобы по вам собиралась статистика, исправьте: yandex_metrica_allowed = False\" if yandex_metrica_allowed else \"\") + \"<\"\"!-- MAGICS_SETUP_PRINTING_END -->\")) #MAGICS_SETUP_END"
   ]
  },
  {
   "cell_type": "markdown",
   "metadata": {},
   "source": [
    "# Floating-point arithmetic"
   ]
  },
  {
   "cell_type": "code",
   "execution_count": 2,
   "metadata": {
    "collapsed": true
   },
   "outputs": [
    {
     "data": {
      "text/markdown": [
       "Run: `gcc -m32 -masm=intel -O3 double_mul.c -S -o double_mul.S`"
      ],
      "text/plain": [
       "<IPython.core.display.Markdown object>"
      ]
     },
     "metadata": {},
     "output_type": "display_data"
    },
    {
     "data": {
      "text/markdown": [
       "Run: `cat double_mul.S`"
      ],
      "text/plain": [
       "<IPython.core.display.Markdown object>"
      ]
     },
     "metadata": {},
     "output_type": "display_data"
    },
    {
     "name": "stdout",
     "output_type": "stream",
     "text": [
      "\t.file\t\"double_mul.c\"\r\n",
      "\t.intel_syntax noprefix\r\n",
      "\t.section\t.text.unlikely,\"ax\",@progbits\r\n",
      ".LCOLDB2:\r\n",
      "\t.text\r\n",
      ".LHOTB2:\r\n",
      "\t.p2align 4,,15\r\n",
      "\t.globl\tmul\r\n",
      "\t.type\tmul, @function\r\n",
      "mul:\r\n",
      ".LFB0:\r\n",
      "\t.cfi_startproc\r\n",
      "\tfld\tDWORD PTR .LC0\r\n",
      "\tfmul\tQWORD PTR [esp+4]\r\n",
      "\tret\r\n",
      "\t.cfi_endproc\r\n",
      ".LFE0:\r\n",
      "\t.size\tmul, .-mul\r\n",
      "\t.section\t.text.unlikely\r\n",
      ".LCOLDE2:\r\n",
      "\t.text\r\n",
      ".LHOTE2:\r\n",
      "\t.section\t.text.unlikely\r\n",
      ".LCOLDB3:\r\n",
      "\t.text\r\n",
      ".LHOTB3:\r\n",
      "\t.p2align 4,,15\r\n",
      "\t.globl\tmul2\r\n",
      "\t.type\tmul2, @function\r\n",
      "mul2:\r\n",
      ".LFB1:\r\n",
      "\t.cfi_startproc\r\n",
      "\tfld\tQWORD PTR [esp+12]\r\n",
      "\tfmul\tQWORD PTR [esp+4]\r\n",
      "\tret\r\n",
      "\t.cfi_endproc\r\n",
      ".LFE1:\r\n",
      "\t.size\tmul2, .-mul2\r\n",
      "\t.section\t.text.unlikely\r\n",
      ".LCOLDE3:\r\n",
      "\t.text\r\n",
      ".LHOTE3:\r\n",
      "\t.section\t.rodata.cst4,\"aM\",@progbits,4\r\n",
      "\t.align 4\r\n",
      ".LC0:\r\n",
      "\t.long\t1095761920\r\n",
      "\t.ident\t\"GCC: (Ubuntu 5.5.0-12ubuntu1~16.04) 5.5.0 20171010\"\r\n",
      "\t.section\t.note.GNU-stack,\"\",@progbits\r\n"
     ]
    }
   ],
   "source": [
    "%%cpp double_mul.c\n",
    "%run gcc -m32 -masm=intel -O3 double_mul.c -S -o double_mul.S\n",
    "%run cat double_mul.S\n",
    "    \n",
    "double mul(double a) { \n",
    "    return a * 13;\n",
    "}\n",
    "\n",
    "double mul2(double a, double b) { \n",
    "    return a * b;\n",
    "}"
   ]
  },
  {
   "cell_type": "markdown",
   "metadata": {},
   "source": [
    "В отфильтрованном виде выглядит так\n",
    "\n",
    "```\n",
    "\t.intel_syntax noprefix\n",
    "\t.text\n",
    "\t.globl\tmul\n",
    "mul:\n",
    "    fld\tDWORD PTR .LC0\n",
    "\tfmul\tQWORD PTR [esp+4]\n",
    "\tret\n",
    "\n",
    ".globl\tmul2\n",
    "mul2:\n",
    "\tfld\tQWORD PTR [esp+12]\n",
    "\tfmul\tQWORD PTR [esp+4]\n",
    "\tret\n",
    "\n",
    ".align 4\n",
    ".LC0:\n",
    "\t.long\t1095761920\n",
    "```"
   ]
  },
  {
   "cell_type": "code",
   "execution_count": 3,
   "metadata": {},
   "outputs": [],
   "source": [
    "%%asm mul.S\n",
    ".intel_syntax noprefix\n",
    "    .text\n",
    "    .globl    mul\n",
    "mul:\n",
    "    fld    DWORD PTR .LC0\n",
    "    fmul    QWORD PTR [esp+4]\n",
    "    ret\n",
    "\n",
    ".align 4\n",
    ".LC0:\n",
    "    .long    1095761920"
   ]
  },
  {
   "cell_type": "code",
   "execution_count": 4,
   "metadata": {},
   "outputs": [
    {
     "data": {
      "text/markdown": [
       "Run: `gcc -g3 -m32 -masm=intel mul_test.c mul.S -o mul_test.exe`"
      ],
      "text/plain": [
       "<IPython.core.display.Markdown object>"
      ]
     },
     "metadata": {},
     "output_type": "display_data"
    },
    {
     "data": {
      "text/markdown": [
       "Run: `./mul_test.exe`"
      ],
      "text/plain": [
       "<IPython.core.display.Markdown object>"
      ]
     },
     "metadata": {},
     "output_type": "display_data"
    },
    {
     "name": "stdout",
     "output_type": "stream",
     "text": [
      "mul(2) = 26.000000000\r\n"
     ]
    }
   ],
   "source": [
    "%%cpp mul_test.c\n",
    "%run gcc -g3 -m32 -masm=intel mul_test.c mul.S -o mul_test.exe\n",
    "%run ./mul_test.exe\n",
    "\n",
    "#include <stdio.h>\n",
    "#include <assert.h>\n",
    "\n",
    "double mul(double a);\n",
    "\n",
    "int main() {\n",
    "    printf(\"mul(2) = %0.9lf\\n\", mul(2));\n",
    "    return 0;\n",
    "}"
   ]
  },
  {
   "cell_type": "markdown",
   "metadata": {},
   "source": [
    "# Посчитаем exp(x)\n",
    "\n",
    "Дополнительные команды:\n",
    "\n",
    "* `fxch` - поменять местами два элемента на стеке (st(0) и st(i)).\n",
    "* `fstp` - сохранить из стека в память + снять элемент со стека."
   ]
  },
  {
   "cell_type": "code",
   "execution_count": 5,
   "metadata": {
    "scrolled": true
   },
   "outputs": [
    {
     "data": {
      "text/markdown": [
       "Run: `gcc -m32 -masm=intel -O3 exp.c -S -o exp.S`"
      ],
      "text/plain": [
       "<IPython.core.display.Markdown object>"
      ]
     },
     "metadata": {},
     "output_type": "display_data"
    },
    {
     "data": {
      "text/markdown": [
       "Run: `cat exp.S`"
      ],
      "text/plain": [
       "<IPython.core.display.Markdown object>"
      ]
     },
     "metadata": {},
     "output_type": "display_data"
    },
    {
     "name": "stdout",
     "output_type": "stream",
     "text": [
      "\t.file\t\"exp.c\"\r\n",
      "\t.intel_syntax noprefix\r\n",
      "\t.section\t.text.unlikely,\"ax\",@progbits\r\n",
      ".LCOLDB2:\r\n",
      "\t.text\r\n",
      ".LHOTB2:\r\n",
      "\t.p2align 4,,15\r\n",
      "\t.globl\tmy_exp\r\n",
      "\t.type\tmy_exp, @function\r\n",
      "my_exp:\r\n",
      ".LFB0:\r\n",
      "\t.cfi_startproc\r\n",
      "\tsub\tesp, 12\r\n",
      "\t.cfi_def_cfa_offset 16\r\n",
      "\tmov\teax, 2\r\n",
      "\tfld\tQWORD PTR [esp+16]\r\n",
      "\tfld1\r\n",
      "\tfld\tst(0)\r\n",
      "\tfld\tst(1)\r\n",
      "\tfld\tst(2)\r\n",
      "\t.p2align 4,,10\r\n",
      "\t.p2align 3\r\n",
      ".L2:\r\n",
      "\tfxch\tst(1)\r\n",
      "\tmov\tDWORD PTR [esp+4], eax\r\n",
      "\tadd\teax, 1\r\n",
      "\tfadd\tst, st(2)\r\n",
      "\tfild\tDWORD PTR [esp+4]\r\n",
      "\tfmulp\tst(2), st\r\n",
      "\tfxch\tst(3)\r\n",
      "\tfmul\tst, st(4)\r\n",
      "\tfld\tst(0)\r\n",
      "\tfdiv\tst, st(2)\r\n",
      "\tfxch\tst(4)\r\n",
      "\tfucomi\tst, st(3)\r\n",
      "\tfstp\tst(3)\r\n",
      "\tjp\t.L3\r\n",
      "\tje\t.L6\r\n",
      ".L3:\r\n",
      "\tfxch\tst(3)\r\n",
      "\tfxch\tst(1)\r\n",
      "\tjmp\t.L2\r\n",
      "\t.p2align 4,,10\r\n",
      "\t.p2align 3\r\n",
      ".L6:\r\n",
      "\tfstp\tst(0)\r\n",
      "\tfstp\tst(0)\r\n",
      "\tfstp\tst(1)\r\n",
      "\tfstp\tst(1)\r\n",
      "\tadd\tesp, 12\r\n",
      "\t.cfi_def_cfa_offset 4\r\n",
      "\tret\r\n",
      "\t.cfi_endproc\r\n",
      ".LFE0:\r\n",
      "\t.size\tmy_exp, .-my_exp\r\n",
      "\t.section\t.text.unlikely\r\n",
      ".LCOLDE2:\r\n",
      "\t.text\r\n",
      ".LHOTE2:\r\n",
      "\t.ident\t\"GCC: (Ubuntu 5.5.0-12ubuntu1~16.04) 5.5.0 20171010\"\r\n",
      "\t.section\t.note.GNU-stack,\"\",@progbits\r\n"
     ]
    }
   ],
   "source": [
    "%%cpp exp.c\n",
    "%run gcc -m32 -masm=intel -O3 exp.c -S -o exp.S\n",
    "%run cat exp.S\n",
    "    \n",
    "double my_exp(double x) { \n",
    "    double xn = 1.0, fac = 1.0, part = 1.0, result = 1.0, old_result = 0.0;\n",
    "    for (int i = 2; result != old_result; ++i) {\n",
    "        old_result = result;\n",
    "        result += part;\n",
    "        fac *= i;\n",
    "        xn *= x;\n",
    "        part = xn / fac;\n",
    "    }\n",
    "    return result;\n",
    "}"
   ]
  },
  {
   "cell_type": "code",
   "execution_count": 6,
   "metadata": {},
   "outputs": [
    {
     "data": {
      "text/markdown": [
       "Run: `gcc -m32 -masm=intel -O3 exp2.S -c -o exp2.o`"
      ],
      "text/plain": [
       "<IPython.core.display.Markdown object>"
      ]
     },
     "metadata": {},
     "output_type": "display_data"
    }
   ],
   "source": [
    "%%asm exp2.S\n",
    "%run gcc -m32 -masm=intel -O3 exp2.S -c -o exp2.o\n",
    "\n",
    "    .intel_syntax noprefix\n",
    "    .text\n",
    "    .globl  my_exp\n",
    "my_exp:\n",
    "    sub     esp, 12\n",
    "    mov     eax, 2\n",
    "    fld     QWORD PTR [esp+16]\n",
    "    fld1\n",
    "    fld1\n",
    "    fld1\n",
    "    fld1\n",
    "    // On stack (0-4): fac=1, part=1, old_result=1, xn=1, x \n",
    ".loop:\n",
    "    mov     DWORD PTR [esp+4], eax\n",
    "    add     eax, 1   \n",
    "    fxch    st(1)             // On stack (0-4): part, fac, old_result, xn, x \n",
    "    fadd    st(0), st(2)      // On stack (0-4): result=part + old_result, fac, old_result, xn, x \n",
    "    fild    DWORD PTR [esp+4] // On stack (0-5): i, result, fac, old_result, xn, x \n",
    "    fmulp   st(2), st(0)      // On stack (0-4): result, fac=fac*i, old_result, xn, x\n",
    "    fxch    st(3)             // On stack (0-4): xn, fac, old_result, result, x\n",
    "    fmul    st(0), st(4)      // On stack (0-4): xn=xn*x, fac, old_result, result, x\n",
    "    fld     st(0)             // On stack (0-5): xn, xn, fac, old_result, result, x\n",
    "    fdiv    st(0), st(2)      // On stack (0-5): npart=xn/fac, xn, fac, old_result, result, x\n",
    "    fxch    st(4)             // On stack (0-5): result, xn, fac, old_result, npart, x\n",
    "    fcomi   st(0), st(3)      // On stack (0-5): result, xn, fac, old_result, npart, x (compare result and old_result)\n",
    "    fstp    st(3)             // On stack (0-4): xn, fac, result, npart, x\n",
    "    je      .finish           // if result == old_result then go to .finish \n",
    "    fxch    st(3)             // On stack (0-4): npart, fac, result, xn, x\n",
    "    fxch    st(1)             // On stack (0-4): fac, npart, result, xn, x\n",
    "    jmp     .loop\n",
    ".finish:\n",
    "    fxch    st(2)             // On stack (0-4): result, npart, fac, xn, x\n",
    "    add     esp, 12\n",
    "    ret\n"
   ]
  },
  {
   "cell_type": "code",
   "execution_count": 7,
   "metadata": {},
   "outputs": [
    {
     "data": {
      "text/markdown": [
       "Run: `gcc -g3 -m32 -masm=intel check_exp.c exp.c -o check_exp.exe`"
      ],
      "text/plain": [
       "<IPython.core.display.Markdown object>"
      ]
     },
     "metadata": {},
     "output_type": "display_data"
    },
    {
     "data": {
      "text/markdown": [
       "Run: `./check_exp.exe`"
      ],
      "text/plain": [
       "<IPython.core.display.Markdown object>"
      ]
     },
     "metadata": {},
     "output_type": "display_data"
    },
    {
     "name": "stdout",
     "output_type": "stream",
     "text": [
      "exp(1) = 2.718281828\r\n"
     ]
    },
    {
     "data": {
      "text/markdown": [
       "Run: `gcc -g3 -m32 -masm=intel check_exp.c exp2.S -o check_exp2.exe`"
      ],
      "text/plain": [
       "<IPython.core.display.Markdown object>"
      ]
     },
     "metadata": {},
     "output_type": "display_data"
    },
    {
     "data": {
      "text/markdown": [
       "Run: `./check_exp2.exe`"
      ],
      "text/plain": [
       "<IPython.core.display.Markdown object>"
      ]
     },
     "metadata": {},
     "output_type": "display_data"
    },
    {
     "name": "stdout",
     "output_type": "stream",
     "text": [
      "exp(1) = 2.718281828\r\n"
     ]
    }
   ],
   "source": [
    "%%cpp check_exp.c\n",
    "%run gcc -g3 -m32 -masm=intel check_exp.c exp.c -o check_exp.exe\n",
    "%run ./check_exp.exe\n",
    "%run gcc -g3 -m32 -masm=intel check_exp.c exp2.S -o check_exp2.exe\n",
    "%run ./check_exp2.exe\n",
    "\n",
    "#include <stdio.h>\n",
    "#include <assert.h>\n",
    "\n",
    "double my_exp(double x);\n",
    "\n",
    "int main() {\n",
    "    printf(\"exp(1) = %0.9lf\\n\", my_exp(1));\n",
    "    return 0;\n",
    "}"
   ]
  },
  {
   "cell_type": "code",
   "execution_count": null,
   "metadata": {},
   "outputs": [],
   "source": []
  }
 ],
 "metadata": {
  "kernelspec": {
   "display_name": "Python 3",
   "language": "python",
   "name": "python3"
  },
  "language_info": {
   "codemirror_mode": {
    "name": "ipython",
    "version": 3
   },
   "file_extension": ".py",
   "mimetype": "text/x-python",
   "name": "python",
   "nbconvert_exporter": "python",
   "pygments_lexer": "ipython3",
   "version": "3.5.2"
  }
 },
 "nbformat": 4,
 "nbformat_minor": 2
}
