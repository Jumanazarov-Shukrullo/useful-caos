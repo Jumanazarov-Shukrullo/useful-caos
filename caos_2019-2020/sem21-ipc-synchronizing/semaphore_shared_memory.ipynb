{
 "cells": [
  {
   "cell_type": "code",
   "execution_count": 1,
   "metadata": {},
   "outputs": [
    {
     "data": {
      "application/javascript": [
       "// setup cpp code highlighting\n",
       "IPython.CodeCell.options_default.highlight_modes[\"text/x-c++src\"] = {'reg':[/^%%cpp/]} ;"
      ],
      "text/plain": [
       "<IPython.core.display.Javascript object>"
      ]
     },
     "metadata": {},
     "output_type": "display_data"
    },
    {
     "data": {
      "text/html": [
       "<!-- YANDEX_METRICA_BEGIN -->\n",
       "    <script type=\"text/javascript\" >\n",
       "       (function(m,e,t,r,i,k,a){m[i]=m[i]||function(){(m[i].a=m[i].a||[]).push(arguments)};\n",
       "       m[i].l=1*new Date();k=e.createElement(t),a=e.getElementsByTagName(t)[0],k.async=1,k.src=r,a.parentNode.insertBefore(k,a)})\n",
       "       (window, document, \"script\", \"https://mc.yandex.ru/metrika/tag.js\", \"ym\");\n",
       "\n",
       "       ym(59260609, \"init\", {\n",
       "            clickmap:true,\n",
       "            trackLinks:true,\n",
       "            accurateTrackBounce:true\n",
       "       });\n",
       "    </script>\n",
       "    <noscript><div><img src=\"https://mc.yandex.ru/watch/59260609\" style=\"position:absolute; left:-9999px;\" alt=\"\" /></div></noscript>\n",
       "    <!-- YANDEX_METRICA_END -->"
      ],
      "text/plain": [
       "<IPython.core.display.HTML object>"
      ]
     },
     "metadata": {},
     "output_type": "display_data"
    },
    {
     "data": {
      "text/html": [
       "В этот ноутбук встроен код Яндекс Метрики для сбора статистики использований. Если вы не хотите, чтобы по вам собиралась статистика, исправьте: yandex_metrica_allowed = False<!-- MAGICS_SETUP_PRINTING_END -->"
      ],
      "text/plain": [
       "<IPython.core.display.HTML object>"
      ]
     },
     "metadata": {},
     "output_type": "display_data"
    }
   ],
   "source": [
    "# look at tools/set_up_magics.ipynb\n",
    "yandex_metrica_allowed = True ; get_ipython().run_cell('# one_liner_str\\n\\nget_ipython().run_cell_magic(\\'javascript\\', \\'\\', \\'// setup cpp code highlighting\\\\nIPython.CodeCell.options_default.highlight_modes[\"text/x-c++src\"] = {\\\\\\'reg\\\\\\':[/^%%cpp/]} ;\\')\\n\\n# creating magics\\nfrom IPython.core.magic import register_cell_magic, register_line_magic\\nfrom IPython.display import display, Markdown, HTML\\nimport argparse\\nfrom subprocess import Popen, PIPE\\nimport random\\nimport sys\\nimport os\\nimport re\\nimport signal\\nimport shutil\\nimport shlex\\nimport glob\\n\\n@register_cell_magic\\ndef save_file(args_str, cell, line_comment_start=\"#\"):\\n    parser = argparse.ArgumentParser()\\n    parser.add_argument(\"fname\")\\n    parser.add_argument(\"--ejudge-style\", action=\"store_true\")\\n    args = parser.parse_args(args_str.split())\\n    \\n    cell = cell if cell[-1] == \\'\\\\n\\' or args.no_eof_newline else cell + \"\\\\n\"\\n    cmds = []\\n    with open(args.fname, \"w\") as f:\\n        f.write(line_comment_start + \" %%cpp \" + args_str + \"\\\\n\")\\n        for line in cell.split(\"\\\\n\"):\\n            line_to_write = (line if not args.ejudge_style else line.rstrip()) + \"\\\\n\"\\n            if line.startswith(\"%\"):\\n                run_prefix = \"%run \"\\n                if line.startswith(run_prefix):\\n                    cmds.append(line[len(run_prefix):].strip())\\n                    f.write(line_comment_start + \" \" + line_to_write)\\n                    continue\\n                run_prefix = \"%# \"\\n                if line.startswith(run_prefix):\\n                    f.write(line_comment_start + \" \" + line_to_write)\\n                    continue\\n                raise Exception(\"Unknown %%save_file subcommand: \\'%s\\'\" % line)\\n            else:\\n                f.write(line_to_write)\\n        f.write(\"\" if not args.ejudge_style else line_comment_start + r\" line without \\\\n\")\\n    for cmd in cmds:\\n        display(Markdown(\"Run: `%s`\" % cmd))\\n        get_ipython().system(cmd)\\n\\n@register_cell_magic\\ndef cpp(fname, cell):\\n    save_file(fname, cell, \"//\")\\n\\n@register_cell_magic\\ndef asm(fname, cell):\\n    save_file(fname, cell, \"//\")\\n    \\n@register_cell_magic\\ndef makefile(fname, cell):\\n    assert not fname\\n    save_file(\"makefile\", cell.replace(\" \" * 4, \"\\\\t\"))\\n        \\n@register_line_magic\\ndef p(line):\\n    try:\\n        expr, comment = line.split(\" #\")\\n        display(Markdown(\"`{} = {}`  # {}\".format(expr.strip(), eval(expr), comment.strip())))\\n    except:\\n        display(Markdown(\"{} = {}\".format(line, eval(line))))\\n        \\ndef show_file(file, clear_at_begin=True, return_html_string=False):\\n    if clear_at_begin:\\n        get_ipython().system(\"truncate --size 0 \" + file)\\n    obj = file.replace(\\'.\\', \\'_\\').replace(\\'/\\', \\'_\\') + \"_obj\"\\n    html_string = \\'\\'\\'\\n        <!--MD_BEGIN_FILTER-->\\n        <script type=text/javascript>\\n        var entrance___OBJ__ = 0;\\n        var errors___OBJ__ = 0;\\n        function refresh__OBJ__()\\n        {\\n            entrance___OBJ__ -= 1;\\n            var elem = document.getElementById(\"__OBJ__\");\\n            if (elem) {\\n                var xmlhttp=new XMLHttpRequest();\\n                xmlhttp.onreadystatechange=function()\\n                {\\n                    var elem = document.getElementById(\"__OBJ__\");\\n                    console.log(!!elem, xmlhttp.readyState, xmlhttp.status, entrance___OBJ__);\\n                    if (elem && xmlhttp.readyState==4) {\\n                        if (xmlhttp.status==200)\\n                        {\\n                            errors___OBJ__ = 0;\\n                            if (!entrance___OBJ__) {\\n                                elem.innerText = xmlhttp.responseText;\\n                                entrance___OBJ__ += 1;\\n                                console.log(\"req\");\\n                                window.setTimeout(\"refresh__OBJ__()\", 300); \\n                            }\\n                            return xmlhttp.responseText;\\n                        } else {\\n                            errors___OBJ__ += 1;\\n                            if (errors___OBJ__ < 10 && !entrance___OBJ__) {\\n                                entrance___OBJ__ += 1;\\n                                console.log(\"req\");\\n                                window.setTimeout(\"refresh__OBJ__()\", 300); \\n                            }\\n                        }\\n                    }\\n                }\\n                xmlhttp.open(\"GET\", \"__FILE__\", true);\\n                xmlhttp.setRequestHeader(\"Cache-Control\", \"no-cache\");\\n                xmlhttp.send();     \\n            }\\n        }\\n        \\n        if (!entrance___OBJ__) {\\n            entrance___OBJ__ += 1;\\n            refresh__OBJ__(); \\n        }\\n        </script>\\n        \\n        <font color=\"white\"> <tt>\\n        <p id=\"__OBJ__\" style=\"font-size: 16px; border:3px #333333 solid; background: #333333; border-radius: 10px; padding: 10px;  \"></p>\\n        </tt> </font>\\n        <!--MD_END_FILTER-->\\n        <!--MD_FROM_FILE __FILE__ -->\\n        \\'\\'\\'.replace(\"__OBJ__\", obj).replace(\"__FILE__\", file)\\n    if return_html_string:\\n        return html_string\\n    display(HTML(html_string))\\n    \\nBASH_POPEN_TMP_DIR = \"./bash_popen_tmp\"\\n    \\ndef bash_popen_terminate_all():\\n    for p in globals().get(\"bash_popen_list\", []):\\n        print(\"Terminate pid=\" + str(p.pid), file=sys.stderr)\\n        p.terminate()\\n    globals()[\"bash_popen_list\"] = []\\n    if os.path.exists(BASH_POPEN_TMP_DIR):\\n        shutil.rmtree(BASH_POPEN_TMP_DIR)\\n\\nbash_popen_terminate_all()  \\n\\ndef bash_popen(cmd):\\n    if not os.path.exists(BASH_POPEN_TMP_DIR):\\n        os.mkdir(BASH_POPEN_TMP_DIR)\\n    h = os.path.join(BASH_POPEN_TMP_DIR, str(random.randint(0, 1e18)))\\n    stdout_file = h + \".out.html\"\\n    stderr_file = h + \".err.html\"\\n    run_log_file = h + \".fin.html\"\\n    \\n    stdout = open(stdout_file, \"wb\")\\n    stdout = open(stderr_file, \"wb\")\\n    \\n    html = \"\"\"\\n    <table width=\"100%\">\\n    <colgroup>\\n       <col span=\"1\" style=\"width: 70px;\">\\n       <col span=\"1\">\\n    </colgroup>    \\n    <tbody>\\n      <tr> <td><b>STDOUT</b></td> <td> {stdout} </td> </tr>\\n      <tr> <td><b>STDERR</b></td> <td> {stderr} </td> </tr>\\n      <tr> <td><b>RUN LOG</b></td> <td> {run_log} </td> </tr>\\n    </tbody>\\n    </table>\\n    \"\"\".format(\\n        stdout=show_file(stdout_file, return_html_string=True),\\n        stderr=show_file(stderr_file, return_html_string=True),\\n        run_log=show_file(run_log_file, return_html_string=True),\\n    )\\n    \\n    cmd = \"\"\"\\n        bash -c {cmd} &\\n        pid=$!\\n        echo \"Process started! pid=${{pid}}\" > {run_log_file}\\n        wait ${{pid}}\\n        echo \"Process finished! exit_code=$?\" >> {run_log_file}\\n    \"\"\".format(cmd=shlex.quote(cmd), run_log_file=run_log_file)\\n    # print(cmd)\\n    display(HTML(html))\\n    \\n    p = Popen([\"bash\", \"-c\", cmd], stdin=PIPE, stdout=stdout, stderr=stdout)\\n    \\n    bash_popen_list.append(p)\\n    return p\\n\\n\\n@register_line_magic\\ndef bash_async(line):\\n    bash_popen(line)\\n    \\n    \\ndef show_log_file(file, return_html_string=False):\\n    obj = file.replace(\\'.\\', \\'_\\').replace(\\'/\\', \\'_\\') + \"_obj\"\\n    html_string = \\'\\'\\'\\n        <!--MD_BEGIN_FILTER-->\\n        <script type=text/javascript>\\n        var entrance___OBJ__ = 0;\\n        var errors___OBJ__ = 0;\\n        function halt__OBJ__(elem, color)\\n        {\\n            elem.setAttribute(\"style\", \"font-size: 14px; background: \" + color + \"; padding: 10px; border: 3px; border-radius: 5px; color: white; \");                    \\n        }\\n        function refresh__OBJ__()\\n        {\\n            entrance___OBJ__ -= 1;\\n            if (entrance___OBJ__ < 0) {\\n                entrance___OBJ__ = 0;\\n            }\\n            var elem = document.getElementById(\"__OBJ__\");\\n            if (elem) {\\n                var xmlhttp=new XMLHttpRequest();\\n                xmlhttp.onreadystatechange=function()\\n                {\\n                    var elem = document.getElementById(\"__OBJ__\");\\n                    console.log(!!elem, xmlhttp.readyState, xmlhttp.status, entrance___OBJ__);\\n                    if (elem && xmlhttp.readyState==4) {\\n                        if (xmlhttp.status==200)\\n                        {\\n                            errors___OBJ__ = 0;\\n                            if (!entrance___OBJ__) {\\n                                if (elem.innerHTML != xmlhttp.responseText) {\\n                                    elem.innerHTML = xmlhttp.responseText;\\n                                }\\n                                if (elem.innerHTML.includes(\"Process finished.\")) {\\n                                    halt__OBJ__(elem, \"#333333\");\\n                                } else {\\n                                    entrance___OBJ__ += 1;\\n                                    console.log(\"req\");\\n                                    window.setTimeout(\"refresh__OBJ__()\", 300); \\n                                }\\n                            }\\n                            return xmlhttp.responseText;\\n                        } else {\\n                            errors___OBJ__ += 1;\\n                            if (!entrance___OBJ__) {\\n                                if (errors___OBJ__ < 6) {\\n                                    entrance___OBJ__ += 1;\\n                                    console.log(\"req\");\\n                                    window.setTimeout(\"refresh__OBJ__()\", 300); \\n                                } else {\\n                                    halt__OBJ__(elem, \"#994444\");\\n                                }\\n                            }\\n                        }\\n                    }\\n                }\\n                xmlhttp.open(\"GET\", \"__FILE__\", true);\\n                xmlhttp.setRequestHeader(\"Cache-Control\", \"no-cache\");\\n                xmlhttp.send();     \\n            }\\n        }\\n        \\n        if (!entrance___OBJ__) {\\n            entrance___OBJ__ += 1;\\n            refresh__OBJ__(); \\n        }\\n        </script>\\n\\n        <p id=\"__OBJ__\" style=\"font-size: 14px; background: #000000; padding: 10px; border: 3px; border-radius: 5px; color: white; \">\\n        </p>\\n        \\n        </font>\\n        <!--MD_END_FILTER-->\\n        <!--MD_FROM_FILE __FILE__.md -->\\n        \\'\\'\\'.replace(\"__OBJ__\", obj).replace(\"__FILE__\", file)\\n    if return_html_string:\\n        return html_string\\n    display(HTML(html_string))\\n\\n    \\nclass TInteractiveLauncher:\\n    tmp_path = \"./interactive_launcher_tmp\"\\n    def __init__(self, cmd):\\n        try:\\n            os.mkdir(TInteractiveLauncher.tmp_path)\\n        except:\\n            pass\\n        name = str(random.randint(0, 1e18))\\n        self.inq_path = os.path.join(TInteractiveLauncher.tmp_path, name + \".inq\")\\n        self.log_path = os.path.join(TInteractiveLauncher.tmp_path, name + \".log\")\\n        \\n        os.mkfifo(self.inq_path)\\n        open(self.log_path, \\'w\\').close()\\n        open(self.log_path + \".md\", \\'w\\').close()\\n\\n        self.pid = os.fork()\\n        if self.pid == -1:\\n            print(\"Error\")\\n        if self.pid == 0:\\n            exe_cands = glob.glob(\"../tools/launcher.py\") + glob.glob(\"../../tools/launcher.py\")\\n            assert(len(exe_cands) == 1)\\n            assert(os.execvp(\"python3\", [\"python3\", exe_cands[0], \"-l\", self.log_path, \"-i\", self.inq_path, \"-c\", cmd]) == 0)\\n        self.inq_f = open(self.inq_path, \"w\")\\n        interactive_launcher_opened_set.add(self.pid)\\n        show_log_file(self.log_path)\\n\\n    def write(self, s):\\n        s = s.encode()\\n        assert len(s) == os.write(self.inq_f.fileno(), s)\\n        \\n    def get_pid(self):\\n        n = 100\\n        for i in range(n):\\n            try:\\n                return int(re.findall(r\"PID = (\\\\d+)\", open(self.log_path).readline())[0])\\n            except:\\n                if i + 1 == n:\\n                    raise\\n                time.sleep(0.1)\\n        \\n    def input_queue_path(self):\\n        return self.inq_path\\n        \\n    def close(self):\\n        self.inq_f.close()\\n        os.waitpid(self.pid, 0)\\n        os.remove(self.inq_path)\\n        # os.remove(self.log_path)\\n        self.inq_path = None\\n        self.log_path = None \\n        interactive_launcher_opened_set.remove(self.pid)\\n        self.pid = None\\n        \\n    @staticmethod\\n    def terminate_all():\\n        if \"interactive_launcher_opened_set\" not in globals():\\n            globals()[\"interactive_launcher_opened_set\"] = set()\\n        global interactive_launcher_opened_set\\n        for pid in interactive_launcher_opened_set:\\n            print(\"Terminate pid=\" + str(pid), file=sys.stderr)\\n            os.kill(pid, signal.SIGKILL)\\n            os.waitpid(pid, 0)\\n        interactive_launcher_opened_set = set()\\n        if os.path.exists(TInteractiveLauncher.tmp_path):\\n            shutil.rmtree(TInteractiveLauncher.tmp_path)\\n    \\nTInteractiveLauncher.terminate_all()\\n   \\nyandex_metrica_allowed = bool(globals().get(\"yandex_metrica_allowed\", False))\\nif yandex_metrica_allowed:\\n    display(HTML(\\'\\'\\'<!-- YANDEX_METRICA_BEGIN -->\\n    <script type=\"text/javascript\" >\\n       (function(m,e,t,r,i,k,a){m[i]=m[i]||function(){(m[i].a=m[i].a||[]).push(arguments)};\\n       m[i].l=1*new Date();k=e.createElement(t),a=e.getElementsByTagName(t)[0],k.async=1,k.src=r,a.parentNode.insertBefore(k,a)})\\n       (window, document, \"script\", \"https://mc.yandex.ru/metrika/tag.js\", \"ym\");\\n\\n       ym(59260609, \"init\", {\\n            clickmap:true,\\n            trackLinks:true,\\n            accurateTrackBounce:true\\n       });\\n    </script>\\n    <noscript><div><img src=\"https://mc.yandex.ru/watch/59260609\" style=\"position:absolute; left:-9999px;\" alt=\"\" /></div></noscript>\\n    <!-- YANDEX_METRICA_END -->\\'\\'\\'))\\n\\ndef make_oneliner():\\n    html_text = \\'(\"В этот ноутбук встроен код Яндекс Метрики для сбора статистики использований. Если вы не хотите, чтобы по вам собиралась статистика, исправьте: yandex_metrica_allowed = False\" if yandex_metrica_allowed else \"\")\\'\\n    html_text += \\' + \"<\"\"!-- MAGICS_SETUP_PRINTING_END -->\"\\'\\n    return \\'\\'.join([\\n        \\'# look at tools/set_up_magics.ipynb\\\\n\\',\\n        \\'yandex_metrica_allowed = True ; get_ipython().run_cell(%s);\\' % repr(one_liner_str),\\n        \\'display(HTML(%s))\\' % html_text,\\n        \\' #\\'\\'MAGICS_SETUP_END\\'\\n    ])\\n       \\n\\n');display(HTML((\"В этот ноутбук встроен код Яндекс Метрики для сбора статистики использований. Если вы не хотите, чтобы по вам собиралась статистика, исправьте: yandex_metrica_allowed = False\" if yandex_metrica_allowed else \"\") + \"<\"\"!-- MAGICS_SETUP_PRINTING_END -->\")) #MAGICS_SETUP_END"
   ]
  },
  {
   "cell_type": "markdown",
   "metadata": {},
   "source": [
    "# Inter Process Communications (IPC)\n",
    "\n",
    "<br>\n",
    "<div style=\"text-align: right\"> Спасибо <a href=\"https://github.com/SyrnikRebirth\">Сове Глебу</a> и <a href=\"https://github.com/Disadvantaged\">Голяр Димитрису</a> за участие в написании текста </div>\n",
    "<br>\n",
    "\n",
    "\n",
    "Сегодня в программе:\n",
    "* <a href=\"#mmap\" style=\"color:#856024\">`mmap` для IPC</a>\n",
    "  <br> Используем примитивы межпоточной синхронизации для межпроцессной. Через разделяемую память создаем правильные мьютексы.\n",
    "  <br> [Ссылка про правильные мьютексы](https://linux.die.net/man/3/pthread_mutexattr_init)\n",
    "* <a href=\"#shm\" style=\"color:#856024\">Объекты разделяемой памяти POSIX</a>\n",
    "  <br>Это почти то же самое, что и обычные файлы, но у них ортогональное пространство имен и они не сохраняются на диск.\n",
    "  <br>Вызовы `shm_open` (открывает/создает объект разделяемой памяти, аналогично `open`) и `shm_unlink` (удаляет ссылку на объект, аналогично `unlink`)  \n",
    "  <br>[Документашка](https://www.opennet.ru/man.shtml?topic=shm_open&category=3&russian=0). [Отличия от `open`](https://stackoverflow.com/questions/24875257/why-use-shm-open)\n",
    "  <br><br>\n",
    "* Семафоры\n",
    "  <br><a href=\"#sem_anon\" style=\"color:#856024\">Неименованные</a>\n",
    "  <br><a href=\"#sem_named\" style=\"color:#856024\">Именованные</a>\n",
    "* <a href=\"#sem_signal\" style=\"color:#856024\">Сочетаемость семафоров и сигналов</a> \n",
    "\n",
    "  \n",
    "  \n",
    "<a href=\"#hw\" style=\"color:#856024\">Комментарии к ДЗ</a>\n",
    "\n",
    "[Ридинг Яковлева](https://github.com/victor-yacovlev/mipt-diht-caos/tree/master/practice/posix_ipc)"
   ]
  },
  {
   "cell_type": "markdown",
   "metadata": {},
   "source": [
    "# <a name=\"mmap\"></a> `mmap`\n",
    "\n",
    "\n",
    "Разделяемая память - это когда два региона виртуальной памяти (один в одном процессе, другой в другом) \n",
    "ссылаются на одну и ту же физическую память. То есть могут обмениваться информацией через нее.\n",
    "\n",
    "Межпроцессное взаимодействие через разделяемую память нужно, \n",
    "когда у нас есть две различные программы (могут быть написаны на разных языках)\n",
    "и когда нам не подходит взаимодействие через сокеты (такое взаимодействие не очень эффективно).\n",
    "\n"
   ]
  },
  {
   "cell_type": "code",
   "execution_count": 11,
   "metadata": {
    "scrolled": true
   },
   "outputs": [
    {
     "data": {
      "text/markdown": [
       "Run: `gcc -Wall -fsanitize=thread mmap.c -lpthread -o mmap.exe`"
      ],
      "text/plain": [
       "<IPython.core.display.Markdown object>"
      ]
     },
     "metadata": {},
     "output_type": "display_data"
    },
    {
     "data": {
      "text/markdown": [
       "Run: `./mmap.exe`"
      ],
      "text/plain": [
       "<IPython.core.display.Markdown object>"
      ]
     },
     "metadata": {},
     "output_type": "display_data"
    },
    {
     "name": "stdout",
     "output_type": "stream",
     "text": [
      "23:50:46.929 mmap.c: 95 [pid=18821]: Main process started\n",
      "23:50:46.936 mmap.c:100 [pid=18821]: Creating process 0\n",
      "23:50:46.940 mmap.c:100 [pid=18821]: Creating process 1\n",
      "23:50:46.945 mmap.c: 56 [pid=18823]:   Process 0 started\n",
      "23:50:46.948 mmap.c: 56 [pid=18824]:   Process 1 started\n",
      "23:50:47.381 mmap.c: 60 [pid=18823]:   Process 0 finished\n",
      "23:50:47.383 mmap.c:111 [pid=18821]: Process 0 'joined'\n",
      "23:50:47.393 mmap.c: 60 [pid=18824]:   Process 1 finished\n",
      "23:50:47.396 mmap.c:111 [pid=18821]: Process 1 'joined'\n",
      "23:50:47.396 mmap.c:114 [pid=18821]: Main process finished\n"
     ]
    }
   ],
   "source": [
    "%%cpp mmap.c\n",
    "%run gcc -Wall -fsanitize=thread mmap.c -lpthread -o mmap.exe\n",
    "%run ./mmap.exe\n",
    "\n",
    "#define _GNU_SOURCE \n",
    "#include <stdio.h>\n",
    "#include <stdlib.h>\n",
    "#include <unistd.h>\n",
    "#include <sys/types.h>\n",
    "#include <sys/syscall.h>\n",
    "#include <sys/time.h>\n",
    "#include <sys/wait.h>\n",
    "#include <sys/mman.h>\n",
    "#include <pthread.h>\n",
    "#include <stdatomic.h>\n",
    "\n",
    "const char* log_prefix(const char* file, int line) {\n",
    "    struct timeval tp; gettimeofday(&tp, NULL); struct tm ltime; localtime_r(&tp.tv_sec, &ltime);\n",
    "    static __thread char prefix[100]; \n",
    "    size_t time_len = strftime(prefix, sizeof(prefix), \"%H:%M:%S\", &ltime);\n",
    "    sprintf(prefix + time_len, \".%03ld %s:%3d [pid=%d]\", tp.tv_usec / 1000, file, line, getpid());\n",
    "    return prefix;\n",
    "}\n",
    "\n",
    "#define log_printf_impl(fmt, ...) { dprintf(2, \"%s: \" fmt \"%s\", log_prefix(__FILE__, __LINE__), __VA_ARGS__); }\n",
    "#define log_printf(...) log_printf_impl(__VA_ARGS__, \"\")\n",
    "\n",
    "// process-aware assert\n",
    "#define pa_assert(stmt) if (stmt) {} else { log_printf(\"'\" #stmt \"' failed\\n\"); exit(EXIT_FAILURE); }\n",
    "\n",
    "typedef enum {\n",
    "    VALID_STATE = 0,\n",
    "    INVALID_STATE = 1\n",
    "} state_t;\n",
    "\n",
    "\n",
    "typedef struct {\n",
    "    pthread_mutex_t mutex; \n",
    "    state_t current_state; // protected by mutex\n",
    "} shared_state_t;\n",
    "\n",
    "shared_state_t* state; // interprocess state\n",
    "\n",
    "// process_safe_func и process_func - функции-примеры с прошлого семинара (с точностью до замены thread/process)\n",
    "void process_safe_func() {\n",
    "    // all function is critical section, protected by mutex\n",
    "    pthread_mutex_lock(&state->mutex); // try comment lock&unlock out and look at result\n",
    "    pa_assert(state->current_state == VALID_STATE);\n",
    "    state->current_state = INVALID_STATE; // do some work with state. \n",
    "    sched_yield();\n",
    "    state->current_state = VALID_STATE;\n",
    "    pthread_mutex_unlock(&state->mutex);\n",
    "}\n",
    "\n",
    "void process_func(int process_num) \n",
    "{\n",
    "    log_printf(\"  Process %d started\\n\", process_num);\n",
    "    for (int j = 0; j < 10000; ++j) {\n",
    "        process_safe_func();\n",
    "    }\n",
    "    log_printf(\"  Process %d finished\\n\", process_num);\n",
    "}\n",
    "\n",
    " \n",
    "shared_state_t* create_state() {\n",
    "    // Создаем кусок разделяемой памяти. Он будет общим для данного процесса и его дочерних\n",
    "    shared_state_t* state = mmap(\n",
    "        /* desired addr, addr = */ NULL, \n",
    "        /* length = */ sizeof(shared_state_t), // Размер разделяемого фрагмента памяти\n",
    "        /* access attributes, prot = */ PROT_READ | PROT_WRITE, \n",
    "        /* flags = */ MAP_SHARED | MAP_ANONYMOUS,\n",
    "        /* fd = */ -1,\n",
    "        /* offset in file, offset = */ 0\n",
    "    );\n",
    "    pa_assert(state != MAP_FAILED);\n",
    "    \n",
    "    // create and initialize interprocess mutex\n",
    "    pthread_mutexattr_t mutex_attrs; \n",
    "    pa_assert(pthread_mutexattr_init(&mutex_attrs) == 0);\n",
    "    // Важно! Без этого атрибута один из процессов навсегда зависнет в lock мьютекса\n",
    "    // Вероятно этот атрибут влияет на отсутствие флага FUTEX_PRIVATE_FLAG в операциях с futex\n",
    "    // Если он стоит, то ядро может делать некоторые оптимизации в предположении, что futex используется одним процессом\n",
    "    pa_assert(pthread_mutexattr_setpshared(&mutex_attrs, PTHREAD_PROCESS_SHARED) == 0);\n",
    "    pa_assert(pthread_mutex_init(&state->mutex, &mutex_attrs) == 0);\n",
    "    pa_assert(pthread_mutexattr_destroy(&mutex_attrs) == 0);\n",
    "    \n",
    "    state->current_state = VALID_STATE; // Инициализирем защищаемое состояние\n",
    "    return state;\n",
    "}\n",
    "\n",
    "void delete_state(shared_state_t* state) {\n",
    "    pa_assert(pthread_mutex_destroy(&state->mutex) == 0);\n",
    "    pa_assert(munmap(state, sizeof(shared_state_t)) == 0);\n",
    "}\n",
    "\n",
    "int main()\n",
    "{\n",
    "    log_printf(\"Main process started\\n\");\n",
    "    state = create_state(); // Создаем разделяемое состояние\n",
    "    const int process_count = 2;\n",
    "    pid_t processes[process_count];\n",
    "    // Создаем дочерние процессы\n",
    "    for (int i = 0; i < process_count; ++i) {\n",
    "        log_printf(\"Creating process %d\\n\", i);\n",
    "        // дочерние процессы унаследуют разделяемое состояние (оно не скопируется, а будет общим)\n",
    "        pa_assert((processes[i] = fork()) >= 0); \n",
    "        if (processes[i] == 0) {\n",
    "            process_func(i); // Имитируем работу из разных процессов\n",
    "            exit(0);\n",
    "        }\n",
    "    }\n",
    "    for (int i = 0; i < process_count; ++i) {\n",
    "        int status;\n",
    "        pa_assert(waitpid(processes[i], &status, 0) != -1)\n",
    "        pa_assert(WIFEXITED(status) && WEXITSTATUS(status) == 0);\n",
    "        log_printf(\"Process %d 'joined'\\n\", i);\n",
    "    }\n",
    "    delete_state(state);\n",
    "    log_printf(\"Main process finished\\n\");\n",
    "    return 0;\n",
    "}"
   ]
  },
  {
   "cell_type": "markdown",
   "metadata": {},
   "source": [
    "# Ну и spinlock давайте. А почему бы и нет?\n",
    "\n",
    "Отличие только в замене инициализации и в взятии/снятии локов."
   ]
  },
  {
   "cell_type": "code",
   "execution_count": 14,
   "metadata": {},
   "outputs": [
    {
     "data": {
      "text/markdown": [
       "Run: `gcc -Wall -fsanitize=thread mmap.c -lpthread -o mmap.exe`"
      ],
      "text/plain": [
       "<IPython.core.display.Markdown object>"
      ]
     },
     "metadata": {},
     "output_type": "display_data"
    },
    {
     "data": {
      "text/markdown": [
       "Run: `./mmap.exe`"
      ],
      "text/plain": [
       "<IPython.core.display.Markdown object>"
      ]
     },
     "metadata": {},
     "output_type": "display_data"
    },
    {
     "name": "stdout",
     "output_type": "stream",
     "text": [
      "10:57:00.877 mmap.c: 97 [pid=24117]: Main process started\n",
      "10:57:00.886 mmap.c:102 [pid=24117]: Creating process 0\n",
      "10:57:00.887 mmap.c:102 [pid=24117]: Creating process 1\n",
      "10:57:00.890 mmap.c: 67 [pid=24119]:   Process 0 started\n",
      "10:57:00.899 mmap.c: 67 [pid=24120]:   Process 1 started\n",
      "10:57:00.990 mmap.c: 71 [pid=24119]:   Process 0 finished\n",
      "10:57:00.991 mmap.c:113 [pid=24117]: Process 0 'joined'\n",
      "10:57:01.029 mmap.c: 71 [pid=24120]:   Process 1 finished\n",
      "10:57:01.030 mmap.c:113 [pid=24117]: Process 1 'joined'\n",
      "10:57:01.030 mmap.c:116 [pid=24117]: Main process finished\n"
     ]
    }
   ],
   "source": [
    "%%cpp mmap.c\n",
    "%run gcc -Wall -fsanitize=thread mmap.c -lpthread -o mmap.exe\n",
    "%run ./mmap.exe\n",
    "\n",
    "#define _GNU_SOURCE \n",
    "#include <stdio.h>\n",
    "#include <stdlib.h>\n",
    "#include <unistd.h>\n",
    "#include <sys/types.h>\n",
    "#include <sys/syscall.h>\n",
    "#include <sys/time.h>\n",
    "#include <sys/wait.h>\n",
    "#include <sys/mman.h>\n",
    "#include <pthread.h>\n",
    "#include <stdatomic.h>\n",
    "\n",
    "const char* log_prefix(const char* file, int line) {\n",
    "    struct timeval tp; gettimeofday(&tp, NULL); struct tm ltime; localtime_r(&tp.tv_sec, &ltime);\n",
    "    static __thread char prefix[100]; \n",
    "    size_t time_len = strftime(prefix, sizeof(prefix), \"%H:%M:%S\", &ltime);\n",
    "    sprintf(prefix + time_len, \".%03ld %s:%3d [pid=%d]\", tp.tv_usec / 1000, file, line, getpid());\n",
    "    return prefix;\n",
    "}\n",
    "\n",
    "#define log_printf_impl(fmt, ...) { dprintf(2, \"%s: \" fmt \"%s\", log_prefix(__FILE__, __LINE__), __VA_ARGS__); }\n",
    "#define log_printf(...) log_printf_impl(__VA_ARGS__, \"\")\n",
    "\n",
    "// process-aware assert\n",
    "#define pa_assert(stmt) if (stmt) {} else { log_printf(\"'\" #stmt \"' failed\\n\"); exit(EXIT_FAILURE); }\n",
    "\n",
    "typedef enum {\n",
    "    VALID_STATE = 0,\n",
    "    INVALID_STATE = 1\n",
    "} state_t;\n",
    "\n",
    "\n",
    "typedef struct {\n",
    "    _Atomic int lock; \n",
    "    state_t current_state; // protected by mutex\n",
    "} shared_state_t;\n",
    "\n",
    "shared_state_t* state; // interprocess state\n",
    "\n",
    "void sl_lock(_Atomic int* lock) { \n",
    "    int expected = 0;\n",
    "    while (!atomic_compare_exchange_weak(lock, &expected, 1)) {\n",
    "        expected = 0;\n",
    "    }\n",
    "}\n",
    "\n",
    "void sl_unlock(_Atomic int* lock) {\n",
    "    atomic_fetch_sub(lock, 1);\n",
    "}\n",
    "\n",
    "void process_safe_func() {\n",
    "    // all function is critical section, protected by spinlock\n",
    "    sl_lock(&state->lock);\n",
    "    pa_assert(state->current_state == VALID_STATE);\n",
    "    state->current_state = INVALID_STATE; // do some work with state. \n",
    "    sched_yield();\n",
    "    state->current_state = VALID_STATE;\n",
    "    sl_unlock(&state->lock);\n",
    "}\n",
    "\n",
    "void process_func(int process_num) \n",
    "{\n",
    "    log_printf(\"  Process %d started\\n\", process_num);\n",
    "    for (int j = 0; j < 10000; ++j) {\n",
    "        process_safe_func();\n",
    "    }\n",
    "    log_printf(\"  Process %d finished\\n\", process_num);\n",
    "}\n",
    "\n",
    " \n",
    "shared_state_t* create_state() {\n",
    "    shared_state_t* state = mmap(\n",
    "        /* desired addr, addr = */ NULL, \n",
    "        /* length = */ sizeof(shared_state_t), \n",
    "        /* access attributes, prot = */ PROT_READ | PROT_WRITE, \n",
    "        /* flags = */ MAP_SHARED | MAP_ANONYMOUS,\n",
    "        /* fd = */ -1,\n",
    "        /* offset in file, offset = */ 0\n",
    "    );\n",
    "    pa_assert(state != MAP_FAILED);\n",
    "    \n",
    "    state->lock = 0;\n",
    "    state->current_state = VALID_STATE;\n",
    "    return state;\n",
    "}\n",
    "\n",
    "void delete_state(shared_state_t* state) {\n",
    "    pa_assert(munmap(state, sizeof(shared_state_t)) == 0);\n",
    "}\n",
    "\n",
    "int main()\n",
    "{\n",
    "    log_printf(\"Main process started\\n\");\n",
    "    state = create_state();\n",
    "    const int process_count = 2;\n",
    "    pid_t processes[process_count];\n",
    "    for (int i = 0; i < process_count; ++i) {\n",
    "        log_printf(\"Creating process %d\\n\", i);\n",
    "        pa_assert((processes[i] = fork()) >= 0);\n",
    "        if (processes[i] == 0) {\n",
    "            process_func(i);\n",
    "            exit(0);\n",
    "        }\n",
    "    }\n",
    "    for (int i = 0; i < process_count; ++i) {\n",
    "        int status;\n",
    "        pa_assert(waitpid(processes[i], &status, 0) != -1)\n",
    "        pa_assert(WIFEXITED(status) && WEXITSTATUS(status) == 0);\n",
    "        log_printf(\"Process %d 'joined'\\n\", i);\n",
    "    }\n",
    "    delete_state(state);\n",
    "    log_printf(\"Main process finished\\n\");\n",
    "    return 0;\n",
    "}"
   ]
  },
  {
   "cell_type": "markdown",
   "metadata": {},
   "source": [
    "# <a name=\"shm\"></a> `shm_open`\n",
    "\n",
    "Сделаем то же самое, что и в предыдущем примере, но на этот раз не из родственных процессов. Воспользуемся именноваными объектами разделяемой памяти."
   ]
  },
  {
   "cell_type": "code",
   "execution_count": 52,
   "metadata": {
    "scrolled": false
   },
   "outputs": [
    {
     "data": {
      "text/markdown": [
       "Run: `gcc -Wall -fsanitize=thread shm.c -lrt -lpthread -o s.exe`"
      ],
      "text/plain": [
       "<IPython.core.display.Markdown object>"
      ]
     },
     "metadata": {},
     "output_type": "display_data"
    },
    {
     "data": {
      "text/markdown": [
       "Run: `./s.exe create_shm /my_shm`"
      ],
      "text/plain": [
       "<IPython.core.display.Markdown object>"
      ]
     },
     "metadata": {},
     "output_type": "display_data"
    },
    {
     "name": "stdout",
     "output_type": "stream",
     "text": [
      "18:26:22.229 shm.c: 95 [pid=453]:   Creating state: /my_shm\r\n",
      "18:26:22.272 shm.c: 97 [pid=453]:   State created\r\n"
     ]
    },
    {
     "data": {
      "text/markdown": [
       "Run: `./s.exe work 1 /my_shm & PID=$! ; ./s.exe work 2 /my_shm ; wait $PID`"
      ],
      "text/plain": [
       "<IPython.core.display.Markdown object>"
      ]
     },
     "metadata": {},
     "output_type": "display_data"
    },
    {
     "name": "stdout",
     "output_type": "stream",
     "text": [
      "18:26:22.783 shm.c:105 [pid=457]:   Worker 2 started\n",
      "18:26:22.803 shm.c:105 [pid=456]:   Worker 1 started\n",
      "18:26:24.322 shm.c:113 [pid=457]:   Worker 2 finished\n",
      "18:26:24.366 shm.c:113 [pid=456]:   Worker 1 finished\n"
     ]
    },
    {
     "data": {
      "text/markdown": [
       "Run: `./s.exe remove_shm /my_shm`"
      ],
      "text/plain": [
       "<IPython.core.display.Markdown object>"
      ]
     },
     "metadata": {},
     "output_type": "display_data"
    },
    {
     "name": "stdout",
     "output_type": "stream",
     "text": [
      "18:26:24.747 shm.c: 99 [pid=461]:   Removing state: /my_shm\n",
      "18:26:24.770 shm.c:101 [pid=461]:   State removed\n"
     ]
    }
   ],
   "source": [
    "%%cpp shm.c\n",
    "%# Обратите внимание: -lrt. Здесь нужна новая разделяемая библиотека\n",
    "%run gcc -Wall -fsanitize=thread shm.c -lrt -lpthread -o s.exe\n",
    "%run ./s.exe create_shm /my_shm\n",
    "%run ./s.exe work 1 /my_shm & PID=$! ; ./s.exe work 2 /my_shm ; wait $PID\n",
    "%run ./s.exe remove_shm /my_shm\n",
    "\n",
    "#define _GNU_SOURCE \n",
    "#include <stdio.h> \n",
    "#include <stdbool.h>\n",
    "#include <stdlib.h>\n",
    "#include <unistd.h>\n",
    "#include <sys/types.h>\n",
    "#include <sys/syscall.h>\n",
    "#include <sys/time.h>\n",
    "#include <sys/wait.h>\n",
    "#include <sys/mman.h>\n",
    "#include <pthread.h>\n",
    "#include <string.h>\n",
    "\n",
    "#include <sys/stat.h>\n",
    "#include <fcntl.h>\n",
    "\n",
    "const char* log_prefix(const char* file, int line) {\n",
    "    struct timeval tp; gettimeofday(&tp, NULL); struct tm ltime; localtime_r(&tp.tv_sec, &ltime);\n",
    "    static __thread char prefix[100]; \n",
    "    size_t time_len = strftime(prefix, sizeof(prefix), \"%H:%M:%S\", &ltime);\n",
    "    sprintf(prefix + time_len, \".%03ld %s:%3d [pid=%d]\", tp.tv_usec / 1000, file, line, getpid());\n",
    "    return prefix;\n",
    "}\n",
    "\n",
    "#define log_printf_impl(fmt, ...) { dprintf(2, \"%s: \" fmt \"%s\", log_prefix(__FILE__, __LINE__), __VA_ARGS__); }\n",
    "#define log_printf(...) log_printf_impl(__VA_ARGS__, \"\")\n",
    "\n",
    "// process-aware assert\n",
    "#define pa_assert(stmt) if (stmt) {} else { log_printf(\"'\" #stmt \"' failed\\n\"); exit(EXIT_FAILURE); }\n",
    "\n",
    "typedef enum {\n",
    "    VALID_STATE = 0,\n",
    "    INVALID_STATE = 1\n",
    "} state_t;\n",
    "\n",
    "\n",
    "typedef struct {\n",
    "    pthread_mutex_t mutex; \n",
    "    state_t current_state; // protected by mutex\n",
    "} shared_state_t;\n",
    "\n",
    "void process_safe_func(shared_state_t* state) {\n",
    "    // all function is critical section, protected by mutex\n",
    "    pthread_mutex_lock(&state->mutex); // try comment lock&unlock out and look at result\n",
    "    pa_assert(state->current_state == VALID_STATE);\n",
    "    state->current_state = INVALID_STATE; // do some work with state. \n",
    "    sched_yield();\n",
    "    state->current_state = VALID_STATE;\n",
    "    pthread_mutex_unlock(&state->mutex);\n",
    "}\n",
    " \n",
    "shared_state_t* load_state(const char* shm_name, bool do_create) {\n",
    "    // открываем / создаем объект разделяемой памяти\n",
    "    // по сути это просто open, только для виртуального файла (без сохранения данных на диск + ортогональное пространство имен)\n",
    "    int fd = shm_open(shm_name, O_RDWR | (do_create ? O_CREAT : 0), 0644);\n",
    "    pa_assert(fd >= 0);\n",
    "    pa_assert(ftruncate(fd, sizeof(shared_state_t)) == 0);\n",
    "    shared_state_t* state = mmap(\n",
    "        /* desired addr, addr = */ NULL, \n",
    "        /* length = */ sizeof(shared_state_t), \n",
    "        /* access attributes, prot = */ PROT_READ | PROT_WRITE, \n",
    "        /* flags = */ MAP_SHARED,\n",
    "        /* fd = */ fd,\n",
    "        /* offset in file, offset = */ 0\n",
    "    );\n",
    "    pa_assert(state != MAP_FAILED);\n",
    "    if (!do_create) {\n",
    "        return state;\n",
    "    }\n",
    "    // create interprocess mutex\n",
    "    pthread_mutexattr_t mutex_attrs;\n",
    "    pa_assert(pthread_mutexattr_init(&mutex_attrs) == 0);\n",
    "    // Важно!\n",
    "    pa_assert(pthread_mutexattr_setpshared(&mutex_attrs, PTHREAD_PROCESS_SHARED) == 0);\n",
    "    pa_assert(pthread_mutex_init(&state->mutex, &mutex_attrs) == 0);\n",
    "    pa_assert(pthread_mutexattr_destroy(&mutex_attrs) == 0);\n",
    "    \n",
    "    state->current_state = VALID_STATE;\n",
    "    return state;\n",
    "}\n",
    "\n",
    "void unload_state(shared_state_t* state) {\n",
    "    pa_assert(munmap(state, sizeof(shared_state_t)) == 0);\n",
    "}\n",
    "\n",
    "int main(int argc, char** argv)\n",
    "{\n",
    "    pa_assert(argc >= 2);\n",
    "    if (strcmp(\"create_shm\", argv[1]) == 0) {\n",
    "        log_printf(\"  Creating state: %s\\n\", argv[2]);\n",
    "        unload_state(load_state(argv[2], /*do_create=*/ 1));\n",
    "        log_printf(\"  State created\\n\");\n",
    "    } else if (strcmp(\"remove_shm\", argv[1]) == 0) {\n",
    "        log_printf(\"  Removing state: %s\\n\", argv[2]);\n",
    "        // Файлы shm существуют пока не будет вызвана unlink.\n",
    "        pa_assert(shm_unlink(argv[2]) == 0)\n",
    "        log_printf(\"  State removed\\n\");   \n",
    "    } else if (strcmp(\"work\", argv[1]) == 0) {\n",
    "        pa_assert(argc >= 3);\n",
    "        int worker = strtol(argv[2], 0, 10);\n",
    "        log_printf(\"  Worker %d started\\n\", worker);\n",
    "        shared_state_t* state = load_state(argv[3], /*do_create=*/ 0);\n",
    "       \n",
    "        for (int j = 0; j < 10000; ++j) {\n",
    "            process_safe_func(state);\n",
    "        }\n",
    "\n",
    "        unload_state(state);\n",
    "        log_printf(\"  Worker %d finished\\n\", worker);\n",
    "    } else {\n",
    "        pa_assert(0 && \"unknown command\")\n",
    "    }\n",
    "    return 0;\n",
    "}"
   ]
  },
  {
   "cell_type": "markdown",
   "metadata": {},
   "source": [
    "Проблема: как решить, кто из независимых процессов будет создавать участок?\n",
    "\n",
    "Способ разрешить конфликт создания участка разделяемой памяти:\n",
    "  * Все процессы создают файлы с флагом O_EXCL | O_CREAT\n",
    "  * Из-за О_EXCL выкинет ошибку для всех процессов кроме одного\n",
    "  * Этот один процесс создаст файл, выделит память, создаст спинлок на инициализацию и начнёт инициализировать\n",
    "  * Другие, которые получили ошибку попытаются открыть файл ещё раз, без этих флагов уже.\n",
    "  * Далее они будут ждать (регулярно проверять) пока не изменится размер файла, потом откроют его, и дальше будут ждать инициализации на спинлоке."
   ]
  },
  {
   "cell_type": "markdown",
   "metadata": {},
   "source": [
    "# <a name=\"sem_anon\"></a> Анонимные семафоры\n",
    "\n",
    "Игровое сравнение: семафор это ящик с шариками.\n",
    "\n",
    "<pre>\n",
    "|   |\n",
    "|   |\n",
    "|   |\n",
    "|_*_|</pre>\n",
    "    ^\n",
    "    |\n",
    "Это семафор со значением 1 (ящик с одним шариком)\n",
    "\n",
    "У семафора такая семантика:\n",
    "* Операция post() кладет шарик в ящик. Работает мгновенно.\n",
    "* Операция wait() извлекает шарик из ящика. Если шариков нет, то блокируется пока не появится шарик и затем его извлекает.\n",
    "* Еще есть try_wait(), timed_wait() - они соответствуют названиям.\n",
    "\n",
    "Шарики можно так же рассматривать как свободные ресурсы.\n",
    "\n",
    "Семафор с одним шариком можно использовать как мьютекс. В данном случае шарик - это ресурс на право входить в критическую секцию. Соответственно lock - это wait. А unlock это post.\n",
    "\n",
    "\n",
    "### Пример использования с многими шариками:    Построение очереди.\n",
    "\n",
    "Создаём 2 семафора, semFree и semElementsInside.\n",
    "\n",
    "При добавлении берём ресурс (~шарик) из semFree, под lock добавляем элемент, кладём ресурс в semElementsInside\n",
    "\n",
    "При удалении берём ресурс из semElementsInside, под локом удаляем элемент, кладём ресурс в semFree<br>"
   ]
  },
  {
   "cell_type": "code",
   "execution_count": 71,
   "metadata": {
    "scrolled": true
   },
   "outputs": [
    {
     "data": {
      "text/markdown": [
       "Run: `gcc -Wall -fsanitize=thread sem_anon.c -o sem_anon.exe`"
      ],
      "text/plain": [
       "<IPython.core.display.Markdown object>"
      ]
     },
     "metadata": {},
     "output_type": "display_data"
    },
    {
     "data": {
      "text/markdown": [
       "Run: `./sem_anon.exe`"
      ],
      "text/plain": [
       "<IPython.core.display.Markdown object>"
      ]
     },
     "metadata": {},
     "output_type": "display_data"
    },
    {
     "name": "stdout",
     "output_type": "stream",
     "text": [
      "18:53:55.475 sem_anon.c: 92 [pid=745]: Main process started\n",
      "18:53:55.482 sem_anon.c: 97 [pid=745]: Creating process 0\n",
      "18:53:55.487 sem_anon.c: 97 [pid=745]: Creating process 1\n",
      "18:53:55.502 sem_anon.c: 55 [pid=747]:   Process 0 started\n",
      "18:53:55.530 sem_anon.c: 55 [pid=749]:   Process 1 started\n",
      "18:53:56.946 sem_anon.c: 59 [pid=749]:   Process 1 finished\n",
      "18:53:56.966 sem_anon.c: 59 [pid=747]:   Process 0 finished\n",
      "18:53:56.967 sem_anon.c:108 [pid=745]: Process 0 'joined'\n",
      "18:53:56.967 sem_anon.c:108 [pid=745]: Process 1 'joined'\n",
      "18:53:56.967 sem_anon.c:111 [pid=745]: Main process finished\n"
     ]
    }
   ],
   "source": [
    "%%cpp sem_anon.c\n",
    "%run gcc -Wall -fsanitize=thread -lrt sem_anon.c -o sem_anon.exe\n",
    "%run ./sem_anon.exe\n",
    "\n",
    "#define _GNU_SOURCE \n",
    "#include <stdio.h>\n",
    "#include <stdlib.h>\n",
    "#include <unistd.h>\n",
    "#include <sys/types.h>\n",
    "#include <sys/time.h>\n",
    "#include <sys/wait.h>\n",
    "#include <sys/mman.h>\n",
    "#include <pthread.h>\n",
    "#include <semaphore.h>\n",
    "\n",
    "const char* log_prefix(const char* file, int line) {\n",
    "    struct timeval tp; gettimeofday(&tp, NULL); struct tm ltime; localtime_r(&tp.tv_sec, &ltime);\n",
    "    static __thread char prefix[100]; \n",
    "    size_t time_len = strftime(prefix, sizeof(prefix), \"%H:%M:%S\", &ltime);\n",
    "    sprintf(prefix + time_len, \".%03ld %s:%3d [pid=%d]\", tp.tv_usec / 1000, file, line, getpid());\n",
    "    return prefix;\n",
    "}\n",
    "\n",
    "#define log_printf_impl(fmt, ...) { dprintf(2, \"%s: \" fmt \"%s\", log_prefix(__FILE__, __LINE__), __VA_ARGS__); }\n",
    "#define log_printf(...) log_printf_impl(__VA_ARGS__, \"\")\n",
    "\n",
    "// process-aware assert\n",
    "#define pa_assert(stmt) if (stmt) {} else { log_printf(\"'\" #stmt \"' failed\\n\"); exit(EXIT_FAILURE); }\n",
    "\n",
    "typedef enum {\n",
    "    VALID_STATE = 0,\n",
    "    INVALID_STATE = 1\n",
    "} state_t;\n",
    "\n",
    "\n",
    "typedef struct {\n",
    "    sem_t semaphore; \n",
    "    state_t current_state; // protected by semaphore\n",
    "} shared_state_t;\n",
    "\n",
    "shared_state_t* state; // interprocess state\n",
    "\n",
    "void process_safe_func() {\n",
    "    // all function is critical section, protected by mutex\n",
    "    sem_wait(&state->semaphore); // ~ lock\n",
    "    pa_assert(state->current_state == VALID_STATE);\n",
    "    state->current_state = INVALID_STATE; // do some work with state. \n",
    "    sched_yield();\n",
    "    state->current_state = VALID_STATE;\n",
    "    sem_post(&state->semaphore); // ~ unlock\n",
    "}\n",
    "\n",
    "void process_func(int process_num) \n",
    "{\n",
    "    log_printf(\"  Process %d started\\n\", process_num);\n",
    "    for (int j = 0; j < 10000; ++j) {\n",
    "        process_safe_func();\n",
    "    }\n",
    "    log_printf(\"  Process %d finished\\n\", process_num);\n",
    "}\n",
    "\n",
    " \n",
    "shared_state_t* create_state() {\n",
    "    shared_state_t* state = mmap(\n",
    "        /* desired addr, addr = */ NULL, \n",
    "        /* length = */ sizeof(shared_state_t), \n",
    "        /* access attributes, prot = */ PROT_READ | PROT_WRITE, \n",
    "        /* flags = */ MAP_SHARED | MAP_ANONYMOUS,\n",
    "        /* fd = */ -1,\n",
    "        /* offset in file, offset = */ 0\n",
    "    );\n",
    "    pa_assert(state != MAP_FAILED);\n",
    "    \n",
    "    // create interprocess semaphore\n",
    "    pa_assert(sem_init(\n",
    "        &state->semaphore,\n",
    "        1, // interprocess? (0 if will be used in one process)\n",
    "        1  // initial value\n",
    "    ) == 0);\n",
    "    \n",
    "    state->current_state = VALID_STATE;\n",
    "    return state;\n",
    "}\n",
    "\n",
    "void delete_state(shared_state_t* state) {\n",
    "    pa_assert(sem_destroy(&state->semaphore) == 0);\n",
    "    pa_assert(munmap(state, sizeof(shared_state_t)) == 0);\n",
    "}\n",
    "\n",
    "int main()\n",
    "{\n",
    "    log_printf(\"Main process started\\n\");\n",
    "    state = create_state();\n",
    "    const int process_count = 2;\n",
    "    pid_t processes[process_count];\n",
    "    for (int i = 0; i < process_count; ++i) {\n",
    "        log_printf(\"Creating process %d\\n\", i);\n",
    "        pa_assert((processes[i] = fork()) >= 0);\n",
    "        if (processes[i] == 0) {\n",
    "            process_func(i);\n",
    "            exit(0);\n",
    "        }\n",
    "    }\n",
    "    for (int i = 0; i < process_count; ++i) {\n",
    "        int status;\n",
    "        pa_assert(waitpid(processes[i], &status, 0) != -1)\n",
    "        pa_assert(WIFEXITED(status) && WEXITSTATUS(status) == 0);\n",
    "        log_printf(\"Process %d 'joined'\\n\", i);\n",
    "    }\n",
    "    delete_state(state);\n",
    "    log_printf(\"Main process finished\\n\");\n",
    "    return 0;\n",
    "}"
   ]
  },
  {
   "cell_type": "markdown",
   "metadata": {},
   "source": [
    "# <a name=\"sem_named\"></a> Именнованные семафоры\n",
    "\n",
    "В примере про именованные объекты разделяемой памяти мы явно запускали процесс для инициализации состояния до процессов-воркеров, чтобы избежать гонки инициализации состояния.\n",
    "\n",
    "В этом примере предлагается способ избежать гонки используя именованный семафор.\n",
    "\n",
    "В примере используется одно и то же имя для объекта разделяемой памяти и семафора. Это безопасно, так как имя семафора автоматически расширяется префиксом или суффиксом `sem`. То есть в результате имена разные."
   ]
  },
  {
   "cell_type": "code",
   "execution_count": 3,
   "metadata": {
    "scrolled": true
   },
   "outputs": [
    {
     "data": {
      "text/markdown": [
       "Run: `gcc -Wall -fsanitize=thread sem_named.c -lrt -lpthread -o s.exe`"
      ],
      "text/plain": [
       "<IPython.core.display.Markdown object>"
      ]
     },
     "metadata": {},
     "output_type": "display_data"
    },
    {
     "data": {
      "text/markdown": [
       "Run: `./s.exe work 1 /s42 & PID=$! ; ./s.exe work 2 /s42 ; wait $PID`"
      ],
      "text/plain": [
       "<IPython.core.display.Markdown object>"
      ]
     },
     "metadata": {},
     "output_type": "display_data"
    },
    {
     "name": "stdout",
     "output_type": "stream",
     "text": [
      "17:14:22.861 sem_named.c:125 [pid=31019]:   Worker 1 started\r\n",
      "17:14:22.862 sem_named.c:125 [pid=31020]:   Worker 2 started\r\n",
      "17:14:22.887 sem_named.c:134 [pid=31020]:   Worker 2 finished\r\n",
      "17:14:22.892 sem_named.c:134 [pid=31019]:   Worker 1 finished\r\n"
     ]
    },
    {
     "data": {
      "text/markdown": [
       "Run: `./s.exe cleanup /s42 # необязательная команда. Будет работать и без нее`"
      ],
      "text/plain": [
       "<IPython.core.display.Markdown object>"
      ]
     },
     "metadata": {},
     "output_type": "display_data"
    },
    {
     "name": "stdout",
     "output_type": "stream",
     "text": [
      "17:14:23.016 sem_named.c:118 [pid=31024]:   Cleanup sem and shm: /s42\r\n",
      "17:14:23.016 sem_named.c:121 [pid=31024]:   State created\r\n"
     ]
    }
   ],
   "source": [
    "%%cpp sem_named.c\n",
    "%# Обратите внимание: -lrt. Здесь нужна новая разделяемая библиотека\n",
    "%run gcc -Wall -fsanitize=thread sem_named.c -lrt -lpthread -o s.exe\n",
    "%run ./s.exe work 1 /s42 & PID=$! ; ./s.exe work 2 /s42 ; wait $PID\n",
    "%run ./s.exe cleanup /s42 # необязательная команда. Будет работать и без нее\n",
    "\n",
    "#define _GNU_SOURCE \n",
    "#include <stdio.h> \n",
    "#include <stdbool.h>\n",
    "#include <stdlib.h>\n",
    "#include <unistd.h>\n",
    "#include <sys/types.h>\n",
    "#include <sys/syscall.h>\n",
    "#include <sys/time.h>\n",
    "#include <sys/wait.h>\n",
    "#include <sys/mman.h>\n",
    "#include <pthread.h>\n",
    "#include <string.h>\n",
    "\n",
    "#include <sys/stat.h>\n",
    "#include <fcntl.h>\n",
    "#include <semaphore.h>\n",
    "\n",
    "const char* log_prefix(const char* file, int line) {\n",
    "    struct timeval tp; gettimeofday(&tp, NULL); struct tm ltime; localtime_r(&tp.tv_sec, &ltime);\n",
    "    static __thread char prefix[100]; \n",
    "    size_t time_len = strftime(prefix, sizeof(prefix), \"%H:%M:%S\", &ltime);\n",
    "    sprintf(prefix + time_len, \".%03ld %s:%3d [pid=%d]\", tp.tv_usec / 1000, file, line, getpid());\n",
    "    return prefix;\n",
    "}\n",
    "\n",
    "#define log_printf_impl(fmt, ...) { dprintf(2, \"%s: \" fmt \"%s\", log_prefix(__FILE__, __LINE__), __VA_ARGS__); }\n",
    "#define log_printf(...) log_printf_impl(__VA_ARGS__, \"\")\n",
    "\n",
    "// process-aware assert\n",
    "#define pa_warn_if_not(stmt) if (stmt) {} else { log_printf(\"WARNING: '\" #stmt \"' failed\\n\"); }\n",
    "#define pa_assert(stmt) if (stmt) {} else { log_printf(\"'\" #stmt \"' failed\\n\"); exit(EXIT_FAILURE); }\n",
    "\n",
    "typedef enum {\n",
    "    VALID_STATE = 0,\n",
    "    INVALID_STATE = 1\n",
    "} state_t;\n",
    "\n",
    "\n",
    "typedef struct {\n",
    "    pthread_mutex_t mutex; \n",
    "    state_t current_state; // protected by mutex\n",
    "} shared_state_t;\n",
    "\n",
    "void process_safe_func(shared_state_t* state) {\n",
    "    // all function is critical section, protected by mutex\n",
    "    pthread_mutex_lock(&state->mutex); // try comment lock&unlock out and look at result\n",
    "    pa_assert(state->current_state == VALID_STATE);\n",
    "    state->current_state = INVALID_STATE; // do some work with state. \n",
    "    sched_yield();\n",
    "    state->current_state = VALID_STATE;\n",
    "    pthread_mutex_unlock(&state->mutex);\n",
    "}\n",
    " \n",
    "shared_state_t* load_state(const char* shm_name, bool do_create) {\n",
    "    // открываем / создаем объект разделяемой памяти\n",
    "    int fd = shm_open(shm_name, O_RDWR | (do_create ? O_CREAT : 0), 0644);\n",
    "    if (do_create) {\n",
    "        pa_assert(ftruncate(fd, sizeof(shared_state_t)) == 0);\n",
    "    }\n",
    "    shared_state_t* state = mmap(\n",
    "        /* desired addr, addr = */ NULL, \n",
    "        /* length = */ sizeof(shared_state_t), \n",
    "        /* access attributes, prot = */ PROT_READ | PROT_WRITE, \n",
    "        /* flags = */ MAP_SHARED,\n",
    "        /* fd = */ fd,\n",
    "        /* offset in file, offset = */ 0\n",
    "    );\n",
    "    pa_assert(state != MAP_FAILED);\n",
    "    if (do_create) {\n",
    "        // create interprocess mutex\n",
    "        pthread_mutexattr_t mutex_attrs;\n",
    "        pa_assert(pthread_mutexattr_init(&mutex_attrs) == 0);\n",
    "        // Важно!\n",
    "        pa_assert(pthread_mutexattr_setpshared(&mutex_attrs, PTHREAD_PROCESS_SHARED) == 0);\n",
    "        pa_assert(pthread_mutex_init(&state->mutex, &mutex_attrs) == 0);\n",
    "        pa_assert(pthread_mutexattr_destroy(&mutex_attrs) == 0);\n",
    "\n",
    "        state->current_state = VALID_STATE;\n",
    "    }\n",
    "    return state;\n",
    "}\n",
    "\n",
    "void unload_state(shared_state_t* state) {\n",
    "    pa_assert(munmap(state, sizeof(shared_state_t)) == 0);\n",
    "}\n",
    "\n",
    "shared_state_t* process_safe_init_and_load(const char* name) {\n",
    "    // succeeded only for first process. This process will initalize state\n",
    "    sem_t* init_semaphore = sem_open(\n",
    "        name, O_CREAT | O_EXCL, 0644, 0); // Создаем семафор с изначальным значением 0. Если семафор уже есть, то команда пофейлится\n",
    "    if (init_semaphore != SEM_FAILED) { // Если смогли сделать семафор, то мы - главный процесс, ответственный за инициализацию\n",
    "        // initializing branch for initializing process\n",
    "        shared_state_t* state = load_state(name, /*do_create=*/ 1);\n",
    "        sem_post(init_semaphore); // Кладем в \"ящик\" весточку, что стейт проинициализирован\n",
    "        sem_close(init_semaphore);\n",
    "        return state;\n",
    "    } else { // Если мы не главные процесс, то подождем инициализацию\n",
    "        // branch for processes waiting initialisation\n",
    "        init_semaphore = sem_open(name, 0);\n",
    "        pa_assert(init_semaphore != SEM_FAILED);\n",
    "        sem_wait(init_semaphore); // ждем весточку, что стейт готов\n",
    "        sem_post(init_semaphore); // возвращаем весточку на место, чтобы другим процессам тоже досталось\n",
    "        sem_close(init_semaphore);\n",
    "        return load_state(name, /*do_create=*/ 0);\n",
    "    }\n",
    "}\n",
    "\n",
    "int main(int argc, char** argv)\n",
    "{\n",
    "    pa_assert(argc >= 2);\n",
    "    if (strcmp(\"cleanup\", argv[1]) == 0) {\n",
    "        log_printf(\"  Cleanup sem and shm: %s\\n\", argv[2]);\n",
    "        pa_warn_if_not(shm_unlink(argv[2]) == 0);\n",
    "        pa_warn_if_not(sem_unlink(argv[2]) == 0);\n",
    "        log_printf(\"  State created\\n\");\n",
    "    } else if (strcmp(\"work\", argv[1]) == 0) {\n",
    "        pa_assert(argc >= 3);\n",
    "        int worker = strtol(argv[2], 0, 10);\n",
    "        log_printf(\"  Worker %d started\\n\", worker);\n",
    "        \n",
    "        shared_state_t* state = process_safe_init_and_load(argv[3]);\n",
    "       \n",
    "        for (int j = 0; j < 10000; ++j) {\n",
    "            process_safe_func(state);\n",
    "        }\n",
    "     \n",
    "        unload_state(state);\n",
    "        log_printf(\"  Worker %d finished\\n\", worker);\n",
    "    } else {\n",
    "        pa_assert(0 && \"unknown command\")\n",
    "    }\n",
    "    return 0;\n",
    "}"
   ]
  },
  {
   "cell_type": "markdown",
   "metadata": {},
   "source": [
    "### Важное замечание про именованные и неименованные семафоры\n",
    "\n",
    "Для открытия/закрытия именованных семафоров используются `sem_open` и `sem_close`.\n",
    "\n",
    "А для неименованных `sem_init` и `sem_destroy`. \n",
    "\n",
    "Смешивать эти операции определенно не стоит, если конечно, вы где-нибудь не найдете документацию, подтверждающую обратное. Делать `sem_open`, а затем `sem_destroy`, это как создавать объект конструктором одного класса, а уничтожать деструктором другого (для родственных классов, без виртуального деструктора)."
   ]
  },
  {
   "cell_type": "code",
   "execution_count": null,
   "metadata": {},
   "outputs": [],
   "source": []
  },
  {
   "cell_type": "markdown",
   "metadata": {},
   "source": [
    "# <a name=\"sem_signal\"></a> Сочетаемость семафоров и сигналов\n",
    "\n",
    "Нет этой сочетаемости.\n",
    "\n",
    "```\n",
    "process 1\n",
    "> send signal to process 2\n",
    "> sem_post\n",
    "\n",
    "process 2\n",
    "> sem_wait\n",
    "> check variable that is set in signal handler\n",
    "```\n",
    "\n",
    "Не гарантируется, что сигнал будет доставлен и обработан до того, как отработает sem_wait."
   ]
  },
  {
   "cell_type": "code",
   "execution_count": 20,
   "metadata": {},
   "outputs": [
    {
     "data": {
      "text/markdown": [
       "Run: `gcc -Wall -fsanitize=thread -lrt sem_and_signal.c -o sem_and_signal.exe`"
      ],
      "text/plain": [
       "<IPython.core.display.Markdown object>"
      ]
     },
     "metadata": {},
     "output_type": "display_data"
    },
    {
     "data": {
      "text/markdown": [
       "Run: `./sem_and_signal.exe`"
      ],
      "text/plain": [
       "<IPython.core.display.Markdown object>"
      ]
     },
     "metadata": {},
     "output_type": "display_data"
    },
    {
     "name": "stdout",
     "output_type": "stream",
     "text": [
      "01:54:02.933 sem_and_signal.c: 69 [pid=28908]: Main process started\n",
      "i = 0\n",
      "i = 100000\n",
      "i = 200000\n",
      "i = 300000\n",
      "i = 400000\n",
      "i = 500000\n",
      "i = 600000\n",
      "i = 700000\n",
      "i = 800000\n",
      "i = 900000\n",
      "Signals and semaphors are not ordered... i = 951373, signals_count = 951373\n",
      "01:54:59.070 sem_and_signal.c: 99 [pid=28908]: 'ret != -1' failed\n"
     ]
    }
   ],
   "source": [
    "%%cpp sem_and_signal.c\n",
    "%run gcc -Wall -fsanitize=thread -lrt sem_and_signal.c -o sem_and_signal.exe\n",
    "%run ./sem_and_signal.exe\n",
    "\n",
    "#define _GNU_SOURCE \n",
    "#include <stdio.h>\n",
    "#include <stdlib.h>\n",
    "#include <unistd.h>\n",
    "#include <sys/types.h>\n",
    "#include <sys/time.h>\n",
    "#include <sys/wait.h>\n",
    "#include <sys/mman.h>\n",
    "#include <pthread.h>\n",
    "#include <semaphore.h>\n",
    "\n",
    "const char* log_prefix(const char* file, int line) {\n",
    "    struct timeval tp; gettimeofday(&tp, NULL); struct tm ltime; localtime_r(&tp.tv_sec, &ltime);\n",
    "    static __thread char prefix[100]; \n",
    "    size_t time_len = strftime(prefix, sizeof(prefix), \"%H:%M:%S\", &ltime);\n",
    "    sprintf(prefix + time_len, \".%03ld %s:%3d [pid=%d]\", tp.tv_usec / 1000, file, line, getpid());\n",
    "    return prefix;\n",
    "}\n",
    "\n",
    "#define log_printf_impl(fmt, ...) { dprintf(2, \"%s: \" fmt \"%s\", log_prefix(__FILE__, __LINE__), __VA_ARGS__); }\n",
    "#define log_printf(...) log_printf_impl(__VA_ARGS__, \"\")\n",
    "\n",
    "// process-aware assert\n",
    "#define pa_assert(stmt) if (stmt) {} else { log_printf(\"'\" #stmt \"' failed\\n\"); exit(EXIT_FAILURE); }\n",
    "\n",
    "volatile sig_atomic_t signal_count = 0;\n",
    "\n",
    "static void handler(int signum) {\n",
    "    signal_count += 1;\n",
    "}\n",
    "\n",
    "typedef struct {\n",
    "    sem_t semaphore_1;\n",
    "    sem_t semaphore_2;\n",
    "} shared_state_t;\n",
    "\n",
    "shared_state_t* state;\n",
    "\n",
    " \n",
    "shared_state_t* create_state() {\n",
    "    shared_state_t* state = mmap(\n",
    "        /* desired addr, addr = */ NULL, \n",
    "        /* length = */ sizeof(shared_state_t), \n",
    "        /* access attributes, prot = */ PROT_READ | PROT_WRITE, \n",
    "        /* flags = */ MAP_SHARED | MAP_ANONYMOUS,\n",
    "        /* fd = */ -1,\n",
    "        /* offset in file, offset = */ 0\n",
    "    );\n",
    "    pa_assert(state != MAP_FAILED);\n",
    "    \n",
    "    pa_assert(sem_init(&state->semaphore_1, 1, 0) == 0);\n",
    "    pa_assert(sem_init(&state->semaphore_2, 1, 0) == 0);\n",
    "    \n",
    "    return state;\n",
    "}\n",
    "\n",
    "void delete_state(shared_state_t* state) {\n",
    "    pa_assert(sem_destroy(&state->semaphore_1) == 0);\n",
    "    pa_assert(sem_destroy(&state->semaphore_2) == 0);\n",
    "    pa_assert(munmap(state, sizeof(shared_state_t)) == 0);\n",
    "}\n",
    "\n",
    "int main()\n",
    "{\n",
    "    log_printf(\"Main process started\\n\");\n",
    "    state = create_state();\n",
    "    pid_t process = fork();\n",
    "    if (process == 0) {\n",
    "        sigaction(SIGUSR1, &(struct sigaction){.sa_handler = handler, .sa_flags = SA_RESTART}, NULL);\n",
    "        sleep(1); // imitate synchronous start\n",
    "        for (int i = 0; ; ++i) {\n",
    "            sem_wait(&state->semaphore_1); \n",
    "            int cnt = signal_count;\n",
    "            if (cnt != i + 1) {\n",
    "                fprintf(stderr, \"Signals and semaphors are not ordered... i = %d, signals_count = %d\\n\", i, cnt);\n",
    "                exit(-1);\n",
    "            }\n",
    "            if (i % 100000 == 0) {\n",
    "                fprintf(stderr, \"i = %d\\n\", i);\n",
    "            }\n",
    "            sem_post(&state->semaphore_2); \n",
    "        }\n",
    "    } else {\n",
    "        sleep(1); // imitate synchronous start\n",
    "        int status;\n",
    "        int ret;\n",
    "        while ((ret = waitpid(process, &status, WNOHANG)) == 0) {\n",
    "            kill(process, SIGUSR1);\n",
    "            sem_post(&state->semaphore_1);\n",
    "        \n",
    "            while (sem_timedwait(&state->semaphore_2, &(struct timespec){.tv_nsec = 500000000}) == -1 \n",
    "                   && (ret = waitpid(process, &status, WNOHANG)) == 0) {\n",
    "            }\n",
    "        }\n",
    "        pa_assert(ret != -1)\n",
    "        pa_assert(WIFEXITED(status) && WEXITSTATUS(status) == 0);\n",
    "    }\n",
    "   \n",
    "    delete_state(state);\n",
    "    log_printf(\"Main process finished\\n\");\n",
    "    return 0;\n",
    "}"
   ]
  },
  {
   "cell_type": "markdown",
   "metadata": {},
   "source": [
    "Ломается, долго, но ломается. Так, что нельзя рассчитывать, что сигнал отрпавленный раньше, будет обработан до того, как дойдет событие через sem_post/sem_wait отправленное позже.\n",
    "\n",
    "Что неудивительно, так как семафоры работают напрямую через разделяемую память, а в обработке сигналов принимает участие еще и планировщик задач.\n",
    "\n",
    "Если система многоядерная и два процесса выполняются одновременно, то между отправкой сигнала и получением события через семафор может не случиться переключений процессов планировщиком - тогда сигнал будет доставлен позже.\n",
    "\n",
    "А на одноядерной системе представленная схема скорее всего будет работать. Так как между sem_post в одном процессе и завершением sem_wait в другом должно случиться переключение на второй процесс. В ходе которого вызовутся обработчики."
   ]
  },
  {
   "cell_type": "code",
   "execution_count": null,
   "metadata": {},
   "outputs": [],
   "source": []
  },
  {
   "cell_type": "code",
   "execution_count": null,
   "metadata": {},
   "outputs": [],
   "source": []
  },
  {
   "cell_type": "code",
   "execution_count": null,
   "metadata": {},
   "outputs": [],
   "source": []
  },
  {
   "cell_type": "markdown",
   "metadata": {},
   "source": [
    "# <a name=\"hw\"></a> Комментарии к ДЗ\n",
    "\n",
    "* "
   ]
  },
  {
   "cell_type": "code",
   "execution_count": null,
   "metadata": {},
   "outputs": [],
   "source": []
  },
  {
   "cell_type": "code",
   "execution_count": null,
   "metadata": {},
   "outputs": [],
   "source": []
  }
 ],
 "metadata": {
  "kernelspec": {
   "display_name": "Python 3",
   "language": "python",
   "name": "python3"
  },
  "language_info": {
   "codemirror_mode": {
    "name": "ipython",
    "version": 3
   },
   "file_extension": ".py",
   "mimetype": "text/x-python",
   "name": "python",
   "nbconvert_exporter": "python",
   "pygments_lexer": "ipython3",
   "version": "3.5.2"
  }
 },
 "nbformat": 4,
 "nbformat_minor": 2
}
