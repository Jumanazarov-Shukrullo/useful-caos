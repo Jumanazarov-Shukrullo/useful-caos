{
 "cells": [
  {
   "cell_type": "code",
   "execution_count": 1,
   "metadata": {},
   "outputs": [
    {
     "data": {
      "application/javascript": [
       "// setup cpp code highlighting\n",
       "IPython.CodeCell.options_default.highlight_modes[\"text/x-c++src\"] = {'reg':[/^%%cpp/]} ;"
      ],
      "text/plain": [
       "<IPython.core.display.Javascript object>"
      ]
     },
     "metadata": {},
     "output_type": "display_data"
    },
    {
     "data": {
      "text/html": [
       "<!-- YANDEX_METRICA_BEGIN -->\n",
       "    <script type=\"text/javascript\" >\n",
       "       (function(m,e,t,r,i,k,a){m[i]=m[i]||function(){(m[i].a=m[i].a||[]).push(arguments)};\n",
       "       m[i].l=1*new Date();k=e.createElement(t),a=e.getElementsByTagName(t)[0],k.async=1,k.src=r,a.parentNode.insertBefore(k,a)})\n",
       "       (window, document, \"script\", \"https://mc.yandex.ru/metrika/tag.js\", \"ym\");\n",
       "\n",
       "       ym(59260609, \"init\", {\n",
       "            clickmap:true,\n",
       "            trackLinks:true,\n",
       "            accurateTrackBounce:true\n",
       "       });\n",
       "    </script>\n",
       "    <noscript><div><img src=\"https://mc.yandex.ru/watch/59260609\" style=\"position:absolute; left:-9999px;\" alt=\"\" /></div></noscript>\n",
       "    <!-- YANDEX_METRICA_END -->"
      ],
      "text/plain": [
       "<IPython.core.display.HTML object>"
      ]
     },
     "metadata": {},
     "output_type": "display_data"
    },
    {
     "data": {
      "text/html": [
       "В этот ноутбук встроен код Яндекс Метрики для сбора статистики использований. Если вы не хотите, чтобы по вам собиралась статистика, исправьте: yandex_metrica_allowed = False<!-- MAGICS_SETUP_PRINTING_END -->"
      ],
      "text/plain": [
       "<IPython.core.display.HTML object>"
      ]
     },
     "metadata": {},
     "output_type": "display_data"
    }
   ],
   "source": [
    "# look at tools/set_up_magics.ipynb\n",
    "yandex_metrica_allowed = True ; get_ipython().run_cell('# one_liner_str\\n\\nget_ipython().run_cell_magic(\\'javascript\\', \\'\\', \\'// setup cpp code highlighting\\\\nIPython.CodeCell.options_default.highlight_modes[\"text/x-c++src\"] = {\\\\\\'reg\\\\\\':[/^%%cpp/]} ;\\')\\n\\n# creating magics\\nfrom IPython.core.magic import register_cell_magic, register_line_magic\\nfrom IPython.display import display, Markdown, HTML\\nimport argparse\\nfrom subprocess import Popen, PIPE\\nimport random\\nimport sys\\nimport os\\nimport re\\nimport signal\\nimport shutil\\nimport shlex\\nimport glob\\n\\n@register_cell_magic\\ndef save_file(args_str, cell, line_comment_start=\"#\"):\\n    parser = argparse.ArgumentParser()\\n    parser.add_argument(\"fname\")\\n    parser.add_argument(\"--ejudge-style\", action=\"store_true\")\\n    args = parser.parse_args(args_str.split())\\n    \\n    cell = cell if cell[-1] == \\'\\\\n\\' or args.no_eof_newline else cell + \"\\\\n\"\\n    cmds = []\\n    with open(args.fname, \"w\") as f:\\n        f.write(line_comment_start + \" %%cpp \" + args_str + \"\\\\n\")\\n        for line in cell.split(\"\\\\n\"):\\n            line_to_write = (line if not args.ejudge_style else line.rstrip()) + \"\\\\n\"\\n            if line.startswith(\"%\"):\\n                run_prefix = \"%run \"\\n                if line.startswith(run_prefix):\\n                    cmds.append(line[len(run_prefix):].strip())\\n                    f.write(line_comment_start + \" \" + line_to_write)\\n                    continue\\n                run_prefix = \"%# \"\\n                if line.startswith(run_prefix):\\n                    f.write(line_comment_start + \" \" + line_to_write)\\n                    continue\\n                raise Exception(\"Unknown %%save_file subcommand: \\'%s\\'\" % line)\\n            else:\\n                f.write(line_to_write)\\n        f.write(\"\" if not args.ejudge_style else line_comment_start + r\" line without \\\\n\")\\n    for cmd in cmds:\\n        display(Markdown(\"Run: `%s`\" % cmd))\\n        get_ipython().system(cmd)\\n\\n@register_cell_magic\\ndef cpp(fname, cell):\\n    save_file(fname, cell, \"//\")\\n\\n@register_cell_magic\\ndef asm(fname, cell):\\n    save_file(fname, cell, \"//\")\\n    \\n@register_cell_magic\\ndef makefile(fname, cell):\\n    assert not fname\\n    save_file(\"makefile\", cell.replace(\" \" * 4, \"\\\\t\"))\\n        \\n@register_line_magic\\ndef p(line):\\n    try:\\n        expr, comment = line.split(\" #\")\\n        display(Markdown(\"`{} = {}`  # {}\".format(expr.strip(), eval(expr), comment.strip())))\\n    except:\\n        display(Markdown(\"{} = {}\".format(line, eval(line))))\\n        \\ndef show_file(file, clear_at_begin=True, return_html_string=False):\\n    if clear_at_begin:\\n        get_ipython().system(\"truncate --size 0 \" + file)\\n    obj = file.replace(\\'.\\', \\'_\\').replace(\\'/\\', \\'_\\') + \"_obj\"\\n    html_string = \\'\\'\\'\\n        <!--MD_BEGIN_FILTER-->\\n        <script type=text/javascript>\\n        var entrance___OBJ__ = 0;\\n        var errors___OBJ__ = 0;\\n        function refresh__OBJ__()\\n        {\\n            entrance___OBJ__ -= 1;\\n            var elem = document.getElementById(\"__OBJ__\");\\n            if (elem) {\\n                var xmlhttp=new XMLHttpRequest();\\n                xmlhttp.onreadystatechange=function()\\n                {\\n                    var elem = document.getElementById(\"__OBJ__\");\\n                    console.log(!!elem, xmlhttp.readyState, xmlhttp.status, entrance___OBJ__);\\n                    if (elem && xmlhttp.readyState==4) {\\n                        if (xmlhttp.status==200)\\n                        {\\n                            errors___OBJ__ = 0;\\n                            if (!entrance___OBJ__) {\\n                                elem.innerText = xmlhttp.responseText;\\n                                entrance___OBJ__ += 1;\\n                                console.log(\"req\");\\n                                window.setTimeout(\"refresh__OBJ__()\", 300); \\n                            }\\n                            return xmlhttp.responseText;\\n                        } else {\\n                            errors___OBJ__ += 1;\\n                            if (errors___OBJ__ < 10 && !entrance___OBJ__) {\\n                                entrance___OBJ__ += 1;\\n                                console.log(\"req\");\\n                                window.setTimeout(\"refresh__OBJ__()\", 300); \\n                            }\\n                        }\\n                    }\\n                }\\n                xmlhttp.open(\"GET\", \"__FILE__\", true);\\n                xmlhttp.setRequestHeader(\"Cache-Control\", \"no-cache\");\\n                xmlhttp.send();     \\n            }\\n        }\\n        \\n        if (!entrance___OBJ__) {\\n            entrance___OBJ__ += 1;\\n            refresh__OBJ__(); \\n        }\\n        </script>\\n        \\n        <font color=\"white\"> <tt>\\n        <p id=\"__OBJ__\" style=\"font-size: 16px; border:3px #333333 solid; background: #333333; border-radius: 10px; padding: 10px;  \"></p>\\n        </tt> </font>\\n        <!--MD_END_FILTER-->\\n        <!--MD_FROM_FILE __FILE__ -->\\n        \\'\\'\\'.replace(\"__OBJ__\", obj).replace(\"__FILE__\", file)\\n    if return_html_string:\\n        return html_string\\n    display(HTML(html_string))\\n    \\nBASH_POPEN_TMP_DIR = \"./bash_popen_tmp\"\\n    \\ndef bash_popen_terminate_all():\\n    for p in globals().get(\"bash_popen_list\", []):\\n        print(\"Terminate pid=\" + str(p.pid), file=sys.stderr)\\n        p.terminate()\\n    globals()[\"bash_popen_list\"] = []\\n    if os.path.exists(BASH_POPEN_TMP_DIR):\\n        shutil.rmtree(BASH_POPEN_TMP_DIR)\\n\\nbash_popen_terminate_all()  \\n\\ndef bash_popen(cmd):\\n    if not os.path.exists(BASH_POPEN_TMP_DIR):\\n        os.mkdir(BASH_POPEN_TMP_DIR)\\n    h = os.path.join(BASH_POPEN_TMP_DIR, str(random.randint(0, 1e18)))\\n    stdout_file = h + \".out.html\"\\n    stderr_file = h + \".err.html\"\\n    run_log_file = h + \".fin.html\"\\n    \\n    stdout = open(stdout_file, \"wb\")\\n    stdout = open(stderr_file, \"wb\")\\n    \\n    html = \"\"\"\\n    <table width=\"100%\">\\n    <colgroup>\\n       <col span=\"1\" style=\"width: 70px;\">\\n       <col span=\"1\">\\n    </colgroup>    \\n    <tbody>\\n      <tr> <td><b>STDOUT</b></td> <td> {stdout} </td> </tr>\\n      <tr> <td><b>STDERR</b></td> <td> {stderr} </td> </tr>\\n      <tr> <td><b>RUN LOG</b></td> <td> {run_log} </td> </tr>\\n    </tbody>\\n    </table>\\n    \"\"\".format(\\n        stdout=show_file(stdout_file, return_html_string=True),\\n        stderr=show_file(stderr_file, return_html_string=True),\\n        run_log=show_file(run_log_file, return_html_string=True),\\n    )\\n    \\n    cmd = \"\"\"\\n        bash -c {cmd} &\\n        pid=$!\\n        echo \"Process started! pid=${{pid}}\" > {run_log_file}\\n        wait ${{pid}}\\n        echo \"Process finished! exit_code=$?\" >> {run_log_file}\\n    \"\"\".format(cmd=shlex.quote(cmd), run_log_file=run_log_file)\\n    # print(cmd)\\n    display(HTML(html))\\n    \\n    p = Popen([\"bash\", \"-c\", cmd], stdin=PIPE, stdout=stdout, stderr=stdout)\\n    \\n    bash_popen_list.append(p)\\n    return p\\n\\n\\n@register_line_magic\\ndef bash_async(line):\\n    bash_popen(line)\\n    \\n    \\ndef show_log_file(file, return_html_string=False):\\n    obj = file.replace(\\'.\\', \\'_\\').replace(\\'/\\', \\'_\\') + \"_obj\"\\n    html_string = \\'\\'\\'\\n        <!--MD_BEGIN_FILTER-->\\n        <script type=text/javascript>\\n        var entrance___OBJ__ = 0;\\n        var errors___OBJ__ = 0;\\n        function halt__OBJ__(elem, color)\\n        {\\n            elem.setAttribute(\"style\", \"font-size: 14px; background: \" + color + \"; padding: 10px; border: 3px; border-radius: 5px; color: white; \");                    \\n        }\\n        function refresh__OBJ__()\\n        {\\n            entrance___OBJ__ -= 1;\\n            if (entrance___OBJ__ < 0) {\\n                entrance___OBJ__ = 0;\\n            }\\n            var elem = document.getElementById(\"__OBJ__\");\\n            if (elem) {\\n                var xmlhttp=new XMLHttpRequest();\\n                xmlhttp.onreadystatechange=function()\\n                {\\n                    var elem = document.getElementById(\"__OBJ__\");\\n                    console.log(!!elem, xmlhttp.readyState, xmlhttp.status, entrance___OBJ__);\\n                    if (elem && xmlhttp.readyState==4) {\\n                        if (xmlhttp.status==200)\\n                        {\\n                            errors___OBJ__ = 0;\\n                            if (!entrance___OBJ__) {\\n                                if (elem.innerHTML != xmlhttp.responseText) {\\n                                    elem.innerHTML = xmlhttp.responseText;\\n                                }\\n                                if (elem.innerHTML.includes(\"Process finished.\")) {\\n                                    halt__OBJ__(elem, \"#333333\");\\n                                } else {\\n                                    entrance___OBJ__ += 1;\\n                                    console.log(\"req\");\\n                                    window.setTimeout(\"refresh__OBJ__()\", 300); \\n                                }\\n                            }\\n                            return xmlhttp.responseText;\\n                        } else {\\n                            errors___OBJ__ += 1;\\n                            if (!entrance___OBJ__) {\\n                                if (errors___OBJ__ < 6) {\\n                                    entrance___OBJ__ += 1;\\n                                    console.log(\"req\");\\n                                    window.setTimeout(\"refresh__OBJ__()\", 300); \\n                                } else {\\n                                    halt__OBJ__(elem, \"#994444\");\\n                                }\\n                            }\\n                        }\\n                    }\\n                }\\n                xmlhttp.open(\"GET\", \"__FILE__\", true);\\n                xmlhttp.setRequestHeader(\"Cache-Control\", \"no-cache\");\\n                xmlhttp.send();     \\n            }\\n        }\\n        \\n        if (!entrance___OBJ__) {\\n            entrance___OBJ__ += 1;\\n            refresh__OBJ__(); \\n        }\\n        </script>\\n\\n        <p id=\"__OBJ__\" style=\"font-size: 14px; background: #000000; padding: 10px; border: 3px; border-radius: 5px; color: white; \">\\n        </p>\\n        \\n        </font>\\n        <!--MD_END_FILTER-->\\n        <!--MD_FROM_FILE __FILE__.md -->\\n        \\'\\'\\'.replace(\"__OBJ__\", obj).replace(\"__FILE__\", file)\\n    if return_html_string:\\n        return html_string\\n    display(HTML(html_string))\\n\\n    \\nclass TInteractiveLauncher:\\n    tmp_path = \"./interactive_launcher_tmp\"\\n    def __init__(self, cmd):\\n        try:\\n            os.mkdir(TInteractiveLauncher.tmp_path)\\n        except:\\n            pass\\n        name = str(random.randint(0, 1e18))\\n        self.inq_path = os.path.join(TInteractiveLauncher.tmp_path, name + \".inq\")\\n        self.log_path = os.path.join(TInteractiveLauncher.tmp_path, name + \".log\")\\n        \\n        os.mkfifo(self.inq_path)\\n        open(self.log_path, \\'w\\').close()\\n        open(self.log_path + \".md\", \\'w\\').close()\\n\\n        self.pid = os.fork()\\n        if self.pid == -1:\\n            print(\"Error\")\\n        if self.pid == 0:\\n            exe_cands = glob.glob(\"../tools/launcher.py\") + glob.glob(\"../../tools/launcher.py\")\\n            assert(len(exe_cands) == 1)\\n            assert(os.execvp(\"python3\", [\"python3\", exe_cands[0], \"-l\", self.log_path, \"-i\", self.inq_path, \"-c\", cmd]) == 0)\\n        self.inq_f = open(self.inq_path, \"w\")\\n        interactive_launcher_opened_set.add(self.pid)\\n        show_log_file(self.log_path)\\n\\n    def write(self, s):\\n        s = s.encode()\\n        assert len(s) == os.write(self.inq_f.fileno(), s)\\n        \\n    def get_pid(self):\\n        n = 100\\n        for i in range(n):\\n            try:\\n                return int(re.findall(r\"PID = (\\\\d+)\", open(self.log_path).readline())[0])\\n            except:\\n                if i + 1 == n:\\n                    raise\\n                time.sleep(0.1)\\n        \\n    def input_queue_path(self):\\n        return self.inq_path\\n        \\n    def close(self):\\n        self.inq_f.close()\\n        os.waitpid(self.pid, 0)\\n        os.remove(self.inq_path)\\n        # os.remove(self.log_path)\\n        self.inq_path = None\\n        self.log_path = None \\n        interactive_launcher_opened_set.remove(self.pid)\\n        self.pid = None\\n        \\n    @staticmethod\\n    def terminate_all():\\n        if \"interactive_launcher_opened_set\" not in globals():\\n            globals()[\"interactive_launcher_opened_set\"] = set()\\n        global interactive_launcher_opened_set\\n        for pid in interactive_launcher_opened_set:\\n            print(\"Terminate pid=\" + str(pid), file=sys.stderr)\\n            os.kill(pid, signal.SIGKILL)\\n            os.waitpid(pid, 0)\\n        interactive_launcher_opened_set = set()\\n        if os.path.exists(TInteractiveLauncher.tmp_path):\\n            shutil.rmtree(TInteractiveLauncher.tmp_path)\\n    \\nTInteractiveLauncher.terminate_all()\\n   \\nyandex_metrica_allowed = bool(globals().get(\"yandex_metrica_allowed\", False))\\nif yandex_metrica_allowed:\\n    display(HTML(\\'\\'\\'<!-- YANDEX_METRICA_BEGIN -->\\n    <script type=\"text/javascript\" >\\n       (function(m,e,t,r,i,k,a){m[i]=m[i]||function(){(m[i].a=m[i].a||[]).push(arguments)};\\n       m[i].l=1*new Date();k=e.createElement(t),a=e.getElementsByTagName(t)[0],k.async=1,k.src=r,a.parentNode.insertBefore(k,a)})\\n       (window, document, \"script\", \"https://mc.yandex.ru/metrika/tag.js\", \"ym\");\\n\\n       ym(59260609, \"init\", {\\n            clickmap:true,\\n            trackLinks:true,\\n            accurateTrackBounce:true\\n       });\\n    </script>\\n    <noscript><div><img src=\"https://mc.yandex.ru/watch/59260609\" style=\"position:absolute; left:-9999px;\" alt=\"\" /></div></noscript>\\n    <!-- YANDEX_METRICA_END -->\\'\\'\\'))\\n\\ndef make_oneliner():\\n    html_text = \\'(\"В этот ноутбук встроен код Яндекс Метрики для сбора статистики использований. Если вы не хотите, чтобы по вам собиралась статистика, исправьте: yandex_metrica_allowed = False\" if yandex_metrica_allowed else \"\")\\'\\n    html_text += \\' + \"<\"\"!-- MAGICS_SETUP_PRINTING_END -->\"\\'\\n    return \\'\\'.join([\\n        \\'# look at tools/set_up_magics.ipynb\\\\n\\',\\n        \\'yandex_metrica_allowed = True ; get_ipython().run_cell(%s);\\' % repr(one_liner_str),\\n        \\'display(HTML(%s))\\' % html_text,\\n        \\' #\\'\\'MAGICS_SETUP_END\\'\\n    ])\\n       \\n\\n');display(HTML((\"В этот ноутбук встроен код Яндекс Метрики для сбора статистики использований. Если вы не хотите, чтобы по вам собиралась статистика, исправьте: yandex_metrica_allowed = False\" if yandex_metrica_allowed else \"\") + \"<\"\"!-- MAGICS_SETUP_PRINTING_END -->\")) #MAGICS_SETUP_END"
   ]
  },
  {
   "cell_type": "markdown",
   "metadata": {},
   "source": [
    "# Жизнь без стандартной библиотеки\n",
    "\n",
    "Что это значит? Значит, что функции взаимодействия с внещним миром (чтение, запись файлов и т. д.) будут реализованы в самом бинаре программы. Возможно вы даже лично напишите их код.\n",
    "\n"
   ]
  },
  {
   "cell_type": "markdown",
   "metadata": {},
   "source": [
    "## Компилим как обычно"
   ]
  },
  {
   "cell_type": "code",
   "execution_count": 2,
   "metadata": {},
   "outputs": [
    {
     "data": {
      "text/markdown": [
       "Run: `gcc -m32 -masm=intel -fno-asynchronous-unwind-tables -O3 main.c -S -o main.S`"
      ],
      "text/plain": [
       "<IPython.core.display.Markdown object>"
      ]
     },
     "metadata": {},
     "output_type": "display_data"
    },
    {
     "data": {
      "text/markdown": [
       "Run: `gcc -m32 -masm=intel -O3 main.c -o main.exe`"
      ],
      "text/plain": [
       "<IPython.core.display.Markdown object>"
      ]
     },
     "metadata": {},
     "output_type": "display_data"
    },
    {
     "data": {
      "text/markdown": [
       "Run: `ls -la main.exe`"
      ],
      "text/plain": [
       "<IPython.core.display.Markdown object>"
      ]
     },
     "metadata": {},
     "output_type": "display_data"
    },
    {
     "name": "stdout",
     "output_type": "stream",
     "text": [
      "-rwxrwxr-x 1 pechatnov pechatnov 7308 Mar  9 20:15 main.exe\r\n"
     ]
    },
    {
     "data": {
      "text/markdown": [
       "Run: `ldd main.exe  # Выводим зависимости по динамическим библиотекам`"
      ],
      "text/plain": [
       "<IPython.core.display.Markdown object>"
      ]
     },
     "metadata": {},
     "output_type": "display_data"
    },
    {
     "name": "stdout",
     "output_type": "stream",
     "text": [
      "\tlinux-gate.so.1 =>  (0xf7f5c000)\r\n",
      "\tlibc.so.6 => /lib/i386-linux-gnu/libc.so.6 (0xf7d80000)\r\n",
      "\t/lib/ld-linux.so.2 (0xf7f5e000)\r\n"
     ]
    },
    {
     "data": {
      "text/markdown": [
       "Run: `cat main.S`"
      ],
      "text/plain": [
       "<IPython.core.display.Markdown object>"
      ]
     },
     "metadata": {},
     "output_type": "display_data"
    },
    {
     "name": "stdout",
     "output_type": "stream",
     "text": [
      "\t.file\t\"main.c\"\r\n",
      "\t.intel_syntax noprefix\r\n",
      "\t.section\t.text.unlikely,\"ax\",@progbits\r\n",
      ".LCOLDB0:\r\n",
      "\t.section\t.text.startup,\"ax\",@progbits\r\n",
      ".LHOTB0:\r\n",
      "\t.p2align 4,,15\r\n",
      "\t.globl\tmain\r\n",
      "\t.type\tmain, @function\r\n",
      "main:\r\n",
      "\txor\teax, eax\r\n",
      "\tret\r\n",
      "\t.size\tmain, .-main\r\n",
      "\t.section\t.text.unlikely\r\n",
      ".LCOLDE0:\r\n",
      "\t.section\t.text.startup\r\n",
      ".LHOTE0:\r\n",
      "\t.ident\t\"GCC: (Ubuntu 5.5.0-12ubuntu1~16.04) 5.5.0 20171010\"\r\n",
      "\t.section\t.note.GNU-stack,\"\",@progbits\r\n"
     ]
    },
    {
     "data": {
      "text/markdown": [
       "Run: `objdump -M intel -d main.exe`"
      ],
      "text/plain": [
       "<IPython.core.display.Markdown object>"
      ]
     },
     "metadata": {},
     "output_type": "display_data"
    },
    {
     "name": "stdout",
     "output_type": "stream",
     "text": [
      "\r\n",
      "main.exe:     file format elf32-i386\r\n",
      "\r\n",
      "\r\n",
      "Disassembly of section .init:\r\n",
      "\r\n",
      "0804828c <_init>:\r\n",
      " 804828c:\t53                   \tpush   ebx\r\n",
      " 804828d:\t83 ec 08             \tsub    esp,0x8\r\n",
      " 8048290:\te8 7b 00 00 00       \tcall   8048310 <__x86.get_pc_thunk.bx>\r\n",
      " 8048295:\t81 c3 6b 1d 00 00    \tadd    ebx,0x1d6b\r\n",
      " 804829b:\t8b 83 fc ff ff ff    \tmov    eax,DWORD PTR [ebx-0x4]\r\n",
      " 80482a1:\t85 c0                \ttest   eax,eax\r\n",
      " 80482a3:\t74 05                \tje     80482aa <_init+0x1e>\r\n",
      " 80482a5:\te8 26 00 00 00       \tcall   80482d0 <__libc_start_main@plt+0x10>\r\n",
      " 80482aa:\t83 c4 08             \tadd    esp,0x8\r\n",
      " 80482ad:\t5b                   \tpop    ebx\r\n",
      " 80482ae:\tc3                   \tret    \r\n",
      "\r\n",
      "Disassembly of section .plt:\r\n",
      "\r\n",
      "080482b0 <__libc_start_main@plt-0x10>:\r\n",
      " 80482b0:\tff 35 04 a0 04 08    \tpush   DWORD PTR ds:0x804a004\r\n",
      " 80482b6:\tff 25 08 a0 04 08    \tjmp    DWORD PTR ds:0x804a008\r\n",
      " 80482bc:\t00 00                \tadd    BYTE PTR [eax],al\r\n",
      "\t...\r\n",
      "\r\n",
      "080482c0 <__libc_start_main@plt>:\r\n",
      " 80482c0:\tff 25 0c a0 04 08    \tjmp    DWORD PTR ds:0x804a00c\r\n",
      " 80482c6:\t68 00 00 00 00       \tpush   0x0\r\n",
      " 80482cb:\te9 e0 ff ff ff       \tjmp    80482b0 <_init+0x24>\r\n",
      "\r\n",
      "Disassembly of section .plt.got:\r\n",
      "\r\n",
      "080482d0 <.plt.got>:\r\n",
      " 80482d0:\tff 25 fc 9f 04 08    \tjmp    DWORD PTR ds:0x8049ffc\r\n",
      " 80482d6:\t66 90                \txchg   ax,ax\r\n",
      "\r\n",
      "Disassembly of section .text:\r\n",
      "\r\n",
      "080482e0 <main>:\r\n",
      " 80482e0:\t31 c0                \txor    eax,eax\r\n",
      " 80482e2:\tc3                   \tret    \r\n",
      "\r\n",
      "080482e3 <_start>:\r\n",
      " 80482e3:\t31 ed                \txor    ebp,ebp\r\n",
      " 80482e5:\t5e                   \tpop    esi\r\n",
      " 80482e6:\t89 e1                \tmov    ecx,esp\r\n",
      " 80482e8:\t83 e4 f0             \tand    esp,0xfffffff0\r\n",
      " 80482eb:\t50                   \tpush   eax\r\n",
      " 80482ec:\t54                   \tpush   esp\r\n",
      " 80482ed:\t52                   \tpush   edx\r\n",
      " 80482ee:\t68 40 84 04 08       \tpush   0x8048440\r\n",
      " 80482f3:\t68 e0 83 04 08       \tpush   0x80483e0\r\n",
      " 80482f8:\t51                   \tpush   ecx\r\n",
      " 80482f9:\t56                   \tpush   esi\r\n",
      " 80482fa:\t68 e0 82 04 08       \tpush   0x80482e0\r\n",
      " 80482ff:\te8 bc ff ff ff       \tcall   80482c0 <__libc_start_main@plt>\r\n",
      " 8048304:\tf4                   \thlt    \r\n",
      " 8048305:\t66 90                \txchg   ax,ax\r\n",
      " 8048307:\t66 90                \txchg   ax,ax\r\n",
      " 8048309:\t66 90                \txchg   ax,ax\r\n",
      " 804830b:\t66 90                \txchg   ax,ax\r\n",
      " 804830d:\t66 90                \txchg   ax,ax\r\n",
      " 804830f:\t90                   \tnop\r\n",
      "\r\n",
      "08048310 <__x86.get_pc_thunk.bx>:\r\n",
      " 8048310:\t8b 1c 24             \tmov    ebx,DWORD PTR [esp]\r\n",
      " 8048313:\tc3                   \tret    \r\n",
      " 8048314:\t66 90                \txchg   ax,ax\r\n",
      " 8048316:\t66 90                \txchg   ax,ax\r\n",
      " 8048318:\t66 90                \txchg   ax,ax\r\n",
      " 804831a:\t66 90                \txchg   ax,ax\r\n",
      " 804831c:\t66 90                \txchg   ax,ax\r\n",
      " 804831e:\t66 90                \txchg   ax,ax\r\n",
      "\r\n",
      "08048320 <deregister_tm_clones>:\r\n",
      " 8048320:\tb8 1b a0 04 08       \tmov    eax,0x804a01b\r\n",
      " 8048325:\t2d 18 a0 04 08       \tsub    eax,0x804a018\r\n",
      " 804832a:\t83 f8 06             \tcmp    eax,0x6\r\n",
      " 804832d:\t76 1a                \tjbe    8048349 <deregister_tm_clones+0x29>\r\n",
      " 804832f:\tb8 00 00 00 00       \tmov    eax,0x0\r\n",
      " 8048334:\t85 c0                \ttest   eax,eax\r\n",
      " 8048336:\t74 11                \tje     8048349 <deregister_tm_clones+0x29>\r\n",
      " 8048338:\t55                   \tpush   ebp\r\n",
      " 8048339:\t89 e5                \tmov    ebp,esp\r\n",
      " 804833b:\t83 ec 14             \tsub    esp,0x14\r\n",
      " 804833e:\t68 18 a0 04 08       \tpush   0x804a018\r\n",
      " 8048343:\tff d0                \tcall   eax\r\n",
      " 8048345:\t83 c4 10             \tadd    esp,0x10\r\n",
      " 8048348:\tc9                   \tleave  \r\n",
      " 8048349:\tf3 c3                \trepz ret \r\n",
      " 804834b:\t90                   \tnop\r\n",
      " 804834c:\t8d 74 26 00          \tlea    esi,[esi+eiz*1+0x0]\r\n",
      "\r\n",
      "08048350 <register_tm_clones>:\r\n",
      " 8048350:\tb8 18 a0 04 08       \tmov    eax,0x804a018\r\n",
      " 8048355:\t2d 18 a0 04 08       \tsub    eax,0x804a018\r\n",
      " 804835a:\tc1 f8 02             \tsar    eax,0x2\r\n",
      " 804835d:\t89 c2                \tmov    edx,eax\r\n",
      " 804835f:\tc1 ea 1f             \tshr    edx,0x1f\r\n",
      " 8048362:\t01 d0                \tadd    eax,edx\r\n",
      " 8048364:\td1 f8                \tsar    eax,1\r\n",
      " 8048366:\t74 1b                \tje     8048383 <register_tm_clones+0x33>\r\n",
      " 8048368:\tba 00 00 00 00       \tmov    edx,0x0\r\n",
      " 804836d:\t85 d2                \ttest   edx,edx\r\n",
      " 804836f:\t74 12                \tje     8048383 <register_tm_clones+0x33>\r\n",
      " 8048371:\t55                   \tpush   ebp\r\n",
      " 8048372:\t89 e5                \tmov    ebp,esp\r\n",
      " 8048374:\t83 ec 10             \tsub    esp,0x10\r\n",
      " 8048377:\t50                   \tpush   eax\r\n",
      " 8048378:\t68 18 a0 04 08       \tpush   0x804a018\r\n",
      " 804837d:\tff d2                \tcall   edx\r\n",
      " 804837f:\t83 c4 10             \tadd    esp,0x10\r\n",
      " 8048382:\tc9                   \tleave  \r\n",
      " 8048383:\tf3 c3                \trepz ret \r\n",
      " 8048385:\t8d 74 26 00          \tlea    esi,[esi+eiz*1+0x0]\r\n",
      " 8048389:\t8d bc 27 00 00 00 00 \tlea    edi,[edi+eiz*1+0x0]\r\n",
      "\r\n",
      "08048390 <__do_global_dtors_aux>:\r\n",
      " 8048390:\t80 3d 18 a0 04 08 00 \tcmp    BYTE PTR ds:0x804a018,0x0\r\n",
      " 8048397:\t75 13                \tjne    80483ac <__do_global_dtors_aux+0x1c>\r\n",
      " 8048399:\t55                   \tpush   ebp\r\n",
      " 804839a:\t89 e5                \tmov    ebp,esp\r\n",
      " 804839c:\t83 ec 08             \tsub    esp,0x8\r\n",
      " 804839f:\te8 7c ff ff ff       \tcall   8048320 <deregister_tm_clones>\r\n",
      " 80483a4:\tc6 05 18 a0 04 08 01 \tmov    BYTE PTR ds:0x804a018,0x1\r\n",
      " 80483ab:\tc9                   \tleave  \r\n",
      " 80483ac:\tf3 c3                \trepz ret \r\n",
      " 80483ae:\t66 90                \txchg   ax,ax\r\n",
      "\r\n",
      "080483b0 <frame_dummy>:\r\n",
      " 80483b0:\tb8 10 9f 04 08       \tmov    eax,0x8049f10\r\n",
      " 80483b5:\t8b 10                \tmov    edx,DWORD PTR [eax]\r\n",
      " 80483b7:\t85 d2                \ttest   edx,edx\r\n",
      " 80483b9:\t75 05                \tjne    80483c0 <frame_dummy+0x10>\r\n",
      " 80483bb:\teb 93                \tjmp    8048350 <register_tm_clones>\r\n",
      " 80483bd:\t8d 76 00             \tlea    esi,[esi+0x0]\r\n",
      " 80483c0:\tba 00 00 00 00       \tmov    edx,0x0\r\n",
      " 80483c5:\t85 d2                \ttest   edx,edx\r\n",
      " 80483c7:\t74 f2                \tje     80483bb <frame_dummy+0xb>\r\n",
      " 80483c9:\t55                   \tpush   ebp\r\n",
      " 80483ca:\t89 e5                \tmov    ebp,esp\r\n",
      " 80483cc:\t83 ec 14             \tsub    esp,0x14\r\n",
      " 80483cf:\t50                   \tpush   eax\r\n",
      " 80483d0:\tff d2                \tcall   edx\r\n",
      " 80483d2:\t83 c4 10             \tadd    esp,0x10\r\n",
      " 80483d5:\tc9                   \tleave  \r\n",
      " 80483d6:\te9 75 ff ff ff       \tjmp    8048350 <register_tm_clones>\r\n",
      " 80483db:\t66 90                \txchg   ax,ax\r\n",
      " 80483dd:\t66 90                \txchg   ax,ax\r\n",
      " 80483df:\t90                   \tnop\r\n",
      "\r\n",
      "080483e0 <__libc_csu_init>:\r\n",
      " 80483e0:\t55                   \tpush   ebp\r\n",
      " 80483e1:\t57                   \tpush   edi\r\n",
      " 80483e2:\t56                   \tpush   esi\r\n",
      " 80483e3:\t53                   \tpush   ebx\r\n",
      " 80483e4:\te8 27 ff ff ff       \tcall   8048310 <__x86.get_pc_thunk.bx>\r\n",
      " 80483e9:\t81 c3 17 1c 00 00    \tadd    ebx,0x1c17\r\n",
      " 80483ef:\t83 ec 0c             \tsub    esp,0xc\r\n",
      " 80483f2:\t8b 6c 24 20          \tmov    ebp,DWORD PTR [esp+0x20]\r\n",
      " 80483f6:\t8d b3 0c ff ff ff    \tlea    esi,[ebx-0xf4]\r\n",
      " 80483fc:\te8 8b fe ff ff       \tcall   804828c <_init>\r\n",
      " 8048401:\t8d 83 08 ff ff ff    \tlea    eax,[ebx-0xf8]\r\n",
      " 8048407:\t29 c6                \tsub    esi,eax\r\n",
      " 8048409:\tc1 fe 02             \tsar    esi,0x2\r\n",
      " 804840c:\t85 f6                \ttest   esi,esi\r\n",
      " 804840e:\t74 25                \tje     8048435 <__libc_csu_init+0x55>\r\n",
      " 8048410:\t31 ff                \txor    edi,edi\r\n",
      " 8048412:\t8d b6 00 00 00 00    \tlea    esi,[esi+0x0]\r\n",
      " 8048418:\t83 ec 04             \tsub    esp,0x4\r\n",
      " 804841b:\tff 74 24 2c          \tpush   DWORD PTR [esp+0x2c]\r\n",
      " 804841f:\tff 74 24 2c          \tpush   DWORD PTR [esp+0x2c]\r\n",
      " 8048423:\t55                   \tpush   ebp\r\n",
      " 8048424:\tff 94 bb 08 ff ff ff \tcall   DWORD PTR [ebx+edi*4-0xf8]\r\n",
      " 804842b:\t83 c7 01             \tadd    edi,0x1\r\n",
      " 804842e:\t83 c4 10             \tadd    esp,0x10\r\n",
      " 8048431:\t39 f7                \tcmp    edi,esi\r\n",
      " 8048433:\t75 e3                \tjne    8048418 <__libc_csu_init+0x38>\r\n",
      " 8048435:\t83 c4 0c             \tadd    esp,0xc\r\n",
      " 8048438:\t5b                   \tpop    ebx\r\n",
      " 8048439:\t5e                   \tpop    esi\r\n",
      " 804843a:\t5f                   \tpop    edi\r\n",
      " 804843b:\t5d                   \tpop    ebp\r\n",
      " 804843c:\tc3                   \tret    \r\n",
      " 804843d:\t8d 76 00             \tlea    esi,[esi+0x0]\r\n",
      "\r\n",
      "08048440 <__libc_csu_fini>:\r\n",
      " 8048440:\tf3 c3                \trepz ret \r\n",
      "\r\n",
      "Disassembly of section .fini:\r\n",
      "\r\n",
      "08048444 <_fini>:\r\n",
      " 8048444:\t53                   \tpush   ebx\r\n",
      " 8048445:\t83 ec 08             \tsub    esp,0x8\r\n",
      " 8048448:\te8 c3 fe ff ff       \tcall   8048310 <__x86.get_pc_thunk.bx>\r\n",
      " 804844d:\t81 c3 b3 1b 00 00    \tadd    ebx,0x1bb3\r\n",
      " 8048453:\t83 c4 08             \tadd    esp,0x8\r\n",
      " 8048456:\t5b                   \tpop    ebx\r\n",
      " 8048457:\tc3                   \tret    \r\n"
     ]
    }
   ],
   "source": [
    "%%cpp main.c\n",
    "%run gcc -m32 -masm=intel -fno-asynchronous-unwind-tables -O3 main.c -S -o main.S\n",
    "%run gcc -m32 -masm=intel -O3 main.c -o main.exe\n",
    "%run ls -la main.exe\n",
    "%run ldd main.exe  # Выводим зависимости по динамическим библиотекам\n",
    "%run cat main.S\n",
    "%run objdump -M intel -d main.exe\n",
    "\n",
    "int main() {\n",
    "    return 0;\n",
    "}"
   ]
  },
  {
   "cell_type": "markdown",
   "metadata": {},
   "source": [
    "## Компилим, статически линкуя libc"
   ]
  },
  {
   "cell_type": "code",
   "execution_count": 3,
   "metadata": {
    "scrolled": true
   },
   "outputs": [
    {
     "data": {
      "text/markdown": [
       "Run: `gcc -m32 -masm=intel -fno-asynchronous-unwind-tables -static -flto -O3  main2.c -S -o main2.S`"
      ],
      "text/plain": [
       "<IPython.core.display.Markdown object>"
      ]
     },
     "metadata": {},
     "output_type": "display_data"
    },
    {
     "data": {
      "text/markdown": [
       "Run: `gcc -m32 -masm=intel -static -flto -O3 main2.c -o main2.exe`"
      ],
      "text/plain": [
       "<IPython.core.display.Markdown object>"
      ]
     },
     "metadata": {},
     "output_type": "display_data"
    },
    {
     "data": {
      "text/markdown": [
       "Run: `ls -la main2.exe  # Заметьте, что размер стал сильно больше`"
      ],
      "text/plain": [
       "<IPython.core.display.Markdown object>"
      ]
     },
     "metadata": {},
     "output_type": "display_data"
    },
    {
     "name": "stdout",
     "output_type": "stream",
     "text": [
      "-rwxrwxr-x 1 pechatnov pechatnov 725160 Mar  9 20:15 main2.exe\r\n"
     ]
    },
    {
     "data": {
      "text/markdown": [
       "Run: `ldd main2.exe`"
      ],
      "text/plain": [
       "<IPython.core.display.Markdown object>"
      ]
     },
     "metadata": {},
     "output_type": "display_data"
    },
    {
     "name": "stdout",
     "output_type": "stream",
     "text": [
      "\tnot a dynamic executable\r\n"
     ]
    },
    {
     "data": {
      "text/markdown": [
       "Run: `./main2.exe`"
      ],
      "text/plain": [
       "<IPython.core.display.Markdown object>"
      ]
     },
     "metadata": {},
     "output_type": "display_data"
    }
   ],
   "source": [
    "%%cpp main2.c\n",
    "%run gcc -m32 -masm=intel -fno-asynchronous-unwind-tables -static -flto -O3  main2.c -S -o main2.S\n",
    "%run gcc -m32 -masm=intel -static -flto -O3 main2.c -o main2.exe\n",
    "%run ls -la main2.exe  # Заметьте, что размер стал сильно больше\n",
    "%run ldd main2.exe\n",
    "//%run objdump -M intel -d main2.exe\n",
    "%run ./main2.exe\n",
    "\n",
    "int main() {\n",
    "    return 0;\n",
    "}"
   ]
  },
  {
   "cell_type": "code",
   "execution_count": 4,
   "metadata": {
    "scrolled": true
   },
   "outputs": [
    {
     "name": "stdout",
     "output_type": "stream",
     "text": [
      "080484b0 <main>:\r\n",
      " 80484b0:\t31 c0                \txor    eax,eax\r\n",
      " 80484b2:\tc3                   \tret    \r\n",
      " 80484b3:\t66 90                \txchg   ax,ax\r\n",
      " 80484b5:\t66 90                \txchg   ax,ax\r\n",
      " 80484b7:\t66 90                \txchg   ax,ax\r\n",
      " 80484b9:\t66 90                \txchg   ax,ax\r\n",
      " 80484bb:\t66 90                \txchg   ax,ax\r\n",
      " 80484bd:\t66 90                \txchg   ax,ax\r\n",
      " 80484bf:\t90                   \tnop\r\n",
      "\r\n",
      "080484c0 <init_cacheinfo>:\r\n",
      " 80484c0:\t55                   \tpush   ebp\r\n",
      " 80484c1:\t57                   \tpush   edi\r\n",
      " 80484c2:\t56                   \tpush   esi\r\n",
      " 80484c3:\t53                   \tpush   ebx\r\n",
      " 80484c4:\t83 ec 2c             \tsub    esp,0x2c\r\n",
      " 80484c7:\ta1 60 b5 0e 08       \tmov    eax,ds:0x80eb560\r\n",
      " 80484cc:\t83 f8 01             \tcmp    eax,0x1\r\n",
      " 80484cf:\t74 11                \tje     80484e2 <init_cacheinfo+0x22>\r\n",
      " 80484d1:\t83 f8 02             \tcmp    eax,0x2\r\n",
      " 80484d4:\t0f 84 07 01 00 00    \tje     80485e1 <init_cacheinfo+0x121>\r\n",
      " 80484da:\t83 c4 2c             \tadd    esp,0x2c\r\n",
      " 80484dd:\t5b                   \tpop    ebx\r\n",
      " 80484de:\t5e                   \tpop    esi\r\n",
      " 80484df:\t5f                   \tpop    edi\r\n",
      " 80484e0:\t5d                   \tpop    ebp\r\n",
      " 80484e1:\tc3                   \tret    \r\n",
      " 80484e2:\t8b 15 64 b5 0e 08    \tmov    edx,DWORD PTR ds:0x80eb564\r\n",
      " 80484e8:\tb8 bc 00 00 00       \tmov    eax,0xbc\r\n",
      " 80484ed:\te8 4e 3b 02 00       \tcall   806c040 <handle_intel>\r\n"
     ]
    }
   ],
   "source": [
    "!objdump -M intel -d main2.exe | grep -A 30 \"<main>:\"\n",
    "#!objdump -M intel -d main2.exe | grep -A 30 \"s80ea9f0\""
   ]
  },
  {
   "cell_type": "markdown",
   "metadata": {},
   "source": [
    "# Пишем сами без libc"
   ]
  },
  {
   "cell_type": "code",
   "execution_count": 5,
   "metadata": {},
   "outputs": [
    {
     "data": {
      "text/markdown": [
       "Run: `gcc -m32 -masm=intel -nostdlib -O3 minimal.c -o minimal.exe`"
      ],
      "text/plain": [
       "<IPython.core.display.Markdown object>"
      ]
     },
     "metadata": {},
     "output_type": "display_data"
    },
    {
     "data": {
      "text/markdown": [
       "Run: `gcc -m32 -masm=intel -nostdlib -fno-asynchronous-unwind-tables -O3 minimal.c -S -o minimal.S`"
      ],
      "text/plain": [
       "<IPython.core.display.Markdown object>"
      ]
     },
     "metadata": {},
     "output_type": "display_data"
    },
    {
     "data": {
      "text/markdown": [
       "Run: `ls -la minimal.exe  # Заметьте, что размер стал очень маленьким :)`"
      ],
      "text/plain": [
       "<IPython.core.display.Markdown object>"
      ]
     },
     "metadata": {},
     "output_type": "display_data"
    },
    {
     "name": "stdout",
     "output_type": "stream",
     "text": [
      "-rwxrwxr-x 1 pechatnov pechatnov 2480 Mar  9 20:15 minimal.exe\r\n"
     ]
    },
    {
     "data": {
      "text/markdown": [
       "Run: `./minimal.exe ; echo $?`"
      ],
      "text/plain": [
       "<IPython.core.display.Markdown object>"
      ]
     },
     "metadata": {},
     "output_type": "display_data"
    },
    {
     "name": "stdout",
     "output_type": "stream",
     "text": [
      "Hello world from function 'write'!\r\n",
      "\u0000Hello world from 'syscall'!\r\n",
      "\u0000Look at this value: 10050042\r\n",
      "Look at this value: 123456\r\n",
      "0\r\n"
     ]
    }
   ],
   "source": [
    "%%cpp minimal.c\n",
    "%run gcc -m32 -masm=intel -nostdlib -O3 minimal.c -o minimal.exe\n",
    "%run gcc -m32 -masm=intel -nostdlib -fno-asynchronous-unwind-tables -O3 minimal.c -S -o minimal.S\n",
    "%run ls -la minimal.exe  # Заметьте, что размер стал очень маленьким :)\n",
    "//%run ldd minimal.exe\n",
    "\n",
    "//%run cat minimal.S\n",
    "//%run objdump -d minimal.exe\n",
    "\n",
    "%run ./minimal.exe ; echo $? \n",
    "\n",
    "#include <sys/syscall.h>\n",
    "\n",
    "    \n",
    "// Универсальная функция для совершения системных вызовов\n",
    "int syscall(int code, ...);\n",
    "__asm__(R\"(\n",
    "syscall:\n",
    "    push ebx\n",
    "    push ebp\n",
    "    push esi\n",
    "    push edi\n",
    "    mov eax, DWORD PTR [esp + 20] \n",
    "    mov ebx, DWORD PTR [esp + 24] \n",
    "    mov ecx, DWORD PTR [esp + 28] \n",
    "    mov edx, DWORD PTR [esp + 32]\n",
    "    mov esi, DWORD PTR [esp + 36]\n",
    "    mov edi, DWORD PTR [esp + 40]\n",
    "    int 0x80\n",
    "    pop edi\n",
    "    pop esi\n",
    "    pop ebp\n",
    "    pop ebx\n",
    "    ret\n",
    ")\");\n",
    "\n",
    "\n",
    "void int_to_s(unsigned int i, char* s, int* len) {\n",
    "    int clen = 0;\n",
    "    for (int ic = i; ic; ic /= 10, ++clen);\n",
    "    clen = clen ?: 1;\n",
    "    s[clen] = '\\0';\n",
    "    for (int j = 0; j < clen; ++j, i /= 10) {\n",
    "        s[clen - j - 1] = '0' + i % 10;\n",
    "    }\n",
    "    *len = clen;\n",
    "}\n",
    "\n",
    "unsigned int s_to_int(char* s) {\n",
    "    unsigned int res = 0;\n",
    "    while ('0' <= *s && *s <= '9') {\n",
    "        res *= 10;\n",
    "        res += *s - '0';\n",
    "        ++s;\n",
    "    }\n",
    "    return res;\n",
    "}\n",
    "\n",
    "int print_int(int fd, unsigned int i) {\n",
    "    char s[20];\n",
    "    int len;\n",
    "    int_to_s(i, s, &len);\n",
    "    return syscall(SYS_write, fd, s, len);\n",
    "}\n",
    "\n",
    "int print_s(int fd, const char* s) {\n",
    "    int len = 0;\n",
    "    while (s[len]) ++len;\n",
    "    return syscall(SYS_write, fd, s, len);\n",
    "}\n",
    "\n",
    "\n",
    "// Пример использования системного вызова для завершения работы программы\n",
    "void _exit(int code);\n",
    "__asm__(R\"(\n",
    "_exit:\n",
    "    mov   eax, 1\n",
    "    mov   ebx, [esp + 4]\n",
    "    int   0x80\n",
    ")\");\n",
    "\n",
    "\n",
    "const char hello_s[] = \"Hello world from function 'write'!\\n\";\n",
    "const int hello_s_size = sizeof(hello_s);\n",
    "\n",
    "// Пример использования системного вызова для вывода в stdout\n",
    "int write();\n",
    "__asm__(R\"(\n",
    "write:\n",
    "    push ebx\n",
    "    mov eax, 4 \n",
    "    mov ebx, 1\n",
    "    lea ecx, [hello_s]\n",
    "    mov edx, hello_s_size\n",
    "    int 0x80\n",
    "    pop ebx\n",
    "    ret\n",
    ")\");\n",
    "\n",
    "\n",
    "// Именно с этой функции всегда начинается выполнение программы\n",
    "void _start() {\n",
    "    const char hello_s_2[] = \"Hello world from 'syscall'!\\n\";\n",
    "    write();\n",
    "    syscall(SYS_write, 1, hello_s_2, sizeof(hello_s_2));\n",
    "    print_s(1, \"Look at this value: \"); print_int(1, 10050042); print_s(1, \"\\n\");\n",
    "    print_s(1, \"Look at this value: \"); print_int(1, s_to_int(\"123456\")); print_s(1, \"\\n\");\n",
    "    \n",
    "    syscall(SYS_exit, 0);\n",
    "    _exit(-1);\n",
    "}\n"
   ]
  },
  {
   "cell_type": "code",
   "execution_count": null,
   "metadata": {},
   "outputs": [],
   "source": []
  },
  {
   "cell_type": "markdown",
   "metadata": {},
   "source": [
    "# Смотрим на адреса различных переменных. Проверяем, что секции памяти расположены так, как мы ожидаем"
   ]
  },
  {
   "cell_type": "code",
   "execution_count": 6,
   "metadata": {
    "scrolled": false
   },
   "outputs": [
    {
     "data": {
      "text/markdown": [
       "Run: `gcc -m32 -masm=intel -O0 look_at_addresses.c -o look_at_addresses.exe`"
      ],
      "text/plain": [
       "<IPython.core.display.Markdown object>"
      ]
     },
     "metadata": {},
     "output_type": "display_data"
    },
    {
     "data": {
      "text/markdown": [
       "Run: `./look_at_addresses.exe`"
      ],
      "text/plain": [
       "<IPython.core.display.Markdown object>"
      ]
     },
     "metadata": {},
     "output_type": "display_data"
    },
    {
     "name": "stdout",
     "output_type": "stream",
     "text": [
      "Func func addr = 0x804849b\r\n",
      "Func func_s addr = 0x80484a3\r\n",
      "Global var addr = 0x804a040\r\n",
      "Static 'st' addr = 0x804a22c\r\n",
      "Static 'func_s.a' addr = 0x804a234\r\n",
      "Local 'local' addr = 0xffa48e74\r\n",
      "Local 'local2' addr = 0xffa48e58\r\n",
      "Heap 'all' addr = 0x8402008\r\n"
     ]
    }
   ],
   "source": [
    "%%cpp look_at_addresses.c\n",
    "%run gcc -m32 -masm=intel -O0 look_at_addresses.c -o look_at_addresses.exe\n",
    "%run ./look_at_addresses.exe\n",
    "\n",
    "#include <stdio.h>\n",
    "#include <stdlib.h>\n",
    "\n",
    "int func(int a) {\n",
    "    return a;\n",
    "}\n",
    "\n",
    "int* func_s() {\n",
    "    static int a;\n",
    "    return &a;\n",
    "}\n",
    "\n",
    "int data[123] = {1, 2, 3};\n",
    "\n",
    "\n",
    "int main2() {\n",
    "   int local2 = 5;\n",
    "   printf(\"Local 'local2' addr = %p\\n\", &local2); \n",
    "}\n",
    "\n",
    "\n",
    "int main() {\n",
    "    int local = 1;\n",
    "    static int st = 2;\n",
    "    int* all = malloc(12);\n",
    "    \n",
    "    printf(\"Func func addr = %p\\n\", (void*)func);\n",
    "    printf(\"Func func_s addr = %p\\n\", (void*)func_s);\n",
    "    printf(\"Global var addr = %p\\n\", data);\n",
    "    \n",
    "    printf(\"Static 'st' addr = %p\\n\", &st);\n",
    "    printf(\"Static 'func_s.a' addr = %p\\n\", func_s());\n",
    "    \n",
    "    printf(\"Local 'local' addr = %p\\n\", &local);\n",
    "    main2();\n",
    "    \n",
    "    printf(\"Heap 'all' addr = %p\\n\", all);\n",
    "    \n",
    "    return 0;\n",
    "}"
   ]
  },
  {
   "cell_type": "markdown",
   "metadata": {},
   "source": [
    "# Разбираемся в системным вызовом brk\n",
    "\n",
    "`void *sbrk(intptr_t increment);`"
   ]
  },
  {
   "cell_type": "code",
   "execution_count": 7,
   "metadata": {},
   "outputs": [
    {
     "data": {
      "text/markdown": [
       "Run: `gcc -m32 -masm=intel -nostdlib -O3 minimal.c -o minimal.exe`"
      ],
      "text/plain": [
       "<IPython.core.display.Markdown object>"
      ]
     },
     "metadata": {},
     "output_type": "display_data"
    },
    {
     "data": {
      "text/markdown": [
       "Run: `gcc -m32 -masm=intel -nostdlib -fno-asynchronous-unwind-tables -O3 minimal.c -S -o minimal.S`"
      ],
      "text/plain": [
       "<IPython.core.display.Markdown object>"
      ]
     },
     "metadata": {},
     "output_type": "display_data"
    },
    {
     "data": {
      "text/markdown": [
       "Run: `./minimal.exe ; echo $?`"
      ],
      "text/plain": [
       "<IPython.core.display.Markdown object>"
      ]
     },
     "metadata": {},
     "output_type": "display_data"
    },
    {
     "name": "stdout",
     "output_type": "stream",
     "text": [
      "Data begin: 157270016\n",
      "Data end: 257270016\n",
      "25000000\n",
      "0\n"
     ]
    }
   ],
   "source": [
    "%%cpp minimal.c\n",
    "%run gcc -m32 -masm=intel -nostdlib -O3 minimal.c -o minimal.exe\n",
    "%run gcc -m32 -masm=intel -nostdlib -fno-asynchronous-unwind-tables -O3 minimal.c -S -o minimal.S\n",
    "\n",
    "//%run cat minimal.S\n",
    "//%run objdump -d minimal.exe\n",
    "\n",
    "%run ./minimal.exe ; echo $? \n",
    "\n",
    "#include <sys/syscall.h>\n",
    "\n",
    "    \n",
    "// Универсальная функция для совершения системных вызовов\n",
    "int syscall(int code, ...);\n",
    "__asm__(R\"(\n",
    "syscall:\n",
    "    push ebx\n",
    "    push ebp\n",
    "    push esi\n",
    "    push edi\n",
    "    mov eax, DWORD PTR [esp + 20] \n",
    "    mov ebx, DWORD PTR [esp + 24] \n",
    "    mov ecx, DWORD PTR [esp + 28] \n",
    "    mov edx, DWORD PTR [esp + 32]\n",
    "    mov esi, DWORD PTR [esp + 36]\n",
    "    mov edi, DWORD PTR [esp + 40]\n",
    "    int 0x80\n",
    "    pop edi\n",
    "    pop esi\n",
    "    pop ebp\n",
    "    pop ebx\n",
    "    ret\n",
    ")\");\n",
    "\n",
    "\n",
    "void int_to_s(unsigned int i, char* s, int* len) {\n",
    "    int clen = 0;\n",
    "    for (int ic = i; ic; ic /= 10, ++clen);\n",
    "    clen = clen ?: 1;\n",
    "    s[clen] = '\\0';\n",
    "    for (int j = 0; j < clen; ++j, i /= 10) {\n",
    "        s[clen - j - 1] = '0' + i % 10;\n",
    "    }\n",
    "    *len = clen;\n",
    "}\n",
    "\n",
    "unsigned int s_to_int(char* s) {\n",
    "    unsigned int res = 0;\n",
    "    while ('0' <= *s && *s <= '9') {\n",
    "        res *= 10;\n",
    "        res += *s - '0';\n",
    "        ++s;\n",
    "    }\n",
    "    return res;\n",
    "}\n",
    "\n",
    "int print_int(int fd, unsigned int i) {\n",
    "    char s[20];\n",
    "    int len;\n",
    "    int_to_s(i, s, &len);\n",
    "    return syscall(SYS_write, fd, s, len);\n",
    "}\n",
    "\n",
    "int print_s(int fd, const char* s) {\n",
    "    int len = 0;\n",
    "    while (s[len]) ++len;\n",
    "    return syscall(SYS_write, fd, s, len);\n",
    "}\n",
    "\n",
    "\n",
    "// Пример использования системного вызова для завершения работы программы\n",
    "void _exit(int code);\n",
    "__asm__(R\"(\n",
    "_exit:\n",
    "    mov   eax, 1\n",
    "    mov   ebx, [esp + 4]\n",
    "    int   0x80\n",
    ")\");\n",
    "\n",
    "\n",
    "const char hello_s[] = \"Hello world from function 'write'!\\n\";\n",
    "const int hello_s_size = sizeof(hello_s);\n",
    "\n",
    "// Пример использования системного вызова для вывода в stdout\n",
    "int write();\n",
    "__asm__(R\"(\n",
    "write:\n",
    "    push ebx\n",
    "    mov eax, 4 \n",
    "    mov ebx, 1\n",
    "    lea ecx, [hello_s]\n",
    "    mov edx, hello_s_size\n",
    "    int 0x80\n",
    "    pop ebx\n",
    "    ret\n",
    ")\");\n",
    "\n",
    "\n",
    "// Именно с этой функции всегда начинается выполнение программы\n",
    "void _start() {\n",
    "    const int size = 100 * 1000 * 1000;\n",
    "    int* data_start = (void*)syscall(SYS_brk, 0);\n",
    "    int* data_end = (void*)syscall(SYS_brk, (int)data_start + size);\n",
    "    \n",
    "    print_s(1, \"Data begin: \"); print_int(1, (int)(void*)data_start); print_s(1, \"\\n\");\n",
    "    print_s(1, \"Data end: \");  print_int(1, (int)(void*)data_end); print_s(1, \"\\n\");\n",
    "    \n",
    "    data_start[0] = 1;\n",
    "    for (int i = 1; i < (data_end - data_start); ++i) {\n",
    "        data_start[i] = data_start[i - 1] + 1;\n",
    "    }\n",
    "    \n",
    "    print_int(1, data_end[-1]); print_s(1, \"\\n\");\n",
    "    \n",
    "    _exit(0);\n",
    "}\n"
   ]
  },
  {
   "cell_type": "code",
   "execution_count": 8,
   "metadata": {},
   "outputs": [
    {
     "data": {
      "text/plain": [
       "'0x8b4d000'"
      ]
     },
     "execution_count": 8,
     "metadata": {},
     "output_type": "execute_result"
    }
   ],
   "source": [
    "hex(146067456)"
   ]
  },
  {
   "cell_type": "code",
   "execution_count": 9,
   "metadata": {},
   "outputs": [
    {
     "data": {
      "text/plain": [
       "'0x5fd8220'"
      ]
     },
     "execution_count": 9,
     "metadata": {},
     "output_type": "execute_result"
    }
   ],
   "source": [
    "hex(100500000)"
   ]
  },
  {
   "cell_type": "code",
   "execution_count": null,
   "metadata": {},
   "outputs": [],
   "source": []
  },
  {
   "cell_type": "code",
   "execution_count": 10,
   "metadata": {},
   "outputs": [
    {
     "data": {
      "text/markdown": [
       "Run: `gcc -m32 -nostdlib asm.S -o asm.exe`"
      ],
      "text/plain": [
       "<IPython.core.display.Markdown object>"
      ]
     },
     "metadata": {},
     "output_type": "display_data"
    },
    {
     "data": {
      "text/markdown": [
       "Run: `./asm.exe`"
      ],
      "text/plain": [
       "<IPython.core.display.Markdown object>"
      ]
     },
     "metadata": {},
     "output_type": "display_data"
    },
    {
     "name": "stdout",
     "output_type": "stream",
     "text": [
      "Hello, World!\r\n"
     ]
    }
   ],
   "source": [
    "%%asm asm.S\n",
    "%run gcc -m32 -nostdlib asm.S -o asm.exe\n",
    "%run ./asm.exe\n",
    "    .intel_syntax noprefix\n",
    "    .text\n",
    "    .global _start\n",
    "_start:\n",
    "    mov eax, 4\n",
    "    mov ebx, 1\n",
    "    mov ecx, hello_world_ptr\n",
    "    mov edx, 14\n",
    "    int 0x80\n",
    "\n",
    "    mov eax, 1\n",
    "    mov ebx, 1\n",
    "    int 0x80\n",
    "\n",
    "    .data\n",
    "hello_world:\n",
    "    .string \"Hello, World!\\n\"\n",
    "hello_world_ptr:\n",
    "    .long hello_world\n"
   ]
  },
  {
   "cell_type": "code",
   "execution_count": null,
   "metadata": {},
   "outputs": [],
   "source": []
  }
 ],
 "metadata": {
  "kernelspec": {
   "display_name": "Python 3",
   "language": "python",
   "name": "python3"
  },
  "language_info": {
   "codemirror_mode": {
    "name": "ipython",
    "version": 3
   },
   "file_extension": ".py",
   "mimetype": "text/x-python",
   "name": "python",
   "nbconvert_exporter": "python",
   "pygments_lexer": "ipython3",
   "version": "3.5.2"
  }
 },
 "nbformat": 4,
 "nbformat_minor": 2
}
