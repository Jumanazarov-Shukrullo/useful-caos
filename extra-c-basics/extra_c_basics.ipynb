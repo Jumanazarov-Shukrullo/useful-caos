{
 "cells": [
  {
   "cell_type": "code",
   "execution_count": 6,
   "metadata": {
    "scrolled": true
   },
   "outputs": [
    {
     "data": {
      "application/javascript": [
       "// setup cpp code highlighting\n",
       "IPython.CodeCell.options_default.highlight_modes[\"text/x-c++src\"] = {'reg':[/^%%cpp/]} ;"
      ],
      "text/plain": [
       "<IPython.core.display.Javascript object>"
      ]
     },
     "metadata": {},
     "output_type": "display_data"
    },
    {
     "data": {
      "text/html": [
       "<!-- YANDEX_METRICA_BEGIN -->\n",
       "    <script type=\"text/javascript\" >\n",
       "       (function(m,e,t,r,i,k,a){m[i]=m[i]||function(){(m[i].a=m[i].a||[]).push(arguments)};\n",
       "       m[i].l=1*new Date();k=e.createElement(t),a=e.getElementsByTagName(t)[0],k.async=1,k.src=r,a.parentNode.insertBefore(k,a)})\n",
       "       (window, document, \"script\", \"https://mc.yandex.ru/metrika/tag.js\", \"ym\");\n",
       "\n",
       "       ym(59260609, \"init\", {\n",
       "            clickmap:true,\n",
       "            trackLinks:true,\n",
       "            accurateTrackBounce:true\n",
       "       });\n",
       "    </script>\n",
       "    <noscript><div><img src=\"https://mc.yandex.ru/watch/59260609\" style=\"position:absolute; left:-9999px;\" alt=\"\" /></div></noscript>\n",
       "    <!-- YANDEX_METRICA_END -->"
      ],
      "text/plain": [
       "<IPython.core.display.HTML object>"
      ]
     },
     "metadata": {},
     "output_type": "display_data"
    },
    {
     "data": {
      "text/html": [
       "В этот ноутбук встроен код Яндекс Метрики для сбора статистики использований. Если вы не хотите, чтобы по вам собиралась статистика, исправьте: yandex_metrica_allowed = False<!-- MAGICS_SETUP_PRINTING_END -->"
      ],
      "text/plain": [
       "<IPython.core.display.HTML object>"
      ]
     },
     "metadata": {},
     "output_type": "display_data"
    }
   ],
   "source": [
    "# look at tools/set_up_magics.ipynb\n",
    "yandex_metrica_allowed = True ; get_ipython().run_cell('# one_liner_str\\n\\nget_ipython().run_cell_magic(\\'javascript\\', \\'\\', \\'// setup cpp code highlighting\\\\nIPython.CodeCell.options_default.highlight_modes[\"text/x-c++src\"] = {\\\\\\'reg\\\\\\':[/^%%cpp/]} ;\\')\\n\\n# creating magics\\nfrom IPython.core.magic import register_cell_magic, register_line_magic\\nfrom IPython.display import display, Markdown, HTML\\nimport argparse\\nfrom subprocess import Popen, PIPE\\nimport random\\nimport sys\\nimport os\\nimport re\\nimport signal\\nimport shutil\\nimport shlex\\nimport glob\\n\\n@register_cell_magic\\ndef save_file(args_str, cell, line_comment_start=\"#\"):\\n    parser = argparse.ArgumentParser()\\n    parser.add_argument(\"fname\")\\n    parser.add_argument(\"--ejudge-style\", action=\"store_true\")\\n    args = parser.parse_args(args_str.split())\\n    \\n    cell = cell if cell[-1] == \\'\\\\n\\' or args.no_eof_newline else cell + \"\\\\n\"\\n    cmds = []\\n    with open(args.fname, \"w\") as f:\\n        f.write(line_comment_start + \" %%cpp \" + args_str + \"\\\\n\")\\n        for line in cell.split(\"\\\\n\"):\\n            line_to_write = (line if not args.ejudge_style else line.rstrip()) + \"\\\\n\"\\n            if line.startswith(\"%\"):\\n                run_prefix = \"%run \"\\n                if line.startswith(run_prefix):\\n                    cmds.append(line[len(run_prefix):].strip())\\n                    f.write(line_comment_start + \" \" + line_to_write)\\n                    continue\\n                run_prefix = \"%# \"\\n                if line.startswith(run_prefix):\\n                    f.write(line_comment_start + \" \" + line_to_write)\\n                    continue\\n                raise Exception(\"Unknown %%save_file subcommand: \\'%s\\'\" % line)\\n            else:\\n                f.write(line_to_write)\\n        f.write(\"\" if not args.ejudge_style else line_comment_start + r\" line without \\\\n\")\\n    for cmd in cmds:\\n        display(Markdown(\"Run: `%s`\" % cmd))\\n        get_ipython().system(cmd)\\n\\n@register_cell_magic\\ndef cpp(fname, cell):\\n    save_file(fname, cell, \"//\")\\n\\n@register_cell_magic\\ndef asm(fname, cell):\\n    save_file(fname, cell, \"//\")\\n    \\n@register_cell_magic\\ndef makefile(fname, cell):\\n    assert not fname\\n    save_file(\"makefile\", cell.replace(\" \" * 4, \"\\\\t\"))\\n        \\n@register_line_magic\\ndef p(line):\\n    try:\\n        expr, comment = line.split(\" #\")\\n        display(Markdown(\"`{} = {}`  # {}\".format(expr.strip(), eval(expr), comment.strip())))\\n    except:\\n        display(Markdown(\"{} = {}\".format(line, eval(line))))\\n        \\ndef show_file(file, clear_at_begin=True, return_html_string=False):\\n    if clear_at_begin:\\n        get_ipython().system(\"truncate --size 0 \" + file)\\n    obj = file.replace(\\'.\\', \\'_\\').replace(\\'/\\', \\'_\\') + \"_obj\"\\n    html_string = \\'\\'\\'\\n        <!--MD_BEGIN_FILTER-->\\n        <script type=text/javascript>\\n        var entrance___OBJ__ = 0;\\n        var errors___OBJ__ = 0;\\n        function refresh__OBJ__()\\n        {\\n            entrance___OBJ__ -= 1;\\n            var elem = document.getElementById(\"__OBJ__\");\\n            if (elem) {\\n                var xmlhttp=new XMLHttpRequest();\\n                xmlhttp.onreadystatechange=function()\\n                {\\n                    var elem = document.getElementById(\"__OBJ__\");\\n                    console.log(!!elem, xmlhttp.readyState, xmlhttp.status, entrance___OBJ__);\\n                    if (elem && xmlhttp.readyState==4) {\\n                        if (xmlhttp.status==200)\\n                        {\\n                            errors___OBJ__ = 0;\\n                            if (!entrance___OBJ__) {\\n                                elem.innerText = xmlhttp.responseText;\\n                                entrance___OBJ__ += 1;\\n                                console.log(\"req\");\\n                                window.setTimeout(\"refresh__OBJ__()\", 300); \\n                            }\\n                            return xmlhttp.responseText;\\n                        } else {\\n                            errors___OBJ__ += 1;\\n                            if (errors___OBJ__ < 10 && !entrance___OBJ__) {\\n                                entrance___OBJ__ += 1;\\n                                console.log(\"req\");\\n                                window.setTimeout(\"refresh__OBJ__()\", 300); \\n                            }\\n                        }\\n                    }\\n                }\\n                xmlhttp.open(\"GET\", \"__FILE__\", true);\\n                xmlhttp.setRequestHeader(\"Cache-Control\", \"no-cache\");\\n                xmlhttp.send();     \\n            }\\n        }\\n        \\n        if (!entrance___OBJ__) {\\n            entrance___OBJ__ += 1;\\n            refresh__OBJ__(); \\n        }\\n        </script>\\n        \\n        <font color=\"white\"> <tt>\\n        <p id=\"__OBJ__\" style=\"font-size: 16px; border:3px #333333 solid; background: #333333; border-radius: 10px; padding: 10px;  \"></p>\\n        </tt> </font>\\n        <!--MD_END_FILTER-->\\n        <!--MD_FROM_FILE __FILE__ -->\\n        \\'\\'\\'.replace(\"__OBJ__\", obj).replace(\"__FILE__\", file)\\n    if return_html_string:\\n        return html_string\\n    display(HTML(html_string))\\n    \\nBASH_POPEN_TMP_DIR = \"./bash_popen_tmp\"\\n    \\ndef bash_popen_terminate_all():\\n    for p in globals().get(\"bash_popen_list\", []):\\n        print(\"Terminate pid=\" + str(p.pid), file=sys.stderr)\\n        p.terminate()\\n    globals()[\"bash_popen_list\"] = []\\n    if os.path.exists(BASH_POPEN_TMP_DIR):\\n        shutil.rmtree(BASH_POPEN_TMP_DIR)\\n\\nbash_popen_terminate_all()  \\n\\ndef bash_popen(cmd):\\n    if not os.path.exists(BASH_POPEN_TMP_DIR):\\n        os.mkdir(BASH_POPEN_TMP_DIR)\\n    h = os.path.join(BASH_POPEN_TMP_DIR, str(random.randint(0, 1e18)))\\n    stdout_file = h + \".out.html\"\\n    stderr_file = h + \".err.html\"\\n    run_log_file = h + \".fin.html\"\\n    \\n    stdout = open(stdout_file, \"wb\")\\n    stdout = open(stderr_file, \"wb\")\\n    \\n    html = \"\"\"\\n    <table width=\"100%\">\\n    <colgroup>\\n       <col span=\"1\" style=\"width: 70px;\">\\n       <col span=\"1\">\\n    </colgroup>    \\n    <tbody>\\n      <tr> <td><b>STDOUT</b></td> <td> {stdout} </td> </tr>\\n      <tr> <td><b>STDERR</b></td> <td> {stderr} </td> </tr>\\n      <tr> <td><b>RUN LOG</b></td> <td> {run_log} </td> </tr>\\n    </tbody>\\n    </table>\\n    \"\"\".format(\\n        stdout=show_file(stdout_file, return_html_string=True),\\n        stderr=show_file(stderr_file, return_html_string=True),\\n        run_log=show_file(run_log_file, return_html_string=True),\\n    )\\n    \\n    cmd = \"\"\"\\n        bash -c {cmd} &\\n        pid=$!\\n        echo \"Process started! pid=${{pid}}\" > {run_log_file}\\n        wait ${{pid}}\\n        echo \"Process finished! exit_code=$?\" >> {run_log_file}\\n    \"\"\".format(cmd=shlex.quote(cmd), run_log_file=run_log_file)\\n    # print(cmd)\\n    display(HTML(html))\\n    \\n    p = Popen([\"bash\", \"-c\", cmd], stdin=PIPE, stdout=stdout, stderr=stdout)\\n    \\n    bash_popen_list.append(p)\\n    return p\\n\\n\\n@register_line_magic\\ndef bash_async(line):\\n    bash_popen(line)\\n    \\n    \\ndef show_log_file(file, return_html_string=False):\\n    obj = file.replace(\\'.\\', \\'_\\').replace(\\'/\\', \\'_\\') + \"_obj\"\\n    html_string = \\'\\'\\'\\n        <!--MD_BEGIN_FILTER-->\\n        <script type=text/javascript>\\n        var entrance___OBJ__ = 0;\\n        var errors___OBJ__ = 0;\\n        function halt__OBJ__(elem, color)\\n        {\\n            elem.setAttribute(\"style\", \"font-size: 14px; background: \" + color + \"; padding: 10px; border: 3px; border-radius: 5px; color: white; \");                    \\n        }\\n        function refresh__OBJ__()\\n        {\\n            entrance___OBJ__ -= 1;\\n            if (entrance___OBJ__ < 0) {\\n                entrance___OBJ__ = 0;\\n            }\\n            var elem = document.getElementById(\"__OBJ__\");\\n            if (elem) {\\n                var xmlhttp=new XMLHttpRequest();\\n                xmlhttp.onreadystatechange=function()\\n                {\\n                    var elem = document.getElementById(\"__OBJ__\");\\n                    console.log(!!elem, xmlhttp.readyState, xmlhttp.status, entrance___OBJ__);\\n                    if (elem && xmlhttp.readyState==4) {\\n                        if (xmlhttp.status==200)\\n                        {\\n                            errors___OBJ__ = 0;\\n                            if (!entrance___OBJ__) {\\n                                if (elem.innerHTML != xmlhttp.responseText) {\\n                                    elem.innerHTML = xmlhttp.responseText;\\n                                }\\n                                if (elem.innerHTML.includes(\"Process finished.\")) {\\n                                    halt__OBJ__(elem, \"#333333\");\\n                                } else {\\n                                    entrance___OBJ__ += 1;\\n                                    console.log(\"req\");\\n                                    window.setTimeout(\"refresh__OBJ__()\", 300); \\n                                }\\n                            }\\n                            return xmlhttp.responseText;\\n                        } else {\\n                            errors___OBJ__ += 1;\\n                            if (!entrance___OBJ__) {\\n                                if (errors___OBJ__ < 6) {\\n                                    entrance___OBJ__ += 1;\\n                                    console.log(\"req\");\\n                                    window.setTimeout(\"refresh__OBJ__()\", 300); \\n                                } else {\\n                                    halt__OBJ__(elem, \"#994444\");\\n                                }\\n                            }\\n                        }\\n                    }\\n                }\\n                xmlhttp.open(\"GET\", \"__FILE__\", true);\\n                xmlhttp.setRequestHeader(\"Cache-Control\", \"no-cache\");\\n                xmlhttp.send();     \\n            }\\n        }\\n        \\n        if (!entrance___OBJ__) {\\n            entrance___OBJ__ += 1;\\n            refresh__OBJ__(); \\n        }\\n        </script>\\n\\n        <p id=\"__OBJ__\" style=\"font-size: 14px; background: #000000; padding: 10px; border: 3px; border-radius: 5px; color: white; \">\\n        </p>\\n        \\n        </font>\\n        <!--MD_END_FILTER-->\\n        <!--MD_FROM_FILE __FILE__.md -->\\n        \\'\\'\\'.replace(\"__OBJ__\", obj).replace(\"__FILE__\", file)\\n    if return_html_string:\\n        return html_string\\n    display(HTML(html_string))\\n\\n    \\nclass TInteractiveLauncher:\\n    tmp_path = \"./interactive_launcher_tmp\"\\n    def __init__(self, cmd):\\n        try:\\n            os.mkdir(TInteractiveLauncher.tmp_path)\\n        except:\\n            pass\\n        name = str(random.randint(0, 1e18))\\n        self.inq_path = os.path.join(TInteractiveLauncher.tmp_path, name + \".inq\")\\n        self.log_path = os.path.join(TInteractiveLauncher.tmp_path, name + \".log\")\\n        \\n        os.mkfifo(self.inq_path)\\n        open(self.log_path, \\'w\\').close()\\n        open(self.log_path + \".md\", \\'w\\').close()\\n\\n        self.pid = os.fork()\\n        if self.pid == -1:\\n            print(\"Error\")\\n        if self.pid == 0:\\n            exe_cands = glob.glob(\"../tools/launcher.py\") + glob.glob(\"../../tools/launcher.py\")\\n            assert(len(exe_cands) == 1)\\n            assert(os.execvp(\"python3\", [\"python3\", exe_cands[0], \"-l\", self.log_path, \"-i\", self.inq_path, \"-c\", cmd]) == 0)\\n        self.inq_f = open(self.inq_path, \"w\")\\n        interactive_launcher_opened_set.add(self.pid)\\n        show_log_file(self.log_path)\\n\\n    def write(self, s):\\n        s = s.encode()\\n        assert len(s) == os.write(self.inq_f.fileno(), s)\\n        \\n    def get_pid(self):\\n        n = 100\\n        for i in range(n):\\n            try:\\n                return int(re.findall(r\"PID = (\\\\d+)\", open(self.log_path).readline())[0])\\n            except:\\n                if i + 1 == n:\\n                    raise\\n                time.sleep(0.1)\\n        \\n    def input_queue_path(self):\\n        return self.inq_path\\n        \\n    def close(self):\\n        self.inq_f.close()\\n        os.waitpid(self.pid, 0)\\n        os.remove(self.inq_path)\\n        # os.remove(self.log_path)\\n        self.inq_path = None\\n        self.log_path = None \\n        interactive_launcher_opened_set.remove(self.pid)\\n        self.pid = None\\n        \\n    @staticmethod\\n    def terminate_all():\\n        if \"interactive_launcher_opened_set\" not in globals():\\n            globals()[\"interactive_launcher_opened_set\"] = set()\\n        global interactive_launcher_opened_set\\n        for pid in interactive_launcher_opened_set:\\n            print(\"Terminate pid=\" + str(pid), file=sys.stderr)\\n            os.kill(pid, signal.SIGKILL)\\n            os.waitpid(pid, 0)\\n        interactive_launcher_opened_set = set()\\n        if os.path.exists(TInteractiveLauncher.tmp_path):\\n            shutil.rmtree(TInteractiveLauncher.tmp_path)\\n    \\nTInteractiveLauncher.terminate_all()\\n   \\nyandex_metrica_allowed = bool(globals().get(\"yandex_metrica_allowed\", False))\\nif yandex_metrica_allowed:\\n    display(HTML(\\'\\'\\'<!-- YANDEX_METRICA_BEGIN -->\\n    <script type=\"text/javascript\" >\\n       (function(m,e,t,r,i,k,a){m[i]=m[i]||function(){(m[i].a=m[i].a||[]).push(arguments)};\\n       m[i].l=1*new Date();k=e.createElement(t),a=e.getElementsByTagName(t)[0],k.async=1,k.src=r,a.parentNode.insertBefore(k,a)})\\n       (window, document, \"script\", \"https://mc.yandex.ru/metrika/tag.js\", \"ym\");\\n\\n       ym(59260609, \"init\", {\\n            clickmap:true,\\n            trackLinks:true,\\n            accurateTrackBounce:true\\n       });\\n    </script>\\n    <noscript><div><img src=\"https://mc.yandex.ru/watch/59260609\" style=\"position:absolute; left:-9999px;\" alt=\"\" /></div></noscript>\\n    <!-- YANDEX_METRICA_END -->\\'\\'\\'))\\n\\ndef make_oneliner():\\n    html_text = \\'(\"В этот ноутбук встроен код Яндекс Метрики для сбора статистики использований. Если вы не хотите, чтобы по вам собиралась статистика, исправьте: yandex_metrica_allowed = False\" if yandex_metrica_allowed else \"\")\\'\\n    html_text += \\' + \"<\"\"!-- MAGICS_SETUP_PRINTING_END -->\"\\'\\n    return \\'\\'.join([\\n        \\'# look at tools/set_up_magics.ipynb\\\\n\\',\\n        \\'yandex_metrica_allowed = True ; get_ipython().run_cell(%s);\\' % repr(one_liner_str),\\n        \\'display(HTML(%s))\\' % html_text,\\n        \\' #\\'\\'MAGICS_SETUP_END\\'\\n    ])\\n       \\n\\n');display(HTML((\"В этот ноутбук встроен код Яндекс Метрики для сбора статистики использований. Если вы не хотите, чтобы по вам собиралась статистика, исправьте: yandex_metrica_allowed = False\" if yandex_metrica_allowed else \"\") + \"<\"\"!-- MAGICS_SETUP_PRINTING_END -->\")) #MAGICS_SETUP_END"
   ]
  },
  {
   "cell_type": "markdown",
   "metadata": {},
   "source": [
    "# Особенности Си\n",
    "\n",
    "Сегодня в программе:\n",
    "* <a href=\"#primitives\" style=\"color:#856024\"> Примитивные типы и их вывод </a>\n",
    "* <a href=\"#structures\" style=\"color:#856024\"> Структуры </a>\n",
    "* <a href=\"#arrays\" style=\"color:#856024\"> Массивы </a>\n",
    "* <a href=\"#dyn_arrays\" style=\"color:#856024\"> Динамические массивы </a>\n",
    "\n",
    "[Пиши на C как джентльмен / Хабр](https://habr.com/ru/post/325678/)\n",
    "\n",
    "[Здесь](/sem02-instruments-compilation) в конце (дополнение про макросы) есть больше примеров про макросы, если интересно"
   ]
  },
  {
   "cell_type": "markdown",
   "metadata": {},
   "source": [
    "## <a name=\"primitives\"></a> Примитивные типы и их вывод"
   ]
  },
  {
   "cell_type": "code",
   "execution_count": 1,
   "metadata": {},
   "outputs": [
    {
     "name": "stderr",
     "output_type": "stream",
     "text": [
      "UsageError: Cell magic `%%cpp` not found.\n"
     ]
    }
   ],
   "source": [
    "%%cpp main.c\n",
    "%run gcc -std=c99 -Wall -Werror main.c -o a.exe\n",
    "%run ./a.exe\n",
    "\n",
    "#include <stdio.h>\n",
    "\n",
    "int main() {\n",
    "    int i = 5;\n",
    "    float f = 5.5555555555555555555555555;\n",
    "    double d = 5.5555555555555555555555555;\n",
    "    char c = 'X';\n",
    "    char* str = \"Hello world!\";\n",
    "    printf(\"i = %d\\n\", i);\n",
    "    printf(\"f = %f, f = %0.20f\\n\", f, f); // обратите внимание на точность\n",
    "    printf(\"d = %lf, d = %0.20lf\\n\", d, d);\n",
    "    printf(\"c = %c, int(c) = %d\\n\", c, (int)c); // приведение типов\n",
    "    printf(\"s = %s\\n\", str); // zero-terminated string\n",
    "    printf(\"s = %.*s\\n\", 4, str); // string by begin and length\n",
    "    printf(\"*str = %c, *(str + 1) = %c, str[1] = %c\\n\", *str, *(str + 1), str[1]);\n",
    "    return 0;\n",
    "}"
   ]
  },
  {
   "cell_type": "code",
   "execution_count": 139,
   "metadata": {},
   "outputs": [
    {
     "data": {
      "text/markdown": [
       "Run: `gcc  -std=c99 -Wall -Werror main.c -o a.exe`"
      ],
      "text/plain": [
       "<IPython.core.display.Markdown object>"
      ]
     },
     "metadata": {},
     "output_type": "display_data"
    },
    {
     "data": {
      "text/markdown": [
       "Run: `./a.exe`"
      ],
      "text/plain": [
       "<IPython.core.display.Markdown object>"
      ]
     },
     "metadata": {},
     "output_type": "display_data"
    },
    {
     "name": "stdout",
     "output_type": "stream",
     "text": [
      "i = 5, sizeof(i) = 4\r\n",
      "i_32 = 6, sizeof(i_32) = 4\r\n",
      "i_64 = 7, sizeof(i_64) = 8\r\n"
     ]
    }
   ],
   "source": [
    "%%cpp main.c\n",
    "%run gcc  -std=c99 -Wall -Werror main.c -o a.exe\n",
    "%run ./a.exe\n",
    "\n",
    "#include <stdio.h>\n",
    "#include <inttypes.h>\n",
    "\n",
    "\n",
    "typedef int64_t i64;\n",
    "\n",
    "int main() {\n",
    "    int i = 5;\n",
    "    int32_t i_32 = 6; // -2^31 до (2^31) - 1\n",
    "    i64 i_64 = 7; // -2^63 до (2^63) - 1\n",
    "    // uint64_t, int8_t, ...\n",
    "    \n",
    "    printf(\"i = %\" \"d\" \", sizeof(i) = %d\\n\", i, (int)sizeof(i));\n",
    "    //               [1]                                 [2]                        \n",
    "    printf(\"i_32 = %\" PRId32 \", sizeof(i_32) = %d\\n\", i_32, (int)sizeof(i_32));\n",
    "    printf(\"i_64 = %\" PRId64 \", sizeof(i_64) = %d\\n\", i_64, (int)sizeof(i_64));\n",
    "    // [1] - правильный спецификатор\n",
    "    // [2] - каст к типу спецификатора\n",
    "    return 0;\n",
    "}"
   ]
  },
  {
   "cell_type": "markdown",
   "metadata": {},
   "source": [
    "## <a name=\"structures\"></a> Структуры"
   ]
  },
  {
   "cell_type": "code",
   "execution_count": 140,
   "metadata": {},
   "outputs": [
    {
     "data": {
      "text/markdown": [
       "Run: `gcc -m64 -std=c99 -Wall -Werror main.c -o a.exe`"
      ],
      "text/plain": [
       "<IPython.core.display.Markdown object>"
      ]
     },
     "metadata": {},
     "output_type": "display_data"
    },
    {
     "data": {
      "text/markdown": [
       "Run: `./a.exe`"
      ],
      "text/plain": [
       "<IPython.core.display.Markdown object>"
      ]
     },
     "metadata": {},
     "output_type": "display_data"
    },
    {
     "name": "stdout",
     "output_type": "stream",
     "text": [
      "{.x = 1.000000, .y = 100.000000}\r\n",
      "{.x = 4.000000, .y = 150.000000}\r\n",
      "{.x = -2.000000, .y = 50.000000}\r\n",
      "{.x = 10.000000, .y = 1000.000000}\r\n"
     ]
    }
   ],
   "source": [
    "%%cpp main.c\n",
    "%run gcc -m64 -std=c99 -Wall -Werror main.c -o a.exe\n",
    "%run ./a.exe\n",
    "\n",
    "#include <stdio.h>\n",
    "\n",
    "struct point {\n",
    "    double x, y;\n",
    "};\n",
    "\n",
    "\n",
    "struct point point_sum(struct point a, struct point b) {\n",
    "    struct point c;\n",
    "    c.x = a.x + b.x;\n",
    "    c.y = a.y + b.y;\n",
    "    return c;\n",
    "} \n",
    "\n",
    "\n",
    "typedef struct point point_t;\n",
    "\n",
    "point_t point_sub(point_t a, point_t b) {\n",
    "    a.x -= b.x;\n",
    "    a.y -= b.y;\n",
    "    return a;\n",
    "} \n",
    "\n",
    "point_t point_mul(point_t a, double k) {\n",
    "    return (point_t){.x = a.x * k, .y = a.y * k};\n",
    "}\n",
    "\n",
    "void point_print(point_t a) {\n",
    "    printf(\"{.x = %lf, .y = %lf}\", a.x, a.y);\n",
    "}\n",
    "\n",
    "int main() {\n",
    "    point_t a = {1, 100}, b = {3, 50};\n",
    "    point_print(a); printf(\"\\n\");\n",
    "    \n",
    "    point_print(point_sum(a, b)); printf(\"\\n\");\n",
    "    point_print(point_sub(a, b)); printf(\"\\n\");\n",
    "    point_print(point_mul(a, 10)); printf(\"\\n\");\n",
    "    \n",
    "    return 0;\n",
    "}"
   ]
  },
  {
   "cell_type": "markdown",
   "metadata": {},
   "source": [
    "## <a name=\"arrays\"></a> Массивы"
   ]
  },
  {
   "cell_type": "code",
   "execution_count": 141,
   "metadata": {
    "scrolled": true
   },
   "outputs": [
    {
     "data": {
      "text/markdown": [
       "Run: `gcc -m64 -std=c99 -Wall -Werror main.c -o a.exe`"
      ],
      "text/plain": [
       "<IPython.core.display.Markdown object>"
      ]
     },
     "metadata": {},
     "output_type": "display_data"
    },
    {
     "data": {
      "text/markdown": [
       "Run: `./a.exe`"
      ],
      "text/plain": [
       "<IPython.core.display.Markdown object>"
      ]
     },
     "metadata": {},
     "output_type": "display_data"
    },
    {
     "name": "stdout",
     "output_type": "stream",
     "text": [
      "Hello wotrld!\r\n",
      "1\r\n",
      "Hello world! 2\r\n",
      "8 2 100\r\n",
      "sizeof(a) = 20\r\n",
      "a[0] = 1, a[1] = 5, a[2] = 3, a[3] = 2, a[4] = 5, \r\n",
      "a[0] = 1, a[1] = 5, a[2] = 3, a[3] = 2, a[4] = 5, \r\n"
     ]
    }
   ],
   "source": [
    "%%cpp main.c\n",
    "%run gcc -m64 -std=c99 -Wall -Werror main.c -o a.exe\n",
    "%run ./a.exe\n",
    "\n",
    "#include <stdio.h>\n",
    "\n",
    "#define CONST 2\n",
    "#define SIZE(a) (sizeof(a) / sizeof((a)[0]))\n",
    "\n",
    "int main() {\n",
    "    char* s = \"Hello wotrld!\";\n",
    "    printf(\"%s\\n\", s);\n",
    "    char s1[] = \"1\";\n",
    "    printf(\"%s\\n\", s1);\n",
    "    char s2[100] = \"Hello world! 2\";\n",
    "    printf(\"%s\\n\", s2);\n",
    "    printf(\"%d %d %d\\n\", (int)sizeof(s), (int)sizeof(s1), (int)sizeof(s2));\n",
    "        \n",
    "    int a[] = {1, 5, 3, 2, 5};\n",
    "    printf(\"sizeof(a) = %d\\n\", (int)sizeof(a));\n",
    "    for (int i = 0; i < sizeof(a) / sizeof(int); ++i) {\n",
    "        printf(\"a[%d] = %d, \", i, a[i]);\n",
    "    }\n",
    "    printf(\"\\n\");\n",
    "    for (int i = 0; i < SIZE(a); ++i) {\n",
    "        printf(\"a[%d] = %d, \", i, a[i]);\n",
    "    }\n",
    "    printf(\"\\n\");\n",
    "        \n",
    "    return 0;\n",
    "}"
   ]
  },
  {
   "cell_type": "markdown",
   "metadata": {},
   "source": [
    "## <a name=\"dyn_arrays\"></a> Динамические массивы"
   ]
  },
  {
   "cell_type": "code",
   "execution_count": 142,
   "metadata": {},
   "outputs": [],
   "source": [
    "with open(\"001.in\", \"w\") as f:\n",
    "    f.write('''\\\n",
    "4\n",
    "5 1 9 0\n",
    "    ''')"
   ]
  },
  {
   "cell_type": "code",
   "execution_count": 143,
   "metadata": {},
   "outputs": [
    {
     "name": "stdout",
     "output_type": "stream",
     "text": [
      "QSORT(3)                   Linux Programmer's Manual                  QSORT(3)\r\n",
      "\r\n",
      "NAME\r\n",
      "       qsort, qsort_r - sort an array\r\n",
      "\r\n",
      "SYNOPSIS\r\n",
      "       #include <stdlib.h>\r\n",
      "\r\n",
      "       void qsort(void *base, size_t nmemb, size_t size,\r\n",
      "                  int (*compar)(const void *, const void *));\r\n"
     ]
    }
   ],
   "source": [
    "!man qsort | head -n 10"
   ]
  },
  {
   "cell_type": "code",
   "execution_count": 144,
   "metadata": {},
   "outputs": [
    {
     "data": {
      "text/markdown": [
       "Run: `gcc -m64 -std=c99 -Wall -Werror main.c -o a.exe`"
      ],
      "text/plain": [
       "<IPython.core.display.Markdown object>"
      ]
     },
     "metadata": {},
     "output_type": "display_data"
    },
    {
     "data": {
      "text/markdown": [
       "Run: `./a.exe < 001.in`"
      ],
      "text/plain": [
       "<IPython.core.display.Markdown object>"
      ]
     },
     "metadata": {},
     "output_type": "display_data"
    },
    {
     "name": "stdout",
     "output_type": "stream",
     "text": [
      "a[0] = 0, a[1] = 1, a[2] = 5, a[3] = 9, \r\n"
     ]
    }
   ],
   "source": [
    "%%cpp main.c\n",
    "%run gcc -m64 -std=c99 -Wall -Werror main.c -o a.exe\n",
    "%run ./a.exe < 001.in\n",
    "\n",
    "#include <stdio.h>\n",
    "#include <stdlib.h>\n",
    "#include <string.h>\n",
    "#include <stdlib.h>\n",
    "\n",
    "//        void qsort(void *base, size_t nmemb, size_t size,\n",
    "//                   int (*compar)(const void *, const void *));\n",
    "\n",
    "int int_compare(const int* x, const int* y) {\n",
    "    return *x - *y;\n",
    "}\n",
    "\n",
    "int main() {\n",
    "    int n = 0;\n",
    "    scanf(\"%d\", &n);\n",
    "    int* a = calloc(n, sizeof(int));\n",
    "    for (int i = 0; i < n; ++i) {\n",
    "        scanf(\"%d\", &a[i]);\n",
    "    }\n",
    "    qsort(a, n, sizeof(int), (int(*)(const void *, const void *))int_compare);\n",
    "    for (int i = 0; i < n; ++i) {\n",
    "        printf(\"a[%d] = %d, \", i, a[i]);\n",
    "    }\n",
    "    printf(\"\\n\");\n",
    "    free(a);\n",
    "    return 0;\n",
    "}"
   ]
  },
  {
   "cell_type": "code",
   "execution_count": 145,
   "metadata": {},
   "outputs": [
    {
     "data": {
      "text/markdown": [
       "Run: `gcc -DDEBUG -m64 -std=c99 -Wall -Werror main.c -o a.exe`"
      ],
      "text/plain": [
       "<IPython.core.display.Markdown object>"
      ]
     },
     "metadata": {},
     "output_type": "display_data"
    },
    {
     "data": {
      "text/markdown": [
       "Run: `./a.exe`"
      ],
      "text/plain": [
       "<IPython.core.display.Markdown object>"
      ]
     },
     "metadata": {},
     "output_type": "display_data"
    },
    {
     "name": "stdout",
     "output_type": "stream",
     "text": [
      "a[0] = 0, a[1] = 1, a[2] = 5, a[3] = 9, \r\n"
     ]
    }
   ],
   "source": [
    "%%cpp main.c\n",
    "%run gcc -DDEBUG -m64 -std=c99 -Wall -Werror main.c -o a.exe\n",
    "%run ./a.exe\n",
    "\n",
    "#include <stdio.h>\n",
    "#include <stdlib.h>\n",
    "#include <string.h>\n",
    "#include <stdlib.h>\n",
    "\n",
    "#define SWAP(a, b) { __typeof__(a) c = (a); (a) = (b); (b) = (c); }\n",
    "\n",
    "\n",
    "void my_sort(int* a, int length) {\n",
    "    // my_sort_2(a, a + length);\n",
    "    for (int i = 0; i < length - 1; ++i) {\n",
    "        for (int j = i + 1; j < length; ++j) {\n",
    "            if (a[i] > a[j]) {\n",
    "                SWAP(a[i], a[j]);\n",
    "            }\n",
    "        }\n",
    "    }\n",
    "}\n",
    "\n",
    "void my_sort_2(int* begin, int* end) {\n",
    "    // my_sort(begin, end - begin);\n",
    "    for (int* i = begin; i != end; ++i) {\n",
    "        for (int* j = i + 1; j != end; j++) {\n",
    "            if (*i > *j) {\n",
    "                SWAP(*i, *j);\n",
    "            }\n",
    "        }\n",
    "    }\n",
    "}\n",
    "\n",
    "int main() {\n",
    "    #if defined(DEBUG)\n",
    "    freopen(\"001.in\", \"rt\", stdin);\n",
    "    #endif\n",
    "    int n = 0;\n",
    "    scanf(\"%d\", &n);\n",
    "    int* a = calloc(n, sizeof(int));\n",
    "    for (int i = 0; i < n; ++i) {\n",
    "        scanf(\"%d\", &a[i]);\n",
    "    }\n",
    "    my_sort_2(a, a + n);\n",
    "    for (int i = 0; i < n; ++i) {\n",
    "        printf(\"a[%d] = %d, \", i, a[i]);\n",
    "    }\n",
    "    printf(\"\\n\");\n",
    "    free(a);\n",
    "    return 0;\n",
    "}"
   ]
  },
  {
   "cell_type": "code",
   "execution_count": null,
   "metadata": {},
   "outputs": [],
   "source": []
  },
  {
   "cell_type": "markdown",
   "metadata": {},
   "source": [
    "# Строки"
   ]
  },
  {
   "cell_type": "code",
   "execution_count": 10,
   "metadata": {},
   "outputs": [],
   "source": [
    "with open(\"001.in\", \"w\") as f:\n",
    "    f.write('''\\\n",
    "push 3\n",
    "pop\n",
    "exit\n",
    "hello 6\n",
    "    ''')"
   ]
  },
  {
   "cell_type": "code",
   "execution_count": 14,
   "metadata": {},
   "outputs": [
    {
     "data": {
      "text/markdown": [
       "Run: `gcc -std=c99 -Wall -Werror -fsanitize=address main.c -o a.exe`"
      ],
      "text/plain": [
       "<IPython.core.display.Markdown object>"
      ]
     },
     "metadata": {},
     "output_type": "display_data"
    },
    {
     "data": {
      "text/markdown": [
       "Run: `./a.exe < 001.in`"
      ],
      "text/plain": [
       "<IPython.core.display.Markdown object>"
      ]
     },
     "metadata": {},
     "output_type": "display_data"
    },
    {
     "name": "stdout",
     "output_type": "stream",
     "text": [
      "READ STRING: push\r\n",
      "   IT IS PUSH 3\r\n",
      "READ STRING: pop\r\n",
      "READ STRING: exit\r\n",
      "READ STRING: hello\r\n",
      "   IT IS HELLO 6\r\n"
     ]
    }
   ],
   "source": [
    "%%cpp main.c\n",
    "%run gcc -std=c99 -Wall -Werror -fsanitize=address main.c -o a.exe\n",
    "%run ./a.exe < 001.in\n",
    "\n",
    "#include <stdio.h>\n",
    "#include <string.h>\n",
    "\n",
    "int main() {\n",
    "    char str[100];\n",
    "    while (1) {\n",
    "        int ret = scanf(\"%s\", str);\n",
    "        if (ret <= 0) {\n",
    "            break;\n",
    "        }\n",
    "        \n",
    "        printf(\"READ STRING: %s\\n\", str);\n",
    "        if (strcmp(str, \"push\") == 0) {\n",
    "            int value;\n",
    "            scanf(\"%d\", &value);\n",
    "            printf(\"   IT IS PUSH %d\\n\", value);\n",
    "        } else if (strcmp(str, \"hello\") == 0) {\n",
    "            int value;\n",
    "            scanf(\"%d\", &value);\n",
    "            printf(\"   IT IS HELLO %d\\n\", value);\n",
    "        }    \n",
    "    }\n",
    "    return 0;\n",
    "}"
   ]
  },
  {
   "cell_type": "code",
   "execution_count": 44,
   "metadata": {},
   "outputs": [
    {
     "data": {
      "text/markdown": [
       "Run: `gcc -std=c99 -Wall -Werror -fsanitize=address main.c -o a.exe`"
      ],
      "text/plain": [
       "<IPython.core.display.Markdown object>"
      ]
     },
     "metadata": {},
     "output_type": "display_data"
    },
    {
     "data": {
      "text/markdown": [
       "Run: `./a.exe < 001.in`"
      ],
      "text/plain": [
       "<IPython.core.display.Markdown object>"
      ]
     },
     "metadata": {},
     "output_type": "display_data"
    },
    {
     "name": "stdout",
     "output_type": "stream",
     "text": [
      "READ LINE: 'push 3\n",
      "'\n",
      "   IT IS PUSH 3\n",
      "READ LINE: 'pop\n",
      "'\n",
      "  GET ONLY STRING\n",
      "READ LINE: 'exit\n",
      "'\n",
      "  GET ONLY STRING\n",
      "READ LINE: 'hello 6\n",
      "'\n",
      "   IT IS HELLO 6\n",
      "READ LINE: '    '\n",
      "  ERROR\n",
      "a.exe: main.c:34: main: Assertion `ret == 2' failed.\n",
      "Aborted (core dumped)\n"
     ]
    }
   ],
   "source": [
    "%%cpp main.c\n",
    "%run gcc -std=c99 -Wall -Werror -fsanitize=address main.c -o a.exe\n",
    "%run ./a.exe < 001.in\n",
    "\n",
    "#include <stdio.h>\n",
    "#include <string.h>\n",
    "#include <assert.h>\n",
    "#include <stdbool.h> // true, false\n",
    "\n",
    "int main() {\n",
    "    char buff[100];\n",
    " \n",
    "    while (true) {\n",
    "        char* line = fgets(buff, sizeof(buff), stdin);\n",
    "        if (!line) {\n",
    "            break;\n",
    "        }\n",
    "        \n",
    "        printf(\"READ LINE: '%s'\\n\", line);\n",
    "        \n",
    "        char str[100];\n",
    "        int value = 0;\n",
    "        int ret = sscanf(line, \"%s %d\", str, &value);\n",
    "        if (ret <= 0) {\n",
    "            printf(\"  ERROR\\n\");\n",
    "        } else if (ret == 1) {\n",
    "            printf(\"  GET ONLY STRING\\n\");\n",
    "        }\n",
    "           \n",
    "        if (strcmp(str, \"push\") == 0) {\n",
    "            assert(ret == 2);\n",
    "            printf(\"   IT IS PUSH %d\\n\", value);\n",
    "        } else if (strcmp(str, \"hello\") == 0) {\n",
    "            assert(ret == 2);\n",
    "            printf(\"   IT IS HELLO %d\\n\", value);\n",
    "        }    \n",
    "    }\n",
    "    return 0;\n",
    "}"
   ]
  },
  {
   "cell_type": "code",
   "execution_count": null,
   "metadata": {},
   "outputs": [],
   "source": []
  },
  {
   "cell_type": "code",
   "execution_count": 42,
   "metadata": {},
   "outputs": [
    {
     "data": {
      "text/markdown": [
       "Run: `clang -std=c99 -Wall -Werror -fsanitize=address main.c -o a.exe`"
      ],
      "text/plain": [
       "<IPython.core.display.Markdown object>"
      ]
     },
     "metadata": {},
     "output_type": "display_data"
    },
    {
     "data": {
      "text/markdown": [
       "Run: `./a.exe < 001.in`"
      ],
      "text/plain": [
       "<IPython.core.display.Markdown object>"
      ]
     },
     "metadata": {},
     "output_type": "display_data"
    },
    {
     "name": "stdout",
     "output_type": "stream",
     "text": [
      "0x4d6c60\r\n",
      "Hello students!\r\n",
      "a[1] = 'e'\r\n",
      "c1 = a + b = Hellostudents!\r\n",
      "c2 = a + ' ' + b = Hello students!\r\n"
     ]
    }
   ],
   "source": [
    "%%cpp main.c\n",
    "%run clang -std=c99 -Wall -Werror -fsanitize=address main.c -o a.exe\n",
    "%run ./a.exe < 001.in\n",
    "\n",
    "#include <stdio.h>\n",
    "#include <string.h>\n",
    "#include <assert.h>\n",
    "\n",
    "int main() {\n",
    "    char* a = \"Hello\";\n",
    "    char* b = \"students!\";\n",
    "    printf(\"%p\\n\", a);\n",
    "    printf(\"%s %s\\n\", a, b);\n",
    "    printf(\"a[1] = '%c'\\n\", a[1]);\n",
    "    \n",
    "    char c1[1000];\n",
    "    int i = 0;\n",
    "    for (int j = 0; a[j]; ++j) \n",
    "        c1[i++] = a[j];\n",
    "    for (int j = 0; b[j]; ++j) \n",
    "        c1[i++] = b[j];\n",
    "    c1[i] = '\\0';\n",
    "    printf(\"c1 = a + b = %s\\n\", c1);\n",
    "    \n",
    "    char c2[1000];\n",
    "    snprintf(c2, sizeof(c2), \"%s %s\", a, b);\n",
    "    printf(\"c2 = a + ' ' + b = %s\\n\", c2);\n",
    "    \n",
    "    return 0;\n",
    "}"
   ]
  },
  {
   "cell_type": "code",
   "execution_count": 51,
   "metadata": {},
   "outputs": [
    {
     "data": {
      "text/markdown": [
       "Run: `clang -std=c99 -Wall -Werror -fsanitize=address main.c -o a.exe`"
      ],
      "text/plain": [
       "<IPython.core.display.Markdown object>"
      ]
     },
     "metadata": {},
     "output_type": "display_data"
    },
    {
     "data": {
      "text/markdown": [
       "Run: `./a.exe`"
      ],
      "text/plain": [
       "<IPython.core.display.Markdown object>"
      ]
     },
     "metadata": {},
     "output_type": "display_data"
    },
    {
     "name": "stdout",
     "output_type": "stream",
     "text": [
      "HELLO\r\n",
      "'A' = 65, 'a' = 97\r\n"
     ]
    }
   ],
   "source": [
    "%%cpp main.c\n",
    "%run clang -std=c99 -Wall -Werror -fsanitize=address main.c -o a.exe\n",
    "%run ./a.exe \n",
    "\n",
    "#include <stdio.h>\n",
    "#include <string.h>\n",
    "#include <assert.h>\n",
    "\n",
    "\n",
    "void to_upper(char* src, char* dst) {\n",
    "    int i = 0;\n",
    "    for (; src[i]; ++i) {\n",
    "        if ('a' <= src[i] && src[i] <= 'z') {\n",
    "            dst[i] = src[i] - 'a' + 'A';\n",
    "        } else {\n",
    "            dst[i] = src[i];\n",
    "        }\n",
    "    }\n",
    "    dst[i] = '\\0';\n",
    "}\n",
    "\n",
    "int main() {\n",
    "    char* a = \"Hello\";\n",
    "      \n",
    "    char buffer[100];\n",
    "    to_upper(a, buffer);\n",
    "    \n",
    "    printf(\"%s\\n\", buffer);\n",
    "    printf(\"'A' = %d, 'a' = %d\\n\", (int)'A', (int)'a');\n",
    "    \n",
    "    return 0;\n",
    "}"
   ]
  },
  {
   "cell_type": "code",
   "execution_count": 47,
   "metadata": {},
   "outputs": [
    {
     "name": "stdout",
     "output_type": "stream",
     "text": [
      "No manual entry for upper_case\r\n"
     ]
    }
   ],
   "source": []
  },
  {
   "cell_type": "code",
   "execution_count": 62,
   "metadata": {},
   "outputs": [],
   "source": [
    "%%cpp test.h\n",
    "\n",
    "void test() {\n",
    "    stack_t stack;\n",
    "    init_stack(&stack);\n",
    "    push(&stack, 1);\n",
    "    push(&stack, 2);\n",
    "    push(&stack, 3);\n",
    "    push(&stack, 4);\n",
    "    \n",
    "    assert(top(&stack) == 4);\n",
    "    pop(&stack);\n",
    "    \n",
    "    assert(top(&stack) == 3);\n",
    "    pop(&stack);\n",
    "    \n",
    "    push(&stack, 5);\n",
    "    \n",
    "    assert(top(&stack) == 5);\n",
    "    pop(&stack);\n",
    "    assert(top(&stack) == 2);\n",
    "    pop(&stack);\n",
    "    assert(top(&stack) == 1);\n",
    "    pop(&stack);\n",
    "    \n",
    "    destroy_stack(&stack);\n",
    "    \n",
    "    printf(\"SUCCESS\\n\");\n",
    "}\n",
    "\n",
    "int main() {\n",
    "    test();\n",
    "    return 0;\n",
    "}"
   ]
  },
  {
   "cell_type": "markdown",
   "metadata": {},
   "source": [
    "## Стек олимпиадника"
   ]
  },
  {
   "cell_type": "code",
   "execution_count": 66,
   "metadata": {},
   "outputs": [
    {
     "data": {
      "text/markdown": [
       "Run: `clang -std=c99 -Wall -Werror -fsanitize=address main.c -o a.exe`"
      ],
      "text/plain": [
       "<IPython.core.display.Markdown object>"
      ]
     },
     "metadata": {},
     "output_type": "display_data"
    },
    {
     "data": {
      "text/markdown": [
       "Run: `./a.exe`"
      ],
      "text/plain": [
       "<IPython.core.display.Markdown object>"
      ]
     },
     "metadata": {},
     "output_type": "display_data"
    },
    {
     "name": "stdout",
     "output_type": "stream",
     "text": [
      "POP 4 (was on position 3)\r\n",
      "POP 3 (was on position 2)\r\n",
      "POP 5 (was on position 2)\r\n",
      "POP 2 (was on position 1)\r\n",
      "POP 1 (was on position 0)\r\n",
      "SUCCESS\r\n"
     ]
    }
   ],
   "source": [
    "%%cpp main.c\n",
    "%run clang -std=c99 -Wall -Werror -fsanitize=address main.c -o a.exe\n",
    "%run ./a.exe \n",
    "\n",
    "#include <stdio.h>\n",
    "#include <string.h>\n",
    "#include <assert.h>\n",
    "\n",
    "typedef struct stack {\n",
    "    int a[100500];\n",
    "    int sz;\n",
    "} stack_t;\n",
    "\n",
    "\n",
    "void init_stack(stack_t* stack) {\n",
    "    stack->sz = 0;\n",
    "}\n",
    "\n",
    "void destroy_stack(stack_t* stack) {}\n",
    "\n",
    "void push(stack_t* stack, int elem) {\n",
    "    stack->a[stack->sz++] = elem;\n",
    "}\n",
    "\n",
    "int top(stack_t* stack) {\n",
    "    return stack->a[stack->sz - 1];\n",
    "}\n",
    "\n",
    "void pop(stack_t* stack) {\n",
    "    --stack->sz;\n",
    "    fprintf(stderr, \"POP %d (was on position %d)\\n\", stack->a[stack->sz], stack->sz);\n",
    "}\n",
    "\n",
    "\n",
    "#include \"test.h\""
   ]
  },
  {
   "cell_type": "markdown",
   "metadata": {},
   "source": [
    "## Стек странного человека"
   ]
  },
  {
   "cell_type": "code",
   "execution_count": 72,
   "metadata": {},
   "outputs": [
    {
     "data": {
      "text/markdown": [
       "Run: `clang -std=c99 -Wall -Werror -fsanitize=address main.c -o a.exe`"
      ],
      "text/plain": [
       "<IPython.core.display.Markdown object>"
      ]
     },
     "metadata": {},
     "output_type": "display_data"
    },
    {
     "data": {
      "text/markdown": [
       "Run: `./a.exe`"
      ],
      "text/plain": [
       "<IPython.core.display.Markdown object>"
      ]
     },
     "metadata": {},
     "output_type": "display_data"
    },
    {
     "name": "stdout",
     "output_type": "stream",
     "text": [
      "POP 4\r\n",
      "POP 3\r\n",
      "POP 5\r\n",
      "POP 2\r\n",
      "POP 1\r\n",
      "SUCCESS\r\n"
     ]
    }
   ],
   "source": [
    "%%cpp main.c\n",
    "%run clang -std=c99 -Wall -Werror -fsanitize=address main.c -o a.exe\n",
    "%run ./a.exe \n",
    "\n",
    "#include <stdio.h>\n",
    "#include <stdlib.h>\n",
    "#include <string.h>\n",
    "#include <assert.h>\n",
    "\n",
    "typedef struct node {\n",
    "    int elem;\n",
    "    struct node* previous;\n",
    "} node_t;\n",
    "\n",
    "\n",
    "\n",
    "typedef struct stack {\n",
    "    node_t* top;\n",
    "} stack_t;\n",
    "\n",
    "\n",
    "void init_stack(stack_t* stack) {\n",
    "    stack->top = NULL;\n",
    "}\n",
    "\n",
    "void pop(stack_t* stack);\n",
    "\n",
    "void destroy_stack(stack_t* stack) {\n",
    "    while (stack->top) {\n",
    "        pop(stack);\n",
    "    }\n",
    "}\n",
    "\n",
    "void push(stack_t* stack, int elem) {\n",
    "    node_t* node = calloc(1, sizeof(node_t));\n",
    "    node->elem = elem;\n",
    "    node->previous = stack->top;\n",
    "    stack->top = node;\n",
    "}\n",
    "\n",
    "int top(stack_t* stack) {\n",
    "    return stack->top->elem;\n",
    "}\n",
    "\n",
    "void pop(stack_t* stack) {\n",
    "    node_t* old_top = stack->top;\n",
    "    stack->top = old_top->previous;\n",
    "    fprintf(stderr, \"POP %d\\n\", old_top->elem);\n",
    "    free(old_top);\n",
    "}\n",
    "\n",
    "\n",
    "#include \"test.h\""
   ]
  },
  {
   "cell_type": "markdown",
   "metadata": {},
   "source": [
    "## Cтек здорового человека"
   ]
  },
  {
   "cell_type": "code",
   "execution_count": 79,
   "metadata": {},
   "outputs": [
    {
     "data": {
      "text/markdown": [
       "Run: `clang -std=c99 -Wall -Werror -fsanitize=address main.c -o a.exe`"
      ],
      "text/plain": [
       "<IPython.core.display.Markdown object>"
      ]
     },
     "metadata": {},
     "output_type": "display_data"
    },
    {
     "data": {
      "text/markdown": [
       "Run: `./a.exe`"
      ],
      "text/plain": [
       "<IPython.core.display.Markdown object>"
      ]
     },
     "metadata": {},
     "output_type": "display_data"
    },
    {
     "name": "stdout",
     "output_type": "stream",
     "text": [
      "POP 4 (was on position 3)\r\n",
      "POP 3 (was on position 2)\r\n",
      "POP 5 (was on position 2)\r\n",
      "POP 2 (was on position 1)\r\n",
      "POP 1 (was on position 0)\r\n",
      "SUCCESS\r\n"
     ]
    }
   ],
   "source": [
    "%%cpp main.c\n",
    "%run clang -std=c99 -Wall -Werror -fsanitize=address main.c -o a.exe\n",
    "%run ./a.exe \n",
    "\n",
    "#include <stdio.h>\n",
    "#include <stdlib.h>\n",
    "#include <string.h>\n",
    "#include <assert.h>\n",
    "\n",
    "typedef struct stack {\n",
    "    int* a;\n",
    "    int sz;\n",
    "    int max_sz;\n",
    "} stack_t;\n",
    "\n",
    "\n",
    "void init_stack(stack_t* stack) {\n",
    "    *stack = (stack_t){0};\n",
    "}\n",
    "\n",
    "void destroy_stack(stack_t* stack) {\n",
    "    free(stack->a);\n",
    "}\n",
    "\n",
    "void push(stack_t* stack, int elem) {\n",
    "    if (stack->sz == stack->max_sz) {\n",
    "        stack->max_sz += (stack->max_sz == 0);\n",
    "        stack->max_sz *= 2;\n",
    "        (*stack).a = realloc(stack->a, stack->max_sz * sizeof(int));\n",
    "    }\n",
    "    stack->a[stack->sz++] = elem;\n",
    "}\n",
    "\n",
    "int top(stack_t* stack) {\n",
    "    return stack->a[stack->sz - 1];\n",
    "}\n",
    "\n",
    "void pop(stack_t* stack) {\n",
    "    --stack->sz;\n",
    "    fprintf(stderr, \"POP %d (was on position %d)\\n\", stack->a[stack->sz], stack->sz);\n",
    "}\n",
    "\n",
    "\n",
    "#include \"test.h\""
   ]
  },
  {
   "cell_type": "markdown",
   "metadata": {},
   "source": [
    "# ASAN\n",
    "\n",
    "aka address-sanitizer\n",
    "\n",
    "Опция компилятора `-fsanitize=address`\n",
    "\n",
    "## 1) Утечки"
   ]
  },
  {
   "cell_type": "code",
   "execution_count": 83,
   "metadata": {},
   "outputs": [
    {
     "data": {
      "text/markdown": [
       "Run: `clang -std=c99 -Wall -Werror -fsanitize=address main.c -o a.exe`"
      ],
      "text/plain": [
       "<IPython.core.display.Markdown object>"
      ]
     },
     "metadata": {},
     "output_type": "display_data"
    },
    {
     "data": {
      "text/markdown": [
       "Run: `./a.exe`"
      ],
      "text/plain": [
       "<IPython.core.display.Markdown object>"
      ]
     },
     "metadata": {},
     "output_type": "display_data"
    },
    {
     "name": "stdout",
     "output_type": "stream",
     "text": [
      "\r\n",
      "=================================================================\r\n",
      "\u001b[1m\u001b[31m==2729==ERROR: LeakSanitizer: detected memory leaks\r\n",
      "\u001b[1m\u001b[0m\r\n",
      "\u001b[1m\u001b[34mDirect leak of 40 byte(s) in 1 object(s) allocated from:\r\n",
      "\u001b[1m\u001b[0m    #0 0x493ba2 in calloc (/home/pechatnov/vbox/caos/extra-c-basics/a.exe+0x493ba2)\r\n",
      "    #1 0x4c313d in main (/home/pechatnov/vbox/caos/extra-c-basics/a.exe+0x4c313d)\r\n",
      "    #2 0x7f41fe10e0b2 in __libc_start_main /build/glibc-YYA7BZ/glibc-2.31/csu/../csu/libc-start.c:308:16\r\n",
      "\r\n",
      "SUMMARY: AddressSanitizer: 40 byte(s) leaked in 1 allocation(s).\r\n"
     ]
    }
   ],
   "source": [
    "%%cpp main.c\n",
    "%run clang -std=c99 -Wall -Werror -fsanitize=address main.c -o a.exe\n",
    "%run ./a.exe \n",
    "\n",
    "#include <stdlib.h>\n",
    "#include <assert.h>\n",
    "\n",
    "int main() {\n",
    "    int* array = calloc(10, sizeof(int));\n",
    "    assert(array[0] == 0);\n",
    "    return 0;\n",
    "}"
   ]
  },
  {
   "cell_type": "markdown",
   "metadata": {},
   "source": [
    "## 2) Проезды"
   ]
  },
  {
   "cell_type": "code",
   "execution_count": 85,
   "metadata": {
    "scrolled": true
   },
   "outputs": [
    {
     "data": {
      "text/markdown": [
       "Run: `clang -std=c99 -Wall -Werror -fsanitize=address main.c -o a.exe`"
      ],
      "text/plain": [
       "<IPython.core.display.Markdown object>"
      ]
     },
     "metadata": {},
     "output_type": "display_data"
    },
    {
     "data": {
      "text/markdown": [
       "Run: `./a.exe`"
      ],
      "text/plain": [
       "<IPython.core.display.Markdown object>"
      ]
     },
     "metadata": {},
     "output_type": "display_data"
    },
    {
     "name": "stdout",
     "output_type": "stream",
     "text": [
      "AddressSanitizer:DEADLYSIGNAL\n",
      "=================================================================\n",
      "\u001b[1m\u001b[31m==2746==ERROR: AddressSanitizer: SEGV on unknown address 0x6040000622e0 (pc 0x0000004c3191 bp 0x7ffdea6c0450 sp 0x7ffdea6c0430 T0)\n",
      "\u001b[1m\u001b[0m==2746==The signal is caused by a READ memory access.\n",
      "    #0 0x4c3191 in main (/home/pechatnov/vbox/caos/extra-c-basics/a.exe+0x4c3191)\n",
      "    #1 0x7f8e489200b2 in __libc_start_main /build/glibc-YYA7BZ/glibc-2.31/csu/../csu/libc-start.c:308:16\n",
      "    #2 0x41b2ed in _start (/home/pechatnov/vbox/caos/extra-c-basics/a.exe+0x41b2ed)\n",
      "\n",
      "AddressSanitizer can not provide additional info.\n",
      "SUMMARY: AddressSanitizer: SEGV (/home/pechatnov/vbox/caos/extra-c-basics/a.exe+0x4c3191) in main\n",
      "==2746==ABORTING\n"
     ]
    }
   ],
   "source": [
    "%%cpp main.c\n",
    "%run clang -std=c99 -Wall -Werror -fsanitize=address main.c -o a.exe\n",
    "%run ./a.exe \n",
    "\n",
    "#include <stdlib.h>\n",
    "#include <assert.h>\n",
    "\n",
    "int main() {\n",
    "    int* array = calloc(10, sizeof(int));\n",
    "    assert(array[100500] == 0);\n",
    "    return 0;\n",
    "}"
   ]
  },
  {
   "cell_type": "markdown",
   "metadata": {},
   "source": [
    "## 3) Использование памяти после free"
   ]
  },
  {
   "cell_type": "code",
   "execution_count": 86,
   "metadata": {},
   "outputs": [
    {
     "data": {
      "text/markdown": [
       "Run: `clang -std=c99 -Wall -Werror -fsanitize=address main.c -o a.exe`"
      ],
      "text/plain": [
       "<IPython.core.display.Markdown object>"
      ]
     },
     "metadata": {},
     "output_type": "display_data"
    },
    {
     "data": {
      "text/markdown": [
       "Run: `./a.exe`"
      ],
      "text/plain": [
       "<IPython.core.display.Markdown object>"
      ]
     },
     "metadata": {},
     "output_type": "display_data"
    },
    {
     "name": "stdout",
     "output_type": "stream",
     "text": [
      "=================================================================\n",
      "\u001b[1m\u001b[31m==2753==ERROR: AddressSanitizer: heap-use-after-free on address 0x6040000000a4 at pc 0x0000004c3199 bp 0x7ffdfa1b0400 sp 0x7ffdfa1b03f8\n",
      "\u001b[1m\u001b[0m\u001b[1m\u001b[34mREAD of size 4 at 0x6040000000a4 thread T0\u001b[1m\u001b[0m\n",
      "    #0 0x4c3198 in main (/home/pechatnov/vbox/caos/extra-c-basics/a.exe+0x4c3198)\n",
      "    #1 0x7fdcdaa230b2 in __libc_start_main /build/glibc-YYA7BZ/glibc-2.31/csu/../csu/libc-start.c:308:16\n",
      "    #2 0x41b2ed in _start (/home/pechatnov/vbox/caos/extra-c-basics/a.exe+0x41b2ed)\n",
      "\n",
      "\u001b[1m\u001b[32m0x6040000000a4 is located 20 bytes inside of 40-byte region [0x604000000090,0x6040000000b8)\n",
      "\u001b[1m\u001b[0m\u001b[1m\u001b[35mfreed by thread T0 here:\u001b[1m\u001b[0m\n",
      "    #0 0x4937ad in free (/home/pechatnov/vbox/caos/extra-c-basics/a.exe+0x4937ad)\n",
      "    #1 0x4c314d in main (/home/pechatnov/vbox/caos/extra-c-basics/a.exe+0x4c314d)\n",
      "    #2 0x7fdcdaa230b2 in __libc_start_main /build/glibc-YYA7BZ/glibc-2.31/csu/../csu/libc-start.c:308:16\n",
      "\n",
      "\u001b[1m\u001b[35mpreviously allocated by thread T0 here:\u001b[1m\u001b[0m\n",
      "    #0 0x493ba2 in calloc (/home/pechatnov/vbox/caos/extra-c-basics/a.exe+0x493ba2)\n",
      "    #1 0x4c313d in main (/home/pechatnov/vbox/caos/extra-c-basics/a.exe+0x4c313d)\n",
      "    #2 0x7fdcdaa230b2 in __libc_start_main /build/glibc-YYA7BZ/glibc-2.31/csu/../csu/libc-start.c:308:16\n",
      "\n",
      "SUMMARY: AddressSanitizer: heap-use-after-free (/home/pechatnov/vbox/caos/extra-c-basics/a.exe+0x4c3198) in main\n",
      "Shadow bytes around the buggy address:\n",
      "  0x0c087fff7fc0: \u001b[1m\u001b[0m00\u001b[1m\u001b[0m \u001b[1m\u001b[0m00\u001b[1m\u001b[0m \u001b[1m\u001b[0m00\u001b[1m\u001b[0m \u001b[1m\u001b[0m00\u001b[1m\u001b[0m \u001b[1m\u001b[0m00\u001b[1m\u001b[0m \u001b[1m\u001b[0m00\u001b[1m\u001b[0m \u001b[1m\u001b[0m00\u001b[1m\u001b[0m \u001b[1m\u001b[0m00\u001b[1m\u001b[0m \u001b[1m\u001b[0m00\u001b[1m\u001b[0m \u001b[1m\u001b[0m00\u001b[1m\u001b[0m \u001b[1m\u001b[0m00\u001b[1m\u001b[0m \u001b[1m\u001b[0m00\u001b[1m\u001b[0m \u001b[1m\u001b[0m00\u001b[1m\u001b[0m \u001b[1m\u001b[0m00\u001b[1m\u001b[0m \u001b[1m\u001b[0m00\u001b[1m\u001b[0m \u001b[1m\u001b[0m00\u001b[1m\u001b[0m\n",
      "  0x0c087fff7fd0: \u001b[1m\u001b[0m00\u001b[1m\u001b[0m \u001b[1m\u001b[0m00\u001b[1m\u001b[0m \u001b[1m\u001b[0m00\u001b[1m\u001b[0m \u001b[1m\u001b[0m00\u001b[1m\u001b[0m \u001b[1m\u001b[0m00\u001b[1m\u001b[0m \u001b[1m\u001b[0m00\u001b[1m\u001b[0m \u001b[1m\u001b[0m00\u001b[1m\u001b[0m \u001b[1m\u001b[0m00\u001b[1m\u001b[0m \u001b[1m\u001b[0m00\u001b[1m\u001b[0m \u001b[1m\u001b[0m00\u001b[1m\u001b[0m \u001b[1m\u001b[0m00\u001b[1m\u001b[0m \u001b[1m\u001b[0m00\u001b[1m\u001b[0m \u001b[1m\u001b[0m00\u001b[1m\u001b[0m \u001b[1m\u001b[0m00\u001b[1m\u001b[0m \u001b[1m\u001b[0m00\u001b[1m\u001b[0m \u001b[1m\u001b[0m00\u001b[1m\u001b[0m\n",
      "  0x0c087fff7fe0: \u001b[1m\u001b[0m00\u001b[1m\u001b[0m \u001b[1m\u001b[0m00\u001b[1m\u001b[0m \u001b[1m\u001b[0m00\u001b[1m\u001b[0m \u001b[1m\u001b[0m00\u001b[1m\u001b[0m \u001b[1m\u001b[0m00\u001b[1m\u001b[0m \u001b[1m\u001b[0m00\u001b[1m\u001b[0m \u001b[1m\u001b[0m00\u001b[1m\u001b[0m \u001b[1m\u001b[0m00\u001b[1m\u001b[0m \u001b[1m\u001b[0m00\u001b[1m\u001b[0m \u001b[1m\u001b[0m00\u001b[1m\u001b[0m \u001b[1m\u001b[0m00\u001b[1m\u001b[0m \u001b[1m\u001b[0m00\u001b[1m\u001b[0m \u001b[1m\u001b[0m00\u001b[1m\u001b[0m \u001b[1m\u001b[0m00\u001b[1m\u001b[0m \u001b[1m\u001b[0m00\u001b[1m\u001b[0m \u001b[1m\u001b[0m00\u001b[1m\u001b[0m\n",
      "  0x0c087fff7ff0: \u001b[1m\u001b[0m00\u001b[1m\u001b[0m \u001b[1m\u001b[0m00\u001b[1m\u001b[0m \u001b[1m\u001b[0m00\u001b[1m\u001b[0m \u001b[1m\u001b[0m00\u001b[1m\u001b[0m \u001b[1m\u001b[0m00\u001b[1m\u001b[0m \u001b[1m\u001b[0m00\u001b[1m\u001b[0m \u001b[1m\u001b[0m00\u001b[1m\u001b[0m \u001b[1m\u001b[0m00\u001b[1m\u001b[0m \u001b[1m\u001b[0m00\u001b[1m\u001b[0m \u001b[1m\u001b[0m00\u001b[1m\u001b[0m \u001b[1m\u001b[0m00\u001b[1m\u001b[0m \u001b[1m\u001b[0m00\u001b[1m\u001b[0m \u001b[1m\u001b[0m00\u001b[1m\u001b[0m \u001b[1m\u001b[0m00\u001b[1m\u001b[0m \u001b[1m\u001b[0m00\u001b[1m\u001b[0m \u001b[1m\u001b[0m00\u001b[1m\u001b[0m\n",
      "  0x0c087fff8000: \u001b[1m\u001b[31mfa\u001b[1m\u001b[0m \u001b[1m\u001b[31mfa\u001b[1m\u001b[0m \u001b[1m\u001b[35mfd\u001b[1m\u001b[0m \u001b[1m\u001b[35mfd\u001b[1m\u001b[0m \u001b[1m\u001b[35mfd\u001b[1m\u001b[0m \u001b[1m\u001b[35mfd\u001b[1m\u001b[0m \u001b[1m\u001b[35mfd\u001b[1m\u001b[0m \u001b[1m\u001b[35mfd\u001b[1m\u001b[0m \u001b[1m\u001b[31mfa\u001b[1m\u001b[0m \u001b[1m\u001b[31mfa\u001b[1m\u001b[0m \u001b[1m\u001b[0m00\u001b[1m\u001b[0m \u001b[1m\u001b[0m00\u001b[1m\u001b[0m \u001b[1m\u001b[0m00\u001b[1m\u001b[0m \u001b[1m\u001b[0m00\u001b[1m\u001b[0m \u001b[1m\u001b[0m00\u001b[1m\u001b[0m \u001b[1m\u001b[0m02\u001b[1m\u001b[0m\n",
      "=>0x0c087fff8010: \u001b[1m\u001b[31mfa\u001b[1m\u001b[0m \u001b[1m\u001b[31mfa\u001b[1m\u001b[0m \u001b[1m\u001b[35mfd\u001b[1m\u001b[0m \u001b[1m\u001b[35mfd\u001b[1m\u001b[0m[\u001b[1m\u001b[35mfd\u001b[1m\u001b[0m]\u001b[1m\u001b[35mfd\u001b[1m\u001b[0m \u001b[1m\u001b[35mfd\u001b[1m\u001b[0m \u001b[1m\u001b[31mfa\u001b[1m\u001b[0m \u001b[1m\u001b[31mfa\u001b[1m\u001b[0m \u001b[1m\u001b[31mfa\u001b[1m\u001b[0m \u001b[1m\u001b[31mfa\u001b[1m\u001b[0m \u001b[1m\u001b[31mfa\u001b[1m\u001b[0m \u001b[1m\u001b[31mfa\u001b[1m\u001b[0m \u001b[1m\u001b[31mfa\u001b[1m\u001b[0m \u001b[1m\u001b[31mfa\u001b[1m\u001b[0m \u001b[1m\u001b[31mfa\u001b[1m\u001b[0m\n",
      "  0x0c087fff8020: \u001b[1m\u001b[31mfa\u001b[1m\u001b[0m \u001b[1m\u001b[31mfa\u001b[1m\u001b[0m \u001b[1m\u001b[31mfa\u001b[1m\u001b[0m \u001b[1m\u001b[31mfa\u001b[1m\u001b[0m \u001b[1m\u001b[31mfa\u001b[1m\u001b[0m \u001b[1m\u001b[31mfa\u001b[1m\u001b[0m \u001b[1m\u001b[31mfa\u001b[1m\u001b[0m \u001b[1m\u001b[31mfa\u001b[1m\u001b[0m \u001b[1m\u001b[31mfa\u001b[1m\u001b[0m \u001b[1m\u001b[31mfa\u001b[1m\u001b[0m \u001b[1m\u001b[31mfa\u001b[1m\u001b[0m \u001b[1m\u001b[31mfa\u001b[1m\u001b[0m \u001b[1m\u001b[31mfa\u001b[1m\u001b[0m \u001b[1m\u001b[31mfa\u001b[1m\u001b[0m \u001b[1m\u001b[31mfa\u001b[1m\u001b[0m \u001b[1m\u001b[31mfa\u001b[1m\u001b[0m\n",
      "  0x0c087fff8030: \u001b[1m\u001b[31mfa\u001b[1m\u001b[0m \u001b[1m\u001b[31mfa\u001b[1m\u001b[0m \u001b[1m\u001b[31mfa\u001b[1m\u001b[0m \u001b[1m\u001b[31mfa\u001b[1m\u001b[0m \u001b[1m\u001b[31mfa\u001b[1m\u001b[0m \u001b[1m\u001b[31mfa\u001b[1m\u001b[0m \u001b[1m\u001b[31mfa\u001b[1m\u001b[0m \u001b[1m\u001b[31mfa\u001b[1m\u001b[0m \u001b[1m\u001b[31mfa\u001b[1m\u001b[0m \u001b[1m\u001b[31mfa\u001b[1m\u001b[0m \u001b[1m\u001b[31mfa\u001b[1m\u001b[0m \u001b[1m\u001b[31mfa\u001b[1m\u001b[0m \u001b[1m\u001b[31mfa\u001b[1m\u001b[0m \u001b[1m\u001b[31mfa\u001b[1m\u001b[0m \u001b[1m\u001b[31mfa\u001b[1m\u001b[0m \u001b[1m\u001b[31mfa\u001b[1m\u001b[0m\n",
      "  0x0c087fff8040: \u001b[1m\u001b[31mfa\u001b[1m\u001b[0m \u001b[1m\u001b[31mfa\u001b[1m\u001b[0m \u001b[1m\u001b[31mfa\u001b[1m\u001b[0m \u001b[1m\u001b[31mfa\u001b[1m\u001b[0m \u001b[1m\u001b[31mfa\u001b[1m\u001b[0m \u001b[1m\u001b[31mfa\u001b[1m\u001b[0m \u001b[1m\u001b[31mfa\u001b[1m\u001b[0m \u001b[1m\u001b[31mfa\u001b[1m\u001b[0m \u001b[1m\u001b[31mfa\u001b[1m\u001b[0m \u001b[1m\u001b[31mfa\u001b[1m\u001b[0m \u001b[1m\u001b[31mfa\u001b[1m\u001b[0m \u001b[1m\u001b[31mfa\u001b[1m\u001b[0m \u001b[1m\u001b[31mfa\u001b[1m\u001b[0m \u001b[1m\u001b[31mfa\u001b[1m\u001b[0m \u001b[1m\u001b[31mfa\u001b[1m\u001b[0m \u001b[1m\u001b[31mfa\u001b[1m\u001b[0m\n",
      "  0x0c087fff8050: \u001b[1m\u001b[31mfa\u001b[1m\u001b[0m \u001b[1m\u001b[31mfa\u001b[1m\u001b[0m \u001b[1m\u001b[31mfa\u001b[1m\u001b[0m \u001b[1m\u001b[31mfa\u001b[1m\u001b[0m \u001b[1m\u001b[31mfa\u001b[1m\u001b[0m \u001b[1m\u001b[31mfa\u001b[1m\u001b[0m \u001b[1m\u001b[31mfa\u001b[1m\u001b[0m \u001b[1m\u001b[31mfa\u001b[1m\u001b[0m \u001b[1m\u001b[31mfa\u001b[1m\u001b[0m \u001b[1m\u001b[31mfa\u001b[1m\u001b[0m \u001b[1m\u001b[31mfa\u001b[1m\u001b[0m \u001b[1m\u001b[31mfa\u001b[1m\u001b[0m \u001b[1m\u001b[31mfa\u001b[1m\u001b[0m \u001b[1m\u001b[31mfa\u001b[1m\u001b[0m \u001b[1m\u001b[31mfa\u001b[1m\u001b[0m \u001b[1m\u001b[31mfa\u001b[1m\u001b[0m\n",
      "  0x0c087fff8060: \u001b[1m\u001b[31mfa\u001b[1m\u001b[0m \u001b[1m\u001b[31mfa\u001b[1m\u001b[0m \u001b[1m\u001b[31mfa\u001b[1m\u001b[0m \u001b[1m\u001b[31mfa\u001b[1m\u001b[0m \u001b[1m\u001b[31mfa\u001b[1m\u001b[0m \u001b[1m\u001b[31mfa\u001b[1m\u001b[0m \u001b[1m\u001b[31mfa\u001b[1m\u001b[0m \u001b[1m\u001b[31mfa\u001b[1m\u001b[0m \u001b[1m\u001b[31mfa\u001b[1m\u001b[0m \u001b[1m\u001b[31mfa\u001b[1m\u001b[0m \u001b[1m\u001b[31mfa\u001b[1m\u001b[0m \u001b[1m\u001b[31mfa\u001b[1m\u001b[0m \u001b[1m\u001b[31mfa\u001b[1m\u001b[0m \u001b[1m\u001b[31mfa\u001b[1m\u001b[0m \u001b[1m\u001b[31mfa\u001b[1m\u001b[0m \u001b[1m\u001b[31mfa\u001b[1m\u001b[0m\n",
      "Shadow byte legend (one shadow byte represents 8 application bytes):\n",
      "  Addressable:           \u001b[1m\u001b[0m00\u001b[1m\u001b[0m\n",
      "  Partially addressable: \u001b[1m\u001b[0m01\u001b[1m\u001b[0m \u001b[1m\u001b[0m02\u001b[1m\u001b[0m \u001b[1m\u001b[0m03\u001b[1m\u001b[0m \u001b[1m\u001b[0m04\u001b[1m\u001b[0m \u001b[1m\u001b[0m05\u001b[1m\u001b[0m \u001b[1m\u001b[0m06\u001b[1m\u001b[0m \u001b[1m\u001b[0m07\u001b[1m\u001b[0m \n",
      "  Heap left redzone:       \u001b[1m\u001b[31mfa\u001b[1m\u001b[0m\n",
      "  Freed heap region:       \u001b[1m\u001b[35mfd\u001b[1m\u001b[0m\n",
      "  Stack left redzone:      \u001b[1m\u001b[31mf1\u001b[1m\u001b[0m\n",
      "  Stack mid redzone:       \u001b[1m\u001b[31mf2\u001b[1m\u001b[0m\n",
      "  Stack right redzone:     \u001b[1m\u001b[31mf3\u001b[1m\u001b[0m\n",
      "  Stack after return:      \u001b[1m\u001b[35mf5\u001b[1m\u001b[0m\n",
      "  Stack use after scope:   \u001b[1m\u001b[35mf8\u001b[1m\u001b[0m\n",
      "  Global redzone:          \u001b[1m\u001b[31mf9\u001b[1m\u001b[0m\n",
      "  Global init order:       \u001b[1m\u001b[36mf6\u001b[1m\u001b[0m\n",
      "  Poisoned by user:        \u001b[1m\u001b[34mf7\u001b[1m\u001b[0m\n",
      "  Container overflow:      \u001b[1m\u001b[34mfc\u001b[1m\u001b[0m\n",
      "  Array cookie:            \u001b[1m\u001b[31mac\u001b[1m\u001b[0m\n",
      "  Intra object redzone:    \u001b[1m\u001b[33mbb\u001b[1m\u001b[0m\n",
      "  ASan internal:           \u001b[1m\u001b[33mfe\u001b[1m\u001b[0m\n",
      "  Left alloca redzone:     \u001b[1m\u001b[34mca\u001b[1m\u001b[0m\n",
      "  Right alloca redzone:    \u001b[1m\u001b[34mcb\u001b[1m\u001b[0m\n",
      "  Shadow gap:              \u001b[1m\u001b[0mcc\u001b[1m\u001b[0m\n",
      "==2753==ABORTING\n"
     ]
    }
   ],
   "source": [
    "%%cpp main.c\n",
    "%run clang -std=c99 -Wall -Werror -fsanitize=address main.c -o a.exe\n",
    "%run ./a.exe \n",
    "\n",
    "#include <stdlib.h>\n",
    "#include <assert.h>\n",
    "\n",
    "int main() {\n",
    "    int* array = calloc(10, sizeof(int));\n",
    "    free(array);\n",
    "    assert(array[5] == 0);\n",
    "    return 0;\n",
    "}"
   ]
  },
  {
   "cell_type": "markdown",
   "metadata": {},
   "source": [
    "## ... и так далее"
   ]
  },
  {
   "cell_type": "code",
   "execution_count": null,
   "metadata": {},
   "outputs": [],
   "source": []
  }
 ],
 "metadata": {
  "kernelspec": {
   "display_name": "Python 3",
   "language": "python",
   "name": "python3"
  },
  "language_info": {
   "codemirror_mode": {
    "name": "ipython",
    "version": 3
   },
   "file_extension": ".py",
   "mimetype": "text/x-python",
   "name": "python",
   "nbconvert_exporter": "python",
   "pygments_lexer": "ipython3",
   "version": "3.8.2"
  }
 },
 "nbformat": 4,
 "nbformat_minor": 2
}
