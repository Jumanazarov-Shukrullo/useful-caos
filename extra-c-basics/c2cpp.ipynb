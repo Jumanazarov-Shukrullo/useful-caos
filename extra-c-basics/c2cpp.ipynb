{
 "cells": [
  {
   "cell_type": "code",
   "execution_count": 2,
   "metadata": {},
   "outputs": [
    {
     "data": {
      "application/javascript": [
       "// setup cpp code highlighting\n",
       "IPython.CodeCell.options_default.highlight_modes[\"text/x-c++src\"] = {'reg':[/^%%cpp/]} ;"
      ],
      "text/plain": [
       "<IPython.core.display.Javascript object>"
      ]
     },
     "metadata": {},
     "output_type": "display_data"
    },
    {
     "data": {
      "text/html": [
       "<!-- YANDEX_METRICA_BEGIN -->\n",
       "    <script type=\"text/javascript\" >\n",
       "       (function(m,e,t,r,i,k,a){m[i]=m[i]||function(){(m[i].a=m[i].a||[]).push(arguments)};\n",
       "       m[i].l=1*new Date();k=e.createElement(t),a=e.getElementsByTagName(t)[0],k.async=1,k.src=r,a.parentNode.insertBefore(k,a)})\n",
       "       (window, document, \"script\", \"https://mc.yandex.ru/metrika/tag.js\", \"ym\");\n",
       "\n",
       "       ym(59260609, \"init\", {\n",
       "            clickmap:true,\n",
       "            trackLinks:true,\n",
       "            accurateTrackBounce:true\n",
       "       });\n",
       "    </script>\n",
       "    <noscript><div><img src=\"https://mc.yandex.ru/watch/59260609\" style=\"position:absolute; left:-9999px;\" alt=\"\" /></div></noscript>\n",
       "    <!-- YANDEX_METRICA_END -->"
      ],
      "text/plain": [
       "<IPython.core.display.HTML object>"
      ]
     },
     "metadata": {},
     "output_type": "display_data"
    },
    {
     "data": {
      "text/html": [
       "В этот ноутбук встроен код Яндекс Метрики для сбора статистики использований. Если вы не хотите, чтобы по вам собиралась статистика, исправьте: yandex_metrica_allowed = False<!-- MAGICS_SETUP_PRINTING_END -->"
      ],
      "text/plain": [
       "<IPython.core.display.HTML object>"
      ]
     },
     "metadata": {},
     "output_type": "display_data"
    }
   ],
   "source": [
    "# look at tools/set_up_magics.ipynb\n",
    "yandex_metrica_allowed = True ; get_ipython().run_cell('# one_liner_str\\n\\nget_ipython().run_cell_magic(\\'javascript\\', \\'\\', \\'// setup cpp code highlighting\\\\nIPython.CodeCell.options_default.highlight_modes[\"text/x-c++src\"] = {\\\\\\'reg\\\\\\':[/^%%cpp/]} ;\\')\\n\\n# creating magics\\nfrom IPython.core.magic import register_cell_magic, register_line_magic\\nfrom IPython.display import display, Markdown, HTML\\nimport argparse\\nfrom subprocess import Popen, PIPE\\nimport random\\nimport sys\\nimport os\\nimport re\\nimport signal\\nimport shutil\\nimport shlex\\nimport glob\\n\\n@register_cell_magic\\ndef save_file(args_str, cell, line_comment_start=\"#\"):\\n    parser = argparse.ArgumentParser()\\n    parser.add_argument(\"fname\")\\n    parser.add_argument(\"--ejudge-style\", action=\"store_true\")\\n    args = parser.parse_args(args_str.split())\\n    \\n    cell = cell if cell[-1] == \\'\\\\n\\' or args.no_eof_newline else cell + \"\\\\n\"\\n    cmds = []\\n    with open(args.fname, \"w\") as f:\\n        f.write(line_comment_start + \" %%cpp \" + args_str + \"\\\\n\")\\n        for line in cell.split(\"\\\\n\"):\\n            line_to_write = (line if not args.ejudge_style else line.rstrip()) + \"\\\\n\"\\n            if line.startswith(\"%\"):\\n                run_prefix = \"%run \"\\n                if line.startswith(run_prefix):\\n                    cmds.append(line[len(run_prefix):].strip())\\n                    f.write(line_comment_start + \" \" + line_to_write)\\n                    continue\\n                run_prefix = \"%# \"\\n                if line.startswith(run_prefix):\\n                    f.write(line_comment_start + \" \" + line_to_write)\\n                    continue\\n                raise Exception(\"Unknown %%save_file subcommand: \\'%s\\'\" % line)\\n            else:\\n                f.write(line_to_write)\\n        f.write(\"\" if not args.ejudge_style else line_comment_start + r\" line without \\\\n\")\\n    for cmd in cmds:\\n        display(Markdown(\"Run: `%s`\" % cmd))\\n        get_ipython().system(cmd)\\n\\n@register_cell_magic\\ndef cpp(fname, cell):\\n    save_file(fname, cell, \"//\")\\n\\n@register_cell_magic\\ndef asm(fname, cell):\\n    save_file(fname, cell, \"//\")\\n    \\n@register_cell_magic\\ndef makefile(fname, cell):\\n    assert not fname\\n    save_file(\"makefile\", cell.replace(\" \" * 4, \"\\\\t\"))\\n        \\n@register_line_magic\\ndef p(line):\\n    try:\\n        expr, comment = line.split(\" #\")\\n        display(Markdown(\"`{} = {}`  # {}\".format(expr.strip(), eval(expr), comment.strip())))\\n    except:\\n        display(Markdown(\"{} = {}\".format(line, eval(line))))\\n        \\ndef show_file(file, clear_at_begin=True, return_html_string=False):\\n    if clear_at_begin:\\n        get_ipython().system(\"truncate --size 0 \" + file)\\n    obj = file.replace(\\'.\\', \\'_\\').replace(\\'/\\', \\'_\\') + \"_obj\"\\n    html_string = \\'\\'\\'\\n        <!--MD_BEGIN_FILTER-->\\n        <script type=text/javascript>\\n        var entrance___OBJ__ = 0;\\n        var errors___OBJ__ = 0;\\n        function refresh__OBJ__()\\n        {\\n            entrance___OBJ__ -= 1;\\n            var elem = document.getElementById(\"__OBJ__\");\\n            if (elem) {\\n                var xmlhttp=new XMLHttpRequest();\\n                xmlhttp.onreadystatechange=function()\\n                {\\n                    var elem = document.getElementById(\"__OBJ__\");\\n                    console.log(!!elem, xmlhttp.readyState, xmlhttp.status, entrance___OBJ__);\\n                    if (elem && xmlhttp.readyState==4) {\\n                        if (xmlhttp.status==200)\\n                        {\\n                            errors___OBJ__ = 0;\\n                            if (!entrance___OBJ__) {\\n                                elem.innerText = xmlhttp.responseText;\\n                                entrance___OBJ__ += 1;\\n                                console.log(\"req\");\\n                                window.setTimeout(\"refresh__OBJ__()\", 300); \\n                            }\\n                            return xmlhttp.responseText;\\n                        } else {\\n                            errors___OBJ__ += 1;\\n                            if (errors___OBJ__ < 10 && !entrance___OBJ__) {\\n                                entrance___OBJ__ += 1;\\n                                console.log(\"req\");\\n                                window.setTimeout(\"refresh__OBJ__()\", 300); \\n                            }\\n                        }\\n                    }\\n                }\\n                xmlhttp.open(\"GET\", \"__FILE__\", true);\\n                xmlhttp.setRequestHeader(\"Cache-Control\", \"no-cache\");\\n                xmlhttp.send();     \\n            }\\n        }\\n        \\n        if (!entrance___OBJ__) {\\n            entrance___OBJ__ += 1;\\n            refresh__OBJ__(); \\n        }\\n        </script>\\n        \\n        <font color=\"white\"> <tt>\\n        <p id=\"__OBJ__\" style=\"font-size: 16px; border:3px #333333 solid; background: #333333; border-radius: 10px; padding: 10px;  \"></p>\\n        </tt> </font>\\n        <!--MD_END_FILTER-->\\n        <!--MD_FROM_FILE __FILE__ -->\\n        \\'\\'\\'.replace(\"__OBJ__\", obj).replace(\"__FILE__\", file)\\n    if return_html_string:\\n        return html_string\\n    display(HTML(html_string))\\n    \\nBASH_POPEN_TMP_DIR = \"./bash_popen_tmp\"\\n    \\ndef bash_popen_terminate_all():\\n    for p in globals().get(\"bash_popen_list\", []):\\n        print(\"Terminate pid=\" + str(p.pid), file=sys.stderr)\\n        p.terminate()\\n    globals()[\"bash_popen_list\"] = []\\n    if os.path.exists(BASH_POPEN_TMP_DIR):\\n        shutil.rmtree(BASH_POPEN_TMP_DIR)\\n\\nbash_popen_terminate_all()  \\n\\ndef bash_popen(cmd):\\n    if not os.path.exists(BASH_POPEN_TMP_DIR):\\n        os.mkdir(BASH_POPEN_TMP_DIR)\\n    h = os.path.join(BASH_POPEN_TMP_DIR, str(random.randint(0, 1e18)))\\n    stdout_file = h + \".out.html\"\\n    stderr_file = h + \".err.html\"\\n    run_log_file = h + \".fin.html\"\\n    \\n    stdout = open(stdout_file, \"wb\")\\n    stdout = open(stderr_file, \"wb\")\\n    \\n    html = \"\"\"\\n    <table width=\"100%\">\\n    <colgroup>\\n       <col span=\"1\" style=\"width: 70px;\">\\n       <col span=\"1\">\\n    </colgroup>    \\n    <tbody>\\n      <tr> <td><b>STDOUT</b></td> <td> {stdout} </td> </tr>\\n      <tr> <td><b>STDERR</b></td> <td> {stderr} </td> </tr>\\n      <tr> <td><b>RUN LOG</b></td> <td> {run_log} </td> </tr>\\n    </tbody>\\n    </table>\\n    \"\"\".format(\\n        stdout=show_file(stdout_file, return_html_string=True),\\n        stderr=show_file(stderr_file, return_html_string=True),\\n        run_log=show_file(run_log_file, return_html_string=True),\\n    )\\n    \\n    cmd = \"\"\"\\n        bash -c {cmd} &\\n        pid=$!\\n        echo \"Process started! pid=${{pid}}\" > {run_log_file}\\n        wait ${{pid}}\\n        echo \"Process finished! exit_code=$?\" >> {run_log_file}\\n    \"\"\".format(cmd=shlex.quote(cmd), run_log_file=run_log_file)\\n    # print(cmd)\\n    display(HTML(html))\\n    \\n    p = Popen([\"bash\", \"-c\", cmd], stdin=PIPE, stdout=stdout, stderr=stdout)\\n    \\n    bash_popen_list.append(p)\\n    return p\\n\\n\\n@register_line_magic\\ndef bash_async(line):\\n    bash_popen(line)\\n    \\n    \\ndef show_log_file(file, return_html_string=False):\\n    obj = file.replace(\\'.\\', \\'_\\').replace(\\'/\\', \\'_\\') + \"_obj\"\\n    html_string = \\'\\'\\'\\n        <!--MD_BEGIN_FILTER-->\\n        <script type=text/javascript>\\n        var entrance___OBJ__ = 0;\\n        var errors___OBJ__ = 0;\\n        function halt__OBJ__(elem, color)\\n        {\\n            elem.setAttribute(\"style\", \"font-size: 14px; background: \" + color + \"; padding: 10px; border: 3px; border-radius: 5px; color: white; \");                    \\n        }\\n        function refresh__OBJ__()\\n        {\\n            entrance___OBJ__ -= 1;\\n            if (entrance___OBJ__ < 0) {\\n                entrance___OBJ__ = 0;\\n            }\\n            var elem = document.getElementById(\"__OBJ__\");\\n            if (elem) {\\n                var xmlhttp=new XMLHttpRequest();\\n                xmlhttp.onreadystatechange=function()\\n                {\\n                    var elem = document.getElementById(\"__OBJ__\");\\n                    console.log(!!elem, xmlhttp.readyState, xmlhttp.status, entrance___OBJ__);\\n                    if (elem && xmlhttp.readyState==4) {\\n                        if (xmlhttp.status==200)\\n                        {\\n                            errors___OBJ__ = 0;\\n                            if (!entrance___OBJ__) {\\n                                if (elem.innerHTML != xmlhttp.responseText) {\\n                                    elem.innerHTML = xmlhttp.responseText;\\n                                }\\n                                if (elem.innerHTML.includes(\"Process finished.\")) {\\n                                    halt__OBJ__(elem, \"#333333\");\\n                                } else {\\n                                    entrance___OBJ__ += 1;\\n                                    console.log(\"req\");\\n                                    window.setTimeout(\"refresh__OBJ__()\", 300); \\n                                }\\n                            }\\n                            return xmlhttp.responseText;\\n                        } else {\\n                            errors___OBJ__ += 1;\\n                            if (!entrance___OBJ__) {\\n                                if (errors___OBJ__ < 6) {\\n                                    entrance___OBJ__ += 1;\\n                                    console.log(\"req\");\\n                                    window.setTimeout(\"refresh__OBJ__()\", 300); \\n                                } else {\\n                                    halt__OBJ__(elem, \"#994444\");\\n                                }\\n                            }\\n                        }\\n                    }\\n                }\\n                xmlhttp.open(\"GET\", \"__FILE__\", true);\\n                xmlhttp.setRequestHeader(\"Cache-Control\", \"no-cache\");\\n                xmlhttp.send();     \\n            }\\n        }\\n        \\n        if (!entrance___OBJ__) {\\n            entrance___OBJ__ += 1;\\n            refresh__OBJ__(); \\n        }\\n        </script>\\n\\n        <p id=\"__OBJ__\" style=\"font-size: 14px; background: #000000; padding: 10px; border: 3px; border-radius: 5px; color: white; \">\\n        </p>\\n        \\n        </font>\\n        <!--MD_END_FILTER-->\\n        <!--MD_FROM_FILE __FILE__.md -->\\n        \\'\\'\\'.replace(\"__OBJ__\", obj).replace(\"__FILE__\", file)\\n    if return_html_string:\\n        return html_string\\n    display(HTML(html_string))\\n\\n    \\nclass TInteractiveLauncher:\\n    tmp_path = \"./interactive_launcher_tmp\"\\n    def __init__(self, cmd):\\n        try:\\n            os.mkdir(TInteractiveLauncher.tmp_path)\\n        except:\\n            pass\\n        name = str(random.randint(0, 1e18))\\n        self.inq_path = os.path.join(TInteractiveLauncher.tmp_path, name + \".inq\")\\n        self.log_path = os.path.join(TInteractiveLauncher.tmp_path, name + \".log\")\\n        \\n        os.mkfifo(self.inq_path)\\n        open(self.log_path, \\'w\\').close()\\n        open(self.log_path + \".md\", \\'w\\').close()\\n\\n        self.pid = os.fork()\\n        if self.pid == -1:\\n            print(\"Error\")\\n        if self.pid == 0:\\n            exe_cands = glob.glob(\"../tools/launcher.py\") + glob.glob(\"../../tools/launcher.py\")\\n            assert(len(exe_cands) == 1)\\n            assert(os.execvp(\"python3\", [\"python3\", exe_cands[0], \"-l\", self.log_path, \"-i\", self.inq_path, \"-c\", cmd]) == 0)\\n        self.inq_f = open(self.inq_path, \"w\")\\n        interactive_launcher_opened_set.add(self.pid)\\n        show_log_file(self.log_path)\\n\\n    def write(self, s):\\n        s = s.encode()\\n        assert len(s) == os.write(self.inq_f.fileno(), s)\\n        \\n    def get_pid(self):\\n        n = 100\\n        for i in range(n):\\n            try:\\n                return int(re.findall(r\"PID = (\\\\d+)\", open(self.log_path).readline())[0])\\n            except:\\n                if i + 1 == n:\\n                    raise\\n                time.sleep(0.1)\\n        \\n    def input_queue_path(self):\\n        return self.inq_path\\n        \\n    def close(self):\\n        self.inq_f.close()\\n        os.waitpid(self.pid, 0)\\n        os.remove(self.inq_path)\\n        # os.remove(self.log_path)\\n        self.inq_path = None\\n        self.log_path = None \\n        interactive_launcher_opened_set.remove(self.pid)\\n        self.pid = None\\n        \\n    @staticmethod\\n    def terminate_all():\\n        if \"interactive_launcher_opened_set\" not in globals():\\n            globals()[\"interactive_launcher_opened_set\"] = set()\\n        global interactive_launcher_opened_set\\n        for pid in interactive_launcher_opened_set:\\n            print(\"Terminate pid=\" + str(pid), file=sys.stderr)\\n            os.kill(pid, signal.SIGKILL)\\n            os.waitpid(pid, 0)\\n        interactive_launcher_opened_set = set()\\n        if os.path.exists(TInteractiveLauncher.tmp_path):\\n            shutil.rmtree(TInteractiveLauncher.tmp_path)\\n    \\nTInteractiveLauncher.terminate_all()\\n   \\nyandex_metrica_allowed = bool(globals().get(\"yandex_metrica_allowed\", False))\\nif yandex_metrica_allowed:\\n    display(HTML(\\'\\'\\'<!-- YANDEX_METRICA_BEGIN -->\\n    <script type=\"text/javascript\" >\\n       (function(m,e,t,r,i,k,a){m[i]=m[i]||function(){(m[i].a=m[i].a||[]).push(arguments)};\\n       m[i].l=1*new Date();k=e.createElement(t),a=e.getElementsByTagName(t)[0],k.async=1,k.src=r,a.parentNode.insertBefore(k,a)})\\n       (window, document, \"script\", \"https://mc.yandex.ru/metrika/tag.js\", \"ym\");\\n\\n       ym(59260609, \"init\", {\\n            clickmap:true,\\n            trackLinks:true,\\n            accurateTrackBounce:true\\n       });\\n    </script>\\n    <noscript><div><img src=\"https://mc.yandex.ru/watch/59260609\" style=\"position:absolute; left:-9999px;\" alt=\"\" /></div></noscript>\\n    <!-- YANDEX_METRICA_END -->\\'\\'\\'))\\n\\ndef make_oneliner():\\n    html_text = \\'(\"В этот ноутбук встроен код Яндекс Метрики для сбора статистики использований. Если вы не хотите, чтобы по вам собиралась статистика, исправьте: yandex_metrica_allowed = False\" if yandex_metrica_allowed else \"\")\\'\\n    html_text += \\' + \"<\"\"!-- MAGICS_SETUP_PRINTING_END -->\"\\'\\n    return \\'\\'.join([\\n        \\'# look at tools/set_up_magics.ipynb\\\\n\\',\\n        \\'yandex_metrica_allowed = True ; get_ipython().run_cell(%s);\\' % repr(one_liner_str),\\n        \\'display(HTML(%s))\\' % html_text,\\n        \\' #\\'\\'MAGICS_SETUP_END\\'\\n    ])\\n       \\n\\n');display(HTML((\"В этот ноутбук встроен код Яндекс Метрики для сбора статистики использований. Если вы не хотите, чтобы по вам собиралась статистика, исправьте: yandex_metrica_allowed = False\" if yandex_metrica_allowed else \"\") + \"<\"\"!-- MAGICS_SETUP_PRINTING_END -->\")) #MAGICS_SETUP_END"
   ]
  },
  {
   "cell_type": "code",
   "execution_count": null,
   "metadata": {},
   "outputs": [],
   "source": []
  },
  {
   "cell_type": "markdown",
   "metadata": {},
   "source": [
    "# От С к С++\n",
    "\n",
    "Будем рассматривать минимально необходимое подмножество С++ на мой взгляд\n",
    "\n",
    "До этого мы рассматривали подмножество языка С полностью совместимое с С++ (с 20м стандартом)."
   ]
  },
  {
   "cell_type": "markdown",
   "metadata": {},
   "source": [
    "Рассмотрим на примере стека, как он может быть написан на С и на С++ и как связаны между собой реализации."
   ]
  },
  {
   "cell_type": "code",
   "execution_count": 18,
   "metadata": {
    "scrolled": true
   },
   "outputs": [
    {
     "data": {
      "text/markdown": [
       "Run: `clang -std=c99 -Wall -Werror -fsanitize=address main.c -o a.exe`"
      ],
      "text/plain": [
       "<IPython.core.display.Markdown object>"
      ]
     },
     "metadata": {},
     "output_type": "display_data"
    },
    {
     "data": {
      "text/markdown": [
       "Run: `./a.exe`"
      ],
      "text/plain": [
       "<IPython.core.display.Markdown object>"
      ]
     },
     "metadata": {},
     "output_type": "display_data"
    }
   ],
   "source": [
    "%%cpp main.c\n",
    "%run clang -std=c99 -Wall -Werror -fsanitize=address main.c -o a.exe\n",
    "%run ./a.exe \n",
    "\n",
    "#include <stdio.h>\n",
    "#include <stdlib.h>\n",
    "#include <string.h>\n",
    "#include <assert.h>\n",
    "\n",
    "typedef struct stack {\n",
    "    int* a;\n",
    "    int sz;\n",
    "    int max_sz;\n",
    "} stack_t;\n",
    "\n",
    "\n",
    "void init_stack(stack_t* stack) {\n",
    "    *stack = (stack_t){0};\n",
    "}\n",
    "\n",
    "void destroy_stack(stack_t* stack) {\n",
    "    free(stack->a);\n",
    "}\n",
    "\n",
    "void push_stack(stack_t* stack, int elem) {\n",
    "    if (stack->sz == stack->max_sz) {\n",
    "        stack->max_sz += (stack->max_sz == 0);\n",
    "        stack->max_sz *= 2;\n",
    "        (*stack).a = realloc(stack->a, stack->max_sz * sizeof(int));\n",
    "    }\n",
    "    stack->a[stack->sz++] = elem;\n",
    "}\n",
    "\n",
    "int top_stack(stack_t* stack) {\n",
    "    return stack->a[stack->sz - 1];\n",
    "}\n",
    "\n",
    "void pop_stack(stack_t* stack) {\n",
    "    --stack->sz;\n",
    "}\n",
    "\n",
    "\n",
    "int main() {\n",
    "    stack_t* s = (stack_t*)malloc(sizeof(stack_t));\n",
    "    init_stack(s);\n",
    "    push_stack(s, 123);\n",
    "    push_stack(s, 42);\n",
    "    assert(top_stack(s) == 42);\n",
    "    pop_stack(s);\n",
    "    assert(top_stack(s) == 123);\n",
    "    destroy_stack(s);\n",
    "    free(s);\n",
    "    return 0;\n",
    "}"
   ]
  },
  {
   "cell_type": "markdown",
   "metadata": {},
   "source": [
    "1) Добавим методы"
   ]
  },
  {
   "cell_type": "code",
   "execution_count": 75,
   "metadata": {},
   "outputs": [
    {
     "data": {
      "text/markdown": [
       "Run: `g++ -std=c++17 -Wall -Werror -fsanitize=address -fno-exceptions -fno-rtti main.cpp -o a.exe`"
      ],
      "text/plain": [
       "<IPython.core.display.Markdown object>"
      ]
     },
     "metadata": {},
     "output_type": "display_data"
    },
    {
     "data": {
      "text/markdown": [
       "Run: `./a.exe`"
      ],
      "text/plain": [
       "<IPython.core.display.Markdown object>"
      ]
     },
     "metadata": {},
     "output_type": "display_data"
    }
   ],
   "source": [
    "%%cpp main.cpp\n",
    "%run g++ -std=c++17 -Wall -Werror -fsanitize=address -fno-exceptions -fno-rtti main.cpp -o a.exe\n",
    "%run ./a.exe \n",
    "\n",
    "#include <stdio.h>\n",
    "#include <stdlib.h>\n",
    "#include <string.h>\n",
    "#include <assert.h>\n",
    "#include <new> // Важно для placement new!\n",
    "\n",
    "// Больше не нужны typedef\n",
    "struct stack_t {\n",
    "    // Поля такие же\n",
    "    int* a;\n",
    "    int sz;\n",
    "    int max_sz;\n",
    "    \n",
    "    // Декларируем методы\n",
    "    stack_t(); // конструктор\n",
    "    ~stack_t(); // деструктор\n",
    "    void push(int elem);\n",
    "    int top();\n",
    "    void pop();\n",
    "}; \n",
    "\n",
    "\n",
    "// void init_stack(stack_t* stack) {\n",
    "//     *stack = (stack_t){0};\n",
    "// }\n",
    "stack_t::stack_t() {\n",
    "    this->a = nullptr; \n",
    "    this->sz = 0;\n",
    "    this->max_sz = 0;\n",
    "}\n",
    "\n",
    "// void destroy_stack(stack_t* stack) {\n",
    "//     free(stack->a);\n",
    "// }\n",
    "stack_t::~stack_t() {\n",
    "    free(this->a);\n",
    "}\n",
    "\n",
    "// void push_stack(stack_t* stack, int elem) {\n",
    "//     if (stack->sz == stack->max_sz) {\n",
    "//         stack->max_sz += (stack->max_sz == 0);\n",
    "//         stack->max_sz *= 2;\n",
    "//         (*stack).a = realloc(stack->a, stack->max_sz * sizeof(int));\n",
    "//     }\n",
    "//     stack->a[stack->sz++] = elem;\n",
    "// }\n",
    "void stack_t::push(int elem) {\n",
    "    if (this->sz == this->max_sz) {\n",
    "        this->max_sz += (this->max_sz == 0);\n",
    "        this->max_sz *= 2;\n",
    "        this->a = (int*)realloc(this->a, this->max_sz * sizeof(int));\n",
    "    }\n",
    "    this->a[this->sz++] = elem;\n",
    "}\n",
    "\n",
    "// int top_stack(stack_t* stack) {\n",
    "//     return stack->a[stack->sz - 1];\n",
    "// }\n",
    "int stack_t::top() {\n",
    "    return this->a[this->sz - 1];\n",
    "}\n",
    "\n",
    "// void pop_stack(stack_t* stack) {\n",
    "//     --stack->sz;\n",
    "// }\n",
    "\n",
    "void stack_t::pop() {\n",
    "    --this->sz;\n",
    "}\n",
    "\n",
    "\n",
    "\n",
    "int main() {\n",
    "    stack_t* s = (stack_t*)malloc(sizeof(stack_t));\n",
    "    new ((void*)s) stack_t;  // init_stack(s);\n",
    "    s->push(123);            // push_stack(s, 123);\n",
    "    s->push(42);             // push_stack(s, 42);\n",
    "    assert(s->top() == 42);  // assert(top_stack(s) == 42);\n",
    "    s->pop();                // pop_stack(s);\n",
    "    assert(s->top() == 123); // assert(top_stack(s) == 123);\n",
    "    s->~stack_t();           // destroy_stack(s);\n",
    "    free(s);\n",
    "    return 0; \n",
    "}"
   ]
  },
  {
   "cell_type": "markdown",
   "metadata": {},
   "source": [
    "2) Уберем избыточность"
   ]
  },
  {
   "cell_type": "code",
   "execution_count": 78,
   "metadata": {},
   "outputs": [
    {
     "data": {
      "text/markdown": [
       "Run: `g++ -std=c++17 -Wall -Werror -fsanitize=address -fno-exceptions -fno-rtti main.cpp -o a.exe`"
      ],
      "text/plain": [
       "<IPython.core.display.Markdown object>"
      ]
     },
     "metadata": {},
     "output_type": "display_data"
    },
    {
     "data": {
      "text/markdown": [
       "Run: `./a.exe`"
      ],
      "text/plain": [
       "<IPython.core.display.Markdown object>"
      ]
     },
     "metadata": {},
     "output_type": "display_data"
    }
   ],
   "source": [
    "%%cpp main.cpp\n",
    "%run g++ -std=c++17 -Wall -Werror -fsanitize=address -fno-exceptions -fno-rtti main.cpp -o a.exe\n",
    "%run ./a.exe \n",
    "\n",
    "#include <stdio.h>\n",
    "#include <stdlib.h>\n",
    "#include <string.h>\n",
    "#include <assert.h>\n",
    "\n",
    "// Больше не нужны typedef\n",
    "struct stack_t {\n",
    "    // Поля такие же\n",
    "    int* a;\n",
    "    int sz;\n",
    "    int max_sz;\n",
    "    \n",
    "    // Декларируем методы\n",
    "    stack_t(); // конструктор\n",
    "    ~stack_t(); // деструктор\n",
    "    void push(int elem);\n",
    "    int top();\n",
    "    void pop();\n",
    "}; \n",
    "\n",
    "\n",
    "// stack_t::stack_t() {\n",
    "//     this->a = nullptr; \n",
    "//     this->sz = 0;\n",
    "//     this->max_sz = 0;\n",
    "// }\n",
    "stack_t::stack_t() {\n",
    "    a = nullptr; \n",
    "    sz = 0;\n",
    "    max_sz = 0;\n",
    "}\n",
    "\n",
    "\n",
    "// stack_t::~stack_t() {\n",
    "//     free(this->a);\n",
    "// }\n",
    "stack_t::~stack_t() {\n",
    "    free(a);\n",
    "}\n",
    "\n",
    "// void stack_t::push(int elem) {\n",
    "//     if (this->sz == this->max_sz) {\n",
    "//         this->max_sz += (this->max_sz == 0);\n",
    "//         this->max_sz *= 2;\n",
    "//         this->a = (int*)realloc(this->a, this->max_sz * sizeof(int));\n",
    "//     }\n",
    "//     this->a[this->sz++] = elem;\n",
    "// }\n",
    "void stack_t::push(int elem) {\n",
    "    if (sz == max_sz) {\n",
    "        max_sz += (max_sz == 0);\n",
    "        max_sz *= 2;\n",
    "        a = (int*)realloc(a, max_sz * sizeof(int));\n",
    "    }\n",
    "    a[sz++] = elem;\n",
    "}\n",
    "\n",
    "// int stack_t::top() {\n",
    "//     return this->a[this->sz - 1];\n",
    "// }\n",
    "int stack_t::top() {\n",
    "    return a[sz - 1];\n",
    "}\n",
    "\n",
    "// void stack_t::pop() {\n",
    "//     --this->sz;\n",
    "// }\n",
    "void stack_t::pop() {\n",
    "    --sz;\n",
    "}\n",
    "\n",
    "int main() {\n",
    "    // variant 1\n",
    "    {\n",
    "        stack_t* s = new stack_t; // stack_t* s = (stack_t*)malloc(sizeof(stack_t));\n",
    "                                  // new ((void*)s) stack_t;  \n",
    "        s->push(123);           \n",
    "        s->push(42);             \n",
    "        assert(s->top() == 42);  \n",
    "        s->pop();                \n",
    "        assert(s->top() == 123);\n",
    "        delete s;                 // s->~stack_t();\n",
    "                                  // free(s);\n",
    "    }\n",
    "    // variant 2\n",
    "    {\n",
    "        stack_t s; // new ((void*)s) stack_t;  \n",
    "        s.push(123);           \n",
    "        s.push(42);             \n",
    "        assert(s.top() == 42);  \n",
    "        s.pop();                \n",
    "        assert(s.top() == 123);\n",
    "        // s->~stack_t(); (at the end of scope)\n",
    "    }\n",
    "    return 0; \n",
    "}"
   ]
  },
  {
   "cell_type": "markdown",
   "metadata": {},
   "source": [
    "3) Ещё подужмем"
   ]
  },
  {
   "cell_type": "code",
   "execution_count": 108,
   "metadata": {},
   "outputs": [
    {
     "data": {
      "text/markdown": [
       "Run: `g++ -std=c++17 -Wall -Werror -fsanitize=address -fno-exceptions -fno-rtti main.cpp -o a.exe`"
      ],
      "text/plain": [
       "<IPython.core.display.Markdown object>"
      ]
     },
     "metadata": {},
     "output_type": "display_data"
    },
    {
     "data": {
      "text/markdown": [
       "Run: `./a.exe`"
      ],
      "text/plain": [
       "<IPython.core.display.Markdown object>"
      ]
     },
     "metadata": {},
     "output_type": "display_data"
    }
   ],
   "source": [
    "%%cpp main.cpp\n",
    "%run g++ -std=c++17 -Wall -Werror -fsanitize=address -fno-exceptions -fno-rtti main.cpp -o a.exe\n",
    "%run ./a.exe \n",
    "\n",
    "#include <stdio.h>\n",
    "#include <stdlib.h>\n",
    "#include <string.h>\n",
    "#include <assert.h>\n",
    "\n",
    "struct stack_t {\n",
    "    int* a;\n",
    "    int sz;\n",
    "    int max_sz;\n",
    "    \n",
    "    stack_t() {\n",
    "        a = nullptr; \n",
    "        sz = 0;\n",
    "        max_sz = 0;\n",
    "    }\n",
    "\n",
    "    ~stack_t() {\n",
    "        free(a);\n",
    "    }\n",
    "    \n",
    "    void push(int elem)  {\n",
    "        if (sz == max_sz) {\n",
    "            max_sz += (max_sz == 0);\n",
    "            max_sz *= 2;\n",
    "            a = (int*)realloc(a, max_sz * sizeof(int));\n",
    "        }\n",
    "        a[sz++] = elem;\n",
    "    }\n",
    "    \n",
    "    int top()  {\n",
    "        return a[sz - 1];\n",
    "    }\n",
    "    \n",
    "    void pop()  {\n",
    "        --sz;\n",
    "    }\n",
    "}; \n",
    "\n",
    "int main() {\n",
    "    stack_t s;  \n",
    "    s.push(123);           \n",
    "    s.push(42);             \n",
    "    assert(s.top() == 42);  \n",
    "    s.pop();                \n",
    "    assert(s.top() == 123);\n",
    "    return 0; \n",
    "}"
   ]
  },
  {
   "cell_type": "markdown",
   "metadata": {},
   "source": [
    "4) Добавим шаблонов"
   ]
  },
  {
   "cell_type": "code",
   "execution_count": 110,
   "metadata": {
    "scrolled": true
   },
   "outputs": [
    {
     "data": {
      "text/markdown": [
       "Run: `g++ -std=c++17 -Wall -Werror -fsanitize=address -fno-exceptions -fno-rtti main.cpp -o a.exe`"
      ],
      "text/plain": [
       "<IPython.core.display.Markdown object>"
      ]
     },
     "metadata": {},
     "output_type": "display_data"
    },
    {
     "data": {
      "text/markdown": [
       "Run: `./a.exe`"
      ],
      "text/plain": [
       "<IPython.core.display.Markdown object>"
      ]
     },
     "metadata": {},
     "output_type": "display_data"
    }
   ],
   "source": [
    "%%cpp main.cpp\n",
    "%run g++ -std=c++17 -Wall -Werror -fsanitize=address -fno-exceptions -fno-rtti main.cpp -o a.exe\n",
    "%run ./a.exe \n",
    "\n",
    "#include <stdio.h>\n",
    "#include <stdlib.h>\n",
    "#include <string.h>\n",
    "#include <assert.h>\n",
    "\n",
    "template <typename T>\n",
    "struct stack_t {\n",
    "    T* a;\n",
    "    int sz;\n",
    "    int max_sz;\n",
    "    \n",
    "    stack_t() {\n",
    "        a = nullptr; \n",
    "        sz = 0;\n",
    "        max_sz = 0;\n",
    "    }\n",
    "\n",
    "    ~stack_t() {\n",
    "        free(a);\n",
    "    }\n",
    "    \n",
    "    void push(T elem)  {\n",
    "        if (sz == max_sz) {\n",
    "            max_sz += (max_sz == 0);\n",
    "            max_sz *= 2;\n",
    "            a = (T*)realloc(a, max_sz * sizeof(T));\n",
    "        }\n",
    "        a[sz++] = elem;\n",
    "    }\n",
    "    \n",
    "    T top()  {\n",
    "        return a[sz - 1];\n",
    "    }\n",
    "    \n",
    "    void pop()  {\n",
    "        --sz;\n",
    "    }\n",
    "}; \n",
    "\n",
    "int main() {\n",
    "    {\n",
    "        stack_t<int> s;  \n",
    "        s.push(123);           \n",
    "        s.push(42);             \n",
    "        assert(s.top() == 42);  \n",
    "        s.pop();                \n",
    "        assert(s.top() == 123);\n",
    "    }\n",
    "    {\n",
    "        stack_t<char> s;  \n",
    "        s.push('A');           \n",
    "        s.push('Z');             \n",
    "        assert(s.top() == 'Z');  \n",
    "        s.pop();                \n",
    "        assert(s.top() == 'A');\n",
    "    }\n",
    "    return 0; \n",
    "}"
   ]
  },
  {
   "cell_type": "code",
   "execution_count": null,
   "metadata": {},
   "outputs": [],
   "source": []
  },
  {
   "cell_type": "code",
   "execution_count": null,
   "metadata": {},
   "outputs": [],
   "source": []
  },
  {
   "cell_type": "markdown",
   "metadata": {},
   "source": [
    "Немного больше о связи С++ и С"
   ]
  },
  {
   "cell_type": "code",
   "execution_count": 111,
   "metadata": {},
   "outputs": [
    {
     "data": {
      "text/markdown": [
       "Run: `g++ -std=c++17 -Wall -Werror -fsanitize=address -fno-exceptions -fno-rtti main.cpp -o a.exe`"
      ],
      "text/plain": [
       "<IPython.core.display.Markdown object>"
      ]
     },
     "metadata": {},
     "output_type": "display_data"
    },
    {
     "data": {
      "text/markdown": [
       "Run: `./a.exe`"
      ],
      "text/plain": [
       "<IPython.core.display.Markdown object>"
      ]
     },
     "metadata": {},
     "output_type": "display_data"
    }
   ],
   "source": [
    "%%cpp main.cpp\n",
    "%run g++ -std=c++17 -Wall -Werror -fsanitize=address -fno-exceptions -fno-rtti main.cpp -o a.exe\n",
    "%run ./a.exe \n",
    "\n",
    "#include <stdio.h>\n",
    "#include <stdlib.h>\n",
    "#include <string.h>\n",
    "#include <assert.h>\n",
    "\n",
    "struct stack_t {\n",
    "    int* a;\n",
    "    int sz;\n",
    "    int max_sz;\n",
    "    \n",
    "    stack_t();\n",
    "    ~stack_t();\n",
    "    void push(int elem);\n",
    "    int top();\n",
    "    void pop();\n",
    "}; \n",
    "\n",
    "// Если упрощенно, то код в этом блоке компилится как сишный, но при этом он связан с окружающим плюсовым\n",
    "extern \"C\" {\n",
    "    void _ZN7stack_tC1Ev(stack_t* s) {\n",
    "        s->a = nullptr; \n",
    "        s->sz = 0;\n",
    "        s->max_sz = 0;\n",
    "    }\n",
    "    \n",
    "    void _ZN7stack_tD1Ev(stack_t* s) {\n",
    "        free(s->a);\n",
    "    }\n",
    "    \n",
    "    void _ZN7stack_t4pushEi(stack_t* s, int elem) {\n",
    "        if (s->sz == s->max_sz) {\n",
    "            s->max_sz += (s->max_sz == 0);\n",
    "            s->max_sz *= 2;\n",
    "            s->a = (int*)realloc(s->a, s->max_sz * sizeof(int));\n",
    "        }\n",
    "        s->a[s->sz++] = elem;\n",
    "    }\n",
    "    void _ZN7stack_t3popEv(stack_t* s) {\n",
    "        --s->sz;\n",
    "    }\n",
    "    int _ZN7stack_t3topEv(stack_t* s) {\n",
    "        return s->a[s->sz - 1];\n",
    "    }\n",
    "}\n",
    "\n",
    "int main() {\n",
    "    stack_t s;  \n",
    "    s.push(123);           \n",
    "    s.push(42);             \n",
    "    assert(s.top() == 42);  \n",
    "    s.pop();                \n",
    "    assert(s.top() == 123);\n",
    "    return 0; \n",
    "}"
   ]
  },
  {
   "cell_type": "code",
   "execution_count": 107,
   "metadata": {},
   "outputs": [
    {
     "name": "stdout",
     "output_type": "stream",
     "text": [
      "00000000000015d2  w    F .text\t00000000000001eb              _ZN7stack_t4pushEi\r\n",
      "000000000000187a  w    F .text\t0000000000000057              _ZN7stack_t3popEv\r\n",
      "00000000000017be  w    F .text\t00000000000000bb              _ZN7stack_t3topEv\r\n",
      "00000000000014ca  w    F .text\t00000000000000c3              _ZN7stack_tC1Ev\r\n",
      "00000000000014ca  w    F .text\t00000000000000c3              _ZN7stack_tC2Ev\r\n",
      "000000000000158e  w    F .text\t0000000000000043              _ZN7stack_tD1Ev\r\n",
      "000000000000158e  w    F .text\t0000000000000043              _ZN7stack_tD2Ev\r\n"
     ]
    }
   ],
   "source": [
    "!objdump -t a.exe | grep stack_t"
   ]
  },
  {
   "cell_type": "code",
   "execution_count": null,
   "metadata": {},
   "outputs": [],
   "source": []
  },
  {
   "cell_type": "code",
   "execution_count": null,
   "metadata": {},
   "outputs": [],
   "source": []
  },
  {
   "cell_type": "code",
   "execution_count": null,
   "metadata": {},
   "outputs": [],
   "source": []
  },
  {
   "cell_type": "markdown",
   "metadata": {},
   "source": [
    "Перегрузка функций"
   ]
  },
  {
   "cell_type": "code",
   "execution_count": null,
   "metadata": {},
   "outputs": [],
   "source": []
  },
  {
   "cell_type": "markdown",
   "metadata": {},
   "source": [
    "Перегрузка арифметических операторов "
   ]
  },
  {
   "cell_type": "code",
   "execution_count": null,
   "metadata": {},
   "outputs": [],
   "source": []
  },
  {
   "cell_type": "markdown",
   "metadata": {},
   "source": [
    "Стандартные контейнеры\n",
    "vector/queue/priority_queue/set/map/unordered_*/"
   ]
  },
  {
   "cell_type": "code",
   "execution_count": null,
   "metadata": {},
   "outputs": [],
   "source": []
  },
  {
   "cell_type": "code",
   "execution_count": null,
   "metadata": {},
   "outputs": [],
   "source": []
  },
  {
   "cell_type": "code",
   "execution_count": null,
   "metadata": {},
   "outputs": [],
   "source": []
  },
  {
   "cell_type": "code",
   "execution_count": null,
   "metadata": {},
   "outputs": [],
   "source": []
  }
 ],
 "metadata": {
  "kernelspec": {
   "display_name": "Python 3",
   "language": "python",
   "name": "python3"
  },
  "language_info": {
   "codemirror_mode": {
    "name": "ipython",
    "version": 3
   },
   "file_extension": ".py",
   "mimetype": "text/x-python",
   "name": "python",
   "nbconvert_exporter": "python",
   "pygments_lexer": "ipython3",
   "version": "3.8.5"
  }
 },
 "nbformat": 4,
 "nbformat_minor": 4
}
