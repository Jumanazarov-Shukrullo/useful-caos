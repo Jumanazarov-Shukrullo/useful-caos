{
 "cells": [
  {
   "cell_type": "code",
   "execution_count": 9,
   "metadata": {},
   "outputs": [
    {
     "data": {
      "application/javascript": [
       "// setup cpp code highlighting\n",
       "IPython.CodeCell.options_default.highlight_modes[\"text/x-c++src\"] = {'reg':[/^%%cpp/]} ;"
      ],
      "text/plain": [
       "<IPython.core.display.Javascript object>"
      ]
     },
     "metadata": {},
     "output_type": "display_data"
    },
    {
     "data": {
      "text/html": [
       "<!-- YANDEX_METRICA_BEGIN -->\n",
       "    <script type=\"text/javascript\" >\n",
       "       (function(m,e,t,r,i,k,a){m[i]=m[i]||function(){(m[i].a=m[i].a||[]).push(arguments)};\n",
       "       m[i].l=1*new Date();k=e.createElement(t),a=e.getElementsByTagName(t)[0],k.async=1,k.src=r,a.parentNode.insertBefore(k,a)})\n",
       "       (window, document, \"script\", \"https://mc.yandex.ru/metrika/tag.js\", \"ym\");\n",
       "\n",
       "       ym(59260609, \"init\", {\n",
       "            clickmap:true,\n",
       "            trackLinks:true,\n",
       "            accurateTrackBounce:true\n",
       "       });\n",
       "    </script>\n",
       "    <noscript><div><img src=\"https://mc.yandex.ru/watch/59260609\" style=\"position:absolute; left:-9999px;\" alt=\"\" /></div></noscript>\n",
       "    <!-- YANDEX_METRICA_END -->"
      ],
      "text/plain": [
       "<IPython.core.display.HTML object>"
      ]
     },
     "metadata": {},
     "output_type": "display_data"
    },
    {
     "data": {
      "text/html": [
       "В этот ноутбук встроен код Яндекс Метрики для сбора статистики использований. Если вы не хотите, чтобы по вам собиралась статистика, исправьте: yandex_metrica_allowed = False<!-- MAGICS_SETUP_PRINTING_END -->"
      ],
      "text/plain": [
       "<IPython.core.display.HTML object>"
      ]
     },
     "metadata": {},
     "output_type": "display_data"
    }
   ],
   "source": [
    "# look at tools/set_up_magics.ipynb\n",
    "yandex_metrica_allowed = True ; get_ipython().run_cell('# one_liner_str\\n\\nget_ipython().run_cell_magic(\\'javascript\\', \\'\\', \\'// setup cpp code highlighting\\\\nIPython.CodeCell.options_default.highlight_modes[\"text/x-c++src\"] = {\\\\\\'reg\\\\\\':[/^%%cpp/]} ;\\')\\n\\n# creating magics\\nfrom IPython.core.magic import register_cell_magic, register_line_magic\\nfrom IPython.display import display, Markdown, HTML\\nimport argparse\\nfrom subprocess import Popen, PIPE\\nimport random\\nimport sys\\nimport os\\nimport re\\nimport signal\\nimport shutil\\nimport shlex\\nimport glob\\n\\n@register_cell_magic\\ndef save_file(args_str, cell, line_comment_start=\"#\"):\\n    parser = argparse.ArgumentParser()\\n    parser.add_argument(\"fname\")\\n    parser.add_argument(\"--ejudge-style\", action=\"store_true\")\\n    args = parser.parse_args(args_str.split())\\n    \\n    cell = cell if cell[-1] == \\'\\\\n\\' or args.no_eof_newline else cell + \"\\\\n\"\\n    cmds = []\\n    with open(args.fname, \"w\") as f:\\n        f.write(line_comment_start + \" %%cpp \" + args_str + \"\\\\n\")\\n        for line in cell.split(\"\\\\n\"):\\n            line_to_write = (line if not args.ejudge_style else line.rstrip()) + \"\\\\n\"\\n            if line.startswith(\"%\"):\\n                run_prefix = \"%run \"\\n                if line.startswith(run_prefix):\\n                    cmds.append(line[len(run_prefix):].strip())\\n                    f.write(line_comment_start + \" \" + line_to_write)\\n                    continue\\n                run_prefix = \"%# \"\\n                if line.startswith(run_prefix):\\n                    f.write(line_comment_start + \" \" + line_to_write)\\n                    continue\\n                raise Exception(\"Unknown %%save_file subcommand: \\'%s\\'\" % line)\\n            else:\\n                f.write(line_to_write)\\n        f.write(\"\" if not args.ejudge_style else line_comment_start + r\" line without \\\\n\")\\n    for cmd in cmds:\\n        display(Markdown(\"Run: `%s`\" % cmd))\\n        get_ipython().system(cmd)\\n\\n@register_cell_magic\\ndef cpp(fname, cell):\\n    save_file(fname, cell, \"//\")\\n\\n@register_cell_magic\\ndef asm(fname, cell):\\n    save_file(fname, cell, \"//\")\\n    \\n@register_cell_magic\\ndef makefile(fname, cell):\\n    assert not fname\\n    save_file(\"makefile\", cell.replace(\" \" * 4, \"\\\\t\"))\\n        \\n@register_line_magic\\ndef p(line):\\n    try:\\n        expr, comment = line.split(\" #\")\\n        display(Markdown(\"`{} = {}`  # {}\".format(expr.strip(), eval(expr), comment.strip())))\\n    except:\\n        display(Markdown(\"{} = {}\".format(line, eval(line))))\\n        \\ndef show_file(file, clear_at_begin=True, return_html_string=False):\\n    if clear_at_begin:\\n        get_ipython().system(\"truncate --size 0 \" + file)\\n    obj = file.replace(\\'.\\', \\'_\\').replace(\\'/\\', \\'_\\') + \"_obj\"\\n    html_string = \\'\\'\\'\\n        <!--MD_BEGIN_FILTER-->\\n        <script type=text/javascript>\\n        var entrance___OBJ__ = 0;\\n        var errors___OBJ__ = 0;\\n        function refresh__OBJ__()\\n        {\\n            entrance___OBJ__ -= 1;\\n            var elem = document.getElementById(\"__OBJ__\");\\n            if (elem) {\\n                var xmlhttp=new XMLHttpRequest();\\n                xmlhttp.onreadystatechange=function()\\n                {\\n                    var elem = document.getElementById(\"__OBJ__\");\\n                    console.log(!!elem, xmlhttp.readyState, xmlhttp.status, entrance___OBJ__);\\n                    if (elem && xmlhttp.readyState==4) {\\n                        if (xmlhttp.status==200)\\n                        {\\n                            errors___OBJ__ = 0;\\n                            if (!entrance___OBJ__) {\\n                                elem.innerText = xmlhttp.responseText;\\n                                entrance___OBJ__ += 1;\\n                                console.log(\"req\");\\n                                window.setTimeout(\"refresh__OBJ__()\", 300); \\n                            }\\n                            return xmlhttp.responseText;\\n                        } else {\\n                            errors___OBJ__ += 1;\\n                            if (errors___OBJ__ < 10 && !entrance___OBJ__) {\\n                                entrance___OBJ__ += 1;\\n                                console.log(\"req\");\\n                                window.setTimeout(\"refresh__OBJ__()\", 300); \\n                            }\\n                        }\\n                    }\\n                }\\n                xmlhttp.open(\"GET\", \"__FILE__\", true);\\n                xmlhttp.setRequestHeader(\"Cache-Control\", \"no-cache\");\\n                xmlhttp.send();     \\n            }\\n        }\\n        \\n        if (!entrance___OBJ__) {\\n            entrance___OBJ__ += 1;\\n            refresh__OBJ__(); \\n        }\\n        </script>\\n        \\n        <font color=\"white\"> <tt>\\n        <p id=\"__OBJ__\" style=\"font-size: 16px; border:3px #333333 solid; background: #333333; border-radius: 10px; padding: 10px;  \"></p>\\n        </tt> </font>\\n        <!--MD_END_FILTER-->\\n        <!--MD_FROM_FILE __FILE__ -->\\n        \\'\\'\\'.replace(\"__OBJ__\", obj).replace(\"__FILE__\", file)\\n    if return_html_string:\\n        return html_string\\n    display(HTML(html_string))\\n    \\nBASH_POPEN_TMP_DIR = \"./bash_popen_tmp\"\\n    \\ndef bash_popen_terminate_all():\\n    for p in globals().get(\"bash_popen_list\", []):\\n        print(\"Terminate pid=\" + str(p.pid), file=sys.stderr)\\n        p.terminate()\\n    globals()[\"bash_popen_list\"] = []\\n    if os.path.exists(BASH_POPEN_TMP_DIR):\\n        shutil.rmtree(BASH_POPEN_TMP_DIR)\\n\\nbash_popen_terminate_all()  \\n\\ndef bash_popen(cmd):\\n    if not os.path.exists(BASH_POPEN_TMP_DIR):\\n        os.mkdir(BASH_POPEN_TMP_DIR)\\n    h = os.path.join(BASH_POPEN_TMP_DIR, str(random.randint(0, 1e18)))\\n    stdout_file = h + \".out.html\"\\n    stderr_file = h + \".err.html\"\\n    run_log_file = h + \".fin.html\"\\n    \\n    stdout = open(stdout_file, \"wb\")\\n    stdout = open(stderr_file, \"wb\")\\n    \\n    html = \"\"\"\\n    <table width=\"100%\">\\n    <colgroup>\\n       <col span=\"1\" style=\"width: 70px;\">\\n       <col span=\"1\">\\n    </colgroup>    \\n    <tbody>\\n      <tr> <td><b>STDOUT</b></td> <td> {stdout} </td> </tr>\\n      <tr> <td><b>STDERR</b></td> <td> {stderr} </td> </tr>\\n      <tr> <td><b>RUN LOG</b></td> <td> {run_log} </td> </tr>\\n    </tbody>\\n    </table>\\n    \"\"\".format(\\n        stdout=show_file(stdout_file, return_html_string=True),\\n        stderr=show_file(stderr_file, return_html_string=True),\\n        run_log=show_file(run_log_file, return_html_string=True),\\n    )\\n    \\n    cmd = \"\"\"\\n        bash -c {cmd} &\\n        pid=$!\\n        echo \"Process started! pid=${{pid}}\" > {run_log_file}\\n        wait ${{pid}}\\n        echo \"Process finished! exit_code=$?\" >> {run_log_file}\\n    \"\"\".format(cmd=shlex.quote(cmd), run_log_file=run_log_file)\\n    # print(cmd)\\n    display(HTML(html))\\n    \\n    p = Popen([\"bash\", \"-c\", cmd], stdin=PIPE, stdout=stdout, stderr=stdout)\\n    \\n    bash_popen_list.append(p)\\n    return p\\n\\n\\n@register_line_magic\\ndef bash_async(line):\\n    bash_popen(line)\\n    \\n    \\ndef show_log_file(file, return_html_string=False):\\n    obj = file.replace(\\'.\\', \\'_\\').replace(\\'/\\', \\'_\\') + \"_obj\"\\n    html_string = \\'\\'\\'\\n        <!--MD_BEGIN_FILTER-->\\n        <script type=text/javascript>\\n        var entrance___OBJ__ = 0;\\n        var errors___OBJ__ = 0;\\n        function halt__OBJ__(elem, color)\\n        {\\n            elem.setAttribute(\"style\", \"font-size: 14px; background: \" + color + \"; padding: 10px; border: 3px; border-radius: 5px; color: white; \");                    \\n        }\\n        function refresh__OBJ__()\\n        {\\n            entrance___OBJ__ -= 1;\\n            if (entrance___OBJ__ < 0) {\\n                entrance___OBJ__ = 0;\\n            }\\n            var elem = document.getElementById(\"__OBJ__\");\\n            if (elem) {\\n                var xmlhttp=new XMLHttpRequest();\\n                xmlhttp.onreadystatechange=function()\\n                {\\n                    var elem = document.getElementById(\"__OBJ__\");\\n                    console.log(!!elem, xmlhttp.readyState, xmlhttp.status, entrance___OBJ__);\\n                    if (elem && xmlhttp.readyState==4) {\\n                        if (xmlhttp.status==200)\\n                        {\\n                            errors___OBJ__ = 0;\\n                            if (!entrance___OBJ__) {\\n                                if (elem.innerHTML != xmlhttp.responseText) {\\n                                    elem.innerHTML = xmlhttp.responseText;\\n                                }\\n                                if (elem.innerHTML.includes(\"Process finished.\")) {\\n                                    halt__OBJ__(elem, \"#333333\");\\n                                } else {\\n                                    entrance___OBJ__ += 1;\\n                                    console.log(\"req\");\\n                                    window.setTimeout(\"refresh__OBJ__()\", 300); \\n                                }\\n                            }\\n                            return xmlhttp.responseText;\\n                        } else {\\n                            errors___OBJ__ += 1;\\n                            if (!entrance___OBJ__) {\\n                                if (errors___OBJ__ < 6) {\\n                                    entrance___OBJ__ += 1;\\n                                    console.log(\"req\");\\n                                    window.setTimeout(\"refresh__OBJ__()\", 300); \\n                                } else {\\n                                    halt__OBJ__(elem, \"#994444\");\\n                                }\\n                            }\\n                        }\\n                    }\\n                }\\n                xmlhttp.open(\"GET\", \"__FILE__\", true);\\n                xmlhttp.setRequestHeader(\"Cache-Control\", \"no-cache\");\\n                xmlhttp.send();     \\n            }\\n        }\\n        \\n        if (!entrance___OBJ__) {\\n            entrance___OBJ__ += 1;\\n            refresh__OBJ__(); \\n        }\\n        </script>\\n\\n        <p id=\"__OBJ__\" style=\"font-size: 14px; background: #000000; padding: 10px; border: 3px; border-radius: 5px; color: white; \">\\n        </p>\\n        \\n        </font>\\n        <!--MD_END_FILTER-->\\n        <!--MD_FROM_FILE __FILE__.md -->\\n        \\'\\'\\'.replace(\"__OBJ__\", obj).replace(\"__FILE__\", file)\\n    if return_html_string:\\n        return html_string\\n    display(HTML(html_string))\\n\\n    \\nclass TInteractiveLauncher:\\n    tmp_path = \"./interactive_launcher_tmp\"\\n    def __init__(self, cmd):\\n        try:\\n            os.mkdir(TInteractiveLauncher.tmp_path)\\n        except:\\n            pass\\n        name = str(random.randint(0, 1e18))\\n        self.inq_path = os.path.join(TInteractiveLauncher.tmp_path, name + \".inq\")\\n        self.log_path = os.path.join(TInteractiveLauncher.tmp_path, name + \".log\")\\n        \\n        os.mkfifo(self.inq_path)\\n        open(self.log_path, \\'w\\').close()\\n        open(self.log_path + \".md\", \\'w\\').close()\\n\\n        self.pid = os.fork()\\n        if self.pid == -1:\\n            print(\"Error\")\\n        if self.pid == 0:\\n            exe_cands = glob.glob(\"../tools/launcher.py\") + glob.glob(\"../../tools/launcher.py\")\\n            assert(len(exe_cands) == 1)\\n            assert(os.execvp(\"python3\", [\"python3\", exe_cands[0], \"-l\", self.log_path, \"-i\", self.inq_path, \"-c\", cmd]) == 0)\\n        self.inq_f = open(self.inq_path, \"w\")\\n        interactive_launcher_opened_set.add(self.pid)\\n        show_log_file(self.log_path)\\n\\n    def write(self, s):\\n        s = s.encode()\\n        assert len(s) == os.write(self.inq_f.fileno(), s)\\n        \\n    def get_pid(self):\\n        n = 100\\n        for i in range(n):\\n            try:\\n                return int(re.findall(r\"PID = (\\\\d+)\", open(self.log_path).readline())[0])\\n            except:\\n                if i + 1 == n:\\n                    raise\\n                time.sleep(0.1)\\n        \\n    def input_queue_path(self):\\n        return self.inq_path\\n        \\n    def close(self):\\n        self.inq_f.close()\\n        os.waitpid(self.pid, 0)\\n        os.remove(self.inq_path)\\n        # os.remove(self.log_path)\\n        self.inq_path = None\\n        self.log_path = None \\n        interactive_launcher_opened_set.remove(self.pid)\\n        self.pid = None\\n        \\n    @staticmethod\\n    def terminate_all():\\n        if \"interactive_launcher_opened_set\" not in globals():\\n            globals()[\"interactive_launcher_opened_set\"] = set()\\n        global interactive_launcher_opened_set\\n        for pid in interactive_launcher_opened_set:\\n            print(\"Terminate pid=\" + str(pid), file=sys.stderr)\\n            os.kill(pid, signal.SIGKILL)\\n            os.waitpid(pid, 0)\\n        interactive_launcher_opened_set = set()\\n        if os.path.exists(TInteractiveLauncher.tmp_path):\\n            shutil.rmtree(TInteractiveLauncher.tmp_path)\\n    \\nTInteractiveLauncher.terminate_all()\\n   \\nyandex_metrica_allowed = bool(globals().get(\"yandex_metrica_allowed\", False))\\nif yandex_metrica_allowed:\\n    display(HTML(\\'\\'\\'<!-- YANDEX_METRICA_BEGIN -->\\n    <script type=\"text/javascript\" >\\n       (function(m,e,t,r,i,k,a){m[i]=m[i]||function(){(m[i].a=m[i].a||[]).push(arguments)};\\n       m[i].l=1*new Date();k=e.createElement(t),a=e.getElementsByTagName(t)[0],k.async=1,k.src=r,a.parentNode.insertBefore(k,a)})\\n       (window, document, \"script\", \"https://mc.yandex.ru/metrika/tag.js\", \"ym\");\\n\\n       ym(59260609, \"init\", {\\n            clickmap:true,\\n            trackLinks:true,\\n            accurateTrackBounce:true\\n       });\\n    </script>\\n    <noscript><div><img src=\"https://mc.yandex.ru/watch/59260609\" style=\"position:absolute; left:-9999px;\" alt=\"\" /></div></noscript>\\n    <!-- YANDEX_METRICA_END -->\\'\\'\\'))\\n\\ndef make_oneliner():\\n    html_text = \\'(\"В этот ноутбук встроен код Яндекс Метрики для сбора статистики использований. Если вы не хотите, чтобы по вам собиралась статистика, исправьте: yandex_metrica_allowed = False\" if yandex_metrica_allowed else \"\")\\'\\n    html_text += \\' + \"<\"\"!-- MAGICS_SETUP_PRINTING_END -->\"\\'\\n    return \\'\\'.join([\\n        \\'# look at tools/set_up_magics.ipynb\\\\n\\',\\n        \\'yandex_metrica_allowed = True ; get_ipython().run_cell(%s);\\' % repr(one_liner_str),\\n        \\'display(HTML(%s))\\' % html_text,\\n        \\' #\\'\\'MAGICS_SETUP_END\\'\\n    ])\\n       \\n\\n');display(HTML((\"В этот ноутбук встроен код Яндекс Метрики для сбора статистики использований. Если вы не хотите, чтобы по вам собиралась статистика, исправьте: yandex_metrica_allowed = False\" if yandex_metrica_allowed else \"\") + \"<\"\"!-- MAGICS_SETUP_PRINTING_END -->\")) #MAGICS_SETUP_END"
   ]
  },
  {
   "cell_type": "markdown",
   "metadata": {},
   "source": [
    "# Инструментирование в linux и mmap\n",
    "\n",
    "<p><a href=\"https://www.youtube.com/???\" target=\"_blank\">\n",
    "    <h3>Видеозапись семинара</h3>\n",
    "</a></p>\n",
    "\n",
    "\n",
    "[Ридинг Яковлева](https://github.com/victor-yacovlev/mipt-diht-caos/tree/master/practice/mmap) \n",
    "\n",
    "\n",
    "Сегодня в программе:\n",
    "* <a href=\"#instr\" style=\"color:#856024\"> Инструментирование </a>  \n",
    "  * <a href=\"#asan\" style=\"color:#856024\"> ASAN: Обнаружение проездов по памяти </a>  \n",
    "  * <a href=\"#asan_gdb\" style=\"color:#856024\"> ASAN+GDB: Обнаружение проездов по памяти </a>  \n",
    "  * <a href=\"#gdb\" style=\"color:#856024\"> GDB: Обнаружение проездов по памяти </a>  \n",
    "  * <a href=\"#valgrind\" style=\"color:#856024\"> VALGRIND: Обнаружение проездов по памяти </a>  \n",
    "  * <a href=\"#valgrind_leak\" style=\"color:#856024\"> VALGRIND: Обнаружение утечек памяти </a>  \n",
    "  * <a href=\"#asan_leak\" style=\"color:#856024\"> ASAN: Обнаружение утечек памяти </a>  \n",
    "  * <a href=\"#strace\" style=\"color:#856024\"> STRACE: Отладка системных вызовов </a>  \n",
    "  * <a href=\"#perf\" style=\"color:#856024\"> PERF: CPU профайлинг </a>  \n",
    "  * <a href=\"#ubsan\" style=\"color:#856024\"> UBSAN: Поиск UB </a>  \n",
    "* <a href=\"#mmap\" style=\"color:#856024\"> MMAP </a>  \n",
    "* <a href=\"#hw\" style=\"color:#856024\"> Комментарии к ДЗ </a>  \n",
    "\n",
    "\n",
    "\n"
   ]
  },
  {
   "cell_type": "markdown",
   "metadata": {},
   "source": [
    "## <a name=\"instr\"></a> Инструментирование\n",
    "\n",
    "Что это такое? Можно считать, что отладка. Получение информации о работающей программе и вмешательство в ее работу. Или не о программе, а о ядре системы. Известный вам пример - gdb.\n",
    "\n",
    "Инструментарий для отладки\n",
    "* Статический - прям в коде: счетчики, метрики (пример: санитайзеры)\n",
    "  * Оверхед\n",
    "  * Занимают место в коде\n",
    "  * Много может, так как имеет много возможностей\n",
    "  \n",
    "* Динамический - над кодом (примеры: gdb, strace, valgrind, perf, [eBPF](https://habr.com/ru/post/435142/))\n",
    "  * Динамически можно выбирать, на что смотреть\n",
    "  * ...\n",
    "\n",
    "Разные подходы к инструментированию:\n",
    "* Трейсинг - обрабатывать события. (пример: strace)\n",
    "* Семплинг - условно смотреть состояние системы 100 раз в секунду. (пример: perf)"
   ]
  },
  {
   "cell_type": "markdown",
   "metadata": {},
   "source": [
    "### <a name=\"asan\"></a> ASAN: Примеры использования address-санитайзера для обнаружения проезда по памяти"
   ]
  },
  {
   "cell_type": "code",
   "execution_count": 35,
   "metadata": {},
   "outputs": [],
   "source": [
    "%%cpp segfault.cpp\n",
    "\n",
    "#include<stdio.h>\n",
    "\n",
    "int main() {\n",
    "    int a[2];\n",
    "    printf(\"%d\\n\", a[100500]); // проезд по памяти\n",
    "}"
   ]
  },
  {
   "cell_type": "code",
   "execution_count": 36,
   "metadata": {},
   "outputs": [
    {
     "name": "stdout",
     "output_type": "stream",
     "text": [
      "Segmentation fault (core dumped)\r\n"
     ]
    }
   ],
   "source": [
    "# компилируем и запускаем как обычно\n",
    "!gcc segfault.cpp -o segfault.exe\n",
    "!./segfault.exe"
   ]
  },
  {
   "cell_type": "code",
   "execution_count": 37,
   "metadata": {
    "scrolled": true
   },
   "outputs": [
    {
     "name": "stdout",
     "output_type": "stream",
     "text": [
      "AddressSanitizer:DEADLYSIGNAL\r\n",
      "=================================================================\r\n",
      "\u001b[1m\u001b[31m==77364==ERROR: AddressSanitizer: SEGV on unknown address 0x7fffe8a47f10 (pc 0x559a021a72e4 bp 0x7fffe89e5d20 sp 0x7fffe89e5ca0 T0)\r\n",
      "\u001b[1m\u001b[0m==77364==The signal is caused by a READ memory access.\r\n",
      "    #0 0x559a021a72e3 in main (/home/pechatnov/vbox/caos/sem12-mmap-instrumentation/segfault.exe+0x12e3)\r\n",
      "    #1 0x7f5c477930b2 in __libc_start_main (/lib/x86_64-linux-gnu/libc.so.6+0x270b2)\r\n",
      "    #2 0x559a021a716d in _start (/home/pechatnov/vbox/caos/sem12-mmap-instrumentation/segfault.exe+0x116d)\r\n",
      "\r\n",
      "AddressSanitizer can not provide additional info.\r\n",
      "SUMMARY: AddressSanitizer: SEGV (/home/pechatnov/vbox/caos/sem12-mmap-instrumentation/segfault.exe+0x12e3) in main\r\n",
      "==77364==ABORTING\r\n"
     ]
    }
   ],
   "source": [
    "# компилируем с санитайзером и запускаем как обычно (семинарист рекомендует)\n",
    "!gcc -fsanitize=address segfault.cpp -o segfault.exe\n",
    "!./segfault.exe"
   ]
  },
  {
   "cell_type": "markdown",
   "metadata": {},
   "source": [
    "### <a name=\"asan_gdb\"></a> ASAN+GDB: Обнаружение проезда по памяти с address-санитайзера скомбинированного с запуском под GDB"
   ]
  },
  {
   "cell_type": "code",
   "execution_count": 38,
   "metadata": {},
   "outputs": [
    {
     "name": "stdout",
     "output_type": "stream",
     "text": [
      "[Thread debugging using libthread_db enabled]\n",
      "Using host libthread_db library \"/lib/x86_64-linux-gnu/libthread_db.so.1\".\n",
      "\n",
      "Program received signal SIGSEGV, Segmentation fault.\n",
      "0x00005555555552c8 in main () at segfault.cpp:7\n",
      "7\t    printf(\"%d\\n\", a[100500]); // проезд по памяти\n"
     ]
    }
   ],
   "source": [
    "# комбинируем санитайзер и gdb (это семинарист рекомендует, если вы хотите больше подробностей)\n",
    "# по идее это должно находить больше косяков, чем вариант в следующей ячейке\n",
    "!gcc -g -fsanitize=address segfault.cpp -o segfault.exe\n",
    "!gdb -ex=r -batch --args ./segfault.exe"
   ]
  },
  {
   "cell_type": "markdown",
   "metadata": {},
   "source": [
    "### <a name=\"gdb\"></a> GDB: Обнаружение проезда по памяти с помощью GDB"
   ]
  },
  {
   "cell_type": "code",
   "execution_count": 39,
   "metadata": {
    "scrolled": false
   },
   "outputs": [
    {
     "name": "stdout",
     "output_type": "stream",
     "text": [
      "\r\n",
      "Program received signal SIGBUS, Bus error.\r\n",
      "main () at segfault.cpp:7\r\n",
      "7\t    printf(\"%d\\n\", a[100500]); // проезд по памяти\r\n"
     ]
    }
   ],
   "source": [
    "# компилируем с отладочной информацией и запускаем под gdb\n",
    "!gcc -g segfault.cpp -o segfault.exe\n",
    "!gdb -ex=r -batch --args ./segfault.exe"
   ]
  },
  {
   "cell_type": "markdown",
   "metadata": {},
   "source": [
    "### <a name=\"valgrind\"></a> VALGRIND: Обнаружение проезда по памяти с помощью valgrind"
   ]
  },
  {
   "cell_type": "code",
   "execution_count": 40,
   "metadata": {
    "scrolled": true
   },
   "outputs": [
    {
     "name": "stdout",
     "output_type": "stream",
     "text": [
      "==77398== Memcheck, a memory error detector\n",
      "==77398== Copyright (C) 2002-2017, and GNU GPL'd, by Julian Seward et al.\n",
      "==77398== Using Valgrind-3.15.0 and LibVEX; rerun with -h for copyright info\n",
      "==77398== Command: ./segfault.exe\n",
      "==77398== \n",
      "==77398== Invalid read of size 4\n",
      "==77398==    at 0x109184: main (in /home/pechatnov/vbox/caos/sem12-mmap-instrumentation/segfault.exe)\n",
      "==77398==  Address 0x1fff061f20 is not stack'd, malloc'd or (recently) free'd\n",
      "Segmentation fault (core dumped)\n"
     ]
    }
   ],
   "source": [
    "# компилируем как обычно и запускаем с valgrind\n",
    "!gcc segfault.cpp -o segfault.exe\n",
    "!valgrind --tool=memcheck ./segfault.exe 2>&1 | head -n 8 # берем только первые 8 строк выхлопа, а то там много"
   ]
  },
  {
   "cell_type": "markdown",
   "metadata": {},
   "source": [
    "### <a name=\"valgrind_leak\"></a> VALGRIND: Обнаружение утечек памяти с помощью valgrind"
   ]
  },
  {
   "cell_type": "code",
   "execution_count": 41,
   "metadata": {},
   "outputs": [],
   "source": [
    "%%cpp memory_leak.cpp\n",
    "\n",
    "#include<stdlib.h>\n",
    "\n",
    "int main() {\n",
    "    malloc(16);\n",
    "}"
   ]
  },
  {
   "cell_type": "code",
   "execution_count": 42,
   "metadata": {
    "scrolled": true
   },
   "outputs": [
    {
     "name": "stdout",
     "output_type": "stream",
     "text": [
      "==77416== Memcheck, a memory error detector\n",
      "==77416== Copyright (C) 2002-2017, and GNU GPL'd, by Julian Seward et al.\n",
      "==77416== Using Valgrind-3.15.0 and LibVEX; rerun with -h for copyright info\n",
      "==77416== Command: ./memory_leak.exe\n",
      "==77416== \n",
      "==77416== \n",
      "==77416== HEAP SUMMARY:\n",
      "==77416==     in use at exit: 16 bytes in 1 blocks\n",
      "==77416==   total heap usage: 1 allocs, 0 frees, 16 bytes allocated\n",
      "==77416== \n",
      "==77416== 16 bytes in 1 blocks are definitely lost in loss record 1 of 1\n",
      "==77416==    at 0x483B7F3: malloc (in /usr/lib/x86_64-linux-gnu/valgrind/vgpreload_memcheck-amd64-linux.so)\n",
      "==77416==    by 0x10915A: main (in /home/pechatnov/vbox/caos/sem12-mmap-instrumentation/memory_leak.exe)\n",
      "==77416== \n",
      "==77416== LEAK SUMMARY:\n",
      "==77416==    definitely lost: 16 bytes in 1 blocks\n",
      "==77416==    indirectly lost: 0 bytes in 0 blocks\n",
      "==77416==      possibly lost: 0 bytes in 0 blocks\n",
      "==77416==    still reachable: 0 bytes in 0 blocks\n",
      "==77416==         suppressed: 0 bytes in 0 blocks\n",
      "==77416== \n",
      "==77416== For lists of detected and suppressed errors, rerun with: -s\n",
      "==77416== ERROR SUMMARY: 1 errors from 1 contexts (suppressed: 0 from 0)\n"
     ]
    }
   ],
   "source": [
    "# компилируем как обычно и запускаем с valgrind\n",
    "!gcc memory_leak.cpp -o memory_leak.exe\n",
    "!valgrind --tool=memcheck --leak-check=full ./memory_leak.exe 2>&1 "
   ]
  },
  {
   "cell_type": "markdown",
   "metadata": {},
   "source": [
    "### <a name=\"asan_leak\"></a> ASAN: Обнаружение утечек памяти с помощью address-санитайзера"
   ]
  },
  {
   "cell_type": "code",
   "execution_count": 43,
   "metadata": {},
   "outputs": [
    {
     "name": "stdout",
     "output_type": "stream",
     "text": [
      "\r\n",
      "=================================================================\r\n",
      "\u001b[1m\u001b[31m==77424==ERROR: LeakSanitizer: detected memory leaks\r\n",
      "\u001b[1m\u001b[0m\r\n",
      "\u001b[1m\u001b[34mDirect leak of 16 byte(s) in 1 object(s) allocated from:\r\n",
      "\u001b[1m\u001b[0m    #0 0x7f02562b3bc8 in malloc (/lib/x86_64-linux-gnu/libasan.so.5+0x10dbc8)\r\n",
      "    #1 0x560f1261219a in main (/home/pechatnov/vbox/caos/sem12-mmap-instrumentation/memory_leak.exe+0x119a)\r\n",
      "    #2 0x7f0255fdb0b2 in __libc_start_main (/lib/x86_64-linux-gnu/libc.so.6+0x270b2)\r\n",
      "\r\n",
      "SUMMARY: AddressSanitizer: 16 byte(s) leaked in 1 allocation(s).\r\n"
     ]
    }
   ],
   "source": [
    "# компилируем с санитайзером и запускаем как обычно\n",
    "!gcc -fsanitize=address memory_leak.cpp -o memory_leak.exe\n",
    "!./memory_leak.exe"
   ]
  },
  {
   "cell_type": "markdown",
   "metadata": {},
   "source": [
    "### <a name=\"strace\"></a> STRACE: Отладка системных вызовов с помощью strace"
   ]
  },
  {
   "cell_type": "code",
   "execution_count": 44,
   "metadata": {},
   "outputs": [],
   "source": [
    "%%cpp printing.cpp\n",
    "\n",
    "#include<stdio.h>\n",
    "\n",
    "int main() {\n",
    "    printf(\"Hello, world!\");\n",
    "}"
   ]
  },
  {
   "cell_type": "code",
   "execution_count": 45,
   "metadata": {},
   "outputs": [
    {
     "name": "stdout",
     "output_type": "stream",
     "text": [
      "execve(\"./printing.exe\", [\"./printing.exe\"], 0x7fff82b306b0 /* 66 vars */) = 0\n",
      "brk(NULL)                               = 0x55fb0c777000\n",
      "arch_prctl(0x3001 /* ARCH_??? */, 0x7ffd135c9ad0) = -1 EINVAL (Invalid argument)\n",
      "access(\"/etc/ld.so.preload\", R_OK)      = -1 ENOENT (No such file or directory)\n",
      "openat(AT_FDCWD, \"/etc/ld.so.cache\", O_RDONLY|O_CLOEXEC) = 3\n",
      "fstat(3, {st_mode=S_IFREG|0644, st_size=103517, ...}) = 0\n",
      "mmap(NULL, 103517, PROT_READ, MAP_PRIVATE, 3, 0) = 0x7f7aa987c000\n",
      "close(3)                                = 0\n",
      "openat(AT_FDCWD, \"/lib/x86_64-linux-gnu/libc.so.6\", O_RDONLY|O_CLOEXEC) = 3\n",
      "read(3, \"\\177ELF\\2\\1\\1\\3\\0\\0\\0\\0\\0\\0\\0\\0\\3\\0>\\0\\1\\0\\0\\0\\360q\\2\\0\\0\\0\\0\\0\"..., 832) = 832\n",
      "pread64(3, \"\\6\\0\\0\\0\\4\\0\\0\\0@\\0\\0\\0\\0\\0\\0\\0@\\0\\0\\0\\0\\0\\0\\0@\\0\\0\\0\\0\\0\\0\\0\"..., 784, 64) = 784\n",
      "pread64(3, \"\\4\\0\\0\\0\\20\\0\\0\\0\\5\\0\\0\\0GNU\\0\\2\\0\\0\\300\\4\\0\\0\\0\\3\\0\\0\\0\\0\\0\\0\\0\", 32, 848) = 32\n",
      "pread64(3, \"\\4\\0\\0\\0\\24\\0\\0\\0\\3\\0\\0\\0GNU\\0cBR\\340\\305\\370\\2609W\\242\\345)q\\235A\\1\"..., 68, 880) = 68\n",
      "fstat(3, {st_mode=S_IFREG|0755, st_size=2029224, ...}) = 0\n",
      "mmap(NULL, 8192, PROT_READ|PROT_WRITE, MAP_PRIVATE|MAP_ANONYMOUS, -1, 0) = 0x7f7aa987a000\n",
      "pread64(3, \"\\6\\0\\0\\0\\4\\0\\0\\0@\\0\\0\\0\\0\\0\\0\\0@\\0\\0\\0\\0\\0\\0\\0@\\0\\0\\0\\0\\0\\0\\0\"..., 784, 64) = 784\n",
      "pread64(3, \"\\4\\0\\0\\0\\20\\0\\0\\0\\5\\0\\0\\0GNU\\0\\2\\0\\0\\300\\4\\0\\0\\0\\3\\0\\0\\0\\0\\0\\0\\0\", 32, 848) = 32\n",
      "pread64(3, \"\\4\\0\\0\\0\\24\\0\\0\\0\\3\\0\\0\\0GNU\\0cBR\\340\\305\\370\\2609W\\242\\345)q\\235A\\1\"..., 68, 880) = 68\n",
      "mmap(NULL, 2036952, PROT_READ, MAP_PRIVATE|MAP_DENYWRITE, 3, 0) = 0x7f7aa9688000\n",
      "mprotect(0x7f7aa96ad000, 1847296, PROT_NONE) = 0\n",
      "mmap(0x7f7aa96ad000, 1540096, PROT_READ|PROT_EXEC, MAP_PRIVATE|MAP_FIXED|MAP_DENYWRITE, 3, 0x25000) = 0x7f7aa96ad000\n",
      "mmap(0x7f7aa9825000, 303104, PROT_READ, MAP_PRIVATE|MAP_FIXED|MAP_DENYWRITE, 3, 0x19d000) = 0x7f7aa9825000\n",
      "mmap(0x7f7aa9870000, 24576, PROT_READ|PROT_WRITE, MAP_PRIVATE|MAP_FIXED|MAP_DENYWRITE, 3, 0x1e7000) = 0x7f7aa9870000\n",
      "mmap(0x7f7aa9876000, 13528, PROT_READ|PROT_WRITE, MAP_PRIVATE|MAP_FIXED|MAP_ANONYMOUS, -1, 0) = 0x7f7aa9876000\n",
      "close(3)                                = 0\n",
      "arch_prctl(ARCH_SET_FS, 0x7f7aa987b540) = 0\n",
      "mprotect(0x7f7aa9870000, 12288, PROT_READ) = 0\n",
      "mprotect(0x55fb0b380000, 4096, PROT_READ) = 0\n",
      "mprotect(0x7f7aa98c3000, 4096, PROT_READ) = 0\n",
      "munmap(0x7f7aa987c000, 103517)          = 0\n",
      "fstat(1, {st_mode=S_IFREG|0664, st_size=0, ...}) = 0\n",
      "brk(NULL)                               = 0x55fb0c777000\n",
      "brk(0x55fb0c798000)                     = 0x55fb0c798000\n",
      "write(1, \"Hello, world!\", 13)           = 13\n",
      "exit_group(0)                           = ?\n",
      "+++ exited with 0 +++\n",
      "Program output:\n",
      "Hello, world!"
     ]
    }
   ],
   "source": [
    "# компилируем как обычно и запускаем с strace\n",
    "!gcc printing.cpp -o printing.exe\n",
    "!strace ./printing.exe > out.txt\n",
    "!echo \"Program output:\"\n",
    "!cat out.txt"
   ]
  },
  {
   "cell_type": "code",
   "execution_count": 46,
   "metadata": {},
   "outputs": [],
   "source": [
    "%%asm printing_asm.S\n",
    "    .intel_syntax noprefix\n",
    "    .text\n",
    "    .global _start\n",
    "_start:\n",
    "    mov eax, 4\n",
    "    mov ebx, 1\n",
    "    mov ecx, hello_world_ptr\n",
    "    mov edx, 14\n",
    "    int 0x80\n",
    "\n",
    "    mov eax, 1\n",
    "    mov ebx, 1\n",
    "    int 0x80\n",
    "\n",
    "    .data\n",
    "hello_world:\n",
    "    .string \"Hello, World!\\n\"\n",
    "hello_world_ptr:\n",
    "    .long hello_world"
   ]
  },
  {
   "cell_type": "code",
   "execution_count": 47,
   "metadata": {
    "scrolled": true
   },
   "outputs": [
    {
     "name": "stdout",
     "output_type": "stream",
     "text": [
      "execve(\"./printing_asm.exe\", [\"./printing_asm.exe\"], 0x7fff8bebc350 /* 66 vars */) = 0\n",
      "strace: [ Process PID=77450 runs in 32 bit mode. ]\n",
      "brk(NULL)                               = 0x56fa2000\n",
      "arch_prctl(0x3001 /* ARCH_??? */, 0xffd81af8) = -1 EINVAL (Invalid argument)\n",
      "access(\"/etc/ld.so.nohwcap\", F_OK)      = -1 ENOENT (No such file or directory)\n",
      "mmap2(NULL, 8192, PROT_READ|PROT_WRITE, MAP_PRIVATE|MAP_ANONYMOUS, -1, 0) = 0xf7ed3000\n",
      "access(\"/etc/ld.so.preload\", R_OK)      = -1 ENOENT (No such file or directory)\n",
      "set_thread_area({entry_number=-1, base_addr=0xf7ed39c0, limit=0x0fffff, seg_32bit=1, contents=0, read_exec_only=0, limit_in_pages=1, seg_not_present=0, useable=1}) = 0 (entry_number=12)\n",
      "mprotect(0x5663a000, 4096, PROT_READ|PROT_WRITE) = 0\n",
      "mprotect(0x5663b000, 4096, PROT_READ|PROT_WRITE|PROT_EXEC) = 0\n",
      "mprotect(0x5663c000, 0, PROT_READ|PROT_WRITE) = 0\n",
      "mprotect(0x5663c000, 0, PROT_READ)      = 0\n",
      "mprotect(0x5663b000, 4096, PROT_READ|PROT_EXEC) = 0\n",
      "mprotect(0x5663a000, 4096, PROT_READ)   = 0\n",
      "mprotect(0x5663c000, 4096, PROT_READ)   = 0\n",
      "write(1, \"Hello, World!\\n\", 14)         = 14\n",
      "exit(1)                                 = ?\n",
      "+++ exited with 1 +++\n",
      "Program output:\n",
      "Hello, World!\n"
     ]
    }
   ],
   "source": [
    "# компилируем как обычно и запускаем с strace\n",
    "!gcc -m32 -nostdlib printing_asm.S -o printing_asm.exe\n",
    "!strace ./printing_asm.exe > out.txt\n",
    "!echo \"Program output:\"\n",
    "!cat out.txt"
   ]
  },
  {
   "cell_type": "markdown",
   "metadata": {},
   "source": [
    "### <a name=\"perf\"></a> PERF: CPU профайлинг с помощью perf"
   ]
  },
  {
   "cell_type": "code",
   "execution_count": 48,
   "metadata": {},
   "outputs": [],
   "source": [
    "%%cpp work_hard.cpp\n",
    "\n",
    "int work_hard_1(int n) {\n",
    "    int ret = 0;\n",
    "    for (int i = 0; i < n; i++) ret ^= i;\n",
    "    return ret;\n",
    "}\n",
    "\n",
    "int work_hard_2(int n) {\n",
    "    int ret = 0;\n",
    "    for (int i = 0; i < n; i++) {\n",
    "        ret ^= work_hard_1(i * 3);\n",
    "        for (int j = 0; j < i * 2; ++j) {\n",
    "            ret ^= j;\n",
    "        }\n",
    "    }\n",
    "    return ret;\n",
    "}\n",
    "\n",
    "int main() {\n",
    "    return work_hard_2(10000);\n",
    "}"
   ]
  },
  {
   "cell_type": "code",
   "execution_count": 49,
   "metadata": {},
   "outputs": [
    {
     "name": "stdout",
     "output_type": "stream",
     "text": [
      "[sudo] password for pechatnov: \n",
      " Performance counter stats for './work_hard.exe':\n",
      "\n",
      "            805,72 msec task-clock                #    0,999 CPUs utilized          \n",
      "                 3      context-switches          #    0,004 K/sec                  \n",
      "                 0      cpu-migrations            #    0,000 K/sec                  \n",
      "                46      page-faults               #    0,057 K/sec                  \n",
      "   <not supported>      cycles                                                      \n",
      "   <not supported>      instructions                                                \n",
      "   <not supported>      branches                                                    \n",
      "   <not supported>      branch-misses                                               \n",
      "\n",
      "       0,806149408 seconds time elapsed\n",
      "\n",
      "       0,806134000 seconds user\n",
      "       0,000000000 seconds sys\n",
      "\n",
      "\n"
     ]
    }
   ],
   "source": [
    "# компилируем как обычно и запускаем с perf stat\n",
    "!gcc work_hard.cpp -o work_hard.exe\n",
    "!cat ~/.password.txt | sudo -S perf stat ./work_hard.exe"
   ]
  },
  {
   "cell_type": "code",
   "execution_count": 50,
   "metadata": {},
   "outputs": [],
   "source": [
    "!env | grep PASS"
   ]
  },
  {
   "cell_type": "code",
   "execution_count": 51,
   "metadata": {},
   "outputs": [
    {
     "name": "stdout",
     "output_type": "stream",
     "text": [
      "[sudo] password for pechatnov: Hello, World!\n",
      "\n",
      " Performance counter stats for './printing_asm.exe':\n",
      "\n",
      "              0,28 msec task-clock                #    0,195 CPUs utilized          \n",
      "                 0      context-switches          #    0,000 K/sec                  \n",
      "                 0      cpu-migrations            #    0,000 K/sec                  \n",
      "                14      page-faults               #    0,050 M/sec                  \n",
      "   <not supported>      cycles                                                      \n",
      "   <not supported>      instructions                                                \n",
      "   <not supported>      branches                                                    \n",
      "   <not supported>      branch-misses                                               \n",
      "\n",
      "       0,001424154 seconds time elapsed\n",
      "\n",
      "       0,000000000 seconds user\n",
      "       0,001394000 seconds sys\n",
      "\n",
      "\n"
     ]
    }
   ],
   "source": [
    "# сравним с программой без stdlib\n",
    "!cat ~/.password.txt | sudo -S perf stat ./printing_asm.exe"
   ]
  },
  {
   "cell_type": "markdown",
   "metadata": {},
   "source": [
    "Результат perf report можно отрисовывать в более красивом виде с помощью [flamegraph](https://github.com/brendangregg/FlameGraph)"
   ]
  },
  {
   "cell_type": "code",
   "execution_count": 52,
   "metadata": {
    "scrolled": true
   },
   "outputs": [
    {
     "name": "stdout",
     "output_type": "stream",
     "text": [
      "[sudo] password for pechatnov: [ perf record: Woken up 1 times to write data ]\n",
      "[ perf record: Captured and wrote 0,056 MB perf.data (1239 samples) ]\n",
      "[sudo] password for pechatnov: # To display the perf.data header info, please use --header/--header-only options.\n",
      "#\n",
      "#\n",
      "# Total Lost Samples: 0\n",
      "#\n",
      "# Samples: 1K of event 'cpu-clock:pppH'\n",
      "# Event count (approx.): 309750000\n",
      "#\n",
      "# Overhead  Command        Shared Object      Symbol                   \n",
      "# ........  .............  .................  .........................\n",
      "#\n",
      "    62.31%  work_hard.exe  work_hard.exe      [.] work_hard_1\n",
      "    37.53%  work_hard.exe  work_hard.exe      [.] work_hard_2\n",
      "     0.08%  work_hard.exe  [kernel.kallsyms]  [k] 0xffffffffbbc00076\n",
      "     0.08%  work_hard.exe  ld-2.31.so         [.] __GI___close_nocancel\n",
      "\n",
      "\n",
      "#\n",
      "# (Cannot load tips.txt file, please install perf!)\n",
      "#\n"
     ]
    }
   ],
   "source": [
    "# компилируем как обычно и запускаем с perf record и потом смотрим результаты\n",
    "!gcc work_hard.cpp -o work_hard.exe\n",
    "!cat ~/.password.txt | sudo -S perf record ./work_hard.exe 2>&1 > perf.log\n",
    "!cat ~/.password.txt | sudo -S chmod 0666 perf.data\n",
    "!perf report | cat"
   ]
  },
  {
   "cell_type": "markdown",
   "metadata": {},
   "source": [
    "Есть еще вариант посчитать количество выполненных программой/функцией инструкций. Оно не всегда хорошо коррелирует со временем выполнения, зато является стабильным значением от запуска к запуску.\n",
    "Здесь приводить способ не буду, если интересно, связывайтесь со мной отдельно :)"
   ]
  },
  {
   "cell_type": "markdown",
   "metadata": {},
   "source": [
    "### <a name=\"ubsan\"></a> UBSAN: Поиск UB (undefined behaviour) с помощью UB-санитайзера"
   ]
  },
  {
   "cell_type": "code",
   "execution_count": 53,
   "metadata": {},
   "outputs": [],
   "source": [
    "%%cpp ub.c\n",
    "\n",
    "int main(int argc, char** argv) {\n",
    "    return -argc << 31;\n",
    "    // return (argc * (int)((1ull << 31) - 1)) + 1;\n",
    "}"
   ]
  },
  {
   "cell_type": "code",
   "execution_count": 54,
   "metadata": {},
   "outputs": [
    {
     "name": "stdout",
     "output_type": "stream",
     "text": [
      "\u001b[1mub.c:4:18:\u001b[1m\u001b[31m runtime error: \u001b[1m\u001b[0m\u001b[1mleft shift of negative value -1\u001b[1m\u001b[0m\r\n",
      "SUMMARY: UndefinedBehaviorSanitizer: undefined-behavior ub.c:4:18 in \r\n"
     ]
    }
   ],
   "source": [
    "# компилируем с санитайзером и запускаем как обычно (семинарист рекомендует)\n",
    "# к сожалению у меня ни gcc, ни g++ не работают с -fsanitize=undefined\n",
    "# а разбираться не хочется, поэтому clang\n",
    "!clang -fsanitize=undefined ub.c -o ub.exe\n",
    "!./ub.exe"
   ]
  },
  {
   "cell_type": "code",
   "execution_count": null,
   "metadata": {},
   "outputs": [],
   "source": []
  },
  {
   "cell_type": "markdown",
   "metadata": {},
   "source": [
    "## <a name=\"mmap\"></a> MMAP\n",
    "\n",
    "(Копия [ридинга от Яковлева](https://github.com/victor-yacovlev/mipt-diht-caos/tree/master/practice/mmap))\n",
    "\n",
    "```c\n",
    "#include <sys/mman.h>\n",
    "\n",
    "void *mmap(\n",
    "    void *addr,    /* рекомендуемый адрес отображения. Должен быть выровнен! */\n",
    "    size_t length, /* размер отображения */\n",
    "    int prot,      /* аттрибуты доступа */\n",
    "    int flags,     /* флаги совместного отображения */\n",
    "    int fd,        /* файловый декскриптор файла */\n",
    "    off_t offset   /* смещение относительно начала файла. Должен быть выровнен! */\n",
    "  );\n",
    "\n",
    "int munmap(void *addr, size_t length) /* освободить отображение */\n",
    "```\n",
    "\n",
    "Системный вызов `mmap` предназначен для создания в виртуальном адресном пространстве процесса доступной области по определенному адресу. Эта область может быть как связана с определенным файлом (ранее открытым), так и располагаться в оперативной памяти. Второй способ использования обычно реализуется в функциях `malloc`/`calloc`.\n",
    "\n",
    "Память можно выделять только постранично. Для большинства архитектур размер одной страницы равен 4Кб, хотя процессоры архитектуры x86_64 поддерживают страницы большего размера: 2Мб и 1Гб.\n",
    "\n",
    "В общем случае, никогда нельзя полагаться на то, что размер страницы равен 4096 байт. Его можно узнать с помощью команды `getconf` или функции `sysconf`:\n",
    "\n",
    "```bash\n",
    "# Bash\n",
    "> getconf PAGE_SIZE\n",
    "4096\n",
    "```\n",
    "```c\n",
    "/* Си */\n",
    "#include <unistd.h>\n",
    "long page_size = sysconf(_SC_PAGE_SIZE);\n",
    "```\n",
    "\n",
    "Параметр `offset` (если используется файл) обязан быть кратным размеру страницы; параметр `length` - нет, но ядро системы округляет это значение до размера страницы в большую сторону. Параметр `addr` (рекомендуемый адрес) может быть равным `NULL`, - в этом случае ядро само назначает адрес в виртуальном адресном пространстве.\n",
    "\n",
    "При использовании отображения на файл, параметр `length` имеет значение длины отображаемых данных; в случае, если размер файла меньше размера страницы, или отображается его последний небольшой фрагмент, то оставшаяся часть страницы заполняется нулями.\n",
    "\n",
    "Страницы памяти могут флаги аттрибутов доступа:\n",
    " * чтение `PROT_READ`;\n",
    " * запись `PROT_WRITE`;\n",
    " * выполнение `PROT_EXE`;\n",
    " * ничего `PROT_NONE`.\n",
    "\n",
    "В случае использования отображения на файл, он должен быть открыт на чтение или запись в соответствии с требуемыми аттрибутами доступа.\n",
    "\n",
    "Флаги `mmap`:\n",
    " * `MAP_FIXED` - требует, чтобы память была выделена по указаному в первом аргументе адресу; без этого флага ядро может выбрать адрес, наиболее близкий к указанному.\n",
    " * `MAP_ANONYMOUS` - выделить страницы в оперативной памяти, а не связать с файлом.\n",
    " * `MAP_SHARED` - выделить страницы, разделяемые с другими процессами; в случае с отображением на файл - синхронизировать изменения так, чтобы они были доступны другим процессам.\n",
    " * `MAP_PRIVATE` - в противоположность `MAP_SHARED`, не делать отображение доступным другим процессам. В случае отображения на файл, он доступен для чтения, а созданные процессом изменения, в файл не сохраняются.\n",
    " \n",
    " \n",
    "Зачем mmap?\n",
    "* Дешевая переподгрузка файла-ресурса (если файл не изменился, то не будет выделяться лишняя память).\n",
    "* ..."
   ]
  },
  {
   "cell_type": "code",
   "execution_count": null,
   "metadata": {},
   "outputs": [],
   "source": []
  },
  {
   "cell_type": "markdown",
   "metadata": {},
   "source": [
    "Пример с mmap (и с ftruncate). Простенькая программа, делающая циклический сдвиг (как цифры) второго символа в файле.\n",
    "\n",
    "**Тут была некритичная ошибка так как по размеру страницы выравнивалась length, а должны быть выровнены только addr и offset**"
   ]
  },
  {
   "cell_type": "code",
   "execution_count": 55,
   "metadata": {},
   "outputs": [
    {
     "data": {
      "text/markdown": [
       "Run: `gcc mmap_example.c -o mmap_example.exe`"
      ],
      "text/plain": [
       "<IPython.core.display.Markdown object>"
      ]
     },
     "metadata": {},
     "output_type": "display_data"
    },
    {
     "data": {
      "text/markdown": [
       "Run: `echo \"000\" > buf.txt && ./mmap_example.exe && cat buf.txt`"
      ],
      "text/plain": [
       "<IPython.core.display.Markdown object>"
      ]
     },
     "metadata": {},
     "output_type": "display_data"
    },
    {
     "name": "stdout",
     "output_type": "stream",
     "text": [
      "page size = 4096\r\n",
      "file size = 4\r\n",
      "010\r\n"
     ]
    },
    {
     "data": {
      "text/markdown": [
       "Run: `echo \"79\" > buf.txt && ./mmap_example.exe && cat buf.txt`"
      ],
      "text/plain": [
       "<IPython.core.display.Markdown object>"
      ]
     },
     "metadata": {},
     "output_type": "display_data"
    },
    {
     "name": "stdout",
     "output_type": "stream",
     "text": [
      "page size = 4096\r\n",
      "file size = 3\r\n",
      "70\r\n"
     ]
    },
    {
     "data": {
      "text/markdown": [
       "Run: `echo \"xxx\" > buf.txt && ./mmap_example.exe && cat buf.txt`"
      ],
      "text/plain": [
       "<IPython.core.display.Markdown object>"
      ]
     },
     "metadata": {},
     "output_type": "display_data"
    },
    {
     "name": "stdout",
     "output_type": "stream",
     "text": [
      "page size = 4096\r\n",
      "file size = 4\r\n",
      "x0x\r\n"
     ]
    },
    {
     "data": {
      "text/markdown": [
       "Run: `echo -n \"S\" > buf.txt && ./mmap_example.exe && cat buf.txt`"
      ],
      "text/plain": [
       "<IPython.core.display.Markdown object>"
      ]
     },
     "metadata": {},
     "output_type": "display_data"
    },
    {
     "name": "stdout",
     "output_type": "stream",
     "text": [
      "page size = 4096\r\n",
      "file size = 1\r\n",
      "new file size = 10\r\n",
      "S0________"
     ]
    }
   ],
   "source": [
    "%%cpp mmap_example.c\n",
    "%run gcc mmap_example.c -o mmap_example.exe\n",
    "%run echo \"000\" > buf.txt && ./mmap_example.exe && cat buf.txt\n",
    "%run echo \"79\" > buf.txt && ./mmap_example.exe && cat buf.txt\n",
    "%run echo \"xxx\" > buf.txt && ./mmap_example.exe && cat buf.txt\n",
    "%run echo -n \"S\" > buf.txt && ./mmap_example.exe && cat buf.txt\n",
    "\n",
    "#include <stdio.h>\n",
    "#include <stdlib.h>\n",
    "#include <unistd.h>\n",
    "#include <sys/types.h>\n",
    "#include <sys/stat.h>\n",
    "#include <sys/mman.h>\n",
    "#include <fcntl.h>\n",
    "#include <assert.h>\n",
    "\n",
    "int get_page_size() {\n",
    "    static int page_size = 0;\n",
    "    return page_size = page_size ?: sysconf(_SC_PAGE_SIZE);\n",
    "}\n",
    "\n",
    "int upper_round_to_page_size(int sz) {\n",
    "    return (sz + get_page_size() - 1) / get_page_size() * get_page_size();\n",
    "}\n",
    "\n",
    "int main() {\n",
    "    printf(\"page size = %d\\n\", get_page_size());\n",
    "    int fd = open(\"buf.txt\", O_RDWR);\n",
    "    struct stat s;\n",
    "    assert(fstat(fd, &s) == 0);\n",
    "    \n",
    "    printf(\"file size = %d\\n\", (int)s.st_size);\n",
    "    int old_st_size = s.st_size;\n",
    "    if (s.st_size < 2) {\n",
    "        const int new_size = 10;\n",
    "        assert(ftruncate(fd, new_size) == 0); // изменяем размер файла\n",
    "        assert(fstat(fd, &s) == 0);\n",
    "        printf(\"new file size = %d\\n\", (int)s.st_size);\n",
    "    }\n",
    "    \n",
    "    void* mapped = mmap(\n",
    "        /* desired addr, addr = */ NULL, \n",
    "        /* length = */ s.st_size, \n",
    "        /* access attributes, prot = */ PROT_READ | PROT_WRITE,\n",
    "        /* flags = */ MAP_SHARED,\n",
    "        /* fd = */ fd,\n",
    "        /* offset in file, offset = */ 0\n",
    "    );\n",
    "    assert(mapped != MAP_FAILED);\n",
    "    \n",
    "    char* buf = mapped;\n",
    "    \n",
    "    if (old_st_size != s.st_size) {\n",
    "        for (int j = old_st_size; j < s.st_size; ++j) {\n",
    "            buf[j] = '_';\n",
    "        }\n",
    "    }\n",
    "    \n",
    "    buf[1] = ('0' <= buf[1] && buf[1] <= '9') ? ((buf[1] - '0' + 1) % 10 + '0') : '0';\n",
    "    \n",
    "    assert(munmap(\n",
    "        /* mapped addr, addr = */ mapped, \n",
    "        /* length = */ s.st_size\n",
    "    ) == 0);\n",
    "    assert(close(fd) == 0); // Не забываем закрывать файл\n",
    "    return 0;\n",
    "}"
   ]
  },
  {
   "cell_type": "markdown",
   "metadata": {},
   "source": [
    "Еще один пример по мотивам advanced-1. Интерпретируем байты как функцию и выполняем."
   ]
  },
  {
   "cell_type": "code",
   "execution_count": 267,
   "metadata": {},
   "outputs": [
    {
     "data": {
      "text/markdown": [
       "Run: `gcc -g -fPIC func.c -c -o func.o`"
      ],
      "text/plain": [
       "<IPython.core.display.Markdown object>"
      ]
     },
     "metadata": {},
     "output_type": "display_data"
    },
    {
     "data": {
      "text/markdown": [
       "Run: `objdump -F -d func.o | grep my_func`"
      ],
      "text/plain": [
       "<IPython.core.display.Markdown object>"
      ]
     },
     "metadata": {},
     "output_type": "display_data"
    },
    {
     "name": "stdout",
     "output_type": "stream",
     "text": [
      "0000000000000000 <my_func> (File Offset: 0x40):\r\n"
     ]
    }
   ],
   "source": [
    "%%cpp func.c\n",
    "%run gcc -g -fPIC func.c -c -o func.o \n",
    "%run objdump -F -d func.o | grep my_func\n",
    "\n",
    "int my_func(int a, int b) {\n",
    "    return a + b + 1;\n",
    "}"
   ]
  },
  {
   "cell_type": "markdown",
   "metadata": {},
   "source": [
    "Замечаем, что `File Offset: 0x40`. То есть в объектном файле функция лежит начиная с `0x40` позиции."
   ]
  },
  {
   "cell_type": "code",
   "execution_count": 23,
   "metadata": {},
   "outputs": [
    {
     "data": {
      "text/markdown": [
       "Run: `gcc -g mmap_exec_example.c -o mmap_exec_example.exe`"
      ],
      "text/plain": [
       "<IPython.core.display.Markdown object>"
      ]
     },
     "metadata": {},
     "output_type": "display_data"
    },
    {
     "data": {
      "text/markdown": [
       "Run: `./mmap_exec_example.exe`"
      ],
      "text/plain": [
       "<IPython.core.display.Markdown object>"
      ]
     },
     "metadata": {},
     "output_type": "display_data"
    },
    {
     "name": "stdout",
     "output_type": "stream",
     "text": [
      "file size = 2680\n",
      "func(1, 1) = 3\n",
      "func(10, 100) = 111\n",
      "func(40, 5000) = 5041\n"
     ]
    }
   ],
   "source": [
    "%%cpp mmap_exec_example.c\n",
    "%run gcc -g mmap_exec_example.c -o mmap_exec_example.exe\n",
    "%run ./mmap_exec_example.exe\n",
    "\n",
    "#include <stdio.h>\n",
    "#include <stdlib.h>\n",
    "#include <unistd.h>\n",
    "#include <sys/types.h>\n",
    "#include <sys/stat.h>\n",
    "#include <sys/mman.h>\n",
    "#include <fcntl.h>\n",
    "#include <assert.h>\n",
    "\n",
    "int main() {\n",
    "    int fd = open(\"func.o\", O_RDWR);\n",
    "    struct stat s;\n",
    "    assert(fstat(fd, &s) == 0);\n",
    "    \n",
    "    printf(\"file size = %d\\n\", (int)s.st_size);\n",
    "    \n",
    "    void* mapped = mmap(\n",
    "        /* desired addr, addr = */ NULL, \n",
    "        /* length = */ s.st_size, \n",
    "        /* access attributes, prot = */ PROT_READ | PROT_EXEC | PROT_WRITE, // обратите внимание на PROT_EXEC\n",
    "        /* flags = */ MAP_SHARED,\n",
    "        /* fd = */ fd,\n",
    "        /* offset in file, offset = */ 0\n",
    "    );\n",
    "    assert(close(fd) == 0); // Не забываем закрывать файл (при закрытии регион памяти остается доступным)\n",
    "    if (mapped == MAP_FAILED) {\n",
    "        perror(\"Can't mmap\");\n",
    "        return -1;\n",
    "    }\n",
    " \n",
    "    int (*func)(int, int) = (void*)((char*)mapped + 0x40); // 0x40 - тот самый оффсет\n",
    "   \n",
    "    printf(\"func(1, 1) = %d\\n\", func(1, 1));\n",
    "    printf(\"func(10, 100) = %d\\n\", func(10, 100));\n",
    "    printf(\"func(40, 5000) = %d\\n\", func(40, 5000));\n",
    "    \n",
    "    assert(munmap(\n",
    "        /* mapped addr, addr = */ mapped, \n",
    "        /* length = */ s.st_size\n",
    "    ) == 0);\n",
    "    return 0;\n",
    "}"
   ]
  },
  {
   "cell_type": "markdown",
   "metadata": {},
   "source": [
    "# <a name=\"hw\"></a>  Рекомендации по контесту inf08\n",
    "\n",
    "* inf08-1\n",
    "  ```c\n",
    "     char* buf = ...;\n",
    "     ...\n",
    "     struct Item* item = (void*)(buf + offset);\n",
    "  ```\n",
    "  \n",
    "* inf08-2 <br>\n",
    "    mmap, ftruncate, snprintf\n",
    "    \n",
    "* advanced-3 <br>\n",
    "    Можно попробовать поддерживать список свободных сегментов памяти.\n",
    "    При аллокации выбирать наименьший достаточного объема и отрезать от него.\n",
    "    При деаллокации добавлять новый свободный сегмент и склеивать смежные."
   ]
  },
  {
   "cell_type": "code",
   "execution_count": null,
   "metadata": {},
   "outputs": [],
   "source": []
  },
  {
   "cell_type": "code",
   "execution_count": null,
   "metadata": {},
   "outputs": [],
   "source": []
  }
 ],
 "metadata": {
  "kernelspec": {
   "display_name": "Python 3",
   "language": "python",
   "name": "python3"
  },
  "language_info": {
   "codemirror_mode": {
    "name": "ipython",
    "version": 3
   },
   "file_extension": ".py",
   "mimetype": "text/x-python",
   "name": "python",
   "nbconvert_exporter": "python",
   "pygments_lexer": "ipython3",
   "version": "3.8.5"
  }
 },
 "nbformat": 4,
 "nbformat_minor": 2
}
