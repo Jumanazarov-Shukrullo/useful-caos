{
 "cells": [
  {
   "cell_type": "code",
   "execution_count": 2,
   "metadata": {
    "scrolled": true
   },
   "outputs": [
    {
     "data": {
      "application/javascript": [
       "// setup cpp code highlighting\n",
       "IPython.CodeCell.options_default.highlight_modes[\"text/x-c++src\"] = {'reg':[/^%%cpp/]} ;"
      ],
      "text/plain": [
       "<IPython.core.display.Javascript object>"
      ]
     },
     "metadata": {},
     "output_type": "display_data"
    },
    {
     "data": {
      "text/html": [
       "<!-- YANDEX_METRICA_BEGIN -->\n",
       "    <script type=\"text/javascript\" >\n",
       "       (function(m,e,t,r,i,k,a){m[i]=m[i]||function(){(m[i].a=m[i].a||[]).push(arguments)};\n",
       "       m[i].l=1*new Date();k=e.createElement(t),a=e.getElementsByTagName(t)[0],k.async=1,k.src=r,a.parentNode.insertBefore(k,a)})\n",
       "       (window, document, \"script\", \"https://mc.yandex.ru/metrika/tag.js\", \"ym\");\n",
       "\n",
       "       ym(59260609, \"init\", {\n",
       "            clickmap:true,\n",
       "            trackLinks:true,\n",
       "            accurateTrackBounce:true\n",
       "       });\n",
       "    </script>\n",
       "    <noscript><div><img src=\"https://mc.yandex.ru/watch/59260609\" style=\"position:absolute; left:-9999px;\" alt=\"\" /></div></noscript>\n",
       "    <!-- YANDEX_METRICA_END -->"
      ],
      "text/plain": [
       "<IPython.core.display.HTML object>"
      ]
     },
     "metadata": {},
     "output_type": "display_data"
    },
    {
     "data": {
      "text/html": [
       "В этот ноутбук встроен код Яндекс Метрики для сбора статистики использований. Если вы не хотите, чтобы по вам собиралась статистика, исправьте: yandex_metrica_allowed = False<!-- MAGICS_SETUP_PRINTING_END -->"
      ],
      "text/plain": [
       "<IPython.core.display.HTML object>"
      ]
     },
     "metadata": {},
     "output_type": "display_data"
    }
   ],
   "source": [
    "# look at tools/set_up_magics.ipynb\n",
    "yandex_metrica_allowed = True ; get_ipython().run_cell('# one_liner_str\\n\\nget_ipython().run_cell_magic(\\'javascript\\', \\'\\', \\'// setup cpp code highlighting\\\\nIPython.CodeCell.options_default.highlight_modes[\"text/x-c++src\"] = {\\\\\\'reg\\\\\\':[/^%%cpp/]} ;\\')\\n\\n# creating magics\\nfrom IPython.core.magic import register_cell_magic, register_line_magic\\nfrom IPython.display import display, Markdown, HTML\\nimport argparse\\nfrom subprocess import Popen, PIPE\\nimport random\\nimport sys\\nimport os\\nimport re\\nimport signal\\nimport shutil\\nimport shlex\\nimport glob\\n\\n@register_cell_magic\\ndef save_file(args_str, cell, line_comment_start=\"#\"):\\n    parser = argparse.ArgumentParser()\\n    parser.add_argument(\"fname\")\\n    parser.add_argument(\"--ejudge-style\", action=\"store_true\")\\n    args = parser.parse_args(args_str.split())\\n    \\n    cell = cell if cell[-1] == \\'\\\\n\\' or args.no_eof_newline else cell + \"\\\\n\"\\n    cmds = []\\n    with open(args.fname, \"w\") as f:\\n        f.write(line_comment_start + \" %%cpp \" + args_str + \"\\\\n\")\\n        for line in cell.split(\"\\\\n\"):\\n            line_to_write = (line if not args.ejudge_style else line.rstrip()) + \"\\\\n\"\\n            if line.startswith(\"%\"):\\n                run_prefix = \"%run \"\\n                if line.startswith(run_prefix):\\n                    cmds.append(line[len(run_prefix):].strip())\\n                    f.write(line_comment_start + \" \" + line_to_write)\\n                    continue\\n                run_prefix = \"%# \"\\n                if line.startswith(run_prefix):\\n                    f.write(line_comment_start + \" \" + line_to_write)\\n                    continue\\n                raise Exception(\"Unknown %%save_file subcommand: \\'%s\\'\" % line)\\n            else:\\n                f.write(line_to_write)\\n        f.write(\"\" if not args.ejudge_style else line_comment_start + r\" line without \\\\n\")\\n    for cmd in cmds:\\n        display(Markdown(\"Run: `%s`\" % cmd))\\n        get_ipython().system(cmd)\\n\\n@register_cell_magic\\ndef cpp(fname, cell):\\n    save_file(fname, cell, \"//\")\\n\\n@register_cell_magic\\ndef asm(fname, cell):\\n    save_file(fname, cell, \"//\")\\n    \\n@register_cell_magic\\ndef makefile(fname, cell):\\n    assert not fname\\n    save_file(\"makefile\", cell.replace(\" \" * 4, \"\\\\t\"))\\n        \\n@register_line_magic\\ndef p(line):\\n    try:\\n        expr, comment = line.split(\" #\")\\n        display(Markdown(\"`{} = {}`  # {}\".format(expr.strip(), eval(expr), comment.strip())))\\n    except:\\n        display(Markdown(\"{} = {}\".format(line, eval(line))))\\n        \\ndef show_file(file, clear_at_begin=True, return_html_string=False):\\n    if clear_at_begin:\\n        get_ipython().system(\"truncate --size 0 \" + file)\\n    obj = file.replace(\\'.\\', \\'_\\').replace(\\'/\\', \\'_\\') + \"_obj\"\\n    html_string = \\'\\'\\'\\n        <!--MD_BEGIN_FILTER-->\\n        <script type=text/javascript>\\n        var entrance___OBJ__ = 0;\\n        var errors___OBJ__ = 0;\\n        function refresh__OBJ__()\\n        {\\n            entrance___OBJ__ -= 1;\\n            var elem = document.getElementById(\"__OBJ__\");\\n            if (elem) {\\n                var xmlhttp=new XMLHttpRequest();\\n                xmlhttp.onreadystatechange=function()\\n                {\\n                    var elem = document.getElementById(\"__OBJ__\");\\n                    console.log(!!elem, xmlhttp.readyState, xmlhttp.status, entrance___OBJ__);\\n                    if (elem && xmlhttp.readyState==4) {\\n                        if (xmlhttp.status==200)\\n                        {\\n                            errors___OBJ__ = 0;\\n                            if (!entrance___OBJ__) {\\n                                elem.innerText = xmlhttp.responseText;\\n                                entrance___OBJ__ += 1;\\n                                console.log(\"req\");\\n                                window.setTimeout(\"refresh__OBJ__()\", 300); \\n                            }\\n                            return xmlhttp.responseText;\\n                        } else {\\n                            errors___OBJ__ += 1;\\n                            if (errors___OBJ__ < 10 && !entrance___OBJ__) {\\n                                entrance___OBJ__ += 1;\\n                                console.log(\"req\");\\n                                window.setTimeout(\"refresh__OBJ__()\", 300); \\n                            }\\n                        }\\n                    }\\n                }\\n                xmlhttp.open(\"GET\", \"__FILE__\", true);\\n                xmlhttp.setRequestHeader(\"Cache-Control\", \"no-cache\");\\n                xmlhttp.send();     \\n            }\\n        }\\n        \\n        if (!entrance___OBJ__) {\\n            entrance___OBJ__ += 1;\\n            refresh__OBJ__(); \\n        }\\n        </script>\\n        \\n        <font color=\"white\"> <tt>\\n        <p id=\"__OBJ__\" style=\"font-size: 16px; border:3px #333333 solid; background: #333333; border-radius: 10px; padding: 10px;  \"></p>\\n        </tt> </font>\\n        <!--MD_END_FILTER-->\\n        <!--MD_FROM_FILE __FILE__ -->\\n        \\'\\'\\'.replace(\"__OBJ__\", obj).replace(\"__FILE__\", file)\\n    if return_html_string:\\n        return html_string\\n    display(HTML(html_string))\\n    \\nBASH_POPEN_TMP_DIR = \"./bash_popen_tmp\"\\n    \\ndef bash_popen_terminate_all():\\n    for p in globals().get(\"bash_popen_list\", []):\\n        print(\"Terminate pid=\" + str(p.pid), file=sys.stderr)\\n        p.terminate()\\n    globals()[\"bash_popen_list\"] = []\\n    if os.path.exists(BASH_POPEN_TMP_DIR):\\n        shutil.rmtree(BASH_POPEN_TMP_DIR)\\n\\nbash_popen_terminate_all()  \\n\\ndef bash_popen(cmd):\\n    if not os.path.exists(BASH_POPEN_TMP_DIR):\\n        os.mkdir(BASH_POPEN_TMP_DIR)\\n    h = os.path.join(BASH_POPEN_TMP_DIR, str(random.randint(0, 1e18)))\\n    stdout_file = h + \".out.html\"\\n    stderr_file = h + \".err.html\"\\n    run_log_file = h + \".fin.html\"\\n    \\n    stdout = open(stdout_file, \"wb\")\\n    stdout = open(stderr_file, \"wb\")\\n    \\n    html = \"\"\"\\n    <table width=\"100%\">\\n    <colgroup>\\n       <col span=\"1\" style=\"width: 70px;\">\\n       <col span=\"1\">\\n    </colgroup>    \\n    <tbody>\\n      <tr> <td><b>STDOUT</b></td> <td> {stdout} </td> </tr>\\n      <tr> <td><b>STDERR</b></td> <td> {stderr} </td> </tr>\\n      <tr> <td><b>RUN LOG</b></td> <td> {run_log} </td> </tr>\\n    </tbody>\\n    </table>\\n    \"\"\".format(\\n        stdout=show_file(stdout_file, return_html_string=True),\\n        stderr=show_file(stderr_file, return_html_string=True),\\n        run_log=show_file(run_log_file, return_html_string=True),\\n    )\\n    \\n    cmd = \"\"\"\\n        bash -c {cmd} &\\n        pid=$!\\n        echo \"Process started! pid=${{pid}}\" > {run_log_file}\\n        wait ${{pid}}\\n        echo \"Process finished! exit_code=$?\" >> {run_log_file}\\n    \"\"\".format(cmd=shlex.quote(cmd), run_log_file=run_log_file)\\n    # print(cmd)\\n    display(HTML(html))\\n    \\n    p = Popen([\"bash\", \"-c\", cmd], stdin=PIPE, stdout=stdout, stderr=stdout)\\n    \\n    bash_popen_list.append(p)\\n    return p\\n\\n\\n@register_line_magic\\ndef bash_async(line):\\n    bash_popen(line)\\n    \\n    \\ndef show_log_file(file, return_html_string=False):\\n    obj = file.replace(\\'.\\', \\'_\\').replace(\\'/\\', \\'_\\') + \"_obj\"\\n    html_string = \\'\\'\\'\\n        <!--MD_BEGIN_FILTER-->\\n        <script type=text/javascript>\\n        var entrance___OBJ__ = 0;\\n        var errors___OBJ__ = 0;\\n        function halt__OBJ__(elem, color)\\n        {\\n            elem.setAttribute(\"style\", \"font-size: 14px; background: \" + color + \"; padding: 10px; border: 3px; border-radius: 5px; color: white; \");                    \\n        }\\n        function refresh__OBJ__()\\n        {\\n            entrance___OBJ__ -= 1;\\n            if (entrance___OBJ__ < 0) {\\n                entrance___OBJ__ = 0;\\n            }\\n            var elem = document.getElementById(\"__OBJ__\");\\n            if (elem) {\\n                var xmlhttp=new XMLHttpRequest();\\n                xmlhttp.onreadystatechange=function()\\n                {\\n                    var elem = document.getElementById(\"__OBJ__\");\\n                    console.log(!!elem, xmlhttp.readyState, xmlhttp.status, entrance___OBJ__);\\n                    if (elem && xmlhttp.readyState==4) {\\n                        if (xmlhttp.status==200)\\n                        {\\n                            errors___OBJ__ = 0;\\n                            if (!entrance___OBJ__) {\\n                                if (elem.innerHTML != xmlhttp.responseText) {\\n                                    elem.innerHTML = xmlhttp.responseText;\\n                                }\\n                                if (elem.innerHTML.includes(\"Process finished.\")) {\\n                                    halt__OBJ__(elem, \"#333333\");\\n                                } else {\\n                                    entrance___OBJ__ += 1;\\n                                    console.log(\"req\");\\n                                    window.setTimeout(\"refresh__OBJ__()\", 300); \\n                                }\\n                            }\\n                            return xmlhttp.responseText;\\n                        } else {\\n                            errors___OBJ__ += 1;\\n                            if (!entrance___OBJ__) {\\n                                if (errors___OBJ__ < 6) {\\n                                    entrance___OBJ__ += 1;\\n                                    console.log(\"req\");\\n                                    window.setTimeout(\"refresh__OBJ__()\", 300); \\n                                } else {\\n                                    halt__OBJ__(elem, \"#994444\");\\n                                }\\n                            }\\n                        }\\n                    }\\n                }\\n                xmlhttp.open(\"GET\", \"__FILE__\", true);\\n                xmlhttp.setRequestHeader(\"Cache-Control\", \"no-cache\");\\n                xmlhttp.send();     \\n            }\\n        }\\n        \\n        if (!entrance___OBJ__) {\\n            entrance___OBJ__ += 1;\\n            refresh__OBJ__(); \\n        }\\n        </script>\\n\\n        <p id=\"__OBJ__\" style=\"font-size: 14px; background: #000000; padding: 10px; border: 3px; border-radius: 5px; color: white; \">\\n        </p>\\n        \\n        </font>\\n        <!--MD_END_FILTER-->\\n        <!--MD_FROM_FILE __FILE__.md -->\\n        \\'\\'\\'.replace(\"__OBJ__\", obj).replace(\"__FILE__\", file)\\n    if return_html_string:\\n        return html_string\\n    display(HTML(html_string))\\n\\n    \\nclass TInteractiveLauncher:\\n    tmp_path = \"./interactive_launcher_tmp\"\\n    def __init__(self, cmd):\\n        try:\\n            os.mkdir(TInteractiveLauncher.tmp_path)\\n        except:\\n            pass\\n        name = str(random.randint(0, 1e18))\\n        self.inq_path = os.path.join(TInteractiveLauncher.tmp_path, name + \".inq\")\\n        self.log_path = os.path.join(TInteractiveLauncher.tmp_path, name + \".log\")\\n        \\n        os.mkfifo(self.inq_path)\\n        open(self.log_path, \\'w\\').close()\\n        open(self.log_path + \".md\", \\'w\\').close()\\n\\n        self.pid = os.fork()\\n        if self.pid == -1:\\n            print(\"Error\")\\n        if self.pid == 0:\\n            exe_cands = glob.glob(\"../tools/launcher.py\") + glob.glob(\"../../tools/launcher.py\")\\n            assert(len(exe_cands) == 1)\\n            assert(os.execvp(\"python3\", [\"python3\", exe_cands[0], \"-l\", self.log_path, \"-i\", self.inq_path, \"-c\", cmd]) == 0)\\n        self.inq_f = open(self.inq_path, \"w\")\\n        interactive_launcher_opened_set.add(self.pid)\\n        show_log_file(self.log_path)\\n\\n    def write(self, s):\\n        s = s.encode()\\n        assert len(s) == os.write(self.inq_f.fileno(), s)\\n        \\n    def get_pid(self):\\n        n = 100\\n        for i in range(n):\\n            try:\\n                return int(re.findall(r\"PID = (\\\\d+)\", open(self.log_path).readline())[0])\\n            except:\\n                if i + 1 == n:\\n                    raise\\n                time.sleep(0.1)\\n        \\n    def input_queue_path(self):\\n        return self.inq_path\\n        \\n    def close(self):\\n        self.inq_f.close()\\n        os.waitpid(self.pid, 0)\\n        os.remove(self.inq_path)\\n        # os.remove(self.log_path)\\n        self.inq_path = None\\n        self.log_path = None \\n        interactive_launcher_opened_set.remove(self.pid)\\n        self.pid = None\\n        \\n    @staticmethod\\n    def terminate_all():\\n        if \"interactive_launcher_opened_set\" not in globals():\\n            globals()[\"interactive_launcher_opened_set\"] = set()\\n        global interactive_launcher_opened_set\\n        for pid in interactive_launcher_opened_set:\\n            print(\"Terminate pid=\" + str(pid), file=sys.stderr)\\n            os.kill(pid, signal.SIGKILL)\\n            os.waitpid(pid, 0)\\n        interactive_launcher_opened_set = set()\\n        if os.path.exists(TInteractiveLauncher.tmp_path):\\n            shutil.rmtree(TInteractiveLauncher.tmp_path)\\n    \\nTInteractiveLauncher.terminate_all()\\n   \\nyandex_metrica_allowed = bool(globals().get(\"yandex_metrica_allowed\", False))\\nif yandex_metrica_allowed:\\n    display(HTML(\\'\\'\\'<!-- YANDEX_METRICA_BEGIN -->\\n    <script type=\"text/javascript\" >\\n       (function(m,e,t,r,i,k,a){m[i]=m[i]||function(){(m[i].a=m[i].a||[]).push(arguments)};\\n       m[i].l=1*new Date();k=e.createElement(t),a=e.getElementsByTagName(t)[0],k.async=1,k.src=r,a.parentNode.insertBefore(k,a)})\\n       (window, document, \"script\", \"https://mc.yandex.ru/metrika/tag.js\", \"ym\");\\n\\n       ym(59260609, \"init\", {\\n            clickmap:true,\\n            trackLinks:true,\\n            accurateTrackBounce:true\\n       });\\n    </script>\\n    <noscript><div><img src=\"https://mc.yandex.ru/watch/59260609\" style=\"position:absolute; left:-9999px;\" alt=\"\" /></div></noscript>\\n    <!-- YANDEX_METRICA_END -->\\'\\'\\'))\\n\\ndef make_oneliner():\\n    html_text = \\'(\"В этот ноутбук встроен код Яндекс Метрики для сбора статистики использований. Если вы не хотите, чтобы по вам собиралась статистика, исправьте: yandex_metrica_allowed = False\" if yandex_metrica_allowed else \"\")\\'\\n    html_text += \\' + \"<\"\"!-- MAGICS_SETUP_PRINTING_END -->\"\\'\\n    return \\'\\'.join([\\n        \\'# look at tools/set_up_magics.ipynb\\\\n\\',\\n        \\'yandex_metrica_allowed = True ; get_ipython().run_cell(%s);\\' % repr(one_liner_str),\\n        \\'display(HTML(%s))\\' % html_text,\\n        \\' #\\'\\'MAGICS_SETUP_END\\'\\n    ])\\n       \\n\\n');display(HTML((\"В этот ноутбук встроен код Яндекс Метрики для сбора статистики использований. Если вы не хотите, чтобы по вам собиралась статистика, исправьте: yandex_metrica_allowed = False\" if yandex_metrica_allowed else \"\") + \"<\"\"!-- MAGICS_SETUP_PRINTING_END -->\")) #MAGICS_SETUP_END"
   ]
  },
  {
   "cell_type": "markdown",
   "metadata": {},
   "source": [
    "# Инструменты разработки\n",
    "\n",
    "<table width=100%> <tr>\n",
    "    <th width=20%> <b>Видеозапись семинара &rarr; </b> </th>\n",
    "    <th>\n",
    "    <a href=\"https://youtu.be/???\">\n",
    "        <img src=\"https://placehold.it/320x100/000000/fff?text=None\" width=\"320\"  height=\"160\" align=\"left\" alt=\"Видео с семинара\"> \n",
    "    </a>\n",
    "    </th>\n",
    "    <th> </th>\n",
    "</tr> </table>\n",
    "\n",
    "\n",
    "[Ридинг Яковлева](https://github.com/victor-yacovlev/mipt-diht-caos/blob/master/practice/linux_basics/devtools.md)\n",
    "\n",
    "\n",
    "Сегодня в программе:\n",
    "* <a href=\"#compile\" style=\"color:#856024\"> Компиляция и ее этапы </a>\n",
    "  * <a href=\"#simple_compile\" style=\"color:#856024\"> Просто скомпилировать! </a>\n",
    "  * <a href=\"#preprocess\" style=\"color:#856024\"> Прeпроцессинг </a>\n",
    "  * <a href=\"#compilation\" style=\"color:#856024\"> Компиляция </a>\n",
    "  * <a href=\"#assembling\" style=\"color:#856024\"> Acceмблирование </a>\n",
    "  * <a href=\"#linking\" style=\"color:#856024\"> Компоновка </a>\n",
    "\n",
    "\n",
    "* <a href=\"#elf\" style=\"color:#856024\"> Динамические библиотеки, объектные и исполняемые файлы </a>\n",
    "\n",
    "* <a href=\"#run\" style=\"color:#856024\"> Запуск и завершение программы </a>\n",
    "\n",
    "* <a href=\"#macro\" style=\"color:#856024\"> Дополнение: макросы в C/C++ </a>\n"
   ]
  },
  {
   "cell_type": "markdown",
   "metadata": {},
   "source": [
    "## <a name=\"compile\"></a> Компиляция и ее этапы\n",
    "\n",
    "[Процесс компиляции программ на C++ / Хабр](https://habr.com/ru/post/478124/)\n",
    "\n",
    "Этапы компиляции:\n",
    "1. Препроцессинг: разворачиваем инклюды и макросы\n",
    "2. Компиляция: превращаем код на С/С++ в ассемблерный код\n",
    "3. Ассемблирование: ассемблерный код -> машинный\n",
    "4. Компоновка: сборка исполняемого файла из объектных файлов и статических библиотек"
   ]
  },
  {
   "cell_type": "markdown",
   "metadata": {},
   "source": [
    "### <a name=\"simple_compile\"></a> Просто скомпилировать!\n",
    "\n",
    "Скомпилировать исходный код в исполняемый файл несложно: просто передаем все исходные файлы компилятору (файлы могут быть с разных этапов компиляции: исходные, после препроцессора, ассемблерный код (.S), объектные файлы (.o), ...)"
   ]
  },
  {
   "cell_type": "code",
   "execution_count": 19,
   "metadata": {},
   "outputs": [
    {
     "data": {
      "text/markdown": [
       "Run: `gcc hello_world.c -o hello_world_c.exe`"
      ],
      "text/plain": [
       "<IPython.core.display.Markdown object>"
      ]
     },
     "metadata": {},
     "output_type": "display_data"
    },
    {
     "data": {
      "text/markdown": [
       "Run: `./hello_world_c.exe`"
      ],
      "text/plain": [
       "<IPython.core.display.Markdown object>"
      ]
     },
     "metadata": {},
     "output_type": "display_data"
    },
    {
     "name": "stdout",
     "output_type": "stream",
     "text": [
      "Hello world!\r\n"
     ]
    }
   ],
   "source": [
    "%%cpp hello_world.c\n",
    "%run gcc hello_world.c -o hello_world_c.exe\n",
    "%run ./hello_world_c.exe\n",
    "\n",
    "#include <stdio.h>\n",
    "\n",
    "int main() {\n",
    "    printf(\"Hello world!\\n\");\n",
    "    return 0;\n",
    "}"
   ]
  },
  {
   "cell_type": "code",
   "execution_count": 21,
   "metadata": {},
   "outputs": [
    {
     "data": {
      "text/markdown": [
       "Run: `g++ hello_world.cpp -o hello_world_cpp.exe`"
      ],
      "text/plain": [
       "<IPython.core.display.Markdown object>"
      ]
     },
     "metadata": {},
     "output_type": "display_data"
    },
    {
     "data": {
      "text/markdown": [
       "Run: `./hello_world_cpp.exe`"
      ],
      "text/plain": [
       "<IPython.core.display.Markdown object>"
      ]
     },
     "metadata": {},
     "output_type": "display_data"
    },
    {
     "name": "stdout",
     "output_type": "stream",
     "text": [
      "Hello world!\r\n"
     ]
    }
   ],
   "source": [
    "%%cpp hello_world.cpp\n",
    "%run g++ hello_world.cpp -o hello_world_cpp.exe\n",
    "%run ./hello_world_cpp.exe\n",
    "\n",
    "#include <iostream>\n",
    "\n",
    "int main() {\n",
    "    std::cout << \"Hello world!\\n\";\n",
    "    return 0;\n",
    "}\n"
   ]
  },
  {
   "cell_type": "markdown",
   "metadata": {},
   "source": [
    "### <a name=\"preprocess\"></a> Препроцессинг"
   ]
  },
  {
   "cell_type": "code",
   "execution_count": 22,
   "metadata": {
    "scrolled": true
   },
   "outputs": [
    {
     "data": {
      "text/markdown": [
       "Run: `gcc -E preprocessing_max.c -o preprocessing_max_E.c`"
      ],
      "text/plain": [
       "<IPython.core.display.Markdown object>"
      ]
     },
     "metadata": {},
     "output_type": "display_data"
    },
    {
     "data": {
      "text/markdown": [
       "Run: `cat preprocessing_max_E.c`"
      ],
      "text/plain": [
       "<IPython.core.display.Markdown object>"
      ]
     },
     "metadata": {},
     "output_type": "display_data"
    },
    {
     "name": "stdout",
     "output_type": "stream",
     "text": [
      "# 1 \"preprocessing_max.c\"\r\n",
      "# 1 \"<built-in>\"\r\n",
      "# 1 \"<command-line>\"\r\n",
      "# 31 \"<command-line>\"\r\n",
      "# 1 \"/usr/include/stdc-predef.h\" 1 3 4\r\n",
      "# 32 \"<command-line>\" 2\r\n",
      "# 1 \"preprocessing_max.c\"\r\n",
      "\r\n",
      "\r\n",
      "\r\n",
      "\r\n",
      "\r\n",
      "\r\n",
      "int f(int a, int b) {\r\n",
      "    return ((a) > (b) ? (a) : (b));\r\n",
      "}\r\n"
     ]
    }
   ],
   "source": [
    "%%cpp preprocessing_max.c\n",
    "%run gcc -E preprocessing_max.c -o preprocessing_max_E.c\n",
    "%run cat preprocessing_max_E.c\n",
    "\n",
    "#define max(a, b) ((a) > (b) ? (a) : (b))\n",
    "\n",
    "int f(int a, int b) {\n",
    "    return max(a, b);\n",
    "}"
   ]
  },
  {
   "cell_type": "markdown",
   "metadata": {},
   "source": [
    "Результат препроцессинга является корректным кодом, его можно использовать так же, как и обычный код. Просто теперь в нем раскрыты все инструкции препроцессора"
   ]
  },
  {
   "cell_type": "code",
   "execution_count": 23,
   "metadata": {
    "scrolled": true
   },
   "outputs": [
    {
     "data": {
      "text/markdown": [
       "Run: `gcc preprocessing_max_main.c preprocessing_max_E.c -o preprocessing_max.exe`"
      ],
      "text/plain": [
       "<IPython.core.display.Markdown object>"
      ]
     },
     "metadata": {},
     "output_type": "display_data"
    },
    {
     "data": {
      "text/markdown": [
       "Run: `./preprocessing_max.exe`"
      ],
      "text/plain": [
       "<IPython.core.display.Markdown object>"
      ]
     },
     "metadata": {},
     "output_type": "display_data"
    },
    {
     "name": "stdout",
     "output_type": "stream",
     "text": [
      "min(5, 7) = 7\r\n"
     ]
    }
   ],
   "source": [
    "%%cpp preprocessing_max_main.c\n",
    "%run gcc preprocessing_max_main.c preprocessing_max_E.c -o preprocessing_max.exe\n",
    "%run ./preprocessing_max.exe\n",
    "\n",
    "#include <stdio.h>\n",
    "\n",
    "int f(int a, int b);\n",
    "\n",
    "int main() {\n",
    "    printf(\"min(5, 7) = %d\\n\", f(5, 7));\n",
    "    return 0;\n",
    "}"
   ]
  },
  {
   "cell_type": "markdown",
   "metadata": {},
   "source": [
    "### <a name=\"compilation\"></a> Компиляция\n",
    "\n",
    "Превратим исходный код в ассемблерный."
   ]
  },
  {
   "cell_type": "code",
   "execution_count": 39,
   "metadata": {},
   "outputs": [
    {
     "name": "stdout",
     "output_type": "stream",
     "text": [
      "\t.file\t\"preprocessing_max_E.c\"\r\n",
      "\t.text\r\n",
      "\t.globl\tf\r\n",
      "\t.type\tf, @function\r\n",
      "f:\r\n",
      "\tendbr64\r\n",
      "\tcmpl\t%edi, %esi\r\n",
      "\tmovl\t%edi, %eax\r\n",
      "\tcmovge\t%esi, %eax\r\n",
      "\tret\r\n",
      "\t.size\tf, .-f\r\n",
      "\t.ident\t\"GCC: (Ubuntu 9.3.0-10ubuntu2) 9.3.0\"\r\n",
      "\t.section\t.note.GNU-stack,\"\",@progbits\r\n",
      "\t.section\t.note.gnu.property,\"a\"\r\n",
      "\t.align 8\r\n",
      "\t.long\t 1f - 0f\r\n",
      "\t.long\t 4f - 1f\r\n",
      "\t.long\t 5\r\n",
      "0:\r\n",
      "\t.string\t \"GNU\"\r\n",
      "1:\r\n",
      "\t.align 8\r\n",
      "\t.long\t 0xc0000002\r\n",
      "\t.long\t 3f - 2f\r\n",
      "2:\r\n",
      "\t.long\t 0x3\r\n",
      "3:\r\n",
      "\t.align 8\r\n",
      "4:\r\n"
     ]
    }
   ],
   "source": [
    "# здесь необязательно брать результат работы препроцессора\n",
    "# -Os -fno-asynchronous-unwind-tables помогает получить более короткий выхлоп\n",
    "# -fverbose-asm позволит получить более длинный, но более удобный для чтения\n",
    "!gcc -S preprocessing_max_E.c -Os -fno-asynchronous-unwind-tables -o preprocessing_max_E.S  \n",
    "!cat preprocessing_max_E.S "
   ]
  },
  {
   "cell_type": "markdown",
   "metadata": {},
   "source": [
    "Способ получить ассемблерный код функции. Правда тут не просто проводится компиляция, здесь создается машинный код, а потом gdb его обратно дизассемблирует."
   ]
  },
  {
   "cell_type": "code",
   "execution_count": 46,
   "metadata": {},
   "outputs": [
    {
     "name": "stdout",
     "output_type": "stream",
     "text": [
      "Dump of assembler code for function f:\r\n",
      "   0x0000000000000000 <+0>:\tendbr64 \r\n",
      "   0x0000000000000004 <+4>:\tcmp    %edi,%esi\r\n",
      "   0x0000000000000006 <+6>:\tmov    %edi,%eax\r\n",
      "   0x0000000000000008 <+8>:\tcmovge %esi,%eax\r\n",
      "   0x000000000000000b <+11>:\tretq   \r\n",
      "End of assembler dump.\r\n"
     ]
    }
   ],
   "source": [
    "!gcc -c preprocessing_max_E.c -Os -o preprocessing_max.o\n",
    "!gdb preprocessing_max.o -batch -ex=\"disass f\""
   ]
  },
  {
   "cell_type": "markdown",
   "metadata": {},
   "source": [
    "### <a name=\"assembling\"></a> Ассемблирование\n",
    "\n",
    "Ничего интересного, ассемблер и так слишком приЁближен к машинному коду. (Возможно этой фазы вообще нет при каких-то условиях компиляции)."
   ]
  },
  {
   "cell_type": "code",
   "execution_count": 48,
   "metadata": {},
   "outputs": [],
   "source": [
    "!gcc -c preprocessing_max_E.S -o preprocessing_max.o"
   ]
  },
  {
   "cell_type": "markdown",
   "metadata": {},
   "source": [
    "### <a name=\"linking\"></a> Компоновка / Линковка\n",
    "\n",
    "Финальная сборка одного исполняемого файла\n",
    "\n",
    "Она производится утилитой `ld`, но проще ее не запоминать и пользоваться gcc, который сам ее вызовет"
   ]
  },
  {
   "cell_type": "code",
   "execution_count": 51,
   "metadata": {},
   "outputs": [
    {
     "name": "stdout",
     "output_type": "stream",
     "text": [
      "min(5, 7) = 7\r\n"
     ]
    }
   ],
   "source": [
    "!gcc preprocessing_max.o preprocessing_max_main.c -o preprocessing_max_main.exe\n",
    "!./preprocessing_max_main.exe"
   ]
  },
  {
   "cell_type": "markdown",
   "metadata": {},
   "source": [
    "## <a name=\"elf\"></a> Динамические библиотеки, объектные и исполняемые файлы\n",
    "\n",
    "\n",
    "[ELF / Wiki](https://en.wikipedia.org/wiki/Executable_and_Linkable_Format) - Executable and Linkable Format"
   ]
  },
  {
   "cell_type": "code",
   "execution_count": 52,
   "metadata": {},
   "outputs": [
    {
     "data": {
      "text/markdown": [
       "Run: `gcc -c lib.c -o lib.o #// компилируем в объектный файл`"
      ],
      "text/plain": [
       "<IPython.core.display.Markdown object>"
      ]
     },
     "metadata": {},
     "output_type": "display_data"
    },
    {
     "data": {
      "text/markdown": [
       "Run: `ar rcs lib.a lib.o #// делаем из объектного файла статическую библиотеку`"
      ],
      "text/plain": [
       "<IPython.core.display.Markdown object>"
      ]
     },
     "metadata": {},
     "output_type": "display_data"
    },
    {
     "data": {
      "text/markdown": [
       "Run: `gcc -shared -fPIC lib.o -o lib.so #// делаем из объектного файла динамическую библиотеку`"
      ],
      "text/plain": [
       "<IPython.core.display.Markdown object>"
      ]
     },
     "metadata": {},
     "output_type": "display_data"
    }
   ],
   "source": [
    "%%cpp lib.c\n",
    "%run gcc -c lib.c -o lib.o #// компилируем в объектный файл\n",
    "%run ar rcs lib.a lib.o #// делаем из объектного файла статическую библиотеку (что по сути архив объектных файлов)\n",
    "%run gcc -shared -fPIC lib.o -o lib.so #// делаем из объектного файла динамическую библиотеку\n",
    "\n",
    "int sum(int a, int b) {\n",
    "    return a + b;\n",
    "}\n",
    "\n",
    "float sum_f(float a, float b) {\n",
    "    return a + b;\n",
    "}"
   ]
  },
  {
   "cell_type": "code",
   "execution_count": 53,
   "metadata": {},
   "outputs": [
    {
     "name": "stdout",
     "output_type": "stream",
     "text": [
      "00000000  7f 45 4c 46 02 01 01 00  00 00 00 00 00 00 00 00  |.ELF............|\r\n",
      "00000010  01 00 3e 00 01 00 00 00  00 00 00 00 00 00 00 00  |..>.............|\r\n"
     ]
    }
   ],
   "source": [
    "!hexdump -C lib.o | head -n 2  # обратите внимание на 0x7f E L F - магическое начало файла"
   ]
  },
  {
   "cell_type": "code",
   "execution_count": 57,
   "metadata": {},
   "outputs": [
    {
     "name": "stdout",
     "output_type": "stream",
     "text": [
      "00000000  21 3c 61 72 63 68 3e 0a  2f 20 20 20 20 20 20 20  |!<arch>./       |\n",
      "00000010  20 20 20 20 20 20 20 20  30 20 20 20 20 20 20 20  |        0       |\n",
      "00000000  7f 45 4c 46 02 01 01 00  00 00 00 00 00 00 00 00  |.ELF............|\n",
      "00000010  03 00 3e 00 01 00 00 00  40 10 00 00 00 00 00 00  |..>.....@.......|\n"
     ]
    }
   ],
   "source": [
    "!hexdump -C lib.a | head -n 2 # заметим, что это не ELF но тоже имеет магическое начало\n",
    "!hexdump -C lib.so | head -n 2 # а это тоже ELF"
   ]
  },
  {
   "cell_type": "code",
   "execution_count": 16,
   "metadata": {},
   "outputs": [
    {
     "name": "stdout",
     "output_type": "stream",
     "text": [
      "0000000000000000 g     F .text\t0000000000000018 sum\r\n",
      "0000000000000018 g     F .text\t000000000000001e sum_f\r\n"
     ]
    }
   ],
   "source": [
    "!objdump -t lib.o | grep sum  # symbols in shared library"
   ]
  },
  {
   "cell_type": "code",
   "execution_count": 17,
   "metadata": {},
   "outputs": [
    {
     "name": "stdout",
     "output_type": "stream",
     "text": [
      "0000000000001111 g     F .text\t000000000000001e sum_f\r\n",
      "00000000000010f9 g     F .text\t0000000000000018 sum\r\n"
     ]
    }
   ],
   "source": [
    "!objdump -t lib.so | grep sum  # symbols in shared library"
   ]
  },
  {
   "cell_type": "markdown",
   "metadata": {},
   "source": [
    "Подгрузим динамическую библиотеку из Python"
   ]
  },
  {
   "cell_type": "code",
   "execution_count": 60,
   "metadata": {},
   "outputs": [
    {
     "data": {
      "text/markdown": [
       "lib.sum(3, 4) = 7"
      ],
      "text/plain": [
       "<IPython.core.display.Markdown object>"
      ]
     },
     "metadata": {},
     "output_type": "display_data"
    },
    {
     "data": {
      "text/markdown": [
       "lib.sum_f(3, 4) = 0"
      ],
      "text/plain": [
       "<IPython.core.display.Markdown object>"
      ]
     },
     "metadata": {},
     "output_type": "display_data"
    },
    {
     "data": {
      "text/markdown": [
       "`lib.sum_f(3, 4) = 1.3243189739662118e-38`  # with set return type"
      ],
      "text/plain": [
       "<IPython.core.display.Markdown object>"
      ]
     },
     "metadata": {},
     "output_type": "display_data"
    },
    {
     "data": {
      "text/markdown": [
       "`lib.sum_f(3, 4) = 7.0`  # with set return and arguments types"
      ],
      "text/plain": [
       "<IPython.core.display.Markdown object>"
      ]
     },
     "metadata": {},
     "output_type": "display_data"
    }
   ],
   "source": [
    "import ctypes\n",
    "\n",
    "lib = ctypes.CDLL(\"./lib.so\")\n",
    "%p lib.sum(3, 4)\n",
    "%p lib.sum_f(3, 4)\n",
    "\n",
    "lib.sum_f.restype = ctypes.c_float\n",
    "%p lib.sum_f(3, 4) # with set return type\n",
    "\n",
    "lib.sum_f.argtypes = [ctypes.c_float, ctypes.c_float]\n",
    "lib.sum_f.restype = ctypes.c_float\n",
    "%p lib.sum_f(3, 4) # with set return and arguments types"
   ]
  },
  {
   "cell_type": "code",
   "execution_count": null,
   "metadata": {},
   "outputs": [],
   "source": []
  },
  {
   "cell_type": "markdown",
   "metadata": {},
   "source": [
    "## <a name=\"run\"></a> Запуск и завершение программы\n",
    "\n",
    "[Интересная статья про запуск и завершение программы](http://dbp-consulting.com/tutorials/debugging/linuxProgramStartup.html)\n",
    "\n",
    "![](http://dbp-consulting.com/tutorials/debugging/images/callgraph.png)\n",
    "    \n",
    "    \n",
    "Пример из статьи."
   ]
  },
  {
   "cell_type": "code",
   "execution_count": 64,
   "metadata": {},
   "outputs": [
    {
     "data": {
      "text/markdown": [
       "Run: `gcc article_example.c -o article_example.exe`"
      ],
      "text/plain": [
       "<IPython.core.display.Markdown object>"
      ]
     },
     "metadata": {},
     "output_type": "display_data"
    },
    {
     "data": {
      "text/markdown": [
       "Run: `./article_example.exe`"
      ],
      "text/plain": [
       "<IPython.core.display.Markdown object>"
      ]
     },
     "metadata": {},
     "output_type": "display_data"
    },
    {
     "name": "stdout",
     "output_type": "stream",
     "text": [
      "preinit\r\n",
      "init\r\n",
      "constructor\r\n",
      "main 1\r\n",
      "main 2\r\n",
      "my_atexit2\r\n",
      "my_atexit\r\n",
      "destructor\r\n",
      "fini\r\n"
     ]
    }
   ],
   "source": [
    "%%cpp article_example.c\n",
    "%run gcc article_example.c -o article_example.exe\n",
    "%run ./article_example.exe\n",
    "\n",
    "#include <stdio.h>\n",
    "#include <stdlib.h>\n",
    "\n",
    "void preinit(int argc, char **argv, char **envp) {\n",
    "    printf(\"%s\\n\", __FUNCTION__);\n",
    "}\n",
    "\n",
    "void init(int argc, char **argv, char **envp) {\n",
    "    printf(\"%s\\n\", __FUNCTION__);\n",
    "}\n",
    "\n",
    "void fini() {\n",
    "    printf(\"%s\\n\", __FUNCTION__);\n",
    "}\n",
    "\n",
    "__attribute__((section(\".init_array\"))) typeof(init) *__init = init;\n",
    "__attribute__((section(\".preinit_array\"))) typeof(preinit) *__preinit = preinit;\n",
    "__attribute__((section(\".fini_array\"))) typeof(fini) *__fini = fini;\n",
    "\n",
    "void  __attribute__ ((constructor)) constructor() {\n",
    "    printf(\"%s\\n\", __FUNCTION__);\n",
    "}\n",
    "\n",
    "void __attribute__ ((destructor)) destructor() {\n",
    "    printf(\"%s\\n\", __FUNCTION__);\n",
    "}\n",
    "\n",
    "void my_atexit() {\n",
    "    printf(\"%s\\n\", __FUNCTION__);\n",
    "}\n",
    "\n",
    "void my_atexit2() {\n",
    "    printf(\"%s\\n\", __FUNCTION__);\n",
    "}\n",
    "\n",
    "int main() {\n",
    "    printf(\"%s 1\\n\", __FUNCTION__);\n",
    "    atexit(my_atexit);\n",
    "    atexit(my_atexit2);\n",
    "    printf(\"%s 2\\n\", __FUNCTION__);\n",
    "}"
   ]
  },
  {
   "cell_type": "markdown",
   "metadata": {},
   "source": [
    "А вы думали программы без `main` не бывает?\n",
    "\n",
    "`sudo apt-get install libc6-dev-amd64` - надо установить, чтобы `sys/syscall.h` нашелся. "
   ]
  },
  {
   "cell_type": "code",
   "execution_count": 73,
   "metadata": {},
   "outputs": [
    {
     "data": {
      "text/markdown": [
       "Run: `gcc -std=gnu11 -m32 -masm=intel -nostdlib -O3 no_main_func.c -o no_main_func.exe`"
      ],
      "text/plain": [
       "<IPython.core.display.Markdown object>"
      ]
     },
     "metadata": {},
     "output_type": "display_data"
    },
    {
     "data": {
      "text/markdown": [
       "Run: `./no_main_func.exe`"
      ],
      "text/plain": [
       "<IPython.core.display.Markdown object>"
      ]
     },
     "metadata": {},
     "output_type": "display_data"
    },
    {
     "name": "stdout",
     "output_type": "stream",
     "text": [
      "Hello world from 'syscall'!\r\n"
     ]
    }
   ],
   "source": [
    "%%cpp no_main_func.c\n",
    "%run gcc -std=gnu11 -m32 -masm=intel -nostdlib -O3 no_main_func.c -o no_main_func.exe\n",
    "%run ./no_main_func.exe\n",
    "\n",
    "#include <sys/syscall.h>\n",
    "\n",
    "    \n",
    "// Универсальная функция для совершения системных вызовов\n",
    "int syscall(int code, ...);\n",
    "__asm__(R\"(\n",
    "syscall:\n",
    "    push ebx\n",
    "    push ebp\n",
    "    push esi\n",
    "    push edi\n",
    "    mov eax, DWORD PTR [esp + 20] \n",
    "    mov ebx, DWORD PTR [esp + 24] \n",
    "    mov ecx, DWORD PTR [esp + 28] \n",
    "    mov edx, DWORD PTR [esp + 32]\n",
    "    mov esi, DWORD PTR [esp + 36]\n",
    "    mov edi, DWORD PTR [esp + 40]\n",
    "    int 0x80\n",
    "    pop edi\n",
    "    pop esi\n",
    "    pop ebp\n",
    "    pop ebx\n",
    "    ret\n",
    ")\");\n",
    "\n",
    "// запись строки в файловый дескриптор\n",
    "int print_s(int fd, const char* s) {\n",
    "    int len = 0;\n",
    "    while (s[len]) ++len;\n",
    "    return syscall(SYS_write, fd, s, len);\n",
    "}\n",
    "\n",
    "void _start() {\n",
    "    print_s(1, \"Hello world from 'syscall'!\\n\");\n",
    "    syscall(SYS_exit, 0);\n",
    "}"
   ]
  },
  {
   "cell_type": "code",
   "execution_count": null,
   "metadata": {},
   "outputs": [],
   "source": []
  },
  {
   "cell_type": "markdown",
   "metadata": {},
   "source": [
    "## <a name=\"macro\"></a> Дополнение: макросы в C/C++ </a>\n",
    "\n",
    "* Макросы это именно макросы, они ничего не знают про синтаксис С/С++"
   ]
  },
  {
   "cell_type": "code",
   "execution_count": 79,
   "metadata": {},
   "outputs": [
    {
     "data": {
      "text/markdown": [
       "Run: `gcc -E macro_example_0.c -o macro_example_E.c`"
      ],
      "text/plain": [
       "<IPython.core.display.Markdown object>"
      ]
     },
     "metadata": {},
     "output_type": "display_data"
    },
    {
     "data": {
      "text/markdown": [
       "Run: `cat macro_example_E.c`"
      ],
      "text/plain": [
       "<IPython.core.display.Markdown object>"
      ]
     },
     "metadata": {},
     "output_type": "display_data"
    },
    {
     "name": "stdout",
     "output_type": "stream",
     "text": [
      "# 1 \"macro_example_0.c\"\r\n",
      "# 1 \"<built-in>\"\r\n",
      "# 1 \"<command-line>\"\r\n",
      "# 31 \"<command-line>\"\r\n",
      "# 1 \"/usr/include/stdc-predef.h\" 1 3 4\r\n",
      "# 32 \"<command-line>\" 2\r\n",
      "# 1 \"macro_example_0.c\"\r\n",
      "\r\n",
      "\r\n",
      "\r\n",
      "\r\n",
      "\r\n",
      "\r\n",
      "\r\n",
      "Hello students!\r\n",
      "Good bye bad grades!\r\n"
     ]
    }
   ],
   "source": [
    "%%cpp macro_example_0.c\n",
    "%run gcc -E macro_example_0.c -o macro_example_0_E.c\n",
    "%run cat macro_example_0_E.c\n",
    "\n",
    "#define people students\n",
    "#define goodbye(x) Good bye x! \n",
    "\n",
    "Hello people!\n",
    "goodbye(bad grades)"
   ]
  },
  {
   "cell_type": "markdown",
   "metadata": {},
   "source": [
    "* Переменные в макросах это просто куски исходного текста\n",
    "* При передаче аргументов в макрос стоит помнить, что значение имеют только запятые `,` и скобки `()`"
   ]
  },
  {
   "cell_type": "code",
   "execution_count": 81,
   "metadata": {},
   "outputs": [
    {
     "data": {
      "text/markdown": [
       "Run: `gcc -E macro_example_0_2.c -o macro_example_0_2_E.c`"
      ],
      "text/plain": [
       "<IPython.core.display.Markdown object>"
      ]
     },
     "metadata": {},
     "output_type": "display_data"
    },
    {
     "name": "stdout",
     "output_type": "stream",
     "text": [
      "\u001b[01m\u001b[Kmacro_example_0_2.c:7:29:\u001b[m\u001b[K \u001b[01;31m\u001b[Kerror: \u001b[m\u001b[Kmacro \"macro\" passed 3 arguments, but takes just 2\r\n",
      "    7 | macro(std::pair<int, int>, a\u001b[01;31m\u001b[K)\u001b[m\u001b[K\r\n",
      "      |                             \u001b[01;31m\u001b[K^\u001b[m\u001b[K\r\n",
      "\u001b[01m\u001b[Kmacro_example_0_2.c:5:\u001b[m\u001b[K \u001b[01;36m\u001b[Knote: \u001b[m\u001b[Kmacro \"macro\" defined here\r\n",
      "    5 | #define macro(type, var) type var;\r\n",
      "      | \r\n"
     ]
    },
    {
     "data": {
      "text/markdown": [
       "Run: `cat macro_example_0_2_E.c`"
      ],
      "text/plain": [
       "<IPython.core.display.Markdown object>"
      ]
     },
     "metadata": {},
     "output_type": "display_data"
    },
    {
     "name": "stdout",
     "output_type": "stream",
     "text": [
      "cat: macro_example_0_2_E.c: No such file or directory\r\n"
     ]
    }
   ],
   "source": [
    "%%cpp macro_example_0_2.c\n",
    "%run gcc -E macro_example_0_2.c -o macro_example_0_2_E.c\n",
    "%run cat macro_example_0_2_E.c\n",
    "\n",
    "#define macro(type, var) type var;\n",
    "\n",
    "macro(std::pair<int, int>, a)"
   ]
  },
  {
   "cell_type": "markdown",
   "metadata": {},
   "source": [
    "Больше примеров"
   ]
  },
  {
   "cell_type": "code",
   "execution_count": 75,
   "metadata": {},
   "outputs": [
    {
     "data": {
      "text/markdown": [
       "Run: `gcc macro_example.c -o macro_example.exe`"
      ],
      "text/plain": [
       "<IPython.core.display.Markdown object>"
      ]
     },
     "metadata": {},
     "output_type": "display_data"
    },
    {
     "data": {
      "text/markdown": [
       "Run: `./macro_example.exe`"
      ],
      "text/plain": [
       "<IPython.core.display.Markdown object>"
      ]
     },
     "metadata": {},
     "output_type": "display_data"
    },
    {
     "name": "stdout",
     "output_type": "stream",
     "text": [
      "START\r\n",
      "CONST_A 123\r\n",
      "mult(4, 6) = 24\r\n",
      "mult_bad(4, 6) = 11\r\n",
      "aba_x ? x = 42\r\n"
     ]
    },
    {
     "data": {
      "text/markdown": [
       "Run: `gcc -DDEBUG macro_example.c -o macro_example.exe`"
      ],
      "text/plain": [
       "<IPython.core.display.Markdown object>"
      ]
     },
     "metadata": {},
     "output_type": "display_data"
    },
    {
     "data": {
      "text/markdown": [
       "Run: `./macro_example.exe`"
      ],
      "text/plain": [
       "<IPython.core.display.Markdown object>"
      ]
     },
     "metadata": {},
     "output_type": "display_data"
    },
    {
     "name": "stdout",
     "output_type": "stream",
     "text": [
      "START\r\n",
      "Read from '001.txt'\r\n",
      "CONST_A 123\r\n",
      "mult(4, 6) = 24\r\n",
      "mult_bad(4, 6) = 11\r\n",
      "aba_x ? x = 42\r\n"
     ]
    }
   ],
   "source": [
    "%%cpp macro_example.c\n",
    "%run gcc macro_example.c -o macro_example.exe\n",
    "%run ./macro_example.exe\n",
    "%run gcc -DDEBUG macro_example.c -o macro_example.exe\n",
    "%run ./macro_example.exe\n",
    "\n",
    "#include <stdio.h>\n",
    "\n",
    "#define CONST_A 123\n",
    "\n",
    "#define mult(a, b) ((a) * (b))\n",
    "\n",
    "#define mult_bad(a, b) (a * b)\n",
    "\n",
    "// Склеивание имен\n",
    "#define add_prefix_aba_(w) aba_##w\n",
    "\n",
    "int main() {\n",
    "    printf(\"START\\n\");\n",
    "    #ifdef DEBUG\n",
    "        const char* file_name = \"001.txt\";\n",
    "        printf(\"Read from '%s'\\n\", file_name);\n",
    "        freopen(file_name, \"rt\", stdin);\n",
    "    #endif\n",
    "\n",
    "    printf(\"CONST_A %d\\n\", CONST_A);\n",
    "    printf(\"mult(4, 6) = %d\\n\", mult(2 + 2, 3 + 3));\n",
    "    printf(\"mult_bad(4, 6) = %d\\n\", mult_bad(2 + 2, 3 + 3));\n",
    "\n",
    "    int aba_x = 42;\n",
    "    int x = 420;\n",
    "    printf(\"aba_x ? x = %d\\n\", add_prefix_aba_(x));\n",
    "\n",
    "    return 0;\n",
    "}"
   ]
  },
  {
   "cell_type": "markdown",
   "metadata": {},
   "source": [
    "И полезных примеров:"
   ]
  },
  {
   "cell_type": "code",
   "execution_count": 82,
   "metadata": {},
   "outputs": [
    {
     "data": {
      "text/markdown": [
       "Run: `gcc macro_example_2.c -o macro_example_2.exe`"
      ],
      "text/plain": [
       "<IPython.core.display.Markdown object>"
      ]
     },
     "metadata": {},
     "output_type": "display_data"
    },
    {
     "data": {
      "text/markdown": [
       "Run: `./macro_example_2.exe`"
      ],
      "text/plain": [
       "<IPython.core.display.Markdown object>"
      ]
     },
     "metadata": {},
     "output_type": "display_data"
    },
    {
     "name": "stdout",
     "output_type": "stream",
     "text": [
      "9 * 9 + 1 = 82\r\n",
      "It is in stderr: 431\r\n",
      "sum(1, 1) = 2\r\n",
      "sum(1, 1, 1) = 3\r\n"
     ]
    }
   ],
   "source": [
    "%%cpp macro_example_2.c\n",
    "%run gcc macro_example_2.c -o macro_example_2.exe\n",
    "%run ./macro_example_2.exe\n",
    "\n",
    "#include <stdio.h>\n",
    "\n",
    "// #VAR_NAME разворачивается в строковый литерал \"VAR_NAME\"\n",
    "#define print_int(i) printf(#i \" = %d\\n\", (i));\n",
    "\n",
    "// Полезный макрос для вывода в поток ошибок\n",
    "#define eprintf(...) fprintf(stderr, __VA_ARGS__)\n",
    "\n",
    "// Способ сделать макрос с переменным числом аргументов\n",
    "// И это единственный способ \"перегрузить функцию в С\"\n",
    "#define sum_2(a, b, c) ((a) + (b))\n",
    "#define sum_3(a, b, c) ((a) + (b) + (c))\n",
    "\n",
    "#define sum_impl(a, b, c, sum_func, ...) sum_func(a, b, c)\n",
    "\n",
    "#define sum(...) sum_impl(__VA_ARGS__, sum_3, sum_2)\n",
    "\n",
    "\n",
    "int main() {\n",
    "    print_int(9 * 9 + 1);\n",
    "\n",
    "    eprintf(\"It is in stderr: %d\\n\", 431);\n",
    "\n",
    "    print_int(sum(1, 1));\n",
    "    print_int(sum(1, 1, 1));\n",
    "\n",
    "    return 0;\n",
    "}"
   ]
  },
  {
   "cell_type": "code",
   "execution_count": null,
   "metadata": {},
   "outputs": [],
   "source": []
  },
  {
   "cell_type": "code",
   "execution_count": null,
   "metadata": {},
   "outputs": [],
   "source": []
  },
  {
   "cell_type": "code",
   "execution_count": null,
   "metadata": {},
   "outputs": [],
   "source": []
  },
  {
   "cell_type": "code",
   "execution_count": null,
   "metadata": {},
   "outputs": [],
   "source": []
  },
  {
   "cell_type": "code",
   "execution_count": null,
   "metadata": {},
   "outputs": [],
   "source": []
  }
 ],
 "metadata": {
  "kernelspec": {
   "display_name": "Python 3",
   "language": "python",
   "name": "python3"
  },
  "language_info": {
   "codemirror_mode": {
    "name": "ipython",
    "version": 3
   },
   "file_extension": ".py",
   "mimetype": "text/x-python",
   "name": "python",
   "nbconvert_exporter": "python",
   "pygments_lexer": "ipython3",
   "version": "3.8.2"
  }
 },
 "nbformat": 4,
 "nbformat_minor": 2
}
